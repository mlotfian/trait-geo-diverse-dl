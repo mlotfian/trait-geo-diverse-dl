{
 "cells": [
  {
   "cell_type": "markdown",
   "metadata": {},
   "source": [
    "#### Setup"
   ]
  },
  {
   "cell_type": "code",
   "execution_count": null,
   "metadata": {},
   "outputs": [],
   "source": [
    "from IPython.core.interactiveshell import InteractiveShell\n",
    "InteractiveShell.ast_node_interactivity = \"all\""
   ]
  },
  {
   "cell_type": "code",
   "execution_count": null,
   "metadata": {},
   "outputs": [],
   "source": [
    "from shapely.geometry import Point\n",
    "import matplotlib.pyplot as plt\n",
    "from rasterio.mask import mask\n",
    "from rasterio.plot import show\n",
    "from rasterio.plot import plotting_extent\n",
    "from natsort import natsorted\n",
    "import numpy as np\n",
    "import earthpy.spatial as es\n",
    "import pandas as pd\n",
    "import geopandas\n",
    "import rasterio\n",
    "import pycrs\n",
    "import os\n",
    "\n",
    "file_dir=r'C:/Users/Mark.Rademaker/PycharmProjects/InternshipNaturalis/trait-geo-diverse-dl/pilot'"
   ]
  },
  {
   "cell_type": "markdown",
   "metadata": {},
   "source": [
    "#### Read in environmental data\n",
    "-read in the ENVIREM and BIOCLIM raster files containing the environmental data<br>\n",
    "-inspect the raster files <br>"
   ]
  },
  {
   "cell_type": "code",
   "execution_count": null,
   "metadata": {},
   "outputs": [],
   "source": [
    "###Read in and inspect raster layers\n",
    "\n",
    "#ENVIREM dataset\n",
    "#create list of raster file locations and a list containing only the names of each raster\n",
    "list_envirem_files=[]\n",
    "names_envirem=[]\n",
    "\n",
    "for root, dirs, files in os.walk(file_dir+\"/data/GIS/5_deg\"):\n",
    "    for file in files:\n",
    "        if file.endswith('.tif'):\n",
    "            list_envirem_files.append(file_dir+\"/data/GIS/5_deg/\"+file)\n",
    "            name=file.replace(\".tif\",\"\")\n",
    "            names_envirem.append(name)\n",
    "            names_envirem=natsorted(names_envirem,key=lambda y: y.lower())\n",
    "            \n",
    "#read in the raster layers and print maps for inspection\n",
    "#for name in names_envirem:\n",
    " #   raster=rasterio.open(file_dir+\"/data/GIS/5_deg/\"+name+\".tif\")\n",
    "    #print(raster.meta) inspect meta information\n",
    "  #  show(raster,title=\"ENVIREM %s\"%name)\n",
    "    \n",
    "#BIOCLIM dataset\n",
    "#create list of raster file locations and a list containing only the names of each raster\n",
    "list_bioclim_files=[]\n",
    "names_bioclim=[]\n",
    "\n",
    "for root, dirs, files in os.walk(file_dir+\"/data/GIS/wc5\"):\n",
    "    for file in files:\n",
    "        if file.endswith('.tif'):\n",
    "            list_bioclim_files.append(file_dir+\"/data/GIS/wc5/\"+file)\n",
    "            name=file.replace(\".tif\",\"\")\n",
    "            names_bioclim.append(name)\n",
    "            names_bioclim=natsorted(names_bioclim,key=lambda y: y.lower())\n",
    "\n",
    "\n",
    "#read in the raster layers and print maps for inspection\n",
    "#for name in names_bioclim:\n",
    " #   raster=rasterio.open(file_dir+\"/data/GIS/wc5/\"+name+\".tif\") \n",
    "    #print(raster.meta) inspect meta information\n",
    "  #  show(raster, title=\"Bioclim %s\"%name)"
   ]
  },
  {
   "cell_type": "code",
   "execution_count": null,
   "metadata": {},
   "outputs": [],
   "source": [
    "for file in list_bioclim_files:\n",
    "    file=file.replace(\".tif\",\"_2.tif\")\n",
    "    with rasterio.open(file) as raster:\n",
    "        band=raster.read(1)\n",
    "        minb=np.min(band)\n",
    "        minb\n",
    "        raster.profile"
   ]
  },
  {
   "cell_type": "markdown",
   "metadata": {},
   "source": [
    "#### Stack the raster files\n",
    "The raster files can now be stacked to create a single raster file. <br> The output files (as well as the clipped outputs later) will be too large to store on github. Therefore they are stored in a different path"
   ]
  },
  {
   "cell_type": "code",
   "execution_count": null,
   "metadata": {},
   "outputs": [],
   "source": [
    "###Stack raster layers into single dataset\n",
    "\n",
    "#Stack ENVIREM dataset\n",
    "es.stack(list_envirem_files, file_dir+'/data/GIS/env_stacked/ENVIREM_stacked.tif')\n",
    "#these stacked files are too large to put on github, so save them to another directory\n",
    "\n",
    "#Stack BIOCLIM dataset\n",
    "es.stack(list_bioclim_files, file_dir+'/data/GIS/env_stacked/BIOCLIM_stacked.tif')\n",
    "#these stacked files are too large to put on github, so save them to another directory\n",
    "\n",
    "#Stack ENVIREM+BIOCLIM dataset\n",
    "list_envirem_bioclim_files=[]\n",
    "for item in list_envirem_files:\n",
    "    list_envirem_bioclim_files.append(item)\n",
    "for item in list_bioclim_files:\n",
    "    list_envirem_bioclim_files.append(item)\n",
    "\n",
    "names_envirem_bioclim=[]\n",
    "for item in names_envirem:\n",
    "    names_envirem_bioclim.append(item)\n",
    "for item in names_bioclim:\n",
    "    names_envirem_bioclim.append(item)\n",
    "\n",
    "#save the names of the variables in order to list\n",
    "with open(file_dir+'/data/GIS/env_stacked/variable_list.txt', 'w') as f:\n",
    "    for item in names_envirem_bioclim:\n",
    "        f.write(\"%s\\n\" % item)\n",
    "        \n",
    "        \n",
    "es.stack(list_envirem_bioclim_files, file_dir+'/data/GIS/env_stacked/ENVIREM_BIOCLIM_stacked.tif')\n",
    "#these stacked files are too large to put on github, so put them in gitignore\n"
   ]
  },
  {
   "cell_type": "markdown",
   "metadata": {},
   "source": [
    "####  Extracting areas of interest from the raster maps based on occurrence data <br>\n",
    "- first create a dictionary containing the species occurrences\n",
    "- Then make a function creating a 1000km square buffer around each occurence point for each species<br>\n",
    "- Afterwards clip the raster file to this buffer extend <br>\n",
    "- And inspect the output"
   ]
  },
  {
   "cell_type": "code",
   "execution_count": null,
   "metadata": {},
   "outputs": [],
   "source": [
    "#access file with list of taxa names\n",
    "taxa=pd.read_csv(file_dir+\"/data/spec_filtered/taxa.txt\",header=None)\n",
    "taxa.columns=[\"taxon\"]"
   ]
  },
  {
   "cell_type": "code",
   "execution_count": null,
   "metadata": {},
   "outputs": [],
   "source": [
    "#Create dictionary\n",
    "species_occ_dict={}\n",
    "\n",
    "for i in taxa[\"taxon\"]:\n",
    "    taxon_data = pd.read_csv(file_dir+\"/data/spec_filtered/%s.csv\"%i)\n",
    "    #add species dataframe to dict\n",
    "    species_occ_dict[\"%s\"%i] = taxon_data  \n",
    "    #check whether all species have been included and inspect dictionary\n",
    "if len(species_occ_dict.keys())==len(taxa[\"taxon\"]):\n",
    "    print(\"All species dataframes now in dictionary\")\n",
    "else:\n",
    "    print(\"Error: not all species dataframe included\")"
   ]
  },
  {
   "cell_type": "code",
   "execution_count": null,
   "metadata": {},
   "outputs": [],
   "source": [
    "#Create environmental raster clip for each species\n",
    "for key in species_occ_dict:    \n",
    "    #load occurrence data and set initial projection\n",
    "    data=species_occ_dict[key]\n",
    "    spec = data[\"taxon_name\"][0]\n",
    "    spec = spec.replace(\" \",\"_\")\n",
    "    data['coordinates'] = list(zip(data[\"decimal_longitude\"], data[\"decimal_latitude\"]))\n",
    "    data['coordinates'] = data[\"coordinates\"].apply(Point)\n",
    "    geo_data=geopandas.GeoDataFrame(data, geometry='coordinates',crs={'init' :'epsg:4326'})\n",
    "    \n",
    "    #change projection to azimuthal equidistant to calculate 1000km buffer around point\n",
    "    geo_data = geo_data.to_crs({'init': 'esri:54032'}) \n",
    "    buffer=geo_data.buffer(1000*1000)\n",
    "    buffer=buffer.to_crs(epsg=4326)\n",
    "    \n",
    "    #create single large polygon from individual buffers\n",
    "    union_buffer=buffer.unary_union\n",
    "    \n",
    "    #open raster map to be clipped to polygon extent\n",
    "    raster=rasterio.open(file_dir+'/data/GIS/env_stacked/ENVIREM_BIOCLIM_stacked.tif')\n",
    "    #show(raster)\n",
    "\n",
    "    #specify output tif:\n",
    "    out_tif = file_dir+'/data/GIS/spec_stacked_raster_clip/%s_raster_clip.tif'%spec\n",
    "\n",
    "    #clip the raster:\n",
    "    out_img, out_transform = mask(dataset=raster, shapes=[union_buffer],crop=True)\n",
    "\n",
    "    # Copy the metadata\n",
    "    out_meta = raster.meta.copy()\n",
    "\n",
    "    # Parse EPSG code\n",
    "    epsg_code = int(raster.crs.data['init'][5:])\n",
    "    out_meta.update({\"driver\": \"GTiff\",\n",
    "                 \"height\": out_img.shape[1],\n",
    "                 \"width\": out_img.shape[2],\n",
    "                 \"transform\": out_transform,\n",
    "                 \"crs\": pycrs.parse.from_epsg_code(epsg_code).to_proj4()})\n",
    "    #save the clipped raster\n",
    "    with rasterio.open(out_tif, \"w\", **out_meta) as dest:\n",
    "        dest.write(out_img)\n",
    "    print(\"species %s processed\"%spec)"
   ]
  },
  {
   "cell_type": "markdown",
   "metadata": {},
   "source": [
    "Inspect the first band of the clipped raster for all species"
   ]
  },
  {
   "cell_type": "code",
   "execution_count": null,
   "metadata": {},
   "outputs": [],
   "source": [
    "#Inspect the first band of the clipped raster for all species\n",
    "for key in species_occ_dict:\n",
    "    ##### Extract occurrence point to plot on the raster (see if correct area was clipped)\n",
    "    data=species_occ_dict[key]\n",
    "    spec = data[\"taxon_name\"][0]\n",
    "    spec = spec.replace(\" \",\"_\")\n",
    "    data['coordinates'] = list(zip(data[\"decimal_longitude\"], data[\"decimal_latitude\"]))\n",
    "    data['coordinates'] = data[\"coordinates\"].apply(Point)\n",
    "    geo_data=geopandas.GeoDataFrame(data, geometry='coordinates',crs={'init' :'epsg:4326'})\n",
    "    ####open the clipped raster\n",
    "    clipped = rasterio.open(file_dir+'/data/GIS/spec_stacked_raster_clip/%s_raster_clip.tif'%spec)\n",
    "    array = clipped.read(1)\n",
    "    array_data = clipped.read(1,masked=True)\n",
    "    array_meta = clipped.profile\n",
    "   \n",
    "    fig, ax = plt.subplots(figsize=(10, 10))\n",
    "    ax.imshow(array_data,cmap=\"gray\",interpolation=\"none\",vmin=0,\n",
    "    # Here you must set the spatial extent or else the data will not line up with your geopandas layer\n",
    "    extent=plotting_extent(clipped),)\n",
    "    spec_plots_points=geo_data[\"coordinates\"]\n",
    "    spec_plots_points.plot(ax=ax,\n",
    "                       marker='o',\n",
    "                       markersize=20,\n",
    "                       color='orange')\n",
    "    ax.set_title(\"%s \\n Raster clip and occurrence points\"%spec,\n",
    "             fontsize=20)\n",
    "    plt.show()\n",
    "#Works!"
   ]
  },
  {
   "cell_type": "markdown",
   "metadata": {},
   "source": [
    "Inspect all 41 bands for a single species"
   ]
  },
  {
   "cell_type": "code",
   "execution_count": null,
   "metadata": {},
   "outputs": [],
   "source": [
    "#Inspect all bands of the clipped raster for a single species\n",
    "data=species_occ_dict[\"Alcelaphus_buselaphus\"]\n",
    "spec = data[\"taxon_name\"][0]\n",
    "spec =spec.replace(\" \",\"_\")\n",
    "clipped = rasterio.open(file_dir+\"/data/GIS/spec_stacked_raster_clip/%s_raster_clip.tif\"%spec)\n",
    "for i in range(1,42):\n",
    "    array = clipped.read(i)\n",
    "    plt.imshow(array,interpolation='none', vmin=0)\n",
    "    plt.show()\n",
    "#Works!"
   ]
  }
 ],
 "metadata": {
  "kernelspec": {
   "display_name": "Python 3",
   "language": "python",
   "name": "python3"
  },
  "language_info": {
   "codemirror_mode": {
    "name": "ipython",
    "version": 3
   },
   "file_extension": ".py",
   "mimetype": "text/x-python",
   "name": "python",
   "nbconvert_exporter": "python",
   "pygments_lexer": "ipython3",
   "version": "3.6.1"
  }
 },
 "nbformat": 4,
 "nbformat_minor": 2
}
