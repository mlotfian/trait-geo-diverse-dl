{
 "cells": [
  {
   "cell_type": "markdown",
   "metadata": {},
   "source": [
    "#### Setup \n",
    "- Import required packages and set the file directory"
   ]
  },
  {
   "cell_type": "code",
   "execution_count": null,
   "metadata": {},
   "outputs": [],
   "source": [
    "from IPython.core.interactiveshell import InteractiveShell\n",
    "InteractiveShell.ast_node_interactivity = \"all\"\n",
    "\n",
    "from mpl_toolkits.basemap import Basemap\n",
    "from shapely.geometry import Point\n",
    "import matplotlib.pyplot as plt\n",
    "import pandas as pd\n",
    "import geopandas\n",
    "import pyproj\n",
    "\n",
    "\n",
    "file_dir=r'C:/Users/Mark.Rademaker/PycharmProjects/InternshipNaturalis/trait-geo-diverse-dl/pilot'"
   ]
  },
  {
   "cell_type": "markdown",
   "metadata": {},
   "source": [
    "#### Read in species data\n",
    "\n",
    "- First read in a text file containing the names of all the taxa included in the modelling <br>\n",
    "- Then create an empty dictionary <br>\n",
    "- Load in the csv files containing the species occurrence points <br>\n",
    "- Store them in the dictionary\n"
   ]
  },
  {
   "cell_type": "code",
   "execution_count": null,
   "metadata": {},
   "outputs": [],
   "source": [
    "#access file with list of taxa names\n",
    "taxa=pd.read_csv(file_dir+\"/data/spec_filtered/taxa.txt\",header=None)\n",
    "taxa.columns=[\"taxon\"]"
   ]
  },
  {
   "cell_type": "code",
   "execution_count": null,
   "metadata": {},
   "outputs": [],
   "source": [
    "species_occ_dict={}\n",
    "\n",
    "for i in taxa[\"taxon\"]:\n",
    "    taxon_data = pd.read_csv(file_dir+\"/data/spec_filtered/%s.csv\"%i)\n",
    "    #add species dataframe to dict\n",
    "    species_occ_dict[\"%s\"%i] = taxon_data  \n",
    "    #check whether all species have been included and inspect dictionary\n",
    "if len(species_occ_dict.keys())==len(taxa[\"taxon\"]):\n",
    "    print(\"All species dataframes now in dictionary\")\n",
    "else:\n",
    "    print(\"Error: not all species dataframe included\")"
   ]
  },
  {
   "cell_type": "markdown",
   "metadata": {},
   "source": [
    "#### Plot species occurrence points\n",
    "- Create a basemap <br>\n",
    "- Plot the points on the basemap and export it"
   ]
  },
  {
   "cell_type": "code",
   "execution_count": null,
   "metadata": {},
   "outputs": [],
   "source": [
    "%%capture\n",
    "for key in species_occ_dict:\n",
    "    data = species_occ_dict[key]\n",
    "    spec = data[\"taxon_name\"][0]\n",
    "    spec=spec.replace(\" \",\"_\")\n",
    "    #lat = data[\"decimal_latitude\"]\n",
    "    #lon = data[\"decimal_longitude\"]\n",
    "     \n",
    "    data['coordinates'] = list(zip(data[\"decimal_longitude\"], data[\"decimal_latitude\"]))\n",
    "    data['coordinates'] = data[\"coordinates\"].apply(Point)\n",
    "    data[\"present/pseudo_absent\"]=1\n",
    "    geo_data=geopandas.GeoDataFrame(data, geometry='coordinates',crs={'init' :'epsg:4326'})\n",
    "    \n",
    "    lat=data[\"decimal_latitude\"]\n",
    "    lon=data[\"decimal_longitude\"]\n",
    "    meanlat=sum(lat)/len(lat)\n",
    "    meanlon=sum(lon)/len(lon)\n",
    "       \n",
    "    #change projection to azimuthal equidistant to be able to plot  points on aeqd map\n",
    "    geo_data = geo_data.to_crs({'init': 'esri:54032'}) \n",
    "    \n",
    "    fig=plt.figure(figsize=(12, 12))\n",
    "    map = Basemap(projection=\"aeqd\",resolution=\"l\", ellps=\"WGS84\",\n",
    "        lat_0=meanlat,lon_0=meanlon,\n",
    "        width=3000*2500,height=3000*2500,\n",
    "        suppress_ticks=False,)\n",
    "    \n",
    "    map.drawmapboundary(fill_color='white')\n",
    "    map.fillcontinents(color='lightgray',lake_color='white')\n",
    "    map.drawcountries(color=\"gray\")\n",
    "    map.drawcoastlines(linewidth=0.2)\n",
    "\n",
    "    for i in range(0,len(lon)):\n",
    "        xpt,ypt = map(lon[i],lat[i])\n",
    "        map.plot([xpt],[ypt],\"ko\",markersize=5,color=\"yellow\",markeredgecolor=\"black\")\n",
    "    speci=spec.replace(\"_\",\" \")\n",
    "    plt.title(\"Filtered occurrences for %s\"%speci,fontsize=20,fontweight=\"bold\")\n",
    "    plt.savefig(file_dir+'/results/{}/{}_occurrence_map.png'.format(spec,spec),pad_inches=0.0, bbox_inches='tight')\n",
    "    plt.show()\n",
    "    plt.close()"
   ]
  },
  {
   "cell_type": "code",
   "execution_count": null,
   "metadata": {},
   "outputs": [],
   "source": []
  }
 ],
 "metadata": {
  "kernelspec": {
   "display_name": "Python 3",
   "language": "python",
   "name": "python3"
  },
  "language_info": {
   "codemirror_mode": {
    "name": "ipython",
    "version": 3
   },
   "file_extension": ".py",
   "mimetype": "text/x-python",
   "name": "python",
   "nbconvert_exporter": "python",
   "pygments_lexer": "ipython3",
   "version": "3.6.1"
  }
 },
 "nbformat": 4,
 "nbformat_minor": 2
}
