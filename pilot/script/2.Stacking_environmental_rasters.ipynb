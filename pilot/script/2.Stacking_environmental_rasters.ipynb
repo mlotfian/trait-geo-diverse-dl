{
 "cells": [
  {
   "cell_type": "markdown",
   "metadata": {},
   "source": [
    "#### Setup\n",
    "We first set the notebook to display the output from each code block, <br>\n",
    "then import the required packages and set the file directory"
   ]
  },
  {
   "cell_type": "code",
   "execution_count": null,
   "metadata": {},
   "outputs": [],
   "source": [
    "from IPython.core.interactiveshell import InteractiveShell\n",
    "InteractiveShell.ast_node_interactivity = \"all\"\n",
    "\n",
    "from shapely.geometry import Point\n",
    "import matplotlib.pyplot as plt\n",
    "from rasterio.mask import mask\n",
    "from rasterio.plot import show\n",
    "from rasterio.plot import plotting_extent\n",
    "from natsort import natsorted\n",
    "import earthpy.spatial as es\n",
    "import pandas as pd\n",
    "import geopandas\n",
    "import rasterio\n",
    "import pycrs\n",
    "import os\n",
    "\n",
    "file_dir=r'C:/Users/Mark.Rademaker/PycharmProjects/InternshipNaturalis/trait-geo-diverse-dl/pilot'"
   ]
  },
  {
   "cell_type": "markdown",
   "metadata": {},
   "source": [
    "#### Read in environmental data\n",
    "Next the environmental variable rasters are read in and their locations are saved in a list \n",
    "for stacking."
   ]
  },
  {
   "cell_type": "code",
   "execution_count": null,
   "metadata": {},
   "outputs": [],
   "source": [
    "#ENVIREM dataset\n",
    "#create list of raster file locations and a list containing only the names of each raster\n",
    "list_envirem_files=[]\n",
    "names_envirem=[]\n",
    "\n",
    "#add files to these lists\n",
    "for root, dirs, files in os.walk(file_dir+\"/data/GIS/5_deg\"):\n",
    "    for file in files:\n",
    "        if file.endswith('.tif'):\n",
    "            list_envirem_files.append(file_dir+\"/data/GIS/5_deg/\"+file)\n",
    "            name=file.replace(\".tif\",\"\")\n",
    "            names_envirem.append(name)\n",
    "            names_envirem=natsorted(names_envirem,key=lambda y: y.lower())\n",
    "            \n",
    "    \n",
    "#BIOCLIM dataset\n",
    "#create list of raster file locations and a list containing only the names of each raster\n",
    "list_bioclim_files=[]\n",
    "names_bioclim=[]\n",
    "\n",
    "for root, dirs, files in os.walk(file_dir+\"/data/GIS/wc5\"):\n",
    "    for file in files:\n",
    "        if file.endswith('.tif'):\n",
    "            list_bioclim_files.append(file_dir+\"/data/GIS/wc5/\"+file)\n",
    "            name=file.replace(\".tif\",\"\")\n",
    "            names_bioclim.append(name)\n",
    "            names_bioclim=natsorted(names_bioclim,key=lambda y: y.lower())\n"
   ]
  },
  {
   "cell_type": "code",
   "execution_count": null,
   "metadata": {},
   "outputs": [],
   "source": [
    "#Inspect the raster maps\n",
    "for name in names_envirem:\n",
    "    raster=rasterio.open(file_dir+\"/data/GIS/5_deg/\"+name+\".tif\")\n",
    "    print(raster.meta) #inspect meta information\n",
    "    show(raster,title=\"ENVIREM %s\"%name)\n",
    "    \n",
    "for name in names_bioclim:\n",
    "    raster=rasterio.open(file_dir+\"/data/GIS/wc5/\"+name+\".tif\") \n",
    "    print(raster.meta) #inspect meta information\n",
    "    show(raster, title=\"Bioclim %s\"%name)"
   ]
  },
  {
   "cell_type": "markdown",
   "metadata": {},
   "source": [
    "#### Stack the raster files\n",
    "The raster files can now be stacked to create a single raster file. The names of the variables are stored in a separate text file. <br> \n",
    "The output files (as well as the clipped outputs later) will be too large to store on github. Therefore they are stored in a different path."
   ]
  },
  {
   "cell_type": "code",
   "execution_count": null,
   "metadata": {},
   "outputs": [],
   "source": [
    "#ENVIREM+BIOCLIM dataset\n",
    "list_envirem_bioclim_files=[]\n",
    "for item in list_envirem_files:\n",
    "    list_envirem_bioclim_files.append(item)\n",
    "for item in list_bioclim_files:\n",
    "    list_envirem_bioclim_files.append(item)\n",
    "\n",
    "names_envirem_bioclim=[]\n",
    "for item in names_envirem:\n",
    "    names_envirem_bioclim.append(item)\n",
    "for item in names_bioclim:\n",
    "    names_envirem_bioclim.append(item)\n",
    "    \n",
    "#save the names of the variables in order to list\n",
    "with open(file_dir+'/data/GIS/env_stacked/variable_list.txt', 'w') as f:\n",
    "    for item in names_envirem_bioclim:\n",
    "        f.write(\"%s\\n\" % item)      \n",
    "        \n",
    "es.stack(list_envirem_bioclim_files, file_dir+'/data/GIS/env_stacked/ENVIREM_BIOCLIM_stacked.tif')\n",
    "#this stacked file is too large to put on github, so put them in gitignore"
   ]
  }
 ],
 "metadata": {
  "kernelspec": {
   "display_name": "Python 3",
   "language": "python",
   "name": "python3"
  },
  "language_info": {
   "codemirror_mode": {
    "name": "ipython",
    "version": 3
   },
   "file_extension": ".py",
   "mimetype": "text/x-python",
   "name": "python",
   "nbconvert_exporter": "python",
   "pygments_lexer": "ipython3",
   "version": "3.6.1"
  }
 },
 "nbformat": 4,
 "nbformat_minor": 2
}
