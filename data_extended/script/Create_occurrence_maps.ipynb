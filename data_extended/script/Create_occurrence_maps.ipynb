{
 "cells": [
  {
   "cell_type": "markdown",
   "metadata": {},
   "source": [
    "#### Setup \n",
    "- Import required packages and set the file directory"
   ]
  },
  {
   "cell_type": "code",
   "execution_count": 1,
   "metadata": {},
   "outputs": [],
   "source": [
    "from IPython.core.interactiveshell import InteractiveShell\n",
    "InteractiveShell.ast_node_interactivity = \"all\"\n",
    "\n",
    "from mpl_toolkits.basemap import Basemap\n",
    "from shapely.geometry import Point\n",
    "import matplotlib.pyplot as plt\n",
    "import pandas as pd\n",
    "import geopandas\n",
    "import pyproj\n",
    "\n",
    "\n",
    "file_dir=r'C:/Users/Mark.Rademaker/PycharmProjects/InternshipNaturalis/trait-geo-diverse-dl/data_extended'"
   ]
  },
  {
   "cell_type": "markdown",
   "metadata": {},
   "source": [
    "#### Read in species data\n",
    "\n",
    "- First read in a text file containing the names of all the taxa included in the modelling <br>\n",
    "- Then create an empty dictionary <br>\n",
    "- Load in the csv files containing the species occurrence points <br>\n",
    "- Store them in the dictionary\n"
   ]
  },
  {
   "cell_type": "code",
   "execution_count": 2,
   "metadata": {},
   "outputs": [],
   "source": [
    "#access file with list of taxa names\n",
    "taxa=pd.read_csv(file_dir+\"/data/SQL_filtered_gbif/taxa_list.txt\",header=None)\n",
    "taxa.columns=[\"taxon\"]"
   ]
  },
  {
   "cell_type": "code",
   "execution_count": 3,
   "metadata": {},
   "outputs": [
    {
     "name": "stdout",
     "output_type": "stream",
     "text": [
      "All species dataframes now in dictionary\n"
     ]
    }
   ],
   "source": [
    "species_occ_dict={}\n",
    "\n",
    "for i in taxa[\"taxon\"]:\n",
    "    taxon_data = pd.read_csv(file_dir+\"/data/SQL_filtered_gbif/%s_filtered_data.csv\"%i)\n",
    "    #add species dataframe to dict\n",
    "    species_occ_dict[\"%s\"%i] = taxon_data  \n",
    "    #check whether all species have been included and inspect dictionary\n",
    "if len(species_occ_dict.keys())==len(taxa[\"taxon\"]):\n",
    "    print(\"All species dataframes now in dictionary\")\n",
    "else:\n",
    "    print(\"Error: not all species dataframe included\")"
   ]
  },
  {
   "cell_type": "markdown",
   "metadata": {},
   "source": [
    "#### Plot species occurrence points\n",
    "- Create a basemap <br>\n",
    "- Plot the points on the basemap and export it"
   ]
  },
  {
   "cell_type": "code",
   "execution_count": 8,
   "metadata": {},
   "outputs": [
    {
     "data": {
      "text/plain": [
       "<matplotlib.patches.Rectangle at 0x1cb36f628d0>"
      ]
     },
     "execution_count": 8,
     "metadata": {},
     "output_type": "execute_result"
    },
    {
     "data": {
      "text/plain": [
       "[<matplotlib.patches.Polygon at 0x1cb39265e10>,\n",
       " <matplotlib.patches.Polygon at 0x1cb3926c0f0>,\n",
       " <matplotlib.patches.Polygon at 0x1cb3926c470>,\n",
       " <matplotlib.patches.Polygon at 0x1cb3926c710>,\n",
       " <matplotlib.patches.Polygon at 0x1cb3926c9b0>,\n",
       " <matplotlib.patches.Polygon at 0x1cb3926cc50>,\n",
       " <matplotlib.patches.Polygon at 0x1cb3926cef0>,\n",
       " <matplotlib.patches.Polygon at 0x1cb36ff61d0>,\n",
       " <matplotlib.patches.Polygon at 0x1cb36ff6470>,\n",
       " <matplotlib.patches.Polygon at 0x1cb36ff6710>,\n",
       " <matplotlib.patches.Polygon at 0x1cb36ff69b0>,\n",
       " <matplotlib.patches.Polygon at 0x1cb36ff6c50>,\n",
       " <matplotlib.patches.Polygon at 0x1cb36ff6ef0>,\n",
       " <matplotlib.patches.Polygon at 0x1cb370131d0>,\n",
       " <matplotlib.patches.Polygon at 0x1cb37013470>,\n",
       " <matplotlib.patches.Polygon at 0x1cb37013710>,\n",
       " <matplotlib.patches.Polygon at 0x1cb370139b0>,\n",
       " <matplotlib.patches.Polygon at 0x1cb37013c50>,\n",
       " <matplotlib.patches.Polygon at 0x1cb37013ef0>,\n",
       " <matplotlib.patches.Polygon at 0x1cb3a4091d0>,\n",
       " <matplotlib.patches.Polygon at 0x1cb3a409470>,\n",
       " <matplotlib.patches.Polygon at 0x1cb3a409710>,\n",
       " <matplotlib.patches.Polygon at 0x1cb3a4099b0>,\n",
       " <matplotlib.patches.Polygon at 0x1cb3a409c88>,\n",
       " <matplotlib.patches.Polygon at 0x1cb3a409ef0>,\n",
       " <matplotlib.patches.Polygon at 0x1cb3a41a1d0>,\n",
       " <matplotlib.patches.Polygon at 0x1cb3a41a470>,\n",
       " <matplotlib.patches.Polygon at 0x1cb3a41a710>,\n",
       " <matplotlib.patches.Polygon at 0x1cb3a41a9b0>,\n",
       " <matplotlib.patches.Polygon at 0x1cb3a41ac50>,\n",
       " <matplotlib.patches.Polygon at 0x1cb3a41aef0>,\n",
       " <matplotlib.patches.Polygon at 0x1cb392ab198>,\n",
       " <matplotlib.patches.Polygon at 0x1cb392ab438>,\n",
       " <matplotlib.patches.Polygon at 0x1cb392ab710>,\n",
       " <matplotlib.patches.Polygon at 0x1cb392ab978>,\n",
       " <matplotlib.patches.Polygon at 0x1cb392abc50>,\n",
       " <matplotlib.patches.Polygon at 0x1cb392abef0>,\n",
       " <matplotlib.patches.Polygon at 0x1cb392c2198>,\n",
       " <matplotlib.patches.Polygon at 0x1cb392c2438>,\n",
       " <matplotlib.patches.Polygon at 0x1cb392c2710>,\n",
       " <matplotlib.patches.Polygon at 0x1cb392c2978>]"
      ]
     },
     "execution_count": 8,
     "metadata": {},
     "output_type": "execute_result"
    },
    {
     "data": {
      "text/plain": [
       "<matplotlib.collections.LineCollection at 0x1cb392c2ac8>"
      ]
     },
     "execution_count": 8,
     "metadata": {},
     "output_type": "execute_result"
    },
    {
     "data": {
      "text/plain": [
       "<matplotlib.collections.LineCollection at 0x1cb392c2ba8>"
      ]
     },
     "execution_count": 8,
     "metadata": {},
     "output_type": "execute_result"
    },
    {
     "data": {
      "text/plain": [
       "[<matplotlib.lines.Line2D at 0x1cb36ff6860>]"
      ]
     },
     "execution_count": 8,
     "metadata": {},
     "output_type": "execute_result"
    },
    {
     "data": {
      "text/plain": [
       "Text(0.5, 1.0, 'Filtered occurrences for Aepyceros melampus')"
      ]
     },
     "execution_count": 8,
     "metadata": {},
     "output_type": "execute_result"
    },
    {
     "data": {
      "text/plain": [
       "<matplotlib.patches.Rectangle at 0x1cb36fd2710>"
      ]
     },
     "execution_count": 8,
     "metadata": {},
     "output_type": "execute_result"
    },
    {
     "data": {
      "text/plain": [
       "[<matplotlib.patches.Polygon at 0x1cb35906908>,\n",
       " <matplotlib.patches.Polygon at 0x1cb35906f60>,\n",
       " <matplotlib.patches.Polygon at 0x1cb35906d30>,\n",
       " <matplotlib.patches.Polygon at 0x1cb359061d0>,\n",
       " <matplotlib.patches.Polygon at 0x1cb36f6a940>,\n",
       " <matplotlib.patches.Polygon at 0x1cb36f6a5f8>,\n",
       " <matplotlib.patches.Polygon at 0x1cb36f6ac18>,\n",
       " <matplotlib.patches.Polygon at 0x1cb36f6af28>,\n",
       " <matplotlib.patches.Polygon at 0x1cb36f6a2e8>,\n",
       " <matplotlib.patches.Polygon at 0x1cb35dfb978>,\n",
       " <matplotlib.patches.Polygon at 0x1cb35dfb8d0>,\n",
       " <matplotlib.patches.Polygon at 0x1cb35dfbc50>,\n",
       " <matplotlib.patches.Polygon at 0x1cb35dfbef0>,\n",
       " <matplotlib.patches.Polygon at 0x1cb35dfb128>,\n",
       " <matplotlib.patches.Polygon at 0x1cb35dfb748>,\n",
       " <matplotlib.patches.Polygon at 0x1cb353574e0>,\n",
       " <matplotlib.patches.Polygon at 0x1cb35357240>,\n",
       " <matplotlib.patches.Polygon at 0x1cb353579b0>,\n",
       " <matplotlib.patches.Polygon at 0x1cb35357c88>,\n",
       " <matplotlib.patches.Polygon at 0x1cb35357ef0>,\n",
       " <matplotlib.patches.Polygon at 0x1cb35357fd0>,\n",
       " <matplotlib.patches.Polygon at 0x1cb37057fd0>,\n",
       " <matplotlib.patches.Polygon at 0x1cb37057240>,\n",
       " <matplotlib.patches.Polygon at 0x1cb370574e0>,\n",
       " <matplotlib.patches.Polygon at 0x1cb370578d0>,\n",
       " <matplotlib.patches.Polygon at 0x1cb37057d30>,\n",
       " <matplotlib.patches.Polygon at 0x1cb37057eb8>,\n",
       " <matplotlib.patches.Polygon at 0x1cb36f92eb8>,\n",
       " <matplotlib.patches.Polygon at 0x1cb36f92c50>,\n",
       " <matplotlib.patches.Polygon at 0x1cb36f92a58>,\n",
       " <matplotlib.patches.Polygon at 0x1cb36f927f0>,\n",
       " <matplotlib.patches.Polygon at 0x1cb36f922b0>,\n",
       " <matplotlib.patches.Polygon at 0x1cb3511f940>,\n",
       " <matplotlib.patches.Polygon at 0x1cb3511fa20>,\n",
       " <matplotlib.patches.Polygon at 0x1cb3511fda0>,\n",
       " <matplotlib.patches.Polygon at 0x1cb3511f6a0>,\n",
       " <matplotlib.patches.Polygon at 0x1cb3511f0b8>,\n",
       " <matplotlib.patches.Polygon at 0x1cb3511f240>,\n",
       " <matplotlib.patches.Polygon at 0x1cb361fe668>,\n",
       " <matplotlib.patches.Polygon at 0x1cb361fe048>,\n",
       " <matplotlib.patches.Polygon at 0x1cb361fe8d0>,\n",
       " <matplotlib.patches.Polygon at 0x1cb361fed68>,\n",
       " <matplotlib.patches.Polygon at 0x1cb36145c18>,\n",
       " <matplotlib.patches.Polygon at 0x1cb36145240>,\n",
       " <matplotlib.patches.Polygon at 0x1cb361452b0>,\n",
       " <matplotlib.patches.Polygon at 0x1cb361450b8>,\n",
       " <matplotlib.patches.Polygon at 0x1cb35108cc0>,\n",
       " <matplotlib.patches.Polygon at 0x1cb35108940>,\n",
       " <matplotlib.patches.Polygon at 0x1cb35108ef0>,\n",
       " <matplotlib.patches.Polygon at 0x1cb35108550>,\n",
       " <matplotlib.patches.Polygon at 0x1cb35108278>,\n",
       " <matplotlib.patches.Polygon at 0x1cb35108048>,\n",
       " <matplotlib.patches.Polygon at 0x1cb3616b390>,\n",
       " <matplotlib.patches.Polygon at 0x1cb361c86d8>]"
      ]
     },
     "execution_count": 8,
     "metadata": {},
     "output_type": "execute_result"
    },
    {
     "data": {
      "text/plain": [
       "<matplotlib.collections.LineCollection at 0x1cb361c8550>"
      ]
     },
     "execution_count": 8,
     "metadata": {},
     "output_type": "execute_result"
    },
    {
     "data": {
      "text/plain": [
       "<matplotlib.collections.LineCollection at 0x1cb361561d0>"
      ]
     },
     "execution_count": 8,
     "metadata": {},
     "output_type": "execute_result"
    },
    {
     "data": {
      "text/plain": [
       "[<matplotlib.lines.Line2D at 0x1cb35ddfe80>]"
      ]
     },
     "execution_count": 8,
     "metadata": {},
     "output_type": "execute_result"
    },
    {
     "data": {
      "text/plain": [
       "Text(0.5, 1.0, 'Filtered occurrences for Alcelaphus buselaphus')"
      ]
     },
     "execution_count": 8,
     "metadata": {},
     "output_type": "execute_result"
    },
    {
     "data": {
      "text/plain": [
       "<matplotlib.patches.Rectangle at 0x1cb3929b2b0>"
      ]
     },
     "execution_count": 8,
     "metadata": {},
     "output_type": "execute_result"
    },
    {
     "data": {
      "text/plain": [
       "[<matplotlib.patches.Polygon at 0x1cb324868d0>,\n",
       " <matplotlib.patches.Polygon at 0x1cb32486cf8>,\n",
       " <matplotlib.patches.Polygon at 0x1cb32486fd0>,\n",
       " <matplotlib.patches.Polygon at 0x1cb36f5f2b0>,\n",
       " <matplotlib.patches.Polygon at 0x1cb36f5f550>,\n",
       " <matplotlib.patches.Polygon at 0x1cb36f5f7f0>,\n",
       " <matplotlib.patches.Polygon at 0x1cb36f5fa90>,\n",
       " <matplotlib.patches.Polygon at 0x1cb36f5fd30>,\n",
       " <matplotlib.patches.Polygon at 0x1cb36f5ffd0>,\n",
       " <matplotlib.patches.Polygon at 0x1cb361402b0>,\n",
       " <matplotlib.patches.Polygon at 0x1cb36140550>,\n",
       " <matplotlib.patches.Polygon at 0x1cb361407f0>,\n",
       " <matplotlib.patches.Polygon at 0x1cb36140a90>,\n",
       " <matplotlib.patches.Polygon at 0x1cb36140d30>,\n",
       " <matplotlib.patches.Polygon at 0x1cb36140fd0>,\n",
       " <matplotlib.patches.Polygon at 0x1cb349012b0>,\n",
       " <matplotlib.patches.Polygon at 0x1cb34901550>,\n",
       " <matplotlib.patches.Polygon at 0x1cb349017f0>,\n",
       " <matplotlib.patches.Polygon at 0x1cb34901a90>,\n",
       " <matplotlib.patches.Polygon at 0x1cb34901d30>,\n",
       " <matplotlib.patches.Polygon at 0x1cb34901fd0>,\n",
       " <matplotlib.patches.Polygon at 0x1cb35ec02b0>,\n",
       " <matplotlib.patches.Polygon at 0x1cb35ec0550>,\n",
       " <matplotlib.patches.Polygon at 0x1cb35ec07f0>,\n",
       " <matplotlib.patches.Polygon at 0x1cb35ec0a90>,\n",
       " <matplotlib.patches.Polygon at 0x1cb35ec0d30>,\n",
       " <matplotlib.patches.Polygon at 0x1cb35ec0fd0>,\n",
       " <matplotlib.patches.Polygon at 0x1cb35ea7278>,\n",
       " <matplotlib.patches.Polygon at 0x1cb35ea7518>,\n",
       " <matplotlib.patches.Polygon at 0x1cb35ea77b8>,\n",
       " <matplotlib.patches.Polygon at 0x1cb35ea7a58>,\n",
       " <matplotlib.patches.Polygon at 0x1cb35ea7cf8>,\n",
       " <matplotlib.patches.Polygon at 0x1cb35ea7f98>,\n",
       " <matplotlib.patches.Polygon at 0x1cb32576278>,\n",
       " <matplotlib.patches.Polygon at 0x1cb32576518>,\n",
       " <matplotlib.patches.Polygon at 0x1cb325767b8>,\n",
       " <matplotlib.patches.Polygon at 0x1cb32576a58>,\n",
       " <matplotlib.patches.Polygon at 0x1cb32576cf8>,\n",
       " <matplotlib.patches.Polygon at 0x1cb32576f98>,\n",
       " <matplotlib.patches.Polygon at 0x1cb3257a278>,\n",
       " <matplotlib.patches.Polygon at 0x1cb3257a518>,\n",
       " <matplotlib.patches.Polygon at 0x1cb3257a7b8>,\n",
       " <matplotlib.patches.Polygon at 0x1cb3257aa58>,\n",
       " <matplotlib.patches.Polygon at 0x1cb3257acf8>,\n",
       " <matplotlib.patches.Polygon at 0x1cb3257af98>,\n",
       " <matplotlib.patches.Polygon at 0x1cb35937278>,\n",
       " <matplotlib.patches.Polygon at 0x1cb35937518>,\n",
       " <matplotlib.patches.Polygon at 0x1cb359377b8>,\n",
       " <matplotlib.patches.Polygon at 0x1cb35937a58>,\n",
       " <matplotlib.patches.Polygon at 0x1cb35937cf8>,\n",
       " <matplotlib.patches.Polygon at 0x1cb35937f98>,\n",
       " <matplotlib.patches.Polygon at 0x1cb35df7278>,\n",
       " <matplotlib.patches.Polygon at 0x1cb35df7518>,\n",
       " <matplotlib.patches.Polygon at 0x1cb35df77b8>,\n",
       " <matplotlib.patches.Polygon at 0x1cb35df7a58>,\n",
       " <matplotlib.patches.Polygon at 0x1cb35df7cf8>,\n",
       " <matplotlib.patches.Polygon at 0x1cb35df7f98>,\n",
       " <matplotlib.patches.Polygon at 0x1cb35dfe278>,\n",
       " <matplotlib.patches.Polygon at 0x1cb35dfe518>,\n",
       " <matplotlib.patches.Polygon at 0x1cb35dfe7b8>,\n",
       " <matplotlib.patches.Polygon at 0x1cb35dfea58>,\n",
       " <matplotlib.patches.Polygon at 0x1cb35dfecf8>,\n",
       " <matplotlib.patches.Polygon at 0x1cb35dfef98>,\n",
       " <matplotlib.patches.Polygon at 0x1cb325ab278>,\n",
       " <matplotlib.patches.Polygon at 0x1cb325ab518>,\n",
       " <matplotlib.patches.Polygon at 0x1cb325ab7b8>,\n",
       " <matplotlib.patches.Polygon at 0x1cb325aba58>,\n",
       " <matplotlib.patches.Polygon at 0x1cb325abcf8>,\n",
       " <matplotlib.patches.Polygon at 0x1cb325abf98>,\n",
       " <matplotlib.patches.Polygon at 0x1cb325bb278>,\n",
       " <matplotlib.patches.Polygon at 0x1cb325bb518>,\n",
       " <matplotlib.patches.Polygon at 0x1cb325bb7b8>,\n",
       " <matplotlib.patches.Polygon at 0x1cb325bba58>,\n",
       " <matplotlib.patches.Polygon at 0x1cb325bbd30>,\n",
       " <matplotlib.patches.Polygon at 0x1cb325bbfd0>,\n",
       " <matplotlib.patches.Polygon at 0x1cb35e76278>,\n",
       " <matplotlib.patches.Polygon at 0x1cb35e76518>,\n",
       " <matplotlib.patches.Polygon at 0x1cb35e767b8>,\n",
       " <matplotlib.patches.Polygon at 0x1cb35e76a58>,\n",
       " <matplotlib.patches.Polygon at 0x1cb35e76cf8>,\n",
       " <matplotlib.patches.Polygon at 0x1cb35e76f98>,\n",
       " <matplotlib.patches.Polygon at 0x1cb35e7b278>,\n",
       " <matplotlib.patches.Polygon at 0x1cb35e7b518>,\n",
       " <matplotlib.patches.Polygon at 0x1cb35e7b7b8>,\n",
       " <matplotlib.patches.Polygon at 0x1cb35e7ba58>,\n",
       " <matplotlib.patches.Polygon at 0x1cb35e7bcf8>,\n",
       " <matplotlib.patches.Polygon at 0x1cb35e7bf98>,\n",
       " <matplotlib.patches.Polygon at 0x1cb3536e278>,\n",
       " <matplotlib.patches.Polygon at 0x1cb3536e518>,\n",
       " <matplotlib.patches.Polygon at 0x1cb3536e7b8>,\n",
       " <matplotlib.patches.Polygon at 0x1cb3536ea58>,\n",
       " <matplotlib.patches.Polygon at 0x1cb3536ecf8>,\n",
       " <matplotlib.patches.Polygon at 0x1cb3536ef98>,\n",
       " <matplotlib.patches.Polygon at 0x1cb3246c278>,\n",
       " <matplotlib.patches.Polygon at 0x1cb3246c518>,\n",
       " <matplotlib.patches.Polygon at 0x1cb3246c7b8>,\n",
       " <matplotlib.patches.Polygon at 0x1cb3246ca58>,\n",
       " <matplotlib.patches.Polygon at 0x1cb3246ccf8>,\n",
       " <matplotlib.patches.Polygon at 0x1cb3246cf98>,\n",
       " <matplotlib.patches.Polygon at 0x1cb3247c278>,\n",
       " <matplotlib.patches.Polygon at 0x1cb3247c518>,\n",
       " <matplotlib.patches.Polygon at 0x1cb3247c7b8>,\n",
       " <matplotlib.patches.Polygon at 0x1cb3247ca58>,\n",
       " <matplotlib.patches.Polygon at 0x1cb3247ccf8>,\n",
       " <matplotlib.patches.Polygon at 0x1cb3247cf98>,\n",
       " <matplotlib.patches.Polygon at 0x1cb35f88278>,\n",
       " <matplotlib.patches.Polygon at 0x1cb35f88518>,\n",
       " <matplotlib.patches.Polygon at 0x1cb35f887b8>,\n",
       " <matplotlib.patches.Polygon at 0x1cb35f88a58>,\n",
       " <matplotlib.patches.Polygon at 0x1cb35f88cf8>,\n",
       " <matplotlib.patches.Polygon at 0x1cb35f88f98>,\n",
       " <matplotlib.patches.Polygon at 0x1cb35f9f278>,\n",
       " <matplotlib.patches.Polygon at 0x1cb35f9f518>,\n",
       " <matplotlib.patches.Polygon at 0x1cb35f9f7b8>,\n",
       " <matplotlib.patches.Polygon at 0x1cb35f9fa58>,\n",
       " <matplotlib.patches.Polygon at 0x1cb35f9fcf8>,\n",
       " <matplotlib.patches.Polygon at 0x1cb35f9ff98>,\n",
       " <matplotlib.patches.Polygon at 0x1cb35f89278>,\n",
       " <matplotlib.patches.Polygon at 0x1cb35f89518>,\n",
       " <matplotlib.patches.Polygon at 0x1cb35f897b8>,\n",
       " <matplotlib.patches.Polygon at 0x1cb35f89a58>,\n",
       " <matplotlib.patches.Polygon at 0x1cb35f89cf8>,\n",
       " <matplotlib.patches.Polygon at 0x1cb35f89f98>,\n",
       " <matplotlib.patches.Polygon at 0x1cb324d8278>,\n",
       " <matplotlib.patches.Polygon at 0x1cb324d8518>,\n",
       " <matplotlib.patches.Polygon at 0x1cb324d87b8>,\n",
       " <matplotlib.patches.Polygon at 0x1cb324d8a58>,\n",
       " <matplotlib.patches.Polygon at 0x1cb324d8cf8>,\n",
       " <matplotlib.patches.Polygon at 0x1cb324d8f98>,\n",
       " <matplotlib.patches.Polygon at 0x1cb324ca278>,\n",
       " <matplotlib.patches.Polygon at 0x1cb324ca518>,\n",
       " <matplotlib.patches.Polygon at 0x1cb324ca7b8>,\n",
       " <matplotlib.patches.Polygon at 0x1cb324caa58>,\n",
       " <matplotlib.patches.Polygon at 0x1cb324cacf8>,\n",
       " <matplotlib.patches.Polygon at 0x1cb324caf98>,\n",
       " <matplotlib.patches.Polygon at 0x1cb36f66278>,\n",
       " <matplotlib.patches.Polygon at 0x1cb36f66518>,\n",
       " <matplotlib.patches.Polygon at 0x1cb36f667b8>]"
      ]
     },
     "execution_count": 8,
     "metadata": {},
     "output_type": "execute_result"
    },
    {
     "data": {
      "text/plain": [
       "<matplotlib.collections.LineCollection at 0x1cb36f66eb8>"
      ]
     },
     "execution_count": 8,
     "metadata": {},
     "output_type": "execute_result"
    },
    {
     "data": {
      "text/plain": [
       "<matplotlib.collections.LineCollection at 0x1cb36f668d0>"
      ]
     },
     "execution_count": 8,
     "metadata": {},
     "output_type": "execute_result"
    },
    {
     "data": {
      "text/plain": [
       "[<matplotlib.lines.Line2D at 0x1cb3a149c88>]"
      ]
     },
     "execution_count": 8,
     "metadata": {},
     "output_type": "execute_result"
    },
    {
     "data": {
      "text/plain": [
       "Text(0.5, 1.0, 'Filtered occurrences for Alces alces')"
      ]
     },
     "execution_count": 8,
     "metadata": {},
     "output_type": "execute_result"
    },
    {
     "data": {
      "text/plain": [
       "<matplotlib.patches.Rectangle at 0x1cb36f71b70>"
      ]
     },
     "execution_count": 8,
     "metadata": {},
     "output_type": "execute_result"
    },
    {
     "data": {
      "text/plain": [
       "[<matplotlib.patches.Polygon at 0x1cb3602ea20>,\n",
       " <matplotlib.patches.Polygon at 0x1cb3602ee48>,\n",
       " <matplotlib.patches.Polygon at 0x1cb3a3df160>,\n",
       " <matplotlib.patches.Polygon at 0x1cb3a3df400>,\n",
       " <matplotlib.patches.Polygon at 0x1cb3a3df6a0>,\n",
       " <matplotlib.patches.Polygon at 0x1cb3a3df940>,\n",
       " <matplotlib.patches.Polygon at 0x1cb3a3dfbe0>,\n",
       " <matplotlib.patches.Polygon at 0x1cb3a3dfe80>,\n",
       " <matplotlib.patches.Polygon at 0x1cb35f90160>,\n",
       " <matplotlib.patches.Polygon at 0x1cb35f90400>,\n",
       " <matplotlib.patches.Polygon at 0x1cb35f906a0>,\n",
       " <matplotlib.patches.Polygon at 0x1cb35f90940>,\n",
       " <matplotlib.patches.Polygon at 0x1cb35f90be0>,\n",
       " <matplotlib.patches.Polygon at 0x1cb35f90e80>,\n",
       " <matplotlib.patches.Polygon at 0x1cb34979160>,\n",
       " <matplotlib.patches.Polygon at 0x1cb34979400>,\n",
       " <matplotlib.patches.Polygon at 0x1cb349796a0>,\n",
       " <matplotlib.patches.Polygon at 0x1cb34979908>,\n",
       " <matplotlib.patches.Polygon at 0x1cb34979be0>,\n",
       " <matplotlib.patches.Polygon at 0x1cb34979e48>,\n",
       " <matplotlib.patches.Polygon at 0x1cb325c1128>,\n",
       " <matplotlib.patches.Polygon at 0x1cb325c13c8>,\n",
       " <matplotlib.patches.Polygon at 0x1cb325c1668>,\n",
       " <matplotlib.patches.Polygon at 0x1cb325c1908>,\n",
       " <matplotlib.patches.Polygon at 0x1cb325c1ba8>,\n",
       " <matplotlib.patches.Polygon at 0x1cb325c1e48>,\n",
       " <matplotlib.patches.Polygon at 0x1cb34e50128>,\n",
       " <matplotlib.patches.Polygon at 0x1cb34e503c8>,\n",
       " <matplotlib.patches.Polygon at 0x1cb34e50668>,\n",
       " <matplotlib.patches.Polygon at 0x1cb34e50908>,\n",
       " <matplotlib.patches.Polygon at 0x1cb34e50be0>,\n",
       " <matplotlib.patches.Polygon at 0x1cb34e50e80>]"
      ]
     },
     "execution_count": 8,
     "metadata": {},
     "output_type": "execute_result"
    },
    {
     "data": {
      "text/plain": [
       "<matplotlib.collections.LineCollection at 0x1cb34e50fd0>"
      ]
     },
     "execution_count": 8,
     "metadata": {},
     "output_type": "execute_result"
    },
    {
     "data": {
      "text/plain": [
       "<matplotlib.collections.LineCollection at 0x1cb34e50f98>"
      ]
     },
     "execution_count": 8,
     "metadata": {},
     "output_type": "execute_result"
    },
    {
     "data": {
      "text/plain": [
       "[<matplotlib.lines.Line2D at 0x1cb2d6a95f8>]"
      ]
     },
     "execution_count": 8,
     "metadata": {},
     "output_type": "execute_result"
    },
    {
     "data": {
      "text/plain": [
       "Text(0.5, 1.0, 'Filtered occurrences for Antidorcas marsupialis')"
      ]
     },
     "execution_count": 8,
     "metadata": {},
     "output_type": "execute_result"
    },
    {
     "data": {
      "text/plain": [
       "<matplotlib.patches.Rectangle at 0x1cb3a3dafd0>"
      ]
     },
     "execution_count": 8,
     "metadata": {},
     "output_type": "execute_result"
    },
    {
     "data": {
      "text/plain": [
       "[<matplotlib.patches.Polygon at 0x1cb34e5e550>,\n",
       " <matplotlib.patches.Polygon at 0x1cb34e5e978>,\n",
       " <matplotlib.patches.Polygon at 0x1cb34e5ec18>,\n",
       " <matplotlib.patches.Polygon at 0x1cb34e5eeb8>,\n",
       " <matplotlib.patches.Polygon at 0x1cb34a3f198>,\n",
       " <matplotlib.patches.Polygon at 0x1cb34a3f438>,\n",
       " <matplotlib.patches.Polygon at 0x1cb34a3f6d8>,\n",
       " <matplotlib.patches.Polygon at 0x1cb34a3f978>,\n",
       " <matplotlib.patches.Polygon at 0x1cb34a3fc18>,\n",
       " <matplotlib.patches.Polygon at 0x1cb34a3feb8>,\n",
       " <matplotlib.patches.Polygon at 0x1cb34a1d198>,\n",
       " <matplotlib.patches.Polygon at 0x1cb34a1d438>,\n",
       " <matplotlib.patches.Polygon at 0x1cb34a1d6d8>,\n",
       " <matplotlib.patches.Polygon at 0x1cb34a1d978>,\n",
       " <matplotlib.patches.Polygon at 0x1cb34a1dc18>,\n",
       " <matplotlib.patches.Polygon at 0x1cb34a1deb8>,\n",
       " <matplotlib.patches.Polygon at 0x1cb3253b198>,\n",
       " <matplotlib.patches.Polygon at 0x1cb3253b438>,\n",
       " <matplotlib.patches.Polygon at 0x1cb3253b6d8>,\n",
       " <matplotlib.patches.Polygon at 0x1cb3253b978>,\n",
       " <matplotlib.patches.Polygon at 0x1cb3253bc18>,\n",
       " <matplotlib.patches.Polygon at 0x1cb3253beb8>,\n",
       " <matplotlib.patches.Polygon at 0x1cb3250f198>,\n",
       " <matplotlib.patches.Polygon at 0x1cb3250f438>,\n",
       " <matplotlib.patches.Polygon at 0x1cb3250f6d8>,\n",
       " <matplotlib.patches.Polygon at 0x1cb3250f978>,\n",
       " <matplotlib.patches.Polygon at 0x1cb3250fc18>,\n",
       " <matplotlib.patches.Polygon at 0x1cb3250feb8>,\n",
       " <matplotlib.patches.Polygon at 0x1cb34a91198>,\n",
       " <matplotlib.patches.Polygon at 0x1cb34a91438>,\n",
       " <matplotlib.patches.Polygon at 0x1cb34a916d8>,\n",
       " <matplotlib.patches.Polygon at 0x1cb34a91978>,\n",
       " <matplotlib.patches.Polygon at 0x1cb34a91c18>,\n",
       " <matplotlib.patches.Polygon at 0x1cb34a91eb8>,\n",
       " <matplotlib.patches.Polygon at 0x1cb36009198>,\n",
       " <matplotlib.patches.Polygon at 0x1cb36009438>,\n",
       " <matplotlib.patches.Polygon at 0x1cb360096d8>,\n",
       " <matplotlib.patches.Polygon at 0x1cb36009978>,\n",
       " <matplotlib.patches.Polygon at 0x1cb36009c18>,\n",
       " <matplotlib.patches.Polygon at 0x1cb36009eb8>,\n",
       " <matplotlib.patches.Polygon at 0x1cb35184198>,\n",
       " <matplotlib.patches.Polygon at 0x1cb35184438>,\n",
       " <matplotlib.patches.Polygon at 0x1cb351846d8>,\n",
       " <matplotlib.patches.Polygon at 0x1cb35184978>,\n",
       " <matplotlib.patches.Polygon at 0x1cb35184c50>,\n",
       " <matplotlib.patches.Polygon at 0x1cb35184eb8>,\n",
       " <matplotlib.patches.Polygon at 0x1cb36f24198>,\n",
       " <matplotlib.patches.Polygon at 0x1cb36f24438>,\n",
       " <matplotlib.patches.Polygon at 0x1cb36f246d8>,\n",
       " <matplotlib.patches.Polygon at 0x1cb36f24978>,\n",
       " <matplotlib.patches.Polygon at 0x1cb36f24c18>,\n",
       " <matplotlib.patches.Polygon at 0x1cb36f24eb8>,\n",
       " <matplotlib.patches.Polygon at 0x1cb35324198>,\n",
       " <matplotlib.patches.Polygon at 0x1cb35324438>,\n",
       " <matplotlib.patches.Polygon at 0x1cb353246d8>,\n",
       " <matplotlib.patches.Polygon at 0x1cb35324978>,\n",
       " <matplotlib.patches.Polygon at 0x1cb35324c18>,\n",
       " <matplotlib.patches.Polygon at 0x1cb35324eb8>,\n",
       " <matplotlib.patches.Polygon at 0x1cb353071d0>,\n",
       " <matplotlib.patches.Polygon at 0x1cb35307438>,\n",
       " <matplotlib.patches.Polygon at 0x1cb353076d8>,\n",
       " <matplotlib.patches.Polygon at 0x1cb35307978>,\n",
       " <matplotlib.patches.Polygon at 0x1cb35307c18>,\n",
       " <matplotlib.patches.Polygon at 0x1cb35307eb8>,\n",
       " <matplotlib.patches.Polygon at 0x1cb3922a1d0>,\n",
       " <matplotlib.patches.Polygon at 0x1cb3922a438>,\n",
       " <matplotlib.patches.Polygon at 0x1cb3922a6d8>,\n",
       " <matplotlib.patches.Polygon at 0x1cb3922a978>,\n",
       " <matplotlib.patches.Polygon at 0x1cb3922ac18>,\n",
       " <matplotlib.patches.Polygon at 0x1cb3922aeb8>,\n",
       " <matplotlib.patches.Polygon at 0x1cb3b716198>,\n",
       " <matplotlib.patches.Polygon at 0x1cb3b716438>,\n",
       " <matplotlib.patches.Polygon at 0x1cb3b7166d8>,\n",
       " <matplotlib.patches.Polygon at 0x1cb3b716978>,\n",
       " <matplotlib.patches.Polygon at 0x1cb3b716c18>,\n",
       " <matplotlib.patches.Polygon at 0x1cb3b716eb8>,\n",
       " <matplotlib.patches.Polygon at 0x1cb3b6f3198>,\n",
       " <matplotlib.patches.Polygon at 0x1cb3b6f3438>,\n",
       " <matplotlib.patches.Polygon at 0x1cb3b6f36d8>,\n",
       " <matplotlib.patches.Polygon at 0x1cb3b6f3978>,\n",
       " <matplotlib.patches.Polygon at 0x1cb3b6f3c18>,\n",
       " <matplotlib.patches.Polygon at 0x1cb3b6f3eb8>,\n",
       " <matplotlib.patches.Polygon at 0x1cb3a14a198>,\n",
       " <matplotlib.patches.Polygon at 0x1cb3a14a438>,\n",
       " <matplotlib.patches.Polygon at 0x1cb3a14a6d8>,\n",
       " <matplotlib.patches.Polygon at 0x1cb3a14a978>,\n",
       " <matplotlib.patches.Polygon at 0x1cb3a14ac18>,\n",
       " <matplotlib.patches.Polygon at 0x1cb3a14aeb8>,\n",
       " <matplotlib.patches.Polygon at 0x1cb3a16d198>,\n",
       " <matplotlib.patches.Polygon at 0x1cb3a16d438>,\n",
       " <matplotlib.patches.Polygon at 0x1cb3a16d6d8>,\n",
       " <matplotlib.patches.Polygon at 0x1cb3a16d978>,\n",
       " <matplotlib.patches.Polygon at 0x1cb3a16dc18>,\n",
       " <matplotlib.patches.Polygon at 0x1cb3a16deb8>,\n",
       " <matplotlib.patches.Polygon at 0x1cb3a161198>,\n",
       " <matplotlib.patches.Polygon at 0x1cb3a161438>,\n",
       " <matplotlib.patches.Polygon at 0x1cb3a1616d8>,\n",
       " <matplotlib.patches.Polygon at 0x1cb3a161978>,\n",
       " <matplotlib.patches.Polygon at 0x1cb3a161c18>,\n",
       " <matplotlib.patches.Polygon at 0x1cb3a161eb8>,\n",
       " <matplotlib.patches.Polygon at 0x1cb361de198>,\n",
       " <matplotlib.patches.Polygon at 0x1cb361de438>,\n",
       " <matplotlib.patches.Polygon at 0x1cb361de6d8>,\n",
       " <matplotlib.patches.Polygon at 0x1cb361de978>,\n",
       " <matplotlib.patches.Polygon at 0x1cb361dec18>,\n",
       " <matplotlib.patches.Polygon at 0x1cb361deeb8>,\n",
       " <matplotlib.patches.Polygon at 0x1cb361ce198>,\n",
       " <matplotlib.patches.Polygon at 0x1cb361ce438>,\n",
       " <matplotlib.patches.Polygon at 0x1cb361ce6d8>,\n",
       " <matplotlib.patches.Polygon at 0x1cb361ce978>,\n",
       " <matplotlib.patches.Polygon at 0x1cb361cec18>,\n",
       " <matplotlib.patches.Polygon at 0x1cb361ceeb8>,\n",
       " <matplotlib.patches.Polygon at 0x1cb3b75a198>,\n",
       " <matplotlib.patches.Polygon at 0x1cb3b75a438>,\n",
       " <matplotlib.patches.Polygon at 0x1cb3b75a6d8>,\n",
       " <matplotlib.patches.Polygon at 0x1cb3b75a978>,\n",
       " <matplotlib.patches.Polygon at 0x1cb3b75ac18>,\n",
       " <matplotlib.patches.Polygon at 0x1cb3b75aeb8>,\n",
       " <matplotlib.patches.Polygon at 0x1cb3b756198>,\n",
       " <matplotlib.patches.Polygon at 0x1cb3b756438>,\n",
       " <matplotlib.patches.Polygon at 0x1cb3b7566d8>,\n",
       " <matplotlib.patches.Polygon at 0x1cb3b756978>,\n",
       " <matplotlib.patches.Polygon at 0x1cb3b756c18>,\n",
       " <matplotlib.patches.Polygon at 0x1cb3b756eb8>,\n",
       " <matplotlib.patches.Polygon at 0x1cb3b767198>,\n",
       " <matplotlib.patches.Polygon at 0x1cb3b767438>,\n",
       " <matplotlib.patches.Polygon at 0x1cb3b7676d8>,\n",
       " <matplotlib.patches.Polygon at 0x1cb3b767978>,\n",
       " <matplotlib.patches.Polygon at 0x1cb3b767c18>,\n",
       " <matplotlib.patches.Polygon at 0x1cb3b767eb8>,\n",
       " <matplotlib.patches.Polygon at 0x1cb3b768198>,\n",
       " <matplotlib.patches.Polygon at 0x1cb3b768438>,\n",
       " <matplotlib.patches.Polygon at 0x1cb3b7686d8>,\n",
       " <matplotlib.patches.Polygon at 0x1cb3b768978>,\n",
       " <matplotlib.patches.Polygon at 0x1cb3b768c18>]"
      ]
     },
     "execution_count": 8,
     "metadata": {},
     "output_type": "execute_result"
    },
    {
     "data": {
      "text/plain": [
       "<matplotlib.collections.LineCollection at 0x1cb3b768d30>"
      ]
     },
     "execution_count": 8,
     "metadata": {},
     "output_type": "execute_result"
    },
    {
     "data": {
      "text/plain": [
       "<matplotlib.collections.LineCollection at 0x1cb3b768d68>"
      ]
     },
     "execution_count": 8,
     "metadata": {},
     "output_type": "execute_result"
    },
    {
     "data": {
      "text/plain": [
       "[<matplotlib.lines.Line2D at 0x1cb35400e48>]"
      ]
     },
     "execution_count": 8,
     "metadata": {},
     "output_type": "execute_result"
    },
    {
     "data": {
      "text/plain": [
       "Text(0.5, 1.0, 'Filtered occurrences for Antilocapra americana')"
      ]
     },
     "execution_count": 8,
     "metadata": {},
     "output_type": "execute_result"
    },
    {
     "data": {
      "text/plain": [
       "<matplotlib.patches.Rectangle at 0x1cb3a4040f0>"
      ]
     },
     "execution_count": 8,
     "metadata": {},
     "output_type": "execute_result"
    },
    {
     "data": {
      "text/plain": [
       "[<matplotlib.patches.Polygon at 0x1cb2d67e710>,\n",
       " <matplotlib.patches.Polygon at 0x1cb2d67ea58>,\n",
       " <matplotlib.patches.Polygon at 0x1cb2d67ecf8>,\n",
       " <matplotlib.patches.Polygon at 0x1cb34ce77b8>,\n",
       " <matplotlib.patches.Polygon at 0x1cb36f8ecc0>,\n",
       " <matplotlib.patches.Polygon at 0x1cb36f8ea20>,\n",
       " <matplotlib.patches.Polygon at 0x1cb3541e898>,\n",
       " <matplotlib.patches.Polygon at 0x1cb3603d208>,\n",
       " <matplotlib.patches.Polygon at 0x1cb34ab5978>,\n",
       " <matplotlib.patches.Polygon at 0x1cb35e20cc0>,\n",
       " <matplotlib.patches.Polygon at 0x1cb2d6a9c88>,\n",
       " <matplotlib.patches.Polygon at 0x1cb35491240>,\n",
       " <matplotlib.patches.Polygon at 0x1cb3549e048>,\n",
       " <matplotlib.patches.Polygon at 0x1cb35e2d978>,\n",
       " <matplotlib.patches.Polygon at 0x1cb3922c1d0>,\n",
       " <matplotlib.patches.Polygon at 0x1cb3922c470>,\n",
       " <matplotlib.patches.Polygon at 0x1cb3922c710>,\n",
       " <matplotlib.patches.Polygon at 0x1cb3922c9b0>,\n",
       " <matplotlib.patches.Polygon at 0x1cb3922cc50>,\n",
       " <matplotlib.patches.Polygon at 0x1cb3922cef0>,\n",
       " <matplotlib.patches.Polygon at 0x1cb3a3ee1d0>,\n",
       " <matplotlib.patches.Polygon at 0x1cb3a3ee470>,\n",
       " <matplotlib.patches.Polygon at 0x1cb3a3ee710>,\n",
       " <matplotlib.patches.Polygon at 0x1cb3a3ee9b0>,\n",
       " <matplotlib.patches.Polygon at 0x1cb3a3eec50>,\n",
       " <matplotlib.patches.Polygon at 0x1cb3a3eeef0>,\n",
       " <matplotlib.patches.Polygon at 0x1cb3546a1d0>,\n",
       " <matplotlib.patches.Polygon at 0x1cb3546a470>,\n",
       " <matplotlib.patches.Polygon at 0x1cb3546a710>,\n",
       " <matplotlib.patches.Polygon at 0x1cb3546a9b0>,\n",
       " <matplotlib.patches.Polygon at 0x1cb3546ac50>,\n",
       " <matplotlib.patches.Polygon at 0x1cb3546aef0>,\n",
       " <matplotlib.patches.Polygon at 0x1cb360191d0>,\n",
       " <matplotlib.patches.Polygon at 0x1cb36019470>,\n",
       " <matplotlib.patches.Polygon at 0x1cb36019710>,\n",
       " <matplotlib.patches.Polygon at 0x1cb360199b0>,\n",
       " <matplotlib.patches.Polygon at 0x1cb36019c50>,\n",
       " <matplotlib.patches.Polygon at 0x1cb36019ef0>,\n",
       " <matplotlib.patches.Polygon at 0x1cb360181d0>,\n",
       " <matplotlib.patches.Polygon at 0x1cb36018470>,\n",
       " <matplotlib.patches.Polygon at 0x1cb36018710>,\n",
       " <matplotlib.patches.Polygon at 0x1cb360189b0>,\n",
       " <matplotlib.patches.Polygon at 0x1cb36018c50>,\n",
       " <matplotlib.patches.Polygon at 0x1cb36018ef0>,\n",
       " <matplotlib.patches.Polygon at 0x1cb3a16f1d0>,\n",
       " <matplotlib.patches.Polygon at 0x1cb3a16f470>,\n",
       " <matplotlib.patches.Polygon at 0x1cb3a16f710>,\n",
       " <matplotlib.patches.Polygon at 0x1cb3a16f9b0>,\n",
       " <matplotlib.patches.Polygon at 0x1cb3a16fc50>,\n",
       " <matplotlib.patches.Polygon at 0x1cb3a16fef0>,\n",
       " <matplotlib.patches.Polygon at 0x1cb361f41d0>,\n",
       " <matplotlib.patches.Polygon at 0x1cb361f4470>,\n",
       " <matplotlib.patches.Polygon at 0x1cb361f4710>,\n",
       " <matplotlib.patches.Polygon at 0x1cb361f49b0>,\n",
       " <matplotlib.patches.Polygon at 0x1cb361f4c50>,\n",
       " <matplotlib.patches.Polygon at 0x1cb361f4ef0>,\n",
       " <matplotlib.patches.Polygon at 0x1cb361ef1d0>,\n",
       " <matplotlib.patches.Polygon at 0x1cb361ef470>,\n",
       " <matplotlib.patches.Polygon at 0x1cb361ef710>,\n",
       " <matplotlib.patches.Polygon at 0x1cb361ef9b0>,\n",
       " <matplotlib.patches.Polygon at 0x1cb361efc50>,\n",
       " <matplotlib.patches.Polygon at 0x1cb361efef0>,\n",
       " <matplotlib.patches.Polygon at 0x1cb349111d0>,\n",
       " <matplotlib.patches.Polygon at 0x1cb34911470>,\n",
       " <matplotlib.patches.Polygon at 0x1cb34911710>,\n",
       " <matplotlib.patches.Polygon at 0x1cb349119b0>,\n",
       " <matplotlib.patches.Polygon at 0x1cb34911c50>,\n",
       " <matplotlib.patches.Polygon at 0x1cb34911ef0>,\n",
       " <matplotlib.patches.Polygon at 0x1cb3b7121d0>,\n",
       " <matplotlib.patches.Polygon at 0x1cb3b712470>,\n",
       " <matplotlib.patches.Polygon at 0x1cb3b712710>,\n",
       " <matplotlib.patches.Polygon at 0x1cb3b7129b0>,\n",
       " <matplotlib.patches.Polygon at 0x1cb3b712c50>,\n",
       " <matplotlib.patches.Polygon at 0x1cb3b712ef0>]"
      ]
     },
     "execution_count": 8,
     "metadata": {},
     "output_type": "execute_result"
    },
    {
     "data": {
      "text/plain": [
       "<matplotlib.collections.LineCollection at 0x1cb34e5e5c0>"
      ]
     },
     "execution_count": 8,
     "metadata": {},
     "output_type": "execute_result"
    },
    {
     "data": {
      "text/plain": [
       "<matplotlib.collections.LineCollection at 0x1cb2d67e6a0>"
      ]
     },
     "execution_count": 8,
     "metadata": {},
     "output_type": "execute_result"
    },
    {
     "data": {
      "text/plain": [
       "[<matplotlib.lines.Line2D at 0x1cb349eb7f0>]"
      ]
     },
     "execution_count": 8,
     "metadata": {},
     "output_type": "execute_result"
    },
    {
     "data": {
      "text/plain": [
       "Text(0.5, 1.0, 'Filtered occurrences for Antilope cervicapra')"
      ]
     },
     "execution_count": 8,
     "metadata": {},
     "output_type": "execute_result"
    },
    {
     "data": {
      "text/plain": [
       "<matplotlib.patches.Rectangle at 0x1cb35e49e80>"
      ]
     },
     "execution_count": 8,
     "metadata": {},
     "output_type": "execute_result"
    },
    {
     "data": {
      "text/plain": [
       "[<matplotlib.patches.Polygon at 0x1cb34b295c0>,\n",
       " <matplotlib.patches.Polygon at 0x1cb34b298d0>,\n",
       " <matplotlib.patches.Polygon at 0x1cb34b29b70>,\n",
       " <matplotlib.patches.Polygon at 0x1cb34b29e10>,\n",
       " <matplotlib.patches.Polygon at 0x1cb36ee30f0>,\n",
       " <matplotlib.patches.Polygon at 0x1cb36ee3390>,\n",
       " <matplotlib.patches.Polygon at 0x1cb36ee3630>,\n",
       " <matplotlib.patches.Polygon at 0x1cb36ee38d0>,\n",
       " <matplotlib.patches.Polygon at 0x1cb36ee3b70>,\n",
       " <matplotlib.patches.Polygon at 0x1cb36ee3e10>,\n",
       " <matplotlib.patches.Polygon at 0x1cb348730f0>,\n",
       " <matplotlib.patches.Polygon at 0x1cb34873390>,\n",
       " <matplotlib.patches.Polygon at 0x1cb34873630>,\n",
       " <matplotlib.patches.Polygon at 0x1cb348738d0>,\n",
       " <matplotlib.patches.Polygon at 0x1cb34873b70>,\n",
       " <matplotlib.patches.Polygon at 0x1cb34873e10>,\n",
       " <matplotlib.patches.Polygon at 0x1cb348860f0>,\n",
       " <matplotlib.patches.Polygon at 0x1cb34886390>,\n",
       " <matplotlib.patches.Polygon at 0x1cb34886630>,\n",
       " <matplotlib.patches.Polygon at 0x1cb348868d0>,\n",
       " <matplotlib.patches.Polygon at 0x1cb34886b70>,\n",
       " <matplotlib.patches.Polygon at 0x1cb34886e10>,\n",
       " <matplotlib.patches.Polygon at 0x1cb3a3ea0f0>,\n",
       " <matplotlib.patches.Polygon at 0x1cb3a3ea390>,\n",
       " <matplotlib.patches.Polygon at 0x1cb3a3ea630>,\n",
       " <matplotlib.patches.Polygon at 0x1cb3a3ea8d0>,\n",
       " <matplotlib.patches.Polygon at 0x1cb3a3eab70>,\n",
       " <matplotlib.patches.Polygon at 0x1cb3a3eae10>,\n",
       " <matplotlib.patches.Polygon at 0x1cb3518e0f0>,\n",
       " <matplotlib.patches.Polygon at 0x1cb3518e390>,\n",
       " <matplotlib.patches.Polygon at 0x1cb3518e630>,\n",
       " <matplotlib.patches.Polygon at 0x1cb3518e8d0>,\n",
       " <matplotlib.patches.Polygon at 0x1cb3518eb70>,\n",
       " <matplotlib.patches.Polygon at 0x1cb3518ee10>,\n",
       " <matplotlib.patches.Polygon at 0x1cb351a30f0>,\n",
       " <matplotlib.patches.Polygon at 0x1cb351a3390>,\n",
       " <matplotlib.patches.Polygon at 0x1cb351a3630>,\n",
       " <matplotlib.patches.Polygon at 0x1cb351a38d0>,\n",
       " <matplotlib.patches.Polygon at 0x1cb351a3b70>,\n",
       " <matplotlib.patches.Polygon at 0x1cb351a3e10>,\n",
       " <matplotlib.patches.Polygon at 0x1cb34e2f0f0>,\n",
       " <matplotlib.patches.Polygon at 0x1cb34e2f390>,\n",
       " <matplotlib.patches.Polygon at 0x1cb34e2f630>,\n",
       " <matplotlib.patches.Polygon at 0x1cb34e2f8d0>,\n",
       " <matplotlib.patches.Polygon at 0x1cb34e2fb70>,\n",
       " <matplotlib.patches.Polygon at 0x1cb34e2fe10>,\n",
       " <matplotlib.patches.Polygon at 0x1cb354330f0>,\n",
       " <matplotlib.patches.Polygon at 0x1cb35433390>,\n",
       " <matplotlib.patches.Polygon at 0x1cb35433630>,\n",
       " <matplotlib.patches.Polygon at 0x1cb354338d0>,\n",
       " <matplotlib.patches.Polygon at 0x1cb35433b70>,\n",
       " <matplotlib.patches.Polygon at 0x1cb35433e10>,\n",
       " <matplotlib.patches.Polygon at 0x1cb354230f0>,\n",
       " <matplotlib.patches.Polygon at 0x1cb35423390>,\n",
       " <matplotlib.patches.Polygon at 0x1cb35423630>,\n",
       " <matplotlib.patches.Polygon at 0x1cb354238d0>,\n",
       " <matplotlib.patches.Polygon at 0x1cb35423b70>,\n",
       " <matplotlib.patches.Polygon at 0x1cb35423e10>,\n",
       " <matplotlib.patches.Polygon at 0x1cb354980f0>,\n",
       " <matplotlib.patches.Polygon at 0x1cb35498390>,\n",
       " <matplotlib.patches.Polygon at 0x1cb35498630>,\n",
       " <matplotlib.patches.Polygon at 0x1cb354988d0>,\n",
       " <matplotlib.patches.Polygon at 0x1cb35498b70>,\n",
       " <matplotlib.patches.Polygon at 0x1cb35498e10>,\n",
       " <matplotlib.patches.Polygon at 0x1cb354850f0>,\n",
       " <matplotlib.patches.Polygon at 0x1cb35485390>,\n",
       " <matplotlib.patches.Polygon at 0x1cb35485630>]"
      ]
     },
     "execution_count": 8,
     "metadata": {},
     "output_type": "execute_result"
    },
    {
     "data": {
      "text/plain": [
       "<matplotlib.collections.LineCollection at 0x1cb35485ac8>"
      ]
     },
     "execution_count": 8,
     "metadata": {},
     "output_type": "execute_result"
    },
    {
     "data": {
      "text/plain": [
       "<matplotlib.collections.LineCollection at 0x1cb35485780>"
      ]
     },
     "execution_count": 8,
     "metadata": {},
     "output_type": "execute_result"
    },
    {
     "data": {
      "text/plain": [
       "[<matplotlib.lines.Line2D at 0x1cb34a40978>]"
      ]
     },
     "execution_count": 8,
     "metadata": {},
     "output_type": "execute_result"
    },
    {
     "data": {
      "text/plain": [
       "Text(0.5, 1.0, 'Filtered occurrences for Axis axis')"
      ]
     },
     "execution_count": 8,
     "metadata": {},
     "output_type": "execute_result"
    },
    {
     "data": {
      "text/plain": [
       "<matplotlib.patches.Rectangle at 0x1cb34cda630>"
      ]
     },
     "execution_count": 8,
     "metadata": {},
     "output_type": "execute_result"
    },
    {
     "data": {
      "text/plain": [
       "[<matplotlib.patches.Polygon at 0x1cb3b729c18>,\n",
       " <matplotlib.patches.Polygon at 0x1cb3b7806a0>,\n",
       " <matplotlib.patches.Polygon at 0x1cb3b780940>,\n",
       " <matplotlib.patches.Polygon at 0x1cb3b780be0>,\n",
       " <matplotlib.patches.Polygon at 0x1cb3b780e80>,\n",
       " <matplotlib.patches.Polygon at 0x1cb3b77e160>,\n",
       " <matplotlib.patches.Polygon at 0x1cb3b77e400>,\n",
       " <matplotlib.patches.Polygon at 0x1cb3b77e6a0>,\n",
       " <matplotlib.patches.Polygon at 0x1cb3b77e940>,\n",
       " <matplotlib.patches.Polygon at 0x1cb3b77ebe0>,\n",
       " <matplotlib.patches.Polygon at 0x1cb3b77ee80>,\n",
       " <matplotlib.patches.Polygon at 0x1cb34b8a160>,\n",
       " <matplotlib.patches.Polygon at 0x1cb34b8a400>,\n",
       " <matplotlib.patches.Polygon at 0x1cb34b8a6a0>,\n",
       " <matplotlib.patches.Polygon at 0x1cb34b8a940>,\n",
       " <matplotlib.patches.Polygon at 0x1cb34b8abe0>,\n",
       " <matplotlib.patches.Polygon at 0x1cb34b8ae80>,\n",
       " <matplotlib.patches.Polygon at 0x1cb34b53160>,\n",
       " <matplotlib.patches.Polygon at 0x1cb34b53400>,\n",
       " <matplotlib.patches.Polygon at 0x1cb34b536a0>,\n",
       " <matplotlib.patches.Polygon at 0x1cb34b53940>,\n",
       " <matplotlib.patches.Polygon at 0x1cb34b53be0>,\n",
       " <matplotlib.patches.Polygon at 0x1cb34b53e80>,\n",
       " <matplotlib.patches.Polygon at 0x1cb35130160>,\n",
       " <matplotlib.patches.Polygon at 0x1cb35130400>,\n",
       " <matplotlib.patches.Polygon at 0x1cb351306a0>,\n",
       " <matplotlib.patches.Polygon at 0x1cb35130940>,\n",
       " <matplotlib.patches.Polygon at 0x1cb35130be0>,\n",
       " <matplotlib.patches.Polygon at 0x1cb35130e80>,\n",
       " <matplotlib.patches.Polygon at 0x1cb359aa160>,\n",
       " <matplotlib.patches.Polygon at 0x1cb359aa400>,\n",
       " <matplotlib.patches.Polygon at 0x1cb359aa6a0>,\n",
       " <matplotlib.patches.Polygon at 0x1cb359aa940>,\n",
       " <matplotlib.patches.Polygon at 0x1cb359aabe0>,\n",
       " <matplotlib.patches.Polygon at 0x1cb359aae80>,\n",
       " <matplotlib.patches.Polygon at 0x1cb35985198>,\n",
       " <matplotlib.patches.Polygon at 0x1cb35985400>,\n",
       " <matplotlib.patches.Polygon at 0x1cb359856a0>,\n",
       " <matplotlib.patches.Polygon at 0x1cb35985940>,\n",
       " <matplotlib.patches.Polygon at 0x1cb35985be0>,\n",
       " <matplotlib.patches.Polygon at 0x1cb35985e80>,\n",
       " <matplotlib.patches.Polygon at 0x1cb3546d160>,\n",
       " <matplotlib.patches.Polygon at 0x1cb3546d400>,\n",
       " <matplotlib.patches.Polygon at 0x1cb3546d6a0>,\n",
       " <matplotlib.patches.Polygon at 0x1cb3546d940>,\n",
       " <matplotlib.patches.Polygon at 0x1cb3546dbe0>,\n",
       " <matplotlib.patches.Polygon at 0x1cb3546de80>,\n",
       " <matplotlib.patches.Polygon at 0x1cb35458160>,\n",
       " <matplotlib.patches.Polygon at 0x1cb35458400>,\n",
       " <matplotlib.patches.Polygon at 0x1cb354586a0>,\n",
       " <matplotlib.patches.Polygon at 0x1cb35458940>,\n",
       " <matplotlib.patches.Polygon at 0x1cb35458be0>,\n",
       " <matplotlib.patches.Polygon at 0x1cb35458e80>,\n",
       " <matplotlib.patches.Polygon at 0x1cb34db8160>,\n",
       " <matplotlib.patches.Polygon at 0x1cb34db8400>,\n",
       " <matplotlib.patches.Polygon at 0x1cb34db86a0>,\n",
       " <matplotlib.patches.Polygon at 0x1cb34db8940>,\n",
       " <matplotlib.patches.Polygon at 0x1cb34db8be0>,\n",
       " <matplotlib.patches.Polygon at 0x1cb34db8e80>,\n",
       " <matplotlib.patches.Polygon at 0x1cb34dad160>,\n",
       " <matplotlib.patches.Polygon at 0x1cb34dad400>,\n",
       " <matplotlib.patches.Polygon at 0x1cb34dad6a0>,\n",
       " <matplotlib.patches.Polygon at 0x1cb34dad940>,\n",
       " <matplotlib.patches.Polygon at 0x1cb34dadbe0>,\n",
       " <matplotlib.patches.Polygon at 0x1cb34dade80>,\n",
       " <matplotlib.patches.Polygon at 0x1cb35d7a160>,\n",
       " <matplotlib.patches.Polygon at 0x1cb35d7a400>,\n",
       " <matplotlib.patches.Polygon at 0x1cb35d7a6a0>,\n",
       " <matplotlib.patches.Polygon at 0x1cb35d7a940>,\n",
       " <matplotlib.patches.Polygon at 0x1cb35d7abe0>,\n",
       " <matplotlib.patches.Polygon at 0x1cb35d7ae80>,\n",
       " <matplotlib.patches.Polygon at 0x1cb35d9c160>,\n",
       " <matplotlib.patches.Polygon at 0x1cb35d9c400>,\n",
       " <matplotlib.patches.Polygon at 0x1cb35d9c6a0>,\n",
       " <matplotlib.patches.Polygon at 0x1cb35d9c940>,\n",
       " <matplotlib.patches.Polygon at 0x1cb35d9cbe0>,\n",
       " <matplotlib.patches.Polygon at 0x1cb35d9ce80>,\n",
       " <matplotlib.patches.Polygon at 0x1cb35d76160>,\n",
       " <matplotlib.patches.Polygon at 0x1cb35d76400>,\n",
       " <matplotlib.patches.Polygon at 0x1cb35d766a0>,\n",
       " <matplotlib.patches.Polygon at 0x1cb35d76940>,\n",
       " <matplotlib.patches.Polygon at 0x1cb35d76be0>,\n",
       " <matplotlib.patches.Polygon at 0x1cb35d76e80>,\n",
       " <matplotlib.patches.Polygon at 0x1cb34882160>,\n",
       " <matplotlib.patches.Polygon at 0x1cb34882400>,\n",
       " <matplotlib.patches.Polygon at 0x1cb348826a0>,\n",
       " <matplotlib.patches.Polygon at 0x1cb34882940>,\n",
       " <matplotlib.patches.Polygon at 0x1cb34882be0>,\n",
       " <matplotlib.patches.Polygon at 0x1cb34882e80>,\n",
       " <matplotlib.patches.Polygon at 0x1cb34885160>,\n",
       " <matplotlib.patches.Polygon at 0x1cb34885400>,\n",
       " <matplotlib.patches.Polygon at 0x1cb348856a0>,\n",
       " <matplotlib.patches.Polygon at 0x1cb34885940>]"
      ]
     },
     "execution_count": 8,
     "metadata": {},
     "output_type": "execute_result"
    },
    {
     "data": {
      "text/plain": [
       "<matplotlib.collections.LineCollection at 0x1cb3b729d68>"
      ]
     },
     "execution_count": 8,
     "metadata": {},
     "output_type": "execute_result"
    },
    {
     "data": {
      "text/plain": [
       "<matplotlib.collections.LineCollection at 0x1cb34a72358>"
      ]
     },
     "execution_count": 8,
     "metadata": {},
     "output_type": "execute_result"
    },
    {
     "data": {
      "text/plain": [
       "[<matplotlib.lines.Line2D at 0x1cb35255e10>]"
      ]
     },
     "execution_count": 8,
     "metadata": {},
     "output_type": "execute_result"
    },
    {
     "data": {
      "text/plain": [
       "Text(0.5, 1.0, 'Filtered occurrences for Axis porcinus')"
      ]
     },
     "execution_count": 8,
     "metadata": {},
     "output_type": "execute_result"
    },
    {
     "data": {
      "text/plain": [
       "<matplotlib.patches.Rectangle at 0x1cb349d4cf8>"
      ]
     },
     "execution_count": 8,
     "metadata": {},
     "output_type": "execute_result"
    },
    {
     "data": {
      "text/plain": [
       "[<matplotlib.patches.Polygon at 0x1cb353be2e8>,\n",
       " <matplotlib.patches.Polygon at 0x1cb353be5f8>,\n",
       " <matplotlib.patches.Polygon at 0x1cb353be978>,\n",
       " <matplotlib.patches.Polygon at 0x1cb353bec18>,\n",
       " <matplotlib.patches.Polygon at 0x1cb353beeb8>,\n",
       " <matplotlib.patches.Polygon at 0x1cb34b64198>,\n",
       " <matplotlib.patches.Polygon at 0x1cb353be7b8>,\n",
       " <matplotlib.patches.Polygon at 0x1cb34b646d8>,\n",
       " <matplotlib.patches.Polygon at 0x1cb34b64978>,\n",
       " <matplotlib.patches.Polygon at 0x1cb34b64c18>,\n",
       " <matplotlib.patches.Polygon at 0x1cb34b64eb8>,\n",
       " <matplotlib.patches.Polygon at 0x1cb3513c198>,\n",
       " <matplotlib.patches.Polygon at 0x1cb3513c438>,\n",
       " <matplotlib.patches.Polygon at 0x1cb3513c6d8>,\n",
       " <matplotlib.patches.Polygon at 0x1cb3513c978>,\n",
       " <matplotlib.patches.Polygon at 0x1cb3513cc18>,\n",
       " <matplotlib.patches.Polygon at 0x1cb3513ceb8>,\n",
       " <matplotlib.patches.Polygon at 0x1cb35d8d198>,\n",
       " <matplotlib.patches.Polygon at 0x1cb35d8d438>,\n",
       " <matplotlib.patches.Polygon at 0x1cb35d8d6d8>,\n",
       " <matplotlib.patches.Polygon at 0x1cb35d8d978>,\n",
       " <matplotlib.patches.Polygon at 0x1cb35d8dc18>,\n",
       " <matplotlib.patches.Polygon at 0x1cb35d8deb8>,\n",
       " <matplotlib.patches.Polygon at 0x1cb35d65198>,\n",
       " <matplotlib.patches.Polygon at 0x1cb35d65438>,\n",
       " <matplotlib.patches.Polygon at 0x1cb35d656d8>,\n",
       " <matplotlib.patches.Polygon at 0x1cb35d65978>,\n",
       " <matplotlib.patches.Polygon at 0x1cb35d65c18>,\n",
       " <matplotlib.patches.Polygon at 0x1cb35d65eb8>,\n",
       " <matplotlib.patches.Polygon at 0x1cb326a1198>,\n",
       " <matplotlib.patches.Polygon at 0x1cb326a1438>,\n",
       " <matplotlib.patches.Polygon at 0x1cb326a16d8>,\n",
       " <matplotlib.patches.Polygon at 0x1cb326a1978>,\n",
       " <matplotlib.patches.Polygon at 0x1cb326a1c18>,\n",
       " <matplotlib.patches.Polygon at 0x1cb326a1eb8>,\n",
       " <matplotlib.patches.Polygon at 0x1cb326aa198>,\n",
       " <matplotlib.patches.Polygon at 0x1cb326aa438>,\n",
       " <matplotlib.patches.Polygon at 0x1cb326aa6d8>,\n",
       " <matplotlib.patches.Polygon at 0x1cb326aa978>,\n",
       " <matplotlib.patches.Polygon at 0x1cb326aac18>,\n",
       " <matplotlib.patches.Polygon at 0x1cb326aaeb8>,\n",
       " <matplotlib.patches.Polygon at 0x1cb3546f198>,\n",
       " <matplotlib.patches.Polygon at 0x1cb3546f438>,\n",
       " <matplotlib.patches.Polygon at 0x1cb3546f6d8>,\n",
       " <matplotlib.patches.Polygon at 0x1cb3546f978>,\n",
       " <matplotlib.patches.Polygon at 0x1cb3546fc18>,\n",
       " <matplotlib.patches.Polygon at 0x1cb3546feb8>,\n",
       " <matplotlib.patches.Polygon at 0x1cb3598a198>,\n",
       " <matplotlib.patches.Polygon at 0x1cb3598a438>,\n",
       " <matplotlib.patches.Polygon at 0x1cb3598a6d8>,\n",
       " <matplotlib.patches.Polygon at 0x1cb3598a978>,\n",
       " <matplotlib.patches.Polygon at 0x1cb3598ac18>,\n",
       " <matplotlib.patches.Polygon at 0x1cb3598aeb8>,\n",
       " <matplotlib.patches.Polygon at 0x1cb3599f198>,\n",
       " <matplotlib.patches.Polygon at 0x1cb3599f438>,\n",
       " <matplotlib.patches.Polygon at 0x1cb3599f6d8>,\n",
       " <matplotlib.patches.Polygon at 0x1cb3599f978>,\n",
       " <matplotlib.patches.Polygon at 0x1cb3599fc18>,\n",
       " <matplotlib.patches.Polygon at 0x1cb3599feb8>,\n",
       " <matplotlib.patches.Polygon at 0x1cb36f1b1d0>,\n",
       " <matplotlib.patches.Polygon at 0x1cb36f1b438>,\n",
       " <matplotlib.patches.Polygon at 0x1cb36f1b6d8>,\n",
       " <matplotlib.patches.Polygon at 0x1cb36f1b978>,\n",
       " <matplotlib.patches.Polygon at 0x1cb36f1bc18>,\n",
       " <matplotlib.patches.Polygon at 0x1cb36f1beb8>,\n",
       " <matplotlib.patches.Polygon at 0x1cb36f0c198>,\n",
       " <matplotlib.patches.Polygon at 0x1cb36f0c438>,\n",
       " <matplotlib.patches.Polygon at 0x1cb36f0c6d8>,\n",
       " <matplotlib.patches.Polygon at 0x1cb36f0c978>,\n",
       " <matplotlib.patches.Polygon at 0x1cb36f0cc18>,\n",
       " <matplotlib.patches.Polygon at 0x1cb36f0ceb8>,\n",
       " <matplotlib.patches.Polygon at 0x1cb34ce3198>,\n",
       " <matplotlib.patches.Polygon at 0x1cb34ce3438>,\n",
       " <matplotlib.patches.Polygon at 0x1cb34ce36d8>,\n",
       " <matplotlib.patches.Polygon at 0x1cb34ce3978>,\n",
       " <matplotlib.patches.Polygon at 0x1cb34ce3c18>,\n",
       " <matplotlib.patches.Polygon at 0x1cb34ce3ef0>,\n",
       " <matplotlib.patches.Polygon at 0x1cb34cca198>,\n",
       " <matplotlib.patches.Polygon at 0x1cb34cca438>,\n",
       " <matplotlib.patches.Polygon at 0x1cb34cca6d8>,\n",
       " <matplotlib.patches.Polygon at 0x1cb34cca978>,\n",
       " <matplotlib.patches.Polygon at 0x1cb34ccac18>,\n",
       " <matplotlib.patches.Polygon at 0x1cb34ccaeb8>,\n",
       " <matplotlib.patches.Polygon at 0x1cb34a61198>,\n",
       " <matplotlib.patches.Polygon at 0x1cb34a61438>,\n",
       " <matplotlib.patches.Polygon at 0x1cb34a616d8>,\n",
       " <matplotlib.patches.Polygon at 0x1cb34a619b0>,\n",
       " <matplotlib.patches.Polygon at 0x1cb34a61c18>,\n",
       " <matplotlib.patches.Polygon at 0x1cb34a61eb8>,\n",
       " <matplotlib.patches.Polygon at 0x1cb34a8e198>,\n",
       " <matplotlib.patches.Polygon at 0x1cb34a8e438>,\n",
       " <matplotlib.patches.Polygon at 0x1cb34a8e6d8>,\n",
       " <matplotlib.patches.Polygon at 0x1cb34a8e978>,\n",
       " <matplotlib.patches.Polygon at 0x1cb34a8ec18>,\n",
       " <matplotlib.patches.Polygon at 0x1cb34a8eeb8>,\n",
       " <matplotlib.patches.Polygon at 0x1cb34a8f198>,\n",
       " <matplotlib.patches.Polygon at 0x1cb34a8f438>,\n",
       " <matplotlib.patches.Polygon at 0x1cb34a8f6d8>,\n",
       " <matplotlib.patches.Polygon at 0x1cb34a8f978>,\n",
       " <matplotlib.patches.Polygon at 0x1cb34a8fc18>,\n",
       " <matplotlib.patches.Polygon at 0x1cb34a8feb8>,\n",
       " <matplotlib.patches.Polygon at 0x1cb34e09198>,\n",
       " <matplotlib.patches.Polygon at 0x1cb34e09438>,\n",
       " <matplotlib.patches.Polygon at 0x1cb34e096d8>,\n",
       " <matplotlib.patches.Polygon at 0x1cb34e09978>,\n",
       " <matplotlib.patches.Polygon at 0x1cb34e09c18>,\n",
       " <matplotlib.patches.Polygon at 0x1cb34e09eb8>,\n",
       " <matplotlib.patches.Polygon at 0x1cb34e32198>,\n",
       " <matplotlib.patches.Polygon at 0x1cb34e32438>,\n",
       " <matplotlib.patches.Polygon at 0x1cb34e326d8>,\n",
       " <matplotlib.patches.Polygon at 0x1cb34e32978>,\n",
       " <matplotlib.patches.Polygon at 0x1cb34e32c18>,\n",
       " <matplotlib.patches.Polygon at 0x1cb34e32eb8>,\n",
       " <matplotlib.patches.Polygon at 0x1cb3524f198>,\n",
       " <matplotlib.patches.Polygon at 0x1cb3524f438>,\n",
       " <matplotlib.patches.Polygon at 0x1cb3524f6d8>,\n",
       " <matplotlib.patches.Polygon at 0x1cb3524f978>,\n",
       " <matplotlib.patches.Polygon at 0x1cb3524fc18>,\n",
       " <matplotlib.patches.Polygon at 0x1cb3524feb8>,\n",
       " <matplotlib.patches.Polygon at 0x1cb35259198>,\n",
       " <matplotlib.patches.Polygon at 0x1cb35259438>,\n",
       " <matplotlib.patches.Polygon at 0x1cb352596d8>,\n",
       " <matplotlib.patches.Polygon at 0x1cb35259978>,\n",
       " <matplotlib.patches.Polygon at 0x1cb35259c18>,\n",
       " <matplotlib.patches.Polygon at 0x1cb35259eb8>,\n",
       " <matplotlib.patches.Polygon at 0x1cb35254198>,\n",
       " <matplotlib.patches.Polygon at 0x1cb35254438>,\n",
       " <matplotlib.patches.Polygon at 0x1cb352546d8>,\n",
       " <matplotlib.patches.Polygon at 0x1cb35254978>,\n",
       " <matplotlib.patches.Polygon at 0x1cb35254c18>,\n",
       " <matplotlib.patches.Polygon at 0x1cb35254eb8>,\n",
       " <matplotlib.patches.Polygon at 0x1cb34adb198>,\n",
       " <matplotlib.patches.Polygon at 0x1cb34adb438>,\n",
       " <matplotlib.patches.Polygon at 0x1cb34adb6d8>,\n",
       " <matplotlib.patches.Polygon at 0x1cb34adb978>,\n",
       " <matplotlib.patches.Polygon at 0x1cb34adbc18>,\n",
       " <matplotlib.patches.Polygon at 0x1cb34adbeb8>,\n",
       " <matplotlib.patches.Polygon at 0x1cb34af1198>,\n",
       " <matplotlib.patches.Polygon at 0x1cb34af1438>,\n",
       " <matplotlib.patches.Polygon at 0x1cb34af16d8>,\n",
       " <matplotlib.patches.Polygon at 0x1cb34af1978>,\n",
       " <matplotlib.patches.Polygon at 0x1cb34af1c18>,\n",
       " <matplotlib.patches.Polygon at 0x1cb34af1eb8>,\n",
       " <matplotlib.patches.Polygon at 0x1cb3931f198>,\n",
       " <matplotlib.patches.Polygon at 0x1cb3931f438>,\n",
       " <matplotlib.patches.Polygon at 0x1cb3931f6d8>,\n",
       " <matplotlib.patches.Polygon at 0x1cb3931f978>,\n",
       " <matplotlib.patches.Polygon at 0x1cb3931fc18>,\n",
       " <matplotlib.patches.Polygon at 0x1cb3931feb8>,\n",
       " <matplotlib.patches.Polygon at 0x1cb3932e198>,\n",
       " <matplotlib.patches.Polygon at 0x1cb3932e438>,\n",
       " <matplotlib.patches.Polygon at 0x1cb3932e6d8>,\n",
       " <matplotlib.patches.Polygon at 0x1cb3932e978>,\n",
       " <matplotlib.patches.Polygon at 0x1cb3932ec18>,\n",
       " <matplotlib.patches.Polygon at 0x1cb3932eeb8>,\n",
       " <matplotlib.patches.Polygon at 0x1cb3933d198>,\n",
       " <matplotlib.patches.Polygon at 0x1cb3933d438>]"
      ]
     },
     "execution_count": 8,
     "metadata": {},
     "output_type": "execute_result"
    },
    {
     "data": {
      "text/plain": [
       "<matplotlib.collections.LineCollection at 0x1cb3933d550>"
      ]
     },
     "execution_count": 8,
     "metadata": {},
     "output_type": "execute_result"
    },
    {
     "data": {
      "text/plain": [
       "<matplotlib.collections.LineCollection at 0x1cb3933de48>"
      ]
     },
     "execution_count": 8,
     "metadata": {},
     "output_type": "execute_result"
    },
    {
     "data": {
      "text/plain": [
       "[<matplotlib.lines.Line2D at 0x1cb3933deb8>]"
      ]
     },
     "execution_count": 8,
     "metadata": {},
     "output_type": "execute_result"
    },
    {
     "data": {
      "text/plain": [
       "Text(0.5, 1.0, 'Filtered occurrences for Bison bison')"
      ]
     },
     "execution_count": 8,
     "metadata": {},
     "output_type": "execute_result"
    },
    {
     "data": {
      "text/plain": [
       "<matplotlib.patches.Rectangle at 0x1cb34d77828>"
      ]
     },
     "execution_count": 8,
     "metadata": {},
     "output_type": "execute_result"
    },
    {
     "data": {
      "text/plain": [
       "[<matplotlib.patches.Polygon at 0x1cb353ad518>,\n",
       " <matplotlib.patches.Polygon at 0x1cb353ad940>,\n",
       " <matplotlib.patches.Polygon at 0x1cb353adbe0>,\n",
       " <matplotlib.patches.Polygon at 0x1cb353ade80>,\n",
       " <matplotlib.patches.Polygon at 0x1cb353b4160>,\n",
       " <matplotlib.patches.Polygon at 0x1cb353b4400>,\n",
       " <matplotlib.patches.Polygon at 0x1cb353b46a0>,\n",
       " <matplotlib.patches.Polygon at 0x1cb353b4940>,\n",
       " <matplotlib.patches.Polygon at 0x1cb353b4be0>,\n",
       " <matplotlib.patches.Polygon at 0x1cb353b4e80>,\n",
       " <matplotlib.patches.Polygon at 0x1cb35518160>,\n",
       " <matplotlib.patches.Polygon at 0x1cb35518400>,\n",
       " <matplotlib.patches.Polygon at 0x1cb355186a0>,\n",
       " <matplotlib.patches.Polygon at 0x1cb35518940>,\n",
       " <matplotlib.patches.Polygon at 0x1cb35518be0>,\n",
       " <matplotlib.patches.Polygon at 0x1cb35518e80>,\n",
       " <matplotlib.patches.Polygon at 0x1cb36eef160>,\n",
       " <matplotlib.patches.Polygon at 0x1cb36eef400>,\n",
       " <matplotlib.patches.Polygon at 0x1cb36eef6a0>,\n",
       " <matplotlib.patches.Polygon at 0x1cb36eef940>,\n",
       " <matplotlib.patches.Polygon at 0x1cb36eefbe0>,\n",
       " <matplotlib.patches.Polygon at 0x1cb36eefe80>,\n",
       " <matplotlib.patches.Polygon at 0x1cb36ef4160>,\n",
       " <matplotlib.patches.Polygon at 0x1cb36ef4400>,\n",
       " <matplotlib.patches.Polygon at 0x1cb36ef46a0>,\n",
       " <matplotlib.patches.Polygon at 0x1cb36ef4940>,\n",
       " <matplotlib.patches.Polygon at 0x1cb36ef4be0>,\n",
       " <matplotlib.patches.Polygon at 0x1cb36ef4e80>,\n",
       " <matplotlib.patches.Polygon at 0x1cb34ea8160>,\n",
       " <matplotlib.patches.Polygon at 0x1cb34ea8400>,\n",
       " <matplotlib.patches.Polygon at 0x1cb34ea86a0>,\n",
       " <matplotlib.patches.Polygon at 0x1cb34ea8940>,\n",
       " <matplotlib.patches.Polygon at 0x1cb34ea8be0>,\n",
       " <matplotlib.patches.Polygon at 0x1cb34ea8e80>,\n",
       " <matplotlib.patches.Polygon at 0x1cb34ea1160>,\n",
       " <matplotlib.patches.Polygon at 0x1cb34ea1400>,\n",
       " <matplotlib.patches.Polygon at 0x1cb34ea16a0>,\n",
       " <matplotlib.patches.Polygon at 0x1cb34ea1940>,\n",
       " <matplotlib.patches.Polygon at 0x1cb34ea1be0>,\n",
       " <matplotlib.patches.Polygon at 0x1cb34ea1e80>,\n",
       " <matplotlib.patches.Polygon at 0x1cb39331160>,\n",
       " <matplotlib.patches.Polygon at 0x1cb39331400>,\n",
       " <matplotlib.patches.Polygon at 0x1cb393316a0>,\n",
       " <matplotlib.patches.Polygon at 0x1cb39331940>,\n",
       " <matplotlib.patches.Polygon at 0x1cb39331be0>,\n",
       " <matplotlib.patches.Polygon at 0x1cb39331e80>,\n",
       " <matplotlib.patches.Polygon at 0x1cb352f8160>,\n",
       " <matplotlib.patches.Polygon at 0x1cb352f8400>,\n",
       " <matplotlib.patches.Polygon at 0x1cb352f86a0>,\n",
       " <matplotlib.patches.Polygon at 0x1cb352f8940>,\n",
       " <matplotlib.patches.Polygon at 0x1cb352f8be0>,\n",
       " <matplotlib.patches.Polygon at 0x1cb352f8e80>,\n",
       " <matplotlib.patches.Polygon at 0x1cb352dd160>,\n",
       " <matplotlib.patches.Polygon at 0x1cb352dd400>,\n",
       " <matplotlib.patches.Polygon at 0x1cb352dd6a0>,\n",
       " <matplotlib.patches.Polygon at 0x1cb352dd940>,\n",
       " <matplotlib.patches.Polygon at 0x1cb352ddbe0>,\n",
       " <matplotlib.patches.Polygon at 0x1cb352dde80>,\n",
       " <matplotlib.patches.Polygon at 0x1cb34d7c160>,\n",
       " <matplotlib.patches.Polygon at 0x1cb34d7c400>,\n",
       " <matplotlib.patches.Polygon at 0x1cb34d7c6d8>,\n",
       " <matplotlib.patches.Polygon at 0x1cb34d7c940>,\n",
       " <matplotlib.patches.Polygon at 0x1cb34d7cbe0>,\n",
       " <matplotlib.patches.Polygon at 0x1cb34d7ce80>,\n",
       " <matplotlib.patches.Polygon at 0x1cb34d5f160>,\n",
       " <matplotlib.patches.Polygon at 0x1cb34d5f400>,\n",
       " <matplotlib.patches.Polygon at 0x1cb34d5f6a0>,\n",
       " <matplotlib.patches.Polygon at 0x1cb34d5f940>,\n",
       " <matplotlib.patches.Polygon at 0x1cb34d5fbe0>,\n",
       " <matplotlib.patches.Polygon at 0x1cb34d5fe80>,\n",
       " <matplotlib.patches.Polygon at 0x1cb34e12160>,\n",
       " <matplotlib.patches.Polygon at 0x1cb34e12400>,\n",
       " <matplotlib.patches.Polygon at 0x1cb34e126a0>,\n",
       " <matplotlib.patches.Polygon at 0x1cb34e12940>,\n",
       " <matplotlib.patches.Polygon at 0x1cb34e12be0>,\n",
       " <matplotlib.patches.Polygon at 0x1cb34e12e80>,\n",
       " <matplotlib.patches.Polygon at 0x1cb34e39160>,\n",
       " <matplotlib.patches.Polygon at 0x1cb34e39400>,\n",
       " <matplotlib.patches.Polygon at 0x1cb34e396a0>,\n",
       " <matplotlib.patches.Polygon at 0x1cb34e39940>,\n",
       " <matplotlib.patches.Polygon at 0x1cb34e39be0>,\n",
       " <matplotlib.patches.Polygon at 0x1cb34e39e80>,\n",
       " <matplotlib.patches.Polygon at 0x1cb34d95160>,\n",
       " <matplotlib.patches.Polygon at 0x1cb34d95400>,\n",
       " <matplotlib.patches.Polygon at 0x1cb34d956a0>,\n",
       " <matplotlib.patches.Polygon at 0x1cb34d95940>,\n",
       " <matplotlib.patches.Polygon at 0x1cb34d95be0>,\n",
       " <matplotlib.patches.Polygon at 0x1cb34d95e80>,\n",
       " <matplotlib.patches.Polygon at 0x1cb34d91160>,\n",
       " <matplotlib.patches.Polygon at 0x1cb34d91400>,\n",
       " <matplotlib.patches.Polygon at 0x1cb34d916a0>,\n",
       " <matplotlib.patches.Polygon at 0x1cb34d91940>,\n",
       " <matplotlib.patches.Polygon at 0x1cb34d91be0>,\n",
       " <matplotlib.patches.Polygon at 0x1cb34d91e80>,\n",
       " <matplotlib.patches.Polygon at 0x1cb34d9e160>,\n",
       " <matplotlib.patches.Polygon at 0x1cb34d9e400>,\n",
       " <matplotlib.patches.Polygon at 0x1cb34d9e6a0>,\n",
       " <matplotlib.patches.Polygon at 0x1cb34d9e940>,\n",
       " <matplotlib.patches.Polygon at 0x1cb34d9ebe0>,\n",
       " <matplotlib.patches.Polygon at 0x1cb34d9ee80>,\n",
       " <matplotlib.patches.Polygon at 0x1cb354df160>,\n",
       " <matplotlib.patches.Polygon at 0x1cb354df400>,\n",
       " <matplotlib.patches.Polygon at 0x1cb354df6a0>,\n",
       " <matplotlib.patches.Polygon at 0x1cb354df940>,\n",
       " <matplotlib.patches.Polygon at 0x1cb354dfbe0>,\n",
       " <matplotlib.patches.Polygon at 0x1cb354dfe80>,\n",
       " <matplotlib.patches.Polygon at 0x1cb354ef160>,\n",
       " <matplotlib.patches.Polygon at 0x1cb354ef400>,\n",
       " <matplotlib.patches.Polygon at 0x1cb354ef6a0>,\n",
       " <matplotlib.patches.Polygon at 0x1cb354ef940>,\n",
       " <matplotlib.patches.Polygon at 0x1cb354efbe0>,\n",
       " <matplotlib.patches.Polygon at 0x1cb354efe80>,\n",
       " <matplotlib.patches.Polygon at 0x1cb3529d160>,\n",
       " <matplotlib.patches.Polygon at 0x1cb3529d400>,\n",
       " <matplotlib.patches.Polygon at 0x1cb3529d6a0>,\n",
       " <matplotlib.patches.Polygon at 0x1cb3529d940>,\n",
       " <matplotlib.patches.Polygon at 0x1cb3529dbe0>,\n",
       " <matplotlib.patches.Polygon at 0x1cb3529de80>,\n",
       " <matplotlib.patches.Polygon at 0x1cb352a8160>,\n",
       " <matplotlib.patches.Polygon at 0x1cb352a8400>,\n",
       " <matplotlib.patches.Polygon at 0x1cb352a86a0>,\n",
       " <matplotlib.patches.Polygon at 0x1cb352a8940>,\n",
       " <matplotlib.patches.Polygon at 0x1cb352a8be0>,\n",
       " <matplotlib.patches.Polygon at 0x1cb352a8eb8>,\n",
       " <matplotlib.patches.Polygon at 0x1cb3528f160>,\n",
       " <matplotlib.patches.Polygon at 0x1cb3528f400>,\n",
       " <matplotlib.patches.Polygon at 0x1cb3528f6d8>,\n",
       " <matplotlib.patches.Polygon at 0x1cb3528f940>,\n",
       " <matplotlib.patches.Polygon at 0x1cb3528fbe0>]"
      ]
     },
     "execution_count": 8,
     "metadata": {},
     "output_type": "execute_result"
    },
    {
     "data": {
      "text/plain": [
       "<matplotlib.collections.LineCollection at 0x1cb3528fcc0>"
      ]
     },
     "execution_count": 8,
     "metadata": {},
     "output_type": "execute_result"
    },
    {
     "data": {
      "text/plain": [
       "<matplotlib.collections.LineCollection at 0x1cb353ca710>"
      ]
     },
     "execution_count": 8,
     "metadata": {},
     "output_type": "execute_result"
    },
    {
     "data": {
      "text/plain": [
       "[<matplotlib.lines.Line2D at 0x1cb353ca630>]"
      ]
     },
     "execution_count": 8,
     "metadata": {},
     "output_type": "execute_result"
    },
    {
     "data": {
      "text/plain": [
       "Text(0.5, 1.0, 'Filtered occurrences for Bison bonasus')"
      ]
     },
     "execution_count": 8,
     "metadata": {},
     "output_type": "execute_result"
    },
    {
     "data": {
      "text/plain": [
       "<matplotlib.patches.Rectangle at 0x1cb35115748>"
      ]
     },
     "execution_count": 8,
     "metadata": {},
     "output_type": "execute_result"
    },
    {
     "data": {
      "text/plain": [
       "[<matplotlib.patches.Polygon at 0x1cb34afdd68>,\n",
       " <matplotlib.patches.Polygon at 0x1cb34d7a0b8>,\n",
       " <matplotlib.patches.Polygon at 0x1cb34d7a470>,\n",
       " <matplotlib.patches.Polygon at 0x1cb34d7a710>,\n",
       " <matplotlib.patches.Polygon at 0x1cb34d7a9b0>,\n",
       " <matplotlib.patches.Polygon at 0x1cb34d7ac50>,\n",
       " <matplotlib.patches.Polygon at 0x1cb34d7aeb8>,\n",
       " <matplotlib.patches.Polygon at 0x1cb34d1b198>,\n",
       " <matplotlib.patches.Polygon at 0x1cb34d1b438>,\n",
       " <matplotlib.patches.Polygon at 0x1cb34d1b6d8>,\n",
       " <matplotlib.patches.Polygon at 0x1cb34d1b978>,\n",
       " <matplotlib.patches.Polygon at 0x1cb34d1bc18>,\n",
       " <matplotlib.patches.Polygon at 0x1cb34d1beb8>,\n",
       " <matplotlib.patches.Polygon at 0x1cb34d10198>,\n",
       " <matplotlib.patches.Polygon at 0x1cb34d10438>,\n",
       " <matplotlib.patches.Polygon at 0x1cb34d106d8>,\n",
       " <matplotlib.patches.Polygon at 0x1cb34d10978>,\n",
       " <matplotlib.patches.Polygon at 0x1cb34d10c18>,\n",
       " <matplotlib.patches.Polygon at 0x1cb34d10eb8>,\n",
       " <matplotlib.patches.Polygon at 0x1cb350dc198>,\n",
       " <matplotlib.patches.Polygon at 0x1cb350dc438>,\n",
       " <matplotlib.patches.Polygon at 0x1cb350dc6d8>,\n",
       " <matplotlib.patches.Polygon at 0x1cb350dc978>,\n",
       " <matplotlib.patches.Polygon at 0x1cb350dcc18>,\n",
       " <matplotlib.patches.Polygon at 0x1cb350dceb8>,\n",
       " <matplotlib.patches.Polygon at 0x1cb350f2198>,\n",
       " <matplotlib.patches.Polygon at 0x1cb350f2438>,\n",
       " <matplotlib.patches.Polygon at 0x1cb350f26d8>,\n",
       " <matplotlib.patches.Polygon at 0x1cb350f2978>,\n",
       " <matplotlib.patches.Polygon at 0x1cb350f2c18>,\n",
       " <matplotlib.patches.Polygon at 0x1cb350f2eb8>,\n",
       " <matplotlib.patches.Polygon at 0x1cb34dbf198>,\n",
       " <matplotlib.patches.Polygon at 0x1cb34dbf438>,\n",
       " <matplotlib.patches.Polygon at 0x1cb34dbf6d8>,\n",
       " <matplotlib.patches.Polygon at 0x1cb34dbf978>,\n",
       " <matplotlib.patches.Polygon at 0x1cb34dbfc18>,\n",
       " <matplotlib.patches.Polygon at 0x1cb34dbfeb8>,\n",
       " <matplotlib.patches.Polygon at 0x1cb34d83198>,\n",
       " <matplotlib.patches.Polygon at 0x1cb34d83438>,\n",
       " <matplotlib.patches.Polygon at 0x1cb34d836d8>,\n",
       " <matplotlib.patches.Polygon at 0x1cb34d83978>,\n",
       " <matplotlib.patches.Polygon at 0x1cb34d83c18>,\n",
       " <matplotlib.patches.Polygon at 0x1cb34d83eb8>]"
      ]
     },
     "execution_count": 8,
     "metadata": {},
     "output_type": "execute_result"
    },
    {
     "data": {
      "text/plain": [
       "<matplotlib.collections.LineCollection at 0x1cb34d83fd0>"
      ]
     },
     "execution_count": 8,
     "metadata": {},
     "output_type": "execute_result"
    },
    {
     "data": {
      "text/plain": [
       "<matplotlib.collections.LineCollection at 0x1cb354e0be0>"
      ]
     },
     "execution_count": 8,
     "metadata": {},
     "output_type": "execute_result"
    },
    {
     "data": {
      "text/plain": [
       "[<matplotlib.lines.Line2D at 0x1cb354e0b00>]"
      ]
     },
     "execution_count": 8,
     "metadata": {},
     "output_type": "execute_result"
    },
    {
     "data": {
      "text/plain": [
       "Text(0.5, 1.0, 'Filtered occurrences for Blastocerus dichotomus')"
      ]
     },
     "execution_count": 8,
     "metadata": {},
     "output_type": "execute_result"
    },
    {
     "data": {
      "text/plain": [
       "<matplotlib.patches.Rectangle at 0x1cb36e77a20>"
      ]
     },
     "execution_count": 8,
     "metadata": {},
     "output_type": "execute_result"
    },
    {
     "data": {
      "text/plain": [
       "[<matplotlib.patches.Polygon at 0x1cb34c010f0>,\n",
       " <matplotlib.patches.Polygon at 0x1cb34c01400>,\n",
       " <matplotlib.patches.Polygon at 0x1cb34c016d8>,\n",
       " <matplotlib.patches.Polygon at 0x1cb34c01978>,\n",
       " <matplotlib.patches.Polygon at 0x1cb34c01c18>,\n",
       " <matplotlib.patches.Polygon at 0x1cb34c01eb8>,\n",
       " <matplotlib.patches.Polygon at 0x1cb35fb4198>,\n",
       " <matplotlib.patches.Polygon at 0x1cb35fb4518>,\n",
       " <matplotlib.patches.Polygon at 0x1cb35fb47b8>,\n",
       " <matplotlib.patches.Polygon at 0x1cb35fb4a58>,\n",
       " <matplotlib.patches.Polygon at 0x1cb35fb4cf8>,\n",
       " <matplotlib.patches.Polygon at 0x1cb35fb4f98>,\n",
       " <matplotlib.patches.Polygon at 0x1cb35296278>,\n",
       " <matplotlib.patches.Polygon at 0x1cb35296518>,\n",
       " <matplotlib.patches.Polygon at 0x1cb352967b8>,\n",
       " <matplotlib.patches.Polygon at 0x1cb35296a58>,\n",
       " <matplotlib.patches.Polygon at 0x1cb35296cf8>,\n",
       " <matplotlib.patches.Polygon at 0x1cb35296f98>,\n",
       " <matplotlib.patches.Polygon at 0x1cb3b7ef278>,\n",
       " <matplotlib.patches.Polygon at 0x1cb3b7ef518>,\n",
       " <matplotlib.patches.Polygon at 0x1cb3b7ef7b8>,\n",
       " <matplotlib.patches.Polygon at 0x1cb3b7efa58>,\n",
       " <matplotlib.patches.Polygon at 0x1cb3b7efcf8>,\n",
       " <matplotlib.patches.Polygon at 0x1cb3b7eff98>,\n",
       " <matplotlib.patches.Polygon at 0x1cb39379278>,\n",
       " <matplotlib.patches.Polygon at 0x1cb39379518>,\n",
       " <matplotlib.patches.Polygon at 0x1cb393797b8>,\n",
       " <matplotlib.patches.Polygon at 0x1cb39379a58>,\n",
       " <matplotlib.patches.Polygon at 0x1cb39379cf8>,\n",
       " <matplotlib.patches.Polygon at 0x1cb39379f98>,\n",
       " <matplotlib.patches.Polygon at 0x1cb39359278>,\n",
       " <matplotlib.patches.Polygon at 0x1cb39359518>,\n",
       " <matplotlib.patches.Polygon at 0x1cb393597b8>,\n",
       " <matplotlib.patches.Polygon at 0x1cb39359a58>,\n",
       " <matplotlib.patches.Polygon at 0x1cb39359cf8>,\n",
       " <matplotlib.patches.Polygon at 0x1cb39359f98>,\n",
       " <matplotlib.patches.Polygon at 0x1cb35892278>,\n",
       " <matplotlib.patches.Polygon at 0x1cb35892518>,\n",
       " <matplotlib.patches.Polygon at 0x1cb358927b8>,\n",
       " <matplotlib.patches.Polygon at 0x1cb35892a58>,\n",
       " <matplotlib.patches.Polygon at 0x1cb35892cf8>,\n",
       " <matplotlib.patches.Polygon at 0x1cb35892f98>,\n",
       " <matplotlib.patches.Polygon at 0x1cb358b4278>,\n",
       " <matplotlib.patches.Polygon at 0x1cb358b4518>,\n",
       " <matplotlib.patches.Polygon at 0x1cb358b47b8>,\n",
       " <matplotlib.patches.Polygon at 0x1cb358b4a58>,\n",
       " <matplotlib.patches.Polygon at 0x1cb358b4cf8>,\n",
       " <matplotlib.patches.Polygon at 0x1cb358b4f98>,\n",
       " <matplotlib.patches.Polygon at 0x1cb2db4b278>,\n",
       " <matplotlib.patches.Polygon at 0x1cb2db4b518>,\n",
       " <matplotlib.patches.Polygon at 0x1cb2db4b7b8>,\n",
       " <matplotlib.patches.Polygon at 0x1cb2db4ba58>,\n",
       " <matplotlib.patches.Polygon at 0x1cb2db4bcf8>,\n",
       " <matplotlib.patches.Polygon at 0x1cb2db4bf98>,\n",
       " <matplotlib.patches.Polygon at 0x1cb2db60278>,\n",
       " <matplotlib.patches.Polygon at 0x1cb2db60518>,\n",
       " <matplotlib.patches.Polygon at 0x1cb2db607b8>,\n",
       " <matplotlib.patches.Polygon at 0x1cb2db60a58>,\n",
       " <matplotlib.patches.Polygon at 0x1cb2db60cf8>,\n",
       " <matplotlib.patches.Polygon at 0x1cb2db60f98>,\n",
       " <matplotlib.patches.Polygon at 0x1cb34d0f278>,\n",
       " <matplotlib.patches.Polygon at 0x1cb34d0f518>,\n",
       " <matplotlib.patches.Polygon at 0x1cb34d0f7b8>,\n",
       " <matplotlib.patches.Polygon at 0x1cb34d0fa58>,\n",
       " <matplotlib.patches.Polygon at 0x1cb34d0fcf8>,\n",
       " <matplotlib.patches.Polygon at 0x1cb34d0ff98>,\n",
       " <matplotlib.patches.Polygon at 0x1cb34d19278>,\n",
       " <matplotlib.patches.Polygon at 0x1cb34d19518>,\n",
       " <matplotlib.patches.Polygon at 0x1cb34d197b8>,\n",
       " <matplotlib.patches.Polygon at 0x1cb34d19a58>,\n",
       " <matplotlib.patches.Polygon at 0x1cb34d19cf8>,\n",
       " <matplotlib.patches.Polygon at 0x1cb34d19f98>,\n",
       " <matplotlib.patches.Polygon at 0x1cb34d07278>,\n",
       " <matplotlib.patches.Polygon at 0x1cb34d07518>,\n",
       " <matplotlib.patches.Polygon at 0x1cb34d077b8>,\n",
       " <matplotlib.patches.Polygon at 0x1cb34d07a58>,\n",
       " <matplotlib.patches.Polygon at 0x1cb34d07cf8>,\n",
       " <matplotlib.patches.Polygon at 0x1cb34d07f98>,\n",
       " <matplotlib.patches.Polygon at 0x1cb359cd278>,\n",
       " <matplotlib.patches.Polygon at 0x1cb359cd518>,\n",
       " <matplotlib.patches.Polygon at 0x1cb359cd7b8>,\n",
       " <matplotlib.patches.Polygon at 0x1cb359cda58>,\n",
       " <matplotlib.patches.Polygon at 0x1cb359cdcf8>,\n",
       " <matplotlib.patches.Polygon at 0x1cb359cdf98>,\n",
       " <matplotlib.patches.Polygon at 0x1cb359ff278>,\n",
       " <matplotlib.patches.Polygon at 0x1cb359ff518>,\n",
       " <matplotlib.patches.Polygon at 0x1cb359ff7b8>,\n",
       " <matplotlib.patches.Polygon at 0x1cb359ffa58>,\n",
       " <matplotlib.patches.Polygon at 0x1cb359ffcf8>,\n",
       " <matplotlib.patches.Polygon at 0x1cb359fff98>,\n",
       " <matplotlib.patches.Polygon at 0x1cb359ed278>,\n",
       " <matplotlib.patches.Polygon at 0x1cb359ed518>,\n",
       " <matplotlib.patches.Polygon at 0x1cb359ed7b8>,\n",
       " <matplotlib.patches.Polygon at 0x1cb359eda58>,\n",
       " <matplotlib.patches.Polygon at 0x1cb359edcf8>]"
      ]
     },
     "execution_count": 8,
     "metadata": {},
     "output_type": "execute_result"
    },
    {
     "data": {
      "text/plain": [
       "<matplotlib.collections.LineCollection at 0x1cb359edf28>"
      ]
     },
     "execution_count": 8,
     "metadata": {},
     "output_type": "execute_result"
    },
    {
     "data": {
      "text/plain": [
       "<matplotlib.collections.LineCollection at 0x1cb359cea20>"
      ]
     },
     "execution_count": 8,
     "metadata": {},
     "output_type": "execute_result"
    },
    {
     "data": {
      "text/plain": [
       "[<matplotlib.lines.Line2D at 0x1cb359ce940>]"
      ]
     },
     "execution_count": 8,
     "metadata": {},
     "output_type": "execute_result"
    },
    {
     "data": {
      "text/plain": [
       "Text(0.5, 1.0, 'Filtered occurrences for Bos javanicus')"
      ]
     },
     "execution_count": 8,
     "metadata": {},
     "output_type": "execute_result"
    },
    {
     "data": {
      "text/plain": [
       "<matplotlib.patches.Rectangle at 0x1cb36e9cda0>"
      ]
     },
     "execution_count": 8,
     "metadata": {},
     "output_type": "execute_result"
    },
    {
     "data": {
      "text/plain": [
       "[<matplotlib.patches.Polygon at 0x1cb35969e80>,\n",
       " <matplotlib.patches.Polygon at 0x1cb359f27f0>,\n",
       " <matplotlib.patches.Polygon at 0x1cb359f2ac8>,\n",
       " <matplotlib.patches.Polygon at 0x1cb359f2d68>,\n",
       " <matplotlib.patches.Polygon at 0x1cb359f2fd0>,\n",
       " <matplotlib.patches.Polygon at 0x1cb3610b2e8>,\n",
       " <matplotlib.patches.Polygon at 0x1cb3610b588>,\n",
       " <matplotlib.patches.Polygon at 0x1cb3610b828>,\n",
       " <matplotlib.patches.Polygon at 0x1cb3610bac8>,\n",
       " <matplotlib.patches.Polygon at 0x1cb3610bd68>,\n",
       " <matplotlib.patches.Polygon at 0x1cb3610bfd0>,\n",
       " <matplotlib.patches.Polygon at 0x1cb358a92e8>,\n",
       " <matplotlib.patches.Polygon at 0x1cb358a9588>,\n",
       " <matplotlib.patches.Polygon at 0x1cb358a9828>,\n",
       " <matplotlib.patches.Polygon at 0x1cb358a9ac8>,\n",
       " <matplotlib.patches.Polygon at 0x1cb358a9d68>,\n",
       " <matplotlib.patches.Polygon at 0x1cb358a9fd0>,\n",
       " <matplotlib.patches.Polygon at 0x1cb2dbe82e8>,\n",
       " <matplotlib.patches.Polygon at 0x1cb2dbe8588>,\n",
       " <matplotlib.patches.Polygon at 0x1cb2dbe8828>,\n",
       " <matplotlib.patches.Polygon at 0x1cb2dbe8ac8>,\n",
       " <matplotlib.patches.Polygon at 0x1cb2dbe8d68>,\n",
       " <matplotlib.patches.Polygon at 0x1cb2dbe8fd0>,\n",
       " <matplotlib.patches.Polygon at 0x1cb2dbdb2e8>,\n",
       " <matplotlib.patches.Polygon at 0x1cb2dbdb588>,\n",
       " <matplotlib.patches.Polygon at 0x1cb2dbdb828>,\n",
       " <matplotlib.patches.Polygon at 0x1cb2dbdbac8>,\n",
       " <matplotlib.patches.Polygon at 0x1cb2dbdbd68>,\n",
       " <matplotlib.patches.Polygon at 0x1cb2dbdbfd0>,\n",
       " <matplotlib.patches.Polygon at 0x1cb2dbe52e8>,\n",
       " <matplotlib.patches.Polygon at 0x1cb2dbe5588>,\n",
       " <matplotlib.patches.Polygon at 0x1cb2dbe5828>,\n",
       " <matplotlib.patches.Polygon at 0x1cb2dbe5ac8>,\n",
       " <matplotlib.patches.Polygon at 0x1cb2dbe5d68>,\n",
       " <matplotlib.patches.Polygon at 0x1cb2dbe5fd0>,\n",
       " <matplotlib.patches.Polygon at 0x1cb35eed2e8>,\n",
       " <matplotlib.patches.Polygon at 0x1cb35eed588>,\n",
       " <matplotlib.patches.Polygon at 0x1cb35eed828>,\n",
       " <matplotlib.patches.Polygon at 0x1cb35eedac8>,\n",
       " <matplotlib.patches.Polygon at 0x1cb35eedd68>,\n",
       " <matplotlib.patches.Polygon at 0x1cb35eedfd0>,\n",
       " <matplotlib.patches.Polygon at 0x1cb35f012e8>,\n",
       " <matplotlib.patches.Polygon at 0x1cb35f01588>,\n",
       " <matplotlib.patches.Polygon at 0x1cb35f01828>,\n",
       " <matplotlib.patches.Polygon at 0x1cb35f01ac8>,\n",
       " <matplotlib.patches.Polygon at 0x1cb35f01d68>,\n",
       " <matplotlib.patches.Polygon at 0x1cb35f01fd0>,\n",
       " <matplotlib.patches.Polygon at 0x1cb35fcc2e8>,\n",
       " <matplotlib.patches.Polygon at 0x1cb35fcc588>,\n",
       " <matplotlib.patches.Polygon at 0x1cb35fcc828>,\n",
       " <matplotlib.patches.Polygon at 0x1cb35fccac8>,\n",
       " <matplotlib.patches.Polygon at 0x1cb35fccd68>,\n",
       " <matplotlib.patches.Polygon at 0x1cb35fccfd0>,\n",
       " <matplotlib.patches.Polygon at 0x1cb35fad2e8>,\n",
       " <matplotlib.patches.Polygon at 0x1cb35fad588>,\n",
       " <matplotlib.patches.Polygon at 0x1cb35fad828>,\n",
       " <matplotlib.patches.Polygon at 0x1cb35fadac8>,\n",
       " <matplotlib.patches.Polygon at 0x1cb35fadd68>,\n",
       " <matplotlib.patches.Polygon at 0x1cb35fadfd0>,\n",
       " <matplotlib.patches.Polygon at 0x1cb353ff2e8>,\n",
       " <matplotlib.patches.Polygon at 0x1cb353ff588>,\n",
       " <matplotlib.patches.Polygon at 0x1cb353ff828>,\n",
       " <matplotlib.patches.Polygon at 0x1cb353ffac8>,\n",
       " <matplotlib.patches.Polygon at 0x1cb353ffd68>,\n",
       " <matplotlib.patches.Polygon at 0x1cb353fffd0>,\n",
       " <matplotlib.patches.Polygon at 0x1cb353cc2e8>,\n",
       " <matplotlib.patches.Polygon at 0x1cb353cc588>,\n",
       " <matplotlib.patches.Polygon at 0x1cb353cc828>,\n",
       " <matplotlib.patches.Polygon at 0x1cb353ccac8>,\n",
       " <matplotlib.patches.Polygon at 0x1cb353ccd68>,\n",
       " <matplotlib.patches.Polygon at 0x1cb353ccfd0>,\n",
       " <matplotlib.patches.Polygon at 0x1cb353d42e8>,\n",
       " <matplotlib.patches.Polygon at 0x1cb353d4588>,\n",
       " <matplotlib.patches.Polygon at 0x1cb353d4828>,\n",
       " <matplotlib.patches.Polygon at 0x1cb353d4ac8>,\n",
       " <matplotlib.patches.Polygon at 0x1cb353d4d68>,\n",
       " <matplotlib.patches.Polygon at 0x1cb353d4fd0>,\n",
       " <matplotlib.patches.Polygon at 0x1cb352ae2e8>,\n",
       " <matplotlib.patches.Polygon at 0x1cb352ae588>,\n",
       " <matplotlib.patches.Polygon at 0x1cb352ae828>,\n",
       " <matplotlib.patches.Polygon at 0x1cb352aeac8>,\n",
       " <matplotlib.patches.Polygon at 0x1cb352aed68>]"
      ]
     },
     "execution_count": 8,
     "metadata": {},
     "output_type": "execute_result"
    },
    {
     "data": {
      "text/plain": [
       "<matplotlib.collections.LineCollection at 0x1cb352aee48>"
      ]
     },
     "execution_count": 8,
     "metadata": {},
     "output_type": "execute_result"
    },
    {
     "data": {
      "text/plain": [
       "<matplotlib.collections.LineCollection at 0x1cb352aeeb8>"
      ]
     },
     "execution_count": 8,
     "metadata": {},
     "output_type": "execute_result"
    },
    {
     "data": {
      "text/plain": [
       "[<matplotlib.lines.Line2D at 0x1cb34bc2a20>]"
      ]
     },
     "execution_count": 8,
     "metadata": {},
     "output_type": "execute_result"
    },
    {
     "data": {
      "text/plain": [
       "Text(0.5, 1.0, 'Filtered occurrences for Boselaphus tragocamelus')"
      ]
     },
     "execution_count": 8,
     "metadata": {},
     "output_type": "execute_result"
    },
    {
     "data": {
      "text/plain": [
       "<matplotlib.patches.Rectangle at 0x1cb359e8fd0>"
      ]
     },
     "execution_count": 8,
     "metadata": {},
     "output_type": "execute_result"
    },
    {
     "data": {
      "text/plain": [
       "[<matplotlib.patches.Polygon at 0x1cb358f55f8>,\n",
       " <matplotlib.patches.Polygon at 0x1cb358f59b0>,\n",
       " <matplotlib.patches.Polygon at 0x1cb358f5c50>,\n",
       " <matplotlib.patches.Polygon at 0x1cb358f5ef0>,\n",
       " <matplotlib.patches.Polygon at 0x1cb386ff1d0>,\n",
       " <matplotlib.patches.Polygon at 0x1cb386ff470>,\n",
       " <matplotlib.patches.Polygon at 0x1cb386ff710>,\n",
       " <matplotlib.patches.Polygon at 0x1cb386ff9b0>,\n",
       " <matplotlib.patches.Polygon at 0x1cb386ffc50>,\n",
       " <matplotlib.patches.Polygon at 0x1cb386ffef0>,\n",
       " <matplotlib.patches.Polygon at 0x1cb34bc51d0>,\n",
       " <matplotlib.patches.Polygon at 0x1cb34bc5470>,\n",
       " <matplotlib.patches.Polygon at 0x1cb34bc5710>,\n",
       " <matplotlib.patches.Polygon at 0x1cb34bc59b0>,\n",
       " <matplotlib.patches.Polygon at 0x1cb34bc5c50>,\n",
       " <matplotlib.patches.Polygon at 0x1cb34bc5ef0>,\n",
       " <matplotlib.patches.Polygon at 0x1cb3871f1d0>,\n",
       " <matplotlib.patches.Polygon at 0x1cb3871f470>,\n",
       " <matplotlib.patches.Polygon at 0x1cb3871f710>,\n",
       " <matplotlib.patches.Polygon at 0x1cb3871f9b0>,\n",
       " <matplotlib.patches.Polygon at 0x1cb3871fc50>,\n",
       " <matplotlib.patches.Polygon at 0x1cb3871fef0>,\n",
       " <matplotlib.patches.Polygon at 0x1cb393531d0>,\n",
       " <matplotlib.patches.Polygon at 0x1cb39353470>,\n",
       " <matplotlib.patches.Polygon at 0x1cb39353710>,\n",
       " <matplotlib.patches.Polygon at 0x1cb393539b0>,\n",
       " <matplotlib.patches.Polygon at 0x1cb39353c50>,\n",
       " <matplotlib.patches.Polygon at 0x1cb39353ef0>,\n",
       " <matplotlib.patches.Polygon at 0x1cb393541d0>,\n",
       " <matplotlib.patches.Polygon at 0x1cb39354470>,\n",
       " <matplotlib.patches.Polygon at 0x1cb39354710>,\n",
       " <matplotlib.patches.Polygon at 0x1cb393549b0>,\n",
       " <matplotlib.patches.Polygon at 0x1cb39354c50>,\n",
       " <matplotlib.patches.Polygon at 0x1cb39354ef0>,\n",
       " <matplotlib.patches.Polygon at 0x1cb34beb1d0>,\n",
       " <matplotlib.patches.Polygon at 0x1cb34beb470>,\n",
       " <matplotlib.patches.Polygon at 0x1cb34beb710>,\n",
       " <matplotlib.patches.Polygon at 0x1cb34beb9b0>,\n",
       " <matplotlib.patches.Polygon at 0x1cb34bebc50>,\n",
       " <matplotlib.patches.Polygon at 0x1cb34bebef0>,\n",
       " <matplotlib.patches.Polygon at 0x1cb34bdd1d0>,\n",
       " <matplotlib.patches.Polygon at 0x1cb34bdd470>,\n",
       " <matplotlib.patches.Polygon at 0x1cb34bdd710>,\n",
       " <matplotlib.patches.Polygon at 0x1cb34bdd9b0>,\n",
       " <matplotlib.patches.Polygon at 0x1cb34bddc50>,\n",
       " <matplotlib.patches.Polygon at 0x1cb34bddef0>,\n",
       " <matplotlib.patches.Polygon at 0x1cb3623c1d0>,\n",
       " <matplotlib.patches.Polygon at 0x1cb3623c470>,\n",
       " <matplotlib.patches.Polygon at 0x1cb3623c710>,\n",
       " <matplotlib.patches.Polygon at 0x1cb3623c9b0>,\n",
       " <matplotlib.patches.Polygon at 0x1cb3623cc88>,\n",
       " <matplotlib.patches.Polygon at 0x1cb3623cef0>,\n",
       " <matplotlib.patches.Polygon at 0x1cb3621d1d0>,\n",
       " <matplotlib.patches.Polygon at 0x1cb3621d470>,\n",
       " <matplotlib.patches.Polygon at 0x1cb3621d710>,\n",
       " <matplotlib.patches.Polygon at 0x1cb3621d9b0>,\n",
       " <matplotlib.patches.Polygon at 0x1cb3621dc50>,\n",
       " <matplotlib.patches.Polygon at 0x1cb3621df28>,\n",
       " <matplotlib.patches.Polygon at 0x1cb362271d0>,\n",
       " <matplotlib.patches.Polygon at 0x1cb36227470>,\n",
       " <matplotlib.patches.Polygon at 0x1cb36227710>,\n",
       " <matplotlib.patches.Polygon at 0x1cb362279b0>,\n",
       " <matplotlib.patches.Polygon at 0x1cb36227c50>,\n",
       " <matplotlib.patches.Polygon at 0x1cb36227ef0>,\n",
       " <matplotlib.patches.Polygon at 0x1cb35dd21d0>,\n",
       " <matplotlib.patches.Polygon at 0x1cb35dd2470>,\n",
       " <matplotlib.patches.Polygon at 0x1cb35dd2710>,\n",
       " <matplotlib.patches.Polygon at 0x1cb35dd29b0>,\n",
       " <matplotlib.patches.Polygon at 0x1cb35dd2c50>,\n",
       " <matplotlib.patches.Polygon at 0x1cb35dd2ef0>,\n",
       " <matplotlib.patches.Polygon at 0x1cb35dce1d0>,\n",
       " <matplotlib.patches.Polygon at 0x1cb35dce470>,\n",
       " <matplotlib.patches.Polygon at 0x1cb35dce710>,\n",
       " <matplotlib.patches.Polygon at 0x1cb35dce9b0>,\n",
       " <matplotlib.patches.Polygon at 0x1cb35dcec50>,\n",
       " <matplotlib.patches.Polygon at 0x1cb35dceef0>,\n",
       " <matplotlib.patches.Polygon at 0x1cb35da81d0>,\n",
       " <matplotlib.patches.Polygon at 0x1cb35da8470>,\n",
       " <matplotlib.patches.Polygon at 0x1cb35da8710>,\n",
       " <matplotlib.patches.Polygon at 0x1cb35da89b0>,\n",
       " <matplotlib.patches.Polygon at 0x1cb35da8c50>,\n",
       " <matplotlib.patches.Polygon at 0x1cb35da8ef0>,\n",
       " <matplotlib.patches.Polygon at 0x1cb3b7e31d0>,\n",
       " <matplotlib.patches.Polygon at 0x1cb3b7e3470>,\n",
       " <matplotlib.patches.Polygon at 0x1cb3b7e3710>,\n",
       " <matplotlib.patches.Polygon at 0x1cb3b7e39b0>,\n",
       " <matplotlib.patches.Polygon at 0x1cb3b7e3c50>,\n",
       " <matplotlib.patches.Polygon at 0x1cb3b7e3ef0>,\n",
       " <matplotlib.patches.Polygon at 0x1cb3b7e21d0>,\n",
       " <matplotlib.patches.Polygon at 0x1cb3b7e2470>,\n",
       " <matplotlib.patches.Polygon at 0x1cb3b7e2710>,\n",
       " <matplotlib.patches.Polygon at 0x1cb3b7e29b0>,\n",
       " <matplotlib.patches.Polygon at 0x1cb3b7e2c50>,\n",
       " <matplotlib.patches.Polygon at 0x1cb3b7e2ef0>,\n",
       " <matplotlib.patches.Polygon at 0x1cb3b80d1d0>,\n",
       " <matplotlib.patches.Polygon at 0x1cb3b80d470>,\n",
       " <matplotlib.patches.Polygon at 0x1cb3b80d710>,\n",
       " <matplotlib.patches.Polygon at 0x1cb3b80d9b0>,\n",
       " <matplotlib.patches.Polygon at 0x1cb3b80dc50>,\n",
       " <matplotlib.patches.Polygon at 0x1cb3b80def0>,\n",
       " <matplotlib.patches.Polygon at 0x1cb386a01d0>,\n",
       " <matplotlib.patches.Polygon at 0x1cb386a0470>,\n",
       " <matplotlib.patches.Polygon at 0x1cb386a0710>,\n",
       " <matplotlib.patches.Polygon at 0x1cb386a09b0>,\n",
       " <matplotlib.patches.Polygon at 0x1cb386a0c50>,\n",
       " <matplotlib.patches.Polygon at 0x1cb386a0ef0>,\n",
       " <matplotlib.patches.Polygon at 0x1cb386ae208>,\n",
       " <matplotlib.patches.Polygon at 0x1cb386ae470>,\n",
       " <matplotlib.patches.Polygon at 0x1cb386ae710>,\n",
       " <matplotlib.patches.Polygon at 0x1cb386ae9b0>,\n",
       " <matplotlib.patches.Polygon at 0x1cb386aec88>,\n",
       " <matplotlib.patches.Polygon at 0x1cb386aef28>,\n",
       " <matplotlib.patches.Polygon at 0x1cb386c41d0>,\n",
       " <matplotlib.patches.Polygon at 0x1cb386c4470>,\n",
       " <matplotlib.patches.Polygon at 0x1cb386c4710>]"
      ]
     },
     "execution_count": 8,
     "metadata": {},
     "output_type": "execute_result"
    },
    {
     "data": {
      "text/plain": [
       "<matplotlib.collections.LineCollection at 0x1cb358d4c88>"
      ]
     },
     "execution_count": 8,
     "metadata": {},
     "output_type": "execute_result"
    },
    {
     "data": {
      "text/plain": [
       "<matplotlib.collections.LineCollection at 0x1cb38671e48>"
      ]
     },
     "execution_count": 8,
     "metadata": {},
     "output_type": "execute_result"
    },
    {
     "data": {
      "text/plain": [
       "[<matplotlib.lines.Line2D at 0x1cb3867f160>]"
      ]
     },
     "execution_count": 8,
     "metadata": {},
     "output_type": "execute_result"
    },
    {
     "data": {
      "text/plain": [
       "Text(0.5, 1.0, 'Filtered occurrences for Capra ibex')"
      ]
     },
     "execution_count": 8,
     "metadata": {},
     "output_type": "execute_result"
    },
    {
     "data": {
      "text/plain": [
       "<matplotlib.patches.Rectangle at 0x1cb34bbfbe0>"
      ]
     },
     "execution_count": 8,
     "metadata": {},
     "output_type": "execute_result"
    },
    {
     "data": {
      "text/plain": [
       "[<matplotlib.patches.Polygon at 0x1cb36222320>,\n",
       " <matplotlib.patches.Polygon at 0x1cb36222630>,\n",
       " <matplotlib.patches.Polygon at 0x1cb362228d0>,\n",
       " <matplotlib.patches.Polygon at 0x1cb36222b70>,\n",
       " <matplotlib.patches.Polygon at 0x1cb36222e10>,\n",
       " <matplotlib.patches.Polygon at 0x1cb3b8010f0>,\n",
       " <matplotlib.patches.Polygon at 0x1cb3b801390>,\n",
       " <matplotlib.patches.Polygon at 0x1cb3b801630>,\n",
       " <matplotlib.patches.Polygon at 0x1cb3b8018d0>,\n",
       " <matplotlib.patches.Polygon at 0x1cb3b801b70>,\n",
       " <matplotlib.patches.Polygon at 0x1cb3b801e10>,\n",
       " <matplotlib.patches.Polygon at 0x1cb3b8020f0>,\n",
       " <matplotlib.patches.Polygon at 0x1cb3b802390>,\n",
       " <matplotlib.patches.Polygon at 0x1cb3b802630>,\n",
       " <matplotlib.patches.Polygon at 0x1cb3b8028d0>,\n",
       " <matplotlib.patches.Polygon at 0x1cb3b802b70>,\n",
       " <matplotlib.patches.Polygon at 0x1cb3b802e10>,\n",
       " <matplotlib.patches.Polygon at 0x1cb393580f0>,\n",
       " <matplotlib.patches.Polygon at 0x1cb39358390>,\n",
       " <matplotlib.patches.Polygon at 0x1cb39358630>,\n",
       " <matplotlib.patches.Polygon at 0x1cb393588d0>,\n",
       " <matplotlib.patches.Polygon at 0x1cb39358b70>,\n",
       " <matplotlib.patches.Polygon at 0x1cb39358e10>,\n",
       " <matplotlib.patches.Polygon at 0x1cb39376128>,\n",
       " <matplotlib.patches.Polygon at 0x1cb39376390>,\n",
       " <matplotlib.patches.Polygon at 0x1cb39376630>,\n",
       " <matplotlib.patches.Polygon at 0x1cb393768d0>,\n",
       " <matplotlib.patches.Polygon at 0x1cb39376b70>,\n",
       " <matplotlib.patches.Polygon at 0x1cb39376e10>,\n",
       " <matplotlib.patches.Polygon at 0x1cb34bf20f0>,\n",
       " <matplotlib.patches.Polygon at 0x1cb34bf2390>,\n",
       " <matplotlib.patches.Polygon at 0x1cb34bf2630>,\n",
       " <matplotlib.patches.Polygon at 0x1cb34bf28d0>,\n",
       " <matplotlib.patches.Polygon at 0x1cb34bf2b70>,\n",
       " <matplotlib.patches.Polygon at 0x1cb34bf2e10>,\n",
       " <matplotlib.patches.Polygon at 0x1cb34bdf0f0>,\n",
       " <matplotlib.patches.Polygon at 0x1cb34bdf390>,\n",
       " <matplotlib.patches.Polygon at 0x1cb34bdf630>,\n",
       " <matplotlib.patches.Polygon at 0x1cb34bdf8d0>,\n",
       " <matplotlib.patches.Polygon at 0x1cb34bdfb70>,\n",
       " <matplotlib.patches.Polygon at 0x1cb34bdfe10>,\n",
       " <matplotlib.patches.Polygon at 0x1cb35f020f0>,\n",
       " <matplotlib.patches.Polygon at 0x1cb35f02390>,\n",
       " <matplotlib.patches.Polygon at 0x1cb35f02630>,\n",
       " <matplotlib.patches.Polygon at 0x1cb35f028d0>,\n",
       " <matplotlib.patches.Polygon at 0x1cb35f02b70>,\n",
       " <matplotlib.patches.Polygon at 0x1cb35f02e10>,\n",
       " <matplotlib.patches.Polygon at 0x1cb35eeb0f0>,\n",
       " <matplotlib.patches.Polygon at 0x1cb35eeb390>,\n",
       " <matplotlib.patches.Polygon at 0x1cb35eeb630>,\n",
       " <matplotlib.patches.Polygon at 0x1cb35eeb8d0>,\n",
       " <matplotlib.patches.Polygon at 0x1cb35eebb70>,\n",
       " <matplotlib.patches.Polygon at 0x1cb35eebe10>,\n",
       " <matplotlib.patches.Polygon at 0x1cb360a00f0>,\n",
       " <matplotlib.patches.Polygon at 0x1cb360a0390>,\n",
       " <matplotlib.patches.Polygon at 0x1cb360a0630>,\n",
       " <matplotlib.patches.Polygon at 0x1cb360a08d0>,\n",
       " <matplotlib.patches.Polygon at 0x1cb360a0b70>,\n",
       " <matplotlib.patches.Polygon at 0x1cb360a0e10>,\n",
       " <matplotlib.patches.Polygon at 0x1cb360b80f0>,\n",
       " <matplotlib.patches.Polygon at 0x1cb360b8390>,\n",
       " <matplotlib.patches.Polygon at 0x1cb360b8630>,\n",
       " <matplotlib.patches.Polygon at 0x1cb360b88d0>,\n",
       " <matplotlib.patches.Polygon at 0x1cb360b8b70>,\n",
       " <matplotlib.patches.Polygon at 0x1cb360b8e10>,\n",
       " <matplotlib.patches.Polygon at 0x1cb360bd0f0>,\n",
       " <matplotlib.patches.Polygon at 0x1cb360bd390>,\n",
       " <matplotlib.patches.Polygon at 0x1cb360bd630>,\n",
       " <matplotlib.patches.Polygon at 0x1cb360bd8d0>,\n",
       " <matplotlib.patches.Polygon at 0x1cb360bdb70>,\n",
       " <matplotlib.patches.Polygon at 0x1cb360bde10>,\n",
       " <matplotlib.patches.Polygon at 0x1cb391760f0>,\n",
       " <matplotlib.patches.Polygon at 0x1cb39176390>,\n",
       " <matplotlib.patches.Polygon at 0x1cb39176630>,\n",
       " <matplotlib.patches.Polygon at 0x1cb391768d0>,\n",
       " <matplotlib.patches.Polygon at 0x1cb39176b70>,\n",
       " <matplotlib.patches.Polygon at 0x1cb39176e10>,\n",
       " <matplotlib.patches.Polygon at 0x1cb3918b0f0>,\n",
       " <matplotlib.patches.Polygon at 0x1cb3918b390>,\n",
       " <matplotlib.patches.Polygon at 0x1cb3918b630>,\n",
       " <matplotlib.patches.Polygon at 0x1cb3918b8d0>,\n",
       " <matplotlib.patches.Polygon at 0x1cb3918bb70>,\n",
       " <matplotlib.patches.Polygon at 0x1cb3918be10>,\n",
       " <matplotlib.patches.Polygon at 0x1cb3919a0f0>,\n",
       " <matplotlib.patches.Polygon at 0x1cb3919a390>,\n",
       " <matplotlib.patches.Polygon at 0x1cb3919a630>,\n",
       " <matplotlib.patches.Polygon at 0x1cb3919a8d0>,\n",
       " <matplotlib.patches.Polygon at 0x1cb3919aba8>,\n",
       " <matplotlib.patches.Polygon at 0x1cb3919ae10>,\n",
       " <matplotlib.patches.Polygon at 0x1cb351420f0>,\n",
       " <matplotlib.patches.Polygon at 0x1cb35142390>,\n",
       " <matplotlib.patches.Polygon at 0x1cb35142630>,\n",
       " <matplotlib.patches.Polygon at 0x1cb351428d0>,\n",
       " <matplotlib.patches.Polygon at 0x1cb35142ba8>,\n",
       " <matplotlib.patches.Polygon at 0x1cb35142e10>,\n",
       " <matplotlib.patches.Polygon at 0x1cb351550f0>]"
      ]
     },
     "execution_count": 8,
     "metadata": {},
     "output_type": "execute_result"
    },
    {
     "data": {
      "text/plain": [
       "<matplotlib.collections.LineCollection at 0x1cb36222b38>"
      ]
     },
     "execution_count": 8,
     "metadata": {},
     "output_type": "execute_result"
    },
    {
     "data": {
      "text/plain": [
       "<matplotlib.collections.LineCollection at 0x1cb35155a58>"
      ]
     },
     "execution_count": 8,
     "metadata": {},
     "output_type": "execute_result"
    },
    {
     "data": {
      "text/plain": [
       "[<matplotlib.lines.Line2D at 0x1cb3916f710>]"
      ]
     },
     "execution_count": 8,
     "metadata": {},
     "output_type": "execute_result"
    },
    {
     "data": {
      "text/plain": [
       "Text(0.5, 1.0, 'Filtered occurrences for Capra nubiana')"
      ]
     },
     "execution_count": 8,
     "metadata": {},
     "output_type": "execute_result"
    },
    {
     "data": {
      "text/plain": [
       "<matplotlib.patches.Rectangle at 0x1cb35175748>"
      ]
     },
     "execution_count": 8,
     "metadata": {},
     "output_type": "execute_result"
    },
    {
     "data": {
      "text/plain": [
       "[<matplotlib.patches.Polygon at 0x1cb3a0b9d68>,\n",
       " <matplotlib.patches.Polygon at 0x1cb36e39160>,\n",
       " <matplotlib.patches.Polygon at 0x1cb36e39400>,\n",
       " <matplotlib.patches.Polygon at 0x1cb36e396a0>,\n",
       " <matplotlib.patches.Polygon at 0x1cb36e39940>,\n",
       " <matplotlib.patches.Polygon at 0x1cb36e39be0>,\n",
       " <matplotlib.patches.Polygon at 0x1cb36e39e80>,\n",
       " <matplotlib.patches.Polygon at 0x1cb3a0fc160>,\n",
       " <matplotlib.patches.Polygon at 0x1cb3a0fc400>,\n",
       " <matplotlib.patches.Polygon at 0x1cb3a0fc6a0>,\n",
       " <matplotlib.patches.Polygon at 0x1cb3a0fc940>,\n",
       " <matplotlib.patches.Polygon at 0x1cb3a0fcbe0>,\n",
       " <matplotlib.patches.Polygon at 0x1cb3a0fce80>,\n",
       " <matplotlib.patches.Polygon at 0x1cb36e59160>,\n",
       " <matplotlib.patches.Polygon at 0x1cb36e59400>,\n",
       " <matplotlib.patches.Polygon at 0x1cb36e596a0>,\n",
       " <matplotlib.patches.Polygon at 0x1cb36e59940>,\n",
       " <matplotlib.patches.Polygon at 0x1cb36e59be0>,\n",
       " <matplotlib.patches.Polygon at 0x1cb36e59e80>,\n",
       " <matplotlib.patches.Polygon at 0x1cb36e21160>,\n",
       " <matplotlib.patches.Polygon at 0x1cb36e21400>,\n",
       " <matplotlib.patches.Polygon at 0x1cb36e216a0>,\n",
       " <matplotlib.patches.Polygon at 0x1cb36e21940>,\n",
       " <matplotlib.patches.Polygon at 0x1cb36e21be0>,\n",
       " <matplotlib.patches.Polygon at 0x1cb36e21e80>,\n",
       " <matplotlib.patches.Polygon at 0x1cb35ee9160>,\n",
       " <matplotlib.patches.Polygon at 0x1cb35ee9400>,\n",
       " <matplotlib.patches.Polygon at 0x1cb35ee96a0>,\n",
       " <matplotlib.patches.Polygon at 0x1cb35ee9940>,\n",
       " <matplotlib.patches.Polygon at 0x1cb35ee9be0>,\n",
       " <matplotlib.patches.Polygon at 0x1cb35ee9e80>,\n",
       " <matplotlib.patches.Polygon at 0x1cb35f12160>,\n",
       " <matplotlib.patches.Polygon at 0x1cb35f12438>,\n",
       " <matplotlib.patches.Polygon at 0x1cb35f126a0>,\n",
       " <matplotlib.patches.Polygon at 0x1cb35f12940>,\n",
       " <matplotlib.patches.Polygon at 0x1cb35f12be0>,\n",
       " <matplotlib.patches.Polygon at 0x1cb35f12eb8>,\n",
       " <matplotlib.patches.Polygon at 0x1cb36085160>,\n",
       " <matplotlib.patches.Polygon at 0x1cb36085400>,\n",
       " <matplotlib.patches.Polygon at 0x1cb360856a0>,\n",
       " <matplotlib.patches.Polygon at 0x1cb36085940>,\n",
       " <matplotlib.patches.Polygon at 0x1cb36085be0>,\n",
       " <matplotlib.patches.Polygon at 0x1cb36085e80>,\n",
       " <matplotlib.patches.Polygon at 0x1cb3609c160>,\n",
       " <matplotlib.patches.Polygon at 0x1cb3609c400>,\n",
       " <matplotlib.patches.Polygon at 0x1cb3609c6a0>,\n",
       " <matplotlib.patches.Polygon at 0x1cb3609c940>,\n",
       " <matplotlib.patches.Polygon at 0x1cb3609cbe0>,\n",
       " <matplotlib.patches.Polygon at 0x1cb3609ce80>,\n",
       " <matplotlib.patches.Polygon at 0x1cb360bc160>,\n",
       " <matplotlib.patches.Polygon at 0x1cb360bc400>,\n",
       " <matplotlib.patches.Polygon at 0x1cb360bc6a0>,\n",
       " <matplotlib.patches.Polygon at 0x1cb360bc940>,\n",
       " <matplotlib.patches.Polygon at 0x1cb360bcbe0>,\n",
       " <matplotlib.patches.Polygon at 0x1cb360bce80>,\n",
       " <matplotlib.patches.Polygon at 0x1cb3a0da160>,\n",
       " <matplotlib.patches.Polygon at 0x1cb3a0da400>,\n",
       " <matplotlib.patches.Polygon at 0x1cb3a0da6a0>,\n",
       " <matplotlib.patches.Polygon at 0x1cb3a0da940>,\n",
       " <matplotlib.patches.Polygon at 0x1cb3a0dabe0>,\n",
       " <matplotlib.patches.Polygon at 0x1cb3a0dae80>,\n",
       " <matplotlib.patches.Polygon at 0x1cb3a0ce160>,\n",
       " <matplotlib.patches.Polygon at 0x1cb3a0ce400>,\n",
       " <matplotlib.patches.Polygon at 0x1cb3a0ce6a0>,\n",
       " <matplotlib.patches.Polygon at 0x1cb3a0ce940>,\n",
       " <matplotlib.patches.Polygon at 0x1cb3a0cebe0>,\n",
       " <matplotlib.patches.Polygon at 0x1cb3a0cee80>,\n",
       " <matplotlib.patches.Polygon at 0x1cb35d3a160>,\n",
       " <matplotlib.patches.Polygon at 0x1cb35d3a400>,\n",
       " <matplotlib.patches.Polygon at 0x1cb35d3a6a0>,\n",
       " <matplotlib.patches.Polygon at 0x1cb35d3a940>,\n",
       " <matplotlib.patches.Polygon at 0x1cb35d3abe0>,\n",
       " <matplotlib.patches.Polygon at 0x1cb35d3ae80>,\n",
       " <matplotlib.patches.Polygon at 0x1cb35d3e160>,\n",
       " <matplotlib.patches.Polygon at 0x1cb35d3e400>,\n",
       " <matplotlib.patches.Polygon at 0x1cb35d3e6a0>,\n",
       " <matplotlib.patches.Polygon at 0x1cb35d3e940>,\n",
       " <matplotlib.patches.Polygon at 0x1cb35d3ebe0>,\n",
       " <matplotlib.patches.Polygon at 0x1cb35d3ee80>,\n",
       " <matplotlib.patches.Polygon at 0x1cb35d3f160>,\n",
       " <matplotlib.patches.Polygon at 0x1cb35d3f438>,\n",
       " <matplotlib.patches.Polygon at 0x1cb35d3f6a0>,\n",
       " <matplotlib.patches.Polygon at 0x1cb35d3f940>,\n",
       " <matplotlib.patches.Polygon at 0x1cb35d3fc18>,\n",
       " <matplotlib.patches.Polygon at 0x1cb35d3fe80>,\n",
       " <matplotlib.patches.Polygon at 0x1cb39167160>,\n",
       " <matplotlib.patches.Polygon at 0x1cb39167400>,\n",
       " <matplotlib.patches.Polygon at 0x1cb391676d8>,\n",
       " <matplotlib.patches.Polygon at 0x1cb39167978>,\n",
       " <matplotlib.patches.Polygon at 0x1cb39167be0>,\n",
       " <matplotlib.patches.Polygon at 0x1cb39167e80>,\n",
       " <matplotlib.patches.Polygon at 0x1cb3913a160>]"
      ]
     },
     "execution_count": 8,
     "metadata": {},
     "output_type": "execute_result"
    },
    {
     "data": {
      "text/plain": [
       "<matplotlib.collections.LineCollection at 0x1cb3913a278>"
      ]
     },
     "execution_count": 8,
     "metadata": {},
     "output_type": "execute_result"
    },
    {
     "data": {
      "text/plain": [
       "<matplotlib.collections.LineCollection at 0x1cb3913a240>"
      ]
     },
     "execution_count": 8,
     "metadata": {},
     "output_type": "execute_result"
    },
    {
     "data": {
      "text/plain": [
       "[<matplotlib.lines.Line2D at 0x1cb3918aa58>]"
      ]
     },
     "execution_count": 8,
     "metadata": {},
     "output_type": "execute_result"
    },
    {
     "data": {
      "text/plain": [
       "Text(0.5, 1.0, 'Filtered occurrences for Capra pyrenaica')"
      ]
     },
     "execution_count": 8,
     "metadata": {},
     "output_type": "execute_result"
    },
    {
     "data": {
      "text/plain": [
       "<matplotlib.patches.Rectangle at 0x1cb35da33c8>"
      ]
     },
     "execution_count": 8,
     "metadata": {},
     "output_type": "execute_result"
    },
    {
     "data": {
      "text/plain": [
       "[<matplotlib.patches.Polygon at 0x1cb36e5e4a8>,\n",
       " <matplotlib.patches.Polygon at 0x1cb36e5e8d0>,\n",
       " <matplotlib.patches.Polygon at 0x1cb36e5eb70>,\n",
       " <matplotlib.patches.Polygon at 0x1cb36e5ee10>,\n",
       " <matplotlib.patches.Polygon at 0x1cb36e480f0>,\n",
       " <matplotlib.patches.Polygon at 0x1cb36e48390>,\n",
       " <matplotlib.patches.Polygon at 0x1cb36e48630>,\n",
       " <matplotlib.patches.Polygon at 0x1cb36e488d0>,\n",
       " <matplotlib.patches.Polygon at 0x1cb36e48b70>,\n",
       " <matplotlib.patches.Polygon at 0x1cb36e48e10>,\n",
       " <matplotlib.patches.Polygon at 0x1cb2db700f0>,\n",
       " <matplotlib.patches.Polygon at 0x1cb2db70390>,\n",
       " <matplotlib.patches.Polygon at 0x1cb2db70630>,\n",
       " <matplotlib.patches.Polygon at 0x1cb2db70908>,\n",
       " <matplotlib.patches.Polygon at 0x1cb2db70b70>,\n",
       " <matplotlib.patches.Polygon at 0x1cb2db70e10>,\n",
       " <matplotlib.patches.Polygon at 0x1cb2db930f0>,\n",
       " <matplotlib.patches.Polygon at 0x1cb2db93390>,\n",
       " <matplotlib.patches.Polygon at 0x1cb2db93630>,\n",
       " <matplotlib.patches.Polygon at 0x1cb2db938d0>,\n",
       " <matplotlib.patches.Polygon at 0x1cb2db93b70>,\n",
       " <matplotlib.patches.Polygon at 0x1cb2db93e10>,\n",
       " <matplotlib.patches.Polygon at 0x1cb2db7f0f0>,\n",
       " <matplotlib.patches.Polygon at 0x1cb2db7f390>,\n",
       " <matplotlib.patches.Polygon at 0x1cb2db7f668>,\n",
       " <matplotlib.patches.Polygon at 0x1cb2db7f8d0>,\n",
       " <matplotlib.patches.Polygon at 0x1cb2db7fb70>,\n",
       " <matplotlib.patches.Polygon at 0x1cb2db7fe10>,\n",
       " <matplotlib.patches.Polygon at 0x1cb34de40f0>,\n",
       " <matplotlib.patches.Polygon at 0x1cb34de4390>,\n",
       " <matplotlib.patches.Polygon at 0x1cb34de4630>,\n",
       " <matplotlib.patches.Polygon at 0x1cb34de48d0>,\n",
       " <matplotlib.patches.Polygon at 0x1cb34de4b70>,\n",
       " <matplotlib.patches.Polygon at 0x1cb34de4e10>,\n",
       " <matplotlib.patches.Polygon at 0x1cb34de50f0>,\n",
       " <matplotlib.patches.Polygon at 0x1cb34de5390>,\n",
       " <matplotlib.patches.Polygon at 0x1cb34de5630>,\n",
       " <matplotlib.patches.Polygon at 0x1cb34de58d0>,\n",
       " <matplotlib.patches.Polygon at 0x1cb34de5b70>,\n",
       " <matplotlib.patches.Polygon at 0x1cb34de5e10>,\n",
       " <matplotlib.patches.Polygon at 0x1cb2dbbb0f0>,\n",
       " <matplotlib.patches.Polygon at 0x1cb2dbbb390>,\n",
       " <matplotlib.patches.Polygon at 0x1cb2dbbb630>,\n",
       " <matplotlib.patches.Polygon at 0x1cb2dbbb8d0>,\n",
       " <matplotlib.patches.Polygon at 0x1cb2dbbbb70>,\n",
       " <matplotlib.patches.Polygon at 0x1cb2dbbbe10>,\n",
       " <matplotlib.patches.Polygon at 0x1cb2dbc10f0>,\n",
       " <matplotlib.patches.Polygon at 0x1cb2dbc1390>,\n",
       " <matplotlib.patches.Polygon at 0x1cb2dbc1630>,\n",
       " <matplotlib.patches.Polygon at 0x1cb2dbc18d0>,\n",
       " <matplotlib.patches.Polygon at 0x1cb2dbc1b70>,\n",
       " <matplotlib.patches.Polygon at 0x1cb2dbc1e10>,\n",
       " <matplotlib.patches.Polygon at 0x1cb2dbd60f0>,\n",
       " <matplotlib.patches.Polygon at 0x1cb2dbd6390>,\n",
       " <matplotlib.patches.Polygon at 0x1cb2dbd6630>,\n",
       " <matplotlib.patches.Polygon at 0x1cb2dbd68d0>,\n",
       " <matplotlib.patches.Polygon at 0x1cb2dbd6b70>,\n",
       " <matplotlib.patches.Polygon at 0x1cb2dbd6e10>,\n",
       " <matplotlib.patches.Polygon at 0x1cb391070f0>,\n",
       " <matplotlib.patches.Polygon at 0x1cb39107390>,\n",
       " <matplotlib.patches.Polygon at 0x1cb39107630>,\n",
       " <matplotlib.patches.Polygon at 0x1cb391078d0>,\n",
       " <matplotlib.patches.Polygon at 0x1cb39107b70>,\n",
       " <matplotlib.patches.Polygon at 0x1cb39107e10>,\n",
       " <matplotlib.patches.Polygon at 0x1cb391270f0>,\n",
       " <matplotlib.patches.Polygon at 0x1cb39127390>,\n",
       " <matplotlib.patches.Polygon at 0x1cb39127630>,\n",
       " <matplotlib.patches.Polygon at 0x1cb391278d0>,\n",
       " <matplotlib.patches.Polygon at 0x1cb39127b70>,\n",
       " <matplotlib.patches.Polygon at 0x1cb39127e10>,\n",
       " <matplotlib.patches.Polygon at 0x1cb352390f0>,\n",
       " <matplotlib.patches.Polygon at 0x1cb35239390>,\n",
       " <matplotlib.patches.Polygon at 0x1cb35239630>,\n",
       " <matplotlib.patches.Polygon at 0x1cb352398d0>,\n",
       " <matplotlib.patches.Polygon at 0x1cb35239b70>,\n",
       " <matplotlib.patches.Polygon at 0x1cb35239e10>,\n",
       " <matplotlib.patches.Polygon at 0x1cb352240f0>,\n",
       " <matplotlib.patches.Polygon at 0x1cb35224390>,\n",
       " <matplotlib.patches.Polygon at 0x1cb35224630>,\n",
       " <matplotlib.patches.Polygon at 0x1cb352248d0>,\n",
       " <matplotlib.patches.Polygon at 0x1cb35224b70>,\n",
       " <matplotlib.patches.Polygon at 0x1cb35224e10>,\n",
       " <matplotlib.patches.Polygon at 0x1cb3522a0f0>,\n",
       " <matplotlib.patches.Polygon at 0x1cb3522a390>,\n",
       " <matplotlib.patches.Polygon at 0x1cb3522a630>,\n",
       " <matplotlib.patches.Polygon at 0x1cb3522a8d0>,\n",
       " <matplotlib.patches.Polygon at 0x1cb3522ab70>,\n",
       " <matplotlib.patches.Polygon at 0x1cb3522ae10>,\n",
       " <matplotlib.patches.Polygon at 0x1cb3611d0f0>,\n",
       " <matplotlib.patches.Polygon at 0x1cb3611d390>,\n",
       " <matplotlib.patches.Polygon at 0x1cb3611d630>,\n",
       " <matplotlib.patches.Polygon at 0x1cb3611d8d0>,\n",
       " <matplotlib.patches.Polygon at 0x1cb3611db70>,\n",
       " <matplotlib.patches.Polygon at 0x1cb3611de10>,\n",
       " <matplotlib.patches.Polygon at 0x1cb361140f0>,\n",
       " <matplotlib.patches.Polygon at 0x1cb36114390>,\n",
       " <matplotlib.patches.Polygon at 0x1cb36114630>,\n",
       " <matplotlib.patches.Polygon at 0x1cb361148d0>,\n",
       " <matplotlib.patches.Polygon at 0x1cb36114b70>,\n",
       " <matplotlib.patches.Polygon at 0x1cb36114e10>,\n",
       " <matplotlib.patches.Polygon at 0x1cb3610c0f0>,\n",
       " <matplotlib.patches.Polygon at 0x1cb3610c390>,\n",
       " <matplotlib.patches.Polygon at 0x1cb3610c630>,\n",
       " <matplotlib.patches.Polygon at 0x1cb3610c8d0>,\n",
       " <matplotlib.patches.Polygon at 0x1cb3610cb70>,\n",
       " <matplotlib.patches.Polygon at 0x1cb3610ce10>,\n",
       " <matplotlib.patches.Polygon at 0x1cb386fe0f0>,\n",
       " <matplotlib.patches.Polygon at 0x1cb386fe390>,\n",
       " <matplotlib.patches.Polygon at 0x1cb386fe630>,\n",
       " <matplotlib.patches.Polygon at 0x1cb386fe8d0>,\n",
       " <matplotlib.patches.Polygon at 0x1cb386feb70>,\n",
       " <matplotlib.patches.Polygon at 0x1cb386fee10>,\n",
       " <matplotlib.patches.Polygon at 0x1cb386eb0f0>,\n",
       " <matplotlib.patches.Polygon at 0x1cb386eb390>]"
      ]
     },
     "execution_count": 8,
     "metadata": {},
     "output_type": "execute_result"
    },
    {
     "data": {
      "text/plain": [
       "<matplotlib.collections.LineCollection at 0x1cb386eb4a8>"
      ]
     },
     "execution_count": 8,
     "metadata": {},
     "output_type": "execute_result"
    },
    {
     "data": {
      "text/plain": [
       "<matplotlib.collections.LineCollection at 0x1cb386eb470>"
      ]
     },
     "execution_count": 8,
     "metadata": {},
     "output_type": "execute_result"
    },
    {
     "data": {
      "text/plain": [
       "[<matplotlib.lines.Line2D at 0x1cb39c89780>]"
      ]
     },
     "execution_count": 8,
     "metadata": {},
     "output_type": "execute_result"
    },
    {
     "data": {
      "text/plain": [
       "Text(0.5, 1.0, 'Filtered occurrences for Capra sibirica')"
      ]
     },
     "execution_count": 8,
     "metadata": {},
     "output_type": "execute_result"
    },
    {
     "data": {
      "text/plain": [
       "<matplotlib.patches.Rectangle at 0x1cb386f5c88>"
      ]
     },
     "execution_count": 8,
     "metadata": {},
     "output_type": "execute_result"
    },
    {
     "data": {
      "text/plain": [
       "[<matplotlib.patches.Polygon at 0x1cb3a0ba400>,\n",
       " <matplotlib.patches.Polygon at 0x1cb3a0ba6d8>,\n",
       " <matplotlib.patches.Polygon at 0x1cb3a0ba978>,\n",
       " <matplotlib.patches.Polygon at 0x1cb3a0bac18>,\n",
       " <matplotlib.patches.Polygon at 0x1cb3a0baeb8>,\n",
       " <matplotlib.patches.Polygon at 0x1cb3fa7e198>,\n",
       " <matplotlib.patches.Polygon at 0x1cb3fa7e438>,\n",
       " <matplotlib.patches.Polygon at 0x1cb3fa7e6d8>,\n",
       " <matplotlib.patches.Polygon at 0x1cb3fa7e9b0>,\n",
       " <matplotlib.patches.Polygon at 0x1cb3fa7ec18>,\n",
       " <matplotlib.patches.Polygon at 0x1cb3fa7eeb8>,\n",
       " <matplotlib.patches.Polygon at 0x1cb2db9a198>,\n",
       " <matplotlib.patches.Polygon at 0x1cb2db9a438>,\n",
       " <matplotlib.patches.Polygon at 0x1cb2db9a6d8>,\n",
       " <matplotlib.patches.Polygon at 0x1cb2db9a978>,\n",
       " <matplotlib.patches.Polygon at 0x1cb2db9ac18>,\n",
       " <matplotlib.patches.Polygon at 0x1cb2db9aeb8>,\n",
       " <matplotlib.patches.Polygon at 0x1cb3fbc4198>,\n",
       " <matplotlib.patches.Polygon at 0x1cb3fbc4438>,\n",
       " <matplotlib.patches.Polygon at 0x1cb3fbc46d8>,\n",
       " <matplotlib.patches.Polygon at 0x1cb3fbc4978>,\n",
       " <matplotlib.patches.Polygon at 0x1cb3fbc4c18>,\n",
       " <matplotlib.patches.Polygon at 0x1cb3fbc4eb8>,\n",
       " <matplotlib.patches.Polygon at 0x1cb3fbcf198>,\n",
       " <matplotlib.patches.Polygon at 0x1cb3fbcf438>,\n",
       " <matplotlib.patches.Polygon at 0x1cb3fbcf6d8>,\n",
       " <matplotlib.patches.Polygon at 0x1cb3fbcf978>,\n",
       " <matplotlib.patches.Polygon at 0x1cb3fbcfc18>,\n",
       " <matplotlib.patches.Polygon at 0x1cb3fbcfeb8>,\n",
       " <matplotlib.patches.Polygon at 0x1cb39d48198>,\n",
       " <matplotlib.patches.Polygon at 0x1cb39d48438>,\n",
       " <matplotlib.patches.Polygon at 0x1cb39d486d8>,\n",
       " <matplotlib.patches.Polygon at 0x1cb39d48978>,\n",
       " <matplotlib.patches.Polygon at 0x1cb39d48c18>,\n",
       " <matplotlib.patches.Polygon at 0x1cb39d48eb8>,\n",
       " <matplotlib.patches.Polygon at 0x1cb3872d198>,\n",
       " <matplotlib.patches.Polygon at 0x1cb3872d438>,\n",
       " <matplotlib.patches.Polygon at 0x1cb3872d6d8>,\n",
       " <matplotlib.patches.Polygon at 0x1cb3872d978>,\n",
       " <matplotlib.patches.Polygon at 0x1cb3872dc18>,\n",
       " <matplotlib.patches.Polygon at 0x1cb3872deb8>,\n",
       " <matplotlib.patches.Polygon at 0x1cb3874d198>,\n",
       " <matplotlib.patches.Polygon at 0x1cb3874d438>,\n",
       " <matplotlib.patches.Polygon at 0x1cb3874d6d8>,\n",
       " <matplotlib.patches.Polygon at 0x1cb3874d978>,\n",
       " <matplotlib.patches.Polygon at 0x1cb3874dc18>,\n",
       " <matplotlib.patches.Polygon at 0x1cb3874deb8>,\n",
       " <matplotlib.patches.Polygon at 0x1cb390bf198>,\n",
       " <matplotlib.patches.Polygon at 0x1cb390bf438>,\n",
       " <matplotlib.patches.Polygon at 0x1cb390bf6d8>,\n",
       " <matplotlib.patches.Polygon at 0x1cb390bf978>,\n",
       " <matplotlib.patches.Polygon at 0x1cb390bfc18>,\n",
       " <matplotlib.patches.Polygon at 0x1cb390bfeb8>,\n",
       " <matplotlib.patches.Polygon at 0x1cb390e6198>,\n",
       " <matplotlib.patches.Polygon at 0x1cb390e6438>,\n",
       " <matplotlib.patches.Polygon at 0x1cb390e66d8>,\n",
       " <matplotlib.patches.Polygon at 0x1cb390e6978>,\n",
       " <matplotlib.patches.Polygon at 0x1cb390e6c18>,\n",
       " <matplotlib.patches.Polygon at 0x1cb390e6eb8>,\n",
       " <matplotlib.patches.Polygon at 0x1cb387bd198>,\n",
       " <matplotlib.patches.Polygon at 0x1cb387bd438>,\n",
       " <matplotlib.patches.Polygon at 0x1cb387bd6d8>,\n",
       " <matplotlib.patches.Polygon at 0x1cb387bd9b0>,\n",
       " <matplotlib.patches.Polygon at 0x1cb387bdc50>,\n",
       " <matplotlib.patches.Polygon at 0x1cb387bdeb8>,\n",
       " <matplotlib.patches.Polygon at 0x1cb38761198>,\n",
       " <matplotlib.patches.Polygon at 0x1cb38761438>,\n",
       " <matplotlib.patches.Polygon at 0x1cb387616d8>,\n",
       " <matplotlib.patches.Polygon at 0x1cb38761978>,\n",
       " <matplotlib.patches.Polygon at 0x1cb38761c18>,\n",
       " <matplotlib.patches.Polygon at 0x1cb38761eb8>,\n",
       " <matplotlib.patches.Polygon at 0x1cb3878b198>,\n",
       " <matplotlib.patches.Polygon at 0x1cb3878b438>,\n",
       " <matplotlib.patches.Polygon at 0x1cb3878b710>,\n",
       " <matplotlib.patches.Polygon at 0x1cb3878b978>,\n",
       " <matplotlib.patches.Polygon at 0x1cb3878bc18>,\n",
       " <matplotlib.patches.Polygon at 0x1cb3878beb8>,\n",
       " <matplotlib.patches.Polygon at 0x1cb2dbbe198>,\n",
       " <matplotlib.patches.Polygon at 0x1cb2dbbe438>,\n",
       " <matplotlib.patches.Polygon at 0x1cb2dbbe6d8>,\n",
       " <matplotlib.patches.Polygon at 0x1cb2dbbe978>,\n",
       " <matplotlib.patches.Polygon at 0x1cb2dbbec18>,\n",
       " <matplotlib.patches.Polygon at 0x1cb2dbbeeb8>,\n",
       " <matplotlib.patches.Polygon at 0x1cb2dbc2198>,\n",
       " <matplotlib.patches.Polygon at 0x1cb2dbc2438>,\n",
       " <matplotlib.patches.Polygon at 0x1cb2dbc26d8>,\n",
       " <matplotlib.patches.Polygon at 0x1cb2dbc2978>,\n",
       " <matplotlib.patches.Polygon at 0x1cb2dbc2c18>,\n",
       " <matplotlib.patches.Polygon at 0x1cb2dbc2eb8>,\n",
       " <matplotlib.patches.Polygon at 0x1cb390fb198>,\n",
       " <matplotlib.patches.Polygon at 0x1cb390fb438>,\n",
       " <matplotlib.patches.Polygon at 0x1cb390fb6d8>,\n",
       " <matplotlib.patches.Polygon at 0x1cb390fb978>,\n",
       " <matplotlib.patches.Polygon at 0x1cb390fbc18>,\n",
       " <matplotlib.patches.Polygon at 0x1cb390fbeb8>,\n",
       " <matplotlib.patches.Polygon at 0x1cb3912c198>,\n",
       " <matplotlib.patches.Polygon at 0x1cb3912c438>,\n",
       " <matplotlib.patches.Polygon at 0x1cb3912c6d8>,\n",
       " <matplotlib.patches.Polygon at 0x1cb3912c978>,\n",
       " <matplotlib.patches.Polygon at 0x1cb3912cc18>,\n",
       " <matplotlib.patches.Polygon at 0x1cb3912ceb8>,\n",
       " <matplotlib.patches.Polygon at 0x1cb38625198>,\n",
       " <matplotlib.patches.Polygon at 0x1cb38625438>,\n",
       " <matplotlib.patches.Polygon at 0x1cb386256d8>,\n",
       " <matplotlib.patches.Polygon at 0x1cb38625978>,\n",
       " <matplotlib.patches.Polygon at 0x1cb38625c18>,\n",
       " <matplotlib.patches.Polygon at 0x1cb38625eb8>,\n",
       " <matplotlib.patches.Polygon at 0x1cb38621198>,\n",
       " <matplotlib.patches.Polygon at 0x1cb38621438>,\n",
       " <matplotlib.patches.Polygon at 0x1cb386216d8>,\n",
       " <matplotlib.patches.Polygon at 0x1cb38621978>,\n",
       " <matplotlib.patches.Polygon at 0x1cb38621c18>,\n",
       " <matplotlib.patches.Polygon at 0x1cb38621eb8>,\n",
       " <matplotlib.patches.Polygon at 0x1cb35f3a198>,\n",
       " <matplotlib.patches.Polygon at 0x1cb35f3a438>,\n",
       " <matplotlib.patches.Polygon at 0x1cb35f3a6d8>,\n",
       " <matplotlib.patches.Polygon at 0x1cb35f3a978>,\n",
       " <matplotlib.patches.Polygon at 0x1cb35f3ac18>,\n",
       " <matplotlib.patches.Polygon at 0x1cb35f3aeb8>,\n",
       " <matplotlib.patches.Polygon at 0x1cb35f48198>,\n",
       " <matplotlib.patches.Polygon at 0x1cb35f48438>,\n",
       " <matplotlib.patches.Polygon at 0x1cb35f486d8>,\n",
       " <matplotlib.patches.Polygon at 0x1cb35f48978>,\n",
       " <matplotlib.patches.Polygon at 0x1cb35f48c18>,\n",
       " <matplotlib.patches.Polygon at 0x1cb35f48eb8>,\n",
       " <matplotlib.patches.Polygon at 0x1cb36ed7198>]"
      ]
     },
     "execution_count": 8,
     "metadata": {},
     "output_type": "execute_result"
    },
    {
     "data": {
      "text/plain": [
       "<matplotlib.collections.LineCollection at 0x1cb36ed7a58>"
      ]
     },
     "execution_count": 8,
     "metadata": {},
     "output_type": "execute_result"
    },
    {
     "data": {
      "text/plain": [
       "<matplotlib.collections.LineCollection at 0x1cb36e0c438>"
      ]
     },
     "execution_count": 8,
     "metadata": {},
     "output_type": "execute_result"
    },
    {
     "data": {
      "text/plain": [
       "[<matplotlib.lines.Line2D at 0x1cb36ed72e8>]"
      ]
     },
     "execution_count": 8,
     "metadata": {},
     "output_type": "execute_result"
    },
    {
     "data": {
      "text/plain": [
       "Text(0.5, 1.0, 'Filtered occurrences for Capreolus capreolus')"
      ]
     },
     "execution_count": 8,
     "metadata": {},
     "output_type": "execute_result"
    },
    {
     "data": {
      "text/plain": [
       "<matplotlib.patches.Rectangle at 0x1cb39cbbd30>"
      ]
     },
     "execution_count": 8,
     "metadata": {},
     "output_type": "execute_result"
    },
    {
     "data": {
      "text/plain": [
       "[<matplotlib.patches.Polygon at 0x1cb3a072390>,\n",
       " <matplotlib.patches.Polygon at 0x1cb3a072780>,\n",
       " <matplotlib.patches.Polygon at 0x1cb3a072a58>,\n",
       " <matplotlib.patches.Polygon at 0x1cb3a072cf8>,\n",
       " <matplotlib.patches.Polygon at 0x1cb3a072f98>,\n",
       " <matplotlib.patches.Polygon at 0x1cb38769278>,\n",
       " <matplotlib.patches.Polygon at 0x1cb38769518>,\n",
       " <matplotlib.patches.Polygon at 0x1cb387697b8>,\n",
       " <matplotlib.patches.Polygon at 0x1cb38769a58>,\n",
       " <matplotlib.patches.Polygon at 0x1cb38769cf8>,\n",
       " <matplotlib.patches.Polygon at 0x1cb38769f98>,\n",
       " <matplotlib.patches.Polygon at 0x1cb390ba278>,\n",
       " <matplotlib.patches.Polygon at 0x1cb390ba518>,\n",
       " <matplotlib.patches.Polygon at 0x1cb390ba7b8>,\n",
       " <matplotlib.patches.Polygon at 0x1cb390baa58>,\n",
       " <matplotlib.patches.Polygon at 0x1cb390bacf8>,\n",
       " <matplotlib.patches.Polygon at 0x1cb390baf98>,\n",
       " <matplotlib.patches.Polygon at 0x1cb3be46278>,\n",
       " <matplotlib.patches.Polygon at 0x1cb3be46518>,\n",
       " <matplotlib.patches.Polygon at 0x1cb3be467b8>,\n",
       " <matplotlib.patches.Polygon at 0x1cb3be46a58>,\n",
       " <matplotlib.patches.Polygon at 0x1cb3be46cf8>,\n",
       " <matplotlib.patches.Polygon at 0x1cb3be46f98>,\n",
       " <matplotlib.patches.Polygon at 0x1cb3be57278>,\n",
       " <matplotlib.patches.Polygon at 0x1cb3be57518>,\n",
       " <matplotlib.patches.Polygon at 0x1cb3be577b8>,\n",
       " <matplotlib.patches.Polygon at 0x1cb3be57a58>,\n",
       " <matplotlib.patches.Polygon at 0x1cb3be57cf8>,\n",
       " <matplotlib.patches.Polygon at 0x1cb3be57f98>,\n",
       " <matplotlib.patches.Polygon at 0x1cb3be69278>,\n",
       " <matplotlib.patches.Polygon at 0x1cb3be69518>,\n",
       " <matplotlib.patches.Polygon at 0x1cb3be697b8>,\n",
       " <matplotlib.patches.Polygon at 0x1cb3be69a58>,\n",
       " <matplotlib.patches.Polygon at 0x1cb3be69cf8>,\n",
       " <matplotlib.patches.Polygon at 0x1cb3be69f98>,\n",
       " <matplotlib.patches.Polygon at 0x1cb3c9bc278>,\n",
       " <matplotlib.patches.Polygon at 0x1cb3c9bc518>,\n",
       " <matplotlib.patches.Polygon at 0x1cb3c9bc7b8>,\n",
       " <matplotlib.patches.Polygon at 0x1cb3c9bca58>,\n",
       " <matplotlib.patches.Polygon at 0x1cb3c9bccf8>,\n",
       " <matplotlib.patches.Polygon at 0x1cb3c9bcf98>,\n",
       " <matplotlib.patches.Polygon at 0x1cb3c9c7278>,\n",
       " <matplotlib.patches.Polygon at 0x1cb3c9c7550>,\n",
       " <matplotlib.patches.Polygon at 0x1cb3c9c77b8>,\n",
       " <matplotlib.patches.Polygon at 0x1cb3c9c7a58>,\n",
       " <matplotlib.patches.Polygon at 0x1cb3c9c7cf8>,\n",
       " <matplotlib.patches.Polygon at 0x1cb3c9c7f98>,\n",
       " <matplotlib.patches.Polygon at 0x1cb387ae278>,\n",
       " <matplotlib.patches.Polygon at 0x1cb387ae518>,\n",
       " <matplotlib.patches.Polygon at 0x1cb387ae7b8>,\n",
       " <matplotlib.patches.Polygon at 0x1cb387aea58>,\n",
       " <matplotlib.patches.Polygon at 0x1cb387aecf8>,\n",
       " <matplotlib.patches.Polygon at 0x1cb387aef98>,\n",
       " <matplotlib.patches.Polygon at 0x1cb387cc278>,\n",
       " <matplotlib.patches.Polygon at 0x1cb387cc518>,\n",
       " <matplotlib.patches.Polygon at 0x1cb387cc7b8>,\n",
       " <matplotlib.patches.Polygon at 0x1cb387cca58>,\n",
       " <matplotlib.patches.Polygon at 0x1cb387cccf8>,\n",
       " <matplotlib.patches.Polygon at 0x1cb387ccf98>,\n",
       " <matplotlib.patches.Polygon at 0x1cb387c4278>,\n",
       " <matplotlib.patches.Polygon at 0x1cb387c4518>,\n",
       " <matplotlib.patches.Polygon at 0x1cb387c47b8>,\n",
       " <matplotlib.patches.Polygon at 0x1cb387c4a58>,\n",
       " <matplotlib.patches.Polygon at 0x1cb387c4cf8>,\n",
       " <matplotlib.patches.Polygon at 0x1cb387c4f98>,\n",
       " <matplotlib.patches.Polygon at 0x1cb3874a278>,\n",
       " <matplotlib.patches.Polygon at 0x1cb3874a518>,\n",
       " <matplotlib.patches.Polygon at 0x1cb3874a7b8>,\n",
       " <matplotlib.patches.Polygon at 0x1cb3874aa58>,\n",
       " <matplotlib.patches.Polygon at 0x1cb3874acf8>,\n",
       " <matplotlib.patches.Polygon at 0x1cb3874af98>,\n",
       " <matplotlib.patches.Polygon at 0x1cb3872f278>,\n",
       " <matplotlib.patches.Polygon at 0x1cb3872f518>,\n",
       " <matplotlib.patches.Polygon at 0x1cb3872f7b8>,\n",
       " <matplotlib.patches.Polygon at 0x1cb3872fa58>,\n",
       " <matplotlib.patches.Polygon at 0x1cb3872fcf8>,\n",
       " <matplotlib.patches.Polygon at 0x1cb3872ff98>,\n",
       " <matplotlib.patches.Polygon at 0x1cb39d45278>,\n",
       " <matplotlib.patches.Polygon at 0x1cb39d45518>,\n",
       " <matplotlib.patches.Polygon at 0x1cb39d457b8>,\n",
       " <matplotlib.patches.Polygon at 0x1cb39d45a58>,\n",
       " <matplotlib.patches.Polygon at 0x1cb39d45cf8>,\n",
       " <matplotlib.patches.Polygon at 0x1cb39d45f98>,\n",
       " <matplotlib.patches.Polygon at 0x1cb39d6a278>,\n",
       " <matplotlib.patches.Polygon at 0x1cb39d6a518>,\n",
       " <matplotlib.patches.Polygon at 0x1cb39d6a7b8>,\n",
       " <matplotlib.patches.Polygon at 0x1cb39d6aa58>,\n",
       " <matplotlib.patches.Polygon at 0x1cb39d6acf8>,\n",
       " <matplotlib.patches.Polygon at 0x1cb39d6af98>,\n",
       " <matplotlib.patches.Polygon at 0x1cb39d5e278>,\n",
       " <matplotlib.patches.Polygon at 0x1cb39d5e518>,\n",
       " <matplotlib.patches.Polygon at 0x1cb39d5e7b8>,\n",
       " <matplotlib.patches.Polygon at 0x1cb39d5ea58>,\n",
       " <matplotlib.patches.Polygon at 0x1cb39d5ecf8>,\n",
       " <matplotlib.patches.Polygon at 0x1cb39d5ef98>,\n",
       " <matplotlib.patches.Polygon at 0x1cb34cb2278>,\n",
       " <matplotlib.patches.Polygon at 0x1cb34cb2518>,\n",
       " <matplotlib.patches.Polygon at 0x1cb34cb27b8>]"
      ]
     },
     "execution_count": 8,
     "metadata": {},
     "output_type": "execute_result"
    },
    {
     "data": {
      "text/plain": [
       "<matplotlib.collections.LineCollection at 0x1cb34cb28d0>"
      ]
     },
     "execution_count": 8,
     "metadata": {},
     "output_type": "execute_result"
    },
    {
     "data": {
      "text/plain": [
       "<matplotlib.collections.LineCollection at 0x1cb35f2d5f8>"
      ]
     },
     "execution_count": 8,
     "metadata": {},
     "output_type": "execute_result"
    },
    {
     "data": {
      "text/plain": [
       "[<matplotlib.lines.Line2D at 0x1cb35f2d518>]"
      ]
     },
     "execution_count": 8,
     "metadata": {},
     "output_type": "execute_result"
    },
    {
     "data": {
      "text/plain": [
       "Text(0.5, 1.0, 'Filtered occurrences for Capreolus pygargus')"
      ]
     },
     "execution_count": 8,
     "metadata": {},
     "output_type": "execute_result"
    },
    {
     "data": {
      "text/plain": [
       "<matplotlib.patches.Rectangle at 0x1cb2ee2d518>"
      ]
     },
     "execution_count": 8,
     "metadata": {},
     "output_type": "execute_result"
    },
    {
     "data": {
      "text/plain": [
       "[<matplotlib.patches.Polygon at 0x1cb3bee7c50>,\n",
       " <matplotlib.patches.Polygon at 0x1cb3bee7f60>,\n",
       " <matplotlib.patches.Polygon at 0x1cb38630240>,\n",
       " <matplotlib.patches.Polygon at 0x1cb386304e0>,\n",
       " <matplotlib.patches.Polygon at 0x1cb38630780>,\n",
       " <matplotlib.patches.Polygon at 0x1cb38630a20>,\n",
       " <matplotlib.patches.Polygon at 0x1cb38630cc0>,\n",
       " <matplotlib.patches.Polygon at 0x1cb38630f60>,\n",
       " <matplotlib.patches.Polygon at 0x1cb39d4e240>,\n",
       " <matplotlib.patches.Polygon at 0x1cb39d4e4e0>,\n",
       " <matplotlib.patches.Polygon at 0x1cb39d4e780>,\n",
       " <matplotlib.patches.Polygon at 0x1cb39d4ea20>,\n",
       " <matplotlib.patches.Polygon at 0x1cb39d4ecc0>,\n",
       " <matplotlib.patches.Polygon at 0x1cb39d4ef60>,\n",
       " <matplotlib.patches.Polygon at 0x1cb3c9ca240>,\n",
       " <matplotlib.patches.Polygon at 0x1cb3c9ca4e0>,\n",
       " <matplotlib.patches.Polygon at 0x1cb3c9ca780>,\n",
       " <matplotlib.patches.Polygon at 0x1cb3c9caa20>,\n",
       " <matplotlib.patches.Polygon at 0x1cb3c9cacc0>,\n",
       " <matplotlib.patches.Polygon at 0x1cb3c9caf60>,\n",
       " <matplotlib.patches.Polygon at 0x1cb349ad240>,\n",
       " <matplotlib.patches.Polygon at 0x1cb349ad4e0>,\n",
       " <matplotlib.patches.Polygon at 0x1cb349ad780>,\n",
       " <matplotlib.patches.Polygon at 0x1cb349ada20>,\n",
       " <matplotlib.patches.Polygon at 0x1cb349adcc0>,\n",
       " <matplotlib.patches.Polygon at 0x1cb349adf60>,\n",
       " <matplotlib.patches.Polygon at 0x1cb349a7240>,\n",
       " <matplotlib.patches.Polygon at 0x1cb349a74e0>,\n",
       " <matplotlib.patches.Polygon at 0x1cb349a7780>,\n",
       " <matplotlib.patches.Polygon at 0x1cb349a7a20>,\n",
       " <matplotlib.patches.Polygon at 0x1cb349a7cc0>,\n",
       " <matplotlib.patches.Polygon at 0x1cb349a7f60>,\n",
       " <matplotlib.patches.Polygon at 0x1cb3be44240>,\n",
       " <matplotlib.patches.Polygon at 0x1cb3be444e0>,\n",
       " <matplotlib.patches.Polygon at 0x1cb3be44780>,\n",
       " <matplotlib.patches.Polygon at 0x1cb3be44a20>,\n",
       " <matplotlib.patches.Polygon at 0x1cb3be44cc0>,\n",
       " <matplotlib.patches.Polygon at 0x1cb3be44f60>,\n",
       " <matplotlib.patches.Polygon at 0x1cb3be56240>,\n",
       " <matplotlib.patches.Polygon at 0x1cb3be564e0>,\n",
       " <matplotlib.patches.Polygon at 0x1cb3be56780>,\n",
       " <matplotlib.patches.Polygon at 0x1cb3be56a20>,\n",
       " <matplotlib.patches.Polygon at 0x1cb3be56cc0>,\n",
       " <matplotlib.patches.Polygon at 0x1cb3be56f60>,\n",
       " <matplotlib.patches.Polygon at 0x1cb38732240>,\n",
       " <matplotlib.patches.Polygon at 0x1cb387324e0>,\n",
       " <matplotlib.patches.Polygon at 0x1cb387327b8>,\n",
       " <matplotlib.patches.Polygon at 0x1cb38732a20>,\n",
       " <matplotlib.patches.Polygon at 0x1cb38732cc0>,\n",
       " <matplotlib.patches.Polygon at 0x1cb38732f60>,\n",
       " <matplotlib.patches.Polygon at 0x1cb3872c240>,\n",
       " <matplotlib.patches.Polygon at 0x1cb3872c4e0>,\n",
       " <matplotlib.patches.Polygon at 0x1cb3872c780>,\n",
       " <matplotlib.patches.Polygon at 0x1cb3872ca20>,\n",
       " <matplotlib.patches.Polygon at 0x1cb3872ccc0>,\n",
       " <matplotlib.patches.Polygon at 0x1cb3872cf60>,\n",
       " <matplotlib.patches.Polygon at 0x1cb34c93240>,\n",
       " <matplotlib.patches.Polygon at 0x1cb34c934e0>,\n",
       " <matplotlib.patches.Polygon at 0x1cb34c93780>,\n",
       " <matplotlib.patches.Polygon at 0x1cb34c93a20>,\n",
       " <matplotlib.patches.Polygon at 0x1cb34c93cc0>,\n",
       " <matplotlib.patches.Polygon at 0x1cb34c93f60>,\n",
       " <matplotlib.patches.Polygon at 0x1cb34c81240>,\n",
       " <matplotlib.patches.Polygon at 0x1cb34c814e0>,\n",
       " <matplotlib.patches.Polygon at 0x1cb34c81780>,\n",
       " <matplotlib.patches.Polygon at 0x1cb34c81a20>,\n",
       " <matplotlib.patches.Polygon at 0x1cb34c81cc0>,\n",
       " <matplotlib.patches.Polygon at 0x1cb34c81f60>,\n",
       " <matplotlib.patches.Polygon at 0x1cb35f28240>,\n",
       " <matplotlib.patches.Polygon at 0x1cb35f284e0>,\n",
       " <matplotlib.patches.Polygon at 0x1cb35f28780>,\n",
       " <matplotlib.patches.Polygon at 0x1cb35f28a20>,\n",
       " <matplotlib.patches.Polygon at 0x1cb35f28cc0>,\n",
       " <matplotlib.patches.Polygon at 0x1cb35f28f60>,\n",
       " <matplotlib.patches.Polygon at 0x1cb35f41240>,\n",
       " <matplotlib.patches.Polygon at 0x1cb35f414e0>,\n",
       " <matplotlib.patches.Polygon at 0x1cb35f41780>]"
      ]
     },
     "execution_count": 8,
     "metadata": {},
     "output_type": "execute_result"
    },
    {
     "data": {
      "text/plain": [
       "<matplotlib.collections.LineCollection at 0x1cb35f41898>"
      ]
     },
     "execution_count": 8,
     "metadata": {},
     "output_type": "execute_result"
    },
    {
     "data": {
      "text/plain": [
       "<matplotlib.collections.LineCollection at 0x1cb35f41860>"
      ]
     },
     "execution_count": 8,
     "metadata": {},
     "output_type": "execute_result"
    },
    {
     "data": {
      "text/plain": [
       "[<matplotlib.lines.Line2D at 0x1cb387d6cf8>]"
      ]
     },
     "execution_count": 8,
     "metadata": {},
     "output_type": "execute_result"
    },
    {
     "data": {
      "text/plain": [
       "Text(0.5, 1.0, 'Filtered occurrences for Capricornis crispus')"
      ]
     },
     "execution_count": 8,
     "metadata": {},
     "output_type": "execute_result"
    },
    {
     "data": {
      "text/plain": [
       "<matplotlib.patches.Rectangle at 0x1cb3878ce48>"
      ]
     },
     "execution_count": 8,
     "metadata": {},
     "output_type": "execute_result"
    },
    {
     "data": {
      "text/plain": [
       "[<matplotlib.patches.Polygon at 0x1cb39ca6470>,\n",
       " <matplotlib.patches.Polygon at 0x1cb39ca6780>,\n",
       " <matplotlib.patches.Polygon at 0x1cb39ca6a58>,\n",
       " <matplotlib.patches.Polygon at 0x1cb39ca6d68>,\n",
       " <matplotlib.patches.Polygon at 0x1cb39ca6fd0>,\n",
       " <matplotlib.patches.Polygon at 0x1cb39d642e8>,\n",
       " <matplotlib.patches.Polygon at 0x1cb39d64588>,\n",
       " <matplotlib.patches.Polygon at 0x1cb39d64828>,\n",
       " <matplotlib.patches.Polygon at 0x1cb39d64ac8>,\n",
       " <matplotlib.patches.Polygon at 0x1cb39d64d68>,\n",
       " <matplotlib.patches.Polygon at 0x1cb39d64fd0>,\n",
       " <matplotlib.patches.Polygon at 0x1cb387912e8>,\n",
       " <matplotlib.patches.Polygon at 0x1cb38791588>,\n",
       " <matplotlib.patches.Polygon at 0x1cb38791828>,\n",
       " <matplotlib.patches.Polygon at 0x1cb38791ac8>,\n",
       " <matplotlib.patches.Polygon at 0x1cb38791d68>,\n",
       " <matplotlib.patches.Polygon at 0x1cb38791fd0>,\n",
       " <matplotlib.patches.Polygon at 0x1cb349c02e8>,\n",
       " <matplotlib.patches.Polygon at 0x1cb349c0588>,\n",
       " <matplotlib.patches.Polygon at 0x1cb349c0828>,\n",
       " <matplotlib.patches.Polygon at 0x1cb349c0ac8>,\n",
       " <matplotlib.patches.Polygon at 0x1cb349c0d68>,\n",
       " <matplotlib.patches.Polygon at 0x1cb349c0fd0>,\n",
       " <matplotlib.patches.Polygon at 0x1cb349bc2e8>,\n",
       " <matplotlib.patches.Polygon at 0x1cb349bc588>,\n",
       " <matplotlib.patches.Polygon at 0x1cb349bc828>,\n",
       " <matplotlib.patches.Polygon at 0x1cb349bcac8>,\n",
       " <matplotlib.patches.Polygon at 0x1cb349bcd68>,\n",
       " <matplotlib.patches.Polygon at 0x1cb349bcfd0>,\n",
       " <matplotlib.patches.Polygon at 0x1cb3d0872e8>,\n",
       " <matplotlib.patches.Polygon at 0x1cb3d087588>,\n",
       " <matplotlib.patches.Polygon at 0x1cb3d087828>,\n",
       " <matplotlib.patches.Polygon at 0x1cb3d087ac8>,\n",
       " <matplotlib.patches.Polygon at 0x1cb3d087d68>,\n",
       " <matplotlib.patches.Polygon at 0x1cb3d087fd0>,\n",
       " <matplotlib.patches.Polygon at 0x1cb3d0882e8>,\n",
       " <matplotlib.patches.Polygon at 0x1cb3d088588>,\n",
       " <matplotlib.patches.Polygon at 0x1cb3d088828>,\n",
       " <matplotlib.patches.Polygon at 0x1cb3d088ac8>,\n",
       " <matplotlib.patches.Polygon at 0x1cb3d088d68>,\n",
       " <matplotlib.patches.Polygon at 0x1cb3d088fd0>,\n",
       " <matplotlib.patches.Polygon at 0x1cb386232e8>,\n",
       " <matplotlib.patches.Polygon at 0x1cb38623588>,\n",
       " <matplotlib.patches.Polygon at 0x1cb38623828>,\n",
       " <matplotlib.patches.Polygon at 0x1cb38623ac8>,\n",
       " <matplotlib.patches.Polygon at 0x1cb38623d68>,\n",
       " <matplotlib.patches.Polygon at 0x1cb38623fd0>,\n",
       " <matplotlib.patches.Polygon at 0x1cb39d082e8>,\n",
       " <matplotlib.patches.Polygon at 0x1cb39d08588>,\n",
       " <matplotlib.patches.Polygon at 0x1cb39d08828>,\n",
       " <matplotlib.patches.Polygon at 0x1cb39d08ac8>,\n",
       " <matplotlib.patches.Polygon at 0x1cb39d08d68>,\n",
       " <matplotlib.patches.Polygon at 0x1cb39d08fd0>,\n",
       " <matplotlib.patches.Polygon at 0x1cb39d1a2e8>,\n",
       " <matplotlib.patches.Polygon at 0x1cb39d1a588>,\n",
       " <matplotlib.patches.Polygon at 0x1cb39d1a828>,\n",
       " <matplotlib.patches.Polygon at 0x1cb39d1aac8>,\n",
       " <matplotlib.patches.Polygon at 0x1cb39d1ad68>,\n",
       " <matplotlib.patches.Polygon at 0x1cb39d1afd0>,\n",
       " <matplotlib.patches.Polygon at 0x1cb3fa512e8>,\n",
       " <matplotlib.patches.Polygon at 0x1cb3fa51588>,\n",
       " <matplotlib.patches.Polygon at 0x1cb3fa51828>,\n",
       " <matplotlib.patches.Polygon at 0x1cb3fa51ac8>,\n",
       " <matplotlib.patches.Polygon at 0x1cb3fa51d68>,\n",
       " <matplotlib.patches.Polygon at 0x1cb3fa51fd0>,\n",
       " <matplotlib.patches.Polygon at 0x1cb3fa572e8>,\n",
       " <matplotlib.patches.Polygon at 0x1cb3fa57588>,\n",
       " <matplotlib.patches.Polygon at 0x1cb3fa57828>,\n",
       " <matplotlib.patches.Polygon at 0x1cb3fa57ac8>,\n",
       " <matplotlib.patches.Polygon at 0x1cb3fa57d68>,\n",
       " <matplotlib.patches.Polygon at 0x1cb3fa57fd0>,\n",
       " <matplotlib.patches.Polygon at 0x1cb3fa842e8>,\n",
       " <matplotlib.patches.Polygon at 0x1cb3fa84588>,\n",
       " <matplotlib.patches.Polygon at 0x1cb3fa84828>,\n",
       " <matplotlib.patches.Polygon at 0x1cb3fa84ac8>,\n",
       " <matplotlib.patches.Polygon at 0x1cb3fa84d68>,\n",
       " <matplotlib.patches.Polygon at 0x1cb3fa84fd0>,\n",
       " <matplotlib.patches.Polygon at 0x1cb3fb982e8>,\n",
       " <matplotlib.patches.Polygon at 0x1cb3fb98588>,\n",
       " <matplotlib.patches.Polygon at 0x1cb3fb98828>,\n",
       " <matplotlib.patches.Polygon at 0x1cb3fb98ac8>,\n",
       " <matplotlib.patches.Polygon at 0x1cb3fb98d68>,\n",
       " <matplotlib.patches.Polygon at 0x1cb3fb98fd0>,\n",
       " <matplotlib.patches.Polygon at 0x1cb3fbb12e8>,\n",
       " <matplotlib.patches.Polygon at 0x1cb3fbb1588>,\n",
       " <matplotlib.patches.Polygon at 0x1cb3fbb1860>,\n",
       " <matplotlib.patches.Polygon at 0x1cb3fbb1ac8>,\n",
       " <matplotlib.patches.Polygon at 0x1cb3fbb1d68>,\n",
       " <matplotlib.patches.Polygon at 0x1cb3fbb1fd0>,\n",
       " <matplotlib.patches.Polygon at 0x1cb2ee522e8>,\n",
       " <matplotlib.patches.Polygon at 0x1cb2ee52588>,\n",
       " <matplotlib.patches.Polygon at 0x1cb2ee52828>,\n",
       " <matplotlib.patches.Polygon at 0x1cb2ee52ac8>,\n",
       " <matplotlib.patches.Polygon at 0x1cb2ee52d68>,\n",
       " <matplotlib.patches.Polygon at 0x1cb2ee52fd0>,\n",
       " <matplotlib.patches.Polygon at 0x1cb2ee5b2e8>,\n",
       " <matplotlib.patches.Polygon at 0x1cb2ee5b588>,\n",
       " <matplotlib.patches.Polygon at 0x1cb2ee5b828>,\n",
       " <matplotlib.patches.Polygon at 0x1cb2ee5bac8>,\n",
       " <matplotlib.patches.Polygon at 0x1cb2ee5bd68>,\n",
       " <matplotlib.patches.Polygon at 0x1cb2ee5bfd0>,\n",
       " <matplotlib.patches.Polygon at 0x1cb2ee642e8>,\n",
       " <matplotlib.patches.Polygon at 0x1cb2ee64588>,\n",
       " <matplotlib.patches.Polygon at 0x1cb2ee64828>,\n",
       " <matplotlib.patches.Polygon at 0x1cb2ee64ac8>,\n",
       " <matplotlib.patches.Polygon at 0x1cb2ee64d68>,\n",
       " <matplotlib.patches.Polygon at 0x1cb2ee64fd0>,\n",
       " <matplotlib.patches.Polygon at 0x1cb2ee6d2e8>,\n",
       " <matplotlib.patches.Polygon at 0x1cb2ee6d588>,\n",
       " <matplotlib.patches.Polygon at 0x1cb2ee6d828>,\n",
       " <matplotlib.patches.Polygon at 0x1cb2ee6dac8>,\n",
       " <matplotlib.patches.Polygon at 0x1cb2ee6dd68>,\n",
       " <matplotlib.patches.Polygon at 0x1cb2ee6dfd0>,\n",
       " <matplotlib.patches.Polygon at 0x1cb36ebf2e8>,\n",
       " <matplotlib.patches.Polygon at 0x1cb36ebf588>,\n",
       " <matplotlib.patches.Polygon at 0x1cb36ebf828>,\n",
       " <matplotlib.patches.Polygon at 0x1cb36ebfac8>,\n",
       " <matplotlib.patches.Polygon at 0x1cb36ebfd68>,\n",
       " <matplotlib.patches.Polygon at 0x1cb36ebffd0>]"
      ]
     },
     "execution_count": 8,
     "metadata": {},
     "output_type": "execute_result"
    },
    {
     "data": {
      "text/plain": [
       "<matplotlib.collections.LineCollection at 0x1cb36ec9160>"
      ]
     },
     "execution_count": 8,
     "metadata": {},
     "output_type": "execute_result"
    },
    {
     "data": {
      "text/plain": [
       "<matplotlib.collections.LineCollection at 0x1cb36ec9400>"
      ]
     },
     "execution_count": 8,
     "metadata": {},
     "output_type": "execute_result"
    },
    {
     "data": {
      "text/plain": [
       "[<matplotlib.lines.Line2D at 0x1cb36ea23c8>]"
      ]
     },
     "execution_count": 8,
     "metadata": {},
     "output_type": "execute_result"
    },
    {
     "data": {
      "text/plain": [
       "Text(0.5, 1.0, 'Filtered occurrences for Capricornis swinhoei')"
      ]
     },
     "execution_count": 8,
     "metadata": {},
     "output_type": "execute_result"
    },
    {
     "data": {
      "text/plain": [
       "<matplotlib.patches.Rectangle at 0x1cb3fbb3550>"
      ]
     },
     "execution_count": 8,
     "metadata": {},
     "output_type": "execute_result"
    },
    {
     "data": {
      "text/plain": [
       "[<matplotlib.patches.Polygon at 0x1cb3ef00b70>,\n",
       " <matplotlib.patches.Polygon at 0x1cb3ef00f98>,\n",
       " <matplotlib.patches.Polygon at 0x1cb3eeef2b0>,\n",
       " <matplotlib.patches.Polygon at 0x1cb3eeef550>,\n",
       " <matplotlib.patches.Polygon at 0x1cb3eeef7f0>,\n",
       " <matplotlib.patches.Polygon at 0x1cb3eeefa90>,\n",
       " <matplotlib.patches.Polygon at 0x1cb3eeefd30>,\n",
       " <matplotlib.patches.Polygon at 0x1cb3eeeffd0>,\n",
       " <matplotlib.patches.Polygon at 0x1cb3a1112b0>,\n",
       " <matplotlib.patches.Polygon at 0x1cb3a111550>,\n",
       " <matplotlib.patches.Polygon at 0x1cb3a1117f0>,\n",
       " <matplotlib.patches.Polygon at 0x1cb3a111a90>,\n",
       " <matplotlib.patches.Polygon at 0x1cb3a111cf8>,\n",
       " <matplotlib.patches.Polygon at 0x1cb3a111f98>,\n",
       " <matplotlib.patches.Polygon at 0x1cb3a117278>,\n",
       " <matplotlib.patches.Polygon at 0x1cb3a117518>,\n",
       " <matplotlib.patches.Polygon at 0x1cb3a1177b8>,\n",
       " <matplotlib.patches.Polygon at 0x1cb3a117a58>,\n",
       " <matplotlib.patches.Polygon at 0x1cb3a117cf8>,\n",
       " <matplotlib.patches.Polygon at 0x1cb3a117f98>,\n",
       " <matplotlib.patches.Polygon at 0x1cb3fa1d278>,\n",
       " <matplotlib.patches.Polygon at 0x1cb3fa1d518>,\n",
       " <matplotlib.patches.Polygon at 0x1cb3fa1d7b8>,\n",
       " <matplotlib.patches.Polygon at 0x1cb3fa1da58>,\n",
       " <matplotlib.patches.Polygon at 0x1cb3fa1dcf8>,\n",
       " <matplotlib.patches.Polygon at 0x1cb3fa1df98>,\n",
       " <matplotlib.patches.Polygon at 0x1cb36ed8278>,\n",
       " <matplotlib.patches.Polygon at 0x1cb36ed8518>,\n",
       " <matplotlib.patches.Polygon at 0x1cb36ed87b8>,\n",
       " <matplotlib.patches.Polygon at 0x1cb36ed8a58>,\n",
       " <matplotlib.patches.Polygon at 0x1cb36ed8cf8>,\n",
       " <matplotlib.patches.Polygon at 0x1cb36ed8f98>,\n",
       " <matplotlib.patches.Polygon at 0x1cb36ed9278>,\n",
       " <matplotlib.patches.Polygon at 0x1cb36ed9518>,\n",
       " <matplotlib.patches.Polygon at 0x1cb36ed97b8>,\n",
       " <matplotlib.patches.Polygon at 0x1cb36ed9a58>,\n",
       " <matplotlib.patches.Polygon at 0x1cb36ed9cf8>,\n",
       " <matplotlib.patches.Polygon at 0x1cb36ed9f98>,\n",
       " <matplotlib.patches.Polygon at 0x1cb3d08e278>,\n",
       " <matplotlib.patches.Polygon at 0x1cb3d08e518>,\n",
       " <matplotlib.patches.Polygon at 0x1cb3d08e7b8>,\n",
       " <matplotlib.patches.Polygon at 0x1cb3d08ea58>,\n",
       " <matplotlib.patches.Polygon at 0x1cb3d08ecf8>,\n",
       " <matplotlib.patches.Polygon at 0x1cb3d08ef98>,\n",
       " <matplotlib.patches.Polygon at 0x1cb3d089278>]"
      ]
     },
     "execution_count": 8,
     "metadata": {},
     "output_type": "execute_result"
    },
    {
     "data": {
      "text/plain": [
       "<matplotlib.collections.LineCollection at 0x1cb3d0893c8>"
      ]
     },
     "execution_count": 8,
     "metadata": {},
     "output_type": "execute_result"
    },
    {
     "data": {
      "text/plain": [
       "<matplotlib.collections.LineCollection at 0x1cb3d089908>"
      ]
     },
     "execution_count": 8,
     "metadata": {},
     "output_type": "execute_result"
    },
    {
     "data": {
      "text/plain": [
       "[<matplotlib.lines.Line2D at 0x1cb38795e10>]"
      ]
     },
     "execution_count": 8,
     "metadata": {},
     "output_type": "execute_result"
    },
    {
     "data": {
      "text/plain": [
       "Text(0.5, 1.0, 'Filtered occurrences for Catagonus wagneri')"
      ]
     },
     "execution_count": 8,
     "metadata": {},
     "output_type": "execute_result"
    },
    {
     "data": {
      "text/plain": [
       "<matplotlib.patches.Rectangle at 0x1cb2ee4c4a8>"
      ]
     },
     "execution_count": 8,
     "metadata": {},
     "output_type": "execute_result"
    },
    {
     "data": {
      "text/plain": [
       "[<matplotlib.patches.Polygon at 0x1cb3eeebac8>,\n",
       " <matplotlib.patches.Polygon at 0x1cb3eeebdd8>,\n",
       " <matplotlib.patches.Polygon at 0x1cb3ef121d0>,\n",
       " <matplotlib.patches.Polygon at 0x1cb3ef12470>,\n",
       " <matplotlib.patches.Polygon at 0x1cb3ef12710>,\n",
       " <matplotlib.patches.Polygon at 0x1cb3eeebf98>,\n",
       " <matplotlib.patches.Polygon at 0x1cb3ef12c18>,\n",
       " <matplotlib.patches.Polygon at 0x1cb3ef12eb8>,\n",
       " <matplotlib.patches.Polygon at 0x1cb3eef9198>,\n",
       " <matplotlib.patches.Polygon at 0x1cb3eef9438>,\n",
       " <matplotlib.patches.Polygon at 0x1cb3eef96d8>,\n",
       " <matplotlib.patches.Polygon at 0x1cb3eef9978>,\n",
       " <matplotlib.patches.Polygon at 0x1cb3eef9c18>,\n",
       " <matplotlib.patches.Polygon at 0x1cb3eef9ef0>,\n",
       " <matplotlib.patches.Polygon at 0x1cb2ee76198>,\n",
       " <matplotlib.patches.Polygon at 0x1cb2ee76438>,\n",
       " <matplotlib.patches.Polygon at 0x1cb2ee766d8>,\n",
       " <matplotlib.patches.Polygon at 0x1cb2ee76978>,\n",
       " <matplotlib.patches.Polygon at 0x1cb2ee76c18>,\n",
       " <matplotlib.patches.Polygon at 0x1cb2ee76eb8>,\n",
       " <matplotlib.patches.Polygon at 0x1cb2ee86198>,\n",
       " <matplotlib.patches.Polygon at 0x1cb2ee86438>,\n",
       " <matplotlib.patches.Polygon at 0x1cb2ee866d8>,\n",
       " <matplotlib.patches.Polygon at 0x1cb2ee86978>,\n",
       " <matplotlib.patches.Polygon at 0x1cb2ee86c18>,\n",
       " <matplotlib.patches.Polygon at 0x1cb2ee86eb8>,\n",
       " <matplotlib.patches.Polygon at 0x1cb2ee8b1d0>,\n",
       " <matplotlib.patches.Polygon at 0x1cb2ee8b438>,\n",
       " <matplotlib.patches.Polygon at 0x1cb2ee8b710>,\n",
       " <matplotlib.patches.Polygon at 0x1cb2ee8b978>,\n",
       " <matplotlib.patches.Polygon at 0x1cb2ee8bc18>,\n",
       " <matplotlib.patches.Polygon at 0x1cb2ee8bef0>,\n",
       " <matplotlib.patches.Polygon at 0x1cb3a0ab1d0>,\n",
       " <matplotlib.patches.Polygon at 0x1cb3a0ab438>,\n",
       " <matplotlib.patches.Polygon at 0x1cb3a0ab6d8>]"
      ]
     },
     "execution_count": 8,
     "metadata": {},
     "output_type": "execute_result"
    },
    {
     "data": {
      "text/plain": [
       "<matplotlib.collections.LineCollection at 0x1cb3a0ab908>"
      ]
     },
     "execution_count": 8,
     "metadata": {},
     "output_type": "execute_result"
    },
    {
     "data": {
      "text/plain": [
       "<matplotlib.collections.LineCollection at 0x1cb3a0abd68>"
      ]
     },
     "execution_count": 8,
     "metadata": {},
     "output_type": "execute_result"
    },
    {
     "data": {
      "text/plain": [
       "[<matplotlib.lines.Line2D at 0x1cb39cddcc0>]"
      ]
     },
     "execution_count": 8,
     "metadata": {},
     "output_type": "execute_result"
    },
    {
     "data": {
      "text/plain": [
       "Text(0.5, 1.0, 'Filtered occurrences for Cephalophus dorsalis')"
      ]
     },
     "execution_count": 8,
     "metadata": {},
     "output_type": "execute_result"
    },
    {
     "data": {
      "text/plain": [
       "<matplotlib.patches.Rectangle at 0x1cb3b822630>"
      ]
     },
     "execution_count": 8,
     "metadata": {},
     "output_type": "execute_result"
    },
    {
     "data": {
      "text/plain": [
       "[<matplotlib.patches.Polygon at 0x1cb39d27be0>,\n",
       " <matplotlib.patches.Polygon at 0x1cb39d27ef0>,\n",
       " <matplotlib.patches.Polygon at 0x1cb3a125208>,\n",
       " <matplotlib.patches.Polygon at 0x1cb3a1254a8>,\n",
       " <matplotlib.patches.Polygon at 0x1cb3a125828>,\n",
       " <matplotlib.patches.Polygon at 0x1cb3a125a90>,\n",
       " <matplotlib.patches.Polygon at 0x1cb3a125d30>,\n",
       " <matplotlib.patches.Polygon at 0x1cb3a125fd0>,\n",
       " <matplotlib.patches.Polygon at 0x1cb3beab2b0>,\n",
       " <matplotlib.patches.Polygon at 0x1cb3beab550>,\n",
       " <matplotlib.patches.Polygon at 0x1cb3beab7f0>,\n",
       " <matplotlib.patches.Polygon at 0x1cb3beaba90>,\n",
       " <matplotlib.patches.Polygon at 0x1cb3beabd30>,\n",
       " <matplotlib.patches.Polygon at 0x1cb3beabf98>,\n",
       " <matplotlib.patches.Polygon at 0x1cb3a07c2b0>,\n",
       " <matplotlib.patches.Polygon at 0x1cb3a07c550>,\n",
       " <matplotlib.patches.Polygon at 0x1cb3a07c7f0>,\n",
       " <matplotlib.patches.Polygon at 0x1cb3a07ca90>,\n",
       " <matplotlib.patches.Polygon at 0x1cb3a07cd30>,\n",
       " <matplotlib.patches.Polygon at 0x1cb3a07cfd0>,\n",
       " <matplotlib.patches.Polygon at 0x1cb3a0862b0>,\n",
       " <matplotlib.patches.Polygon at 0x1cb3a086550>,\n",
       " <matplotlib.patches.Polygon at 0x1cb3a0867f0>,\n",
       " <matplotlib.patches.Polygon at 0x1cb3a086a90>,\n",
       " <matplotlib.patches.Polygon at 0x1cb3a086d30>,\n",
       " <matplotlib.patches.Polygon at 0x1cb3a086fd0>,\n",
       " <matplotlib.patches.Polygon at 0x1cb39cca2e8>,\n",
       " <matplotlib.patches.Polygon at 0x1cb39cca550>,\n",
       " <matplotlib.patches.Polygon at 0x1cb39cca828>,\n",
       " <matplotlib.patches.Polygon at 0x1cb39ccaa90>,\n",
       " <matplotlib.patches.Polygon at 0x1cb39ccad30>,\n",
       " <matplotlib.patches.Polygon at 0x1cb39ccaf98>,\n",
       " <matplotlib.patches.Polygon at 0x1cb39ced2e8>,\n",
       " <matplotlib.patches.Polygon at 0x1cb39ced550>,\n",
       " <matplotlib.patches.Polygon at 0x1cb39ced7f0>]"
      ]
     },
     "execution_count": 8,
     "metadata": {},
     "output_type": "execute_result"
    },
    {
     "data": {
      "text/plain": [
       "<matplotlib.collections.LineCollection at 0x1cb3a125710>"
      ]
     },
     "execution_count": 8,
     "metadata": {},
     "output_type": "execute_result"
    },
    {
     "data": {
      "text/plain": [
       "<matplotlib.collections.LineCollection at 0x1cb3fab1ba8>"
      ]
     },
     "execution_count": 8,
     "metadata": {},
     "output_type": "execute_result"
    },
    {
     "data": {
      "text/plain": [
       "[<matplotlib.lines.Line2D at 0x1cb3c562da0>]"
      ]
     },
     "execution_count": 8,
     "metadata": {},
     "output_type": "execute_result"
    },
    {
     "data": {
      "text/plain": [
       "Text(0.5, 1.0, 'Filtered occurrences for Cephalophus jentinki')"
      ]
     },
     "execution_count": 8,
     "metadata": {},
     "output_type": "execute_result"
    },
    {
     "data": {
      "text/plain": [
       "<matplotlib.patches.Rectangle at 0x1cb39d07978>"
      ]
     },
     "execution_count": 8,
     "metadata": {},
     "output_type": "execute_result"
    },
    {
     "data": {
      "text/plain": [
       "[<matplotlib.patches.Polygon at 0x1cb2eeaef98>,\n",
       " <matplotlib.patches.Polygon at 0x1cb3fa303c8>,\n",
       " <matplotlib.patches.Polygon at 0x1cb3fa306a0>,\n",
       " <matplotlib.patches.Polygon at 0x1cb3fa30940>,\n",
       " <matplotlib.patches.Polygon at 0x1cb3fa30be0>,\n",
       " <matplotlib.patches.Polygon at 0x1cb3fa30e80>,\n",
       " <matplotlib.patches.Polygon at 0x1cb3fa15160>,\n",
       " <matplotlib.patches.Polygon at 0x1cb3fa15400>,\n",
       " <matplotlib.patches.Polygon at 0x1cb3fa156a0>,\n",
       " <matplotlib.patches.Polygon at 0x1cb3fa15940>,\n",
       " <matplotlib.patches.Polygon at 0x1cb3fa15be0>,\n",
       " <matplotlib.patches.Polygon at 0x1cb3fa15e80>,\n",
       " <matplotlib.patches.Polygon at 0x1cb3a109160>,\n",
       " <matplotlib.patches.Polygon at 0x1cb3a109400>,\n",
       " <matplotlib.patches.Polygon at 0x1cb3a1096a0>,\n",
       " <matplotlib.patches.Polygon at 0x1cb3a109940>,\n",
       " <matplotlib.patches.Polygon at 0x1cb3a109be0>,\n",
       " <matplotlib.patches.Polygon at 0x1cb3a109e80>,\n",
       " <matplotlib.patches.Polygon at 0x1cb3a0fb160>,\n",
       " <matplotlib.patches.Polygon at 0x1cb3a0fb438>,\n",
       " <matplotlib.patches.Polygon at 0x1cb3a0fb6a0>,\n",
       " <matplotlib.patches.Polygon at 0x1cb3a0fb940>,\n",
       " <matplotlib.patches.Polygon at 0x1cb3a0fbbe0>,\n",
       " <matplotlib.patches.Polygon at 0x1cb3a0fbe80>,\n",
       " <matplotlib.patches.Polygon at 0x1cb3a12e160>,\n",
       " <matplotlib.patches.Polygon at 0x1cb3a12e400>,\n",
       " <matplotlib.patches.Polygon at 0x1cb3a12e6a0>,\n",
       " <matplotlib.patches.Polygon at 0x1cb3a12e940>]"
      ]
     },
     "execution_count": 8,
     "metadata": {},
     "output_type": "execute_result"
    },
    {
     "data": {
      "text/plain": [
       "<matplotlib.collections.LineCollection at 0x1cb3a12ea90>"
      ]
     },
     "execution_count": 8,
     "metadata": {},
     "output_type": "execute_result"
    },
    {
     "data": {
      "text/plain": [
       "<matplotlib.collections.LineCollection at 0x1cb2eef3e10>"
      ]
     },
     "execution_count": 8,
     "metadata": {},
     "output_type": "execute_result"
    },
    {
     "data": {
      "text/plain": [
       "[<matplotlib.lines.Line2D at 0x1cb3fa30390>]"
      ]
     },
     "execution_count": 8,
     "metadata": {},
     "output_type": "execute_result"
    },
    {
     "data": {
      "text/plain": [
       "Text(0.5, 1.0, 'Filtered occurrences for Cephalophus natalensis')"
      ]
     },
     "execution_count": 8,
     "metadata": {},
     "output_type": "execute_result"
    },
    {
     "data": {
      "text/plain": [
       "<matplotlib.patches.Rectangle at 0x1cb3e364198>"
      ]
     },
     "execution_count": 8,
     "metadata": {},
     "output_type": "execute_result"
    },
    {
     "data": {
      "text/plain": [
       "[<matplotlib.patches.Polygon at 0x1cb2ef567b8>,\n",
       " <matplotlib.patches.Polygon at 0x1cb2ef56ac8>,\n",
       " <matplotlib.patches.Polygon at 0x1cb2ef56da0>,\n",
       " <matplotlib.patches.Polygon at 0x1cb2eef20b8>,\n",
       " <matplotlib.patches.Polygon at 0x1cb2eef2320>,\n",
       " <matplotlib.patches.Polygon at 0x1cb2eef26a0>,\n",
       " <matplotlib.patches.Polygon at 0x1cb2eef2940>,\n",
       " <matplotlib.patches.Polygon at 0x1cb2eef2ba8>,\n",
       " <matplotlib.patches.Polygon at 0x1cb2eef2e48>,\n",
       " <matplotlib.patches.Polygon at 0x1cb3be7d128>,\n",
       " <matplotlib.patches.Polygon at 0x1cb3be7d3c8>,\n",
       " <matplotlib.patches.Polygon at 0x1cb3be7d668>,\n",
       " <matplotlib.patches.Polygon at 0x1cb3be7d908>,\n",
       " <matplotlib.patches.Polygon at 0x1cb3be7dba8>,\n",
       " <matplotlib.patches.Polygon at 0x1cb3be7de48>,\n",
       " <matplotlib.patches.Polygon at 0x1cb3e386128>,\n",
       " <matplotlib.patches.Polygon at 0x1cb3e3863c8>,\n",
       " <matplotlib.patches.Polygon at 0x1cb3e386668>,\n",
       " <matplotlib.patches.Polygon at 0x1cb3e386908>,\n",
       " <matplotlib.patches.Polygon at 0x1cb3e386be0>,\n",
       " <matplotlib.patches.Polygon at 0x1cb3e386e48>,\n",
       " <matplotlib.patches.Polygon at 0x1cb2ef09128>,\n",
       " <matplotlib.patches.Polygon at 0x1cb2ef093c8>,\n",
       " <matplotlib.patches.Polygon at 0x1cb2ef09668>,\n",
       " <matplotlib.patches.Polygon at 0x1cb2ef09908>,\n",
       " <matplotlib.patches.Polygon at 0x1cb2ef09ba8>,\n",
       " <matplotlib.patches.Polygon at 0x1cb2ef09e48>,\n",
       " <matplotlib.patches.Polygon at 0x1cb2ef25128>,\n",
       " <matplotlib.patches.Polygon at 0x1cb2ef253c8>,\n",
       " <matplotlib.patches.Polygon at 0x1cb2ef25668>,\n",
       " <matplotlib.patches.Polygon at 0x1cb2ef25908>,\n",
       " <matplotlib.patches.Polygon at 0x1cb2ef25ba8>,\n",
       " <matplotlib.patches.Polygon at 0x1cb2ef25e80>,\n",
       " <matplotlib.patches.Polygon at 0x1cb3be94128>,\n",
       " <matplotlib.patches.Polygon at 0x1cb3be94400>,\n",
       " <matplotlib.patches.Polygon at 0x1cb3be94668>,\n",
       " <matplotlib.patches.Polygon at 0x1cb3be94908>,\n",
       " <matplotlib.patches.Polygon at 0x1cb3be94be0>,\n",
       " <matplotlib.patches.Polygon at 0x1cb3be94e80>,\n",
       " <matplotlib.patches.Polygon at 0x1cb3be74128>,\n",
       " <matplotlib.patches.Polygon at 0x1cb3be743c8>]"
      ]
     },
     "execution_count": 8,
     "metadata": {},
     "output_type": "execute_result"
    },
    {
     "data": {
      "text/plain": [
       "<matplotlib.collections.LineCollection at 0x1cb3be74518>"
      ]
     },
     "execution_count": 8,
     "metadata": {},
     "output_type": "execute_result"
    },
    {
     "data": {
      "text/plain": [
       "<matplotlib.collections.LineCollection at 0x1cb2ef76eb8>"
      ]
     },
     "execution_count": 8,
     "metadata": {},
     "output_type": "execute_result"
    },
    {
     "data": {
      "text/plain": [
       "[<matplotlib.lines.Line2D at 0x1cb2ef76f28>]"
      ]
     },
     "execution_count": 8,
     "metadata": {},
     "output_type": "execute_result"
    },
    {
     "data": {
      "text/plain": [
       "Text(0.5, 1.0, 'Filtered occurrences for Cephalophus niger')"
      ]
     },
     "execution_count": 8,
     "metadata": {},
     "output_type": "execute_result"
    },
    {
     "data": {
      "text/plain": [
       "<matplotlib.patches.Rectangle at 0x1cb3be84eb8>"
      ]
     },
     "execution_count": 8,
     "metadata": {},
     "output_type": "execute_result"
    },
    {
     "data": {
      "text/plain": [
       "[<matplotlib.patches.Polygon at 0x1cb3be99518>,\n",
       " <matplotlib.patches.Polygon at 0x1cb3be99940>,\n",
       " <matplotlib.patches.Polygon at 0x1cb3be99be0>,\n",
       " <matplotlib.patches.Polygon at 0x1cb3be99e80>,\n",
       " <matplotlib.patches.Polygon at 0x1cb3be7a160>,\n",
       " <matplotlib.patches.Polygon at 0x1cb3be7a400>,\n",
       " <matplotlib.patches.Polygon at 0x1cb3be7a6a0>,\n",
       " <matplotlib.patches.Polygon at 0x1cb3be7a940>,\n",
       " <matplotlib.patches.Polygon at 0x1cb3be7abe0>,\n",
       " <matplotlib.patches.Polygon at 0x1cb3be7ae80>,\n",
       " <matplotlib.patches.Polygon at 0x1cb3b857160>,\n",
       " <matplotlib.patches.Polygon at 0x1cb3b857400>,\n",
       " <matplotlib.patches.Polygon at 0x1cb3b8576a0>,\n",
       " <matplotlib.patches.Polygon at 0x1cb3b857940>,\n",
       " <matplotlib.patches.Polygon at 0x1cb3b857be0>,\n",
       " <matplotlib.patches.Polygon at 0x1cb3b857e80>,\n",
       " <matplotlib.patches.Polygon at 0x1cb3b84a160>,\n",
       " <matplotlib.patches.Polygon at 0x1cb3b84a400>,\n",
       " <matplotlib.patches.Polygon at 0x1cb3b84a6a0>,\n",
       " <matplotlib.patches.Polygon at 0x1cb3b84a940>,\n",
       " <matplotlib.patches.Polygon at 0x1cb3b84abe0>,\n",
       " <matplotlib.patches.Polygon at 0x1cb3b84ae80>,\n",
       " <matplotlib.patches.Polygon at 0x1cb2ef50160>,\n",
       " <matplotlib.patches.Polygon at 0x1cb2ef50400>,\n",
       " <matplotlib.patches.Polygon at 0x1cb2ef506a0>,\n",
       " <matplotlib.patches.Polygon at 0x1cb2ef50940>,\n",
       " <matplotlib.patches.Polygon at 0x1cb2ef50be0>,\n",
       " <matplotlib.patches.Polygon at 0x1cb2ef50e80>,\n",
       " <matplotlib.patches.Polygon at 0x1cb2ef3f198>,\n",
       " <matplotlib.patches.Polygon at 0x1cb2ef3f400>,\n",
       " <matplotlib.patches.Polygon at 0x1cb2ef3f6a0>,\n",
       " <matplotlib.patches.Polygon at 0x1cb2ef3f940>,\n",
       " <matplotlib.patches.Polygon at 0x1cb2ef3fbe0>,\n",
       " <matplotlib.patches.Polygon at 0x1cb2ef3fe80>,\n",
       " <matplotlib.patches.Polygon at 0x1cb2ef5d160>,\n",
       " <matplotlib.patches.Polygon at 0x1cb2ef5d400>,\n",
       " <matplotlib.patches.Polygon at 0x1cb2ef5d6a0>,\n",
       " <matplotlib.patches.Polygon at 0x1cb2ef5d940>,\n",
       " <matplotlib.patches.Polygon at 0x1cb2ef5dbe0>,\n",
       " <matplotlib.patches.Polygon at 0x1cb2ef5de80>,\n",
       " <matplotlib.patches.Polygon at 0x1cb2ef96160>,\n",
       " <matplotlib.patches.Polygon at 0x1cb2ef96400>,\n",
       " <matplotlib.patches.Polygon at 0x1cb2ef966a0>,\n",
       " <matplotlib.patches.Polygon at 0x1cb2ef96978>,\n",
       " <matplotlib.patches.Polygon at 0x1cb2ef96be0>,\n",
       " <matplotlib.patches.Polygon at 0x1cb2ef96e80>,\n",
       " <matplotlib.patches.Polygon at 0x1cb2ef74198>,\n",
       " <matplotlib.patches.Polygon at 0x1cb2ef74400>,\n",
       " <matplotlib.patches.Polygon at 0x1cb2ef746a0>,\n",
       " <matplotlib.patches.Polygon at 0x1cb2ef74978>,\n",
       " <matplotlib.patches.Polygon at 0x1cb2ef74be0>,\n",
       " <matplotlib.patches.Polygon at 0x1cb2ef74e80>]"
      ]
     },
     "execution_count": 8,
     "metadata": {},
     "output_type": "execute_result"
    },
    {
     "data": {
      "text/plain": [
       "<matplotlib.collections.LineCollection at 0x1cb2ef74f98>"
      ]
     },
     "execution_count": 8,
     "metadata": {},
     "output_type": "execute_result"
    },
    {
     "data": {
      "text/plain": [
       "<matplotlib.collections.LineCollection at 0x1cb2ef912e8>"
      ]
     },
     "execution_count": 8,
     "metadata": {},
     "output_type": "execute_result"
    },
    {
     "data": {
      "text/plain": [
       "[<matplotlib.lines.Line2D at 0x1cb3e49b240>]"
      ]
     },
     "execution_count": 8,
     "metadata": {},
     "output_type": "execute_result"
    },
    {
     "data": {
      "text/plain": [
       "Text(0.5, 1.0, 'Filtered occurrences for Cephalophus nigrifrons')"
      ]
     },
     "execution_count": 8,
     "metadata": {},
     "output_type": "execute_result"
    },
    {
     "data": {
      "text/plain": [
       "<matplotlib.patches.Rectangle at 0x1cb3e464cf8>"
      ]
     },
     "execution_count": 8,
     "metadata": {},
     "output_type": "execute_result"
    },
    {
     "data": {
      "text/plain": [
       "[<matplotlib.patches.Polygon at 0x1cb3e489320>,\n",
       " <matplotlib.patches.Polygon at 0x1cb3e489710>,\n",
       " <matplotlib.patches.Polygon at 0x1cb3e4899e8>,\n",
       " <matplotlib.patches.Polygon at 0x1cb3e489c88>,\n",
       " <matplotlib.patches.Polygon at 0x1cb3e489f28>,\n",
       " <matplotlib.patches.Polygon at 0x1cb3e49c208>,\n",
       " <matplotlib.patches.Polygon at 0x1cb3e49c4a8>,\n",
       " <matplotlib.patches.Polygon at 0x1cb3e49c748>,\n",
       " <matplotlib.patches.Polygon at 0x1cb3e49c9e8>,\n",
       " <matplotlib.patches.Polygon at 0x1cb3e49cc88>,\n",
       " <matplotlib.patches.Polygon at 0x1cb3e49cf28>,\n",
       " <matplotlib.patches.Polygon at 0x1cb3ee9e208>,\n",
       " <matplotlib.patches.Polygon at 0x1cb3ee9e4a8>,\n",
       " <matplotlib.patches.Polygon at 0x1cb3ee9e748>,\n",
       " <matplotlib.patches.Polygon at 0x1cb3ee9e9e8>,\n",
       " <matplotlib.patches.Polygon at 0x1cb3ee9ec88>,\n",
       " <matplotlib.patches.Polygon at 0x1cb3ee9ef28>,\n",
       " <matplotlib.patches.Polygon at 0x1cb3eeae208>,\n",
       " <matplotlib.patches.Polygon at 0x1cb3eeae4e0>,\n",
       " <matplotlib.patches.Polygon at 0x1cb3eeae748>,\n",
       " <matplotlib.patches.Polygon at 0x1cb3eeae9e8>,\n",
       " <matplotlib.patches.Polygon at 0x1cb3eeaec88>,\n",
       " <matplotlib.patches.Polygon at 0x1cb3eeaef28>,\n",
       " <matplotlib.patches.Polygon at 0x1cb3eebf208>,\n",
       " <matplotlib.patches.Polygon at 0x1cb3eebf4a8>,\n",
       " <matplotlib.patches.Polygon at 0x1cb3eebf748>,\n",
       " <matplotlib.patches.Polygon at 0x1cb3eebf9e8>,\n",
       " <matplotlib.patches.Polygon at 0x1cb3eebfc88>,\n",
       " <matplotlib.patches.Polygon at 0x1cb3eebff28>,\n",
       " <matplotlib.patches.Polygon at 0x1cb3e430208>,\n",
       " <matplotlib.patches.Polygon at 0x1cb3e4304a8>,\n",
       " <matplotlib.patches.Polygon at 0x1cb3e430748>,\n",
       " <matplotlib.patches.Polygon at 0x1cb3e4309e8>,\n",
       " <matplotlib.patches.Polygon at 0x1cb3e430c88>,\n",
       " <matplotlib.patches.Polygon at 0x1cb3e430f28>,\n",
       " <matplotlib.patches.Polygon at 0x1cb3e445208>,\n",
       " <matplotlib.patches.Polygon at 0x1cb3e4454a8>,\n",
       " <matplotlib.patches.Polygon at 0x1cb3e445780>,\n",
       " <matplotlib.patches.Polygon at 0x1cb3e4459e8>,\n",
       " <matplotlib.patches.Polygon at 0x1cb3e445c88>,\n",
       " <matplotlib.patches.Polygon at 0x1cb3e445f28>,\n",
       " <matplotlib.patches.Polygon at 0x1cb3e45c208>,\n",
       " <matplotlib.patches.Polygon at 0x1cb3e45c4a8>,\n",
       " <matplotlib.patches.Polygon at 0x1cb3e45c748>,\n",
       " <matplotlib.patches.Polygon at 0x1cb3e45c9e8>,\n",
       " <matplotlib.patches.Polygon at 0x1cb3e45cc88>,\n",
       " <matplotlib.patches.Polygon at 0x1cb3e45cf28>,\n",
       " <matplotlib.patches.Polygon at 0x1cb3ee56208>,\n",
       " <matplotlib.patches.Polygon at 0x1cb3ee564a8>,\n",
       " <matplotlib.patches.Polygon at 0x1cb3ee56748>,\n",
       " <matplotlib.patches.Polygon at 0x1cb3ee569e8>,\n",
       " <matplotlib.patches.Polygon at 0x1cb3ee56c88>,\n",
       " <matplotlib.patches.Polygon at 0x1cb3ee56f28>,\n",
       " <matplotlib.patches.Polygon at 0x1cb3ee66208>,\n",
       " <matplotlib.patches.Polygon at 0x1cb3ee664a8>,\n",
       " <matplotlib.patches.Polygon at 0x1cb3ee66748>,\n",
       " <matplotlib.patches.Polygon at 0x1cb3ee66a20>,\n",
       " <matplotlib.patches.Polygon at 0x1cb3ee66c88>,\n",
       " <matplotlib.patches.Polygon at 0x1cb3ee66f60>,\n",
       " <matplotlib.patches.Polygon at 0x1cb3ee74208>,\n",
       " <matplotlib.patches.Polygon at 0x1cb3ee744a8>,\n",
       " <matplotlib.patches.Polygon at 0x1cb3ee74780>,\n",
       " <matplotlib.patches.Polygon at 0x1cb3ee74a20>,\n",
       " <matplotlib.patches.Polygon at 0x1cb3ee74c88>,\n",
       " <matplotlib.patches.Polygon at 0x1cb3ee74f28>]"
      ]
     },
     "execution_count": 8,
     "metadata": {},
     "output_type": "execute_result"
    },
    {
     "data": {
      "text/plain": [
       "<matplotlib.collections.LineCollection at 0x1cb3ee847b8>"
      ]
     },
     "execution_count": 8,
     "metadata": {},
     "output_type": "execute_result"
    },
    {
     "data": {
      "text/plain": [
       "<matplotlib.collections.LineCollection at 0x1cb3ee840b8>"
      ]
     },
     "execution_count": 8,
     "metadata": {},
     "output_type": "execute_result"
    },
    {
     "data": {
      "text/plain": [
       "[<matplotlib.lines.Line2D at 0x1cb3e3cfe80>]"
      ]
     },
     "execution_count": 8,
     "metadata": {},
     "output_type": "execute_result"
    },
    {
     "data": {
      "text/plain": [
       "Text(0.5, 1.0, 'Filtered occurrences for Cephalophus rufilatus')"
      ]
     },
     "execution_count": 8,
     "metadata": {},
     "output_type": "execute_result"
    },
    {
     "data": {
      "text/plain": [
       "<matplotlib.patches.Rectangle at 0x1cb3e5b0a58>"
      ]
     },
     "execution_count": 8,
     "metadata": {},
     "output_type": "execute_result"
    },
    {
     "data": {
      "text/plain": [
       "[<matplotlib.patches.Polygon at 0x1cb3e454e48>,\n",
       " <matplotlib.patches.Polygon at 0x1cb3efa9240>,\n",
       " <matplotlib.patches.Polygon at 0x1cb3efa94e0>,\n",
       " <matplotlib.patches.Polygon at 0x1cb3efa9780>,\n",
       " <matplotlib.patches.Polygon at 0x1cb3efa9a58>,\n",
       " <matplotlib.patches.Polygon at 0x1cb3efa9cc0>,\n",
       " <matplotlib.patches.Polygon at 0x1cb3efa9f60>,\n",
       " <matplotlib.patches.Polygon at 0x1cb3efb7240>,\n",
       " <matplotlib.patches.Polygon at 0x1cb3efb74e0>,\n",
       " <matplotlib.patches.Polygon at 0x1cb3efb7780>,\n",
       " <matplotlib.patches.Polygon at 0x1cb3efb7a20>,\n",
       " <matplotlib.patches.Polygon at 0x1cb3efb7cc0>,\n",
       " <matplotlib.patches.Polygon at 0x1cb3efb7f60>,\n",
       " <matplotlib.patches.Polygon at 0x1cb3f376240>,\n",
       " <matplotlib.patches.Polygon at 0x1cb3f3764e0>,\n",
       " <matplotlib.patches.Polygon at 0x1cb3f376780>,\n",
       " <matplotlib.patches.Polygon at 0x1cb3f376a20>,\n",
       " <matplotlib.patches.Polygon at 0x1cb3f376cc0>,\n",
       " <matplotlib.patches.Polygon at 0x1cb3f376f60>,\n",
       " <matplotlib.patches.Polygon at 0x1cb3efdc240>,\n",
       " <matplotlib.patches.Polygon at 0x1cb3efdc4e0>,\n",
       " <matplotlib.patches.Polygon at 0x1cb3efdc7b8>,\n",
       " <matplotlib.patches.Polygon at 0x1cb3efdca20>,\n",
       " <matplotlib.patches.Polygon at 0x1cb3efdccc0>,\n",
       " <matplotlib.patches.Polygon at 0x1cb3efdcf60>,\n",
       " <matplotlib.patches.Polygon at 0x1cb3f31a240>,\n",
       " <matplotlib.patches.Polygon at 0x1cb3f31a4e0>,\n",
       " <matplotlib.patches.Polygon at 0x1cb3f31a780>,\n",
       " <matplotlib.patches.Polygon at 0x1cb3f31aa20>,\n",
       " <matplotlib.patches.Polygon at 0x1cb3f31acc0>,\n",
       " <matplotlib.patches.Polygon at 0x1cb3f31af60>,\n",
       " <matplotlib.patches.Polygon at 0x1cb3f329240>,\n",
       " <matplotlib.patches.Polygon at 0x1cb3f3294e0>,\n",
       " <matplotlib.patches.Polygon at 0x1cb3f329780>,\n",
       " <matplotlib.patches.Polygon at 0x1cb3f329a20>,\n",
       " <matplotlib.patches.Polygon at 0x1cb3f329cc0>,\n",
       " <matplotlib.patches.Polygon at 0x1cb3f329f60>,\n",
       " <matplotlib.patches.Polygon at 0x1cb3f37e278>,\n",
       " <matplotlib.patches.Polygon at 0x1cb3f37e4e0>,\n",
       " <matplotlib.patches.Polygon at 0x1cb3f37e780>,\n",
       " <matplotlib.patches.Polygon at 0x1cb3f37ea20>,\n",
       " <matplotlib.patches.Polygon at 0x1cb3f37ecc0>,\n",
       " <matplotlib.patches.Polygon at 0x1cb3f37ef60>,\n",
       " <matplotlib.patches.Polygon at 0x1cb3f385240>,\n",
       " <matplotlib.patches.Polygon at 0x1cb3f3854e0>,\n",
       " <matplotlib.patches.Polygon at 0x1cb3f385780>,\n",
       " <matplotlib.patches.Polygon at 0x1cb3f385a20>,\n",
       " <matplotlib.patches.Polygon at 0x1cb3f385cc0>,\n",
       " <matplotlib.patches.Polygon at 0x1cb3f385f60>,\n",
       " <matplotlib.patches.Polygon at 0x1cb3e3a1278>,\n",
       " <matplotlib.patches.Polygon at 0x1cb3e3a14e0>,\n",
       " <matplotlib.patches.Polygon at 0x1cb3e3a17b8>,\n",
       " <matplotlib.patches.Polygon at 0x1cb3e3a1a20>,\n",
       " <matplotlib.patches.Polygon at 0x1cb3e3a1cc0>,\n",
       " <matplotlib.patches.Polygon at 0x1cb3e3a1f98>,\n",
       " <matplotlib.patches.Polygon at 0x1cb3e3af278>,\n",
       " <matplotlib.patches.Polygon at 0x1cb3e3af4e0>,\n",
       " <matplotlib.patches.Polygon at 0x1cb3e3af780>]"
      ]
     },
     "execution_count": 8,
     "metadata": {},
     "output_type": "execute_result"
    },
    {
     "data": {
      "text/plain": [
       "<matplotlib.collections.LineCollection at 0x1cb3e3af8d0>"
      ]
     },
     "execution_count": 8,
     "metadata": {},
     "output_type": "execute_result"
    },
    {
     "data": {
      "text/plain": [
       "<matplotlib.collections.LineCollection at 0x1cb3e5adbe0>"
      ]
     },
     "execution_count": 8,
     "metadata": {},
     "output_type": "execute_result"
    },
    {
     "data": {
      "text/plain": [
       "[<matplotlib.lines.Line2D at 0x1cb3e5adac8>]"
      ]
     },
     "execution_count": 8,
     "metadata": {},
     "output_type": "execute_result"
    },
    {
     "data": {
      "text/plain": [
       "Text(0.5, 1.0, 'Filtered occurrences for Cephalophus silvicultor')"
      ]
     },
     "execution_count": 8,
     "metadata": {},
     "output_type": "execute_result"
    },
    {
     "data": {
      "text/plain": [
       "<matplotlib.patches.Rectangle at 0x1cb3ee9be10>"
      ]
     },
     "execution_count": 8,
     "metadata": {},
     "output_type": "execute_result"
    },
    {
     "data": {
      "text/plain": [
       "[<matplotlib.patches.Polygon at 0x1cb3f3f8438>,\n",
       " <matplotlib.patches.Polygon at 0x1cb3f3f8748>,\n",
       " <matplotlib.patches.Polygon at 0x1cb3f3f8b00>,\n",
       " <matplotlib.patches.Polygon at 0x1cb3f3f8da0>,\n",
       " <matplotlib.patches.Polygon at 0x1cb3f406048>,\n",
       " <matplotlib.patches.Polygon at 0x1cb3f406320>,\n",
       " <matplotlib.patches.Polygon at 0x1cb3f4065c0>,\n",
       " <matplotlib.patches.Polygon at 0x1cb3f406860>,\n",
       " <matplotlib.patches.Polygon at 0x1cb3f406b00>,\n",
       " <matplotlib.patches.Polygon at 0x1cb3f406da0>,\n",
       " <matplotlib.patches.Polygon at 0x1cb3f404080>,\n",
       " <matplotlib.patches.Polygon at 0x1cb3f404320>,\n",
       " <matplotlib.patches.Polygon at 0x1cb3f4045c0>,\n",
       " <matplotlib.patches.Polygon at 0x1cb3f404898>,\n",
       " <matplotlib.patches.Polygon at 0x1cb3f404b00>,\n",
       " <matplotlib.patches.Polygon at 0x1cb3f404da0>,\n",
       " <matplotlib.patches.Polygon at 0x1cb3f39e048>,\n",
       " <matplotlib.patches.Polygon at 0x1cb3f39e320>,\n",
       " <matplotlib.patches.Polygon at 0x1cb3f39e5c0>,\n",
       " <matplotlib.patches.Polygon at 0x1cb3f39e860>,\n",
       " <matplotlib.patches.Polygon at 0x1cb3f39eb00>,\n",
       " <matplotlib.patches.Polygon at 0x1cb3f39eda0>,\n",
       " <matplotlib.patches.Polygon at 0x1cb3f3aa048>,\n",
       " <matplotlib.patches.Polygon at 0x1cb3f3aa320>,\n",
       " <matplotlib.patches.Polygon at 0x1cb3f3aa5c0>,\n",
       " <matplotlib.patches.Polygon at 0x1cb3f3aa860>,\n",
       " <matplotlib.patches.Polygon at 0x1cb3f3aab38>,\n",
       " <matplotlib.patches.Polygon at 0x1cb3f3aada0>,\n",
       " <matplotlib.patches.Polygon at 0x1cb3efdb0b8>,\n",
       " <matplotlib.patches.Polygon at 0x1cb3efdb320>,\n",
       " <matplotlib.patches.Polygon at 0x1cb3efdb5c0>,\n",
       " <matplotlib.patches.Polygon at 0x1cb3efdb898>,\n",
       " <matplotlib.patches.Polygon at 0x1cb3efdbb38>,\n",
       " <matplotlib.patches.Polygon at 0x1cb3efdbda0>,\n",
       " <matplotlib.patches.Polygon at 0x1cb3efc4080>]"
      ]
     },
     "execution_count": 8,
     "metadata": {},
     "output_type": "execute_result"
    },
    {
     "data": {
      "text/plain": [
       "<matplotlib.collections.LineCollection at 0x1cb3f406be0>"
      ]
     },
     "execution_count": 8,
     "metadata": {},
     "output_type": "execute_result"
    },
    {
     "data": {
      "text/plain": [
       "<matplotlib.collections.LineCollection at 0x1cb3efc4198>"
      ]
     },
     "execution_count": 8,
     "metadata": {},
     "output_type": "execute_result"
    },
    {
     "data": {
      "text/plain": [
       "[<matplotlib.lines.Line2D at 0x1cb3e4be668>]"
      ]
     },
     "execution_count": 8,
     "metadata": {},
     "output_type": "execute_result"
    },
    {
     "data": {
      "text/plain": [
       "Text(0.5, 1.0, 'Filtered occurrences for Cephalophus zebra')"
      ]
     },
     "execution_count": 8,
     "metadata": {},
     "output_type": "execute_result"
    },
    {
     "data": {
      "text/plain": [
       "<matplotlib.patches.Rectangle at 0x1cb3f36fac8>"
      ]
     },
     "execution_count": 8,
     "metadata": {},
     "output_type": "execute_result"
    },
    {
     "data": {
      "text/plain": [
       "[<matplotlib.patches.Polygon at 0x1cb3e3e4128>,\n",
       " <matplotlib.patches.Polygon at 0x1cb3e3e4438>,\n",
       " <matplotlib.patches.Polygon at 0x1cb3e3e47b8>,\n",
       " <matplotlib.patches.Polygon at 0x1cb3e3e4a58>,\n",
       " <matplotlib.patches.Polygon at 0x1cb3e3e4cf8>,\n",
       " <matplotlib.patches.Polygon at 0x1cb3e3e4f98>,\n",
       " <matplotlib.patches.Polygon at 0x1cb3e41e278>,\n",
       " <matplotlib.patches.Polygon at 0x1cb3e41e518>,\n",
       " <matplotlib.patches.Polygon at 0x1cb3e41e7b8>,\n",
       " <matplotlib.patches.Polygon at 0x1cb3e41ea58>,\n",
       " <matplotlib.patches.Polygon at 0x1cb3e41ecf8>,\n",
       " <matplotlib.patches.Polygon at 0x1cb3e41ef98>,\n",
       " <matplotlib.patches.Polygon at 0x1cb3e524278>,\n",
       " <matplotlib.patches.Polygon at 0x1cb3e524518>,\n",
       " <matplotlib.patches.Polygon at 0x1cb3e5247b8>,\n",
       " <matplotlib.patches.Polygon at 0x1cb3e524a58>,\n",
       " <matplotlib.patches.Polygon at 0x1cb3e524cf8>,\n",
       " <matplotlib.patches.Polygon at 0x1cb3e524f98>,\n",
       " <matplotlib.patches.Polygon at 0x1cb3e54d278>,\n",
       " <matplotlib.patches.Polygon at 0x1cb3e54d518>,\n",
       " <matplotlib.patches.Polygon at 0x1cb3e54d7b8>,\n",
       " <matplotlib.patches.Polygon at 0x1cb3e54da58>,\n",
       " <matplotlib.patches.Polygon at 0x1cb3e54dcf8>,\n",
       " <matplotlib.patches.Polygon at 0x1cb3e54df98>,\n",
       " <matplotlib.patches.Polygon at 0x1cb3e542278>,\n",
       " <matplotlib.patches.Polygon at 0x1cb3e542550>,\n",
       " <matplotlib.patches.Polygon at 0x1cb3e5427b8>,\n",
       " <matplotlib.patches.Polygon at 0x1cb3e542a58>,\n",
       " <matplotlib.patches.Polygon at 0x1cb3e542cf8>,\n",
       " <matplotlib.patches.Polygon at 0x1cb3e542f98>,\n",
       " <matplotlib.patches.Polygon at 0x1cb3ef65278>,\n",
       " <matplotlib.patches.Polygon at 0x1cb3ef65518>,\n",
       " <matplotlib.patches.Polygon at 0x1cb3ef657b8>,\n",
       " <matplotlib.patches.Polygon at 0x1cb3ef65a58>,\n",
       " <matplotlib.patches.Polygon at 0x1cb3ef65cf8>,\n",
       " <matplotlib.patches.Polygon at 0x1cb3ef65f98>,\n",
       " <matplotlib.patches.Polygon at 0x1cb3ef842b0>,\n",
       " <matplotlib.patches.Polygon at 0x1cb3ef84518>,\n",
       " <matplotlib.patches.Polygon at 0x1cb3ef847b8>]"
      ]
     },
     "execution_count": 8,
     "metadata": {},
     "output_type": "execute_result"
    },
    {
     "data": {
      "text/plain": [
       "<matplotlib.collections.LineCollection at 0x1cb3ef84908>"
      ]
     },
     "execution_count": 8,
     "metadata": {},
     "output_type": "execute_result"
    },
    {
     "data": {
      "text/plain": [
       "<matplotlib.collections.LineCollection at 0x1cb3ef84e48>"
      ]
     },
     "execution_count": 8,
     "metadata": {},
     "output_type": "execute_result"
    },
    {
     "data": {
      "text/plain": [
       "[<matplotlib.lines.Line2D at 0x1cb3ef26c88>]"
      ]
     },
     "execution_count": 8,
     "metadata": {},
     "output_type": "execute_result"
    },
    {
     "data": {
      "text/plain": [
       "Text(0.5, 1.0, 'Filtered occurrences for Ceratotherium simum')"
      ]
     },
     "execution_count": 8,
     "metadata": {},
     "output_type": "execute_result"
    },
    {
     "data": {
      "text/plain": [
       "<matplotlib.patches.Rectangle at 0x1cb3fa0eb70>"
      ]
     },
     "execution_count": 8,
     "metadata": {},
     "output_type": "execute_result"
    },
    {
     "data": {
      "text/plain": [
       "[<matplotlib.patches.Polygon at 0x1cb431d81d0>,\n",
       " <matplotlib.patches.Polygon at 0x1cb431d85c0>,\n",
       " <matplotlib.patches.Polygon at 0x1cb431d8898>,\n",
       " <matplotlib.patches.Polygon at 0x1cb431d8b38>,\n",
       " <matplotlib.patches.Polygon at 0x1cb431d8dd8>,\n",
       " <matplotlib.patches.Polygon at 0x1cb431da0b8>,\n",
       " <matplotlib.patches.Polygon at 0x1cb431da358>,\n",
       " <matplotlib.patches.Polygon at 0x1cb431da5f8>,\n",
       " <matplotlib.patches.Polygon at 0x1cb431da898>,\n",
       " <matplotlib.patches.Polygon at 0x1cb431dab38>,\n",
       " <matplotlib.patches.Polygon at 0x1cb431dadd8>,\n",
       " <matplotlib.patches.Polygon at 0x1cb3c3210b8>,\n",
       " <matplotlib.patches.Polygon at 0x1cb3c321358>,\n",
       " <matplotlib.patches.Polygon at 0x1cb3c3215f8>,\n",
       " <matplotlib.patches.Polygon at 0x1cb3c321898>,\n",
       " <matplotlib.patches.Polygon at 0x1cb3c321b38>,\n",
       " <matplotlib.patches.Polygon at 0x1cb3c321dd8>,\n",
       " <matplotlib.patches.Polygon at 0x1cb3c3090b8>,\n",
       " <matplotlib.patches.Polygon at 0x1cb3c309358>,\n",
       " <matplotlib.patches.Polygon at 0x1cb3c3095f8>,\n",
       " <matplotlib.patches.Polygon at 0x1cb3c309898>,\n",
       " <matplotlib.patches.Polygon at 0x1cb3c309b38>,\n",
       " <matplotlib.patches.Polygon at 0x1cb3c309dd8>,\n",
       " <matplotlib.patches.Polygon at 0x1cb2eed60b8>,\n",
       " <matplotlib.patches.Polygon at 0x1cb2eed6358>,\n",
       " <matplotlib.patches.Polygon at 0x1cb2eed65f8>,\n",
       " <matplotlib.patches.Polygon at 0x1cb2eed6898>,\n",
       " <matplotlib.patches.Polygon at 0x1cb2eed6b38>,\n",
       " <matplotlib.patches.Polygon at 0x1cb2eed6dd8>,\n",
       " <matplotlib.patches.Polygon at 0x1cb2eeef0b8>,\n",
       " <matplotlib.patches.Polygon at 0x1cb2eeef358>,\n",
       " <matplotlib.patches.Polygon at 0x1cb2eeef5f8>,\n",
       " <matplotlib.patches.Polygon at 0x1cb2eeef898>,\n",
       " <matplotlib.patches.Polygon at 0x1cb2eeefb38>,\n",
       " <matplotlib.patches.Polygon at 0x1cb2eeefdd8>,\n",
       " <matplotlib.patches.Polygon at 0x1cb4305e0b8>,\n",
       " <matplotlib.patches.Polygon at 0x1cb4305e358>,\n",
       " <matplotlib.patches.Polygon at 0x1cb4305e5f8>,\n",
       " <matplotlib.patches.Polygon at 0x1cb4305e898>,\n",
       " <matplotlib.patches.Polygon at 0x1cb4305eb38>,\n",
       " <matplotlib.patches.Polygon at 0x1cb4305edd8>,\n",
       " <matplotlib.patches.Polygon at 0x1cb430300b8>,\n",
       " <matplotlib.patches.Polygon at 0x1cb43030358>,\n",
       " <matplotlib.patches.Polygon at 0x1cb430305f8>,\n",
       " <matplotlib.patches.Polygon at 0x1cb43030898>,\n",
       " <matplotlib.patches.Polygon at 0x1cb43030b38>,\n",
       " <matplotlib.patches.Polygon at 0x1cb43030dd8>,\n",
       " <matplotlib.patches.Polygon at 0x1cb4303f0b8>,\n",
       " <matplotlib.patches.Polygon at 0x1cb4303f358>,\n",
       " <matplotlib.patches.Polygon at 0x1cb4303f5f8>,\n",
       " <matplotlib.patches.Polygon at 0x1cb4303f898>,\n",
       " <matplotlib.patches.Polygon at 0x1cb4303fb38>,\n",
       " <matplotlib.patches.Polygon at 0x1cb4303fdd8>,\n",
       " <matplotlib.patches.Polygon at 0x1cb3ef890b8>,\n",
       " <matplotlib.patches.Polygon at 0x1cb3ef89358>,\n",
       " <matplotlib.patches.Polygon at 0x1cb3ef895f8>,\n",
       " <matplotlib.patches.Polygon at 0x1cb3ef89898>,\n",
       " <matplotlib.patches.Polygon at 0x1cb3ef89b38>,\n",
       " <matplotlib.patches.Polygon at 0x1cb3ef89dd8>,\n",
       " <matplotlib.patches.Polygon at 0x1cb3ef7d0b8>,\n",
       " <matplotlib.patches.Polygon at 0x1cb3ef7d358>,\n",
       " <matplotlib.patches.Polygon at 0x1cb3ef7d5f8>,\n",
       " <matplotlib.patches.Polygon at 0x1cb3ef7d898>,\n",
       " <matplotlib.patches.Polygon at 0x1cb3ef7db70>,\n",
       " <matplotlib.patches.Polygon at 0x1cb3ef7de10>,\n",
       " <matplotlib.patches.Polygon at 0x1cb3ef7f0b8>,\n",
       " <matplotlib.patches.Polygon at 0x1cb3ef7f358>,\n",
       " <matplotlib.patches.Polygon at 0x1cb3ef7f5f8>,\n",
       " <matplotlib.patches.Polygon at 0x1cb3ef7f898>,\n",
       " <matplotlib.patches.Polygon at 0x1cb3ef7fb38>,\n",
       " <matplotlib.patches.Polygon at 0x1cb3ef7fdd8>,\n",
       " <matplotlib.patches.Polygon at 0x1cb3ef740b8>,\n",
       " <matplotlib.patches.Polygon at 0x1cb3ef74358>,\n",
       " <matplotlib.patches.Polygon at 0x1cb3ef745f8>,\n",
       " <matplotlib.patches.Polygon at 0x1cb3ef74898>,\n",
       " <matplotlib.patches.Polygon at 0x1cb3ef74b38>,\n",
       " <matplotlib.patches.Polygon at 0x1cb3ef74dd8>,\n",
       " <matplotlib.patches.Polygon at 0x1cb42fb40b8>,\n",
       " <matplotlib.patches.Polygon at 0x1cb42fb4358>,\n",
       " <matplotlib.patches.Polygon at 0x1cb42fb45f8>,\n",
       " <matplotlib.patches.Polygon at 0x1cb42fb4898>,\n",
       " <matplotlib.patches.Polygon at 0x1cb42fb4b38>,\n",
       " <matplotlib.patches.Polygon at 0x1cb42fb4dd8>,\n",
       " <matplotlib.patches.Polygon at 0x1cb42fc20b8>,\n",
       " <matplotlib.patches.Polygon at 0x1cb42fc2358>,\n",
       " <matplotlib.patches.Polygon at 0x1cb42fc25f8>,\n",
       " <matplotlib.patches.Polygon at 0x1cb42fc2898>,\n",
       " <matplotlib.patches.Polygon at 0x1cb42fc2b38>,\n",
       " <matplotlib.patches.Polygon at 0x1cb42fc2dd8>,\n",
       " <matplotlib.patches.Polygon at 0x1cb42fd20b8>,\n",
       " <matplotlib.patches.Polygon at 0x1cb42fd2358>,\n",
       " <matplotlib.patches.Polygon at 0x1cb42fd25f8>,\n",
       " <matplotlib.patches.Polygon at 0x1cb42fd2898>,\n",
       " <matplotlib.patches.Polygon at 0x1cb42fd2b38>,\n",
       " <matplotlib.patches.Polygon at 0x1cb42fd2dd8>,\n",
       " <matplotlib.patches.Polygon at 0x1cb3fad80b8>,\n",
       " <matplotlib.patches.Polygon at 0x1cb3fad8358>,\n",
       " <matplotlib.patches.Polygon at 0x1cb3fad85f8>,\n",
       " <matplotlib.patches.Polygon at 0x1cb3fad8898>,\n",
       " <matplotlib.patches.Polygon at 0x1cb3fad8b38>,\n",
       " <matplotlib.patches.Polygon at 0x1cb3fad8dd8>,\n",
       " <matplotlib.patches.Polygon at 0x1cb3fae60b8>,\n",
       " <matplotlib.patches.Polygon at 0x1cb3fae6358>,\n",
       " <matplotlib.patches.Polygon at 0x1cb3fae65f8>,\n",
       " <matplotlib.patches.Polygon at 0x1cb3fae6898>,\n",
       " <matplotlib.patches.Polygon at 0x1cb3fae6b38>,\n",
       " <matplotlib.patches.Polygon at 0x1cb3fae6dd8>,\n",
       " <matplotlib.patches.Polygon at 0x1cb3faf70b8>,\n",
       " <matplotlib.patches.Polygon at 0x1cb3faf7358>,\n",
       " <matplotlib.patches.Polygon at 0x1cb3faf75f8>,\n",
       " <matplotlib.patches.Polygon at 0x1cb3faf7898>,\n",
       " <matplotlib.patches.Polygon at 0x1cb3faf7b38>,\n",
       " <matplotlib.patches.Polygon at 0x1cb3faf7dd8>,\n",
       " <matplotlib.patches.Polygon at 0x1cb3fb050b8>,\n",
       " <matplotlib.patches.Polygon at 0x1cb3fb05358>,\n",
       " <matplotlib.patches.Polygon at 0x1cb3fb055f8>,\n",
       " <matplotlib.patches.Polygon at 0x1cb3fb05898>,\n",
       " <matplotlib.patches.Polygon at 0x1cb3fb05b38>,\n",
       " <matplotlib.patches.Polygon at 0x1cb3fb05dd8>]"
      ]
     },
     "execution_count": 8,
     "metadata": {},
     "output_type": "execute_result"
    },
    {
     "data": {
      "text/plain": [
       "<matplotlib.collections.LineCollection at 0x1cb3fb05f98>"
      ]
     },
     "execution_count": 8,
     "metadata": {},
     "output_type": "execute_result"
    },
    {
     "data": {
      "text/plain": [
       "<matplotlib.collections.LineCollection at 0x1cb40ab2eb8>"
      ]
     },
     "execution_count": 8,
     "metadata": {},
     "output_type": "execute_result"
    },
    {
     "data": {
      "text/plain": [
       "[<matplotlib.lines.Line2D at 0x1cb3fb61f28>]"
      ]
     },
     "execution_count": 8,
     "metadata": {},
     "output_type": "execute_result"
    },
    {
     "data": {
      "text/plain": [
       "Text(0.5, 1.0, 'Filtered occurrences for Cervus elaphus')"
      ]
     },
     "execution_count": 8,
     "metadata": {},
     "output_type": "execute_result"
    },
    {
     "data": {
      "text/plain": [
       "<matplotlib.patches.Rectangle at 0x1cb3f363f28>"
      ]
     },
     "execution_count": 8,
     "metadata": {},
     "output_type": "execute_result"
    },
    {
     "data": {
      "text/plain": [
       "[<matplotlib.patches.Polygon at 0x1cb3f981278>,\n",
       " <matplotlib.patches.Polygon at 0x1cb3f9816a0>,\n",
       " <matplotlib.patches.Polygon at 0x1cb3f981940>,\n",
       " <matplotlib.patches.Polygon at 0x1cb3f981be0>,\n",
       " <matplotlib.patches.Polygon at 0x1cb3f981e80>,\n",
       " <matplotlib.patches.Polygon at 0x1cb3f3ce160>,\n",
       " <matplotlib.patches.Polygon at 0x1cb3f3ce400>,\n",
       " <matplotlib.patches.Polygon at 0x1cb3f3ce6a0>,\n",
       " <matplotlib.patches.Polygon at 0x1cb3f3ce940>,\n",
       " <matplotlib.patches.Polygon at 0x1cb3f3cebe0>,\n",
       " <matplotlib.patches.Polygon at 0x1cb3f3cee80>,\n",
       " <matplotlib.patches.Polygon at 0x1cb3f4a0160>,\n",
       " <matplotlib.patches.Polygon at 0x1cb3f4a0400>,\n",
       " <matplotlib.patches.Polygon at 0x1cb3f4a06a0>,\n",
       " <matplotlib.patches.Polygon at 0x1cb3f4a0940>,\n",
       " <matplotlib.patches.Polygon at 0x1cb3f4a0be0>,\n",
       " <matplotlib.patches.Polygon at 0x1cb3f4a0e80>,\n",
       " <matplotlib.patches.Polygon at 0x1cb30657160>,\n",
       " <matplotlib.patches.Polygon at 0x1cb30657400>,\n",
       " <matplotlib.patches.Polygon at 0x1cb306576a0>,\n",
       " <matplotlib.patches.Polygon at 0x1cb30657940>,\n",
       " <matplotlib.patches.Polygon at 0x1cb30657be0>,\n",
       " <matplotlib.patches.Polygon at 0x1cb30657e80>,\n",
       " <matplotlib.patches.Polygon at 0x1cb3c30a160>,\n",
       " <matplotlib.patches.Polygon at 0x1cb3c30a400>,\n",
       " <matplotlib.patches.Polygon at 0x1cb3c30a6a0>,\n",
       " <matplotlib.patches.Polygon at 0x1cb3c30a940>,\n",
       " <matplotlib.patches.Polygon at 0x1cb3c30abe0>,\n",
       " <matplotlib.patches.Polygon at 0x1cb3c30ae80>,\n",
       " <matplotlib.patches.Polygon at 0x1cb3c30e160>,\n",
       " <matplotlib.patches.Polygon at 0x1cb3c30e400>,\n",
       " <matplotlib.patches.Polygon at 0x1cb3c30e6a0>,\n",
       " <matplotlib.patches.Polygon at 0x1cb3c30e940>,\n",
       " <matplotlib.patches.Polygon at 0x1cb3c30ebe0>,\n",
       " <matplotlib.patches.Polygon at 0x1cb3c30ee80>,\n",
       " <matplotlib.patches.Polygon at 0x1cb305aa160>,\n",
       " <matplotlib.patches.Polygon at 0x1cb305aa400>,\n",
       " <matplotlib.patches.Polygon at 0x1cb305aa6a0>,\n",
       " <matplotlib.patches.Polygon at 0x1cb305aa940>,\n",
       " <matplotlib.patches.Polygon at 0x1cb305aabe0>,\n",
       " <matplotlib.patches.Polygon at 0x1cb305aae80>,\n",
       " <matplotlib.patches.Polygon at 0x1cb305b8160>,\n",
       " <matplotlib.patches.Polygon at 0x1cb305b8400>,\n",
       " <matplotlib.patches.Polygon at 0x1cb305b86d8>,\n",
       " <matplotlib.patches.Polygon at 0x1cb305b8940>,\n",
       " <matplotlib.patches.Polygon at 0x1cb305b8be0>,\n",
       " <matplotlib.patches.Polygon at 0x1cb305b8e80>,\n",
       " <matplotlib.patches.Polygon at 0x1cb3f3ee160>,\n",
       " <matplotlib.patches.Polygon at 0x1cb3f3ee400>,\n",
       " <matplotlib.patches.Polygon at 0x1cb3f3ee6a0>,\n",
       " <matplotlib.patches.Polygon at 0x1cb3f3ee940>,\n",
       " <matplotlib.patches.Polygon at 0x1cb3f3eebe0>,\n",
       " <matplotlib.patches.Polygon at 0x1cb3f3eee80>,\n",
       " <matplotlib.patches.Polygon at 0x1cb3f3d5160>,\n",
       " <matplotlib.patches.Polygon at 0x1cb3f3d5400>,\n",
       " <matplotlib.patches.Polygon at 0x1cb3f3d56a0>,\n",
       " <matplotlib.patches.Polygon at 0x1cb3f3d5940>,\n",
       " <matplotlib.patches.Polygon at 0x1cb3f3d5be0>,\n",
       " <matplotlib.patches.Polygon at 0x1cb3f3d5e80>,\n",
       " <matplotlib.patches.Polygon at 0x1cb3f3e8160>,\n",
       " <matplotlib.patches.Polygon at 0x1cb3f3e8400>,\n",
       " <matplotlib.patches.Polygon at 0x1cb3f3e86a0>,\n",
       " <matplotlib.patches.Polygon at 0x1cb3f3e8940>,\n",
       " <matplotlib.patches.Polygon at 0x1cb3f3e8be0>,\n",
       " <matplotlib.patches.Polygon at 0x1cb3f3e8e80>,\n",
       " <matplotlib.patches.Polygon at 0x1cb3e411160>,\n",
       " <matplotlib.patches.Polygon at 0x1cb3e411400>,\n",
       " <matplotlib.patches.Polygon at 0x1cb3e4116a0>,\n",
       " <matplotlib.patches.Polygon at 0x1cb3e411940>,\n",
       " <matplotlib.patches.Polygon at 0x1cb3e411be0>,\n",
       " <matplotlib.patches.Polygon at 0x1cb3e411e80>,\n",
       " <matplotlib.patches.Polygon at 0x1cb3e405160>,\n",
       " <matplotlib.patches.Polygon at 0x1cb3e405400>,\n",
       " <matplotlib.patches.Polygon at 0x1cb3e4056a0>,\n",
       " <matplotlib.patches.Polygon at 0x1cb3e405940>]"
      ]
     },
     "execution_count": 8,
     "metadata": {},
     "output_type": "execute_result"
    },
    {
     "data": {
      "text/plain": [
       "<matplotlib.collections.LineCollection at 0x1cb3e405a58>"
      ]
     },
     "execution_count": 8,
     "metadata": {},
     "output_type": "execute_result"
    },
    {
     "data": {
      "text/plain": [
       "<matplotlib.collections.LineCollection at 0x1cb3e405a20>"
      ]
     },
     "execution_count": 8,
     "metadata": {},
     "output_type": "execute_result"
    },
    {
     "data": {
      "text/plain": [
       "[<matplotlib.lines.Line2D at 0x1cb3fb5b978>]"
      ]
     },
     "execution_count": 8,
     "metadata": {},
     "output_type": "execute_result"
    },
    {
     "data": {
      "text/plain": [
       "Text(0.5, 1.0, 'Filtered occurrences for Cervus nippon')"
      ]
     },
     "execution_count": 8,
     "metadata": {},
     "output_type": "execute_result"
    },
    {
     "data": {
      "text/plain": [
       "<matplotlib.patches.Rectangle at 0x1cb40b38d30>"
      ]
     },
     "execution_count": 8,
     "metadata": {},
     "output_type": "execute_result"
    },
    {
     "data": {
      "text/plain": [
       "[<matplotlib.patches.Polygon at 0x1cb2eed7390>,\n",
       " <matplotlib.patches.Polygon at 0x1cb2eed77b8>,\n",
       " <matplotlib.patches.Polygon at 0x1cb2eed7a58>,\n",
       " <matplotlib.patches.Polygon at 0x1cb2eed7cf8>,\n",
       " <matplotlib.patches.Polygon at 0x1cb2eed7f98>,\n",
       " <matplotlib.patches.Polygon at 0x1cb3fb06278>,\n",
       " <matplotlib.patches.Polygon at 0x1cb3fb06518>,\n",
       " <matplotlib.patches.Polygon at 0x1cb3fb067b8>,\n",
       " <matplotlib.patches.Polygon at 0x1cb3fb06a58>,\n",
       " <matplotlib.patches.Polygon at 0x1cb3fb06cf8>,\n",
       " <matplotlib.patches.Polygon at 0x1cb3fb06f98>,\n",
       " <matplotlib.patches.Polygon at 0x1cb3f982278>,\n",
       " <matplotlib.patches.Polygon at 0x1cb3f982518>,\n",
       " <matplotlib.patches.Polygon at 0x1cb3f9827b8>,\n",
       " <matplotlib.patches.Polygon at 0x1cb3f982a58>,\n",
       " <matplotlib.patches.Polygon at 0x1cb3f982cf8>,\n",
       " <matplotlib.patches.Polygon at 0x1cb3f982f98>,\n",
       " <matplotlib.patches.Polygon at 0x1cb42fc3278>,\n",
       " <matplotlib.patches.Polygon at 0x1cb42fc3518>,\n",
       " <matplotlib.patches.Polygon at 0x1cb42fc37b8>,\n",
       " <matplotlib.patches.Polygon at 0x1cb42fc3a58>,\n",
       " <matplotlib.patches.Polygon at 0x1cb42fc3d30>,\n",
       " <matplotlib.patches.Polygon at 0x1cb42fc3f98>,\n",
       " <matplotlib.patches.Polygon at 0x1cb3f4a3278>,\n",
       " <matplotlib.patches.Polygon at 0x1cb3f4a3518>,\n",
       " <matplotlib.patches.Polygon at 0x1cb3f4a37b8>,\n",
       " <matplotlib.patches.Polygon at 0x1cb3f4a3a58>,\n",
       " <matplotlib.patches.Polygon at 0x1cb3f4a3cf8>,\n",
       " <matplotlib.patches.Polygon at 0x1cb3f4a3f98>]"
      ]
     },
     "execution_count": 8,
     "metadata": {},
     "output_type": "execute_result"
    },
    {
     "data": {
      "text/plain": [
       "<matplotlib.collections.LineCollection at 0x1cb2eed7be0>"
      ]
     },
     "execution_count": 8,
     "metadata": {},
     "output_type": "execute_result"
    },
    {
     "data": {
      "text/plain": [
       "<matplotlib.collections.LineCollection at 0x1cb3f367160>"
      ]
     },
     "execution_count": 8,
     "metadata": {},
     "output_type": "execute_result"
    },
    {
     "data": {
      "text/plain": [
       "[<matplotlib.lines.Line2D at 0x1cb3f3f3da0>]"
      ]
     },
     "execution_count": 8,
     "metadata": {},
     "output_type": "execute_result"
    },
    {
     "data": {
      "text/plain": [
       "Text(0.5, 1.0, 'Filtered occurrences for Connochaetes gnou')"
      ]
     },
     "execution_count": 8,
     "metadata": {},
     "output_type": "execute_result"
    },
    {
     "data": {
      "text/plain": [
       "<matplotlib.patches.Rectangle at 0x1cb42f15400>"
      ]
     },
     "execution_count": 8,
     "metadata": {},
     "output_type": "execute_result"
    },
    {
     "data": {
      "text/plain": [
       "[<matplotlib.patches.Polygon at 0x1cb3e3fdb38>,\n",
       " <matplotlib.patches.Polygon at 0x1cb3e3fde10>,\n",
       " <matplotlib.patches.Polygon at 0x1cb430880f0>,\n",
       " <matplotlib.patches.Polygon at 0x1cb43088390>,\n",
       " <matplotlib.patches.Polygon at 0x1cb43088630>,\n",
       " <matplotlib.patches.Polygon at 0x1cb430888d0>,\n",
       " <matplotlib.patches.Polygon at 0x1cb43088b70>,\n",
       " <matplotlib.patches.Polygon at 0x1cb43088e10>,\n",
       " <matplotlib.patches.Polygon at 0x1cb40a850f0>,\n",
       " <matplotlib.patches.Polygon at 0x1cb40a85390>,\n",
       " <matplotlib.patches.Polygon at 0x1cb40a85630>,\n",
       " <matplotlib.patches.Polygon at 0x1cb40a858d0>,\n",
       " <matplotlib.patches.Polygon at 0x1cb40a85b70>,\n",
       " <matplotlib.patches.Polygon at 0x1cb40a85e10>,\n",
       " <matplotlib.patches.Polygon at 0x1cb40a950f0>,\n",
       " <matplotlib.patches.Polygon at 0x1cb40a95390>,\n",
       " <matplotlib.patches.Polygon at 0x1cb40a95630>,\n",
       " <matplotlib.patches.Polygon at 0x1cb40a958d0>,\n",
       " <matplotlib.patches.Polygon at 0x1cb40a95b70>,\n",
       " <matplotlib.patches.Polygon at 0x1cb40a95e10>,\n",
       " <matplotlib.patches.Polygon at 0x1cb3f9de0f0>,\n",
       " <matplotlib.patches.Polygon at 0x1cb3f9de390>,\n",
       " <matplotlib.patches.Polygon at 0x1cb3f9de630>,\n",
       " <matplotlib.patches.Polygon at 0x1cb3f9de908>,\n",
       " <matplotlib.patches.Polygon at 0x1cb3f9deb70>,\n",
       " <matplotlib.patches.Polygon at 0x1cb3f9dee10>,\n",
       " <matplotlib.patches.Polygon at 0x1cb3f9d00f0>,\n",
       " <matplotlib.patches.Polygon at 0x1cb3f9d0390>,\n",
       " <matplotlib.patches.Polygon at 0x1cb3f9d0630>,\n",
       " <matplotlib.patches.Polygon at 0x1cb3f9d08d0>,\n",
       " <matplotlib.patches.Polygon at 0x1cb3f9d0b70>,\n",
       " <matplotlib.patches.Polygon at 0x1cb3f9d0e10>,\n",
       " <matplotlib.patches.Polygon at 0x1cb40ad60f0>,\n",
       " <matplotlib.patches.Polygon at 0x1cb40ad6390>,\n",
       " <matplotlib.patches.Polygon at 0x1cb40ad6630>,\n",
       " <matplotlib.patches.Polygon at 0x1cb40ad68d0>,\n",
       " <matplotlib.patches.Polygon at 0x1cb40ad6ba8>,\n",
       " <matplotlib.patches.Polygon at 0x1cb40ad6e10>,\n",
       " <matplotlib.patches.Polygon at 0x1cb40ad9128>,\n",
       " <matplotlib.patches.Polygon at 0x1cb40ad9390>,\n",
       " <matplotlib.patches.Polygon at 0x1cb40ad9630>,\n",
       " <matplotlib.patches.Polygon at 0x1cb40ad9908>,\n",
       " <matplotlib.patches.Polygon at 0x1cb40ad9b70>,\n",
       " <matplotlib.patches.Polygon at 0x1cb40ad9e10>]"
      ]
     },
     "execution_count": 8,
     "metadata": {},
     "output_type": "execute_result"
    },
    {
     "data": {
      "text/plain": [
       "<matplotlib.collections.LineCollection at 0x1cb40ad9f60>"
      ]
     },
     "execution_count": 8,
     "metadata": {},
     "output_type": "execute_result"
    },
    {
     "data": {
      "text/plain": [
       "<matplotlib.collections.LineCollection at 0x1cb40ad9f28>"
      ]
     },
     "execution_count": 8,
     "metadata": {},
     "output_type": "execute_result"
    },
    {
     "data": {
      "text/plain": [
       "[<matplotlib.lines.Line2D at 0x1cb30647630>]"
      ]
     },
     "execution_count": 8,
     "metadata": {},
     "output_type": "execute_result"
    },
    {
     "data": {
      "text/plain": [
       "Text(0.5, 1.0, 'Filtered occurrences for Connochaetes taurinus')"
      ]
     },
     "execution_count": 8,
     "metadata": {},
     "output_type": "execute_result"
    },
    {
     "data": {
      "text/plain": [
       "<matplotlib.patches.Rectangle at 0x1cb430dc160>"
      ]
     },
     "execution_count": 8,
     "metadata": {},
     "output_type": "execute_result"
    },
    {
     "data": {
      "text/plain": [
       "[<matplotlib.patches.Polygon at 0x1cb423f7780>,\n",
       " <matplotlib.patches.Polygon at 0x1cb423f7b70>,\n",
       " <matplotlib.patches.Polygon at 0x1cb423f7e48>,\n",
       " <matplotlib.patches.Polygon at 0x1cb40ae7128>,\n",
       " <matplotlib.patches.Polygon at 0x1cb40ae73c8>,\n",
       " <matplotlib.patches.Polygon at 0x1cb40ae7668>,\n",
       " <matplotlib.patches.Polygon at 0x1cb40ae7908>,\n",
       " <matplotlib.patches.Polygon at 0x1cb40ae7ba8>,\n",
       " <matplotlib.patches.Polygon at 0x1cb40ae7e48>,\n",
       " <matplotlib.patches.Polygon at 0x1cb40afc128>,\n",
       " <matplotlib.patches.Polygon at 0x1cb40afc3c8>,\n",
       " <matplotlib.patches.Polygon at 0x1cb40afc668>,\n",
       " <matplotlib.patches.Polygon at 0x1cb40afc908>,\n",
       " <matplotlib.patches.Polygon at 0x1cb40afcba8>,\n",
       " <matplotlib.patches.Polygon at 0x1cb40afce48>,\n",
       " <matplotlib.patches.Polygon at 0x1cb40ac2128>,\n",
       " <matplotlib.patches.Polygon at 0x1cb40ac23c8>,\n",
       " <matplotlib.patches.Polygon at 0x1cb40ac2668>,\n",
       " <matplotlib.patches.Polygon at 0x1cb40ac2908>,\n",
       " <matplotlib.patches.Polygon at 0x1cb40ac2ba8>,\n",
       " <matplotlib.patches.Polygon at 0x1cb40ac2e48>,\n",
       " <matplotlib.patches.Polygon at 0x1cb30621128>,\n",
       " <matplotlib.patches.Polygon at 0x1cb306213c8>,\n",
       " <matplotlib.patches.Polygon at 0x1cb30621668>,\n",
       " <matplotlib.patches.Polygon at 0x1cb30621908>,\n",
       " <matplotlib.patches.Polygon at 0x1cb30621ba8>,\n",
       " <matplotlib.patches.Polygon at 0x1cb30621e48>,\n",
       " <matplotlib.patches.Polygon at 0x1cb30635128>,\n",
       " <matplotlib.patches.Polygon at 0x1cb306353c8>,\n",
       " <matplotlib.patches.Polygon at 0x1cb30635668>,\n",
       " <matplotlib.patches.Polygon at 0x1cb30635908>,\n",
       " <matplotlib.patches.Polygon at 0x1cb30635ba8>,\n",
       " <matplotlib.patches.Polygon at 0x1cb30635e48>,\n",
       " <matplotlib.patches.Polygon at 0x1cb42e37128>,\n",
       " <matplotlib.patches.Polygon at 0x1cb42e373c8>,\n",
       " <matplotlib.patches.Polygon at 0x1cb42e37668>,\n",
       " <matplotlib.patches.Polygon at 0x1cb42e37908>,\n",
       " <matplotlib.patches.Polygon at 0x1cb42e37ba8>,\n",
       " <matplotlib.patches.Polygon at 0x1cb42e37e48>,\n",
       " <matplotlib.patches.Polygon at 0x1cb42e4b128>,\n",
       " <matplotlib.patches.Polygon at 0x1cb42e4b3c8>,\n",
       " <matplotlib.patches.Polygon at 0x1cb42e4b668>,\n",
       " <matplotlib.patches.Polygon at 0x1cb42e4b908>,\n",
       " <matplotlib.patches.Polygon at 0x1cb42e4bba8>,\n",
       " <matplotlib.patches.Polygon at 0x1cb42e4be48>,\n",
       " <matplotlib.patches.Polygon at 0x1cb42e5c128>,\n",
       " <matplotlib.patches.Polygon at 0x1cb42e5c3c8>,\n",
       " <matplotlib.patches.Polygon at 0x1cb42e5c668>,\n",
       " <matplotlib.patches.Polygon at 0x1cb42e5c908>,\n",
       " <matplotlib.patches.Polygon at 0x1cb42e5cba8>,\n",
       " <matplotlib.patches.Polygon at 0x1cb42e5ce48>,\n",
       " <matplotlib.patches.Polygon at 0x1cb3f9f1128>,\n",
       " <matplotlib.patches.Polygon at 0x1cb3f9f13c8>,\n",
       " <matplotlib.patches.Polygon at 0x1cb3f9f1668>,\n",
       " <matplotlib.patches.Polygon at 0x1cb3f9f1908>,\n",
       " <matplotlib.patches.Polygon at 0x1cb3f9f1ba8>,\n",
       " <matplotlib.patches.Polygon at 0x1cb3f9f1e48>,\n",
       " <matplotlib.patches.Polygon at 0x1cb3f9db128>,\n",
       " <matplotlib.patches.Polygon at 0x1cb3f9db400>,\n",
       " <matplotlib.patches.Polygon at 0x1cb3f9db6a0>,\n",
       " <matplotlib.patches.Polygon at 0x1cb3f9db908>,\n",
       " <matplotlib.patches.Polygon at 0x1cb3f9dbba8>,\n",
       " <matplotlib.patches.Polygon at 0x1cb3f9dbe48>,\n",
       " <matplotlib.patches.Polygon at 0x1cb3f9fb128>,\n",
       " <matplotlib.patches.Polygon at 0x1cb3f9fb3c8>,\n",
       " <matplotlib.patches.Polygon at 0x1cb3f9fb668>,\n",
       " <matplotlib.patches.Polygon at 0x1cb3f9fb908>,\n",
       " <matplotlib.patches.Polygon at 0x1cb3f9fbba8>,\n",
       " <matplotlib.patches.Polygon at 0x1cb3f9fbe48>,\n",
       " <matplotlib.patches.Polygon at 0x1cb3fa06160>,\n",
       " <matplotlib.patches.Polygon at 0x1cb3fa063c8>,\n",
       " <matplotlib.patches.Polygon at 0x1cb3fa06668>,\n",
       " <matplotlib.patches.Polygon at 0x1cb3fa06908>,\n",
       " <matplotlib.patches.Polygon at 0x1cb3fa06ba8>,\n",
       " <matplotlib.patches.Polygon at 0x1cb3fa06e48>,\n",
       " <matplotlib.patches.Polygon at 0x1cb4309b128>,\n",
       " <matplotlib.patches.Polygon at 0x1cb4309b3c8>,\n",
       " <matplotlib.patches.Polygon at 0x1cb4309b668>,\n",
       " <matplotlib.patches.Polygon at 0x1cb4309b908>,\n",
       " <matplotlib.patches.Polygon at 0x1cb4309bba8>,\n",
       " <matplotlib.patches.Polygon at 0x1cb4309be48>,\n",
       " <matplotlib.patches.Polygon at 0x1cb4308c128>,\n",
       " <matplotlib.patches.Polygon at 0x1cb4308c3c8>,\n",
       " <matplotlib.patches.Polygon at 0x1cb4308c668>,\n",
       " <matplotlib.patches.Polygon at 0x1cb4308c908>,\n",
       " <matplotlib.patches.Polygon at 0x1cb4308cba8>,\n",
       " <matplotlib.patches.Polygon at 0x1cb4308ce48>,\n",
       " <matplotlib.patches.Polygon at 0x1cb4308b128>,\n",
       " <matplotlib.patches.Polygon at 0x1cb4308b3c8>,\n",
       " <matplotlib.patches.Polygon at 0x1cb4308b668>,\n",
       " <matplotlib.patches.Polygon at 0x1cb4308b908>,\n",
       " <matplotlib.patches.Polygon at 0x1cb4308bba8>,\n",
       " <matplotlib.patches.Polygon at 0x1cb4308be48>,\n",
       " <matplotlib.patches.Polygon at 0x1cb431a4128>,\n",
       " <matplotlib.patches.Polygon at 0x1cb431a43c8>,\n",
       " <matplotlib.patches.Polygon at 0x1cb431a4668>,\n",
       " <matplotlib.patches.Polygon at 0x1cb431a4908>,\n",
       " <matplotlib.patches.Polygon at 0x1cb431a4ba8>,\n",
       " <matplotlib.patches.Polygon at 0x1cb431a4e48>,\n",
       " <matplotlib.patches.Polygon at 0x1cb431ad128>,\n",
       " <matplotlib.patches.Polygon at 0x1cb431ad3c8>,\n",
       " <matplotlib.patches.Polygon at 0x1cb431ad668>,\n",
       " <matplotlib.patches.Polygon at 0x1cb431ad908>,\n",
       " <matplotlib.patches.Polygon at 0x1cb431adba8>,\n",
       " <matplotlib.patches.Polygon at 0x1cb431ade48>,\n",
       " <matplotlib.patches.Polygon at 0x1cb431bf128>,\n",
       " <matplotlib.patches.Polygon at 0x1cb431bf3c8>,\n",
       " <matplotlib.patches.Polygon at 0x1cb431bf668>,\n",
       " <matplotlib.patches.Polygon at 0x1cb431bf908>,\n",
       " <matplotlib.patches.Polygon at 0x1cb431bfba8>,\n",
       " <matplotlib.patches.Polygon at 0x1cb431bfe48>,\n",
       " <matplotlib.patches.Polygon at 0x1cb431cb128>,\n",
       " <matplotlib.patches.Polygon at 0x1cb431cb3c8>,\n",
       " <matplotlib.patches.Polygon at 0x1cb431cb668>,\n",
       " <matplotlib.patches.Polygon at 0x1cb431cb908>,\n",
       " <matplotlib.patches.Polygon at 0x1cb431cbba8>]"
      ]
     },
     "execution_count": 8,
     "metadata": {},
     "output_type": "execute_result"
    },
    {
     "data": {
      "text/plain": [
       "<matplotlib.collections.LineCollection at 0x1cb431cbc88>"
      ]
     },
     "execution_count": 8,
     "metadata": {},
     "output_type": "execute_result"
    },
    {
     "data": {
      "text/plain": [
       "<matplotlib.collections.LineCollection at 0x1cb42dfee10>"
      ]
     },
     "execution_count": 8,
     "metadata": {},
     "output_type": "execute_result"
    },
    {
     "data": {
      "text/plain": [
       "[<matplotlib.lines.Line2D at 0x1cb42dfedd8>]"
      ]
     },
     "execution_count": 8,
     "metadata": {},
     "output_type": "execute_result"
    },
    {
     "data": {
      "text/plain": [
       "Text(0.5, 1.0, 'Filtered occurrences for Dama dama')"
      ]
     },
     "execution_count": 8,
     "metadata": {},
     "output_type": "execute_result"
    },
    {
     "data": {
      "text/plain": [
       "<matplotlib.patches.Rectangle at 0x1cb3f48e198>"
      ]
     },
     "execution_count": 8,
     "metadata": {},
     "output_type": "execute_result"
    },
    {
     "data": {
      "text/plain": [
       "[<matplotlib.patches.Polygon at 0x1cb305737b8>,\n",
       " <matplotlib.patches.Polygon at 0x1cb30573be0>,\n",
       " <matplotlib.patches.Polygon at 0x1cb30573eb8>,\n",
       " <matplotlib.patches.Polygon at 0x1cb3059e198>,\n",
       " <matplotlib.patches.Polygon at 0x1cb305739b0>,\n",
       " <matplotlib.patches.Polygon at 0x1cb3059e6a0>,\n",
       " <matplotlib.patches.Polygon at 0x1cb3059e940>,\n",
       " <matplotlib.patches.Polygon at 0x1cb3059ebe0>,\n",
       " <matplotlib.patches.Polygon at 0x1cb3059ee80>,\n",
       " <matplotlib.patches.Polygon at 0x1cb3059a160>,\n",
       " <matplotlib.patches.Polygon at 0x1cb3059a400>,\n",
       " <matplotlib.patches.Polygon at 0x1cb3059a6a0>,\n",
       " <matplotlib.patches.Polygon at 0x1cb3059a940>,\n",
       " <matplotlib.patches.Polygon at 0x1cb3059abe0>,\n",
       " <matplotlib.patches.Polygon at 0x1cb3059ae80>,\n",
       " <matplotlib.patches.Polygon at 0x1cb305d6160>,\n",
       " <matplotlib.patches.Polygon at 0x1cb305d6400>,\n",
       " <matplotlib.patches.Polygon at 0x1cb305d66a0>,\n",
       " <matplotlib.patches.Polygon at 0x1cb305d6940>,\n",
       " <matplotlib.patches.Polygon at 0x1cb305d6be0>,\n",
       " <matplotlib.patches.Polygon at 0x1cb305d6e80>,\n",
       " <matplotlib.patches.Polygon at 0x1cb305dd160>,\n",
       " <matplotlib.patches.Polygon at 0x1cb305dd400>,\n",
       " <matplotlib.patches.Polygon at 0x1cb305dd6a0>,\n",
       " <matplotlib.patches.Polygon at 0x1cb305dd940>,\n",
       " <matplotlib.patches.Polygon at 0x1cb305ddbe0>,\n",
       " <matplotlib.patches.Polygon at 0x1cb305dde80>,\n",
       " <matplotlib.patches.Polygon at 0x1cb42f1a160>,\n",
       " <matplotlib.patches.Polygon at 0x1cb42f1a438>,\n",
       " <matplotlib.patches.Polygon at 0x1cb42f1a6a0>,\n",
       " <matplotlib.patches.Polygon at 0x1cb42f1a940>,\n",
       " <matplotlib.patches.Polygon at 0x1cb42f1abe0>,\n",
       " <matplotlib.patches.Polygon at 0x1cb42f1ae80>,\n",
       " <matplotlib.patches.Polygon at 0x1cb42f04160>,\n",
       " <matplotlib.patches.Polygon at 0x1cb42f04400>,\n",
       " <matplotlib.patches.Polygon at 0x1cb42f046a0>,\n",
       " <matplotlib.patches.Polygon at 0x1cb42f04940>,\n",
       " <matplotlib.patches.Polygon at 0x1cb42f04be0>,\n",
       " <matplotlib.patches.Polygon at 0x1cb42f04e80>,\n",
       " <matplotlib.patches.Polygon at 0x1cb42448160>,\n",
       " <matplotlib.patches.Polygon at 0x1cb42448400>,\n",
       " <matplotlib.patches.Polygon at 0x1cb424486a0>,\n",
       " <matplotlib.patches.Polygon at 0x1cb42448978>,\n",
       " <matplotlib.patches.Polygon at 0x1cb42448be0>,\n",
       " <matplotlib.patches.Polygon at 0x1cb42448eb8>,\n",
       " <matplotlib.patches.Polygon at 0x1cb4245d160>,\n",
       " <matplotlib.patches.Polygon at 0x1cb4245d400>,\n",
       " <matplotlib.patches.Polygon at 0x1cb4245d6d8>,\n",
       " <matplotlib.patches.Polygon at 0x1cb4245d940>,\n",
       " <matplotlib.patches.Polygon at 0x1cb4245dbe0>,\n",
       " <matplotlib.patches.Polygon at 0x1cb4245de80>]"
      ]
     },
     "execution_count": 8,
     "metadata": {},
     "output_type": "execute_result"
    },
    {
     "data": {
      "text/plain": [
       "<matplotlib.collections.LineCollection at 0x1cb3059e588>"
      ]
     },
     "execution_count": 8,
     "metadata": {},
     "output_type": "execute_result"
    },
    {
     "data": {
      "text/plain": [
       "<matplotlib.collections.LineCollection at 0x1cb42e33e10>"
      ]
     },
     "execution_count": 8,
     "metadata": {},
     "output_type": "execute_result"
    },
    {
     "data": {
      "text/plain": [
       "[<matplotlib.lines.Line2D at 0x1cb42e33da0>]"
      ]
     },
     "execution_count": 8,
     "metadata": {},
     "output_type": "execute_result"
    },
    {
     "data": {
      "text/plain": [
       "Text(0.5, 1.0, 'Filtered occurrences for Damaliscus lunatus')"
      ]
     },
     "execution_count": 8,
     "metadata": {},
     "output_type": "execute_result"
    },
    {
     "data": {
      "text/plain": [
       "<matplotlib.patches.Rectangle at 0x1cb430505f8>"
      ]
     },
     "execution_count": 8,
     "metadata": {},
     "output_type": "execute_result"
    },
    {
     "data": {
      "text/plain": [
       "[<matplotlib.patches.Polygon at 0x1cb3f3b5c18>,\n",
       " <matplotlib.patches.Polygon at 0x1cb30583080>,\n",
       " <matplotlib.patches.Polygon at 0x1cb30583358>,\n",
       " <matplotlib.patches.Polygon at 0x1cb305835f8>,\n",
       " <matplotlib.patches.Polygon at 0x1cb30583898>,\n",
       " <matplotlib.patches.Polygon at 0x1cb30583b38>,\n",
       " <matplotlib.patches.Polygon at 0x1cb30583dd8>,\n",
       " <matplotlib.patches.Polygon at 0x1cb3059d0b8>,\n",
       " <matplotlib.patches.Polygon at 0x1cb3059d358>,\n",
       " <matplotlib.patches.Polygon at 0x1cb3059d5f8>,\n",
       " <matplotlib.patches.Polygon at 0x1cb3059d898>,\n",
       " <matplotlib.patches.Polygon at 0x1cb3059db38>,\n",
       " <matplotlib.patches.Polygon at 0x1cb3059ddd8>,\n",
       " <matplotlib.patches.Polygon at 0x1cb42cf60b8>,\n",
       " <matplotlib.patches.Polygon at 0x1cb42cf6358>,\n",
       " <matplotlib.patches.Polygon at 0x1cb42cf65f8>,\n",
       " <matplotlib.patches.Polygon at 0x1cb42cf6898>,\n",
       " <matplotlib.patches.Polygon at 0x1cb42cf6b38>,\n",
       " <matplotlib.patches.Polygon at 0x1cb42cf6dd8>,\n",
       " <matplotlib.patches.Polygon at 0x1cb42d8a0b8>,\n",
       " <matplotlib.patches.Polygon at 0x1cb42d8a358>,\n",
       " <matplotlib.patches.Polygon at 0x1cb42d8a5f8>,\n",
       " <matplotlib.patches.Polygon at 0x1cb42d8a898>,\n",
       " <matplotlib.patches.Polygon at 0x1cb42d8ab38>,\n",
       " <matplotlib.patches.Polygon at 0x1cb42d8add8>,\n",
       " <matplotlib.patches.Polygon at 0x1cb42d9d0b8>,\n",
       " <matplotlib.patches.Polygon at 0x1cb42d9d358>,\n",
       " <matplotlib.patches.Polygon at 0x1cb42d9d630>,\n",
       " <matplotlib.patches.Polygon at 0x1cb42d9d898>,\n",
       " <matplotlib.patches.Polygon at 0x1cb42d9db38>,\n",
       " <matplotlib.patches.Polygon at 0x1cb42d9ddd8>,\n",
       " <matplotlib.patches.Polygon at 0x1cb424710b8>,\n",
       " <matplotlib.patches.Polygon at 0x1cb42471358>,\n",
       " <matplotlib.patches.Polygon at 0x1cb424715f8>]"
      ]
     },
     "execution_count": 8,
     "metadata": {},
     "output_type": "execute_result"
    },
    {
     "data": {
      "text/plain": [
       "<matplotlib.collections.LineCollection at 0x1cb424719b0>"
      ]
     },
     "execution_count": 8,
     "metadata": {},
     "output_type": "execute_result"
    },
    {
     "data": {
      "text/plain": [
       "<matplotlib.collections.LineCollection at 0x1cb42471a20>"
      ]
     },
     "execution_count": 8,
     "metadata": {},
     "output_type": "execute_result"
    },
    {
     "data": {
      "text/plain": [
       "[<matplotlib.lines.Line2D at 0x1cb42ee3ac8>]"
      ]
     },
     "execution_count": 8,
     "metadata": {},
     "output_type": "execute_result"
    },
    {
     "data": {
      "text/plain": [
       "Text(0.5, 1.0, 'Filtered occurrences for Damaliscus pygargus')"
      ]
     },
     "execution_count": 8,
     "metadata": {},
     "output_type": "execute_result"
    },
    {
     "data": {
      "text/plain": [
       "<matplotlib.patches.Rectangle at 0x1cb3f459240>"
      ]
     },
     "execution_count": 8,
     "metadata": {},
     "output_type": "execute_result"
    },
    {
     "data": {
      "text/plain": [
       "[<matplotlib.patches.Polygon at 0x1cb425307f0>,\n",
       " <matplotlib.patches.Polygon at 0x1cb42530b00>,\n",
       " <matplotlib.patches.Polygon at 0x1cb42530e48>,\n",
       " <matplotlib.patches.Polygon at 0x1cb4252f128>,\n",
       " <matplotlib.patches.Polygon at 0x1cb4252f3c8>,\n",
       " <matplotlib.patches.Polygon at 0x1cb4252f668>,\n",
       " <matplotlib.patches.Polygon at 0x1cb4252f908>,\n",
       " <matplotlib.patches.Polygon at 0x1cb4252fba8>,\n",
       " <matplotlib.patches.Polygon at 0x1cb4252fe48>,\n",
       " <matplotlib.patches.Polygon at 0x1cb3f46f128>,\n",
       " <matplotlib.patches.Polygon at 0x1cb3f46f3c8>,\n",
       " <matplotlib.patches.Polygon at 0x1cb3f46f668>,\n",
       " <matplotlib.patches.Polygon at 0x1cb3f46f908>,\n",
       " <matplotlib.patches.Polygon at 0x1cb3f46fba8>,\n",
       " <matplotlib.patches.Polygon at 0x1cb3f46fe48>,\n",
       " <matplotlib.patches.Polygon at 0x1cb3f481128>,\n",
       " <matplotlib.patches.Polygon at 0x1cb3f4813c8>,\n",
       " <matplotlib.patches.Polygon at 0x1cb3f481668>,\n",
       " <matplotlib.patches.Polygon at 0x1cb3f481908>,\n",
       " <matplotlib.patches.Polygon at 0x1cb3f481ba8>,\n",
       " <matplotlib.patches.Polygon at 0x1cb3f481e48>,\n",
       " <matplotlib.patches.Polygon at 0x1cb42cb8128>,\n",
       " <matplotlib.patches.Polygon at 0x1cb42cb83c8>,\n",
       " <matplotlib.patches.Polygon at 0x1cb42cb8668>,\n",
       " <matplotlib.patches.Polygon at 0x1cb42cb8908>,\n",
       " <matplotlib.patches.Polygon at 0x1cb42cb8ba8>,\n",
       " <matplotlib.patches.Polygon at 0x1cb42cb8e48>,\n",
       " <matplotlib.patches.Polygon at 0x1cb42cd4160>,\n",
       " <matplotlib.patches.Polygon at 0x1cb42cd43c8>,\n",
       " <matplotlib.patches.Polygon at 0x1cb42cd4668>,\n",
       " <matplotlib.patches.Polygon at 0x1cb42cd4908>,\n",
       " <matplotlib.patches.Polygon at 0x1cb42cd4ba8>,\n",
       " <matplotlib.patches.Polygon at 0x1cb42cd4e48>,\n",
       " <matplotlib.patches.Polygon at 0x1cb42423128>,\n",
       " <matplotlib.patches.Polygon at 0x1cb424233c8>,\n",
       " <matplotlib.patches.Polygon at 0x1cb42423668>,\n",
       " <matplotlib.patches.Polygon at 0x1cb42423908>,\n",
       " <matplotlib.patches.Polygon at 0x1cb42423ba8>,\n",
       " <matplotlib.patches.Polygon at 0x1cb42423e48>,\n",
       " <matplotlib.patches.Polygon at 0x1cb42419128>,\n",
       " <matplotlib.patches.Polygon at 0x1cb42419400>,\n",
       " <matplotlib.patches.Polygon at 0x1cb42419668>,\n",
       " <matplotlib.patches.Polygon at 0x1cb42419940>,\n",
       " <matplotlib.patches.Polygon at 0x1cb42419ba8>,\n",
       " <matplotlib.patches.Polygon at 0x1cb42419e48>,\n",
       " <matplotlib.patches.Polygon at 0x1cb42435160>,\n",
       " <matplotlib.patches.Polygon at 0x1cb424353c8>,\n",
       " <matplotlib.patches.Polygon at 0x1cb42435668>]"
      ]
     },
     "execution_count": 8,
     "metadata": {},
     "output_type": "execute_result"
    },
    {
     "data": {
      "text/plain": [
       "<matplotlib.collections.LineCollection at 0x1cb424357b8>"
      ]
     },
     "execution_count": 8,
     "metadata": {},
     "output_type": "execute_result"
    },
    {
     "data": {
      "text/plain": [
       "<matplotlib.collections.LineCollection at 0x1cb42435cf8>"
      ]
     },
     "execution_count": 8,
     "metadata": {},
     "output_type": "execute_result"
    },
    {
     "data": {
      "text/plain": [
       "[<matplotlib.lines.Line2D at 0x1cb430c7f60>]"
      ]
     },
     "execution_count": 8,
     "metadata": {},
     "output_type": "execute_result"
    },
    {
     "data": {
      "text/plain": [
       "Text(0.5, 1.0, 'Filtered occurrences for Diceros bicornis')"
      ]
     },
     "execution_count": 8,
     "metadata": {},
     "output_type": "execute_result"
    },
    {
     "data": {
      "text/plain": [
       "<matplotlib.patches.Rectangle at 0x1cb42526438>"
      ]
     },
     "execution_count": 8,
     "metadata": {},
     "output_type": "execute_result"
    },
    {
     "data": {
      "text/plain": [
       "[<matplotlib.patches.Polygon at 0x1cb42506a58>,\n",
       " <matplotlib.patches.Polygon at 0x1cb42506e80>,\n",
       " <matplotlib.patches.Polygon at 0x1cb4241a198>,\n",
       " <matplotlib.patches.Polygon at 0x1cb4241a438>,\n",
       " <matplotlib.patches.Polygon at 0x1cb4241a6d8>,\n",
       " <matplotlib.patches.Polygon at 0x1cb4241a978>,\n",
       " <matplotlib.patches.Polygon at 0x1cb4241ac18>,\n",
       " <matplotlib.patches.Polygon at 0x1cb4241aeb8>,\n",
       " <matplotlib.patches.Polygon at 0x1cb42420198>,\n",
       " <matplotlib.patches.Polygon at 0x1cb42420438>,\n",
       " <matplotlib.patches.Polygon at 0x1cb424206d8>,\n",
       " <matplotlib.patches.Polygon at 0x1cb42420978>,\n",
       " <matplotlib.patches.Polygon at 0x1cb42420c18>,\n",
       " <matplotlib.patches.Polygon at 0x1cb42420eb8>,\n",
       " <matplotlib.patches.Polygon at 0x1cb42400198>,\n",
       " <matplotlib.patches.Polygon at 0x1cb42400438>,\n",
       " <matplotlib.patches.Polygon at 0x1cb424006d8>,\n",
       " <matplotlib.patches.Polygon at 0x1cb42400978>,\n",
       " <matplotlib.patches.Polygon at 0x1cb42400c18>,\n",
       " <matplotlib.patches.Polygon at 0x1cb42400eb8>,\n",
       " <matplotlib.patches.Polygon at 0x1cb3f43e198>,\n",
       " <matplotlib.patches.Polygon at 0x1cb3f43e438>,\n",
       " <matplotlib.patches.Polygon at 0x1cb3f43e6d8>,\n",
       " <matplotlib.patches.Polygon at 0x1cb3f43e978>,\n",
       " <matplotlib.patches.Polygon at 0x1cb3f43ec18>,\n",
       " <matplotlib.patches.Polygon at 0x1cb3f43eeb8>,\n",
       " <matplotlib.patches.Polygon at 0x1cb3f426198>,\n",
       " <matplotlib.patches.Polygon at 0x1cb3f426470>,\n",
       " <matplotlib.patches.Polygon at 0x1cb3f4266d8>,\n",
       " <matplotlib.patches.Polygon at 0x1cb3f426978>,\n",
       " <matplotlib.patches.Polygon at 0x1cb3f426c18>,\n",
       " <matplotlib.patches.Polygon at 0x1cb3f426eb8>,\n",
       " <matplotlib.patches.Polygon at 0x1cb42494198>,\n",
       " <matplotlib.patches.Polygon at 0x1cb42494438>,\n",
       " <matplotlib.patches.Polygon at 0x1cb424946d8>,\n",
       " <matplotlib.patches.Polygon at 0x1cb42494978>,\n",
       " <matplotlib.patches.Polygon at 0x1cb42494c18>,\n",
       " <matplotlib.patches.Polygon at 0x1cb42494eb8>,\n",
       " <matplotlib.patches.Polygon at 0x1cb424b6198>,\n",
       " <matplotlib.patches.Polygon at 0x1cb424b6438>,\n",
       " <matplotlib.patches.Polygon at 0x1cb424b66d8>,\n",
       " <matplotlib.patches.Polygon at 0x1cb424b6978>,\n",
       " <matplotlib.patches.Polygon at 0x1cb424b6c50>,\n",
       " <matplotlib.patches.Polygon at 0x1cb424b6e80>,\n",
       " <matplotlib.patches.Polygon at 0x1cb3f48b160>]"
      ]
     },
     "execution_count": 8,
     "metadata": {},
     "output_type": "execute_result"
    },
    {
     "data": {
      "text/plain": [
       "<matplotlib.collections.LineCollection at 0x1cb3f48b588>"
      ]
     },
     "execution_count": 8,
     "metadata": {},
     "output_type": "execute_result"
    },
    {
     "data": {
      "text/plain": [
       "<matplotlib.collections.LineCollection at 0x1cb3f46cf98>"
      ]
     },
     "execution_count": 8,
     "metadata": {},
     "output_type": "execute_result"
    },
    {
     "data": {
      "text/plain": [
       "[<matplotlib.lines.Line2D at 0x1cb3f480d30>]"
      ]
     },
     "execution_count": 8,
     "metadata": {},
     "output_type": "execute_result"
    },
    {
     "data": {
      "text/plain": [
       "Text(0.5, 1.0, 'Filtered occurrences for Equus grevyi')"
      ]
     },
     "execution_count": 8,
     "metadata": {},
     "output_type": "execute_result"
    },
    {
     "data": {
      "text/plain": [
       "<matplotlib.patches.Rectangle at 0x1cb4250ddd8>"
      ]
     },
     "execution_count": 8,
     "metadata": {},
     "output_type": "execute_result"
    },
    {
     "data": {
      "text/plain": [
       "[<matplotlib.patches.Polygon at 0x1cb430a6f60>,\n",
       " <matplotlib.patches.Polygon at 0x1cb424b1080>,\n",
       " <matplotlib.patches.Polygon at 0x1cb424b13c8>,\n",
       " <matplotlib.patches.Polygon at 0x1cb424b1668>,\n",
       " <matplotlib.patches.Polygon at 0x1cb424b1908>,\n",
       " <matplotlib.patches.Polygon at 0x1cb424b1ba8>,\n",
       " <matplotlib.patches.Polygon at 0x1cb424b1e48>,\n",
       " <matplotlib.patches.Polygon at 0x1cb4415d128>,\n",
       " <matplotlib.patches.Polygon at 0x1cb4415d3c8>,\n",
       " <matplotlib.patches.Polygon at 0x1cb4415d668>,\n",
       " <matplotlib.patches.Polygon at 0x1cb4415d908>,\n",
       " <matplotlib.patches.Polygon at 0x1cb4415dba8>,\n",
       " <matplotlib.patches.Polygon at 0x1cb4415de48>,\n",
       " <matplotlib.patches.Polygon at 0x1cb44170128>,\n",
       " <matplotlib.patches.Polygon at 0x1cb441703c8>,\n",
       " <matplotlib.patches.Polygon at 0x1cb44170668>,\n",
       " <matplotlib.patches.Polygon at 0x1cb44170908>,\n",
       " <matplotlib.patches.Polygon at 0x1cb44170ba8>,\n",
       " <matplotlib.patches.Polygon at 0x1cb44170e48>,\n",
       " <matplotlib.patches.Polygon at 0x1cb424b8128>,\n",
       " <matplotlib.patches.Polygon at 0x1cb424b83c8>,\n",
       " <matplotlib.patches.Polygon at 0x1cb424b8668>,\n",
       " <matplotlib.patches.Polygon at 0x1cb424b8908>,\n",
       " <matplotlib.patches.Polygon at 0x1cb424b8ba8>,\n",
       " <matplotlib.patches.Polygon at 0x1cb424b8e48>,\n",
       " <matplotlib.patches.Polygon at 0x1cb424b3128>,\n",
       " <matplotlib.patches.Polygon at 0x1cb424b3400>,\n",
       " <matplotlib.patches.Polygon at 0x1cb424b3668>,\n",
       " <matplotlib.patches.Polygon at 0x1cb424b3908>,\n",
       " <matplotlib.patches.Polygon at 0x1cb424b3ba8>,\n",
       " <matplotlib.patches.Polygon at 0x1cb424b3e48>,\n",
       " <matplotlib.patches.Polygon at 0x1cb42e8b128>,\n",
       " <matplotlib.patches.Polygon at 0x1cb42e8b3c8>,\n",
       " <matplotlib.patches.Polygon at 0x1cb42e8b668>,\n",
       " <matplotlib.patches.Polygon at 0x1cb42e8b908>,\n",
       " <matplotlib.patches.Polygon at 0x1cb42e8bba8>,\n",
       " <matplotlib.patches.Polygon at 0x1cb42e8be48>,\n",
       " <matplotlib.patches.Polygon at 0x1cb42e79128>,\n",
       " <matplotlib.patches.Polygon at 0x1cb42e793c8>,\n",
       " <matplotlib.patches.Polygon at 0x1cb42e79668>,\n",
       " <matplotlib.patches.Polygon at 0x1cb42e79908>,\n",
       " <matplotlib.patches.Polygon at 0x1cb42e79ba8>,\n",
       " <matplotlib.patches.Polygon at 0x1cb42e79e48>,\n",
       " <matplotlib.patches.Polygon at 0x1cb42e82128>,\n",
       " <matplotlib.patches.Polygon at 0x1cb42e823c8>,\n",
       " <matplotlib.patches.Polygon at 0x1cb42e82668>,\n",
       " <matplotlib.patches.Polygon at 0x1cb42e82908>,\n",
       " <matplotlib.patches.Polygon at 0x1cb42e82ba8>,\n",
       " <matplotlib.patches.Polygon at 0x1cb42e82e48>,\n",
       " <matplotlib.patches.Polygon at 0x1cb42da6128>,\n",
       " <matplotlib.patches.Polygon at 0x1cb42da63c8>,\n",
       " <matplotlib.patches.Polygon at 0x1cb42da6668>,\n",
       " <matplotlib.patches.Polygon at 0x1cb42da6908>,\n",
       " <matplotlib.patches.Polygon at 0x1cb42da6ba8>,\n",
       " <matplotlib.patches.Polygon at 0x1cb42da6e48>,\n",
       " <matplotlib.patches.Polygon at 0x1cb42db9128>,\n",
       " <matplotlib.patches.Polygon at 0x1cb42db93c8>,\n",
       " <matplotlib.patches.Polygon at 0x1cb42db9668>,\n",
       " <matplotlib.patches.Polygon at 0x1cb42db9908>,\n",
       " <matplotlib.patches.Polygon at 0x1cb42db9ba8>,\n",
       " <matplotlib.patches.Polygon at 0x1cb42db9e48>,\n",
       " <matplotlib.patches.Polygon at 0x1cb42dca128>,\n",
       " <matplotlib.patches.Polygon at 0x1cb42dca3c8>,\n",
       " <matplotlib.patches.Polygon at 0x1cb42dca668>,\n",
       " <matplotlib.patches.Polygon at 0x1cb42dca908>,\n",
       " <matplotlib.patches.Polygon at 0x1cb42dcaba8>,\n",
       " <matplotlib.patches.Polygon at 0x1cb42dcae48>,\n",
       " <matplotlib.patches.Polygon at 0x1cb42fec128>,\n",
       " <matplotlib.patches.Polygon at 0x1cb42fec3c8>,\n",
       " <matplotlib.patches.Polygon at 0x1cb42fec668>,\n",
       " <matplotlib.patches.Polygon at 0x1cb42fec908>,\n",
       " <matplotlib.patches.Polygon at 0x1cb42fecba8>,\n",
       " <matplotlib.patches.Polygon at 0x1cb42fece48>,\n",
       " <matplotlib.patches.Polygon at 0x1cb42ff8128>,\n",
       " <matplotlib.patches.Polygon at 0x1cb42ff83c8>,\n",
       " <matplotlib.patches.Polygon at 0x1cb42ff86a0>,\n",
       " <matplotlib.patches.Polygon at 0x1cb42ff8908>,\n",
       " <matplotlib.patches.Polygon at 0x1cb42ff8ba8>,\n",
       " <matplotlib.patches.Polygon at 0x1cb42ff8e48>,\n",
       " <matplotlib.patches.Polygon at 0x1cb4300d128>,\n",
       " <matplotlib.patches.Polygon at 0x1cb4300d3c8>,\n",
       " <matplotlib.patches.Polygon at 0x1cb4300d668>,\n",
       " <matplotlib.patches.Polygon at 0x1cb4300d908>,\n",
       " <matplotlib.patches.Polygon at 0x1cb4300dba8>,\n",
       " <matplotlib.patches.Polygon at 0x1cb4300de48>,\n",
       " <matplotlib.patches.Polygon at 0x1cb4301b128>,\n",
       " <matplotlib.patches.Polygon at 0x1cb4301b3c8>,\n",
       " <matplotlib.patches.Polygon at 0x1cb4301b668>,\n",
       " <matplotlib.patches.Polygon at 0x1cb4301b908>,\n",
       " <matplotlib.patches.Polygon at 0x1cb4301bba8>,\n",
       " <matplotlib.patches.Polygon at 0x1cb4301be48>,\n",
       " <matplotlib.patches.Polygon at 0x1cb4312d128>,\n",
       " <matplotlib.patches.Polygon at 0x1cb4312d3c8>,\n",
       " <matplotlib.patches.Polygon at 0x1cb4312d6a0>,\n",
       " <matplotlib.patches.Polygon at 0x1cb4312d908>,\n",
       " <matplotlib.patches.Polygon at 0x1cb4312dba8>,\n",
       " <matplotlib.patches.Polygon at 0x1cb4312de48>,\n",
       " <matplotlib.patches.Polygon at 0x1cb4313b128>]"
      ]
     },
     "execution_count": 8,
     "metadata": {},
     "output_type": "execute_result"
    },
    {
     "data": {
      "text/plain": [
       "<matplotlib.collections.LineCollection at 0x1cb4313b240>"
      ]
     },
     "execution_count": 8,
     "metadata": {},
     "output_type": "execute_result"
    },
    {
     "data": {
      "text/plain": [
       "<matplotlib.collections.LineCollection at 0x1cb43175400>"
      ]
     },
     "execution_count": 8,
     "metadata": {},
     "output_type": "execute_result"
    },
    {
     "data": {
      "text/plain": [
       "[<matplotlib.lines.Line2D at 0x1cb43186f98>]"
      ]
     },
     "execution_count": 8,
     "metadata": {},
     "output_type": "execute_result"
    },
    {
     "data": {
      "text/plain": [
       "Text(0.5, 1.0, 'Filtered occurrences for Equus hemionus')"
      ]
     },
     "execution_count": 8,
     "metadata": {},
     "output_type": "execute_result"
    },
    {
     "data": {
      "text/plain": [
       "<matplotlib.patches.Rectangle at 0x1cb3f4409e8>"
      ]
     },
     "execution_count": 8,
     "metadata": {},
     "output_type": "execute_result"
    },
    {
     "data": {
      "text/plain": [
       "[<matplotlib.patches.Polygon at 0x1cb4641c048>,\n",
       " <matplotlib.patches.Polygon at 0x1cb4641c438>,\n",
       " <matplotlib.patches.Polygon at 0x1cb4641c6a0>,\n",
       " <matplotlib.patches.Polygon at 0x1cb4641c978>,\n",
       " <matplotlib.patches.Polygon at 0x1cb4641cbe0>,\n",
       " <matplotlib.patches.Polygon at 0x1cb4641ce80>,\n",
       " <matplotlib.patches.Polygon at 0x1cb3f9a0160>,\n",
       " <matplotlib.patches.Polygon at 0x1cb3f9a0400>,\n",
       " <matplotlib.patches.Polygon at 0x1cb3f9a06a0>,\n",
       " <matplotlib.patches.Polygon at 0x1cb3f9a0940>,\n",
       " <matplotlib.patches.Polygon at 0x1cb3f9a0be0>,\n",
       " <matplotlib.patches.Polygon at 0x1cb3f9a0e80>,\n",
       " <matplotlib.patches.Polygon at 0x1cb3f9c1160>,\n",
       " <matplotlib.patches.Polygon at 0x1cb3f9c1400>,\n",
       " <matplotlib.patches.Polygon at 0x1cb3f9c16a0>,\n",
       " <matplotlib.patches.Polygon at 0x1cb3f9c1940>,\n",
       " <matplotlib.patches.Polygon at 0x1cb3f9c1be0>,\n",
       " <matplotlib.patches.Polygon at 0x1cb3f9c1e80>,\n",
       " <matplotlib.patches.Polygon at 0x1cb3f9c5160>,\n",
       " <matplotlib.patches.Polygon at 0x1cb3f9c5400>,\n",
       " <matplotlib.patches.Polygon at 0x1cb3f9c56a0>,\n",
       " <matplotlib.patches.Polygon at 0x1cb3f9c5940>,\n",
       " <matplotlib.patches.Polygon at 0x1cb3f9c5be0>,\n",
       " <matplotlib.patches.Polygon at 0x1cb3f9c5e80>,\n",
       " <matplotlib.patches.Polygon at 0x1cb43168160>,\n",
       " <matplotlib.patches.Polygon at 0x1cb43168400>,\n",
       " <matplotlib.patches.Polygon at 0x1cb431686a0>,\n",
       " <matplotlib.patches.Polygon at 0x1cb43168940>,\n",
       " <matplotlib.patches.Polygon at 0x1cb43168be0>,\n",
       " <matplotlib.patches.Polygon at 0x1cb43168e80>,\n",
       " <matplotlib.patches.Polygon at 0x1cb4317d160>,\n",
       " <matplotlib.patches.Polygon at 0x1cb4317d400>,\n",
       " <matplotlib.patches.Polygon at 0x1cb4317d6a0>,\n",
       " <matplotlib.patches.Polygon at 0x1cb4317d940>,\n",
       " <matplotlib.patches.Polygon at 0x1cb4317dc18>,\n",
       " <matplotlib.patches.Polygon at 0x1cb4317de80>,\n",
       " <matplotlib.patches.Polygon at 0x1cb43195160>,\n",
       " <matplotlib.patches.Polygon at 0x1cb43195400>,\n",
       " <matplotlib.patches.Polygon at 0x1cb431956a0>,\n",
       " <matplotlib.patches.Polygon at 0x1cb43195940>,\n",
       " <matplotlib.patches.Polygon at 0x1cb43195be0>,\n",
       " <matplotlib.patches.Polygon at 0x1cb43195e80>,\n",
       " <matplotlib.patches.Polygon at 0x1cb440cb160>,\n",
       " <matplotlib.patches.Polygon at 0x1cb440cb400>,\n",
       " <matplotlib.patches.Polygon at 0x1cb440cb6a0>,\n",
       " <matplotlib.patches.Polygon at 0x1cb440cb940>,\n",
       " <matplotlib.patches.Polygon at 0x1cb440cbbe0>,\n",
       " <matplotlib.patches.Polygon at 0x1cb440cbe80>,\n",
       " <matplotlib.patches.Polygon at 0x1cb440e0160>,\n",
       " <matplotlib.patches.Polygon at 0x1cb440e0400>,\n",
       " <matplotlib.patches.Polygon at 0x1cb440e06a0>,\n",
       " <matplotlib.patches.Polygon at 0x1cb440e0940>,\n",
       " <matplotlib.patches.Polygon at 0x1cb440e0be0>,\n",
       " <matplotlib.patches.Polygon at 0x1cb440e0e80>,\n",
       " <matplotlib.patches.Polygon at 0x1cb440f3160>,\n",
       " <matplotlib.patches.Polygon at 0x1cb440f3400>,\n",
       " <matplotlib.patches.Polygon at 0x1cb440f36a0>,\n",
       " <matplotlib.patches.Polygon at 0x1cb440f3940>,\n",
       " <matplotlib.patches.Polygon at 0x1cb440f3be0>,\n",
       " <matplotlib.patches.Polygon at 0x1cb440f3e80>,\n",
       " <matplotlib.patches.Polygon at 0x1cb44188160>,\n",
       " <matplotlib.patches.Polygon at 0x1cb44188400>,\n",
       " <matplotlib.patches.Polygon at 0x1cb441886a0>,\n",
       " <matplotlib.patches.Polygon at 0x1cb44188940>,\n",
       " <matplotlib.patches.Polygon at 0x1cb44188be0>,\n",
       " <matplotlib.patches.Polygon at 0x1cb44188e80>,\n",
       " <matplotlib.patches.Polygon at 0x1cb4419e160>,\n",
       " <matplotlib.patches.Polygon at 0x1cb4419e400>,\n",
       " <matplotlib.patches.Polygon at 0x1cb4419e6a0>,\n",
       " <matplotlib.patches.Polygon at 0x1cb4419e940>,\n",
       " <matplotlib.patches.Polygon at 0x1cb4419ebe0>,\n",
       " <matplotlib.patches.Polygon at 0x1cb4419ee80>,\n",
       " <matplotlib.patches.Polygon at 0x1cb441b2160>,\n",
       " <matplotlib.patches.Polygon at 0x1cb441b2400>,\n",
       " <matplotlib.patches.Polygon at 0x1cb441b26a0>,\n",
       " <matplotlib.patches.Polygon at 0x1cb441b2940>,\n",
       " <matplotlib.patches.Polygon at 0x1cb441b2be0>,\n",
       " <matplotlib.patches.Polygon at 0x1cb441b2e80>,\n",
       " <matplotlib.patches.Polygon at 0x1cb42fe4160>,\n",
       " <matplotlib.patches.Polygon at 0x1cb42fe4400>,\n",
       " <matplotlib.patches.Polygon at 0x1cb42fe46a0>,\n",
       " <matplotlib.patches.Polygon at 0x1cb42fe4940>,\n",
       " <matplotlib.patches.Polygon at 0x1cb42fe4be0>,\n",
       " <matplotlib.patches.Polygon at 0x1cb42fe4e80>,\n",
       " <matplotlib.patches.Polygon at 0x1cb42ff9160>,\n",
       " <matplotlib.patches.Polygon at 0x1cb42ff9400>,\n",
       " <matplotlib.patches.Polygon at 0x1cb42ff96a0>,\n",
       " <matplotlib.patches.Polygon at 0x1cb42ff9940>,\n",
       " <matplotlib.patches.Polygon at 0x1cb42ff9be0>,\n",
       " <matplotlib.patches.Polygon at 0x1cb42ff9e80>,\n",
       " <matplotlib.patches.Polygon at 0x1cb43013160>,\n",
       " <matplotlib.patches.Polygon at 0x1cb43013400>,\n",
       " <matplotlib.patches.Polygon at 0x1cb430136a0>,\n",
       " <matplotlib.patches.Polygon at 0x1cb43013940>,\n",
       " <matplotlib.patches.Polygon at 0x1cb43013be0>,\n",
       " <matplotlib.patches.Polygon at 0x1cb43013e80>,\n",
       " <matplotlib.patches.Polygon at 0x1cb42e99160>]"
      ]
     },
     "execution_count": 8,
     "metadata": {},
     "output_type": "execute_result"
    },
    {
     "data": {
      "text/plain": [
       "<matplotlib.collections.LineCollection at 0x1cb42e99278>"
      ]
     },
     "execution_count": 8,
     "metadata": {},
     "output_type": "execute_result"
    },
    {
     "data": {
      "text/plain": [
       "<matplotlib.collections.LineCollection at 0x1cb42e99240>"
      ]
     },
     "execution_count": 8,
     "metadata": {},
     "output_type": "execute_result"
    },
    {
     "data": {
      "text/plain": [
       "[<matplotlib.lines.Line2D at 0x1cb42e95cf8>]"
      ]
     },
     "execution_count": 8,
     "metadata": {},
     "output_type": "execute_result"
    },
    {
     "data": {
      "text/plain": [
       "Text(0.5, 1.0, 'Filtered occurrences for Equus kiang')"
      ]
     },
     "execution_count": 8,
     "metadata": {},
     "output_type": "execute_result"
    },
    {
     "data": {
      "text/plain": [
       "<matplotlib.patches.Rectangle at 0x1cb42f3db70>"
      ]
     },
     "execution_count": 8,
     "metadata": {},
     "output_type": "execute_result"
    },
    {
     "data": {
      "text/plain": [
       "[<matplotlib.patches.Polygon at 0x1cb430e11d0>,\n",
       " <matplotlib.patches.Polygon at 0x1cb430e15f8>,\n",
       " <matplotlib.patches.Polygon at 0x1cb430e18d0>,\n",
       " <matplotlib.patches.Polygon at 0x1cb430e1b70>,\n",
       " <matplotlib.patches.Polygon at 0x1cb430e1e10>,\n",
       " <matplotlib.patches.Polygon at 0x1cb42f430f0>,\n",
       " <matplotlib.patches.Polygon at 0x1cb42f43390>,\n",
       " <matplotlib.patches.Polygon at 0x1cb42f43630>,\n",
       " <matplotlib.patches.Polygon at 0x1cb42f438d0>,\n",
       " <matplotlib.patches.Polygon at 0x1cb42f43b70>,\n",
       " <matplotlib.patches.Polygon at 0x1cb42f43e10>,\n",
       " <matplotlib.patches.Polygon at 0x1cb4310d0f0>,\n",
       " <matplotlib.patches.Polygon at 0x1cb4310d390>,\n",
       " <matplotlib.patches.Polygon at 0x1cb4310d630>,\n",
       " <matplotlib.patches.Polygon at 0x1cb4310d8d0>,\n",
       " <matplotlib.patches.Polygon at 0x1cb4310db70>,\n",
       " <matplotlib.patches.Polygon at 0x1cb4310de10>,\n",
       " <matplotlib.patches.Polygon at 0x1cb3f9a70f0>,\n",
       " <matplotlib.patches.Polygon at 0x1cb3f9a7390>,\n",
       " <matplotlib.patches.Polygon at 0x1cb3f9a7630>,\n",
       " <matplotlib.patches.Polygon at 0x1cb3f9a78d0>,\n",
       " <matplotlib.patches.Polygon at 0x1cb3f9a7b70>,\n",
       " <matplotlib.patches.Polygon at 0x1cb3f9a7e10>,\n",
       " <matplotlib.patches.Polygon at 0x1cb3f9bb0f0>,\n",
       " <matplotlib.patches.Polygon at 0x1cb3f9bb3c8>,\n",
       " <matplotlib.patches.Polygon at 0x1cb3f9bb630>,\n",
       " <matplotlib.patches.Polygon at 0x1cb3f9bb8d0>,\n",
       " <matplotlib.patches.Polygon at 0x1cb3f9bbb70>,\n",
       " <matplotlib.patches.Polygon at 0x1cb3f9bbe10>,\n",
       " <matplotlib.patches.Polygon at 0x1cb424da0f0>,\n",
       " <matplotlib.patches.Polygon at 0x1cb424da390>,\n",
       " <matplotlib.patches.Polygon at 0x1cb424da630>,\n",
       " <matplotlib.patches.Polygon at 0x1cb424da8d0>,\n",
       " <matplotlib.patches.Polygon at 0x1cb424dab70>,\n",
       " <matplotlib.patches.Polygon at 0x1cb424dae10>,\n",
       " <matplotlib.patches.Polygon at 0x1cb424db0f0>,\n",
       " <matplotlib.patches.Polygon at 0x1cb424db3c8>,\n",
       " <matplotlib.patches.Polygon at 0x1cb424db668>,\n",
       " <matplotlib.patches.Polygon at 0x1cb424db8d0>,\n",
       " <matplotlib.patches.Polygon at 0x1cb424dbb70>,\n",
       " <matplotlib.patches.Polygon at 0x1cb424dbe48>,\n",
       " <matplotlib.patches.Polygon at 0x1cb4414a0f0>]"
      ]
     },
     "execution_count": 8,
     "metadata": {},
     "output_type": "execute_result"
    },
    {
     "data": {
      "text/plain": [
       "<matplotlib.collections.LineCollection at 0x1cb4414a240>"
      ]
     },
     "execution_count": 8,
     "metadata": {},
     "output_type": "execute_result"
    },
    {
     "data": {
      "text/plain": [
       "<matplotlib.collections.LineCollection at 0x1cb4415cc50>"
      ]
     },
     "execution_count": 8,
     "metadata": {},
     "output_type": "execute_result"
    },
    {
     "data": {
      "text/plain": [
       "[<matplotlib.lines.Line2D at 0x1cb4415cb70>]"
      ]
     },
     "execution_count": 8,
     "metadata": {},
     "output_type": "execute_result"
    },
    {
     "data": {
      "text/plain": [
       "Text(0.5, 1.0, 'Filtered occurrences for Equus quagga')"
      ]
     },
     "execution_count": 8,
     "metadata": {},
     "output_type": "execute_result"
    },
    {
     "data": {
      "text/plain": [
       "<matplotlib.patches.Rectangle at 0x1cb455c4470>"
      ]
     },
     "execution_count": 8,
     "metadata": {},
     "output_type": "execute_result"
    },
    {
     "data": {
      "text/plain": [
       "[<matplotlib.patches.Polygon at 0x1cb44145c88>,\n",
       " <matplotlib.patches.Polygon at 0x1cb44145f98>,\n",
       " <matplotlib.patches.Polygon at 0x1cb4415e390>,\n",
       " <matplotlib.patches.Polygon at 0x1cb4415e630>,\n",
       " <matplotlib.patches.Polygon at 0x1cb4415e8d0>,\n",
       " <matplotlib.patches.Polygon at 0x1cb4415eb70>,\n",
       " <matplotlib.patches.Polygon at 0x1cb4415ee10>,\n",
       " <matplotlib.patches.Polygon at 0x1cb430e90f0>,\n",
       " <matplotlib.patches.Polygon at 0x1cb430e9390>,\n",
       " <matplotlib.patches.Polygon at 0x1cb430e9630>,\n",
       " <matplotlib.patches.Polygon at 0x1cb430e98d0>,\n",
       " <matplotlib.patches.Polygon at 0x1cb430e9b70>,\n",
       " <matplotlib.patches.Polygon at 0x1cb430e9e10>,\n",
       " <matplotlib.patches.Polygon at 0x1cb430fb0f0>,\n",
       " <matplotlib.patches.Polygon at 0x1cb430fb390>,\n",
       " <matplotlib.patches.Polygon at 0x1cb430fb630>,\n",
       " <matplotlib.patches.Polygon at 0x1cb430fb8d0>,\n",
       " <matplotlib.patches.Polygon at 0x1cb430fbb70>,\n",
       " <matplotlib.patches.Polygon at 0x1cb430fbe10>,\n",
       " <matplotlib.patches.Polygon at 0x1cb431550f0>,\n",
       " <matplotlib.patches.Polygon at 0x1cb43155390>,\n",
       " <matplotlib.patches.Polygon at 0x1cb43155668>,\n",
       " <matplotlib.patches.Polygon at 0x1cb431558d0>,\n",
       " <matplotlib.patches.Polygon at 0x1cb43155b70>,\n",
       " <matplotlib.patches.Polygon at 0x1cb43155e10>,\n",
       " <matplotlib.patches.Polygon at 0x1cb431450f0>,\n",
       " <matplotlib.patches.Polygon at 0x1cb43145390>,\n",
       " <matplotlib.patches.Polygon at 0x1cb43145630>]"
      ]
     },
     "execution_count": 8,
     "metadata": {},
     "output_type": "execute_result"
    },
    {
     "data": {
      "text/plain": [
       "<matplotlib.collections.LineCollection at 0x1cb431459e8>"
      ]
     },
     "execution_count": 8,
     "metadata": {},
     "output_type": "execute_result"
    },
    {
     "data": {
      "text/plain": [
       "<matplotlib.collections.LineCollection at 0x1cb43145a58>"
      ]
     },
     "execution_count": 8,
     "metadata": {},
     "output_type": "execute_result"
    },
    {
     "data": {
      "text/plain": [
       "[<matplotlib.lines.Line2D at 0x1cb455d8b38>]"
      ]
     },
     "execution_count": 8,
     "metadata": {},
     "output_type": "execute_result"
    },
    {
     "data": {
      "text/plain": [
       "Text(0.5, 1.0, 'Filtered occurrences for Equus zebra')"
      ]
     },
     "execution_count": 8,
     "metadata": {},
     "output_type": "execute_result"
    },
    {
     "data": {
      "text/plain": [
       "<matplotlib.patches.Rectangle at 0x1cb42f4e4a8>"
      ]
     },
     "execution_count": 8,
     "metadata": {},
     "output_type": "execute_result"
    },
    {
     "data": {
      "text/plain": [
       "[<matplotlib.patches.Polygon at 0x1cb42d5ab70>,\n",
       " <matplotlib.patches.Polygon at 0x1cb42d5ae80>,\n",
       " <matplotlib.patches.Polygon at 0x1cb455b0160>,\n",
       " <matplotlib.patches.Polygon at 0x1cb455b0400>,\n",
       " <matplotlib.patches.Polygon at 0x1cb455b06a0>,\n",
       " <matplotlib.patches.Polygon at 0x1cb455b0940>,\n",
       " <matplotlib.patches.Polygon at 0x1cb455b0be0>,\n",
       " <matplotlib.patches.Polygon at 0x1cb455b0e80>,\n",
       " <matplotlib.patches.Polygon at 0x1cb44097160>,\n",
       " <matplotlib.patches.Polygon at 0x1cb44097400>,\n",
       " <matplotlib.patches.Polygon at 0x1cb440976a0>,\n",
       " <matplotlib.patches.Polygon at 0x1cb44097940>,\n",
       " <matplotlib.patches.Polygon at 0x1cb44097be0>,\n",
       " <matplotlib.patches.Polygon at 0x1cb44097e80>,\n",
       " <matplotlib.patches.Polygon at 0x1cb455b7160>,\n",
       " <matplotlib.patches.Polygon at 0x1cb455b7400>,\n",
       " <matplotlib.patches.Polygon at 0x1cb455b76a0>,\n",
       " <matplotlib.patches.Polygon at 0x1cb455b7978>,\n",
       " <matplotlib.patches.Polygon at 0x1cb455b7be0>,\n",
       " <matplotlib.patches.Polygon at 0x1cb455b7e80>,\n",
       " <matplotlib.patches.Polygon at 0x1cb45553160>,\n",
       " <matplotlib.patches.Polygon at 0x1cb45553400>,\n",
       " <matplotlib.patches.Polygon at 0x1cb455536a0>,\n",
       " <matplotlib.patches.Polygon at 0x1cb45553940>,\n",
       " <matplotlib.patches.Polygon at 0x1cb45553be0>,\n",
       " <matplotlib.patches.Polygon at 0x1cb45553e80>,\n",
       " <matplotlib.patches.Polygon at 0x1cb4555b160>,\n",
       " <matplotlib.patches.Polygon at 0x1cb4555b400>,\n",
       " <matplotlib.patches.Polygon at 0x1cb4555b6a0>,\n",
       " <matplotlib.patches.Polygon at 0x1cb4555b940>,\n",
       " <matplotlib.patches.Polygon at 0x1cb4555bbe0>,\n",
       " <matplotlib.patches.Polygon at 0x1cb4555be80>,\n",
       " <matplotlib.patches.Polygon at 0x1cb4642c160>,\n",
       " <matplotlib.patches.Polygon at 0x1cb4642c400>,\n",
       " <matplotlib.patches.Polygon at 0x1cb4642c6a0>,\n",
       " <matplotlib.patches.Polygon at 0x1cb4642c940>,\n",
       " <matplotlib.patches.Polygon at 0x1cb4642cc18>,\n",
       " <matplotlib.patches.Polygon at 0x1cb4642ce80>,\n",
       " <matplotlib.patches.Polygon at 0x1cb4642a160>,\n",
       " <matplotlib.patches.Polygon at 0x1cb4642a400>,\n",
       " <matplotlib.patches.Polygon at 0x1cb4642a6a0>,\n",
       " <matplotlib.patches.Polygon at 0x1cb4642a940>,\n",
       " <matplotlib.patches.Polygon at 0x1cb4642abe0>,\n",
       " <matplotlib.patches.Polygon at 0x1cb4642ae80>,\n",
       " <matplotlib.patches.Polygon at 0x1cb42eb7160>,\n",
       " <matplotlib.patches.Polygon at 0x1cb42eb7400>,\n",
       " <matplotlib.patches.Polygon at 0x1cb42eb76a0>,\n",
       " <matplotlib.patches.Polygon at 0x1cb42eb7940>,\n",
       " <matplotlib.patches.Polygon at 0x1cb42eb7be0>,\n",
       " <matplotlib.patches.Polygon at 0x1cb42eb7e80>,\n",
       " <matplotlib.patches.Polygon at 0x1cb42ecc160>,\n",
       " <matplotlib.patches.Polygon at 0x1cb42ecc400>,\n",
       " <matplotlib.patches.Polygon at 0x1cb42ecc6a0>,\n",
       " <matplotlib.patches.Polygon at 0x1cb42ecc978>,\n",
       " <matplotlib.patches.Polygon at 0x1cb42eccbe0>,\n",
       " <matplotlib.patches.Polygon at 0x1cb42ecceb8>,\n",
       " <matplotlib.patches.Polygon at 0x1cb42edf160>,\n",
       " <matplotlib.patches.Polygon at 0x1cb42edf400>,\n",
       " <matplotlib.patches.Polygon at 0x1cb42edf6d8>,\n",
       " <matplotlib.patches.Polygon at 0x1cb42edf978>,\n",
       " <matplotlib.patches.Polygon at 0x1cb42edfbe0>,\n",
       " <matplotlib.patches.Polygon at 0x1cb42edfe80>]"
      ]
     },
     "execution_count": 8,
     "metadata": {},
     "output_type": "execute_result"
    },
    {
     "data": {
      "text/plain": [
       "<matplotlib.collections.LineCollection at 0x1cb42edffd0>"
      ]
     },
     "execution_count": 8,
     "metadata": {},
     "output_type": "execute_result"
    },
    {
     "data": {
      "text/plain": [
       "<matplotlib.collections.LineCollection at 0x1cb455f7710>"
      ]
     },
     "execution_count": 8,
     "metadata": {},
     "output_type": "execute_result"
    },
    {
     "data": {
      "text/plain": [
       "[<matplotlib.lines.Line2D at 0x1cb4565def0>]"
      ]
     },
     "execution_count": 8,
     "metadata": {},
     "output_type": "execute_result"
    },
    {
     "data": {
      "text/plain": [
       "Text(0.5, 1.0, 'Filtered occurrences for Eudorcas rufifrons')"
      ]
     },
     "execution_count": 8,
     "metadata": {},
     "output_type": "execute_result"
    },
    {
     "data": {
      "text/plain": [
       "<matplotlib.patches.Rectangle at 0x1cb424d3048>"
      ]
     },
     "execution_count": 8,
     "metadata": {},
     "output_type": "execute_result"
    },
    {
     "data": {
      "text/plain": [
       "[<matplotlib.patches.Polygon at 0x1cb424cb630>,\n",
       " <matplotlib.patches.Polygon at 0x1cb424cb780>,\n",
       " <matplotlib.patches.Polygon at 0x1cb424cbcf8>,\n",
       " <matplotlib.patches.Polygon at 0x1cb424cbf98>,\n",
       " <matplotlib.patches.Polygon at 0x1cb424e9278>,\n",
       " <matplotlib.patches.Polygon at 0x1cb424e9518>,\n",
       " <matplotlib.patches.Polygon at 0x1cb424e97b8>,\n",
       " <matplotlib.patches.Polygon at 0x1cb424e9a58>,\n",
       " <matplotlib.patches.Polygon at 0x1cb424e9cf8>,\n",
       " <matplotlib.patches.Polygon at 0x1cb424e9f98>,\n",
       " <matplotlib.patches.Polygon at 0x1cb454b2278>,\n",
       " <matplotlib.patches.Polygon at 0x1cb454b2518>,\n",
       " <matplotlib.patches.Polygon at 0x1cb454b27b8>,\n",
       " <matplotlib.patches.Polygon at 0x1cb454b2a58>,\n",
       " <matplotlib.patches.Polygon at 0x1cb454b2cf8>,\n",
       " <matplotlib.patches.Polygon at 0x1cb454b2f98>,\n",
       " <matplotlib.patches.Polygon at 0x1cb454c9278>,\n",
       " <matplotlib.patches.Polygon at 0x1cb454c9518>,\n",
       " <matplotlib.patches.Polygon at 0x1cb454c97b8>,\n",
       " <matplotlib.patches.Polygon at 0x1cb454c9a58>,\n",
       " <matplotlib.patches.Polygon at 0x1cb454c9cf8>,\n",
       " <matplotlib.patches.Polygon at 0x1cb454c9f98>,\n",
       " <matplotlib.patches.Polygon at 0x1cb454dd278>,\n",
       " <matplotlib.patches.Polygon at 0x1cb454dd518>,\n",
       " <matplotlib.patches.Polygon at 0x1cb454dd7f0>,\n",
       " <matplotlib.patches.Polygon at 0x1cb454dda58>,\n",
       " <matplotlib.patches.Polygon at 0x1cb454ddcf8>,\n",
       " <matplotlib.patches.Polygon at 0x1cb454ddf98>,\n",
       " <matplotlib.patches.Polygon at 0x1cb45620278>,\n",
       " <matplotlib.patches.Polygon at 0x1cb45620518>,\n",
       " <matplotlib.patches.Polygon at 0x1cb456207b8>,\n",
       " <matplotlib.patches.Polygon at 0x1cb45620a58>,\n",
       " <matplotlib.patches.Polygon at 0x1cb45620cf8>,\n",
       " <matplotlib.patches.Polygon at 0x1cb45620f98>,\n",
       " <matplotlib.patches.Polygon at 0x1cb45650278>,\n",
       " <matplotlib.patches.Polygon at 0x1cb45650518>,\n",
       " <matplotlib.patches.Polygon at 0x1cb456507b8>,\n",
       " <matplotlib.patches.Polygon at 0x1cb45650a90>,\n",
       " <matplotlib.patches.Polygon at 0x1cb45650cf8>,\n",
       " <matplotlib.patches.Polygon at 0x1cb45650f98>]"
      ]
     },
     "execution_count": 8,
     "metadata": {},
     "output_type": "execute_result"
    },
    {
     "data": {
      "text/plain": [
       "<matplotlib.collections.LineCollection at 0x1cb424cba58>"
      ]
     },
     "execution_count": 8,
     "metadata": {},
     "output_type": "execute_result"
    },
    {
     "data": {
      "text/plain": [
       "<matplotlib.collections.LineCollection at 0x1cb3fb18eb8>"
      ]
     },
     "execution_count": 8,
     "metadata": {},
     "output_type": "execute_result"
    },
    {
     "data": {
      "text/plain": [
       "[<matplotlib.lines.Line2D at 0x1cb3fb18f28>]"
      ]
     },
     "execution_count": 8,
     "metadata": {},
     "output_type": "execute_result"
    },
    {
     "data": {
      "text/plain": [
       "Text(0.5, 1.0, 'Filtered occurrences for Eudorcas thomsonii')"
      ]
     },
     "execution_count": 8,
     "metadata": {},
     "output_type": "execute_result"
    },
    {
     "data": {
      "text/plain": [
       "<matplotlib.patches.Rectangle at 0x1cb454adf28>"
      ]
     },
     "execution_count": 8,
     "metadata": {},
     "output_type": "execute_result"
    },
    {
     "data": {
      "text/plain": [
       "[<matplotlib.patches.Polygon at 0x1cb3fb496a0>,\n",
       " <matplotlib.patches.Polygon at 0x1cb3fb49978>,\n",
       " <matplotlib.patches.Polygon at 0x1cb3fb49c18>,\n",
       " <matplotlib.patches.Polygon at 0x1cb3fb49eb8>,\n",
       " <matplotlib.patches.Polygon at 0x1cb3fb24198>,\n",
       " <matplotlib.patches.Polygon at 0x1cb3fb24438>,\n",
       " <matplotlib.patches.Polygon at 0x1cb3fb246d8>,\n",
       " <matplotlib.patches.Polygon at 0x1cb3fb24978>,\n",
       " <matplotlib.patches.Polygon at 0x1cb3fb24c18>,\n",
       " <matplotlib.patches.Polygon at 0x1cb3fb24eb8>,\n",
       " <matplotlib.patches.Polygon at 0x1cb3fb2d198>,\n",
       " <matplotlib.patches.Polygon at 0x1cb3fb2d438>,\n",
       " <matplotlib.patches.Polygon at 0x1cb3fb2d6d8>,\n",
       " <matplotlib.patches.Polygon at 0x1cb3fb2d978>,\n",
       " <matplotlib.patches.Polygon at 0x1cb3fb2dc18>,\n",
       " <matplotlib.patches.Polygon at 0x1cb3fb2deb8>,\n",
       " <matplotlib.patches.Polygon at 0x1cb467aa198>,\n",
       " <matplotlib.patches.Polygon at 0x1cb467aa438>,\n",
       " <matplotlib.patches.Polygon at 0x1cb467aa6d8>,\n",
       " <matplotlib.patches.Polygon at 0x1cb467aa978>,\n",
       " <matplotlib.patches.Polygon at 0x1cb467aac18>,\n",
       " <matplotlib.patches.Polygon at 0x1cb467aaeb8>,\n",
       " <matplotlib.patches.Polygon at 0x1cb46780198>,\n",
       " <matplotlib.patches.Polygon at 0x1cb46780438>,\n",
       " <matplotlib.patches.Polygon at 0x1cb467806d8>,\n",
       " <matplotlib.patches.Polygon at 0x1cb46780978>,\n",
       " <matplotlib.patches.Polygon at 0x1cb46780c18>,\n",
       " <matplotlib.patches.Polygon at 0x1cb46780eb8>,\n",
       " <matplotlib.patches.Polygon at 0x1cb46833198>,\n",
       " <matplotlib.patches.Polygon at 0x1cb46833438>,\n",
       " <matplotlib.patches.Polygon at 0x1cb468336d8>,\n",
       " <matplotlib.patches.Polygon at 0x1cb46833978>,\n",
       " <matplotlib.patches.Polygon at 0x1cb46833c18>,\n",
       " <matplotlib.patches.Polygon at 0x1cb46833eb8>,\n",
       " <matplotlib.patches.Polygon at 0x1cb46842198>,\n",
       " <matplotlib.patches.Polygon at 0x1cb46842438>,\n",
       " <matplotlib.patches.Polygon at 0x1cb468426d8>,\n",
       " <matplotlib.patches.Polygon at 0x1cb46842978>,\n",
       " <matplotlib.patches.Polygon at 0x1cb46842c18>,\n",
       " <matplotlib.patches.Polygon at 0x1cb46842eb8>,\n",
       " <matplotlib.patches.Polygon at 0x1cb46853198>,\n",
       " <matplotlib.patches.Polygon at 0x1cb46853438>,\n",
       " <matplotlib.patches.Polygon at 0x1cb468536d8>,\n",
       " <matplotlib.patches.Polygon at 0x1cb46853978>,\n",
       " <matplotlib.patches.Polygon at 0x1cb46853c18>,\n",
       " <matplotlib.patches.Polygon at 0x1cb46853eb8>,\n",
       " <matplotlib.patches.Polygon at 0x1cb45535198>,\n",
       " <matplotlib.patches.Polygon at 0x1cb45535438>,\n",
       " <matplotlib.patches.Polygon at 0x1cb455356d8>,\n",
       " <matplotlib.patches.Polygon at 0x1cb45535978>,\n",
       " <matplotlib.patches.Polygon at 0x1cb45535c18>,\n",
       " <matplotlib.patches.Polygon at 0x1cb45535eb8>,\n",
       " <matplotlib.patches.Polygon at 0x1cb4552d198>,\n",
       " <matplotlib.patches.Polygon at 0x1cb4552d438>,\n",
       " <matplotlib.patches.Polygon at 0x1cb4552d6d8>,\n",
       " <matplotlib.patches.Polygon at 0x1cb4552d978>,\n",
       " <matplotlib.patches.Polygon at 0x1cb4552dc18>,\n",
       " <matplotlib.patches.Polygon at 0x1cb4552deb8>,\n",
       " <matplotlib.patches.Polygon at 0x1cb4553f198>,\n",
       " <matplotlib.patches.Polygon at 0x1cb4553f438>,\n",
       " <matplotlib.patches.Polygon at 0x1cb4553f6d8>,\n",
       " <matplotlib.patches.Polygon at 0x1cb4553f978>,\n",
       " <matplotlib.patches.Polygon at 0x1cb4553fc18>,\n",
       " <matplotlib.patches.Polygon at 0x1cb4553feb8>,\n",
       " <matplotlib.patches.Polygon at 0x1cb44082198>,\n",
       " <matplotlib.patches.Polygon at 0x1cb44082438>,\n",
       " <matplotlib.patches.Polygon at 0x1cb440826d8>,\n",
       " <matplotlib.patches.Polygon at 0x1cb44082978>,\n",
       " <matplotlib.patches.Polygon at 0x1cb44082c18>,\n",
       " <matplotlib.patches.Polygon at 0x1cb44082eb8>,\n",
       " <matplotlib.patches.Polygon at 0x1cb440b3198>,\n",
       " <matplotlib.patches.Polygon at 0x1cb440b3438>,\n",
       " <matplotlib.patches.Polygon at 0x1cb440b36d8>,\n",
       " <matplotlib.patches.Polygon at 0x1cb440b3978>,\n",
       " <matplotlib.patches.Polygon at 0x1cb440b3c18>,\n",
       " <matplotlib.patches.Polygon at 0x1cb440b3eb8>,\n",
       " <matplotlib.patches.Polygon at 0x1cb44093198>]"
      ]
     },
     "execution_count": 8,
     "metadata": {},
     "output_type": "execute_result"
    },
    {
     "data": {
      "text/plain": [
       "<matplotlib.collections.LineCollection at 0x1cb440932b0>"
      ]
     },
     "execution_count": 8,
     "metadata": {},
     "output_type": "execute_result"
    },
    {
     "data": {
      "text/plain": [
       "<matplotlib.collections.LineCollection at 0x1cb44093278>"
      ]
     },
     "execution_count": 8,
     "metadata": {},
     "output_type": "execute_result"
    },
    {
     "data": {
      "text/plain": [
       "[<matplotlib.lines.Line2D at 0x1cb4633b2e8>]"
      ]
     },
     "execution_count": 8,
     "metadata": {},
     "output_type": "execute_result"
    },
    {
     "data": {
      "text/plain": [
       "Text(0.5, 1.0, 'Filtered occurrences for Gazella bennettii')"
      ]
     },
     "execution_count": 8,
     "metadata": {},
     "output_type": "execute_result"
    },
    {
     "data": {
      "text/plain": [
       "<matplotlib.patches.Rectangle at 0x1cb45525208>"
      ]
     },
     "execution_count": 8,
     "metadata": {},
     "output_type": "execute_result"
    },
    {
     "data": {
      "text/plain": [
       "[<matplotlib.patches.Polygon at 0x1cb45540828>,\n",
       " <matplotlib.patches.Polygon at 0x1cb45540be0>,\n",
       " <matplotlib.patches.Polygon at 0x1cb45540e80>,\n",
       " <matplotlib.patches.Polygon at 0x1cb440bf160>,\n",
       " <matplotlib.patches.Polygon at 0x1cb440bf400>,\n",
       " <matplotlib.patches.Polygon at 0x1cb440bf6a0>,\n",
       " <matplotlib.patches.Polygon at 0x1cb440bf940>,\n",
       " <matplotlib.patches.Polygon at 0x1cb440bfbe0>,\n",
       " <matplotlib.patches.Polygon at 0x1cb440bfe80>,\n",
       " <matplotlib.patches.Polygon at 0x1cb44080160>,\n",
       " <matplotlib.patches.Polygon at 0x1cb44080400>,\n",
       " <matplotlib.patches.Polygon at 0x1cb440806a0>,\n",
       " <matplotlib.patches.Polygon at 0x1cb44080940>,\n",
       " <matplotlib.patches.Polygon at 0x1cb44080be0>,\n",
       " <matplotlib.patches.Polygon at 0x1cb44080e80>,\n",
       " <matplotlib.patches.Polygon at 0x1cb440a8160>,\n",
       " <matplotlib.patches.Polygon at 0x1cb440a8400>,\n",
       " <matplotlib.patches.Polygon at 0x1cb440a86a0>,\n",
       " <matplotlib.patches.Polygon at 0x1cb440a8940>,\n",
       " <matplotlib.patches.Polygon at 0x1cb440a8be0>,\n",
       " <matplotlib.patches.Polygon at 0x1cb440a8e80>,\n",
       " <matplotlib.patches.Polygon at 0x1cb467bd160>,\n",
       " <matplotlib.patches.Polygon at 0x1cb467bd400>,\n",
       " <matplotlib.patches.Polygon at 0x1cb467bd6a0>,\n",
       " <matplotlib.patches.Polygon at 0x1cb467bd940>,\n",
       " <matplotlib.patches.Polygon at 0x1cb467bdc18>,\n",
       " <matplotlib.patches.Polygon at 0x1cb467bde80>,\n",
       " <matplotlib.patches.Polygon at 0x1cb467d0160>,\n",
       " <matplotlib.patches.Polygon at 0x1cb467d0400>,\n",
       " <matplotlib.patches.Polygon at 0x1cb467d06a0>,\n",
       " <matplotlib.patches.Polygon at 0x1cb467d0940>,\n",
       " <matplotlib.patches.Polygon at 0x1cb467d0be0>,\n",
       " <matplotlib.patches.Polygon at 0x1cb467d0e80>,\n",
       " <matplotlib.patches.Polygon at 0x1cb467e5160>,\n",
       " <matplotlib.patches.Polygon at 0x1cb467e5400>,\n",
       " <matplotlib.patches.Polygon at 0x1cb467e56a0>,\n",
       " <matplotlib.patches.Polygon at 0x1cb467e5940>,\n",
       " <matplotlib.patches.Polygon at 0x1cb467e5be0>,\n",
       " <matplotlib.patches.Polygon at 0x1cb467e5e80>,\n",
       " <matplotlib.patches.Polygon at 0x1cb467fa160>,\n",
       " <matplotlib.patches.Polygon at 0x1cb467fa400>,\n",
       " <matplotlib.patches.Polygon at 0x1cb467fa6a0>,\n",
       " <matplotlib.patches.Polygon at 0x1cb467fa940>,\n",
       " <matplotlib.patches.Polygon at 0x1cb467fabe0>,\n",
       " <matplotlib.patches.Polygon at 0x1cb467fae80>,\n",
       " <matplotlib.patches.Polygon at 0x1cb4680f160>,\n",
       " <matplotlib.patches.Polygon at 0x1cb4680f400>,\n",
       " <matplotlib.patches.Polygon at 0x1cb4680f6a0>,\n",
       " <matplotlib.patches.Polygon at 0x1cb4680f940>,\n",
       " <matplotlib.patches.Polygon at 0x1cb4680fbe0>,\n",
       " <matplotlib.patches.Polygon at 0x1cb4680fe80>,\n",
       " <matplotlib.patches.Polygon at 0x1cb46826160>,\n",
       " <matplotlib.patches.Polygon at 0x1cb46826400>,\n",
       " <matplotlib.patches.Polygon at 0x1cb468266a0>,\n",
       " <matplotlib.patches.Polygon at 0x1cb46826940>,\n",
       " <matplotlib.patches.Polygon at 0x1cb46826be0>,\n",
       " <matplotlib.patches.Polygon at 0x1cb46826e80>,\n",
       " <matplotlib.patches.Polygon at 0x1cb47b1f160>,\n",
       " <matplotlib.patches.Polygon at 0x1cb47b1f400>,\n",
       " <matplotlib.patches.Polygon at 0x1cb47b1f6a0>,\n",
       " <matplotlib.patches.Polygon at 0x1cb47b1f940>,\n",
       " <matplotlib.patches.Polygon at 0x1cb47b1fbe0>,\n",
       " <matplotlib.patches.Polygon at 0x1cb47b1fe80>,\n",
       " <matplotlib.patches.Polygon at 0x1cb47b31160>,\n",
       " <matplotlib.patches.Polygon at 0x1cb47b31400>,\n",
       " <matplotlib.patches.Polygon at 0x1cb47b316a0>,\n",
       " <matplotlib.patches.Polygon at 0x1cb47b31940>,\n",
       " <matplotlib.patches.Polygon at 0x1cb47b31be0>,\n",
       " <matplotlib.patches.Polygon at 0x1cb47b31e80>,\n",
       " <matplotlib.patches.Polygon at 0x1cb47b42160>,\n",
       " <matplotlib.patches.Polygon at 0x1cb47b42400>,\n",
       " <matplotlib.patches.Polygon at 0x1cb47b426a0>,\n",
       " <matplotlib.patches.Polygon at 0x1cb47b42940>,\n",
       " <matplotlib.patches.Polygon at 0x1cb47b42be0>,\n",
       " <matplotlib.patches.Polygon at 0x1cb47b42e80>,\n",
       " <matplotlib.patches.Polygon at 0x1cb47b4e160>,\n",
       " <matplotlib.patches.Polygon at 0x1cb47b4e400>,\n",
       " <matplotlib.patches.Polygon at 0x1cb47b4e6a0>,\n",
       " <matplotlib.patches.Polygon at 0x1cb47b4e940>,\n",
       " <matplotlib.patches.Polygon at 0x1cb47b4ebe0>,\n",
       " <matplotlib.patches.Polygon at 0x1cb47b4ee80>,\n",
       " <matplotlib.patches.Polygon at 0x1cb463bb160>,\n",
       " <matplotlib.patches.Polygon at 0x1cb463bb400>,\n",
       " <matplotlib.patches.Polygon at 0x1cb463bb6a0>,\n",
       " <matplotlib.patches.Polygon at 0x1cb463bb940>,\n",
       " <matplotlib.patches.Polygon at 0x1cb463bbbe0>,\n",
       " <matplotlib.patches.Polygon at 0x1cb463bbe80>,\n",
       " <matplotlib.patches.Polygon at 0x1cb463cb160>,\n",
       " <matplotlib.patches.Polygon at 0x1cb463cb438>,\n",
       " <matplotlib.patches.Polygon at 0x1cb463cb6a0>,\n",
       " <matplotlib.patches.Polygon at 0x1cb463cb940>,\n",
       " <matplotlib.patches.Polygon at 0x1cb463cbbe0>,\n",
       " <matplotlib.patches.Polygon at 0x1cb463cbe80>,\n",
       " <matplotlib.patches.Polygon at 0x1cb463da160>,\n",
       " <matplotlib.patches.Polygon at 0x1cb463da400>,\n",
       " <matplotlib.patches.Polygon at 0x1cb463da6d8>,\n",
       " <matplotlib.patches.Polygon at 0x1cb463da940>,\n",
       " <matplotlib.patches.Polygon at 0x1cb463dabe0>]"
      ]
     },
     "execution_count": 8,
     "metadata": {},
     "output_type": "execute_result"
    },
    {
     "data": {
      "text/plain": [
       "<matplotlib.collections.LineCollection at 0x1cb463dad68>"
      ]
     },
     "execution_count": 8,
     "metadata": {},
     "output_type": "execute_result"
    },
    {
     "data": {
      "text/plain": [
       "<matplotlib.collections.LineCollection at 0x1cb45540ac8>"
      ]
     },
     "execution_count": 8,
     "metadata": {},
     "output_type": "execute_result"
    },
    {
     "data": {
      "text/plain": [
       "[<matplotlib.lines.Line2D at 0x1cb46917b70>]"
      ]
     },
     "execution_count": 8,
     "metadata": {},
     "output_type": "execute_result"
    },
    {
     "data": {
      "text/plain": [
       "Text(0.5, 1.0, 'Filtered occurrences for Gazella dorcas')"
      ]
     },
     "execution_count": 8,
     "metadata": {},
     "output_type": "execute_result"
    },
    {
     "data": {
      "text/plain": [
       "<matplotlib.patches.Rectangle at 0x1cb468d9828>"
      ]
     },
     "execution_count": 8,
     "metadata": {},
     "output_type": "execute_result"
    },
    {
     "data": {
      "text/plain": [
       "[<matplotlib.patches.Polygon at 0x1cb468d5e48>,\n",
       " <matplotlib.patches.Polygon at 0x1cb468d5f98>,\n",
       " <matplotlib.patches.Polygon at 0x1cb468e2550>,\n",
       " <matplotlib.patches.Polygon at 0x1cb468e27f0>,\n",
       " <matplotlib.patches.Polygon at 0x1cb468e2a90>,\n",
       " <matplotlib.patches.Polygon at 0x1cb468e2d30>,\n",
       " <matplotlib.patches.Polygon at 0x1cb468e2fd0>,\n",
       " <matplotlib.patches.Polygon at 0x1cb463c82b0>,\n",
       " <matplotlib.patches.Polygon at 0x1cb463c8550>,\n",
       " <matplotlib.patches.Polygon at 0x1cb463c87f0>,\n",
       " <matplotlib.patches.Polygon at 0x1cb463c8a90>,\n",
       " <matplotlib.patches.Polygon at 0x1cb463c8d30>,\n",
       " <matplotlib.patches.Polygon at 0x1cb463c8fd0>,\n",
       " <matplotlib.patches.Polygon at 0x1cb463dd2b0>,\n",
       " <matplotlib.patches.Polygon at 0x1cb463dd550>,\n",
       " <matplotlib.patches.Polygon at 0x1cb463dd7f0>,\n",
       " <matplotlib.patches.Polygon at 0x1cb463dda90>,\n",
       " <matplotlib.patches.Polygon at 0x1cb463ddd30>,\n",
       " <matplotlib.patches.Polygon at 0x1cb463ddfd0>,\n",
       " <matplotlib.patches.Polygon at 0x1cb455922b0>,\n",
       " <matplotlib.patches.Polygon at 0x1cb45592550>,\n",
       " <matplotlib.patches.Polygon at 0x1cb455927f0>,\n",
       " <matplotlib.patches.Polygon at 0x1cb45592a90>,\n",
       " <matplotlib.patches.Polygon at 0x1cb45592d30>,\n",
       " <matplotlib.patches.Polygon at 0x1cb45592f98>,\n",
       " <matplotlib.patches.Polygon at 0x1cb455952b0>,\n",
       " <matplotlib.patches.Polygon at 0x1cb45595550>,\n",
       " <matplotlib.patches.Polygon at 0x1cb455957f0>,\n",
       " <matplotlib.patches.Polygon at 0x1cb45595a90>,\n",
       " <matplotlib.patches.Polygon at 0x1cb45595d30>,\n",
       " <matplotlib.patches.Polygon at 0x1cb45595fd0>,\n",
       " <matplotlib.patches.Polygon at 0x1cb467912b0>,\n",
       " <matplotlib.patches.Polygon at 0x1cb46791550>,\n",
       " <matplotlib.patches.Polygon at 0x1cb467917f0>,\n",
       " <matplotlib.patches.Polygon at 0x1cb46791a90>,\n",
       " <matplotlib.patches.Polygon at 0x1cb46791d30>,\n",
       " <matplotlib.patches.Polygon at 0x1cb46791fd0>,\n",
       " <matplotlib.patches.Polygon at 0x1cb4679e2b0>,\n",
       " <matplotlib.patches.Polygon at 0x1cb4679e550>,\n",
       " <matplotlib.patches.Polygon at 0x1cb4679e7f0>,\n",
       " <matplotlib.patches.Polygon at 0x1cb4679ea90>,\n",
       " <matplotlib.patches.Polygon at 0x1cb4679ed30>,\n",
       " <matplotlib.patches.Polygon at 0x1cb4679efd0>,\n",
       " <matplotlib.patches.Polygon at 0x1cb476f62b0>,\n",
       " <matplotlib.patches.Polygon at 0x1cb476f6550>,\n",
       " <matplotlib.patches.Polygon at 0x1cb476f67f0>,\n",
       " <matplotlib.patches.Polygon at 0x1cb476f6a90>,\n",
       " <matplotlib.patches.Polygon at 0x1cb476f6d30>,\n",
       " <matplotlib.patches.Polygon at 0x1cb476f6fd0>,\n",
       " <matplotlib.patches.Polygon at 0x1cb4770a2b0>,\n",
       " <matplotlib.patches.Polygon at 0x1cb4770a550>,\n",
       " <matplotlib.patches.Polygon at 0x1cb4770a7f0>,\n",
       " <matplotlib.patches.Polygon at 0x1cb4770aa90>,\n",
       " <matplotlib.patches.Polygon at 0x1cb4770ad30>,\n",
       " <matplotlib.patches.Polygon at 0x1cb4770afd0>,\n",
       " <matplotlib.patches.Polygon at 0x1cb477162b0>,\n",
       " <matplotlib.patches.Polygon at 0x1cb47716550>,\n",
       " <matplotlib.patches.Polygon at 0x1cb477167f0>,\n",
       " <matplotlib.patches.Polygon at 0x1cb47716a90>,\n",
       " <matplotlib.patches.Polygon at 0x1cb47716d30>,\n",
       " <matplotlib.patches.Polygon at 0x1cb47716fd0>,\n",
       " <matplotlib.patches.Polygon at 0x1cb468572b0>,\n",
       " <matplotlib.patches.Polygon at 0x1cb46857550>,\n",
       " <matplotlib.patches.Polygon at 0x1cb468577f0>,\n",
       " <matplotlib.patches.Polygon at 0x1cb46857a90>,\n",
       " <matplotlib.patches.Polygon at 0x1cb46857d30>,\n",
       " <matplotlib.patches.Polygon at 0x1cb46857fd0>,\n",
       " <matplotlib.patches.Polygon at 0x1cb468692b0>,\n",
       " <matplotlib.patches.Polygon at 0x1cb46869550>,\n",
       " <matplotlib.patches.Polygon at 0x1cb468697f0>,\n",
       " <matplotlib.patches.Polygon at 0x1cb46869a90>,\n",
       " <matplotlib.patches.Polygon at 0x1cb46869d30>,\n",
       " <matplotlib.patches.Polygon at 0x1cb46869fd0>,\n",
       " <matplotlib.patches.Polygon at 0x1cb462a82b0>,\n",
       " <matplotlib.patches.Polygon at 0x1cb462a8550>,\n",
       " <matplotlib.patches.Polygon at 0x1cb462a87f0>,\n",
       " <matplotlib.patches.Polygon at 0x1cb462a8a90>,\n",
       " <matplotlib.patches.Polygon at 0x1cb462a8d30>,\n",
       " <matplotlib.patches.Polygon at 0x1cb462a8fd0>,\n",
       " <matplotlib.patches.Polygon at 0x1cb462d22b0>,\n",
       " <matplotlib.patches.Polygon at 0x1cb462d2550>,\n",
       " <matplotlib.patches.Polygon at 0x1cb462d27f0>,\n",
       " <matplotlib.patches.Polygon at 0x1cb462d2a90>,\n",
       " <matplotlib.patches.Polygon at 0x1cb462d2d30>,\n",
       " <matplotlib.patches.Polygon at 0x1cb462d2fd0>,\n",
       " <matplotlib.patches.Polygon at 0x1cb462ba2b0>,\n",
       " <matplotlib.patches.Polygon at 0x1cb462ba550>,\n",
       " <matplotlib.patches.Polygon at 0x1cb462ba7f0>,\n",
       " <matplotlib.patches.Polygon at 0x1cb462baa90>,\n",
       " <matplotlib.patches.Polygon at 0x1cb462bad68>,\n",
       " <matplotlib.patches.Polygon at 0x1cb462bafd0>,\n",
       " <matplotlib.patches.Polygon at 0x1cb47a602b0>,\n",
       " <matplotlib.patches.Polygon at 0x1cb47a60550>,\n",
       " <matplotlib.patches.Polygon at 0x1cb47a607f0>,\n",
       " <matplotlib.patches.Polygon at 0x1cb47a60a90>,\n",
       " <matplotlib.patches.Polygon at 0x1cb47a60d30>]"
      ]
     },
     "execution_count": 8,
     "metadata": {},
     "output_type": "execute_result"
    },
    {
     "data": {
      "text/plain": [
       "<matplotlib.collections.LineCollection at 0x1cb47a60eb8>"
      ]
     },
     "execution_count": 8,
     "metadata": {},
     "output_type": "execute_result"
    },
    {
     "data": {
      "text/plain": [
       "<matplotlib.collections.LineCollection at 0x1cb47a60ef0>"
      ]
     },
     "execution_count": 8,
     "metadata": {},
     "output_type": "execute_result"
    },
    {
     "data": {
      "text/plain": [
       "[<matplotlib.lines.Line2D at 0x1cb47a4dd30>]"
      ]
     },
     "execution_count": 8,
     "metadata": {},
     "output_type": "execute_result"
    },
    {
     "data": {
      "text/plain": [
       "Text(0.5, 1.0, 'Filtered occurrences for Gazella gazella')"
      ]
     },
     "execution_count": 8,
     "metadata": {},
     "output_type": "execute_result"
    },
    {
     "data": {
      "text/plain": [
       "<matplotlib.patches.Rectangle at 0x1cb463b0588>"
      ]
     },
     "execution_count": 8,
     "metadata": {},
     "output_type": "execute_result"
    },
    {
     "data": {
      "text/plain": [
       "[<matplotlib.patches.Polygon at 0x1cb2e69fb38>,\n",
       " <matplotlib.patches.Polygon at 0x1cb2e69fdd8>,\n",
       " <matplotlib.patches.Polygon at 0x1cb2e69fa90>,\n",
       " <matplotlib.patches.Polygon at 0x1cb2e683e80>,\n",
       " <matplotlib.patches.Polygon at 0x1cb2e683208>,\n",
       " <matplotlib.patches.Polygon at 0x1cb2e6834a8>,\n",
       " <matplotlib.patches.Polygon at 0x1cb2e683748>,\n",
       " <matplotlib.patches.Polygon at 0x1cb2e6839e8>,\n",
       " <matplotlib.patches.Polygon at 0x1cb2e683dd8>,\n",
       " <matplotlib.patches.Polygon at 0x1cb2e6aa780>,\n",
       " <matplotlib.patches.Polygon at 0x1cb467df160>,\n",
       " <matplotlib.patches.Polygon at 0x1cb467df400>,\n",
       " <matplotlib.patches.Polygon at 0x1cb467df668>,\n",
       " <matplotlib.patches.Polygon at 0x1cb467df908>,\n",
       " <matplotlib.patches.Polygon at 0x1cb467dfba8>,\n",
       " <matplotlib.patches.Polygon at 0x1cb467dfe48>,\n",
       " <matplotlib.patches.Polygon at 0x1cb47b0d128>,\n",
       " <matplotlib.patches.Polygon at 0x1cb47b0d3c8>,\n",
       " <matplotlib.patches.Polygon at 0x1cb47b0d668>,\n",
       " <matplotlib.patches.Polygon at 0x1cb47b0d908>,\n",
       " <matplotlib.patches.Polygon at 0x1cb47b0dba8>,\n",
       " <matplotlib.patches.Polygon at 0x1cb47b0de48>,\n",
       " <matplotlib.patches.Polygon at 0x1cb463a0128>,\n",
       " <matplotlib.patches.Polygon at 0x1cb463a03c8>,\n",
       " <matplotlib.patches.Polygon at 0x1cb463a0668>,\n",
       " <matplotlib.patches.Polygon at 0x1cb463a0908>,\n",
       " <matplotlib.patches.Polygon at 0x1cb463a0ba8>,\n",
       " <matplotlib.patches.Polygon at 0x1cb463a0e48>,\n",
       " <matplotlib.patches.Polygon at 0x1cb479db128>,\n",
       " <matplotlib.patches.Polygon at 0x1cb479db3c8>,\n",
       " <matplotlib.patches.Polygon at 0x1cb479db668>,\n",
       " <matplotlib.patches.Polygon at 0x1cb479db940>,\n",
       " <matplotlib.patches.Polygon at 0x1cb479dbba8>,\n",
       " <matplotlib.patches.Polygon at 0x1cb479dbe48>,\n",
       " <matplotlib.patches.Polygon at 0x1cb477f3128>,\n",
       " <matplotlib.patches.Polygon at 0x1cb477f33c8>,\n",
       " <matplotlib.patches.Polygon at 0x1cb477f3668>,\n",
       " <matplotlib.patches.Polygon at 0x1cb477f3908>,\n",
       " <matplotlib.patches.Polygon at 0x1cb477f3ba8>,\n",
       " <matplotlib.patches.Polygon at 0x1cb477f3e48>,\n",
       " <matplotlib.patches.Polygon at 0x1cb47801128>,\n",
       " <matplotlib.patches.Polygon at 0x1cb478013c8>,\n",
       " <matplotlib.patches.Polygon at 0x1cb47801668>,\n",
       " <matplotlib.patches.Polygon at 0x1cb47801908>,\n",
       " <matplotlib.patches.Polygon at 0x1cb47801ba8>,\n",
       " <matplotlib.patches.Polygon at 0x1cb47801e48>,\n",
       " <matplotlib.patches.Polygon at 0x1cb454f2128>,\n",
       " <matplotlib.patches.Polygon at 0x1cb454f23c8>,\n",
       " <matplotlib.patches.Polygon at 0x1cb454f2668>,\n",
       " <matplotlib.patches.Polygon at 0x1cb454f2908>,\n",
       " <matplotlib.patches.Polygon at 0x1cb454f2ba8>,\n",
       " <matplotlib.patches.Polygon at 0x1cb454f2e48>,\n",
       " <matplotlib.patches.Polygon at 0x1cb454f1128>,\n",
       " <matplotlib.patches.Polygon at 0x1cb454f13c8>,\n",
       " <matplotlib.patches.Polygon at 0x1cb454f1668>,\n",
       " <matplotlib.patches.Polygon at 0x1cb454f1908>,\n",
       " <matplotlib.patches.Polygon at 0x1cb454f1ba8>,\n",
       " <matplotlib.patches.Polygon at 0x1cb454f1e48>,\n",
       " <matplotlib.patches.Polygon at 0x1cb46905128>,\n",
       " <matplotlib.patches.Polygon at 0x1cb469053c8>,\n",
       " <matplotlib.patches.Polygon at 0x1cb46905668>,\n",
       " <matplotlib.patches.Polygon at 0x1cb46905908>,\n",
       " <matplotlib.patches.Polygon at 0x1cb46905ba8>,\n",
       " <matplotlib.patches.Polygon at 0x1cb46905e48>,\n",
       " <matplotlib.patches.Polygon at 0x1cb4691a128>,\n",
       " <matplotlib.patches.Polygon at 0x1cb4691a3c8>,\n",
       " <matplotlib.patches.Polygon at 0x1cb4691a668>,\n",
       " <matplotlib.patches.Polygon at 0x1cb4691a908>,\n",
       " <matplotlib.patches.Polygon at 0x1cb4691aba8>,\n",
       " <matplotlib.patches.Polygon at 0x1cb4691ae48>,\n",
       " <matplotlib.patches.Polygon at 0x1cb468c5128>,\n",
       " <matplotlib.patches.Polygon at 0x1cb468c53c8>,\n",
       " <matplotlib.patches.Polygon at 0x1cb468c5668>,\n",
       " <matplotlib.patches.Polygon at 0x1cb468c5908>,\n",
       " <matplotlib.patches.Polygon at 0x1cb468c5ba8>,\n",
       " <matplotlib.patches.Polygon at 0x1cb468c5e48>,\n",
       " <matplotlib.patches.Polygon at 0x1cb468d4128>,\n",
       " <matplotlib.patches.Polygon at 0x1cb468d43c8>,\n",
       " <matplotlib.patches.Polygon at 0x1cb468d4668>,\n",
       " <matplotlib.patches.Polygon at 0x1cb468d4908>,\n",
       " <matplotlib.patches.Polygon at 0x1cb468d4ba8>,\n",
       " <matplotlib.patches.Polygon at 0x1cb468d4e48>,\n",
       " <matplotlib.patches.Polygon at 0x1cb468b7128>,\n",
       " <matplotlib.patches.Polygon at 0x1cb468b73c8>,\n",
       " <matplotlib.patches.Polygon at 0x1cb468b7668>,\n",
       " <matplotlib.patches.Polygon at 0x1cb468b7908>,\n",
       " <matplotlib.patches.Polygon at 0x1cb468b7ba8>,\n",
       " <matplotlib.patches.Polygon at 0x1cb468b7e48>,\n",
       " <matplotlib.patches.Polygon at 0x1cb45575128>,\n",
       " <matplotlib.patches.Polygon at 0x1cb455753c8>,\n",
       " <matplotlib.patches.Polygon at 0x1cb45575668>,\n",
       " <matplotlib.patches.Polygon at 0x1cb45575908>,\n",
       " <matplotlib.patches.Polygon at 0x1cb45575ba8>,\n",
       " <matplotlib.patches.Polygon at 0x1cb45575e48>,\n",
       " <matplotlib.patches.Polygon at 0x1cb4556f128>,\n",
       " <matplotlib.patches.Polygon at 0x1cb4556f3c8>,\n",
       " <matplotlib.patches.Polygon at 0x1cb4556f668>,\n",
       " <matplotlib.patches.Polygon at 0x1cb4556f908>,\n",
       " <matplotlib.patches.Polygon at 0x1cb4556fba8>,\n",
       " <matplotlib.patches.Polygon at 0x1cb4556fe48>,\n",
       " <matplotlib.patches.Polygon at 0x1cb45583128>,\n",
       " <matplotlib.patches.Polygon at 0x1cb455833c8>,\n",
       " <matplotlib.patches.Polygon at 0x1cb45583668>,\n",
       " <matplotlib.patches.Polygon at 0x1cb45583908>,\n",
       " <matplotlib.patches.Polygon at 0x1cb45583ba8>,\n",
       " <matplotlib.patches.Polygon at 0x1cb45583e48>,\n",
       " <matplotlib.patches.Polygon at 0x1cb2e6ad128>,\n",
       " <matplotlib.patches.Polygon at 0x1cb2e6ad3c8>,\n",
       " <matplotlib.patches.Polygon at 0x1cb2e6ad668>,\n",
       " <matplotlib.patches.Polygon at 0x1cb2e6ad908>,\n",
       " <matplotlib.patches.Polygon at 0x1cb2e6adba8>,\n",
       " <matplotlib.patches.Polygon at 0x1cb2e6ade48>,\n",
       " <matplotlib.patches.Polygon at 0x1cb2e699128>,\n",
       " <matplotlib.patches.Polygon at 0x1cb2e6993c8>,\n",
       " <matplotlib.patches.Polygon at 0x1cb2e699668>,\n",
       " <matplotlib.patches.Polygon at 0x1cb2e699908>]"
      ]
     },
     "execution_count": 8,
     "metadata": {},
     "output_type": "execute_result"
    },
    {
     "data": {
      "text/plain": [
       "<matplotlib.collections.LineCollection at 0x1cb467df550>"
      ]
     },
     "execution_count": 8,
     "metadata": {},
     "output_type": "execute_result"
    },
    {
     "data": {
      "text/plain": [
       "<matplotlib.collections.LineCollection at 0x1cb47bf2f98>"
      ]
     },
     "execution_count": 8,
     "metadata": {},
     "output_type": "execute_result"
    },
    {
     "data": {
      "text/plain": [
       "[<matplotlib.lines.Line2D at 0x1cb47bf2fd0>]"
      ]
     },
     "execution_count": 8,
     "metadata": {},
     "output_type": "execute_result"
    },
    {
     "data": {
      "text/plain": [
       "Text(0.5, 1.0, 'Filtered occurrences for Gazella subgutturosa')"
      ]
     },
     "execution_count": 8,
     "metadata": {},
     "output_type": "execute_result"
    },
    {
     "data": {
      "text/plain": [
       "<matplotlib.patches.Rectangle at 0x1cb47a9a4e0>"
      ]
     },
     "execution_count": 8,
     "metadata": {},
     "output_type": "execute_result"
    },
    {
     "data": {
      "text/plain": [
       "[<matplotlib.patches.Polygon at 0x1cb467e1b00>,\n",
       " <matplotlib.patches.Polygon at 0x1cb467e1e10>,\n",
       " <matplotlib.patches.Polygon at 0x1cb463b1208>,\n",
       " <matplotlib.patches.Polygon at 0x1cb463b14a8>,\n",
       " <matplotlib.patches.Polygon at 0x1cb467e1dd8>,\n",
       " <matplotlib.patches.Polygon at 0x1cb463b19b0>,\n",
       " <matplotlib.patches.Polygon at 0x1cb463b1c50>,\n",
       " <matplotlib.patches.Polygon at 0x1cb463b1ef0>,\n",
       " <matplotlib.patches.Polygon at 0x1cb468bb1d0>,\n",
       " <matplotlib.patches.Polygon at 0x1cb468bb470>,\n",
       " <matplotlib.patches.Polygon at 0x1cb468bb710>,\n",
       " <matplotlib.patches.Polygon at 0x1cb468bb9b0>,\n",
       " <matplotlib.patches.Polygon at 0x1cb468bbc50>,\n",
       " <matplotlib.patches.Polygon at 0x1cb468bbef0>,\n",
       " <matplotlib.patches.Polygon at 0x1cb455171d0>,\n",
       " <matplotlib.patches.Polygon at 0x1cb45517470>,\n",
       " <matplotlib.patches.Polygon at 0x1cb45517710>,\n",
       " <matplotlib.patches.Polygon at 0x1cb455179b0>,\n",
       " <matplotlib.patches.Polygon at 0x1cb45517c50>,\n",
       " <matplotlib.patches.Polygon at 0x1cb45517ef0>,\n",
       " <matplotlib.patches.Polygon at 0x1cb455021d0>,\n",
       " <matplotlib.patches.Polygon at 0x1cb45502470>,\n",
       " <matplotlib.patches.Polygon at 0x1cb45502710>,\n",
       " <matplotlib.patches.Polygon at 0x1cb455029b0>,\n",
       " <matplotlib.patches.Polygon at 0x1cb45502c50>,\n",
       " <matplotlib.patches.Polygon at 0x1cb45502ef0>,\n",
       " <matplotlib.patches.Polygon at 0x1cb455631d0>,\n",
       " <matplotlib.patches.Polygon at 0x1cb455634a8>,\n",
       " <matplotlib.patches.Polygon at 0x1cb45563710>,\n",
       " <matplotlib.patches.Polygon at 0x1cb455639b0>,\n",
       " <matplotlib.patches.Polygon at 0x1cb45563c50>,\n",
       " <matplotlib.patches.Polygon at 0x1cb45563ef0>,\n",
       " <matplotlib.patches.Polygon at 0x1cb4556e1d0>,\n",
       " <matplotlib.patches.Polygon at 0x1cb4556e470>,\n",
       " <matplotlib.patches.Polygon at 0x1cb4556e710>,\n",
       " <matplotlib.patches.Polygon at 0x1cb4556e9b0>,\n",
       " <matplotlib.patches.Polygon at 0x1cb4556ec50>,\n",
       " <matplotlib.patches.Polygon at 0x1cb4556eef0>,\n",
       " <matplotlib.patches.Polygon at 0x1cb477251d0>,\n",
       " <matplotlib.patches.Polygon at 0x1cb47725470>,\n",
       " <matplotlib.patches.Polygon at 0x1cb47725748>,\n",
       " <matplotlib.patches.Polygon at 0x1cb477259b0>,\n",
       " <matplotlib.patches.Polygon at 0x1cb47725c88>,\n",
       " <matplotlib.patches.Polygon at 0x1cb47725ef0>,\n",
       " <matplotlib.patches.Polygon at 0x1cb4772d1d0>,\n",
       " <matplotlib.patches.Polygon at 0x1cb4772d4a8>,\n",
       " <matplotlib.patches.Polygon at 0x1cb4772d710>,\n",
       " <matplotlib.patches.Polygon at 0x1cb4772d9b0>]"
      ]
     },
     "execution_count": 8,
     "metadata": {},
     "output_type": "execute_result"
    },
    {
     "data": {
      "text/plain": [
       "<matplotlib.collections.LineCollection at 0x1cb4772db38>"
      ]
     },
     "execution_count": 8,
     "metadata": {},
     "output_type": "execute_result"
    },
    {
     "data": {
      "text/plain": [
       "<matplotlib.collections.LineCollection at 0x1cb47ad98d0>"
      ]
     },
     "execution_count": 8,
     "metadata": {},
     "output_type": "execute_result"
    },
    {
     "data": {
      "text/plain": [
       "[<matplotlib.lines.Line2D at 0x1cb47ad9828>]"
      ]
     },
     "execution_count": 8,
     "metadata": {},
     "output_type": "execute_result"
    },
    {
     "data": {
      "text/plain": [
       "Text(0.5, 1.0, 'Filtered occurrences for Giraffa camelopardalis')"
      ]
     },
     "execution_count": 8,
     "metadata": {},
     "output_type": "execute_result"
    },
    {
     "data": {
      "text/plain": [
       "<matplotlib.patches.Rectangle at 0x1cb47c492e8>"
      ]
     },
     "execution_count": 8,
     "metadata": {},
     "output_type": "execute_result"
    },
    {
     "data": {
      "text/plain": [
       "[<matplotlib.patches.Polygon at 0x1cb47b6aa20>,\n",
       " <matplotlib.patches.Polygon at 0x1cb47b6ad30>,\n",
       " <matplotlib.patches.Polygon at 0x1cb47b6afd0>,\n",
       " <matplotlib.patches.Polygon at 0x1cb47b8f2b0>,\n",
       " <matplotlib.patches.Polygon at 0x1cb47b8f550>,\n",
       " <matplotlib.patches.Polygon at 0x1cb47b8f7f0>,\n",
       " <matplotlib.patches.Polygon at 0x1cb47b8fa90>,\n",
       " <matplotlib.patches.Polygon at 0x1cb47b8fd30>,\n",
       " <matplotlib.patches.Polygon at 0x1cb47b8ffd0>,\n",
       " <matplotlib.patches.Polygon at 0x1cb4780f2b0>,\n",
       " <matplotlib.patches.Polygon at 0x1cb4780f550>,\n",
       " <matplotlib.patches.Polygon at 0x1cb4780f7f0>,\n",
       " <matplotlib.patches.Polygon at 0x1cb4780fa90>,\n",
       " <matplotlib.patches.Polygon at 0x1cb4780fd30>,\n",
       " <matplotlib.patches.Polygon at 0x1cb4780ffd0>,\n",
       " <matplotlib.patches.Polygon at 0x1cb4760a2b0>,\n",
       " <matplotlib.patches.Polygon at 0x1cb4760a550>,\n",
       " <matplotlib.patches.Polygon at 0x1cb4760a7f0>,\n",
       " <matplotlib.patches.Polygon at 0x1cb4760aa90>,\n",
       " <matplotlib.patches.Polygon at 0x1cb4760ad30>,\n",
       " <matplotlib.patches.Polygon at 0x1cb4760afd0>,\n",
       " <matplotlib.patches.Polygon at 0x1cb476262b0>,\n",
       " <matplotlib.patches.Polygon at 0x1cb47626550>,\n",
       " <matplotlib.patches.Polygon at 0x1cb476267f0>,\n",
       " <matplotlib.patches.Polygon at 0x1cb47626ac8>,\n",
       " <matplotlib.patches.Polygon at 0x1cb47626d30>,\n",
       " <matplotlib.patches.Polygon at 0x1cb47626fd0>,\n",
       " <matplotlib.patches.Polygon at 0x1cb475fa2b0>,\n",
       " <matplotlib.patches.Polygon at 0x1cb475fa550>,\n",
       " <matplotlib.patches.Polygon at 0x1cb475fa7f0>,\n",
       " <matplotlib.patches.Polygon at 0x1cb475faa90>,\n",
       " <matplotlib.patches.Polygon at 0x1cb475fad30>,\n",
       " <matplotlib.patches.Polygon at 0x1cb475fafd0>,\n",
       " <matplotlib.patches.Polygon at 0x1cb476172b0>,\n",
       " <matplotlib.patches.Polygon at 0x1cb47617550>,\n",
       " <matplotlib.patches.Polygon at 0x1cb476177f0>,\n",
       " <matplotlib.patches.Polygon at 0x1cb47617a90>,\n",
       " <matplotlib.patches.Polygon at 0x1cb47617d68>,\n",
       " <matplotlib.patches.Polygon at 0x1cb47617fd0>,\n",
       " <matplotlib.patches.Polygon at 0x1cb475532e8>,\n",
       " <matplotlib.patches.Polygon at 0x1cb47553550>,\n",
       " <matplotlib.patches.Polygon at 0x1cb475537f0>,\n",
       " <matplotlib.patches.Polygon at 0x1cb47553ac8>,\n",
       " <matplotlib.patches.Polygon at 0x1cb47553d30>,\n",
       " <matplotlib.patches.Polygon at 0x1cb47553fd0>]"
      ]
     },
     "execution_count": 8,
     "metadata": {},
     "output_type": "execute_result"
    },
    {
     "data": {
      "text/plain": [
       "<matplotlib.collections.LineCollection at 0x1cb47556160>"
      ]
     },
     "execution_count": 8,
     "metadata": {},
     "output_type": "execute_result"
    },
    {
     "data": {
      "text/plain": [
       "<matplotlib.collections.LineCollection at 0x1cb47565c88>"
      ]
     },
     "execution_count": 8,
     "metadata": {},
     "output_type": "execute_result"
    },
    {
     "data": {
      "text/plain": [
       "[<matplotlib.lines.Line2D at 0x1cb47565ba8>]"
      ]
     },
     "execution_count": 8,
     "metadata": {},
     "output_type": "execute_result"
    },
    {
     "data": {
      "text/plain": [
       "Text(0.5, 1.0, 'Filtered occurrences for Hippopotamus amphibius')"
      ]
     },
     "execution_count": 8,
     "metadata": {},
     "output_type": "execute_result"
    },
    {
     "data": {
      "text/plain": [
       "<matplotlib.patches.Rectangle at 0x1cb47b71a90>"
      ]
     },
     "execution_count": 8,
     "metadata": {},
     "output_type": "execute_result"
    },
    {
     "data": {
      "text/plain": [
       "[<matplotlib.patches.Polygon at 0x1cb475b20f0>,\n",
       " <matplotlib.patches.Polygon at 0x1cb475b2518>,\n",
       " <matplotlib.patches.Polygon at 0x1cb475b27f0>,\n",
       " <matplotlib.patches.Polygon at 0x1cb475b2a90>,\n",
       " <matplotlib.patches.Polygon at 0x1cb475b2d30>,\n",
       " <matplotlib.patches.Polygon at 0x1cb475b2fd0>,\n",
       " <matplotlib.patches.Polygon at 0x1cb4689b2b0>,\n",
       " <matplotlib.patches.Polygon at 0x1cb4689b550>,\n",
       " <matplotlib.patches.Polygon at 0x1cb4689b7f0>,\n",
       " <matplotlib.patches.Polygon at 0x1cb4689ba90>,\n",
       " <matplotlib.patches.Polygon at 0x1cb4689bd30>,\n",
       " <matplotlib.patches.Polygon at 0x1cb4689bfd0>,\n",
       " <matplotlib.patches.Polygon at 0x1cb468952b0>,\n",
       " <matplotlib.patches.Polygon at 0x1cb46895550>,\n",
       " <matplotlib.patches.Polygon at 0x1cb468957f0>,\n",
       " <matplotlib.patches.Polygon at 0x1cb46895a90>,\n",
       " <matplotlib.patches.Polygon at 0x1cb46895d30>,\n",
       " <matplotlib.patches.Polygon at 0x1cb46895fd0>,\n",
       " <matplotlib.patches.Polygon at 0x1cb476d52e8>,\n",
       " <matplotlib.patches.Polygon at 0x1cb476d5550>,\n",
       " <matplotlib.patches.Polygon at 0x1cb476d57f0>,\n",
       " <matplotlib.patches.Polygon at 0x1cb476d5a90>,\n",
       " <matplotlib.patches.Polygon at 0x1cb476d5d30>,\n",
       " <matplotlib.patches.Polygon at 0x1cb476d5fd0>,\n",
       " <matplotlib.patches.Polygon at 0x1cb476ec2b0>,\n",
       " <matplotlib.patches.Polygon at 0x1cb476ec550>,\n",
       " <matplotlib.patches.Polygon at 0x1cb476ec7f0>,\n",
       " <matplotlib.patches.Polygon at 0x1cb476eca90>,\n",
       " <matplotlib.patches.Polygon at 0x1cb476ecd30>,\n",
       " <matplotlib.patches.Polygon at 0x1cb476ecfd0>,\n",
       " <matplotlib.patches.Polygon at 0x1cb4756a2b0>,\n",
       " <matplotlib.patches.Polygon at 0x1cb4756a550>,\n",
       " <matplotlib.patches.Polygon at 0x1cb4756a7f0>,\n",
       " <matplotlib.patches.Polygon at 0x1cb4756aa90>,\n",
       " <matplotlib.patches.Polygon at 0x1cb4756ad30>,\n",
       " <matplotlib.patches.Polygon at 0x1cb4756afd0>,\n",
       " <matplotlib.patches.Polygon at 0x1cb4753e2b0>,\n",
       " <matplotlib.patches.Polygon at 0x1cb4753e550>,\n",
       " <matplotlib.patches.Polygon at 0x1cb4753e828>,\n",
       " <matplotlib.patches.Polygon at 0x1cb4753ea90>,\n",
       " <matplotlib.patches.Polygon at 0x1cb4753ed30>,\n",
       " <matplotlib.patches.Polygon at 0x1cb4753efd0>,\n",
       " <matplotlib.patches.Polygon at 0x1cb477392b0>,\n",
       " <matplotlib.patches.Polygon at 0x1cb47739550>,\n",
       " <matplotlib.patches.Polygon at 0x1cb477397f0>,\n",
       " <matplotlib.patches.Polygon at 0x1cb47739a90>,\n",
       " <matplotlib.patches.Polygon at 0x1cb47739d30>,\n",
       " <matplotlib.patches.Polygon at 0x1cb47739fd0>,\n",
       " <matplotlib.patches.Polygon at 0x1cb4774c2b0>,\n",
       " <matplotlib.patches.Polygon at 0x1cb4774c550>,\n",
       " <matplotlib.patches.Polygon at 0x1cb4774c7f0>,\n",
       " <matplotlib.patches.Polygon at 0x1cb4774ca90>,\n",
       " <matplotlib.patches.Polygon at 0x1cb4774cd30>,\n",
       " <matplotlib.patches.Polygon at 0x1cb4774cfd0>,\n",
       " <matplotlib.patches.Polygon at 0x1cb4775b2e8>,\n",
       " <matplotlib.patches.Polygon at 0x1cb4775b550>,\n",
       " <matplotlib.patches.Polygon at 0x1cb4775b828>,\n",
       " <matplotlib.patches.Polygon at 0x1cb4775ba90>,\n",
       " <matplotlib.patches.Polygon at 0x1cb4775bd30>,\n",
       " <matplotlib.patches.Polygon at 0x1cb4775bf98>,\n",
       " <matplotlib.patches.Polygon at 0x1cb4751a2e8>,\n",
       " <matplotlib.patches.Polygon at 0x1cb4751a550>,\n",
       " <matplotlib.patches.Polygon at 0x1cb4751a7f0>]"
      ]
     },
     "execution_count": 8,
     "metadata": {},
     "output_type": "execute_result"
    },
    {
     "data": {
      "text/plain": [
       "<matplotlib.collections.LineCollection at 0x1cb4751afd0>"
      ]
     },
     "execution_count": 8,
     "metadata": {},
     "output_type": "execute_result"
    },
    {
     "data": {
      "text/plain": [
       "<matplotlib.collections.LineCollection at 0x1cb476714a8>"
      ]
     },
     "execution_count": 8,
     "metadata": {},
     "output_type": "execute_result"
    },
    {
     "data": {
      "text/plain": [
       "[<matplotlib.lines.Line2D at 0x1cb476713c8>]"
      ]
     },
     "execution_count": 8,
     "metadata": {},
     "output_type": "execute_result"
    },
    {
     "data": {
      "text/plain": [
       "Text(0.5, 1.0, 'Filtered occurrences for Hippotragus equinus')"
      ]
     },
     "execution_count": 8,
     "metadata": {},
     "output_type": "execute_result"
    },
    {
     "data": {
      "text/plain": [
       "<matplotlib.patches.Rectangle at 0x1cb4624f668>"
      ]
     },
     "execution_count": 8,
     "metadata": {},
     "output_type": "execute_result"
    },
    {
     "data": {
      "text/plain": [
       "[<matplotlib.patches.Polygon at 0x1cb47820cc0>,\n",
       " <matplotlib.patches.Polygon at 0x1cb47820898>,\n",
       " <matplotlib.patches.Polygon at 0x1cb47820da0>,\n",
       " <matplotlib.patches.Polygon at 0x1cb47820c18>,\n",
       " <matplotlib.patches.Polygon at 0x1cb47886208>,\n",
       " <matplotlib.patches.Polygon at 0x1cb478864a8>,\n",
       " <matplotlib.patches.Polygon at 0x1cb47886748>,\n",
       " <matplotlib.patches.Polygon at 0x1cb478869e8>,\n",
       " <matplotlib.patches.Polygon at 0x1cb47886c88>,\n",
       " <matplotlib.patches.Polygon at 0x1cb47886ef0>,\n",
       " <matplotlib.patches.Polygon at 0x1cb475191d0>,\n",
       " <matplotlib.patches.Polygon at 0x1cb47519470>,\n",
       " <matplotlib.patches.Polygon at 0x1cb47519710>,\n",
       " <matplotlib.patches.Polygon at 0x1cb475199b0>,\n",
       " <matplotlib.patches.Polygon at 0x1cb47519c50>,\n",
       " <matplotlib.patches.Polygon at 0x1cb47519ef0>,\n",
       " <matplotlib.patches.Polygon at 0x1cb476cf1d0>,\n",
       " <matplotlib.patches.Polygon at 0x1cb476cf470>,\n",
       " <matplotlib.patches.Polygon at 0x1cb476cf710>,\n",
       " <matplotlib.patches.Polygon at 0x1cb476cf9b0>,\n",
       " <matplotlib.patches.Polygon at 0x1cb476cfc50>,\n",
       " <matplotlib.patches.Polygon at 0x1cb476cfef0>,\n",
       " <matplotlib.patches.Polygon at 0x1cb476e31d0>,\n",
       " <matplotlib.patches.Polygon at 0x1cb476e34a8>,\n",
       " <matplotlib.patches.Polygon at 0x1cb476e3710>,\n",
       " <matplotlib.patches.Polygon at 0x1cb476e39b0>,\n",
       " <matplotlib.patches.Polygon at 0x1cb476e3c50>,\n",
       " <matplotlib.patches.Polygon at 0x1cb476e3ef0>,\n",
       " <matplotlib.patches.Polygon at 0x1cb47c471d0>,\n",
       " <matplotlib.patches.Polygon at 0x1cb47c47470>,\n",
       " <matplotlib.patches.Polygon at 0x1cb47c47710>,\n",
       " <matplotlib.patches.Polygon at 0x1cb47c479b0>,\n",
       " <matplotlib.patches.Polygon at 0x1cb47c47c50>,\n",
       " <matplotlib.patches.Polygon at 0x1cb47c47ef0>,\n",
       " <matplotlib.patches.Polygon at 0x1cb476721d0>,\n",
       " <matplotlib.patches.Polygon at 0x1cb47672470>,\n",
       " <matplotlib.patches.Polygon at 0x1cb47672748>,\n",
       " <matplotlib.patches.Polygon at 0x1cb476729b0>,\n",
       " <matplotlib.patches.Polygon at 0x1cb47672c50>,\n",
       " <matplotlib.patches.Polygon at 0x1cb47672f28>,\n",
       " <matplotlib.patches.Polygon at 0x1cb4768a1d0>,\n",
       " <matplotlib.patches.Polygon at 0x1cb4768a470>]"
      ]
     },
     "execution_count": 8,
     "metadata": {},
     "output_type": "execute_result"
    },
    {
     "data": {
      "text/plain": [
       "<matplotlib.collections.LineCollection at 0x1cb4768a6a0>"
      ]
     },
     "execution_count": 8,
     "metadata": {},
     "output_type": "execute_result"
    },
    {
     "data": {
      "text/plain": [
       "<matplotlib.collections.LineCollection at 0x1cb476a8ef0>"
      ]
     },
     "execution_count": 8,
     "metadata": {},
     "output_type": "execute_result"
    },
    {
     "data": {
      "text/plain": [
       "[<matplotlib.lines.Line2D at 0x1cb476a8f60>]"
      ]
     },
     "execution_count": 8,
     "metadata": {},
     "output_type": "execute_result"
    },
    {
     "data": {
      "text/plain": [
       "Text(0.5, 1.0, 'Filtered occurrences for Hippotragus niger')"
      ]
     },
     "execution_count": 8,
     "metadata": {},
     "output_type": "execute_result"
    },
    {
     "data": {
      "text/plain": [
       "<matplotlib.patches.Rectangle at 0x1cb485bb470>"
      ]
     },
     "execution_count": 8,
     "metadata": {},
     "output_type": "execute_result"
    },
    {
     "data": {
      "text/plain": [
       "[<matplotlib.patches.Polygon at 0x1cb478d2be0>,\n",
       " <matplotlib.patches.Polygon at 0x1cb478d2eb8>,\n",
       " <matplotlib.patches.Polygon at 0x1cb47b901d0>,\n",
       " <matplotlib.patches.Polygon at 0x1cb47b90470>,\n",
       " <matplotlib.patches.Polygon at 0x1cb47b90710>,\n",
       " <matplotlib.patches.Polygon at 0x1cb47b909b0>,\n",
       " <matplotlib.patches.Polygon at 0x1cb47b90c50>,\n",
       " <matplotlib.patches.Polygon at 0x1cb47b90ef0>,\n",
       " <matplotlib.patches.Polygon at 0x1cb476be1d0>,\n",
       " <matplotlib.patches.Polygon at 0x1cb476be470>,\n",
       " <matplotlib.patches.Polygon at 0x1cb476be710>,\n",
       " <matplotlib.patches.Polygon at 0x1cb476be9b0>,\n",
       " <matplotlib.patches.Polygon at 0x1cb476bec50>,\n",
       " <matplotlib.patches.Polygon at 0x1cb476beef0>,\n",
       " <matplotlib.patches.Polygon at 0x1cb4750c1d0>,\n",
       " <matplotlib.patches.Polygon at 0x1cb4750c470>,\n",
       " <matplotlib.patches.Polygon at 0x1cb4750c710>,\n",
       " <matplotlib.patches.Polygon at 0x1cb4750c9b0>,\n",
       " <matplotlib.patches.Polygon at 0x1cb4750cc50>,\n",
       " <matplotlib.patches.Polygon at 0x1cb4750cef0>,\n",
       " <matplotlib.patches.Polygon at 0x1cb475a71d0>,\n",
       " <matplotlib.patches.Polygon at 0x1cb475a7470>,\n",
       " <matplotlib.patches.Polygon at 0x1cb475a7710>,\n",
       " <matplotlib.patches.Polygon at 0x1cb475a79b0>,\n",
       " <matplotlib.patches.Polygon at 0x1cb475a7c50>,\n",
       " <matplotlib.patches.Polygon at 0x1cb475a7ef0>,\n",
       " <matplotlib.patches.Polygon at 0x1cb475911d0>,\n",
       " <matplotlib.patches.Polygon at 0x1cb47591470>,\n",
       " <matplotlib.patches.Polygon at 0x1cb47591710>,\n",
       " <matplotlib.patches.Polygon at 0x1cb475919b0>,\n",
       " <matplotlib.patches.Polygon at 0x1cb47591c50>,\n",
       " <matplotlib.patches.Polygon at 0x1cb47591ef0>,\n",
       " <matplotlib.patches.Polygon at 0x1cb479341d0>,\n",
       " <matplotlib.patches.Polygon at 0x1cb47934470>,\n",
       " <matplotlib.patches.Polygon at 0x1cb47934710>,\n",
       " <matplotlib.patches.Polygon at 0x1cb479349b0>,\n",
       " <matplotlib.patches.Polygon at 0x1cb47934c50>,\n",
       " <matplotlib.patches.Polygon at 0x1cb47934ef0>,\n",
       " <matplotlib.patches.Polygon at 0x1cb479401d0>,\n",
       " <matplotlib.patches.Polygon at 0x1cb47940470>,\n",
       " <matplotlib.patches.Polygon at 0x1cb47940710>,\n",
       " <matplotlib.patches.Polygon at 0x1cb479409b0>,\n",
       " <matplotlib.patches.Polygon at 0x1cb47940c50>,\n",
       " <matplotlib.patches.Polygon at 0x1cb47940ef0>,\n",
       " <matplotlib.patches.Polygon at 0x1cb479551d0>,\n",
       " <matplotlib.patches.Polygon at 0x1cb479554a8>,\n",
       " <matplotlib.patches.Polygon at 0x1cb47955710>,\n",
       " <matplotlib.patches.Polygon at 0x1cb479559b0>,\n",
       " <matplotlib.patches.Polygon at 0x1cb47955c88>,\n",
       " <matplotlib.patches.Polygon at 0x1cb47955ef0>,\n",
       " <matplotlib.patches.Polygon at 0x1cb479801d0>,\n",
       " <matplotlib.patches.Polygon at 0x1cb47980470>,\n",
       " <matplotlib.patches.Polygon at 0x1cb47980710>,\n",
       " <matplotlib.patches.Polygon at 0x1cb479809b0>,\n",
       " <matplotlib.patches.Polygon at 0x1cb47980c50>,\n",
       " <matplotlib.patches.Polygon at 0x1cb47980ef0>,\n",
       " <matplotlib.patches.Polygon at 0x1cb479911d0>,\n",
       " <matplotlib.patches.Polygon at 0x1cb47991470>,\n",
       " <matplotlib.patches.Polygon at 0x1cb47991710>,\n",
       " <matplotlib.patches.Polygon at 0x1cb479919b0>,\n",
       " <matplotlib.patches.Polygon at 0x1cb47991c50>,\n",
       " <matplotlib.patches.Polygon at 0x1cb47991ef0>,\n",
       " <matplotlib.patches.Polygon at 0x1cb4799e1d0>,\n",
       " <matplotlib.patches.Polygon at 0x1cb4799e470>,\n",
       " <matplotlib.patches.Polygon at 0x1cb4799e710>,\n",
       " <matplotlib.patches.Polygon at 0x1cb4799e9b0>,\n",
       " <matplotlib.patches.Polygon at 0x1cb4799ec50>,\n",
       " <matplotlib.patches.Polygon at 0x1cb4799eef0>,\n",
       " <matplotlib.patches.Polygon at 0x1cb485331d0>,\n",
       " <matplotlib.patches.Polygon at 0x1cb48533470>,\n",
       " <matplotlib.patches.Polygon at 0x1cb48533710>,\n",
       " <matplotlib.patches.Polygon at 0x1cb485339b0>,\n",
       " <matplotlib.patches.Polygon at 0x1cb48533c50>,\n",
       " <matplotlib.patches.Polygon at 0x1cb48533ef0>,\n",
       " <matplotlib.patches.Polygon at 0x1cb4853b1d0>,\n",
       " <matplotlib.patches.Polygon at 0x1cb4853b470>,\n",
       " <matplotlib.patches.Polygon at 0x1cb4853b710>,\n",
       " <matplotlib.patches.Polygon at 0x1cb4853b9b0>,\n",
       " <matplotlib.patches.Polygon at 0x1cb4853bc50>,\n",
       " <matplotlib.patches.Polygon at 0x1cb4853bef0>,\n",
       " <matplotlib.patches.Polygon at 0x1cb485431d0>,\n",
       " <matplotlib.patches.Polygon at 0x1cb48543470>,\n",
       " <matplotlib.patches.Polygon at 0x1cb48543710>,\n",
       " <matplotlib.patches.Polygon at 0x1cb485439b0>,\n",
       " <matplotlib.patches.Polygon at 0x1cb48543c50>,\n",
       " <matplotlib.patches.Polygon at 0x1cb48543ef0>,\n",
       " <matplotlib.patches.Polygon at 0x1cb4854c1d0>]"
      ]
     },
     "execution_count": 8,
     "metadata": {},
     "output_type": "execute_result"
    },
    {
     "data": {
      "text/plain": [
       "<matplotlib.collections.LineCollection at 0x1cb478d2e80>"
      ]
     },
     "execution_count": 8,
     "metadata": {},
     "output_type": "execute_result"
    },
    {
     "data": {
      "text/plain": [
       "<matplotlib.collections.LineCollection at 0x1cb4854c9b0>"
      ]
     },
     "execution_count": 8,
     "metadata": {},
     "output_type": "execute_result"
    },
    {
     "data": {
      "text/plain": [
       "[<matplotlib.lines.Line2D at 0x1cb47c17748>]"
      ]
     },
     "execution_count": 8,
     "metadata": {},
     "output_type": "execute_result"
    },
    {
     "data": {
      "text/plain": [
       "Text(0.5, 1.0, 'Filtered occurrences for Hydropotes inermis')"
      ]
     },
     "execution_count": 8,
     "metadata": {},
     "output_type": "execute_result"
    },
    {
     "data": {
      "text/plain": [
       "<matplotlib.patches.Rectangle at 0x1cb47645908>"
      ]
     },
     "execution_count": 8,
     "metadata": {},
     "output_type": "execute_result"
    },
    {
     "data": {
      "text/plain": [
       "[<matplotlib.patches.Polygon at 0x1cb47661f28>,\n",
       " <matplotlib.patches.Polygon at 0x1cb47666278>,\n",
       " <matplotlib.patches.Polygon at 0x1cb47666550>,\n",
       " <matplotlib.patches.Polygon at 0x1cb476667f0>,\n",
       " <matplotlib.patches.Polygon at 0x1cb47666a90>,\n",
       " <matplotlib.patches.Polygon at 0x1cb47666d30>,\n",
       " <matplotlib.patches.Polygon at 0x1cb47666fd0>,\n",
       " <matplotlib.patches.Polygon at 0x1cb4855b2b0>,\n",
       " <matplotlib.patches.Polygon at 0x1cb4855b550>,\n",
       " <matplotlib.patches.Polygon at 0x1cb4855b898>,\n",
       " <matplotlib.patches.Polygon at 0x1cb4855bb38>,\n",
       " <matplotlib.patches.Polygon at 0x1cb4855bdd8>,\n",
       " <matplotlib.patches.Polygon at 0x1cb485d40b8>,\n",
       " <matplotlib.patches.Polygon at 0x1cb485d4358>,\n",
       " <matplotlib.patches.Polygon at 0x1cb485d45f8>,\n",
       " <matplotlib.patches.Polygon at 0x1cb485d4898>,\n",
       " <matplotlib.patches.Polygon at 0x1cb485d4b38>,\n",
       " <matplotlib.patches.Polygon at 0x1cb485d4dd8>,\n",
       " <matplotlib.patches.Polygon at 0x1cb4858a0f0>,\n",
       " <matplotlib.patches.Polygon at 0x1cb4858a358>,\n",
       " <matplotlib.patches.Polygon at 0x1cb4858a5f8>,\n",
       " <matplotlib.patches.Polygon at 0x1cb4858a898>,\n",
       " <matplotlib.patches.Polygon at 0x1cb4858ab38>,\n",
       " <matplotlib.patches.Polygon at 0x1cb4858add8>,\n",
       " <matplotlib.patches.Polygon at 0x1cb485750b8>,\n",
       " <matplotlib.patches.Polygon at 0x1cb48575358>,\n",
       " <matplotlib.patches.Polygon at 0x1cb485755f8>,\n",
       " <matplotlib.patches.Polygon at 0x1cb48575898>,\n",
       " <matplotlib.patches.Polygon at 0x1cb48575b38>,\n",
       " <matplotlib.patches.Polygon at 0x1cb48575dd8>,\n",
       " <matplotlib.patches.Polygon at 0x1cb477800b8>,\n",
       " <matplotlib.patches.Polygon at 0x1cb47780358>,\n",
       " <matplotlib.patches.Polygon at 0x1cb47780630>,\n",
       " <matplotlib.patches.Polygon at 0x1cb47780898>,\n",
       " <matplotlib.patches.Polygon at 0x1cb47780b70>,\n",
       " <matplotlib.patches.Polygon at 0x1cb47780dd8>,\n",
       " <matplotlib.patches.Polygon at 0x1cb4779c0b8>,\n",
       " <matplotlib.patches.Polygon at 0x1cb4779c390>,\n",
       " <matplotlib.patches.Polygon at 0x1cb4779c630>,\n",
       " <matplotlib.patches.Polygon at 0x1cb4779c898>,\n",
       " <matplotlib.patches.Polygon at 0x1cb4779cb38>]"
      ]
     },
     "execution_count": 8,
     "metadata": {},
     "output_type": "execute_result"
    },
    {
     "data": {
      "text/plain": [
       "<matplotlib.collections.LineCollection at 0x1cb4779cd68>"
      ]
     },
     "execution_count": 8,
     "metadata": {},
     "output_type": "execute_result"
    },
    {
     "data": {
      "text/plain": [
       "<matplotlib.collections.LineCollection at 0x1cb4798e7b8>"
      ]
     },
     "execution_count": 8,
     "metadata": {},
     "output_type": "execute_result"
    },
    {
     "data": {
      "text/plain": [
       "[<matplotlib.lines.Line2D at 0x1cb4798e710>]"
      ]
     },
     "execution_count": 8,
     "metadata": {},
     "output_type": "execute_result"
    },
    {
     "data": {
      "text/plain": [
       "Text(0.5, 1.0, 'Filtered occurrences for Hyemoschus aquaticus')"
      ]
     },
     "execution_count": 8,
     "metadata": {},
     "output_type": "execute_result"
    },
    {
     "data": {
      "text/plain": [
       "<matplotlib.patches.Rectangle at 0x1cb4765f198>"
      ]
     },
     "execution_count": 8,
     "metadata": {},
     "output_type": "execute_result"
    },
    {
     "data": {
      "text/plain": [
       "[<matplotlib.patches.Polygon at 0x1cb485bd7b8>,\n",
       " <matplotlib.patches.Polygon at 0x1cb485bdbe0>,\n",
       " <matplotlib.patches.Polygon at 0x1cb485bdeb8>,\n",
       " <matplotlib.patches.Polygon at 0x1cb47b9d198>,\n",
       " <matplotlib.patches.Polygon at 0x1cb47b9d438>,\n",
       " <matplotlib.patches.Polygon at 0x1cb47b9d6d8>,\n",
       " <matplotlib.patches.Polygon at 0x1cb47b9d978>,\n",
       " <matplotlib.patches.Polygon at 0x1cb47b9dc18>,\n",
       " <matplotlib.patches.Polygon at 0x1cb47b9deb8>,\n",
       " <matplotlib.patches.Polygon at 0x1cb485c6198>,\n",
       " <matplotlib.patches.Polygon at 0x1cb485c6438>,\n",
       " <matplotlib.patches.Polygon at 0x1cb485c66d8>,\n",
       " <matplotlib.patches.Polygon at 0x1cb485c6978>,\n",
       " <matplotlib.patches.Polygon at 0x1cb485c6c18>,\n",
       " <matplotlib.patches.Polygon at 0x1cb485c6eb8>,\n",
       " <matplotlib.patches.Polygon at 0x1cb475a2198>,\n",
       " <matplotlib.patches.Polygon at 0x1cb475a2438>,\n",
       " <matplotlib.patches.Polygon at 0x1cb475a26d8>,\n",
       " <matplotlib.patches.Polygon at 0x1cb475a2978>,\n",
       " <matplotlib.patches.Polygon at 0x1cb475a2c18>,\n",
       " <matplotlib.patches.Polygon at 0x1cb475a2eb8>,\n",
       " <matplotlib.patches.Polygon at 0x1cb47571198>,\n",
       " <matplotlib.patches.Polygon at 0x1cb47571438>,\n",
       " <matplotlib.patches.Polygon at 0x1cb475716d8>,\n",
       " <matplotlib.patches.Polygon at 0x1cb47571978>,\n",
       " <matplotlib.patches.Polygon at 0x1cb47571c18>,\n",
       " <matplotlib.patches.Polygon at 0x1cb47571eb8>,\n",
       " <matplotlib.patches.Polygon at 0x1cb47587198>,\n",
       " <matplotlib.patches.Polygon at 0x1cb47587438>,\n",
       " <matplotlib.patches.Polygon at 0x1cb475876d8>,\n",
       " <matplotlib.patches.Polygon at 0x1cb47587978>,\n",
       " <matplotlib.patches.Polygon at 0x1cb47587c18>,\n",
       " <matplotlib.patches.Polygon at 0x1cb47587eb8>,\n",
       " <matplotlib.patches.Polygon at 0x1cb4789d198>,\n",
       " <matplotlib.patches.Polygon at 0x1cb4789d470>,\n",
       " <matplotlib.patches.Polygon at 0x1cb4789d6d8>,\n",
       " <matplotlib.patches.Polygon at 0x1cb4789d978>,\n",
       " <matplotlib.patches.Polygon at 0x1cb4789dc18>,\n",
       " <matplotlib.patches.Polygon at 0x1cb4789deb8>,\n",
       " <matplotlib.patches.Polygon at 0x1cb4787b198>,\n",
       " <matplotlib.patches.Polygon at 0x1cb4787b438>,\n",
       " <matplotlib.patches.Polygon at 0x1cb4787b6d8>,\n",
       " <matplotlib.patches.Polygon at 0x1cb4787b978>,\n",
       " <matplotlib.patches.Polygon at 0x1cb4787bc18>,\n",
       " <matplotlib.patches.Polygon at 0x1cb4787beb8>,\n",
       " <matplotlib.patches.Polygon at 0x1cb4788b198>,\n",
       " <matplotlib.patches.Polygon at 0x1cb4788b438>,\n",
       " <matplotlib.patches.Polygon at 0x1cb4788b6d8>,\n",
       " <matplotlib.patches.Polygon at 0x1cb4788b978>,\n",
       " <matplotlib.patches.Polygon at 0x1cb4788bc18>,\n",
       " <matplotlib.patches.Polygon at 0x1cb4788beb8>,\n",
       " <matplotlib.patches.Polygon at 0x1cb4794d198>,\n",
       " <matplotlib.patches.Polygon at 0x1cb4794d470>,\n",
       " <matplotlib.patches.Polygon at 0x1cb4794d6d8>,\n",
       " <matplotlib.patches.Polygon at 0x1cb4794d978>,\n",
       " <matplotlib.patches.Polygon at 0x1cb4794dc50>,\n",
       " <matplotlib.patches.Polygon at 0x1cb4794deb8>,\n",
       " <matplotlib.patches.Polygon at 0x1cb47967198>,\n",
       " <matplotlib.patches.Polygon at 0x1cb47967470>,\n",
       " <matplotlib.patches.Polygon at 0x1cb47967710>,\n",
       " <matplotlib.patches.Polygon at 0x1cb47967978>,\n",
       " <matplotlib.patches.Polygon at 0x1cb47967c18>]"
      ]
     },
     "execution_count": 8,
     "metadata": {},
     "output_type": "execute_result"
    },
    {
     "data": {
      "text/plain": [
       "<matplotlib.collections.LineCollection at 0x1cb47967cf8>"
      ]
     },
     "execution_count": 8,
     "metadata": {},
     "output_type": "execute_result"
    },
    {
     "data": {
      "text/plain": [
       "<matplotlib.collections.LineCollection at 0x1cb47967e10>"
      ]
     },
     "execution_count": 8,
     "metadata": {},
     "output_type": "execute_result"
    },
    {
     "data": {
      "text/plain": [
       "[<matplotlib.lines.Line2D at 0x1cb477c13c8>]"
      ]
     },
     "execution_count": 8,
     "metadata": {},
     "output_type": "execute_result"
    },
    {
     "data": {
      "text/plain": [
       "Text(0.5, 1.0, 'Filtered occurrences for Hylochoerus meinertzhageni')"
      ]
     },
     "execution_count": 8,
     "metadata": {},
     "output_type": "execute_result"
    },
    {
     "data": {
      "text/plain": [
       "<matplotlib.patches.Rectangle at 0x1cb485d27b8>"
      ]
     },
     "execution_count": 8,
     "metadata": {},
     "output_type": "execute_result"
    },
    {
     "data": {
      "text/plain": [
       "[<matplotlib.patches.Polygon at 0x1cb48553dd8>,\n",
       " <matplotlib.patches.Polygon at 0x1cb47595240>,\n",
       " <matplotlib.patches.Polygon at 0x1cb47595518>,\n",
       " <matplotlib.patches.Polygon at 0x1cb47595780>,\n",
       " <matplotlib.patches.Polygon at 0x1cb47595a20>,\n",
       " <matplotlib.patches.Polygon at 0x1cb47595cc0>,\n",
       " <matplotlib.patches.Polygon at 0x1cb47595f60>,\n",
       " <matplotlib.patches.Polygon at 0x1cb4a618240>,\n",
       " <matplotlib.patches.Polygon at 0x1cb4a6184e0>,\n",
       " <matplotlib.patches.Polygon at 0x1cb4a618780>,\n",
       " <matplotlib.patches.Polygon at 0x1cb4a618a20>,\n",
       " <matplotlib.patches.Polygon at 0x1cb4a618cc0>,\n",
       " <matplotlib.patches.Polygon at 0x1cb4a618f60>,\n",
       " <matplotlib.patches.Polygon at 0x1cb4757c240>,\n",
       " <matplotlib.patches.Polygon at 0x1cb4757c4e0>,\n",
       " <matplotlib.patches.Polygon at 0x1cb4757c780>,\n",
       " <matplotlib.patches.Polygon at 0x1cb4757ca20>,\n",
       " <matplotlib.patches.Polygon at 0x1cb4757ccc0>,\n",
       " <matplotlib.patches.Polygon at 0x1cb4757cf60>,\n",
       " <matplotlib.patches.Polygon at 0x1cb475a9240>,\n",
       " <matplotlib.patches.Polygon at 0x1cb475a94e0>,\n",
       " <matplotlib.patches.Polygon at 0x1cb475a9780>,\n",
       " <matplotlib.patches.Polygon at 0x1cb475a9a20>,\n",
       " <matplotlib.patches.Polygon at 0x1cb475a9cc0>,\n",
       " <matplotlib.patches.Polygon at 0x1cb475a9f60>,\n",
       " <matplotlib.patches.Polygon at 0x1cb48635240>,\n",
       " <matplotlib.patches.Polygon at 0x1cb486354e0>,\n",
       " <matplotlib.patches.Polygon at 0x1cb486357b8>,\n",
       " <matplotlib.patches.Polygon at 0x1cb48635a20>,\n",
       " <matplotlib.patches.Polygon at 0x1cb48635cc0>,\n",
       " <matplotlib.patches.Polygon at 0x1cb48635f60>,\n",
       " <matplotlib.patches.Polygon at 0x1cb4864b240>,\n",
       " <matplotlib.patches.Polygon at 0x1cb4864b4e0>,\n",
       " <matplotlib.patches.Polygon at 0x1cb4864b780>,\n",
       " <matplotlib.patches.Polygon at 0x1cb4864ba20>,\n",
       " <matplotlib.patches.Polygon at 0x1cb4864bcc0>,\n",
       " <matplotlib.patches.Polygon at 0x1cb4864bf60>,\n",
       " <matplotlib.patches.Polygon at 0x1cb47915240>,\n",
       " <matplotlib.patches.Polygon at 0x1cb479154e0>,\n",
       " <matplotlib.patches.Polygon at 0x1cb47915780>,\n",
       " <matplotlib.patches.Polygon at 0x1cb47915a20>,\n",
       " <matplotlib.patches.Polygon at 0x1cb47915cc0>,\n",
       " <matplotlib.patches.Polygon at 0x1cb47915f98>,\n",
       " <matplotlib.patches.Polygon at 0x1cb478f6240>,\n",
       " <matplotlib.patches.Polygon at 0x1cb478f6518>,\n",
       " <matplotlib.patches.Polygon at 0x1cb478f6780>,\n",
       " <matplotlib.patches.Polygon at 0x1cb478f6a20>,\n",
       " <matplotlib.patches.Polygon at 0x1cb478f6cf8>,\n",
       " <matplotlib.patches.Polygon at 0x1cb478f6f98>,\n",
       " <matplotlib.patches.Polygon at 0x1cb47910240>,\n",
       " <matplotlib.patches.Polygon at 0x1cb479104e0>]"
      ]
     },
     "execution_count": 8,
     "metadata": {},
     "output_type": "execute_result"
    },
    {
     "data": {
      "text/plain": [
       "<matplotlib.collections.LineCollection at 0x1cb47910908>"
      ]
     },
     "execution_count": 8,
     "metadata": {},
     "output_type": "execute_result"
    },
    {
     "data": {
      "text/plain": [
       "<matplotlib.collections.LineCollection at 0x1cb479105c0>"
      ]
     },
     "execution_count": 8,
     "metadata": {},
     "output_type": "execute_result"
    },
    {
     "data": {
      "text/plain": [
       "[<matplotlib.lines.Line2D at 0x1cb486e77b8>]"
      ]
     },
     "execution_count": 8,
     "metadata": {},
     "output_type": "execute_result"
    },
    {
     "data": {
      "text/plain": [
       "Text(0.5, 1.0, 'Filtered occurrences for Kobus ellipsiprymnus')"
      ]
     },
     "execution_count": 8,
     "metadata": {},
     "output_type": "execute_result"
    },
    {
     "data": {
      "text/plain": [
       "<matplotlib.patches.Rectangle at 0x1cb4b5f13c8>"
      ]
     },
     "execution_count": 8,
     "metadata": {},
     "output_type": "execute_result"
    },
    {
     "data": {
      "text/plain": [
       "[<matplotlib.patches.Polygon at 0x1cb4b5fd9e8>,\n",
       " <matplotlib.patches.Polygon at 0x1cb4b5fdcf8>,\n",
       " <matplotlib.patches.Polygon at 0x1cb4b5fdfd0>,\n",
       " <matplotlib.patches.Polygon at 0x1cb4b5822b0>,\n",
       " <matplotlib.patches.Polygon at 0x1cb4b582630>,\n",
       " <matplotlib.patches.Polygon at 0x1cb4b5828d0>,\n",
       " <matplotlib.patches.Polygon at 0x1cb4b582b70>,\n",
       " <matplotlib.patches.Polygon at 0x1cb4b582e10>,\n",
       " <matplotlib.patches.Polygon at 0x1cb486940f0>,\n",
       " <matplotlib.patches.Polygon at 0x1cb48694390>,\n",
       " <matplotlib.patches.Polygon at 0x1cb48694630>,\n",
       " <matplotlib.patches.Polygon at 0x1cb486948d0>,\n",
       " <matplotlib.patches.Polygon at 0x1cb48694b70>,\n",
       " <matplotlib.patches.Polygon at 0x1cb48694e10>,\n",
       " <matplotlib.patches.Polygon at 0x1cb486a60f0>,\n",
       " <matplotlib.patches.Polygon at 0x1cb486a6390>,\n",
       " <matplotlib.patches.Polygon at 0x1cb486a6630>,\n",
       " <matplotlib.patches.Polygon at 0x1cb486a6908>,\n",
       " <matplotlib.patches.Polygon at 0x1cb486a6b70>,\n",
       " <matplotlib.patches.Polygon at 0x1cb486a6e10>,\n",
       " <matplotlib.patches.Polygon at 0x1cb487150f0>,\n",
       " <matplotlib.patches.Polygon at 0x1cb48715390>,\n",
       " <matplotlib.patches.Polygon at 0x1cb48715630>,\n",
       " <matplotlib.patches.Polygon at 0x1cb487158d0>,\n",
       " <matplotlib.patches.Polygon at 0x1cb48715b70>,\n",
       " <matplotlib.patches.Polygon at 0x1cb48715e10>,\n",
       " <matplotlib.patches.Polygon at 0x1cb4872c0f0>,\n",
       " <matplotlib.patches.Polygon at 0x1cb4872c390>,\n",
       " <matplotlib.patches.Polygon at 0x1cb4872c630>,\n",
       " <matplotlib.patches.Polygon at 0x1cb4872c8d0>,\n",
       " <matplotlib.patches.Polygon at 0x1cb4872cb70>,\n",
       " <matplotlib.patches.Polygon at 0x1cb4872ce10>,\n",
       " <matplotlib.patches.Polygon at 0x1cb4873d0f0>,\n",
       " <matplotlib.patches.Polygon at 0x1cb4873d390>,\n",
       " <matplotlib.patches.Polygon at 0x1cb4873d668>,\n",
       " <matplotlib.patches.Polygon at 0x1cb4873d8d0>,\n",
       " <matplotlib.patches.Polygon at 0x1cb4873db70>,\n",
       " <matplotlib.patches.Polygon at 0x1cb4873de10>,\n",
       " <matplotlib.patches.Polygon at 0x1cb4b5630f0>,\n",
       " <matplotlib.patches.Polygon at 0x1cb4b563390>,\n",
       " <matplotlib.patches.Polygon at 0x1cb4b563630>,\n",
       " <matplotlib.patches.Polygon at 0x1cb4b5638d0>,\n",
       " <matplotlib.patches.Polygon at 0x1cb4b563b70>,\n",
       " <matplotlib.patches.Polygon at 0x1cb4b563e10>,\n",
       " <matplotlib.patches.Polygon at 0x1cb4b5720f0>,\n",
       " <matplotlib.patches.Polygon at 0x1cb4b572390>,\n",
       " <matplotlib.patches.Polygon at 0x1cb4b572630>,\n",
       " <matplotlib.patches.Polygon at 0x1cb4b5728d0>,\n",
       " <matplotlib.patches.Polygon at 0x1cb4b572b70>,\n",
       " <matplotlib.patches.Polygon at 0x1cb4b572e48>,\n",
       " <matplotlib.patches.Polygon at 0x1cb4b54e0f0>,\n",
       " <matplotlib.patches.Polygon at 0x1cb4b54e3c8>,\n",
       " <matplotlib.patches.Polygon at 0x1cb4b54e630>,\n",
       " <matplotlib.patches.Polygon at 0x1cb4b54e8d0>,\n",
       " <matplotlib.patches.Polygon at 0x1cb4b54eba8>,\n",
       " <matplotlib.patches.Polygon at 0x1cb4b54ee48>,\n",
       " <matplotlib.patches.Polygon at 0x1cb4b55c0f0>,\n",
       " <matplotlib.patches.Polygon at 0x1cb4b55c390>]"
      ]
     },
     "execution_count": 8,
     "metadata": {},
     "output_type": "execute_result"
    },
    {
     "data": {
      "text/plain": [
       "<matplotlib.collections.LineCollection at 0x1cb4b55cc50>"
      ]
     },
     "execution_count": 8,
     "metadata": {},
     "output_type": "execute_result"
    },
    {
     "data": {
      "text/plain": [
       "<matplotlib.collections.LineCollection at 0x1cb4a5d6160>"
      ]
     },
     "execution_count": 8,
     "metadata": {},
     "output_type": "execute_result"
    },
    {
     "data": {
      "text/plain": [
       "[<matplotlib.lines.Line2D at 0x1cb4a5d6080>]"
      ]
     },
     "execution_count": 8,
     "metadata": {},
     "output_type": "execute_result"
    },
    {
     "data": {
      "text/plain": [
       "Text(0.5, 1.0, 'Filtered occurrences for Kobus kob')"
      ]
     },
     "execution_count": 8,
     "metadata": {},
     "output_type": "execute_result"
    },
    {
     "data": {
      "text/plain": [
       "<matplotlib.patches.Rectangle at 0x1cb485fe7f0>"
      ]
     },
     "execution_count": 8,
     "metadata": {},
     "output_type": "execute_result"
    },
    {
     "data": {
      "text/plain": [
       "[<matplotlib.patches.Polygon at 0x1cb4785a400>,\n",
       " <matplotlib.patches.Polygon at 0x1cb4785a710>,\n",
       " <matplotlib.patches.Polygon at 0x1cb4785aac8>,\n",
       " <matplotlib.patches.Polygon at 0x1cb4785ad68>,\n",
       " <matplotlib.patches.Polygon at 0x1cb4785afd0>,\n",
       " <matplotlib.patches.Polygon at 0x1cb478682e8>,\n",
       " <matplotlib.patches.Polygon at 0x1cb47868588>,\n",
       " <matplotlib.patches.Polygon at 0x1cb47868828>,\n",
       " <matplotlib.patches.Polygon at 0x1cb47868ac8>,\n",
       " <matplotlib.patches.Polygon at 0x1cb47868d68>,\n",
       " <matplotlib.patches.Polygon at 0x1cb47868fd0>,\n",
       " <matplotlib.patches.Polygon at 0x1cb485af2e8>,\n",
       " <matplotlib.patches.Polygon at 0x1cb485af588>,\n",
       " <matplotlib.patches.Polygon at 0x1cb485af828>,\n",
       " <matplotlib.patches.Polygon at 0x1cb485afac8>,\n",
       " <matplotlib.patches.Polygon at 0x1cb485afd30>,\n",
       " <matplotlib.patches.Polygon at 0x1cb485affd0>,\n",
       " <matplotlib.patches.Polygon at 0x1cb4859a2b0>,\n",
       " <matplotlib.patches.Polygon at 0x1cb4859a550>,\n",
       " <matplotlib.patches.Polygon at 0x1cb4859a7f0>,\n",
       " <matplotlib.patches.Polygon at 0x1cb4859aa90>,\n",
       " <matplotlib.patches.Polygon at 0x1cb4859ad30>,\n",
       " <matplotlib.patches.Polygon at 0x1cb4859afd0>,\n",
       " <matplotlib.patches.Polygon at 0x1cb485d02b0>,\n",
       " <matplotlib.patches.Polygon at 0x1cb485d0588>,\n",
       " <matplotlib.patches.Polygon at 0x1cb485d07f0>,\n",
       " <matplotlib.patches.Polygon at 0x1cb485d0a90>,\n",
       " <matplotlib.patches.Polygon at 0x1cb485d0d30>,\n",
       " <matplotlib.patches.Polygon at 0x1cb485d0fd0>,\n",
       " <matplotlib.patches.Polygon at 0x1cb485ff2b0>,\n",
       " <matplotlib.patches.Polygon at 0x1cb485ff550>,\n",
       " <matplotlib.patches.Polygon at 0x1cb485ff7f0>,\n",
       " <matplotlib.patches.Polygon at 0x1cb485ffa90>,\n",
       " <matplotlib.patches.Polygon at 0x1cb485ffd30>,\n",
       " <matplotlib.patches.Polygon at 0x1cb485fffd0>,\n",
       " <matplotlib.patches.Polygon at 0x1cb4a9e72b0>,\n",
       " <matplotlib.patches.Polygon at 0x1cb4a9e7550>,\n",
       " <matplotlib.patches.Polygon at 0x1cb4a9e7828>,\n",
       " <matplotlib.patches.Polygon at 0x1cb4a9e7a90>,\n",
       " <matplotlib.patches.Polygon at 0x1cb4a9e7d30>,\n",
       " <matplotlib.patches.Polygon at 0x1cb4a9e7fd0>,\n",
       " <matplotlib.patches.Polygon at 0x1cb4a67d2b0>,\n",
       " <matplotlib.patches.Polygon at 0x1cb4a67d550>]"
      ]
     },
     "execution_count": 8,
     "metadata": {},
     "output_type": "execute_result"
    },
    {
     "data": {
      "text/plain": [
       "<matplotlib.collections.LineCollection at 0x1cb4a67d780>"
      ]
     },
     "execution_count": 8,
     "metadata": {},
     "output_type": "execute_result"
    },
    {
     "data": {
      "text/plain": [
       "<matplotlib.collections.LineCollection at 0x1cb4a67dbe0>"
      ]
     },
     "execution_count": 8,
     "metadata": {},
     "output_type": "execute_result"
    },
    {
     "data": {
      "text/plain": [
       "[<matplotlib.lines.Line2D at 0x1cb4a676e10>]"
      ]
     },
     "execution_count": 8,
     "metadata": {},
     "output_type": "execute_result"
    },
    {
     "data": {
      "text/plain": [
       "Text(0.5, 1.0, 'Filtered occurrences for Kobus leche')"
      ]
     },
     "execution_count": 8,
     "metadata": {},
     "output_type": "execute_result"
    },
    {
     "data": {
      "text/plain": [
       "<matplotlib.patches.Rectangle at 0x1cb48658240>"
      ]
     },
     "execution_count": 8,
     "metadata": {},
     "output_type": "execute_result"
    },
    {
     "data": {
      "text/plain": [
       "[<matplotlib.patches.Polygon at 0x1cb485a8828>,\n",
       " <matplotlib.patches.Polygon at 0x1cb485a8b70>,\n",
       " <matplotlib.patches.Polygon at 0x1cb485a8f28>,\n",
       " <matplotlib.patches.Polygon at 0x1cb485f8208>,\n",
       " <matplotlib.patches.Polygon at 0x1cb485f84a8>,\n",
       " <matplotlib.patches.Polygon at 0x1cb485f8748>,\n",
       " <matplotlib.patches.Polygon at 0x1cb485a8cf8>,\n",
       " <matplotlib.patches.Polygon at 0x1cb485f8c50>,\n",
       " <matplotlib.patches.Polygon at 0x1cb485f8ef0>,\n",
       " <matplotlib.patches.Polygon at 0x1cb485eb1d0>,\n",
       " <matplotlib.patches.Polygon at 0x1cb485eb470>,\n",
       " <matplotlib.patches.Polygon at 0x1cb485eb710>,\n",
       " <matplotlib.patches.Polygon at 0x1cb485eb9b0>,\n",
       " <matplotlib.patches.Polygon at 0x1cb485ebc50>,\n",
       " <matplotlib.patches.Polygon at 0x1cb485ebef0>,\n",
       " <matplotlib.patches.Polygon at 0x1cb4a6631d0>,\n",
       " <matplotlib.patches.Polygon at 0x1cb4a663470>,\n",
       " <matplotlib.patches.Polygon at 0x1cb4a663710>,\n",
       " <matplotlib.patches.Polygon at 0x1cb4a6639b0>,\n",
       " <matplotlib.patches.Polygon at 0x1cb4a663c50>,\n",
       " <matplotlib.patches.Polygon at 0x1cb4a663ef0>,\n",
       " <matplotlib.patches.Polygon at 0x1cb4a99b1d0>,\n",
       " <matplotlib.patches.Polygon at 0x1cb4a99b470>,\n",
       " <matplotlib.patches.Polygon at 0x1cb4a99b710>,\n",
       " <matplotlib.patches.Polygon at 0x1cb4a99b9b0>,\n",
       " <matplotlib.patches.Polygon at 0x1cb4a99bc50>,\n",
       " <matplotlib.patches.Polygon at 0x1cb4a99bef0>,\n",
       " <matplotlib.patches.Polygon at 0x1cb4a9a31d0>,\n",
       " <matplotlib.patches.Polygon at 0x1cb4a9a3470>,\n",
       " <matplotlib.patches.Polygon at 0x1cb4a9a3710>,\n",
       " <matplotlib.patches.Polygon at 0x1cb4a9a39b0>,\n",
       " <matplotlib.patches.Polygon at 0x1cb4a9a3c50>,\n",
       " <matplotlib.patches.Polygon at 0x1cb4a9a3ef0>,\n",
       " <matplotlib.patches.Polygon at 0x1cb47bc51d0>,\n",
       " <matplotlib.patches.Polygon at 0x1cb47bc5470>,\n",
       " <matplotlib.patches.Polygon at 0x1cb47bc5710>,\n",
       " <matplotlib.patches.Polygon at 0x1cb47bc59b0>,\n",
       " <matplotlib.patches.Polygon at 0x1cb47bc5c50>,\n",
       " <matplotlib.patches.Polygon at 0x1cb47bc5ef0>,\n",
       " <matplotlib.patches.Polygon at 0x1cb47bb71d0>,\n",
       " <matplotlib.patches.Polygon at 0x1cb47bb7470>,\n",
       " <matplotlib.patches.Polygon at 0x1cb47bb7710>,\n",
       " <matplotlib.patches.Polygon at 0x1cb47bb79e8>,\n",
       " <matplotlib.patches.Polygon at 0x1cb47bb7c50>,\n",
       " <matplotlib.patches.Polygon at 0x1cb47bb7ef0>,\n",
       " <matplotlib.patches.Polygon at 0x1cb4b3aa1d0>,\n",
       " <matplotlib.patches.Polygon at 0x1cb4b3aa470>,\n",
       " <matplotlib.patches.Polygon at 0x1cb4b3aa710>,\n",
       " <matplotlib.patches.Polygon at 0x1cb4b3aa9b0>,\n",
       " <matplotlib.patches.Polygon at 0x1cb4b3aac50>,\n",
       " <matplotlib.patches.Polygon at 0x1cb4b3aaef0>,\n",
       " <matplotlib.patches.Polygon at 0x1cb4b3ba1d0>,\n",
       " <matplotlib.patches.Polygon at 0x1cb4b3ba470>,\n",
       " <matplotlib.patches.Polygon at 0x1cb4b3ba710>,\n",
       " <matplotlib.patches.Polygon at 0x1cb4b3ba9b0>,\n",
       " <matplotlib.patches.Polygon at 0x1cb4b3bac50>,\n",
       " <matplotlib.patches.Polygon at 0x1cb4b3baef0>,\n",
       " <matplotlib.patches.Polygon at 0x1cb2e6451d0>,\n",
       " <matplotlib.patches.Polygon at 0x1cb2e645470>,\n",
       " <matplotlib.patches.Polygon at 0x1cb2e645710>,\n",
       " <matplotlib.patches.Polygon at 0x1cb2e6459e8>,\n",
       " <matplotlib.patches.Polygon at 0x1cb2e645c50>,\n",
       " <matplotlib.patches.Polygon at 0x1cb2e645ef0>,\n",
       " <matplotlib.patches.Polygon at 0x1cb2e663208>,\n",
       " <matplotlib.patches.Polygon at 0x1cb2e663470>,\n",
       " <matplotlib.patches.Polygon at 0x1cb2e663710>,\n",
       " <matplotlib.patches.Polygon at 0x1cb2e6639e8>,\n",
       " <matplotlib.patches.Polygon at 0x1cb2e663c50>,\n",
       " <matplotlib.patches.Polygon at 0x1cb2e663ef0>]"
      ]
     },
     "execution_count": 8,
     "metadata": {},
     "output_type": "execute_result"
    },
    {
     "data": {
      "text/plain": [
       "<matplotlib.collections.LineCollection at 0x1cb2e663fd0>"
      ]
     },
     "execution_count": 8,
     "metadata": {},
     "output_type": "execute_result"
    },
    {
     "data": {
      "text/plain": [
       "<matplotlib.collections.LineCollection at 0x1cb47864048>"
      ]
     },
     "execution_count": 8,
     "metadata": {},
     "output_type": "execute_result"
    },
    {
     "data": {
      "text/plain": [
       "[<matplotlib.lines.Line2D at 0x1cb4b5b1f60>]"
      ]
     },
     "execution_count": 8,
     "metadata": {},
     "output_type": "execute_result"
    },
    {
     "data": {
      "text/plain": [
       "Text(0.5, 1.0, 'Filtered occurrences for Kobus megaceros')"
      ]
     },
     "execution_count": 8,
     "metadata": {},
     "output_type": "execute_result"
    },
    {
     "data": {
      "text/plain": [
       "<matplotlib.patches.Rectangle at 0x1cb4786dcf8>"
      ]
     },
     "execution_count": 8,
     "metadata": {},
     "output_type": "execute_result"
    },
    {
     "data": {
      "text/plain": [
       "[<matplotlib.patches.Polygon at 0x1cb47860358>,\n",
       " <matplotlib.patches.Polygon at 0x1cb47860668>,\n",
       " <matplotlib.patches.Polygon at 0x1cb47860940>,\n",
       " <matplotlib.patches.Polygon at 0x1cb47860c88>,\n",
       " <matplotlib.patches.Polygon at 0x1cb47860f28>,\n",
       " <matplotlib.patches.Polygon at 0x1cb4b4e8208>,\n",
       " <matplotlib.patches.Polygon at 0x1cb4b4e84a8>,\n",
       " <matplotlib.patches.Polygon at 0x1cb4b4e8748>,\n",
       " <matplotlib.patches.Polygon at 0x1cb4b4e89e8>,\n",
       " <matplotlib.patches.Polygon at 0x1cb4b4e8c88>,\n",
       " <matplotlib.patches.Polygon at 0x1cb4b4e8f28>,\n",
       " <matplotlib.patches.Polygon at 0x1cb4a9ca208>,\n",
       " <matplotlib.patches.Polygon at 0x1cb4a9ca4a8>,\n",
       " <matplotlib.patches.Polygon at 0x1cb4a9ca748>,\n",
       " <matplotlib.patches.Polygon at 0x1cb4a9ca9e8>,\n",
       " <matplotlib.patches.Polygon at 0x1cb4a9cac88>,\n",
       " <matplotlib.patches.Polygon at 0x1cb4a9caf28>,\n",
       " <matplotlib.patches.Polygon at 0x1cb4b593208>,\n",
       " <matplotlib.patches.Polygon at 0x1cb4b5934a8>,\n",
       " <matplotlib.patches.Polygon at 0x1cb4b593748>,\n",
       " <matplotlib.patches.Polygon at 0x1cb4b5939e8>,\n",
       " <matplotlib.patches.Polygon at 0x1cb4b593c88>,\n",
       " <matplotlib.patches.Polygon at 0x1cb4b593f28>,\n",
       " <matplotlib.patches.Polygon at 0x1cb4b59e208>,\n",
       " <matplotlib.patches.Polygon at 0x1cb4b59e4e0>,\n",
       " <matplotlib.patches.Polygon at 0x1cb4b59e748>,\n",
       " <matplotlib.patches.Polygon at 0x1cb4b59e9e8>,\n",
       " <matplotlib.patches.Polygon at 0x1cb4b59ec88>,\n",
       " <matplotlib.patches.Polygon at 0x1cb4b59ef28>,\n",
       " <matplotlib.patches.Polygon at 0x1cb4b5b5208>,\n",
       " <matplotlib.patches.Polygon at 0x1cb4b5b54a8>,\n",
       " <matplotlib.patches.Polygon at 0x1cb4b5b5748>,\n",
       " <matplotlib.patches.Polygon at 0x1cb4b5b59e8>,\n",
       " <matplotlib.patches.Polygon at 0x1cb4b5b5c88>,\n",
       " <matplotlib.patches.Polygon at 0x1cb4b5b5f28>,\n",
       " <matplotlib.patches.Polygon at 0x1cb4b368208>,\n",
       " <matplotlib.patches.Polygon at 0x1cb4b3684e0>,\n",
       " <matplotlib.patches.Polygon at 0x1cb4b368748>,\n",
       " <matplotlib.patches.Polygon at 0x1cb4b368a20>,\n",
       " <matplotlib.patches.Polygon at 0x1cb4b368c88>,\n",
       " <matplotlib.patches.Polygon at 0x1cb4b368f28>,\n",
       " <matplotlib.patches.Polygon at 0x1cb4b37f240>,\n",
       " <matplotlib.patches.Polygon at 0x1cb4b37f4a8>]"
      ]
     },
     "execution_count": 8,
     "metadata": {},
     "output_type": "execute_result"
    },
    {
     "data": {
      "text/plain": [
       "<matplotlib.collections.LineCollection at 0x1cb4b37f5f8>"
      ]
     },
     "execution_count": 8,
     "metadata": {},
     "output_type": "execute_result"
    },
    {
     "data": {
      "text/plain": [
       "<matplotlib.collections.LineCollection at 0x1cb4b39ef60>"
      ]
     },
     "execution_count": 8,
     "metadata": {},
     "output_type": "execute_result"
    },
    {
     "data": {
      "text/plain": [
       "[<matplotlib.lines.Line2D at 0x1cb47860978>]"
      ]
     },
     "execution_count": 8,
     "metadata": {},
     "output_type": "execute_result"
    },
    {
     "data": {
      "text/plain": [
       "Text(0.5, 1.0, 'Filtered occurrences for Kobus vardonii')"
      ]
     },
     "execution_count": 8,
     "metadata": {},
     "output_type": "execute_result"
    },
    {
     "data": {
      "text/plain": [
       "<matplotlib.patches.Rectangle at 0x1cb4bc0d860>"
      ]
     },
     "execution_count": 8,
     "metadata": {},
     "output_type": "execute_result"
    },
    {
     "data": {
      "text/plain": [
       "[<matplotlib.patches.Polygon at 0x1cb4b3bce80>,\n",
       " <matplotlib.patches.Polygon at 0x1cb4a9b11d0>,\n",
       " <matplotlib.patches.Polygon at 0x1cb4a9b14a8>,\n",
       " <matplotlib.patches.Polygon at 0x1cb4a9b17f0>,\n",
       " <matplotlib.patches.Polygon at 0x1cb4a9b1a90>,\n",
       " <matplotlib.patches.Polygon at 0x1cb4a9b1d30>,\n",
       " <matplotlib.patches.Polygon at 0x1cb4a9b1fd0>,\n",
       " <matplotlib.patches.Polygon at 0x1cb4a9c52b0>,\n",
       " <matplotlib.patches.Polygon at 0x1cb4a9c5550>,\n",
       " <matplotlib.patches.Polygon at 0x1cb4a9c57f0>,\n",
       " <matplotlib.patches.Polygon at 0x1cb4a9c5a90>,\n",
       " <matplotlib.patches.Polygon at 0x1cb4a9c5d30>,\n",
       " <matplotlib.patches.Polygon at 0x1cb4a9c5fd0>,\n",
       " <matplotlib.patches.Polygon at 0x1cb4b3db2b0>,\n",
       " <matplotlib.patches.Polygon at 0x1cb4b3db550>,\n",
       " <matplotlib.patches.Polygon at 0x1cb4b3db7f0>,\n",
       " <matplotlib.patches.Polygon at 0x1cb4b3dba90>,\n",
       " <matplotlib.patches.Polygon at 0x1cb4b3dbd30>,\n",
       " <matplotlib.patches.Polygon at 0x1cb4b3dbfd0>,\n",
       " <matplotlib.patches.Polygon at 0x1cb4b3f62b0>,\n",
       " <matplotlib.patches.Polygon at 0x1cb4b3f6550>,\n",
       " <matplotlib.patches.Polygon at 0x1cb4b3f67f0>,\n",
       " <matplotlib.patches.Polygon at 0x1cb4b3f6a90>,\n",
       " <matplotlib.patches.Polygon at 0x1cb4b3f6d30>,\n",
       " <matplotlib.patches.Polygon at 0x1cb4b3f6fd0>,\n",
       " <matplotlib.patches.Polygon at 0x1cb4b3e22b0>,\n",
       " <matplotlib.patches.Polygon at 0x1cb4b3e2588>,\n",
       " <matplotlib.patches.Polygon at 0x1cb4b3e27f0>,\n",
       " <matplotlib.patches.Polygon at 0x1cb4b3e2a90>,\n",
       " <matplotlib.patches.Polygon at 0x1cb4b3e2d30>,\n",
       " <matplotlib.patches.Polygon at 0x1cb4b3e2fd0>,\n",
       " <matplotlib.patches.Polygon at 0x1cb4aa382b0>,\n",
       " <matplotlib.patches.Polygon at 0x1cb4aa38550>,\n",
       " <matplotlib.patches.Polygon at 0x1cb4aa387f0>,\n",
       " <matplotlib.patches.Polygon at 0x1cb4aa38a90>,\n",
       " <matplotlib.patches.Polygon at 0x1cb4aa38d30>,\n",
       " <matplotlib.patches.Polygon at 0x1cb4aa38fd0>,\n",
       " <matplotlib.patches.Polygon at 0x1cb4aa452b0>,\n",
       " <matplotlib.patches.Polygon at 0x1cb4aa45550>,\n",
       " <matplotlib.patches.Polygon at 0x1cb4aa457f0>,\n",
       " <matplotlib.patches.Polygon at 0x1cb4aa45a90>,\n",
       " <matplotlib.patches.Polygon at 0x1cb4aa45d68>,\n",
       " <matplotlib.patches.Polygon at 0x1cb4aa45fd0>,\n",
       " <matplotlib.patches.Polygon at 0x1cb4aa422b0>]"
      ]
     },
     "execution_count": 8,
     "metadata": {},
     "output_type": "execute_result"
    },
    {
     "data": {
      "text/plain": [
       "<matplotlib.collections.LineCollection at 0x1cb4b3db438>"
      ]
     },
     "execution_count": 8,
     "metadata": {},
     "output_type": "execute_result"
    },
    {
     "data": {
      "text/plain": [
       "<matplotlib.collections.LineCollection at 0x1cb4aa42668>"
      ]
     },
     "execution_count": 8,
     "metadata": {},
     "output_type": "execute_result"
    },
    {
     "data": {
      "text/plain": [
       "[<matplotlib.lines.Line2D at 0x1cb4b5c4f28>]"
      ]
     },
     "execution_count": 8,
     "metadata": {},
     "output_type": "execute_result"
    },
    {
     "data": {
      "text/plain": [
       "Text(0.5, 1.0, 'Filtered occurrences for Litocranius walleri')"
      ]
     },
     "execution_count": 8,
     "metadata": {},
     "output_type": "execute_result"
    },
    {
     "data": {
      "text/plain": [
       "<matplotlib.patches.Rectangle at 0x1cb4b43d4a8>"
      ]
     },
     "execution_count": 8,
     "metadata": {},
     "output_type": "execute_result"
    },
    {
     "data": {
      "text/plain": [
       "[<matplotlib.patches.Polygon at 0x1cb4b456e48>,\n",
       " <matplotlib.patches.Polygon at 0x1cb4b43a198>,\n",
       " <matplotlib.patches.Polygon at 0x1cb4b43a550>,\n",
       " <matplotlib.patches.Polygon at 0x1cb4b43a7f0>,\n",
       " <matplotlib.patches.Polygon at 0x1cb4b43aa58>,\n",
       " <matplotlib.patches.Polygon at 0x1cb4b43acf8>,\n",
       " <matplotlib.patches.Polygon at 0x1cb4b43af98>,\n",
       " <matplotlib.patches.Polygon at 0x1cb4b44f278>,\n",
       " <matplotlib.patches.Polygon at 0x1cb4b44f518>,\n",
       " <matplotlib.patches.Polygon at 0x1cb4b44f7b8>,\n",
       " <matplotlib.patches.Polygon at 0x1cb4b44fa58>,\n",
       " <matplotlib.patches.Polygon at 0x1cb4b44fcf8>,\n",
       " <matplotlib.patches.Polygon at 0x1cb4b44ff98>,\n",
       " <matplotlib.patches.Polygon at 0x1cb4b501278>,\n",
       " <matplotlib.patches.Polygon at 0x1cb4b501518>,\n",
       " <matplotlib.patches.Polygon at 0x1cb4b5017b8>,\n",
       " <matplotlib.patches.Polygon at 0x1cb4b501a58>,\n",
       " <matplotlib.patches.Polygon at 0x1cb4b501cf8>,\n",
       " <matplotlib.patches.Polygon at 0x1cb4b501f98>,\n",
       " <matplotlib.patches.Polygon at 0x1cb4c0c1278>,\n",
       " <matplotlib.patches.Polygon at 0x1cb4c0c1518>,\n",
       " <matplotlib.patches.Polygon at 0x1cb4c0c17b8>,\n",
       " <matplotlib.patches.Polygon at 0x1cb4c0c1a58>,\n",
       " <matplotlib.patches.Polygon at 0x1cb4c0c1cf8>,\n",
       " <matplotlib.patches.Polygon at 0x1cb4c0c1f98>,\n",
       " <matplotlib.patches.Polygon at 0x1cb4c0ba278>,\n",
       " <matplotlib.patches.Polygon at 0x1cb4c0ba518>,\n",
       " <matplotlib.patches.Polygon at 0x1cb4c0ba7f0>,\n",
       " <matplotlib.patches.Polygon at 0x1cb4c0baa58>,\n",
       " <matplotlib.patches.Polygon at 0x1cb4c0bacf8>,\n",
       " <matplotlib.patches.Polygon at 0x1cb4c0baf98>,\n",
       " <matplotlib.patches.Polygon at 0x1cb4b3c6278>,\n",
       " <matplotlib.patches.Polygon at 0x1cb4b3c6518>,\n",
       " <matplotlib.patches.Polygon at 0x1cb4b3c67b8>,\n",
       " <matplotlib.patches.Polygon at 0x1cb4b3c6a58>,\n",
       " <matplotlib.patches.Polygon at 0x1cb4b3c6cf8>,\n",
       " <matplotlib.patches.Polygon at 0x1cb4b3c6f98>,\n",
       " <matplotlib.patches.Polygon at 0x1cb4b3ca278>,\n",
       " <matplotlib.patches.Polygon at 0x1cb4b3ca518>,\n",
       " <matplotlib.patches.Polygon at 0x1cb4b3ca7b8>,\n",
       " <matplotlib.patches.Polygon at 0x1cb4b3caa58>,\n",
       " <matplotlib.patches.Polygon at 0x1cb4b3cacf8>,\n",
       " <matplotlib.patches.Polygon at 0x1cb4b3cafd0>,\n",
       " <matplotlib.patches.Polygon at 0x1cb4bfc2278>,\n",
       " <matplotlib.patches.Polygon at 0x1cb4bfc2518>]"
      ]
     },
     "execution_count": 8,
     "metadata": {},
     "output_type": "execute_result"
    },
    {
     "data": {
      "text/plain": [
       "<matplotlib.collections.LineCollection at 0x1cb4b43a3c8>"
      ]
     },
     "execution_count": 8,
     "metadata": {},
     "output_type": "execute_result"
    },
    {
     "data": {
      "text/plain": [
       "<matplotlib.collections.LineCollection at 0x1cb4bfc28d0>"
      ]
     },
     "execution_count": 8,
     "metadata": {},
     "output_type": "execute_result"
    },
    {
     "data": {
      "text/plain": [
       "[<matplotlib.lines.Line2D at 0x1cb4bfb9518>]"
      ]
     },
     "execution_count": 8,
     "metadata": {},
     "output_type": "execute_result"
    },
    {
     "data": {
      "text/plain": [
       "Text(0.5, 1.0, 'Filtered occurrences for Madoqua guentheri')"
      ]
     },
     "execution_count": 8,
     "metadata": {},
     "output_type": "execute_result"
    },
    {
     "data": {
      "text/plain": [
       "<matplotlib.patches.Rectangle at 0x1cb4c3f46a0>"
      ]
     },
     "execution_count": 8,
     "metadata": {},
     "output_type": "execute_result"
    },
    {
     "data": {
      "text/plain": [
       "[<matplotlib.patches.Polygon at 0x1cb4c3ffdd8>,\n",
       " <matplotlib.patches.Polygon at 0x1cb4bbd1128>,\n",
       " <matplotlib.patches.Polygon at 0x1cb4bbd1400>,\n",
       " <matplotlib.patches.Polygon at 0x1cb4bbd16a0>,\n",
       " <matplotlib.patches.Polygon at 0x1cb4c3ffc88>,\n",
       " <matplotlib.patches.Polygon at 0x1cb4bbd1ba8>,\n",
       " <matplotlib.patches.Polygon at 0x1cb4bbd1e48>,\n",
       " <matplotlib.patches.Polygon at 0x1cb4bbfc128>,\n",
       " <matplotlib.patches.Polygon at 0x1cb4bbfc3c8>,\n",
       " <matplotlib.patches.Polygon at 0x1cb4bbfc668>,\n",
       " <matplotlib.patches.Polygon at 0x1cb4bbfc908>,\n",
       " <matplotlib.patches.Polygon at 0x1cb4bbfcba8>,\n",
       " <matplotlib.patches.Polygon at 0x1cb4bbfce48>,\n",
       " <matplotlib.patches.Polygon at 0x1cb4bbdf128>,\n",
       " <matplotlib.patches.Polygon at 0x1cb4bbdf3c8>,\n",
       " <matplotlib.patches.Polygon at 0x1cb4bbdf668>,\n",
       " <matplotlib.patches.Polygon at 0x1cb4bbdf908>,\n",
       " <matplotlib.patches.Polygon at 0x1cb4bbdfba8>,\n",
       " <matplotlib.patches.Polygon at 0x1cb4bbdfe48>,\n",
       " <matplotlib.patches.Polygon at 0x1cb4c034128>,\n",
       " <matplotlib.patches.Polygon at 0x1cb4c0343c8>,\n",
       " <matplotlib.patches.Polygon at 0x1cb4c034668>,\n",
       " <matplotlib.patches.Polygon at 0x1cb4c034908>,\n",
       " <matplotlib.patches.Polygon at 0x1cb4c034ba8>,\n",
       " <matplotlib.patches.Polygon at 0x1cb4c034e48>,\n",
       " <matplotlib.patches.Polygon at 0x1cb4c045128>,\n",
       " <matplotlib.patches.Polygon at 0x1cb4c045400>,\n",
       " <matplotlib.patches.Polygon at 0x1cb4c045668>,\n",
       " <matplotlib.patches.Polygon at 0x1cb4c045908>,\n",
       " <matplotlib.patches.Polygon at 0x1cb4c045ba8>,\n",
       " <matplotlib.patches.Polygon at 0x1cb4c045e48>,\n",
       " <matplotlib.patches.Polygon at 0x1cb4c057128>,\n",
       " <matplotlib.patches.Polygon at 0x1cb4c0573c8>,\n",
       " <matplotlib.patches.Polygon at 0x1cb4c057668>,\n",
       " <matplotlib.patches.Polygon at 0x1cb4c057908>,\n",
       " <matplotlib.patches.Polygon at 0x1cb4c057ba8>,\n",
       " <matplotlib.patches.Polygon at 0x1cb4c057e48>,\n",
       " <matplotlib.patches.Polygon at 0x1cb4b4eb128>,\n",
       " <matplotlib.patches.Polygon at 0x1cb4b4eb400>,\n",
       " <matplotlib.patches.Polygon at 0x1cb4b4eb668>,\n",
       " <matplotlib.patches.Polygon at 0x1cb4b4eb940>,\n",
       " <matplotlib.patches.Polygon at 0x1cb4b4ebba8>,\n",
       " <matplotlib.patches.Polygon at 0x1cb4b4ebe48>,\n",
       " <matplotlib.patches.Polygon at 0x1cb4b50d160>,\n",
       " <matplotlib.patches.Polygon at 0x1cb4b50d3c8>]"
      ]
     },
     "execution_count": 8,
     "metadata": {},
     "output_type": "execute_result"
    },
    {
     "data": {
      "text/plain": [
       "<matplotlib.collections.LineCollection at 0x1cb4b50d550>"
      ]
     },
     "execution_count": 8,
     "metadata": {},
     "output_type": "execute_result"
    },
    {
     "data": {
      "text/plain": [
       "<matplotlib.collections.LineCollection at 0x1cb4b50da58>"
      ]
     },
     "execution_count": 8,
     "metadata": {},
     "output_type": "execute_result"
    },
    {
     "data": {
      "text/plain": [
       "[<matplotlib.lines.Line2D at 0x1cb4b46aeb8>]"
      ]
     },
     "execution_count": 8,
     "metadata": {},
     "output_type": "execute_result"
    },
    {
     "data": {
      "text/plain": [
       "Text(0.5, 1.0, 'Filtered occurrences for Madoqua kirkii')"
      ]
     },
     "execution_count": 8,
     "metadata": {},
     "output_type": "execute_result"
    },
    {
     "data": {
      "text/plain": [
       "<matplotlib.patches.Rectangle at 0x1cb4b418da0>"
      ]
     },
     "execution_count": 8,
     "metadata": {},
     "output_type": "execute_result"
    },
    {
     "data": {
      "text/plain": [
       "[<matplotlib.patches.Polygon at 0x1cb4b4b4400>,\n",
       " <matplotlib.patches.Polygon at 0x1cb4b4b4710>,\n",
       " <matplotlib.patches.Polygon at 0x1cb4b4b4ac8>,\n",
       " <matplotlib.patches.Polygon at 0x1cb4b4b4d68>,\n",
       " <matplotlib.patches.Polygon at 0x1cb4b4b4fd0>,\n",
       " <matplotlib.patches.Polygon at 0x1cb4c0182e8>,\n",
       " <matplotlib.patches.Polygon at 0x1cb4c018588>,\n",
       " <matplotlib.patches.Polygon at 0x1cb4c018828>,\n",
       " <matplotlib.patches.Polygon at 0x1cb4c018ac8>,\n",
       " <matplotlib.patches.Polygon at 0x1cb4c018d68>,\n",
       " <matplotlib.patches.Polygon at 0x1cb4c018fd0>,\n",
       " <matplotlib.patches.Polygon at 0x1cb4c02e2e8>,\n",
       " <matplotlib.patches.Polygon at 0x1cb4c02e588>,\n",
       " <matplotlib.patches.Polygon at 0x1cb4c02e828>,\n",
       " <matplotlib.patches.Polygon at 0x1cb4c02eac8>,\n",
       " <matplotlib.patches.Polygon at 0x1cb4c02ed68>,\n",
       " <matplotlib.patches.Polygon at 0x1cb4c02efd0>,\n",
       " <matplotlib.patches.Polygon at 0x1cb4bbe02e8>,\n",
       " <matplotlib.patches.Polygon at 0x1cb4bbe0588>,\n",
       " <matplotlib.patches.Polygon at 0x1cb4bbe0828>,\n",
       " <matplotlib.patches.Polygon at 0x1cb4bbe0ac8>,\n",
       " <matplotlib.patches.Polygon at 0x1cb4bbe0d68>,\n",
       " <matplotlib.patches.Polygon at 0x1cb4bbe0fd0>,\n",
       " <matplotlib.patches.Polygon at 0x1cb4bbf62e8>,\n",
       " <matplotlib.patches.Polygon at 0x1cb4bbf6588>,\n",
       " <matplotlib.patches.Polygon at 0x1cb4bbf6828>,\n",
       " <matplotlib.patches.Polygon at 0x1cb4bbf6ac8>,\n",
       " <matplotlib.patches.Polygon at 0x1cb4bbf6d68>,\n",
       " <matplotlib.patches.Polygon at 0x1cb4bbf6fd0>,\n",
       " <matplotlib.patches.Polygon at 0x1cb4a9f82e8>,\n",
       " <matplotlib.patches.Polygon at 0x1cb4a9f8588>,\n",
       " <matplotlib.patches.Polygon at 0x1cb4a9f8828>,\n",
       " <matplotlib.patches.Polygon at 0x1cb4a9f8ac8>,\n",
       " <matplotlib.patches.Polygon at 0x1cb4a9f8d68>,\n",
       " <matplotlib.patches.Polygon at 0x1cb4a9f8fd0>,\n",
       " <matplotlib.patches.Polygon at 0x1cb4aa1a2e8>,\n",
       " <matplotlib.patches.Polygon at 0x1cb4aa1a588>,\n",
       " <matplotlib.patches.Polygon at 0x1cb4aa1a828>]"
      ]
     },
     "execution_count": 8,
     "metadata": {},
     "output_type": "execute_result"
    },
    {
     "data": {
      "text/plain": [
       "<matplotlib.collections.LineCollection at 0x1cb4aa1a978>"
      ]
     },
     "execution_count": 8,
     "metadata": {},
     "output_type": "execute_result"
    },
    {
     "data": {
      "text/plain": [
       "<matplotlib.collections.LineCollection at 0x1cb4aa1ac50>"
      ]
     },
     "execution_count": 8,
     "metadata": {},
     "output_type": "execute_result"
    },
    {
     "data": {
      "text/plain": [
       "[<matplotlib.lines.Line2D at 0x1cb4c04d400>]"
      ]
     },
     "execution_count": 8,
     "metadata": {},
     "output_type": "execute_result"
    },
    {
     "data": {
      "text/plain": [
       "Text(0.5, 1.0, 'Filtered occurrences for Mazama americana')"
      ]
     },
     "execution_count": 8,
     "metadata": {},
     "output_type": "execute_result"
    },
    {
     "data": {
      "text/plain": [
       "<matplotlib.patches.Rectangle at 0x1cb4b3ebf28>"
      ]
     },
     "execution_count": 8,
     "metadata": {},
     "output_type": "execute_result"
    },
    {
     "data": {
      "text/plain": [
       "[<matplotlib.patches.Polygon at 0x1cb4b4b78d0>,\n",
       " <matplotlib.patches.Polygon at 0x1cb4b4b7be0>,\n",
       " <matplotlib.patches.Polygon at 0x1cb4b4b7f60>,\n",
       " <matplotlib.patches.Polygon at 0x1cb4a9f2240>,\n",
       " <matplotlib.patches.Polygon at 0x1cb4a9f24e0>,\n",
       " <matplotlib.patches.Polygon at 0x1cb4a9f2780>,\n",
       " <matplotlib.patches.Polygon at 0x1cb4a9f2a20>,\n",
       " <matplotlib.patches.Polygon at 0x1cb4a9f2cc0>,\n",
       " <matplotlib.patches.Polygon at 0x1cb4a9f2f60>,\n",
       " <matplotlib.patches.Polygon at 0x1cb4aa01240>,\n",
       " <matplotlib.patches.Polygon at 0x1cb4aa014e0>,\n",
       " <matplotlib.patches.Polygon at 0x1cb4aa01780>,\n",
       " <matplotlib.patches.Polygon at 0x1cb4aa01a20>,\n",
       " <matplotlib.patches.Polygon at 0x1cb4aa01cc0>,\n",
       " <matplotlib.patches.Polygon at 0x1cb4aa01f60>,\n",
       " <matplotlib.patches.Polygon at 0x1cb4aa1f240>,\n",
       " <matplotlib.patches.Polygon at 0x1cb4aa1f4e0>,\n",
       " <matplotlib.patches.Polygon at 0x1cb4aa1f780>,\n",
       " <matplotlib.patches.Polygon at 0x1cb4aa1fa20>,\n",
       " <matplotlib.patches.Polygon at 0x1cb4aa1fcc0>,\n",
       " <matplotlib.patches.Polygon at 0x1cb4aa1ff60>,\n",
       " <matplotlib.patches.Polygon at 0x1cb4bef3240>,\n",
       " <matplotlib.patches.Polygon at 0x1cb4bef34e0>,\n",
       " <matplotlib.patches.Polygon at 0x1cb4bef3780>,\n",
       " <matplotlib.patches.Polygon at 0x1cb4bef3a20>,\n",
       " <matplotlib.patches.Polygon at 0x1cb4bef3cc0>,\n",
       " <matplotlib.patches.Polygon at 0x1cb4bef3f60>,\n",
       " <matplotlib.patches.Polygon at 0x1cb4bf03240>,\n",
       " <matplotlib.patches.Polygon at 0x1cb4bf034e0>,\n",
       " <matplotlib.patches.Polygon at 0x1cb4bf03780>,\n",
       " <matplotlib.patches.Polygon at 0x1cb4bf03a20>,\n",
       " <matplotlib.patches.Polygon at 0x1cb4bf03cc0>,\n",
       " <matplotlib.patches.Polygon at 0x1cb4bf03f60>,\n",
       " <matplotlib.patches.Polygon at 0x1cb4bf13240>,\n",
       " <matplotlib.patches.Polygon at 0x1cb4bf134e0>,\n",
       " <matplotlib.patches.Polygon at 0x1cb4bf13780>,\n",
       " <matplotlib.patches.Polygon at 0x1cb4bf13a20>,\n",
       " <matplotlib.patches.Polygon at 0x1cb4bf13cc0>,\n",
       " <matplotlib.patches.Polygon at 0x1cb4bf13f60>,\n",
       " <matplotlib.patches.Polygon at 0x1cb4bf26240>,\n",
       " <matplotlib.patches.Polygon at 0x1cb4bf264e0>,\n",
       " <matplotlib.patches.Polygon at 0x1cb4bf26780>,\n",
       " <matplotlib.patches.Polygon at 0x1cb4bf26a20>]"
      ]
     },
     "execution_count": 8,
     "metadata": {},
     "output_type": "execute_result"
    },
    {
     "data": {
      "text/plain": [
       "<matplotlib.collections.LineCollection at 0x1cb4bf26ba8>"
      ]
     },
     "execution_count": 8,
     "metadata": {},
     "output_type": "execute_result"
    },
    {
     "data": {
      "text/plain": [
       "<matplotlib.collections.LineCollection at 0x1cb4bf26c50>"
      ]
     },
     "execution_count": 8,
     "metadata": {},
     "output_type": "execute_result"
    },
    {
     "data": {
      "text/plain": [
       "[<matplotlib.lines.Line2D at 0x1cb4c002780>]"
      ]
     },
     "execution_count": 8,
     "metadata": {},
     "output_type": "execute_result"
    },
    {
     "data": {
      "text/plain": [
       "Text(0.5, 1.0, 'Filtered occurrences for Mazama gouazoubira')"
      ]
     },
     "execution_count": 8,
     "metadata": {},
     "output_type": "execute_result"
    },
    {
     "data": {
      "text/plain": [
       "<matplotlib.patches.Rectangle at 0x1cb4c4371d0>"
      ]
     },
     "execution_count": 8,
     "metadata": {},
     "output_type": "execute_result"
    },
    {
     "data": {
      "text/plain": [
       "[<matplotlib.patches.Polygon at 0x1cb4b4de7f0>,\n",
       " <matplotlib.patches.Polygon at 0x1cb4b4deb00>,\n",
       " <matplotlib.patches.Polygon at 0x1cb4b4deeb8>,\n",
       " <matplotlib.patches.Polygon at 0x1cb4bf6c198>,\n",
       " <matplotlib.patches.Polygon at 0x1cb4bf6c438>,\n",
       " <matplotlib.patches.Polygon at 0x1cb4bf6c6d8>,\n",
       " <matplotlib.patches.Polygon at 0x1cb4bf6c978>,\n",
       " <matplotlib.patches.Polygon at 0x1cb4bf6cc18>,\n",
       " <matplotlib.patches.Polygon at 0x1cb4bf6ceb8>,\n",
       " <matplotlib.patches.Polygon at 0x1cb4c486198>,\n",
       " <matplotlib.patches.Polygon at 0x1cb4c486438>,\n",
       " <matplotlib.patches.Polygon at 0x1cb4c4866d8>,\n",
       " <matplotlib.patches.Polygon at 0x1cb4c486978>,\n",
       " <matplotlib.patches.Polygon at 0x1cb4c486be0>,\n",
       " <matplotlib.patches.Polygon at 0x1cb4c486e80>,\n",
       " <matplotlib.patches.Polygon at 0x1cb4bfeb160>,\n",
       " <matplotlib.patches.Polygon at 0x1cb4bfeb400>,\n",
       " <matplotlib.patches.Polygon at 0x1cb4bfeb6a0>,\n",
       " <matplotlib.patches.Polygon at 0x1cb4bfeb940>,\n",
       " <matplotlib.patches.Polygon at 0x1cb4bfebbe0>,\n",
       " <matplotlib.patches.Polygon at 0x1cb4bfebe80>,\n",
       " <matplotlib.patches.Polygon at 0x1cb4bfe1160>,\n",
       " <matplotlib.patches.Polygon at 0x1cb4bfe1400>,\n",
       " <matplotlib.patches.Polygon at 0x1cb4bfe16a0>,\n",
       " <matplotlib.patches.Polygon at 0x1cb4bfe1940>,\n",
       " <matplotlib.patches.Polygon at 0x1cb4bfe1be0>,\n",
       " <matplotlib.patches.Polygon at 0x1cb4bfe1e80>,\n",
       " <matplotlib.patches.Polygon at 0x1cb4bf09160>,\n",
       " <matplotlib.patches.Polygon at 0x1cb4bf09400>,\n",
       " <matplotlib.patches.Polygon at 0x1cb4bf096a0>,\n",
       " <matplotlib.patches.Polygon at 0x1cb4bf09940>,\n",
       " <matplotlib.patches.Polygon at 0x1cb4bf09be0>,\n",
       " <matplotlib.patches.Polygon at 0x1cb4bf09e80>,\n",
       " <matplotlib.patches.Polygon at 0x1cb4bf29160>,\n",
       " <matplotlib.patches.Polygon at 0x1cb4bf29400>,\n",
       " <matplotlib.patches.Polygon at 0x1cb4bf296a0>,\n",
       " <matplotlib.patches.Polygon at 0x1cb4bf29940>,\n",
       " <matplotlib.patches.Polygon at 0x1cb4bf29be0>,\n",
       " <matplotlib.patches.Polygon at 0x1cb4bf29e80>,\n",
       " <matplotlib.patches.Polygon at 0x1cb4c444160>,\n",
       " <matplotlib.patches.Polygon at 0x1cb4c444400>,\n",
       " <matplotlib.patches.Polygon at 0x1cb4c4446a0>]"
      ]
     },
     "execution_count": 8,
     "metadata": {},
     "output_type": "execute_result"
    },
    {
     "data": {
      "text/plain": [
       "<matplotlib.collections.LineCollection at 0x1cb4c4447f0>"
      ]
     },
     "execution_count": 8,
     "metadata": {},
     "output_type": "execute_result"
    },
    {
     "data": {
      "text/plain": [
       "<matplotlib.collections.LineCollection at 0x1cb4c444d68>"
      ]
     },
     "execution_count": 8,
     "metadata": {},
     "output_type": "execute_result"
    },
    {
     "data": {
      "text/plain": [
       "[<matplotlib.lines.Line2D at 0x1cb4c450fd0>]"
      ]
     },
     "execution_count": 8,
     "metadata": {},
     "output_type": "execute_result"
    },
    {
     "data": {
      "text/plain": [
       "Text(0.5, 1.0, 'Filtered occurrences for Mazama nana')"
      ]
     },
     "execution_count": 8,
     "metadata": {},
     "output_type": "execute_result"
    },
    {
     "data": {
      "text/plain": [
       "<matplotlib.patches.Rectangle at 0x1cb4c3f06d8>"
      ]
     },
     "execution_count": 8,
     "metadata": {},
     "output_type": "execute_result"
    },
    {
     "data": {
      "text/plain": [
       "[<matplotlib.patches.Polygon at 0x1cb4da8fcf8>,\n",
       " <matplotlib.patches.Polygon at 0x1cb4da960f0>,\n",
       " <matplotlib.patches.Polygon at 0x1cb4da96390>,\n",
       " <matplotlib.patches.Polygon at 0x1cb4da96630>,\n",
       " <matplotlib.patches.Polygon at 0x1cb4da968d0>,\n",
       " <matplotlib.patches.Polygon at 0x1cb4da96b70>,\n",
       " <matplotlib.patches.Polygon at 0x1cb4da96e10>,\n",
       " <matplotlib.patches.Polygon at 0x1cb4db6a0f0>,\n",
       " <matplotlib.patches.Polygon at 0x1cb4db6a390>,\n",
       " <matplotlib.patches.Polygon at 0x1cb4db6a630>,\n",
       " <matplotlib.patches.Polygon at 0x1cb4db6a8d0>,\n",
       " <matplotlib.patches.Polygon at 0x1cb4db6ab70>,\n",
       " <matplotlib.patches.Polygon at 0x1cb4db6ae10>,\n",
       " <matplotlib.patches.Polygon at 0x1cb4db760f0>,\n",
       " <matplotlib.patches.Polygon at 0x1cb4db76390>,\n",
       " <matplotlib.patches.Polygon at 0x1cb4db76630>,\n",
       " <matplotlib.patches.Polygon at 0x1cb4db768d0>,\n",
       " <matplotlib.patches.Polygon at 0x1cb4db76b70>,\n",
       " <matplotlib.patches.Polygon at 0x1cb4db76e10>,\n",
       " <matplotlib.patches.Polygon at 0x1cb4db890f0>,\n",
       " <matplotlib.patches.Polygon at 0x1cb4db89390>,\n",
       " <matplotlib.patches.Polygon at 0x1cb4db89630>,\n",
       " <matplotlib.patches.Polygon at 0x1cb4db898d0>,\n",
       " <matplotlib.patches.Polygon at 0x1cb4db89b70>,\n",
       " <matplotlib.patches.Polygon at 0x1cb4db89e10>,\n",
       " <matplotlib.patches.Polygon at 0x1cb4db5a0f0>,\n",
       " <matplotlib.patches.Polygon at 0x1cb4db5a390>,\n",
       " <matplotlib.patches.Polygon at 0x1cb4db5a630>,\n",
       " <matplotlib.patches.Polygon at 0x1cb4db5a8d0>,\n",
       " <matplotlib.patches.Polygon at 0x1cb4db5ab70>,\n",
       " <matplotlib.patches.Polygon at 0x1cb4db5ae10>,\n",
       " <matplotlib.patches.Polygon at 0x1cb4db2e0f0>,\n",
       " <matplotlib.patches.Polygon at 0x1cb4db2e390>,\n",
       " <matplotlib.patches.Polygon at 0x1cb4db2e630>,\n",
       " <matplotlib.patches.Polygon at 0x1cb4db2e8d0>,\n",
       " <matplotlib.patches.Polygon at 0x1cb4db2eb70>,\n",
       " <matplotlib.patches.Polygon at 0x1cb4db2ee10>,\n",
       " <matplotlib.patches.Polygon at 0x1cb4db3e0f0>,\n",
       " <matplotlib.patches.Polygon at 0x1cb4db3e390>,\n",
       " <matplotlib.patches.Polygon at 0x1cb4db3e630>,\n",
       " <matplotlib.patches.Polygon at 0x1cb4db3e8d0>,\n",
       " <matplotlib.patches.Polygon at 0x1cb4db3eb70>,\n",
       " <matplotlib.patches.Polygon at 0x1cb4db3ee10>,\n",
       " <matplotlib.patches.Polygon at 0x1cb4db500f0>,\n",
       " <matplotlib.patches.Polygon at 0x1cb4db50390>,\n",
       " <matplotlib.patches.Polygon at 0x1cb4db50630>,\n",
       " <matplotlib.patches.Polygon at 0x1cb4db508d0>,\n",
       " <matplotlib.patches.Polygon at 0x1cb4db50b70>,\n",
       " <matplotlib.patches.Polygon at 0x1cb4db50e10>,\n",
       " <matplotlib.patches.Polygon at 0x1cb4daa30f0>,\n",
       " <matplotlib.patches.Polygon at 0x1cb4daa3390>,\n",
       " <matplotlib.patches.Polygon at 0x1cb4daa3630>,\n",
       " <matplotlib.patches.Polygon at 0x1cb4daa38d0>,\n",
       " <matplotlib.patches.Polygon at 0x1cb4daa3b70>,\n",
       " <matplotlib.patches.Polygon at 0x1cb4daa3e10>,\n",
       " <matplotlib.patches.Polygon at 0x1cb4dab10f0>,\n",
       " <matplotlib.patches.Polygon at 0x1cb4dab1390>,\n",
       " <matplotlib.patches.Polygon at 0x1cb4dab1630>,\n",
       " <matplotlib.patches.Polygon at 0x1cb4dab18d0>]"
      ]
     },
     "execution_count": 8,
     "metadata": {},
     "output_type": "execute_result"
    },
    {
     "data": {
      "text/plain": [
       "<matplotlib.collections.LineCollection at 0x1cb4dab1d68>"
      ]
     },
     "execution_count": 8,
     "metadata": {},
     "output_type": "execute_result"
    },
    {
     "data": {
      "text/plain": [
       "<matplotlib.collections.LineCollection at 0x1cb4dab1a20>"
      ]
     },
     "execution_count": 8,
     "metadata": {},
     "output_type": "execute_result"
    },
    {
     "data": {
      "text/plain": [
       "[<matplotlib.lines.Line2D at 0x1cb4dac87b8>]"
      ]
     },
     "execution_count": 8,
     "metadata": {},
     "output_type": "execute_result"
    },
    {
     "data": {
      "text/plain": [
       "Text(0.5, 1.0, 'Filtered occurrences for Mazama pandora')"
      ]
     },
     "execution_count": 8,
     "metadata": {},
     "output_type": "execute_result"
    },
    {
     "data": {
      "text/plain": [
       "<matplotlib.patches.Rectangle at 0x1cb4e265828>"
      ]
     },
     "execution_count": 8,
     "metadata": {},
     "output_type": "execute_result"
    },
    {
     "data": {
      "text/plain": [
       "[<matplotlib.patches.Polygon at 0x1cb4e275e48>,\n",
       " <matplotlib.patches.Polygon at 0x1cb4c4012b0>,\n",
       " <matplotlib.patches.Polygon at 0x1cb4c401588>,\n",
       " <matplotlib.patches.Polygon at 0x1cb4c4017f0>,\n",
       " <matplotlib.patches.Polygon at 0x1cb4c401a90>,\n",
       " <matplotlib.patches.Polygon at 0x1cb4c401d30>,\n",
       " <matplotlib.patches.Polygon at 0x1cb4c401fd0>,\n",
       " <matplotlib.patches.Polygon at 0x1cb4e2ab2b0>,\n",
       " <matplotlib.patches.Polygon at 0x1cb4e2ab550>,\n",
       " <matplotlib.patches.Polygon at 0x1cb4e2ab7f0>,\n",
       " <matplotlib.patches.Polygon at 0x1cb4e2aba90>,\n",
       " <matplotlib.patches.Polygon at 0x1cb4e2abd30>,\n",
       " <matplotlib.patches.Polygon at 0x1cb4e2abfd0>,\n",
       " <matplotlib.patches.Polygon at 0x1cb4e28a2b0>,\n",
       " <matplotlib.patches.Polygon at 0x1cb4e28a550>,\n",
       " <matplotlib.patches.Polygon at 0x1cb4e28a7f0>,\n",
       " <matplotlib.patches.Polygon at 0x1cb4e28aa90>,\n",
       " <matplotlib.patches.Polygon at 0x1cb4e28ad30>,\n",
       " <matplotlib.patches.Polygon at 0x1cb4e28afd0>,\n",
       " <matplotlib.patches.Polygon at 0x1cb4e28c2b0>,\n",
       " <matplotlib.patches.Polygon at 0x1cb4e28c550>,\n",
       " <matplotlib.patches.Polygon at 0x1cb4e28c7f0>,\n",
       " <matplotlib.patches.Polygon at 0x1cb4e28ca90>,\n",
       " <matplotlib.patches.Polygon at 0x1cb4e28cd30>,\n",
       " <matplotlib.patches.Polygon at 0x1cb4e28cfd0>,\n",
       " <matplotlib.patches.Polygon at 0x1cb4c42c2b0>,\n",
       " <matplotlib.patches.Polygon at 0x1cb4c42c550>,\n",
       " <matplotlib.patches.Polygon at 0x1cb4c42c7f0>,\n",
       " <matplotlib.patches.Polygon at 0x1cb4c42ca90>,\n",
       " <matplotlib.patches.Polygon at 0x1cb4c42cd30>,\n",
       " <matplotlib.patches.Polygon at 0x1cb4c42cfd0>,\n",
       " <matplotlib.patches.Polygon at 0x1cb4c4142b0>,\n",
       " <matplotlib.patches.Polygon at 0x1cb4c414550>,\n",
       " <matplotlib.patches.Polygon at 0x1cb4c4147f0>,\n",
       " <matplotlib.patches.Polygon at 0x1cb4c414a90>,\n",
       " <matplotlib.patches.Polygon at 0x1cb4c414d30>,\n",
       " <matplotlib.patches.Polygon at 0x1cb4c414fd0>,\n",
       " <matplotlib.patches.Polygon at 0x1cb4db232b0>,\n",
       " <matplotlib.patches.Polygon at 0x1cb4db23550>,\n",
       " <matplotlib.patches.Polygon at 0x1cb4db237f0>,\n",
       " <matplotlib.patches.Polygon at 0x1cb4db23a90>,\n",
       " <matplotlib.patches.Polygon at 0x1cb4db23d30>,\n",
       " <matplotlib.patches.Polygon at 0x1cb4db23fd0>,\n",
       " <matplotlib.patches.Polygon at 0x1cb4db3d2b0>,\n",
       " <matplotlib.patches.Polygon at 0x1cb4db3d550>,\n",
       " <matplotlib.patches.Polygon at 0x1cb4db3d7f0>,\n",
       " <matplotlib.patches.Polygon at 0x1cb4db3da90>,\n",
       " <matplotlib.patches.Polygon at 0x1cb4db3dd30>]"
      ]
     },
     "execution_count": 8,
     "metadata": {},
     "output_type": "execute_result"
    },
    {
     "data": {
      "text/plain": [
       "<matplotlib.collections.LineCollection at 0x1cb4db3de10>"
      ]
     },
     "execution_count": 8,
     "metadata": {},
     "output_type": "execute_result"
    },
    {
     "data": {
      "text/plain": [
       "<matplotlib.collections.LineCollection at 0x1cb4db3def0>"
      ]
     },
     "execution_count": 8,
     "metadata": {},
     "output_type": "execute_result"
    },
    {
     "data": {
      "text/plain": [
       "[<matplotlib.lines.Line2D at 0x1cb4dab4b38>]"
      ]
     },
     "execution_count": 8,
     "metadata": {},
     "output_type": "execute_result"
    },
    {
     "data": {
      "text/plain": [
       "Text(0.5, 1.0, 'Filtered occurrences for Mazama temama')"
      ]
     },
     "execution_count": 8,
     "metadata": {},
     "output_type": "execute_result"
    },
    {
     "data": {
      "text/plain": [
       "<matplotlib.patches.Rectangle at 0x1cb4c433e80>"
      ]
     },
     "execution_count": 8,
     "metadata": {},
     "output_type": "execute_result"
    },
    {
     "data": {
      "text/plain": [
       "[<matplotlib.patches.Polygon at 0x1cb4dc164e0>,\n",
       " <matplotlib.patches.Polygon at 0x1cb4dc168d0>,\n",
       " <matplotlib.patches.Polygon at 0x1cb4dc16ba8>,\n",
       " <matplotlib.patches.Polygon at 0x1cb4dc16e48>,\n",
       " <matplotlib.patches.Polygon at 0x1cb4e45e128>,\n",
       " <matplotlib.patches.Polygon at 0x1cb4e45e3c8>,\n",
       " <matplotlib.patches.Polygon at 0x1cb4e45e668>,\n",
       " <matplotlib.patches.Polygon at 0x1cb4e45e908>,\n",
       " <matplotlib.patches.Polygon at 0x1cb4e45eba8>,\n",
       " <matplotlib.patches.Polygon at 0x1cb4e45ee48>,\n",
       " <matplotlib.patches.Polygon at 0x1cb4e9e3128>,\n",
       " <matplotlib.patches.Polygon at 0x1cb4e9e33c8>,\n",
       " <matplotlib.patches.Polygon at 0x1cb4e9e3668>,\n",
       " <matplotlib.patches.Polygon at 0x1cb4e9e3908>,\n",
       " <matplotlib.patches.Polygon at 0x1cb4e9e3ba8>,\n",
       " <matplotlib.patches.Polygon at 0x1cb4e9e3e48>,\n",
       " <matplotlib.patches.Polygon at 0x1cb4e9f6128>,\n",
       " <matplotlib.patches.Polygon at 0x1cb4e9f63c8>,\n",
       " <matplotlib.patches.Polygon at 0x1cb4e9f6668>,\n",
       " <matplotlib.patches.Polygon at 0x1cb4e9f6908>,\n",
       " <matplotlib.patches.Polygon at 0x1cb4e9f6ba8>,\n",
       " <matplotlib.patches.Polygon at 0x1cb4e9f6e48>,\n",
       " <matplotlib.patches.Polygon at 0x1cb4db0b128>,\n",
       " <matplotlib.patches.Polygon at 0x1cb4db0b3c8>,\n",
       " <matplotlib.patches.Polygon at 0x1cb4db0b668>,\n",
       " <matplotlib.patches.Polygon at 0x1cb4db0b908>,\n",
       " <matplotlib.patches.Polygon at 0x1cb4db0bba8>,\n",
       " <matplotlib.patches.Polygon at 0x1cb4db0be48>,\n",
       " <matplotlib.patches.Polygon at 0x1cb4daf8128>,\n",
       " <matplotlib.patches.Polygon at 0x1cb4daf83c8>,\n",
       " <matplotlib.patches.Polygon at 0x1cb4daf8668>,\n",
       " <matplotlib.patches.Polygon at 0x1cb4daf8908>,\n",
       " <matplotlib.patches.Polygon at 0x1cb4daf8ba8>,\n",
       " <matplotlib.patches.Polygon at 0x1cb4daf8e48>,\n",
       " <matplotlib.patches.Polygon at 0x1cb4e627128>,\n",
       " <matplotlib.patches.Polygon at 0x1cb4e6273c8>,\n",
       " <matplotlib.patches.Polygon at 0x1cb4e627668>,\n",
       " <matplotlib.patches.Polygon at 0x1cb4e627908>,\n",
       " <matplotlib.patches.Polygon at 0x1cb4e627ba8>,\n",
       " <matplotlib.patches.Polygon at 0x1cb4e627e48>,\n",
       " <matplotlib.patches.Polygon at 0x1cb4e634128>,\n",
       " <matplotlib.patches.Polygon at 0x1cb4e6343c8>,\n",
       " <matplotlib.patches.Polygon at 0x1cb4e634668>,\n",
       " <matplotlib.patches.Polygon at 0x1cb4e634908>,\n",
       " <matplotlib.patches.Polygon at 0x1cb4e634ba8>,\n",
       " <matplotlib.patches.Polygon at 0x1cb4e634e48>,\n",
       " <matplotlib.patches.Polygon at 0x1cb4e226128>,\n",
       " <matplotlib.patches.Polygon at 0x1cb4e2263c8>,\n",
       " <matplotlib.patches.Polygon at 0x1cb4e226668>,\n",
       " <matplotlib.patches.Polygon at 0x1cb4e226908>,\n",
       " <matplotlib.patches.Polygon at 0x1cb4e226ba8>,\n",
       " <matplotlib.patches.Polygon at 0x1cb4e226e48>,\n",
       " <matplotlib.patches.Polygon at 0x1cb4e23a160>,\n",
       " <matplotlib.patches.Polygon at 0x1cb4e23a400>,\n",
       " <matplotlib.patches.Polygon at 0x1cb4e23a668>,\n",
       " <matplotlib.patches.Polygon at 0x1cb4e23a908>,\n",
       " <matplotlib.patches.Polygon at 0x1cb4e23aba8>,\n",
       " <matplotlib.patches.Polygon at 0x1cb4e23ae48>,\n",
       " <matplotlib.patches.Polygon at 0x1cb4e251128>,\n",
       " <matplotlib.patches.Polygon at 0x1cb4e2513c8>,\n",
       " <matplotlib.patches.Polygon at 0x1cb4e251668>,\n",
       " <matplotlib.patches.Polygon at 0x1cb4e251908>,\n",
       " <matplotlib.patches.Polygon at 0x1cb4e251be0>,\n",
       " <matplotlib.patches.Polygon at 0x1cb4e251e48>,\n",
       " <matplotlib.patches.Polygon at 0x1cb4e264128>,\n",
       " <matplotlib.patches.Polygon at 0x1cb4e2643c8>,\n",
       " <matplotlib.patches.Polygon at 0x1cb4e264668>,\n",
       " <matplotlib.patches.Polygon at 0x1cb4e264908>,\n",
       " <matplotlib.patches.Polygon at 0x1cb4e264ba8>,\n",
       " <matplotlib.patches.Polygon at 0x1cb4e264e48>,\n",
       " <matplotlib.patches.Polygon at 0x1cb4e27b128>,\n",
       " <matplotlib.patches.Polygon at 0x1cb4e27b3c8>,\n",
       " <matplotlib.patches.Polygon at 0x1cb4e27b668>,\n",
       " <matplotlib.patches.Polygon at 0x1cb4e27b908>,\n",
       " <matplotlib.patches.Polygon at 0x1cb4e27bba8>,\n",
       " <matplotlib.patches.Polygon at 0x1cb4e27be48>,\n",
       " <matplotlib.patches.Polygon at 0x1cb4e290128>,\n",
       " <matplotlib.patches.Polygon at 0x1cb4e2903c8>,\n",
       " <matplotlib.patches.Polygon at 0x1cb4e290668>,\n",
       " <matplotlib.patches.Polygon at 0x1cb4e290908>,\n",
       " <matplotlib.patches.Polygon at 0x1cb4e290ba8>,\n",
       " <matplotlib.patches.Polygon at 0x1cb4e290e48>,\n",
       " <matplotlib.patches.Polygon at 0x1cb4e458128>,\n",
       " <matplotlib.patches.Polygon at 0x1cb4e4583c8>,\n",
       " <matplotlib.patches.Polygon at 0x1cb4e458668>,\n",
       " <matplotlib.patches.Polygon at 0x1cb4e458908>,\n",
       " <matplotlib.patches.Polygon at 0x1cb4e458ba8>,\n",
       " <matplotlib.patches.Polygon at 0x1cb4e458e48>,\n",
       " <matplotlib.patches.Polygon at 0x1cb4e434128>,\n",
       " <matplotlib.patches.Polygon at 0x1cb4e4343c8>,\n",
       " <matplotlib.patches.Polygon at 0x1cb4e434668>,\n",
       " <matplotlib.patches.Polygon at 0x1cb4e434908>,\n",
       " <matplotlib.patches.Polygon at 0x1cb4e434ba8>,\n",
       " <matplotlib.patches.Polygon at 0x1cb4e434e48>,\n",
       " <matplotlib.patches.Polygon at 0x1cb4e442128>,\n",
       " <matplotlib.patches.Polygon at 0x1cb4e4423c8>,\n",
       " <matplotlib.patches.Polygon at 0x1cb4e442668>,\n",
       " <matplotlib.patches.Polygon at 0x1cb4e442908>,\n",
       " <matplotlib.patches.Polygon at 0x1cb4e442ba8>,\n",
       " <matplotlib.patches.Polygon at 0x1cb4e442e48>,\n",
       " <matplotlib.patches.Polygon at 0x1cb4e5ff128>,\n",
       " <matplotlib.patches.Polygon at 0x1cb4e5ff3c8>,\n",
       " <matplotlib.patches.Polygon at 0x1cb4e5ff668>,\n",
       " <matplotlib.patches.Polygon at 0x1cb4e5ff908>,\n",
       " <matplotlib.patches.Polygon at 0x1cb4e5ffba8>,\n",
       " <matplotlib.patches.Polygon at 0x1cb4e5ffe48>,\n",
       " <matplotlib.patches.Polygon at 0x1cb4e61c128>,\n",
       " <matplotlib.patches.Polygon at 0x1cb4e61c3c8>,\n",
       " <matplotlib.patches.Polygon at 0x1cb4e61c668>,\n",
       " <matplotlib.patches.Polygon at 0x1cb4e61c908>,\n",
       " <matplotlib.patches.Polygon at 0x1cb4e61cba8>,\n",
       " <matplotlib.patches.Polygon at 0x1cb4e61ce48>,\n",
       " <matplotlib.patches.Polygon at 0x1cb4e5f2128>,\n",
       " <matplotlib.patches.Polygon at 0x1cb4e5f23c8>,\n",
       " <matplotlib.patches.Polygon at 0x1cb4e5f2668>]"
      ]
     },
     "execution_count": 8,
     "metadata": {},
     "output_type": "execute_result"
    },
    {
     "data": {
      "text/plain": [
       "<matplotlib.collections.LineCollection at 0x1cb4e5f2780>"
      ]
     },
     "execution_count": 8,
     "metadata": {},
     "output_type": "execute_result"
    },
    {
     "data": {
      "text/plain": [
       "<matplotlib.collections.LineCollection at 0x1cb4e5f27b8>"
      ]
     },
     "execution_count": 8,
     "metadata": {},
     "output_type": "execute_result"
    },
    {
     "data": {
      "text/plain": [
       "[<matplotlib.lines.Line2D at 0x1cb4e48b898>]"
      ]
     },
     "execution_count": 8,
     "metadata": {},
     "output_type": "execute_result"
    },
    {
     "data": {
      "text/plain": [
       "Text(0.5, 1.0, 'Filtered occurrences for Muntiacus reevesi')"
      ]
     },
     "execution_count": 8,
     "metadata": {},
     "output_type": "execute_result"
    },
    {
     "data": {
      "text/plain": [
       "<matplotlib.patches.Rectangle at 0x1cb4ea0f2b0>"
      ]
     },
     "execution_count": 8,
     "metadata": {},
     "output_type": "execute_result"
    },
    {
     "data": {
      "text/plain": [
       "[<matplotlib.patches.Polygon at 0x1cb4e2e78d0>,\n",
       " <matplotlib.patches.Polygon at 0x1cb4e2e7be0>,\n",
       " <matplotlib.patches.Polygon at 0x1cb4e2e7f98>,\n",
       " <matplotlib.patches.Polygon at 0x1cb4e44b240>,\n",
       " <matplotlib.patches.Polygon at 0x1cb4e44b4e0>,\n",
       " <matplotlib.patches.Polygon at 0x1cb4e44b780>,\n",
       " <matplotlib.patches.Polygon at 0x1cb4e44ba20>,\n",
       " <matplotlib.patches.Polygon at 0x1cb4e44bcc0>,\n",
       " <matplotlib.patches.Polygon at 0x1cb4e44bf60>,\n",
       " <matplotlib.patches.Polygon at 0x1cb4dbfb240>,\n",
       " <matplotlib.patches.Polygon at 0x1cb4dbfb4e0>,\n",
       " <matplotlib.patches.Polygon at 0x1cb4dbfb780>,\n",
       " <matplotlib.patches.Polygon at 0x1cb4dbfba20>,\n",
       " <matplotlib.patches.Polygon at 0x1cb4dbfbcc0>,\n",
       " <matplotlib.patches.Polygon at 0x1cb4dbfbf60>,\n",
       " <matplotlib.patches.Polygon at 0x1cb4dbe8240>,\n",
       " <matplotlib.patches.Polygon at 0x1cb4dbe84e0>,\n",
       " <matplotlib.patches.Polygon at 0x1cb4dbe8780>,\n",
       " <matplotlib.patches.Polygon at 0x1cb4dbe8a20>,\n",
       " <matplotlib.patches.Polygon at 0x1cb4dbe8cc0>,\n",
       " <matplotlib.patches.Polygon at 0x1cb4dbe8f60>,\n",
       " <matplotlib.patches.Polygon at 0x1cb4e425240>,\n",
       " <matplotlib.patches.Polygon at 0x1cb4e4254e0>,\n",
       " <matplotlib.patches.Polygon at 0x1cb4e425780>,\n",
       " <matplotlib.patches.Polygon at 0x1cb4e425a20>,\n",
       " <matplotlib.patches.Polygon at 0x1cb4e425cc0>,\n",
       " <matplotlib.patches.Polygon at 0x1cb4e425f98>,\n",
       " <matplotlib.patches.Polygon at 0x1cb4e436240>,\n",
       " <matplotlib.patches.Polygon at 0x1cb4e4364e0>,\n",
       " <matplotlib.patches.Polygon at 0x1cb4e436780>,\n",
       " <matplotlib.patches.Polygon at 0x1cb4e436a20>,\n",
       " <matplotlib.patches.Polygon at 0x1cb4e436cc0>,\n",
       " <matplotlib.patches.Polygon at 0x1cb4e436f60>,\n",
       " <matplotlib.patches.Polygon at 0x1cb4e45d240>,\n",
       " <matplotlib.patches.Polygon at 0x1cb4e45d4e0>,\n",
       " <matplotlib.patches.Polygon at 0x1cb4e45d780>,\n",
       " <matplotlib.patches.Polygon at 0x1cb4e45da20>,\n",
       " <matplotlib.patches.Polygon at 0x1cb4e45dcc0>,\n",
       " <matplotlib.patches.Polygon at 0x1cb4e45df60>,\n",
       " <matplotlib.patches.Polygon at 0x1cb4e30b240>,\n",
       " <matplotlib.patches.Polygon at 0x1cb4e30b4e0>,\n",
       " <matplotlib.patches.Polygon at 0x1cb4e30b7b8>,\n",
       " <matplotlib.patches.Polygon at 0x1cb4e30ba20>,\n",
       " <matplotlib.patches.Polygon at 0x1cb4e30bcc0>]"
      ]
     },
     "execution_count": 8,
     "metadata": {},
     "output_type": "execute_result"
    },
    {
     "data": {
      "text/plain": [
       "<matplotlib.collections.LineCollection at 0x1cb4e30bdd8>"
      ]
     },
     "execution_count": 8,
     "metadata": {},
     "output_type": "execute_result"
    },
    {
     "data": {
      "text/plain": [
       "<matplotlib.collections.LineCollection at 0x1cb4e2acba8>"
      ]
     },
     "execution_count": 8,
     "metadata": {},
     "output_type": "execute_result"
    },
    {
     "data": {
      "text/plain": [
       "[<matplotlib.lines.Line2D at 0x1cb4e30beb8>]"
      ]
     },
     "execution_count": 8,
     "metadata": {},
     "output_type": "execute_result"
    },
    {
     "data": {
      "text/plain": [
       "Text(0.5, 1.0, 'Filtered occurrences for Nanger granti')"
      ]
     },
     "execution_count": 8,
     "metadata": {},
     "output_type": "execute_result"
    },
    {
     "data": {
      "text/plain": [
       "<matplotlib.patches.Rectangle at 0x1cb4dc08b70>"
      ]
     },
     "execution_count": 8,
     "metadata": {},
     "output_type": "execute_result"
    },
    {
     "data": {
      "text/plain": [
       "[<matplotlib.patches.Polygon at 0x1cb4e2d6be0>,\n",
       " <matplotlib.patches.Polygon at 0x1cb4e336128>,\n",
       " <matplotlib.patches.Polygon at 0x1cb4e336390>,\n",
       " <matplotlib.patches.Polygon at 0x1cb4e35a2b0>,\n",
       " <matplotlib.patches.Polygon at 0x1cb4e35a550>,\n",
       " <matplotlib.patches.Polygon at 0x1cb4dbe3208>,\n",
       " <matplotlib.patches.Polygon at 0x1cb4dbe34a8>,\n",
       " <matplotlib.patches.Polygon at 0x1cb4dbe3748>,\n",
       " <matplotlib.patches.Polygon at 0x1cb4dbe39e8>,\n",
       " <matplotlib.patches.Polygon at 0x1cb4dbe3c88>,\n",
       " <matplotlib.patches.Polygon at 0x1cb4dbe3f28>,\n",
       " <matplotlib.patches.Polygon at 0x1cb4e2b6208>,\n",
       " <matplotlib.patches.Polygon at 0x1cb4e2b64a8>,\n",
       " <matplotlib.patches.Polygon at 0x1cb4e2b6748>,\n",
       " <matplotlib.patches.Polygon at 0x1cb4e2b69e8>,\n",
       " <matplotlib.patches.Polygon at 0x1cb4e2b6c88>,\n",
       " <matplotlib.patches.Polygon at 0x1cb4e2b6f28>,\n",
       " <matplotlib.patches.Polygon at 0x1cb4e2dc208>,\n",
       " <matplotlib.patches.Polygon at 0x1cb4e2dc4a8>,\n",
       " <matplotlib.patches.Polygon at 0x1cb4e2dc748>,\n",
       " <matplotlib.patches.Polygon at 0x1cb4e2dc9e8>,\n",
       " <matplotlib.patches.Polygon at 0x1cb4e2dcc88>,\n",
       " <matplotlib.patches.Polygon at 0x1cb4e2dcf28>,\n",
       " <matplotlib.patches.Polygon at 0x1cb4e66c208>,\n",
       " <matplotlib.patches.Polygon at 0x1cb4e66c4a8>,\n",
       " <matplotlib.patches.Polygon at 0x1cb4e66c748>,\n",
       " <matplotlib.patches.Polygon at 0x1cb4e66c9e8>,\n",
       " <matplotlib.patches.Polygon at 0x1cb4e66cc88>,\n",
       " <matplotlib.patches.Polygon at 0x1cb4e66cf28>,\n",
       " <matplotlib.patches.Polygon at 0x1cb4e67a208>,\n",
       " <matplotlib.patches.Polygon at 0x1cb4e67a4a8>,\n",
       " <matplotlib.patches.Polygon at 0x1cb4e67a748>,\n",
       " <matplotlib.patches.Polygon at 0x1cb4e67a9e8>,\n",
       " <matplotlib.patches.Polygon at 0x1cb4e67ac88>,\n",
       " <matplotlib.patches.Polygon at 0x1cb4e67af28>,\n",
       " <matplotlib.patches.Polygon at 0x1cb4e34d208>,\n",
       " <matplotlib.patches.Polygon at 0x1cb4e34d4a8>,\n",
       " <matplotlib.patches.Polygon at 0x1cb4e34d748>,\n",
       " <matplotlib.patches.Polygon at 0x1cb4e34da20>,\n",
       " <matplotlib.patches.Polygon at 0x1cb4e34dc88>,\n",
       " <matplotlib.patches.Polygon at 0x1cb4e34df28>,\n",
       " <matplotlib.patches.Polygon at 0x1cb4e339208>,\n",
       " <matplotlib.patches.Polygon at 0x1cb4e3394a8>,\n",
       " <matplotlib.patches.Polygon at 0x1cb4e339748>,\n",
       " <matplotlib.patches.Polygon at 0x1cb4e3399e8>,\n",
       " <matplotlib.patches.Polygon at 0x1cb4e339c88>,\n",
       " <matplotlib.patches.Polygon at 0x1cb4e339f28>,\n",
       " <matplotlib.patches.Polygon at 0x1cb4e467208>,\n",
       " <matplotlib.patches.Polygon at 0x1cb4e4674a8>,\n",
       " <matplotlib.patches.Polygon at 0x1cb4e467748>,\n",
       " <matplotlib.patches.Polygon at 0x1cb4e4679e8>,\n",
       " <matplotlib.patches.Polygon at 0x1cb4e467c88>,\n",
       " <matplotlib.patches.Polygon at 0x1cb4e467f28>,\n",
       " <matplotlib.patches.Polygon at 0x1cb4e487240>,\n",
       " <matplotlib.patches.Polygon at 0x1cb4e4874a8>]"
      ]
     },
     "execution_count": 8,
     "metadata": {},
     "output_type": "execute_result"
    },
    {
     "data": {
      "text/plain": [
       "<matplotlib.collections.LineCollection at 0x1cb4e36def0>"
      ]
     },
     "execution_count": 8,
     "metadata": {},
     "output_type": "execute_result"
    },
    {
     "data": {
      "text/plain": [
       "<matplotlib.collections.LineCollection at 0x1cb4e58af28>"
      ]
     },
     "execution_count": 8,
     "metadata": {},
     "output_type": "execute_result"
    },
    {
     "data": {
      "text/plain": [
       "[<matplotlib.lines.Line2D at 0x1cb4e59ff98>]"
      ]
     },
     "execution_count": 8,
     "metadata": {},
     "output_type": "execute_result"
    },
    {
     "data": {
      "text/plain": [
       "Text(0.5, 1.0, 'Filtered occurrences for Nanger soemmerringii')"
      ]
     },
     "execution_count": 8,
     "metadata": {},
     "output_type": "execute_result"
    },
    {
     "data": {
      "text/plain": [
       "<matplotlib.patches.Rectangle at 0x1cb4e49c5f8>"
      ]
     },
     "execution_count": 8,
     "metadata": {},
     "output_type": "execute_result"
    },
    {
     "data": {
      "text/plain": [
       "[<matplotlib.patches.Polygon at 0x1cb4e373ba8>,\n",
       " <matplotlib.patches.Polygon at 0x1cb4e373f60>,\n",
       " <matplotlib.patches.Polygon at 0x1cb4e4f6240>,\n",
       " <matplotlib.patches.Polygon at 0x1cb4e4f64e0>,\n",
       " <matplotlib.patches.Polygon at 0x1cb4e4f6780>,\n",
       " <matplotlib.patches.Polygon at 0x1cb4e4f6a20>,\n",
       " <matplotlib.patches.Polygon at 0x1cb4e4f6cc0>,\n",
       " <matplotlib.patches.Polygon at 0x1cb4e4f6f60>,\n",
       " <matplotlib.patches.Polygon at 0x1cb4e4f7240>,\n",
       " <matplotlib.patches.Polygon at 0x1cb4e4f74e0>,\n",
       " <matplotlib.patches.Polygon at 0x1cb4e4f7780>,\n",
       " <matplotlib.patches.Polygon at 0x1cb4e4f7a20>,\n",
       " <matplotlib.patches.Polygon at 0x1cb4e4f7cc0>,\n",
       " <matplotlib.patches.Polygon at 0x1cb4e4f7f60>,\n",
       " <matplotlib.patches.Polygon at 0x1cb4e7da240>,\n",
       " <matplotlib.patches.Polygon at 0x1cb4e7da4e0>,\n",
       " <matplotlib.patches.Polygon at 0x1cb4e7da780>,\n",
       " <matplotlib.patches.Polygon at 0x1cb4e7daa20>,\n",
       " <matplotlib.patches.Polygon at 0x1cb4e7dacc0>,\n",
       " <matplotlib.patches.Polygon at 0x1cb4e7daf60>,\n",
       " <matplotlib.patches.Polygon at 0x1cb4e7b8240>,\n",
       " <matplotlib.patches.Polygon at 0x1cb4e7b84e0>,\n",
       " <matplotlib.patches.Polygon at 0x1cb4e7b8780>,\n",
       " <matplotlib.patches.Polygon at 0x1cb4e7b8a20>,\n",
       " <matplotlib.patches.Polygon at 0x1cb4e7b8cc0>,\n",
       " <matplotlib.patches.Polygon at 0x1cb4e7b8f60>,\n",
       " <matplotlib.patches.Polygon at 0x1cb4e7c8240>,\n",
       " <matplotlib.patches.Polygon at 0x1cb4e7c84e0>,\n",
       " <matplotlib.patches.Polygon at 0x1cb4e7c8780>,\n",
       " <matplotlib.patches.Polygon at 0x1cb4e7c8a20>,\n",
       " <matplotlib.patches.Polygon at 0x1cb4e7c8cc0>,\n",
       " <matplotlib.patches.Polygon at 0x1cb4e7c8f60>,\n",
       " <matplotlib.patches.Polygon at 0x1cb4e3f2240>,\n",
       " <matplotlib.patches.Polygon at 0x1cb4e3f24e0>,\n",
       " <matplotlib.patches.Polygon at 0x1cb4e3f2780>,\n",
       " <matplotlib.patches.Polygon at 0x1cb4e3f2a20>,\n",
       " <matplotlib.patches.Polygon at 0x1cb4e3f2cc0>,\n",
       " <matplotlib.patches.Polygon at 0x1cb4e3f2f60>,\n",
       " <matplotlib.patches.Polygon at 0x1cb4e41a240>,\n",
       " <matplotlib.patches.Polygon at 0x1cb4e41a518>,\n",
       " <matplotlib.patches.Polygon at 0x1cb4e41a780>,\n",
       " <matplotlib.patches.Polygon at 0x1cb4e41aa20>,\n",
       " <matplotlib.patches.Polygon at 0x1cb4e41acc0>,\n",
       " <matplotlib.patches.Polygon at 0x1cb4e41af60>,\n",
       " <matplotlib.patches.Polygon at 0x1cb4e4c8240>,\n",
       " <matplotlib.patches.Polygon at 0x1cb4e4c84e0>,\n",
       " <matplotlib.patches.Polygon at 0x1cb4e4c8780>,\n",
       " <matplotlib.patches.Polygon at 0x1cb4e4c8a20>,\n",
       " <matplotlib.patches.Polygon at 0x1cb4e4c8cc0>,\n",
       " <matplotlib.patches.Polygon at 0x1cb4e4c8f60>,\n",
       " <matplotlib.patches.Polygon at 0x1cb4e4b1240>,\n",
       " <matplotlib.patches.Polygon at 0x1cb4e4b14e0>,\n",
       " <matplotlib.patches.Polygon at 0x1cb4e4b1780>,\n",
       " <matplotlib.patches.Polygon at 0x1cb4e4b1a20>,\n",
       " <matplotlib.patches.Polygon at 0x1cb4e4b1cc0>,\n",
       " <matplotlib.patches.Polygon at 0x1cb4e4b1f60>,\n",
       " <matplotlib.patches.Polygon at 0x1cb4e4d7240>,\n",
       " <matplotlib.patches.Polygon at 0x1cb4e4d7518>,\n",
       " <matplotlib.patches.Polygon at 0x1cb4e4d7780>,\n",
       " <matplotlib.patches.Polygon at 0x1cb4e4d7a20>,\n",
       " <matplotlib.patches.Polygon at 0x1cb4e4d7cf8>,\n",
       " <matplotlib.patches.Polygon at 0x1cb4e4d7f60>,\n",
       " <matplotlib.patches.Polygon at 0x1cb4e2e8240>,\n",
       " <matplotlib.patches.Polygon at 0x1cb4e2e8518>,\n",
       " <matplotlib.patches.Polygon at 0x1cb4e2e87b8>,\n",
       " <matplotlib.patches.Polygon at 0x1cb4e2e8a20>,\n",
       " <matplotlib.patches.Polygon at 0x1cb4e2e8cc0>]"
      ]
     },
     "execution_count": 8,
     "metadata": {},
     "output_type": "execute_result"
    },
    {
     "data": {
      "text/plain": [
       "<matplotlib.collections.LineCollection at 0x1cb4e2e8da0>"
      ]
     },
     "execution_count": 8,
     "metadata": {},
     "output_type": "execute_result"
    },
    {
     "data": {
      "text/plain": [
       "<matplotlib.collections.LineCollection at 0x1cb4e2e8eb8>"
      ]
     },
     "execution_count": 8,
     "metadata": {},
     "output_type": "execute_result"
    },
    {
     "data": {
      "text/plain": [
       "[<matplotlib.lines.Line2D at 0x1cb4e3aa5f8>]"
      ]
     },
     "execution_count": 8,
     "metadata": {},
     "output_type": "execute_result"
    },
    {
     "data": {
      "text/plain": [
       "Text(0.5, 1.0, 'Filtered occurrences for Neotragus batesi')"
      ]
     },
     "execution_count": 8,
     "metadata": {},
     "output_type": "execute_result"
    },
    {
     "data": {
      "text/plain": [
       "<matplotlib.patches.Rectangle at 0x1cb4e820400>"
      ]
     },
     "execution_count": 8,
     "metadata": {},
     "output_type": "execute_result"
    },
    {
     "data": {
      "text/plain": [
       "[<matplotlib.patches.Polygon at 0x1cb4e3fba20>,\n",
       " <matplotlib.patches.Polygon at 0x1cb4e3fbd30>,\n",
       " <matplotlib.patches.Polygon at 0x1cb4e3fbfd0>,\n",
       " <matplotlib.patches.Polygon at 0x1cb4e3ff2e8>,\n",
       " <matplotlib.patches.Polygon at 0x1cb4e3ff588>,\n",
       " <matplotlib.patches.Polygon at 0x1cb4e3ff828>,\n",
       " <matplotlib.patches.Polygon at 0x1cb4e3ffac8>,\n",
       " <matplotlib.patches.Polygon at 0x1cb4e3ffe48>,\n",
       " <matplotlib.patches.Polygon at 0x1cb4e89e128>,\n",
       " <matplotlib.patches.Polygon at 0x1cb4e89e390>,\n",
       " <matplotlib.patches.Polygon at 0x1cb4e89e630>,\n",
       " <matplotlib.patches.Polygon at 0x1cb4e89e8d0>,\n",
       " <matplotlib.patches.Polygon at 0x1cb4e89eb70>,\n",
       " <matplotlib.patches.Polygon at 0x1cb4e89ee10>,\n",
       " <matplotlib.patches.Polygon at 0x1cb4e5300f0>,\n",
       " <matplotlib.patches.Polygon at 0x1cb4e530390>,\n",
       " <matplotlib.patches.Polygon at 0x1cb4e530630>,\n",
       " <matplotlib.patches.Polygon at 0x1cb4e5308d0>,\n",
       " <matplotlib.patches.Polygon at 0x1cb4e530b70>,\n",
       " <matplotlib.patches.Polygon at 0x1cb4e530e48>,\n",
       " <matplotlib.patches.Polygon at 0x1cb4e82b0f0>,\n",
       " <matplotlib.patches.Polygon at 0x1cb4e82b390>,\n",
       " <matplotlib.patches.Polygon at 0x1cb4e82b630>,\n",
       " <matplotlib.patches.Polygon at 0x1cb4e82b8d0>,\n",
       " <matplotlib.patches.Polygon at 0x1cb4e82bb70>,\n",
       " <matplotlib.patches.Polygon at 0x1cb4e82be10>,\n",
       " <matplotlib.patches.Polygon at 0x1cb4e83e0f0>,\n",
       " <matplotlib.patches.Polygon at 0x1cb4e83e390>,\n",
       " <matplotlib.patches.Polygon at 0x1cb4e83e630>,\n",
       " <matplotlib.patches.Polygon at 0x1cb4e83e8d0>,\n",
       " <matplotlib.patches.Polygon at 0x1cb4e83eb70>,\n",
       " <matplotlib.patches.Polygon at 0x1cb4e83ee10>,\n",
       " <matplotlib.patches.Polygon at 0x1cb4e6b8128>,\n",
       " <matplotlib.patches.Polygon at 0x1cb4e6b8390>,\n",
       " <matplotlib.patches.Polygon at 0x1cb4e6b8668>,\n",
       " <matplotlib.patches.Polygon at 0x1cb4e6b88d0>,\n",
       " <matplotlib.patches.Polygon at 0x1cb4e6b8b70>,\n",
       " <matplotlib.patches.Polygon at 0x1cb4e6b8e48>,\n",
       " <matplotlib.patches.Polygon at 0x1cb4e6db128>,\n",
       " <matplotlib.patches.Polygon at 0x1cb4e6db390>,\n",
       " <matplotlib.patches.Polygon at 0x1cb4e6db630>]"
      ]
     },
     "execution_count": 8,
     "metadata": {},
     "output_type": "execute_result"
    },
    {
     "data": {
      "text/plain": [
       "<matplotlib.collections.LineCollection at 0x1cb4e540908>"
      ]
     },
     "execution_count": 8,
     "metadata": {},
     "output_type": "execute_result"
    },
    {
     "data": {
      "text/plain": [
       "<matplotlib.collections.LineCollection at 0x1cb4e6db710>"
      ]
     },
     "execution_count": 8,
     "metadata": {},
     "output_type": "execute_result"
    },
    {
     "data": {
      "text/plain": [
       "[<matplotlib.lines.Line2D at 0x1cb4e7abd30>]"
      ]
     },
     "execution_count": 8,
     "metadata": {},
     "output_type": "execute_result"
    },
    {
     "data": {
      "text/plain": [
       "Text(0.5, 1.0, 'Filtered occurrences for Neotragus pygmaeus')"
      ]
     },
     "execution_count": 8,
     "metadata": {},
     "output_type": "execute_result"
    },
    {
     "data": {
      "text/plain": [
       "<matplotlib.patches.Rectangle at 0x1cb4e6ea940>"
      ]
     },
     "execution_count": 8,
     "metadata": {},
     "output_type": "execute_result"
    },
    {
     "data": {
      "text/plain": [
       "[<matplotlib.patches.Polygon at 0x1cb4e5c2f60>,\n",
       " <matplotlib.patches.Polygon at 0x1cb4e5c1390>,\n",
       " <matplotlib.patches.Polygon at 0x1cb4e5c1668>,\n",
       " <matplotlib.patches.Polygon at 0x1cb4e5c1908>,\n",
       " <matplotlib.patches.Polygon at 0x1cb4e5c1ba8>,\n",
       " <matplotlib.patches.Polygon at 0x1cb4e5c1e48>,\n",
       " <matplotlib.patches.Polygon at 0x1cb4e5be128>,\n",
       " <matplotlib.patches.Polygon at 0x1cb4e5be3c8>,\n",
       " <matplotlib.patches.Polygon at 0x1cb4e5be668>,\n",
       " <matplotlib.patches.Polygon at 0x1cb4e5be908>,\n",
       " <matplotlib.patches.Polygon at 0x1cb4e5beba8>,\n",
       " <matplotlib.patches.Polygon at 0x1cb4e5bee48>,\n",
       " <matplotlib.patches.Polygon at 0x1cb4fbe0128>,\n",
       " <matplotlib.patches.Polygon at 0x1cb4fbe03c8>,\n",
       " <matplotlib.patches.Polygon at 0x1cb4fbe0668>,\n",
       " <matplotlib.patches.Polygon at 0x1cb4fbe0908>,\n",
       " <matplotlib.patches.Polygon at 0x1cb4fbe0ba8>,\n",
       " <matplotlib.patches.Polygon at 0x1cb4fbe0e48>,\n",
       " <matplotlib.patches.Polygon at 0x1cb4fbef128>,\n",
       " <matplotlib.patches.Polygon at 0x1cb4fbef3c8>,\n",
       " <matplotlib.patches.Polygon at 0x1cb4fbef668>,\n",
       " <matplotlib.patches.Polygon at 0x1cb4fbef908>,\n",
       " <matplotlib.patches.Polygon at 0x1cb4fbefba8>,\n",
       " <matplotlib.patches.Polygon at 0x1cb4fbefe48>,\n",
       " <matplotlib.patches.Polygon at 0x1cb4e73d128>,\n",
       " <matplotlib.patches.Polygon at 0x1cb4e73d3c8>,\n",
       " <matplotlib.patches.Polygon at 0x1cb4e73d668>,\n",
       " <matplotlib.patches.Polygon at 0x1cb4e73d940>,\n",
       " <matplotlib.patches.Polygon at 0x1cb4e73dba8>,\n",
       " <matplotlib.patches.Polygon at 0x1cb4e73de48>,\n",
       " <matplotlib.patches.Polygon at 0x1cb4e74f128>,\n",
       " <matplotlib.patches.Polygon at 0x1cb4e74f3c8>,\n",
       " <matplotlib.patches.Polygon at 0x1cb4e74f668>,\n",
       " <matplotlib.patches.Polygon at 0x1cb4e74f908>,\n",
       " <matplotlib.patches.Polygon at 0x1cb4e74fba8>,\n",
       " <matplotlib.patches.Polygon at 0x1cb4e74fe48>,\n",
       " <matplotlib.patches.Polygon at 0x1cb4e985128>,\n",
       " <matplotlib.patches.Polygon at 0x1cb4e9853c8>,\n",
       " <matplotlib.patches.Polygon at 0x1cb4e985668>,\n",
       " <matplotlib.patches.Polygon at 0x1cb4e985940>,\n",
       " <matplotlib.patches.Polygon at 0x1cb4e985ba8>,\n",
       " <matplotlib.patches.Polygon at 0x1cb4e985e48>,\n",
       " <matplotlib.patches.Polygon at 0x1cb4e98e128>,\n",
       " <matplotlib.patches.Polygon at 0x1cb4e98e3c8>,\n",
       " <matplotlib.patches.Polygon at 0x1cb4e98e6a0>,\n",
       " <matplotlib.patches.Polygon at 0x1cb4e98e908>,\n",
       " <matplotlib.patches.Polygon at 0x1cb4e98eba8>,\n",
       " <matplotlib.patches.Polygon at 0x1cb4e98ee48>,\n",
       " <matplotlib.patches.Polygon at 0x1cb4e99b128>,\n",
       " <matplotlib.patches.Polygon at 0x1cb4e99b3c8>,\n",
       " <matplotlib.patches.Polygon at 0x1cb4e99b668>,\n",
       " <matplotlib.patches.Polygon at 0x1cb4e99b908>,\n",
       " <matplotlib.patches.Polygon at 0x1cb4e99bba8>,\n",
       " <matplotlib.patches.Polygon at 0x1cb4e99be48>,\n",
       " <matplotlib.patches.Polygon at 0x1cb4e6a7128>,\n",
       " <matplotlib.patches.Polygon at 0x1cb4e6a73c8>,\n",
       " <matplotlib.patches.Polygon at 0x1cb4e6a7668>,\n",
       " <matplotlib.patches.Polygon at 0x1cb4e6a7908>,\n",
       " <matplotlib.patches.Polygon at 0x1cb4e6a7ba8>,\n",
       " <matplotlib.patches.Polygon at 0x1cb4e6a7e48>,\n",
       " <matplotlib.patches.Polygon at 0x1cb4e6b9128>,\n",
       " <matplotlib.patches.Polygon at 0x1cb4e6b93c8>,\n",
       " <matplotlib.patches.Polygon at 0x1cb4e6b9668>,\n",
       " <matplotlib.patches.Polygon at 0x1cb4e6b9908>,\n",
       " <matplotlib.patches.Polygon at 0x1cb4e6b9ba8>,\n",
       " <matplotlib.patches.Polygon at 0x1cb4e6b9e48>,\n",
       " <matplotlib.patches.Polygon at 0x1cb4e6d1128>,\n",
       " <matplotlib.patches.Polygon at 0x1cb4e6d13c8>,\n",
       " <matplotlib.patches.Polygon at 0x1cb4e6d1668>,\n",
       " <matplotlib.patches.Polygon at 0x1cb4e6d1908>,\n",
       " <matplotlib.patches.Polygon at 0x1cb4e6d1ba8>,\n",
       " <matplotlib.patches.Polygon at 0x1cb4e6d1e48>,\n",
       " <matplotlib.patches.Polygon at 0x1cb4fd31128>,\n",
       " <matplotlib.patches.Polygon at 0x1cb4fd313c8>,\n",
       " <matplotlib.patches.Polygon at 0x1cb4fd31668>,\n",
       " <matplotlib.patches.Polygon at 0x1cb4fd31908>,\n",
       " <matplotlib.patches.Polygon at 0x1cb4fd31ba8>,\n",
       " <matplotlib.patches.Polygon at 0x1cb4fd31e48>,\n",
       " <matplotlib.patches.Polygon at 0x1cb4fd3a128>,\n",
       " <matplotlib.patches.Polygon at 0x1cb4fd3a3c8>,\n",
       " <matplotlib.patches.Polygon at 0x1cb4fd3a668>,\n",
       " <matplotlib.patches.Polygon at 0x1cb4fd3a908>,\n",
       " <matplotlib.patches.Polygon at 0x1cb4fd3aba8>,\n",
       " <matplotlib.patches.Polygon at 0x1cb4fd3ae48>,\n",
       " <matplotlib.patches.Polygon at 0x1cb4fd43128>,\n",
       " <matplotlib.patches.Polygon at 0x1cb4fd433c8>,\n",
       " <matplotlib.patches.Polygon at 0x1cb4fd43668>,\n",
       " <matplotlib.patches.Polygon at 0x1cb4fd43908>,\n",
       " <matplotlib.patches.Polygon at 0x1cb4fd43ba8>,\n",
       " <matplotlib.patches.Polygon at 0x1cb4fd43e48>,\n",
       " <matplotlib.patches.Polygon at 0x1cb4fd4c128>,\n",
       " <matplotlib.patches.Polygon at 0x1cb4fd4c3c8>,\n",
       " <matplotlib.patches.Polygon at 0x1cb4fd4c668>,\n",
       " <matplotlib.patches.Polygon at 0x1cb4fd4c908>,\n",
       " <matplotlib.patches.Polygon at 0x1cb4fd4cba8>,\n",
       " <matplotlib.patches.Polygon at 0x1cb4fd4ce48>,\n",
       " <matplotlib.patches.Polygon at 0x1cb4fbc8128>,\n",
       " <matplotlib.patches.Polygon at 0x1cb4fbc83c8>,\n",
       " <matplotlib.patches.Polygon at 0x1cb4fbc8668>,\n",
       " <matplotlib.patches.Polygon at 0x1cb4fbc8908>,\n",
       " <matplotlib.patches.Polygon at 0x1cb4fbc8ba8>,\n",
       " <matplotlib.patches.Polygon at 0x1cb4fbc8e48>,\n",
       " <matplotlib.patches.Polygon at 0x1cb4fb98128>,\n",
       " <matplotlib.patches.Polygon at 0x1cb4fb983c8>,\n",
       " <matplotlib.patches.Polygon at 0x1cb4fb98668>,\n",
       " <matplotlib.patches.Polygon at 0x1cb4fb98908>,\n",
       " <matplotlib.patches.Polygon at 0x1cb4fb98ba8>,\n",
       " <matplotlib.patches.Polygon at 0x1cb4fb98e48>,\n",
       " <matplotlib.patches.Polygon at 0x1cb4fba9128>,\n",
       " <matplotlib.patches.Polygon at 0x1cb4fba93c8>,\n",
       " <matplotlib.patches.Polygon at 0x1cb4fba9668>,\n",
       " <matplotlib.patches.Polygon at 0x1cb4fba9908>,\n",
       " <matplotlib.patches.Polygon at 0x1cb4fba9ba8>,\n",
       " <matplotlib.patches.Polygon at 0x1cb4fba9e48>,\n",
       " <matplotlib.patches.Polygon at 0x1cb4fbb9128>]"
      ]
     },
     "execution_count": 8,
     "metadata": {},
     "output_type": "execute_result"
    },
    {
     "data": {
      "text/plain": [
       "<matplotlib.collections.LineCollection at 0x1cb4e5c1358>"
      ]
     },
     "execution_count": 8,
     "metadata": {},
     "output_type": "execute_result"
    },
    {
     "data": {
      "text/plain": [
       "<matplotlib.collections.LineCollection at 0x1cb4fbb9b00>"
      ]
     },
     "execution_count": 8,
     "metadata": {},
     "output_type": "execute_result"
    },
    {
     "data": {
      "text/plain": [
       "[<matplotlib.lines.Line2D at 0x1cb4fbb9a58>]"
      ]
     },
     "execution_count": 8,
     "metadata": {},
     "output_type": "execute_result"
    },
    {
     "data": {
      "text/plain": [
       "Text(0.5, 1.0, 'Filtered occurrences for Odocoileus hemionus')"
      ]
     },
     "execution_count": 8,
     "metadata": {},
     "output_type": "execute_result"
    },
    {
     "data": {
      "text/plain": [
       "<matplotlib.patches.Rectangle at 0x1cb4e99a8d0>"
      ]
     },
     "execution_count": 8,
     "metadata": {},
     "output_type": "execute_result"
    },
    {
     "data": {
      "text/plain": [
       "[<matplotlib.patches.Polygon at 0x1cb502e7ef0>,\n",
       " <matplotlib.patches.Polygon at 0x1cb502fa358>,\n",
       " <matplotlib.patches.Polygon at 0x1cb502fa630>,\n",
       " <matplotlib.patches.Polygon at 0x1cb502fa8d0>,\n",
       " <matplotlib.patches.Polygon at 0x1cb502fab70>,\n",
       " <matplotlib.patches.Polygon at 0x1cb502fae10>,\n",
       " <matplotlib.patches.Polygon at 0x1cb504ff0f0>,\n",
       " <matplotlib.patches.Polygon at 0x1cb504ff390>,\n",
       " <matplotlib.patches.Polygon at 0x1cb504ff630>,\n",
       " <matplotlib.patches.Polygon at 0x1cb504ff8d0>,\n",
       " <matplotlib.patches.Polygon at 0x1cb504ffb38>,\n",
       " <matplotlib.patches.Polygon at 0x1cb504ffdd8>,\n",
       " <matplotlib.patches.Polygon at 0x1cb4e9050b8>,\n",
       " <matplotlib.patches.Polygon at 0x1cb4e905358>,\n",
       " <matplotlib.patches.Polygon at 0x1cb4e9055f8>,\n",
       " <matplotlib.patches.Polygon at 0x1cb4e905898>,\n",
       " <matplotlib.patches.Polygon at 0x1cb4e905b38>,\n",
       " <matplotlib.patches.Polygon at 0x1cb4e905dd8>,\n",
       " <matplotlib.patches.Polygon at 0x1cb4e9130b8>,\n",
       " <matplotlib.patches.Polygon at 0x1cb4e913358>,\n",
       " <matplotlib.patches.Polygon at 0x1cb4e9135f8>,\n",
       " <matplotlib.patches.Polygon at 0x1cb4e913898>,\n",
       " <matplotlib.patches.Polygon at 0x1cb4e913b38>,\n",
       " <matplotlib.patches.Polygon at 0x1cb4e913dd8>,\n",
       " <matplotlib.patches.Polygon at 0x1cb503010b8>,\n",
       " <matplotlib.patches.Polygon at 0x1cb50301358>,\n",
       " <matplotlib.patches.Polygon at 0x1cb503015f8>,\n",
       " <matplotlib.patches.Polygon at 0x1cb50301898>,\n",
       " <matplotlib.patches.Polygon at 0x1cb50301b38>,\n",
       " <matplotlib.patches.Polygon at 0x1cb50301dd8>,\n",
       " <matplotlib.patches.Polygon at 0x1cb503100b8>,\n",
       " <matplotlib.patches.Polygon at 0x1cb50310390>,\n",
       " <matplotlib.patches.Polygon at 0x1cb503105f8>,\n",
       " <matplotlib.patches.Polygon at 0x1cb50310898>,\n",
       " <matplotlib.patches.Polygon at 0x1cb50310b38>,\n",
       " <matplotlib.patches.Polygon at 0x1cb50310dd8>,\n",
       " <matplotlib.patches.Polygon at 0x1cb5031f0b8>,\n",
       " <matplotlib.patches.Polygon at 0x1cb5031f358>,\n",
       " <matplotlib.patches.Polygon at 0x1cb5031f5f8>,\n",
       " <matplotlib.patches.Polygon at 0x1cb5031f898>,\n",
       " <matplotlib.patches.Polygon at 0x1cb5031fb38>,\n",
       " <matplotlib.patches.Polygon at 0x1cb5031fdd8>,\n",
       " <matplotlib.patches.Polygon at 0x1cb4fc210f0>,\n",
       " <matplotlib.patches.Polygon at 0x1cb4fc21358>,\n",
       " <matplotlib.patches.Polygon at 0x1cb4fc215f8>,\n",
       " <matplotlib.patches.Polygon at 0x1cb4fc21898>,\n",
       " <matplotlib.patches.Polygon at 0x1cb4fc21b38>,\n",
       " <matplotlib.patches.Polygon at 0x1cb4fc21dd8>,\n",
       " <matplotlib.patches.Polygon at 0x1cb4fc360b8>,\n",
       " <matplotlib.patches.Polygon at 0x1cb4fc36390>,\n",
       " <matplotlib.patches.Polygon at 0x1cb4fc365f8>,\n",
       " <matplotlib.patches.Polygon at 0x1cb4fc36898>,\n",
       " <matplotlib.patches.Polygon at 0x1cb4fc36b38>,\n",
       " <matplotlib.patches.Polygon at 0x1cb4fc36dd8>,\n",
       " <matplotlib.patches.Polygon at 0x1cb4fc4b0b8>,\n",
       " <matplotlib.patches.Polygon at 0x1cb4fc4b358>,\n",
       " <matplotlib.patches.Polygon at 0x1cb4fc4b5f8>,\n",
       " <matplotlib.patches.Polygon at 0x1cb4fc4b898>,\n",
       " <matplotlib.patches.Polygon at 0x1cb4fc4bb38>,\n",
       " <matplotlib.patches.Polygon at 0x1cb4fc4bdd8>,\n",
       " <matplotlib.patches.Polygon at 0x1cb4fd190b8>,\n",
       " <matplotlib.patches.Polygon at 0x1cb4fd19358>,\n",
       " <matplotlib.patches.Polygon at 0x1cb4fd195f8>,\n",
       " <matplotlib.patches.Polygon at 0x1cb4fd19898>,\n",
       " <matplotlib.patches.Polygon at 0x1cb4fd19b38>,\n",
       " <matplotlib.patches.Polygon at 0x1cb4fd19dd8>,\n",
       " <matplotlib.patches.Polygon at 0x1cb4fd210b8>,\n",
       " <matplotlib.patches.Polygon at 0x1cb4fd21358>,\n",
       " <matplotlib.patches.Polygon at 0x1cb4fd215f8>,\n",
       " <matplotlib.patches.Polygon at 0x1cb4fd21898>,\n",
       " <matplotlib.patches.Polygon at 0x1cb4fd21b38>,\n",
       " <matplotlib.patches.Polygon at 0x1cb4fd21dd8>,\n",
       " <matplotlib.patches.Polygon at 0x1cb4fd2a0b8>,\n",
       " <matplotlib.patches.Polygon at 0x1cb4fd2a358>,\n",
       " <matplotlib.patches.Polygon at 0x1cb4fd2a5f8>,\n",
       " <matplotlib.patches.Polygon at 0x1cb4fd2a898>,\n",
       " <matplotlib.patches.Polygon at 0x1cb4fd2ab38>,\n",
       " <matplotlib.patches.Polygon at 0x1cb4fd2add8>,\n",
       " <matplotlib.patches.Polygon at 0x1cb4fb9e0b8>,\n",
       " <matplotlib.patches.Polygon at 0x1cb4fb9e358>,\n",
       " <matplotlib.patches.Polygon at 0x1cb4fb9e5f8>,\n",
       " <matplotlib.patches.Polygon at 0x1cb4fb9e898>,\n",
       " <matplotlib.patches.Polygon at 0x1cb4fb9eb38>,\n",
       " <matplotlib.patches.Polygon at 0x1cb4fb9edd8>,\n",
       " <matplotlib.patches.Polygon at 0x1cb4fbb60b8>,\n",
       " <matplotlib.patches.Polygon at 0x1cb4fbb6358>,\n",
       " <matplotlib.patches.Polygon at 0x1cb4fbb65f8>,\n",
       " <matplotlib.patches.Polygon at 0x1cb4fbb6898>,\n",
       " <matplotlib.patches.Polygon at 0x1cb4fbb6b38>,\n",
       " <matplotlib.patches.Polygon at 0x1cb4fbb6dd8>,\n",
       " <matplotlib.patches.Polygon at 0x1cb4fbc90b8>,\n",
       " <matplotlib.patches.Polygon at 0x1cb4fbc9358>,\n",
       " <matplotlib.patches.Polygon at 0x1cb4fbc95f8>,\n",
       " <matplotlib.patches.Polygon at 0x1cb4fbc9898>,\n",
       " <matplotlib.patches.Polygon at 0x1cb4fbc9b38>,\n",
       " <matplotlib.patches.Polygon at 0x1cb4fbc9dd8>,\n",
       " <matplotlib.patches.Polygon at 0x1cb4fbdd0b8>,\n",
       " <matplotlib.patches.Polygon at 0x1cb4fbdd358>,\n",
       " <matplotlib.patches.Polygon at 0x1cb4fbdd5f8>,\n",
       " <matplotlib.patches.Polygon at 0x1cb4fbdd898>,\n",
       " <matplotlib.patches.Polygon at 0x1cb4fbddb38>,\n",
       " <matplotlib.patches.Polygon at 0x1cb4fbdddd8>,\n",
       " <matplotlib.patches.Polygon at 0x1cb4fbf20b8>,\n",
       " <matplotlib.patches.Polygon at 0x1cb4fbf2358>,\n",
       " <matplotlib.patches.Polygon at 0x1cb4fbf25f8>,\n",
       " <matplotlib.patches.Polygon at 0x1cb4fbf2898>,\n",
       " <matplotlib.patches.Polygon at 0x1cb4fbf2b38>,\n",
       " <matplotlib.patches.Polygon at 0x1cb4fbf2dd8>,\n",
       " <matplotlib.patches.Polygon at 0x1cb4fc0a0b8>,\n",
       " <matplotlib.patches.Polygon at 0x1cb4fc0a358>,\n",
       " <matplotlib.patches.Polygon at 0x1cb4fc0a5f8>,\n",
       " <matplotlib.patches.Polygon at 0x1cb4fc0a898>,\n",
       " <matplotlib.patches.Polygon at 0x1cb4fc0ab38>,\n",
       " <matplotlib.patches.Polygon at 0x1cb4fc0add8>,\n",
       " <matplotlib.patches.Polygon at 0x1cb50aa40b8>,\n",
       " <matplotlib.patches.Polygon at 0x1cb50aa4358>,\n",
       " <matplotlib.patches.Polygon at 0x1cb50aa45f8>,\n",
       " <matplotlib.patches.Polygon at 0x1cb50aa4898>,\n",
       " <matplotlib.patches.Polygon at 0x1cb50aa4b38>,\n",
       " <matplotlib.patches.Polygon at 0x1cb50aa4dd8>,\n",
       " <matplotlib.patches.Polygon at 0x1cb50aab0b8>]"
      ]
     },
     "execution_count": 8,
     "metadata": {},
     "output_type": "execute_result"
    },
    {
     "data": {
      "text/plain": [
       "<matplotlib.collections.LineCollection at 0x1cb4e905a20>"
      ]
     },
     "execution_count": 8,
     "metadata": {},
     "output_type": "execute_result"
    },
    {
     "data": {
      "text/plain": [
       "<matplotlib.collections.LineCollection at 0x1cb50aabda0>"
      ]
     },
     "execution_count": 8,
     "metadata": {},
     "output_type": "execute_result"
    },
    {
     "data": {
      "text/plain": [
       "[<matplotlib.lines.Line2D at 0x1cb500aae10>]"
      ]
     },
     "execution_count": 8,
     "metadata": {},
     "output_type": "execute_result"
    },
    {
     "data": {
      "text/plain": [
       "Text(0.5, 1.0, 'Filtered occurrences for Odocoileus virginianus')"
      ]
     },
     "execution_count": 8,
     "metadata": {},
     "output_type": "execute_result"
    },
    {
     "data": {
      "text/plain": [
       "<matplotlib.patches.Rectangle at 0x1cb4e97de10>"
      ]
     },
     "execution_count": 8,
     "metadata": {},
     "output_type": "execute_result"
    },
    {
     "data": {
      "text/plain": [
       "[<matplotlib.patches.Polygon at 0x1cb4e73b748>,\n",
       " <matplotlib.patches.Polygon at 0x1cb4e73ba58>,\n",
       " <matplotlib.patches.Polygon at 0x1cb4e73bda0>,\n",
       " <matplotlib.patches.Polygon at 0x1cb30b8e048>,\n",
       " <matplotlib.patches.Polygon at 0x1cb30b8e320>,\n",
       " <matplotlib.patches.Polygon at 0x1cb30b8e5c0>,\n",
       " <matplotlib.patches.Polygon at 0x1cb30b8e860>,\n",
       " <matplotlib.patches.Polygon at 0x1cb30b8eb00>,\n",
       " <matplotlib.patches.Polygon at 0x1cb30b8eda0>,\n",
       " <matplotlib.patches.Polygon at 0x1cb30ba7080>,\n",
       " <matplotlib.patches.Polygon at 0x1cb30ba7320>,\n",
       " <matplotlib.patches.Polygon at 0x1cb30ba75c0>,\n",
       " <matplotlib.patches.Polygon at 0x1cb30ba7860>,\n",
       " <matplotlib.patches.Polygon at 0x1cb30ba7b00>,\n",
       " <matplotlib.patches.Polygon at 0x1cb30ba7da0>,\n",
       " <matplotlib.patches.Polygon at 0x1cb4e970080>,\n",
       " <matplotlib.patches.Polygon at 0x1cb4e970320>,\n",
       " <matplotlib.patches.Polygon at 0x1cb4e9705c0>,\n",
       " <matplotlib.patches.Polygon at 0x1cb4e970860>,\n",
       " <matplotlib.patches.Polygon at 0x1cb4e970b00>,\n",
       " <matplotlib.patches.Polygon at 0x1cb4e970da0>,\n",
       " <matplotlib.patches.Polygon at 0x1cb4e97c080>,\n",
       " <matplotlib.patches.Polygon at 0x1cb4e97c320>,\n",
       " <matplotlib.patches.Polygon at 0x1cb4e97c5c0>,\n",
       " <matplotlib.patches.Polygon at 0x1cb4e97c860>,\n",
       " <matplotlib.patches.Polygon at 0x1cb4e97cb00>,\n",
       " <matplotlib.patches.Polygon at 0x1cb4e97cda0>,\n",
       " <matplotlib.patches.Polygon at 0x1cb4e91f080>,\n",
       " <matplotlib.patches.Polygon at 0x1cb4e91f320>,\n",
       " <matplotlib.patches.Polygon at 0x1cb4e91f5c0>,\n",
       " <matplotlib.patches.Polygon at 0x1cb4e91f860>,\n",
       " <matplotlib.patches.Polygon at 0x1cb4e91fb00>,\n",
       " <matplotlib.patches.Polygon at 0x1cb4e91fda0>,\n",
       " <matplotlib.patches.Polygon at 0x1cb30b95080>,\n",
       " <matplotlib.patches.Polygon at 0x1cb30b95320>,\n",
       " <matplotlib.patches.Polygon at 0x1cb30b955c0>,\n",
       " <matplotlib.patches.Polygon at 0x1cb30b95860>,\n",
       " <matplotlib.patches.Polygon at 0x1cb30b95b00>,\n",
       " <matplotlib.patches.Polygon at 0x1cb30b95da0>,\n",
       " <matplotlib.patches.Polygon at 0x1cb30b80080>,\n",
       " <matplotlib.patches.Polygon at 0x1cb30b80320>,\n",
       " <matplotlib.patches.Polygon at 0x1cb30b805c0>,\n",
       " <matplotlib.patches.Polygon at 0x1cb30b80898>,\n",
       " <matplotlib.patches.Polygon at 0x1cb30b80b00>,\n",
       " <matplotlib.patches.Polygon at 0x1cb30b80da0>,\n",
       " <matplotlib.patches.Polygon at 0x1cb4e6e1080>,\n",
       " <matplotlib.patches.Polygon at 0x1cb4e6e1320>,\n",
       " <matplotlib.patches.Polygon at 0x1cb4e6e15c0>,\n",
       " <matplotlib.patches.Polygon at 0x1cb4e6e1860>,\n",
       " <matplotlib.patches.Polygon at 0x1cb4e6e1b00>,\n",
       " <matplotlib.patches.Polygon at 0x1cb4e6e1da0>,\n",
       " <matplotlib.patches.Polygon at 0x1cb4e71b080>,\n",
       " <matplotlib.patches.Polygon at 0x1cb4e71b320>,\n",
       " <matplotlib.patches.Polygon at 0x1cb4e71b5c0>,\n",
       " <matplotlib.patches.Polygon at 0x1cb4e71b860>,\n",
       " <matplotlib.patches.Polygon at 0x1cb4e71bb00>,\n",
       " <matplotlib.patches.Polygon at 0x1cb4e71bda0>,\n",
       " <matplotlib.patches.Polygon at 0x1cb4e6ff080>,\n",
       " <matplotlib.patches.Polygon at 0x1cb4e6ff320>,\n",
       " <matplotlib.patches.Polygon at 0x1cb4e6ff5c0>,\n",
       " <matplotlib.patches.Polygon at 0x1cb4e6ff860>,\n",
       " <matplotlib.patches.Polygon at 0x1cb4e6ffb00>,\n",
       " <matplotlib.patches.Polygon at 0x1cb4e6ffdd8>,\n",
       " <matplotlib.patches.Polygon at 0x1cb4fcf1080>,\n",
       " <matplotlib.patches.Polygon at 0x1cb4fcf1320>,\n",
       " <matplotlib.patches.Polygon at 0x1cb4fcf15c0>,\n",
       " <matplotlib.patches.Polygon at 0x1cb4fcf1860>,\n",
       " <matplotlib.patches.Polygon at 0x1cb4fcf1b00>,\n",
       " <matplotlib.patches.Polygon at 0x1cb4fcf1da0>,\n",
       " <matplotlib.patches.Polygon at 0x1cb4fcfe080>,\n",
       " <matplotlib.patches.Polygon at 0x1cb4fcfe320>,\n",
       " <matplotlib.patches.Polygon at 0x1cb4fcfe5c0>,\n",
       " <matplotlib.patches.Polygon at 0x1cb4fcfe898>,\n",
       " <matplotlib.patches.Polygon at 0x1cb4fcfeb00>,\n",
       " <matplotlib.patches.Polygon at 0x1cb4fcfeda0>,\n",
       " <matplotlib.patches.Polygon at 0x1cb4fd0d080>,\n",
       " <matplotlib.patches.Polygon at 0x1cb4fd0d320>,\n",
       " <matplotlib.patches.Polygon at 0x1cb4fd0d5c0>,\n",
       " <matplotlib.patches.Polygon at 0x1cb4fd0d860>,\n",
       " <matplotlib.patches.Polygon at 0x1cb4fd0db00>,\n",
       " <matplotlib.patches.Polygon at 0x1cb4fd0dda0>,\n",
       " <matplotlib.patches.Polygon at 0x1cb502f2080>,\n",
       " <matplotlib.patches.Polygon at 0x1cb502f2320>,\n",
       " <matplotlib.patches.Polygon at 0x1cb502f25c0>,\n",
       " <matplotlib.patches.Polygon at 0x1cb502f2860>,\n",
       " <matplotlib.patches.Polygon at 0x1cb502f2b00>,\n",
       " <matplotlib.patches.Polygon at 0x1cb502f2da0>,\n",
       " <matplotlib.patches.Polygon at 0x1cb5030c080>,\n",
       " <matplotlib.patches.Polygon at 0x1cb5030c320>,\n",
       " <matplotlib.patches.Polygon at 0x1cb5030c5c0>,\n",
       " <matplotlib.patches.Polygon at 0x1cb5030c860>,\n",
       " <matplotlib.patches.Polygon at 0x1cb5030cb00>,\n",
       " <matplotlib.patches.Polygon at 0x1cb5030cda0>,\n",
       " <matplotlib.patches.Polygon at 0x1cb50061080>,\n",
       " <matplotlib.patches.Polygon at 0x1cb50061320>,\n",
       " <matplotlib.patches.Polygon at 0x1cb500615c0>,\n",
       " <matplotlib.patches.Polygon at 0x1cb50061860>,\n",
       " <matplotlib.patches.Polygon at 0x1cb50061b00>,\n",
       " <matplotlib.patches.Polygon at 0x1cb50061da0>,\n",
       " <matplotlib.patches.Polygon at 0x1cb50076080>,\n",
       " <matplotlib.patches.Polygon at 0x1cb50076320>,\n",
       " <matplotlib.patches.Polygon at 0x1cb500765c0>,\n",
       " <matplotlib.patches.Polygon at 0x1cb50076860>,\n",
       " <matplotlib.patches.Polygon at 0x1cb50076b00>,\n",
       " <matplotlib.patches.Polygon at 0x1cb50076da0>,\n",
       " <matplotlib.patches.Polygon at 0x1cb50088080>,\n",
       " <matplotlib.patches.Polygon at 0x1cb50088320>,\n",
       " <matplotlib.patches.Polygon at 0x1cb500885c0>,\n",
       " <matplotlib.patches.Polygon at 0x1cb50088860>,\n",
       " <matplotlib.patches.Polygon at 0x1cb50088b00>,\n",
       " <matplotlib.patches.Polygon at 0x1cb50088da0>,\n",
       " <matplotlib.patches.Polygon at 0x1cb500a0080>,\n",
       " <matplotlib.patches.Polygon at 0x1cb500a0320>,\n",
       " <matplotlib.patches.Polygon at 0x1cb500a05c0>,\n",
       " <matplotlib.patches.Polygon at 0x1cb500a0860>,\n",
       " <matplotlib.patches.Polygon at 0x1cb500a0b00>,\n",
       " <matplotlib.patches.Polygon at 0x1cb500a0da0>,\n",
       " <matplotlib.patches.Polygon at 0x1cb500b2080>,\n",
       " <matplotlib.patches.Polygon at 0x1cb500b2320>,\n",
       " <matplotlib.patches.Polygon at 0x1cb500b25c0>,\n",
       " <matplotlib.patches.Polygon at 0x1cb500b2860>,\n",
       " <matplotlib.patches.Polygon at 0x1cb500b2b00>,\n",
       " <matplotlib.patches.Polygon at 0x1cb500b2da0>,\n",
       " <matplotlib.patches.Polygon at 0x1cb500c7080>,\n",
       " <matplotlib.patches.Polygon at 0x1cb500c7320>,\n",
       " <matplotlib.patches.Polygon at 0x1cb500c75c0>,\n",
       " <matplotlib.patches.Polygon at 0x1cb500c7860>,\n",
       " <matplotlib.patches.Polygon at 0x1cb500c7b00>,\n",
       " <matplotlib.patches.Polygon at 0x1cb500c7da0>,\n",
       " <matplotlib.patches.Polygon at 0x1cb500de080>,\n",
       " <matplotlib.patches.Polygon at 0x1cb500de320>,\n",
       " <matplotlib.patches.Polygon at 0x1cb500de5c0>,\n",
       " <matplotlib.patches.Polygon at 0x1cb500de860>,\n",
       " <matplotlib.patches.Polygon at 0x1cb500deb00>,\n",
       " <matplotlib.patches.Polygon at 0x1cb500deda0>,\n",
       " <matplotlib.patches.Polygon at 0x1cb502b5080>,\n",
       " <matplotlib.patches.Polygon at 0x1cb502b5320>,\n",
       " <matplotlib.patches.Polygon at 0x1cb502b55c0>,\n",
       " <matplotlib.patches.Polygon at 0x1cb502b5860>,\n",
       " <matplotlib.patches.Polygon at 0x1cb502b5b00>,\n",
       " <matplotlib.patches.Polygon at 0x1cb502b5da0>]"
      ]
     },
     "execution_count": 8,
     "metadata": {},
     "output_type": "execute_result"
    },
    {
     "data": {
      "text/plain": [
       "<matplotlib.collections.LineCollection at 0x1cb4e73bc18>"
      ]
     },
     "execution_count": 8,
     "metadata": {},
     "output_type": "execute_result"
    },
    {
     "data": {
      "text/plain": [
       "<matplotlib.collections.LineCollection at 0x1cb502ca6a0>"
      ]
     },
     "execution_count": 8,
     "metadata": {},
     "output_type": "execute_result"
    },
    {
     "data": {
      "text/plain": [
       "[<matplotlib.lines.Line2D at 0x1cb502ca470>]"
      ]
     },
     "execution_count": 8,
     "metadata": {},
     "output_type": "execute_result"
    },
    {
     "data": {
      "text/plain": [
       "Text(0.5, 1.0, 'Filtered occurrences for Oreamnos americanus')"
      ]
     },
     "execution_count": 8,
     "metadata": {},
     "output_type": "execute_result"
    },
    {
     "data": {
      "text/plain": [
       "<matplotlib.patches.Rectangle at 0x1cb4fbfc588>"
      ]
     },
     "execution_count": 8,
     "metadata": {},
     "output_type": "execute_result"
    },
    {
     "data": {
      "text/plain": [
       "[<matplotlib.patches.Polygon at 0x1cb50297ba8>,\n",
       " <matplotlib.patches.Polygon at 0x1cb50297eb8>,\n",
       " <matplotlib.patches.Polygon at 0x1cb4e964240>,\n",
       " <matplotlib.patches.Polygon at 0x1cb4e9644e0>,\n",
       " <matplotlib.patches.Polygon at 0x1cb4e964780>,\n",
       " <matplotlib.patches.Polygon at 0x1cb4e964a20>,\n",
       " <matplotlib.patches.Polygon at 0x1cb4e964cc0>,\n",
       " <matplotlib.patches.Polygon at 0x1cb4e964f60>,\n",
       " <matplotlib.patches.Polygon at 0x1cb4e977240>,\n",
       " <matplotlib.patches.Polygon at 0x1cb4e9774e0>,\n",
       " <matplotlib.patches.Polygon at 0x1cb4e977780>,\n",
       " <matplotlib.patches.Polygon at 0x1cb4e977a20>,\n",
       " <matplotlib.patches.Polygon at 0x1cb4e977cc0>,\n",
       " <matplotlib.patches.Polygon at 0x1cb4e977f60>,\n",
       " <matplotlib.patches.Polygon at 0x1cb500e7240>,\n",
       " <matplotlib.patches.Polygon at 0x1cb500e74e0>,\n",
       " <matplotlib.patches.Polygon at 0x1cb500e7780>,\n",
       " <matplotlib.patches.Polygon at 0x1cb500e7a20>,\n",
       " <matplotlib.patches.Polygon at 0x1cb500e7cc0>,\n",
       " <matplotlib.patches.Polygon at 0x1cb500e7f60>,\n",
       " <matplotlib.patches.Polygon at 0x1cb4e751240>,\n",
       " <matplotlib.patches.Polygon at 0x1cb4e7514e0>,\n",
       " <matplotlib.patches.Polygon at 0x1cb4e751780>,\n",
       " <matplotlib.patches.Polygon at 0x1cb4e751a20>,\n",
       " <matplotlib.patches.Polygon at 0x1cb4e751cc0>,\n",
       " <matplotlib.patches.Polygon at 0x1cb4e751f98>,\n",
       " <matplotlib.patches.Polygon at 0x1cb4e8f1240>,\n",
       " <matplotlib.patches.Polygon at 0x1cb4e8f14e0>,\n",
       " <matplotlib.patches.Polygon at 0x1cb4e8f1780>,\n",
       " <matplotlib.patches.Polygon at 0x1cb4e8f1a20>,\n",
       " <matplotlib.patches.Polygon at 0x1cb4e8f1cc0>,\n",
       " <matplotlib.patches.Polygon at 0x1cb4e8f1f60>,\n",
       " <matplotlib.patches.Polygon at 0x1cb4e8e5240>,\n",
       " <matplotlib.patches.Polygon at 0x1cb4e8e54e0>,\n",
       " <matplotlib.patches.Polygon at 0x1cb4e8e5780>,\n",
       " <matplotlib.patches.Polygon at 0x1cb4e8e5a20>,\n",
       " <matplotlib.patches.Polygon at 0x1cb4e8e5cc0>,\n",
       " <matplotlib.patches.Polygon at 0x1cb4e8e5f98>,\n",
       " <matplotlib.patches.Polygon at 0x1cb4fcd5240>]"
      ]
     },
     "execution_count": 8,
     "metadata": {},
     "output_type": "execute_result"
    },
    {
     "data": {
      "text/plain": [
       "<matplotlib.collections.LineCollection at 0x1cb4fcd5390>"
      ]
     },
     "execution_count": 8,
     "metadata": {},
     "output_type": "execute_result"
    },
    {
     "data": {
      "text/plain": [
       "<matplotlib.collections.LineCollection at 0x1cb4fcd58d0>"
      ]
     },
     "execution_count": 8,
     "metadata": {},
     "output_type": "execute_result"
    },
    {
     "data": {
      "text/plain": [
       "[<matplotlib.lines.Line2D at 0x1cb4fd0ccc0>]"
      ]
     },
     "execution_count": 8,
     "metadata": {},
     "output_type": "execute_result"
    },
    {
     "data": {
      "text/plain": [
       "Text(0.5, 1.0, 'Filtered occurrences for Oreotragus oreotragus')"
      ]
     },
     "execution_count": 8,
     "metadata": {},
     "output_type": "execute_result"
    },
    {
     "data": {
      "text/plain": [
       "<matplotlib.patches.Rectangle at 0x1cb4fce8c88>"
      ]
     },
     "execution_count": 8,
     "metadata": {},
     "output_type": "execute_result"
    },
    {
     "data": {
      "text/plain": [
       "[<matplotlib.patches.Polygon at 0x1cb30b93400>,\n",
       " <matplotlib.patches.Polygon at 0x1cb30b93710>,\n",
       " <matplotlib.patches.Polygon at 0x1cb30b939b0>,\n",
       " <matplotlib.patches.Polygon at 0x1cb30b93c50>,\n",
       " <matplotlib.patches.Polygon at 0x1cb30b93ef0>,\n",
       " <matplotlib.patches.Polygon at 0x1cb50a471d0>,\n",
       " <matplotlib.patches.Polygon at 0x1cb50a47470>,\n",
       " <matplotlib.patches.Polygon at 0x1cb50a47710>,\n",
       " <matplotlib.patches.Polygon at 0x1cb50a479b0>,\n",
       " <matplotlib.patches.Polygon at 0x1cb50a47c50>,\n",
       " <matplotlib.patches.Polygon at 0x1cb50a47ef0>,\n",
       " <matplotlib.patches.Polygon at 0x1cb50a571d0>,\n",
       " <matplotlib.patches.Polygon at 0x1cb50a57470>,\n",
       " <matplotlib.patches.Polygon at 0x1cb50a57710>,\n",
       " <matplotlib.patches.Polygon at 0x1cb50a579b0>,\n",
       " <matplotlib.patches.Polygon at 0x1cb50a57c50>,\n",
       " <matplotlib.patches.Polygon at 0x1cb50a57ef0>,\n",
       " <matplotlib.patches.Polygon at 0x1cb503491d0>,\n",
       " <matplotlib.patches.Polygon at 0x1cb50349470>,\n",
       " <matplotlib.patches.Polygon at 0x1cb50349710>,\n",
       " <matplotlib.patches.Polygon at 0x1cb503499b0>,\n",
       " <matplotlib.patches.Polygon at 0x1cb50349c50>,\n",
       " <matplotlib.patches.Polygon at 0x1cb50349ef0>,\n",
       " <matplotlib.patches.Polygon at 0x1cb503661d0>,\n",
       " <matplotlib.patches.Polygon at 0x1cb50366470>,\n",
       " <matplotlib.patches.Polygon at 0x1cb50366710>,\n",
       " <matplotlib.patches.Polygon at 0x1cb503669e8>,\n",
       " <matplotlib.patches.Polygon at 0x1cb50366c50>,\n",
       " <matplotlib.patches.Polygon at 0x1cb50366ef0>,\n",
       " <matplotlib.patches.Polygon at 0x1cb5034e1d0>,\n",
       " <matplotlib.patches.Polygon at 0x1cb5034e470>,\n",
       " <matplotlib.patches.Polygon at 0x1cb5034e710>,\n",
       " <matplotlib.patches.Polygon at 0x1cb5034e9b0>,\n",
       " <matplotlib.patches.Polygon at 0x1cb5034ec50>,\n",
       " <matplotlib.patches.Polygon at 0x1cb5034eef0>,\n",
       " <matplotlib.patches.Polygon at 0x1cb30ba41d0>,\n",
       " <matplotlib.patches.Polygon at 0x1cb30ba4470>,\n",
       " <matplotlib.patches.Polygon at 0x1cb30ba4710>,\n",
       " <matplotlib.patches.Polygon at 0x1cb30ba49b0>,\n",
       " <matplotlib.patches.Polygon at 0x1cb30ba4c50>,\n",
       " <matplotlib.patches.Polygon at 0x1cb30ba4ef0>,\n",
       " <matplotlib.patches.Polygon at 0x1cb30bc9208>,\n",
       " <matplotlib.patches.Polygon at 0x1cb30bc9470>,\n",
       " <matplotlib.patches.Polygon at 0x1cb30bc9710>]"
      ]
     },
     "execution_count": 8,
     "metadata": {},
     "output_type": "execute_result"
    },
    {
     "data": {
      "text/plain": [
       "<matplotlib.collections.LineCollection at 0x1cb30bc9b38>"
      ]
     },
     "execution_count": 8,
     "metadata": {},
     "output_type": "execute_result"
    },
    {
     "data": {
      "text/plain": [
       "<matplotlib.collections.LineCollection at 0x1cb30bc97f0>"
      ]
     },
     "execution_count": 8,
     "metadata": {},
     "output_type": "execute_result"
    },
    {
     "data": {
      "text/plain": [
       "[<matplotlib.lines.Line2D at 0x1cb2e98b6a0>]"
      ]
     },
     "execution_count": 8,
     "metadata": {},
     "output_type": "execute_result"
    },
    {
     "data": {
      "text/plain": [
       "Text(0.5, 1.0, 'Filtered occurrences for Oryx beisa')"
      ]
     },
     "execution_count": 8,
     "metadata": {},
     "output_type": "execute_result"
    },
    {
     "data": {
      "text/plain": [
       "<matplotlib.patches.Rectangle at 0x1cb5037d2b0>"
      ]
     },
     "execution_count": 8,
     "metadata": {},
     "output_type": "execute_result"
    },
    {
     "data": {
      "text/plain": [
       "[<matplotlib.patches.Polygon at 0x1cb504f88d0>,\n",
       " <matplotlib.patches.Polygon at 0x1cb504f8cc0>,\n",
       " <matplotlib.patches.Polygon at 0x1cb504f8f98>,\n",
       " <matplotlib.patches.Polygon at 0x1cb50383278>,\n",
       " <matplotlib.patches.Polygon at 0x1cb50383518>,\n",
       " <matplotlib.patches.Polygon at 0x1cb503837b8>,\n",
       " <matplotlib.patches.Polygon at 0x1cb50383a58>,\n",
       " <matplotlib.patches.Polygon at 0x1cb50383cf8>,\n",
       " <matplotlib.patches.Polygon at 0x1cb50383f98>,\n",
       " <matplotlib.patches.Polygon at 0x1cb50518278>,\n",
       " <matplotlib.patches.Polygon at 0x1cb50518518>,\n",
       " <matplotlib.patches.Polygon at 0x1cb505187b8>,\n",
       " <matplotlib.patches.Polygon at 0x1cb50518a58>,\n",
       " <matplotlib.patches.Polygon at 0x1cb50518cf8>,\n",
       " <matplotlib.patches.Polygon at 0x1cb50518f98>,\n",
       " <matplotlib.patches.Polygon at 0x1cb30bac278>,\n",
       " <matplotlib.patches.Polygon at 0x1cb30bac518>,\n",
       " <matplotlib.patches.Polygon at 0x1cb30bac7b8>,\n",
       " <matplotlib.patches.Polygon at 0x1cb30baca58>,\n",
       " <matplotlib.patches.Polygon at 0x1cb30bacd30>,\n",
       " <matplotlib.patches.Polygon at 0x1cb30bacf98>,\n",
       " <matplotlib.patches.Polygon at 0x1cb30bbc278>,\n",
       " <matplotlib.patches.Polygon at 0x1cb30bbc518>,\n",
       " <matplotlib.patches.Polygon at 0x1cb30bbc7b8>,\n",
       " <matplotlib.patches.Polygon at 0x1cb30bbca58>,\n",
       " <matplotlib.patches.Polygon at 0x1cb30bbccf8>,\n",
       " <matplotlib.patches.Polygon at 0x1cb30bbcf98>,\n",
       " <matplotlib.patches.Polygon at 0x1cb30bd3278>,\n",
       " <matplotlib.patches.Polygon at 0x1cb30bd3518>,\n",
       " <matplotlib.patches.Polygon at 0x1cb30bd37b8>,\n",
       " <matplotlib.patches.Polygon at 0x1cb30bd3a58>,\n",
       " <matplotlib.patches.Polygon at 0x1cb30bd3d30>,\n",
       " <matplotlib.patches.Polygon at 0x1cb30bd3fd0>]"
      ]
     },
     "execution_count": 8,
     "metadata": {},
     "output_type": "execute_result"
    },
    {
     "data": {
      "text/plain": [
       "<matplotlib.collections.LineCollection at 0x1cb2e97a390>"
      ]
     },
     "execution_count": 8,
     "metadata": {},
     "output_type": "execute_result"
    },
    {
     "data": {
      "text/plain": [
       "<matplotlib.collections.LineCollection at 0x1cb2e97a828>"
      ]
     },
     "execution_count": 8,
     "metadata": {},
     "output_type": "execute_result"
    },
    {
     "data": {
      "text/plain": [
       "[<matplotlib.lines.Line2D at 0x1cb2e98cc88>]"
      ]
     },
     "execution_count": 8,
     "metadata": {},
     "output_type": "execute_result"
    },
    {
     "data": {
      "text/plain": [
       "Text(0.5, 1.0, 'Filtered occurrences for Oryx gazella')"
      ]
     },
     "execution_count": 8,
     "metadata": {},
     "output_type": "execute_result"
    },
    {
     "data": {
      "text/plain": [
       "<matplotlib.patches.Rectangle at 0x1cb50449160>"
      ]
     },
     "execution_count": 8,
     "metadata": {},
     "output_type": "execute_result"
    },
    {
     "data": {
      "text/plain": [
       "[<matplotlib.patches.Polygon at 0x1cb4fc84780>,\n",
       " <matplotlib.patches.Polygon at 0x1cb4fc84ba8>,\n",
       " <matplotlib.patches.Polygon at 0x1cb4fc84e80>,\n",
       " <matplotlib.patches.Polygon at 0x1cb4fc60160>,\n",
       " <matplotlib.patches.Polygon at 0x1cb4fc60400>,\n",
       " <matplotlib.patches.Polygon at 0x1cb4fc606a0>,\n",
       " <matplotlib.patches.Polygon at 0x1cb4fc60940>,\n",
       " <matplotlib.patches.Polygon at 0x1cb4fc60be0>,\n",
       " <matplotlib.patches.Polygon at 0x1cb4fc60e80>,\n",
       " <matplotlib.patches.Polygon at 0x1cb50452160>,\n",
       " <matplotlib.patches.Polygon at 0x1cb50452400>,\n",
       " <matplotlib.patches.Polygon at 0x1cb504526a0>,\n",
       " <matplotlib.patches.Polygon at 0x1cb50452940>,\n",
       " <matplotlib.patches.Polygon at 0x1cb50452be0>,\n",
       " <matplotlib.patches.Polygon at 0x1cb50452e80>,\n",
       " <matplotlib.patches.Polygon at 0x1cb50462160>,\n",
       " <matplotlib.patches.Polygon at 0x1cb50462400>,\n",
       " <matplotlib.patches.Polygon at 0x1cb504626a0>,\n",
       " <matplotlib.patches.Polygon at 0x1cb50462940>,\n",
       " <matplotlib.patches.Polygon at 0x1cb50462be0>,\n",
       " <matplotlib.patches.Polygon at 0x1cb50462eb8>,\n",
       " <matplotlib.patches.Polygon at 0x1cb50473160>,\n",
       " <matplotlib.patches.Polygon at 0x1cb50473400>,\n",
       " <matplotlib.patches.Polygon at 0x1cb504736a0>,\n",
       " <matplotlib.patches.Polygon at 0x1cb50473940>,\n",
       " <matplotlib.patches.Polygon at 0x1cb50473be0>,\n",
       " <matplotlib.patches.Polygon at 0x1cb50473e80>,\n",
       " <matplotlib.patches.Polygon at 0x1cb509ec160>,\n",
       " <matplotlib.patches.Polygon at 0x1cb509ec400>,\n",
       " <matplotlib.patches.Polygon at 0x1cb509ec6a0>,\n",
       " <matplotlib.patches.Polygon at 0x1cb509ec940>,\n",
       " <matplotlib.patches.Polygon at 0x1cb509ecbe0>,\n",
       " <matplotlib.patches.Polygon at 0x1cb509ece80>,\n",
       " <matplotlib.patches.Polygon at 0x1cb509f6160>,\n",
       " <matplotlib.patches.Polygon at 0x1cb509f6400>,\n",
       " <matplotlib.patches.Polygon at 0x1cb509f66a0>,\n",
       " <matplotlib.patches.Polygon at 0x1cb509f6940>,\n",
       " <matplotlib.patches.Polygon at 0x1cb509f6be0>,\n",
       " <matplotlib.patches.Polygon at 0x1cb509f6e80>,\n",
       " <matplotlib.patches.Polygon at 0x1cb509fe198>,\n",
       " <matplotlib.patches.Polygon at 0x1cb509fe400>,\n",
       " <matplotlib.patches.Polygon at 0x1cb509fe6a0>,\n",
       " <matplotlib.patches.Polygon at 0x1cb509fe940>,\n",
       " <matplotlib.patches.Polygon at 0x1cb509febe0>,\n",
       " <matplotlib.patches.Polygon at 0x1cb509fee80>,\n",
       " <matplotlib.patches.Polygon at 0x1cb30c15160>,\n",
       " <matplotlib.patches.Polygon at 0x1cb30c15400>,\n",
       " <matplotlib.patches.Polygon at 0x1cb30c156a0>,\n",
       " <matplotlib.patches.Polygon at 0x1cb30c15940>,\n",
       " <matplotlib.patches.Polygon at 0x1cb30c15be0>,\n",
       " <matplotlib.patches.Polygon at 0x1cb30c15e80>,\n",
       " <matplotlib.patches.Polygon at 0x1cb30bf1160>,\n",
       " <matplotlib.patches.Polygon at 0x1cb30bf1400>,\n",
       " <matplotlib.patches.Polygon at 0x1cb30bf16a0>,\n",
       " <matplotlib.patches.Polygon at 0x1cb30bf1940>,\n",
       " <matplotlib.patches.Polygon at 0x1cb30bf1be0>,\n",
       " <matplotlib.patches.Polygon at 0x1cb30bf1e80>,\n",
       " <matplotlib.patches.Polygon at 0x1cb30c06160>,\n",
       " <matplotlib.patches.Polygon at 0x1cb30c06438>,\n",
       " <matplotlib.patches.Polygon at 0x1cb30c066a0>,\n",
       " <matplotlib.patches.Polygon at 0x1cb30c06978>,\n",
       " <matplotlib.patches.Polygon at 0x1cb30c06be0>,\n",
       " <matplotlib.patches.Polygon at 0x1cb30c06e80>,\n",
       " <matplotlib.patches.Polygon at 0x1cb4e8a9198>,\n",
       " <matplotlib.patches.Polygon at 0x1cb4e8a9438>,\n",
       " <matplotlib.patches.Polygon at 0x1cb4e8a96a0>,\n",
       " <matplotlib.patches.Polygon at 0x1cb4e8a9940>]"
      ]
     },
     "execution_count": 8,
     "metadata": {},
     "output_type": "execute_result"
    },
    {
     "data": {
      "text/plain": [
       "<matplotlib.collections.LineCollection at 0x1cb4e8a9048>"
      ]
     },
     "execution_count": 8,
     "metadata": {},
     "output_type": "execute_result"
    },
    {
     "data": {
      "text/plain": [
       "<matplotlib.collections.LineCollection at 0x1cb4e8a9cf8>"
      ]
     },
     "execution_count": 8,
     "metadata": {},
     "output_type": "execute_result"
    },
    {
     "data": {
      "text/plain": [
       "[<matplotlib.lines.Line2D at 0x1cb30c485c0>]"
      ]
     },
     "execution_count": 8,
     "metadata": {},
     "output_type": "execute_result"
    },
    {
     "data": {
      "text/plain": [
       "Text(0.5, 1.0, 'Filtered occurrences for Ourebia ourebi')"
      ]
     },
     "execution_count": 8,
     "metadata": {},
     "output_type": "execute_result"
    },
    {
     "data": {
      "text/plain": [
       "<matplotlib.patches.Rectangle at 0x1cb4e937748>"
      ]
     },
     "execution_count": 8,
     "metadata": {},
     "output_type": "execute_result"
    },
    {
     "data": {
      "text/plain": [
       "[<matplotlib.patches.Polygon at 0x1cb4fc56b38>,\n",
       " <matplotlib.patches.Polygon at 0x1cb4fc56e48>,\n",
       " <matplotlib.patches.Polygon at 0x1cb4fc87240>,\n",
       " <matplotlib.patches.Polygon at 0x1cb4fc874e0>,\n",
       " <matplotlib.patches.Polygon at 0x1cb4fc87780>,\n",
       " <matplotlib.patches.Polygon at 0x1cb4fc87a20>,\n",
       " <matplotlib.patches.Polygon at 0x1cb4fc87cc0>,\n",
       " <matplotlib.patches.Polygon at 0x1cb4fc87f60>,\n",
       " <matplotlib.patches.Polygon at 0x1cb5299f240>,\n",
       " <matplotlib.patches.Polygon at 0x1cb5299f4e0>,\n",
       " <matplotlib.patches.Polygon at 0x1cb5299f780>,\n",
       " <matplotlib.patches.Polygon at 0x1cb5299fa20>,\n",
       " <matplotlib.patches.Polygon at 0x1cb5299fcc0>,\n",
       " <matplotlib.patches.Polygon at 0x1cb5299ff60>,\n",
       " <matplotlib.patches.Polygon at 0x1cb529ad240>,\n",
       " <matplotlib.patches.Polygon at 0x1cb529ad4e0>,\n",
       " <matplotlib.patches.Polygon at 0x1cb529ad780>,\n",
       " <matplotlib.patches.Polygon at 0x1cb529ada20>,\n",
       " <matplotlib.patches.Polygon at 0x1cb529adc88>,\n",
       " <matplotlib.patches.Polygon at 0x1cb529adf28>,\n",
       " <matplotlib.patches.Polygon at 0x1cb529bd208>,\n",
       " <matplotlib.patches.Polygon at 0x1cb529bd4a8>,\n",
       " <matplotlib.patches.Polygon at 0x1cb529bd748>,\n",
       " <matplotlib.patches.Polygon at 0x1cb529bd9e8>,\n",
       " <matplotlib.patches.Polygon at 0x1cb529bdc88>,\n",
       " <matplotlib.patches.Polygon at 0x1cb529bdf28>,\n",
       " <matplotlib.patches.Polygon at 0x1cb30bf0208>,\n",
       " <matplotlib.patches.Polygon at 0x1cb30bf04a8>,\n",
       " <matplotlib.patches.Polygon at 0x1cb30bf0748>,\n",
       " <matplotlib.patches.Polygon at 0x1cb30bf09e8>,\n",
       " <matplotlib.patches.Polygon at 0x1cb30bf0c88>,\n",
       " <matplotlib.patches.Polygon at 0x1cb30bf0f28>,\n",
       " <matplotlib.patches.Polygon at 0x1cb30c0a208>,\n",
       " <matplotlib.patches.Polygon at 0x1cb30c0a4a8>,\n",
       " <matplotlib.patches.Polygon at 0x1cb30c0a748>,\n",
       " <matplotlib.patches.Polygon at 0x1cb30c0a9e8>,\n",
       " <matplotlib.patches.Polygon at 0x1cb30c0ac88>,\n",
       " <matplotlib.patches.Polygon at 0x1cb30c0af28>,\n",
       " <matplotlib.patches.Polygon at 0x1cb503d2208>,\n",
       " <matplotlib.patches.Polygon at 0x1cb503d24a8>,\n",
       " <matplotlib.patches.Polygon at 0x1cb503d2748>,\n",
       " <matplotlib.patches.Polygon at 0x1cb503d29e8>,\n",
       " <matplotlib.patches.Polygon at 0x1cb503d2c88>,\n",
       " <matplotlib.patches.Polygon at 0x1cb503d2f28>,\n",
       " <matplotlib.patches.Polygon at 0x1cb503e7208>,\n",
       " <matplotlib.patches.Polygon at 0x1cb503e74a8>,\n",
       " <matplotlib.patches.Polygon at 0x1cb503e7748>,\n",
       " <matplotlib.patches.Polygon at 0x1cb503e79e8>,\n",
       " <matplotlib.patches.Polygon at 0x1cb503e7c88>,\n",
       " <matplotlib.patches.Polygon at 0x1cb503e7f28>,\n",
       " <matplotlib.patches.Polygon at 0x1cb503fa208>,\n",
       " <matplotlib.patches.Polygon at 0x1cb503fa4a8>,\n",
       " <matplotlib.patches.Polygon at 0x1cb503fa780>,\n",
       " <matplotlib.patches.Polygon at 0x1cb503fa9e8>,\n",
       " <matplotlib.patches.Polygon at 0x1cb503fac88>,\n",
       " <matplotlib.patches.Polygon at 0x1cb503faf28>,\n",
       " <matplotlib.patches.Polygon at 0x1cb50410208>,\n",
       " <matplotlib.patches.Polygon at 0x1cb504104a8>,\n",
       " <matplotlib.patches.Polygon at 0x1cb50410748>,\n",
       " <matplotlib.patches.Polygon at 0x1cb504109e8>,\n",
       " <matplotlib.patches.Polygon at 0x1cb50410c88>,\n",
       " <matplotlib.patches.Polygon at 0x1cb50410f28>,\n",
       " <matplotlib.patches.Polygon at 0x1cb50427208>,\n",
       " <matplotlib.patches.Polygon at 0x1cb504274a8>,\n",
       " <matplotlib.patches.Polygon at 0x1cb50427748>,\n",
       " <matplotlib.patches.Polygon at 0x1cb504279e8>,\n",
       " <matplotlib.patches.Polygon at 0x1cb50427c88>,\n",
       " <matplotlib.patches.Polygon at 0x1cb50427f28>,\n",
       " <matplotlib.patches.Polygon at 0x1cb5043a208>,\n",
       " <matplotlib.patches.Polygon at 0x1cb5043a4a8>,\n",
       " <matplotlib.patches.Polygon at 0x1cb5043a748>,\n",
       " <matplotlib.patches.Polygon at 0x1cb5043a9e8>,\n",
       " <matplotlib.patches.Polygon at 0x1cb5043ac88>,\n",
       " <matplotlib.patches.Polygon at 0x1cb5043af28>,\n",
       " <matplotlib.patches.Polygon at 0x1cb50443208>,\n",
       " <matplotlib.patches.Polygon at 0x1cb504434a8>,\n",
       " <matplotlib.patches.Polygon at 0x1cb50443748>,\n",
       " <matplotlib.patches.Polygon at 0x1cb504439e8>,\n",
       " <matplotlib.patches.Polygon at 0x1cb50443c88>,\n",
       " <matplotlib.patches.Polygon at 0x1cb50443f28>,\n",
       " <matplotlib.patches.Polygon at 0x1cb50458208>,\n",
       " <matplotlib.patches.Polygon at 0x1cb504584a8>,\n",
       " <matplotlib.patches.Polygon at 0x1cb50458780>,\n",
       " <matplotlib.patches.Polygon at 0x1cb504589e8>,\n",
       " <matplotlib.patches.Polygon at 0x1cb50458c88>,\n",
       " <matplotlib.patches.Polygon at 0x1cb50458f28>,\n",
       " <matplotlib.patches.Polygon at 0x1cb50472208>,\n",
       " <matplotlib.patches.Polygon at 0x1cb504724a8>,\n",
       " <matplotlib.patches.Polygon at 0x1cb50472748>,\n",
       " <matplotlib.patches.Polygon at 0x1cb504729e8>,\n",
       " <matplotlib.patches.Polygon at 0x1cb50472c88>,\n",
       " <matplotlib.patches.Polygon at 0x1cb50472f28>,\n",
       " <matplotlib.patches.Polygon at 0x1cb30c25208>,\n",
       " <matplotlib.patches.Polygon at 0x1cb30c254a8>,\n",
       " <matplotlib.patches.Polygon at 0x1cb30c25780>,\n",
       " <matplotlib.patches.Polygon at 0x1cb30c259e8>,\n",
       " <matplotlib.patches.Polygon at 0x1cb30c25c88>,\n",
       " <matplotlib.patches.Polygon at 0x1cb30c25f28>,\n",
       " <matplotlib.patches.Polygon at 0x1cb30c34208>,\n",
       " <matplotlib.patches.Polygon at 0x1cb30c344a8>,\n",
       " <matplotlib.patches.Polygon at 0x1cb30c34748>,\n",
       " <matplotlib.patches.Polygon at 0x1cb30c349e8>,\n",
       " <matplotlib.patches.Polygon at 0x1cb30c34c88>,\n",
       " <matplotlib.patches.Polygon at 0x1cb30c34f28>,\n",
       " <matplotlib.patches.Polygon at 0x1cb30c47208>,\n",
       " <matplotlib.patches.Polygon at 0x1cb30c474a8>,\n",
       " <matplotlib.patches.Polygon at 0x1cb30c47748>,\n",
       " <matplotlib.patches.Polygon at 0x1cb30c479e8>,\n",
       " <matplotlib.patches.Polygon at 0x1cb30c47c88>,\n",
       " <matplotlib.patches.Polygon at 0x1cb30c47f28>,\n",
       " <matplotlib.patches.Polygon at 0x1cb509db208>,\n",
       " <matplotlib.patches.Polygon at 0x1cb509db4a8>,\n",
       " <matplotlib.patches.Polygon at 0x1cb509db748>,\n",
       " <matplotlib.patches.Polygon at 0x1cb509db9e8>,\n",
       " <matplotlib.patches.Polygon at 0x1cb509dbc88>,\n",
       " <matplotlib.patches.Polygon at 0x1cb509dbf28>,\n",
       " <matplotlib.patches.Polygon at 0x1cb509c2208>,\n",
       " <matplotlib.patches.Polygon at 0x1cb509c24a8>,\n",
       " <matplotlib.patches.Polygon at 0x1cb509c2748>,\n",
       " <matplotlib.patches.Polygon at 0x1cb509c29e8>,\n",
       " <matplotlib.patches.Polygon at 0x1cb509c2c88>,\n",
       " <matplotlib.patches.Polygon at 0x1cb509c2f28>,\n",
       " <matplotlib.patches.Polygon at 0x1cb509cd208>,\n",
       " <matplotlib.patches.Polygon at 0x1cb509cd4a8>,\n",
       " <matplotlib.patches.Polygon at 0x1cb509cd748>,\n",
       " <matplotlib.patches.Polygon at 0x1cb509cd9e8>,\n",
       " <matplotlib.patches.Polygon at 0x1cb509cdc88>,\n",
       " <matplotlib.patches.Polygon at 0x1cb509cdf28>,\n",
       " <matplotlib.patches.Polygon at 0x1cb509d5208>,\n",
       " <matplotlib.patches.Polygon at 0x1cb509d54a8>,\n",
       " <matplotlib.patches.Polygon at 0x1cb509d5748>,\n",
       " <matplotlib.patches.Polygon at 0x1cb509d59e8>,\n",
       " <matplotlib.patches.Polygon at 0x1cb509d5c88>,\n",
       " <matplotlib.patches.Polygon at 0x1cb509d5f28>,\n",
       " <matplotlib.patches.Polygon at 0x1cb52952208>,\n",
       " <matplotlib.patches.Polygon at 0x1cb529524a8>,\n",
       " <matplotlib.patches.Polygon at 0x1cb52952748>,\n",
       " <matplotlib.patches.Polygon at 0x1cb529529e8>,\n",
       " <matplotlib.patches.Polygon at 0x1cb52952c88>,\n",
       " <matplotlib.patches.Polygon at 0x1cb52952f28>,\n",
       " <matplotlib.patches.Polygon at 0x1cb52961208>,\n",
       " <matplotlib.patches.Polygon at 0x1cb529614a8>,\n",
       " <matplotlib.patches.Polygon at 0x1cb52961748>,\n",
       " <matplotlib.patches.Polygon at 0x1cb529619e8>,\n",
       " <matplotlib.patches.Polygon at 0x1cb52961c88>,\n",
       " <matplotlib.patches.Polygon at 0x1cb52961f28>,\n",
       " <matplotlib.patches.Polygon at 0x1cb5296e208>,\n",
       " <matplotlib.patches.Polygon at 0x1cb5296e4a8>,\n",
       " <matplotlib.patches.Polygon at 0x1cb5296e748>,\n",
       " <matplotlib.patches.Polygon at 0x1cb5296e9e8>,\n",
       " <matplotlib.patches.Polygon at 0x1cb5296ec88>,\n",
       " <matplotlib.patches.Polygon at 0x1cb5296ef28>,\n",
       " <matplotlib.patches.Polygon at 0x1cb5297f208>,\n",
       " <matplotlib.patches.Polygon at 0x1cb5297f4a8>,\n",
       " <matplotlib.patches.Polygon at 0x1cb5297f748>,\n",
       " <matplotlib.patches.Polygon at 0x1cb5297f9e8>,\n",
       " <matplotlib.patches.Polygon at 0x1cb5297fc88>,\n",
       " <matplotlib.patches.Polygon at 0x1cb5297ff28>,\n",
       " <matplotlib.patches.Polygon at 0x1cb50a07208>,\n",
       " <matplotlib.patches.Polygon at 0x1cb50a074a8>,\n",
       " <matplotlib.patches.Polygon at 0x1cb50a07748>,\n",
       " <matplotlib.patches.Polygon at 0x1cb50a079e8>,\n",
       " <matplotlib.patches.Polygon at 0x1cb50a07c88>,\n",
       " <matplotlib.patches.Polygon at 0x1cb50a07f28>,\n",
       " <matplotlib.patches.Polygon at 0x1cb50a17208>,\n",
       " <matplotlib.patches.Polygon at 0x1cb50a174a8>,\n",
       " <matplotlib.patches.Polygon at 0x1cb50a17748>]"
      ]
     },
     "execution_count": 8,
     "metadata": {},
     "output_type": "execute_result"
    },
    {
     "data": {
      "text/plain": [
       "<matplotlib.collections.LineCollection at 0x1cb50a17be0>"
      ]
     },
     "execution_count": 8,
     "metadata": {},
     "output_type": "execute_result"
    },
    {
     "data": {
      "text/plain": [
       "<matplotlib.collections.LineCollection at 0x1cb50a17860>"
      ]
     },
     "execution_count": 8,
     "metadata": {},
     "output_type": "execute_result"
    },
    {
     "data": {
      "text/plain": [
       "[<matplotlib.lines.Line2D at 0x1cb30c0a390>]"
      ]
     },
     "execution_count": 8,
     "metadata": {},
     "output_type": "execute_result"
    },
    {
     "data": {
      "text/plain": [
       "Text(0.5, 1.0, 'Filtered occurrences for Ovibos moschatus')"
      ]
     },
     "execution_count": 8,
     "metadata": {},
     "output_type": "execute_result"
    },
    {
     "data": {
      "text/plain": [
       "<matplotlib.patches.Rectangle at 0x1cb5319dac8>"
      ]
     },
     "execution_count": 8,
     "metadata": {},
     "output_type": "execute_result"
    },
    {
     "data": {
      "text/plain": [
       "[<matplotlib.patches.Polygon at 0x1cb531a0080>,\n",
       " <matplotlib.patches.Polygon at 0x1cb531a04a8>,\n",
       " <matplotlib.patches.Polygon at 0x1cb531a0748>,\n",
       " <matplotlib.patches.Polygon at 0x1cb531a09e8>,\n",
       " <matplotlib.patches.Polygon at 0x1cb531a0c88>,\n",
       " <matplotlib.patches.Polygon at 0x1cb531a0f28>,\n",
       " <matplotlib.patches.Polygon at 0x1cb531d5208>,\n",
       " <matplotlib.patches.Polygon at 0x1cb531d54a8>,\n",
       " <matplotlib.patches.Polygon at 0x1cb531d5748>,\n",
       " <matplotlib.patches.Polygon at 0x1cb531d59e8>,\n",
       " <matplotlib.patches.Polygon at 0x1cb531d5c88>,\n",
       " <matplotlib.patches.Polygon at 0x1cb531d5f28>,\n",
       " <matplotlib.patches.Polygon at 0x1cb532e3208>,\n",
       " <matplotlib.patches.Polygon at 0x1cb532e34a8>,\n",
       " <matplotlib.patches.Polygon at 0x1cb532e3748>,\n",
       " <matplotlib.patches.Polygon at 0x1cb532e39e8>,\n",
       " <matplotlib.patches.Polygon at 0x1cb532e3c88>,\n",
       " <matplotlib.patches.Polygon at 0x1cb532e3f28>,\n",
       " <matplotlib.patches.Polygon at 0x1cb532f4208>,\n",
       " <matplotlib.patches.Polygon at 0x1cb532f44a8>,\n",
       " <matplotlib.patches.Polygon at 0x1cb532f4748>,\n",
       " <matplotlib.patches.Polygon at 0x1cb532f49e8>,\n",
       " <matplotlib.patches.Polygon at 0x1cb532f4c88>,\n",
       " <matplotlib.patches.Polygon at 0x1cb532f4f28>,\n",
       " <matplotlib.patches.Polygon at 0x1cb53307208>,\n",
       " <matplotlib.patches.Polygon at 0x1cb533074a8>,\n",
       " <matplotlib.patches.Polygon at 0x1cb53307748>,\n",
       " <matplotlib.patches.Polygon at 0x1cb53307a20>,\n",
       " <matplotlib.patches.Polygon at 0x1cb53307c88>,\n",
       " <matplotlib.patches.Polygon at 0x1cb53307f28>,\n",
       " <matplotlib.patches.Polygon at 0x1cb52964208>,\n",
       " <matplotlib.patches.Polygon at 0x1cb529644a8>,\n",
       " <matplotlib.patches.Polygon at 0x1cb52964748>,\n",
       " <matplotlib.patches.Polygon at 0x1cb529649e8>,\n",
       " <matplotlib.patches.Polygon at 0x1cb52964c88>,\n",
       " <matplotlib.patches.Polygon at 0x1cb52964f28>,\n",
       " <matplotlib.patches.Polygon at 0x1cb5297b208>,\n",
       " <matplotlib.patches.Polygon at 0x1cb5297b4a8>,\n",
       " <matplotlib.patches.Polygon at 0x1cb5297b748>,\n",
       " <matplotlib.patches.Polygon at 0x1cb5297ba20>,\n",
       " <matplotlib.patches.Polygon at 0x1cb5297bc88>,\n",
       " <matplotlib.patches.Polygon at 0x1cb5297bf28>,\n",
       " <matplotlib.patches.Polygon at 0x1cb5298f208>,\n",
       " <matplotlib.patches.Polygon at 0x1cb5298f4a8>,\n",
       " <matplotlib.patches.Polygon at 0x1cb5298f780>,\n",
       " <matplotlib.patches.Polygon at 0x1cb5298f9e8>,\n",
       " <matplotlib.patches.Polygon at 0x1cb5298fc88>,\n",
       " <matplotlib.patches.Polygon at 0x1cb5298ff28>,\n",
       " <matplotlib.patches.Polygon at 0x1cb5340f208>,\n",
       " <matplotlib.patches.Polygon at 0x1cb5340f4a8>,\n",
       " <matplotlib.patches.Polygon at 0x1cb5340f748>,\n",
       " <matplotlib.patches.Polygon at 0x1cb5340f9e8>,\n",
       " <matplotlib.patches.Polygon at 0x1cb5340fc88>,\n",
       " <matplotlib.patches.Polygon at 0x1cb5340ff28>,\n",
       " <matplotlib.patches.Polygon at 0x1cb53417208>,\n",
       " <matplotlib.patches.Polygon at 0x1cb534174a8>,\n",
       " <matplotlib.patches.Polygon at 0x1cb53417748>,\n",
       " <matplotlib.patches.Polygon at 0x1cb534179e8>,\n",
       " <matplotlib.patches.Polygon at 0x1cb53417c88>,\n",
       " <matplotlib.patches.Polygon at 0x1cb53417f28>,\n",
       " <matplotlib.patches.Polygon at 0x1cb529a0208>,\n",
       " <matplotlib.patches.Polygon at 0x1cb529a04a8>,\n",
       " <matplotlib.patches.Polygon at 0x1cb529a0748>,\n",
       " <matplotlib.patches.Polygon at 0x1cb529a09e8>,\n",
       " <matplotlib.patches.Polygon at 0x1cb529a0c88>,\n",
       " <matplotlib.patches.Polygon at 0x1cb529a0f28>,\n",
       " <matplotlib.patches.Polygon at 0x1cb52991208>,\n",
       " <matplotlib.patches.Polygon at 0x1cb529914a8>,\n",
       " <matplotlib.patches.Polygon at 0x1cb52991748>,\n",
       " <matplotlib.patches.Polygon at 0x1cb529919e8>,\n",
       " <matplotlib.patches.Polygon at 0x1cb52991c88>,\n",
       " <matplotlib.patches.Polygon at 0x1cb52991f28>,\n",
       " <matplotlib.patches.Polygon at 0x1cb529aa208>,\n",
       " <matplotlib.patches.Polygon at 0x1cb529aa4a8>,\n",
       " <matplotlib.patches.Polygon at 0x1cb529aa748>,\n",
       " <matplotlib.patches.Polygon at 0x1cb529aa9e8>,\n",
       " <matplotlib.patches.Polygon at 0x1cb529aac88>,\n",
       " <matplotlib.patches.Polygon at 0x1cb529aaf28>,\n",
       " <matplotlib.patches.Polygon at 0x1cb529c1208>,\n",
       " <matplotlib.patches.Polygon at 0x1cb529c14a8>,\n",
       " <matplotlib.patches.Polygon at 0x1cb529c1748>,\n",
       " <matplotlib.patches.Polygon at 0x1cb529c19e8>,\n",
       " <matplotlib.patches.Polygon at 0x1cb529c1c88>,\n",
       " <matplotlib.patches.Polygon at 0x1cb529c1f28>,\n",
       " <matplotlib.patches.Polygon at 0x1cb5329b208>,\n",
       " <matplotlib.patches.Polygon at 0x1cb5329b4a8>,\n",
       " <matplotlib.patches.Polygon at 0x1cb5329b748>,\n",
       " <matplotlib.patches.Polygon at 0x1cb5329b9e8>,\n",
       " <matplotlib.patches.Polygon at 0x1cb5329bc88>,\n",
       " <matplotlib.patches.Polygon at 0x1cb5329bf28>,\n",
       " <matplotlib.patches.Polygon at 0x1cb5326c208>,\n",
       " <matplotlib.patches.Polygon at 0x1cb5326c4a8>,\n",
       " <matplotlib.patches.Polygon at 0x1cb5326c748>,\n",
       " <matplotlib.patches.Polygon at 0x1cb5326c9e8>,\n",
       " <matplotlib.patches.Polygon at 0x1cb5326cc88>,\n",
       " <matplotlib.patches.Polygon at 0x1cb5326cf28>,\n",
       " <matplotlib.patches.Polygon at 0x1cb5327b208>,\n",
       " <matplotlib.patches.Polygon at 0x1cb5327b4a8>,\n",
       " <matplotlib.patches.Polygon at 0x1cb5327b748>,\n",
       " <matplotlib.patches.Polygon at 0x1cb5327b9e8>,\n",
       " <matplotlib.patches.Polygon at 0x1cb5327bc88>,\n",
       " <matplotlib.patches.Polygon at 0x1cb5327bf28>,\n",
       " <matplotlib.patches.Polygon at 0x1cb50a2d208>,\n",
       " <matplotlib.patches.Polygon at 0x1cb50a2d4a8>,\n",
       " <matplotlib.patches.Polygon at 0x1cb50a2d748>,\n",
       " <matplotlib.patches.Polygon at 0x1cb50a2d9e8>,\n",
       " <matplotlib.patches.Polygon at 0x1cb50a2dc88>,\n",
       " <matplotlib.patches.Polygon at 0x1cb50a2df28>,\n",
       " <matplotlib.patches.Polygon at 0x1cb50a01208>,\n",
       " <matplotlib.patches.Polygon at 0x1cb50a014a8>,\n",
       " <matplotlib.patches.Polygon at 0x1cb50a01748>,\n",
       " <matplotlib.patches.Polygon at 0x1cb50a019e8>,\n",
       " <matplotlib.patches.Polygon at 0x1cb50a01c88>,\n",
       " <matplotlib.patches.Polygon at 0x1cb50a01f28>,\n",
       " <matplotlib.patches.Polygon at 0x1cb50a16208>]"
      ]
     },
     "execution_count": 8,
     "metadata": {},
     "output_type": "execute_result"
    },
    {
     "data": {
      "text/plain": [
       "<matplotlib.collections.LineCollection at 0x1cb50a16320>"
      ]
     },
     "execution_count": 8,
     "metadata": {},
     "output_type": "execute_result"
    },
    {
     "data": {
      "text/plain": [
       "<matplotlib.collections.LineCollection at 0x1cb50a16c18>"
      ]
     },
     "execution_count": 8,
     "metadata": {},
     "output_type": "execute_result"
    },
    {
     "data": {
      "text/plain": [
       "[<matplotlib.lines.Line2D at 0x1cb50a16c88>]"
      ]
     },
     "execution_count": 8,
     "metadata": {},
     "output_type": "execute_result"
    },
    {
     "data": {
      "text/plain": [
       "Text(0.5, 1.0, 'Filtered occurrences for Ovis canadensis')"
      ]
     },
     "execution_count": 8,
     "metadata": {},
     "output_type": "execute_result"
    },
    {
     "data": {
      "text/plain": [
       "<matplotlib.patches.Rectangle at 0x1cb529cedd8>"
      ]
     },
     "execution_count": 8,
     "metadata": {},
     "output_type": "execute_result"
    },
    {
     "data": {
      "text/plain": [
       "[<matplotlib.patches.Polygon at 0x1cb53191438>,\n",
       " <matplotlib.patches.Polygon at 0x1cb53191860>,\n",
       " <matplotlib.patches.Polygon at 0x1cb53191b38>,\n",
       " <matplotlib.patches.Polygon at 0x1cb53191da0>,\n",
       " <matplotlib.patches.Polygon at 0x1cb4e95b080>,\n",
       " <matplotlib.patches.Polygon at 0x1cb4e95b320>,\n",
       " <matplotlib.patches.Polygon at 0x1cb4e95b5c0>,\n",
       " <matplotlib.patches.Polygon at 0x1cb4e95b860>,\n",
       " <matplotlib.patches.Polygon at 0x1cb4e95bb00>,\n",
       " <matplotlib.patches.Polygon at 0x1cb4e95bda0>,\n",
       " <matplotlib.patches.Polygon at 0x1cb4e94a080>,\n",
       " <matplotlib.patches.Polygon at 0x1cb4e94a320>,\n",
       " <matplotlib.patches.Polygon at 0x1cb4e94a5c0>,\n",
       " <matplotlib.patches.Polygon at 0x1cb4e94a860>,\n",
       " <matplotlib.patches.Polygon at 0x1cb4e94ab00>,\n",
       " <matplotlib.patches.Polygon at 0x1cb4e94ada0>,\n",
       " <matplotlib.patches.Polygon at 0x1cb531d1080>,\n",
       " <matplotlib.patches.Polygon at 0x1cb531d1320>,\n",
       " <matplotlib.patches.Polygon at 0x1cb531d15c0>,\n",
       " <matplotlib.patches.Polygon at 0x1cb531d1860>,\n",
       " <matplotlib.patches.Polygon at 0x1cb531d1b00>,\n",
       " <matplotlib.patches.Polygon at 0x1cb531d1da0>,\n",
       " <matplotlib.patches.Polygon at 0x1cb531bd080>,\n",
       " <matplotlib.patches.Polygon at 0x1cb531bd320>,\n",
       " <matplotlib.patches.Polygon at 0x1cb531bd5c0>,\n",
       " <matplotlib.patches.Polygon at 0x1cb531bd860>,\n",
       " <matplotlib.patches.Polygon at 0x1cb531bdb00>,\n",
       " <matplotlib.patches.Polygon at 0x1cb531bdda0>,\n",
       " <matplotlib.patches.Polygon at 0x1cb532ac080>,\n",
       " <matplotlib.patches.Polygon at 0x1cb532ac320>,\n",
       " <matplotlib.patches.Polygon at 0x1cb532ac5c0>,\n",
       " <matplotlib.patches.Polygon at 0x1cb532ac860>,\n",
       " <matplotlib.patches.Polygon at 0x1cb532acb00>,\n",
       " <matplotlib.patches.Polygon at 0x1cb532acda0>,\n",
       " <matplotlib.patches.Polygon at 0x1cb532bc080>,\n",
       " <matplotlib.patches.Polygon at 0x1cb532bc320>,\n",
       " <matplotlib.patches.Polygon at 0x1cb532bc5c0>,\n",
       " <matplotlib.patches.Polygon at 0x1cb532bc860>,\n",
       " <matplotlib.patches.Polygon at 0x1cb532bcb00>,\n",
       " <matplotlib.patches.Polygon at 0x1cb532bcda0>,\n",
       " <matplotlib.patches.Polygon at 0x1cb532d3080>,\n",
       " <matplotlib.patches.Polygon at 0x1cb532d3320>,\n",
       " <matplotlib.patches.Polygon at 0x1cb532d35c0>,\n",
       " <matplotlib.patches.Polygon at 0x1cb532d3860>,\n",
       " <matplotlib.patches.Polygon at 0x1cb532d3b00>,\n",
       " <matplotlib.patches.Polygon at 0x1cb532d3dd8>,\n",
       " <matplotlib.patches.Polygon at 0x1cb53262080>,\n",
       " <matplotlib.patches.Polygon at 0x1cb53262320>,\n",
       " <matplotlib.patches.Polygon at 0x1cb532625c0>,\n",
       " <matplotlib.patches.Polygon at 0x1cb53262860>,\n",
       " <matplotlib.patches.Polygon at 0x1cb53262b00>,\n",
       " <matplotlib.patches.Polygon at 0x1cb53262da0>,\n",
       " <matplotlib.patches.Polygon at 0x1cb5327a080>,\n",
       " <matplotlib.patches.Polygon at 0x1cb5327a320>,\n",
       " <matplotlib.patches.Polygon at 0x1cb5327a5c0>,\n",
       " <matplotlib.patches.Polygon at 0x1cb5327a860>,\n",
       " <matplotlib.patches.Polygon at 0x1cb5327ab00>,\n",
       " <matplotlib.patches.Polygon at 0x1cb5327ada0>,\n",
       " <matplotlib.patches.Polygon at 0x1cb5328e080>,\n",
       " <matplotlib.patches.Polygon at 0x1cb5328e320>,\n",
       " <matplotlib.patches.Polygon at 0x1cb5328e5c0>,\n",
       " <matplotlib.patches.Polygon at 0x1cb5328e860>,\n",
       " <matplotlib.patches.Polygon at 0x1cb5328eb00>,\n",
       " <matplotlib.patches.Polygon at 0x1cb5328eda0>,\n",
       " <matplotlib.patches.Polygon at 0x1cb531e6080>,\n",
       " <matplotlib.patches.Polygon at 0x1cb531e6320>,\n",
       " <matplotlib.patches.Polygon at 0x1cb531e65f8>,\n",
       " <matplotlib.patches.Polygon at 0x1cb531e6860>,\n",
       " <matplotlib.patches.Polygon at 0x1cb531e6b00>,\n",
       " <matplotlib.patches.Polygon at 0x1cb531e6da0>,\n",
       " <matplotlib.patches.Polygon at 0x1cb531fb080>,\n",
       " <matplotlib.patches.Polygon at 0x1cb531fb320>,\n",
       " <matplotlib.patches.Polygon at 0x1cb531fb5c0>,\n",
       " <matplotlib.patches.Polygon at 0x1cb531fb860>,\n",
       " <matplotlib.patches.Polygon at 0x1cb531fbb00>,\n",
       " <matplotlib.patches.Polygon at 0x1cb531fbda0>,\n",
       " <matplotlib.patches.Polygon at 0x1cb532100b8>,\n",
       " <matplotlib.patches.Polygon at 0x1cb53210320>,\n",
       " <matplotlib.patches.Polygon at 0x1cb532105c0>,\n",
       " <matplotlib.patches.Polygon at 0x1cb53210860>,\n",
       " <matplotlib.patches.Polygon at 0x1cb53210b00>,\n",
       " <matplotlib.patches.Polygon at 0x1cb53210da0>,\n",
       " <matplotlib.patches.Polygon at 0x1cb53213080>,\n",
       " <matplotlib.patches.Polygon at 0x1cb53213320>,\n",
       " <matplotlib.patches.Polygon at 0x1cb532135c0>,\n",
       " <matplotlib.patches.Polygon at 0x1cb53213860>,\n",
       " <matplotlib.patches.Polygon at 0x1cb53213b00>,\n",
       " <matplotlib.patches.Polygon at 0x1cb53213da0>,\n",
       " <matplotlib.patches.Polygon at 0x1cb533e6080>,\n",
       " <matplotlib.patches.Polygon at 0x1cb533e6320>,\n",
       " <matplotlib.patches.Polygon at 0x1cb533e65c0>,\n",
       " <matplotlib.patches.Polygon at 0x1cb533e6860>,\n",
       " <matplotlib.patches.Polygon at 0x1cb533e6b00>,\n",
       " <matplotlib.patches.Polygon at 0x1cb533e6da0>,\n",
       " <matplotlib.patches.Polygon at 0x1cb533f0080>,\n",
       " <matplotlib.patches.Polygon at 0x1cb533f0320>,\n",
       " <matplotlib.patches.Polygon at 0x1cb533f05c0>,\n",
       " <matplotlib.patches.Polygon at 0x1cb533f0860>,\n",
       " <matplotlib.patches.Polygon at 0x1cb533f0b00>,\n",
       " <matplotlib.patches.Polygon at 0x1cb533f0da0>,\n",
       " <matplotlib.patches.Polygon at 0x1cb533f9080>,\n",
       " <matplotlib.patches.Polygon at 0x1cb533f9320>,\n",
       " <matplotlib.patches.Polygon at 0x1cb533f95c0>,\n",
       " <matplotlib.patches.Polygon at 0x1cb533f9860>,\n",
       " <matplotlib.patches.Polygon at 0x1cb533f9b00>,\n",
       " <matplotlib.patches.Polygon at 0x1cb533f9da0>,\n",
       " <matplotlib.patches.Polygon at 0x1cb532ea048>,\n",
       " <matplotlib.patches.Polygon at 0x1cb532ea320>,\n",
       " <matplotlib.patches.Polygon at 0x1cb532ea5c0>,\n",
       " <matplotlib.patches.Polygon at 0x1cb532ea860>,\n",
       " <matplotlib.patches.Polygon at 0x1cb532eab00>,\n",
       " <matplotlib.patches.Polygon at 0x1cb532eada0>,\n",
       " <matplotlib.patches.Polygon at 0x1cb532ee048>,\n",
       " <matplotlib.patches.Polygon at 0x1cb532ee320>,\n",
       " <matplotlib.patches.Polygon at 0x1cb532ee5c0>,\n",
       " <matplotlib.patches.Polygon at 0x1cb532ee860>,\n",
       " <matplotlib.patches.Polygon at 0x1cb532eeb00>,\n",
       " <matplotlib.patches.Polygon at 0x1cb532eeda0>,\n",
       " <matplotlib.patches.Polygon at 0x1cb532ff080>,\n",
       " <matplotlib.patches.Polygon at 0x1cb532ff320>,\n",
       " <matplotlib.patches.Polygon at 0x1cb532ff5c0>,\n",
       " <matplotlib.patches.Polygon at 0x1cb532ff860>,\n",
       " <matplotlib.patches.Polygon at 0x1cb532ffb00>,\n",
       " <matplotlib.patches.Polygon at 0x1cb532ffda0>,\n",
       " <matplotlib.patches.Polygon at 0x1cb53317080>,\n",
       " <matplotlib.patches.Polygon at 0x1cb53317320>,\n",
       " <matplotlib.patches.Polygon at 0x1cb533175c0>,\n",
       " <matplotlib.patches.Polygon at 0x1cb53317860>,\n",
       " <matplotlib.patches.Polygon at 0x1cb53317b00>,\n",
       " <matplotlib.patches.Polygon at 0x1cb53317da0>,\n",
       " <matplotlib.patches.Polygon at 0x1cb53223080>,\n",
       " <matplotlib.patches.Polygon at 0x1cb53223320>,\n",
       " <matplotlib.patches.Polygon at 0x1cb532235c0>,\n",
       " <matplotlib.patches.Polygon at 0x1cb53223860>,\n",
       " <matplotlib.patches.Polygon at 0x1cb53223b00>,\n",
       " <matplotlib.patches.Polygon at 0x1cb53223da0>,\n",
       " <matplotlib.patches.Polygon at 0x1cb53236080>]"
      ]
     },
     "execution_count": 8,
     "metadata": {},
     "output_type": "execute_result"
    },
    {
     "data": {
      "text/plain": [
       "<matplotlib.collections.LineCollection at 0x1cb4fc46588>"
      ]
     },
     "execution_count": 8,
     "metadata": {},
     "output_type": "execute_result"
    },
    {
     "data": {
      "text/plain": [
       "<matplotlib.collections.LineCollection at 0x1cb4e7c4748>"
      ]
     },
     "execution_count": 8,
     "metadata": {},
     "output_type": "execute_result"
    },
    {
     "data": {
      "text/plain": [
       "[<matplotlib.lines.Line2D at 0x1cb53551e80>]"
      ]
     },
     "execution_count": 8,
     "metadata": {},
     "output_type": "execute_result"
    },
    {
     "data": {
      "text/plain": [
       "Text(0.5, 1.0, 'Filtered occurrences for Ovis dalli')"
      ]
     },
     "execution_count": 8,
     "metadata": {},
     "output_type": "execute_result"
    },
    {
     "data": {
      "text/plain": [
       "<matplotlib.patches.Rectangle at 0x1cb533f1ac8>"
      ]
     },
     "execution_count": 8,
     "metadata": {},
     "output_type": "execute_result"
    },
    {
     "data": {
      "text/plain": [
       "[<matplotlib.patches.Polygon at 0x1cb53b24128>,\n",
       " <matplotlib.patches.Polygon at 0x1cb53b24550>,\n",
       " <matplotlib.patches.Polygon at 0x1cb53b24278>,\n",
       " <matplotlib.patches.Polygon at 0x1cb53b24a90>,\n",
       " <matplotlib.patches.Polygon at 0x1cb53b24d30>,\n",
       " <matplotlib.patches.Polygon at 0x1cb53b24fd0>,\n",
       " <matplotlib.patches.Polygon at 0x1cb53b672b0>,\n",
       " <matplotlib.patches.Polygon at 0x1cb53b67550>,\n",
       " <matplotlib.patches.Polygon at 0x1cb53b677f0>,\n",
       " <matplotlib.patches.Polygon at 0x1cb53b67a90>,\n",
       " <matplotlib.patches.Polygon at 0x1cb53b67d30>,\n",
       " <matplotlib.patches.Polygon at 0x1cb53b67fd0>,\n",
       " <matplotlib.patches.Polygon at 0x1cb53b792b0>,\n",
       " <matplotlib.patches.Polygon at 0x1cb53b79550>,\n",
       " <matplotlib.patches.Polygon at 0x1cb53b797f0>,\n",
       " <matplotlib.patches.Polygon at 0x1cb53b79a90>,\n",
       " <matplotlib.patches.Polygon at 0x1cb53b79d30>,\n",
       " <matplotlib.patches.Polygon at 0x1cb53b79fd0>,\n",
       " <matplotlib.patches.Polygon at 0x1cb4e95a2b0>,\n",
       " <matplotlib.patches.Polygon at 0x1cb4e95a550>,\n",
       " <matplotlib.patches.Polygon at 0x1cb4e95a7f0>,\n",
       " <matplotlib.patches.Polygon at 0x1cb4e95aa90>,\n",
       " <matplotlib.patches.Polygon at 0x1cb4e95ad30>,\n",
       " <matplotlib.patches.Polygon at 0x1cb4e95afd0>,\n",
       " <matplotlib.patches.Polygon at 0x1cb4e92c2b0>,\n",
       " <matplotlib.patches.Polygon at 0x1cb4e92c550>,\n",
       " <matplotlib.patches.Polygon at 0x1cb4e92c7f0>,\n",
       " <matplotlib.patches.Polygon at 0x1cb4e92ca90>,\n",
       " <matplotlib.patches.Polygon at 0x1cb4e92cd30>,\n",
       " <matplotlib.patches.Polygon at 0x1cb4e92cfd0>,\n",
       " <matplotlib.patches.Polygon at 0x1cb535c82b0>,\n",
       " <matplotlib.patches.Polygon at 0x1cb535c8550>,\n",
       " <matplotlib.patches.Polygon at 0x1cb535c87f0>,\n",
       " <matplotlib.patches.Polygon at 0x1cb535c8a90>,\n",
       " <matplotlib.patches.Polygon at 0x1cb535c8d30>,\n",
       " <matplotlib.patches.Polygon at 0x1cb535c8fd0>,\n",
       " <matplotlib.patches.Polygon at 0x1cb535aa2b0>,\n",
       " <matplotlib.patches.Polygon at 0x1cb535aa550>,\n",
       " <matplotlib.patches.Polygon at 0x1cb535aa7f0>,\n",
       " <matplotlib.patches.Polygon at 0x1cb535aaa90>,\n",
       " <matplotlib.patches.Polygon at 0x1cb535aad30>,\n",
       " <matplotlib.patches.Polygon at 0x1cb535aafd0>,\n",
       " <matplotlib.patches.Polygon at 0x1cb532542b0>,\n",
       " <matplotlib.patches.Polygon at 0x1cb53254550>,\n",
       " <matplotlib.patches.Polygon at 0x1cb532547f0>,\n",
       " <matplotlib.patches.Polygon at 0x1cb53254a90>,\n",
       " <matplotlib.patches.Polygon at 0x1cb53254d30>,\n",
       " <matplotlib.patches.Polygon at 0x1cb53254fd0>,\n",
       " <matplotlib.patches.Polygon at 0x1cb532292b0>,\n",
       " <matplotlib.patches.Polygon at 0x1cb53229550>,\n",
       " <matplotlib.patches.Polygon at 0x1cb532297f0>,\n",
       " <matplotlib.patches.Polygon at 0x1cb53229a90>,\n",
       " <matplotlib.patches.Polygon at 0x1cb53229d30>,\n",
       " <matplotlib.patches.Polygon at 0x1cb53229fd0>,\n",
       " <matplotlib.patches.Polygon at 0x1cb532502b0>,\n",
       " <matplotlib.patches.Polygon at 0x1cb53250550>,\n",
       " <matplotlib.patches.Polygon at 0x1cb532507f0>,\n",
       " <matplotlib.patches.Polygon at 0x1cb53250a90>]"
      ]
     },
     "execution_count": 8,
     "metadata": {},
     "output_type": "execute_result"
    },
    {
     "data": {
      "text/plain": [
       "<matplotlib.collections.LineCollection at 0x1cb53b247f0>"
      ]
     },
     "execution_count": 8,
     "metadata": {},
     "output_type": "execute_result"
    },
    {
     "data": {
      "text/plain": [
       "<matplotlib.collections.LineCollection at 0x1cb53b4f908>"
      ]
     },
     "execution_count": 8,
     "metadata": {},
     "output_type": "execute_result"
    },
    {
     "data": {
      "text/plain": [
       "[<matplotlib.lines.Line2D at 0x1cb53250c18>]"
      ]
     },
     "execution_count": 8,
     "metadata": {},
     "output_type": "execute_result"
    },
    {
     "data": {
      "text/plain": [
       "Text(0.5, 1.0, 'Filtered occurrences for Pecari tajacu')"
      ]
     },
     "execution_count": 8,
     "metadata": {},
     "output_type": "execute_result"
    },
    {
     "data": {
      "text/plain": [
       "<matplotlib.patches.Rectangle at 0x1cb536044a8>"
      ]
     },
     "execution_count": 8,
     "metadata": {},
     "output_type": "execute_result"
    },
    {
     "data": {
      "text/plain": [
       "[<matplotlib.patches.Polygon at 0x1cb55654be0>,\n",
       " <matplotlib.patches.Polygon at 0x1cb55654eb8>,\n",
       " <matplotlib.patches.Polygon at 0x1cb535bd198>,\n",
       " <matplotlib.patches.Polygon at 0x1cb535bd438>,\n",
       " <matplotlib.patches.Polygon at 0x1cb535bd6d8>,\n",
       " <matplotlib.patches.Polygon at 0x1cb535bd978>,\n",
       " <matplotlib.patches.Polygon at 0x1cb535bdc18>,\n",
       " <matplotlib.patches.Polygon at 0x1cb535bdeb8>,\n",
       " <matplotlib.patches.Polygon at 0x1cb5361e198>,\n",
       " <matplotlib.patches.Polygon at 0x1cb5361e438>,\n",
       " <matplotlib.patches.Polygon at 0x1cb5361e6d8>,\n",
       " <matplotlib.patches.Polygon at 0x1cb5361e978>,\n",
       " <matplotlib.patches.Polygon at 0x1cb5361ec18>,\n",
       " <matplotlib.patches.Polygon at 0x1cb5361eeb8>,\n",
       " <matplotlib.patches.Polygon at 0x1cb5361a198>,\n",
       " <matplotlib.patches.Polygon at 0x1cb5361a438>,\n",
       " <matplotlib.patches.Polygon at 0x1cb5361a6d8>,\n",
       " <matplotlib.patches.Polygon at 0x1cb5361a978>,\n",
       " <matplotlib.patches.Polygon at 0x1cb5361ac50>,\n",
       " <matplotlib.patches.Polygon at 0x1cb5361aeb8>,\n",
       " <matplotlib.patches.Polygon at 0x1cb55663198>,\n",
       " <matplotlib.patches.Polygon at 0x1cb55663438>,\n",
       " <matplotlib.patches.Polygon at 0x1cb556636d8>,\n",
       " <matplotlib.patches.Polygon at 0x1cb55663978>,\n",
       " <matplotlib.patches.Polygon at 0x1cb55663c18>,\n",
       " <matplotlib.patches.Polygon at 0x1cb55663eb8>]"
      ]
     },
     "execution_count": 8,
     "metadata": {},
     "output_type": "execute_result"
    },
    {
     "data": {
      "text/plain": [
       "<matplotlib.collections.LineCollection at 0x1cb55663fd0>"
      ]
     },
     "execution_count": 8,
     "metadata": {},
     "output_type": "execute_result"
    },
    {
     "data": {
      "text/plain": [
       "<matplotlib.collections.LineCollection at 0x1cb53b23fd0>"
      ]
     },
     "execution_count": 8,
     "metadata": {},
     "output_type": "execute_result"
    },
    {
     "data": {
      "text/plain": [
       "[<matplotlib.lines.Line2D at 0x1cb53b3ca20>]"
      ]
     },
     "execution_count": 8,
     "metadata": {},
     "output_type": "execute_result"
    },
    {
     "data": {
      "text/plain": [
       "Text(0.5, 1.0, 'Filtered occurrences for Pelea capreolus')"
      ]
     },
     "execution_count": 8,
     "metadata": {},
     "output_type": "execute_result"
    },
    {
     "data": {
      "text/plain": [
       "<matplotlib.patches.Rectangle at 0x1cb5566c7f0>"
      ]
     },
     "execution_count": 8,
     "metadata": {},
     "output_type": "execute_result"
    },
    {
     "data": {
      "text/plain": [
       "[<matplotlib.patches.Polygon at 0x1cb53609f28>,\n",
       " <matplotlib.patches.Polygon at 0x1cb53502278>,\n",
       " <matplotlib.patches.Polygon at 0x1cb53502550>,\n",
       " <matplotlib.patches.Polygon at 0x1cb535027f0>,\n",
       " <matplotlib.patches.Polygon at 0x1cb53502a90>,\n",
       " <matplotlib.patches.Polygon at 0x1cb53502d30>,\n",
       " <matplotlib.patches.Polygon at 0x1cb53502fd0>,\n",
       " <matplotlib.patches.Polygon at 0x1cb535072b0>,\n",
       " <matplotlib.patches.Polygon at 0x1cb53507550>,\n",
       " <matplotlib.patches.Polygon at 0x1cb535077f0>,\n",
       " <matplotlib.patches.Polygon at 0x1cb53507a90>,\n",
       " <matplotlib.patches.Polygon at 0x1cb53507d30>,\n",
       " <matplotlib.patches.Polygon at 0x1cb53507fd0>,\n",
       " <matplotlib.patches.Polygon at 0x1cb503a42b0>,\n",
       " <matplotlib.patches.Polygon at 0x1cb503a4550>,\n",
       " <matplotlib.patches.Polygon at 0x1cb503a47f0>,\n",
       " <matplotlib.patches.Polygon at 0x1cb503a4a90>,\n",
       " <matplotlib.patches.Polygon at 0x1cb503a4d30>,\n",
       " <matplotlib.patches.Polygon at 0x1cb503a4fd0>,\n",
       " <matplotlib.patches.Polygon at 0x1cb503aa2b0>,\n",
       " <matplotlib.patches.Polygon at 0x1cb503aa550>,\n",
       " <matplotlib.patches.Polygon at 0x1cb503aa7f0>,\n",
       " <matplotlib.patches.Polygon at 0x1cb503aaa90>,\n",
       " <matplotlib.patches.Polygon at 0x1cb503aad30>,\n",
       " <matplotlib.patches.Polygon at 0x1cb503aafd0>,\n",
       " <matplotlib.patches.Polygon at 0x1cb5039a2e8>,\n",
       " <matplotlib.patches.Polygon at 0x1cb5039a550>,\n",
       " <matplotlib.patches.Polygon at 0x1cb5039a7f0>,\n",
       " <matplotlib.patches.Polygon at 0x1cb5039aa90>,\n",
       " <matplotlib.patches.Polygon at 0x1cb5039ad30>,\n",
       " <matplotlib.patches.Polygon at 0x1cb5039afd0>,\n",
       " <matplotlib.patches.Polygon at 0x1cb53b682b0>,\n",
       " <matplotlib.patches.Polygon at 0x1cb53b68550>,\n",
       " <matplotlib.patches.Polygon at 0x1cb53b687f0>,\n",
       " <matplotlib.patches.Polygon at 0x1cb53b68a90>,\n",
       " <matplotlib.patches.Polygon at 0x1cb53b68d30>,\n",
       " <matplotlib.patches.Polygon at 0x1cb53b68fd0>,\n",
       " <matplotlib.patches.Polygon at 0x1cb53b872b0>,\n",
       " <matplotlib.patches.Polygon at 0x1cb53b87550>,\n",
       " <matplotlib.patches.Polygon at 0x1cb53b87828>,\n",
       " <matplotlib.patches.Polygon at 0x1cb53b87a90>]"
      ]
     },
     "execution_count": 8,
     "metadata": {},
     "output_type": "execute_result"
    },
    {
     "data": {
      "text/plain": [
       "<matplotlib.collections.LineCollection at 0x1cb503aa630>"
      ]
     },
     "execution_count": 8,
     "metadata": {},
     "output_type": "execute_result"
    },
    {
     "data": {
      "text/plain": [
       "<matplotlib.collections.LineCollection at 0x1cb53b87e80>"
      ]
     },
     "execution_count": 8,
     "metadata": {},
     "output_type": "execute_result"
    },
    {
     "data": {
      "text/plain": [
       "[<matplotlib.lines.Line2D at 0x1cb53656898>]"
      ]
     },
     "execution_count": 8,
     "metadata": {},
     "output_type": "execute_result"
    },
    {
     "data": {
      "text/plain": [
       "Text(0.5, 1.0, 'Filtered occurrences for Phacochoerus aethiopicus')"
      ]
     },
     "execution_count": 8,
     "metadata": {},
     "output_type": "execute_result"
    },
    {
     "data": {
      "text/plain": [
       "<matplotlib.patches.Rectangle at 0x1cb4e8b2cf8>"
      ]
     },
     "execution_count": 8,
     "metadata": {},
     "output_type": "execute_result"
    },
    {
     "data": {
      "text/plain": [
       "[<matplotlib.patches.Polygon at 0x1cb53b8c2e8>,\n",
       " <matplotlib.patches.Polygon at 0x1cb53b8c710>,\n",
       " <matplotlib.patches.Polygon at 0x1cb53b8c9b0>,\n",
       " <matplotlib.patches.Polygon at 0x1cb53b8cc50>,\n",
       " <matplotlib.patches.Polygon at 0x1cb53b8cef0>,\n",
       " <matplotlib.patches.Polygon at 0x1cb53b9d1d0>,\n",
       " <matplotlib.patches.Polygon at 0x1cb53b9d470>,\n",
       " <matplotlib.patches.Polygon at 0x1cb53b9d710>,\n",
       " <matplotlib.patches.Polygon at 0x1cb53b9d9b0>,\n",
       " <matplotlib.patches.Polygon at 0x1cb53b9dc50>,\n",
       " <matplotlib.patches.Polygon at 0x1cb53b9def0>,\n",
       " <matplotlib.patches.Polygon at 0x1cb536801d0>,\n",
       " <matplotlib.patches.Polygon at 0x1cb53680470>,\n",
       " <matplotlib.patches.Polygon at 0x1cb53680710>,\n",
       " <matplotlib.patches.Polygon at 0x1cb536809b0>,\n",
       " <matplotlib.patches.Polygon at 0x1cb53680c50>,\n",
       " <matplotlib.patches.Polygon at 0x1cb53680ef0>,\n",
       " <matplotlib.patches.Polygon at 0x1cb5368d1d0>,\n",
       " <matplotlib.patches.Polygon at 0x1cb5368d470>,\n",
       " <matplotlib.patches.Polygon at 0x1cb5368d710>,\n",
       " <matplotlib.patches.Polygon at 0x1cb5368d9b0>,\n",
       " <matplotlib.patches.Polygon at 0x1cb5368dc50>,\n",
       " <matplotlib.patches.Polygon at 0x1cb5368def0>,\n",
       " <matplotlib.patches.Polygon at 0x1cb536501d0>,\n",
       " <matplotlib.patches.Polygon at 0x1cb53650470>,\n",
       " <matplotlib.patches.Polygon at 0x1cb53650710>,\n",
       " <matplotlib.patches.Polygon at 0x1cb536509b0>,\n",
       " <matplotlib.patches.Polygon at 0x1cb53650c88>,\n",
       " <matplotlib.patches.Polygon at 0x1cb53650ef0>,\n",
       " <matplotlib.patches.Polygon at 0x1cb5363b1d0>,\n",
       " <matplotlib.patches.Polygon at 0x1cb5363b470>,\n",
       " <matplotlib.patches.Polygon at 0x1cb5363b710>,\n",
       " <matplotlib.patches.Polygon at 0x1cb5363b9b0>,\n",
       " <matplotlib.patches.Polygon at 0x1cb5363bc50>,\n",
       " <matplotlib.patches.Polygon at 0x1cb5363bef0>,\n",
       " <matplotlib.patches.Polygon at 0x1cb536221d0>,\n",
       " <matplotlib.patches.Polygon at 0x1cb53622470>,\n",
       " <matplotlib.patches.Polygon at 0x1cb53622710>,\n",
       " <matplotlib.patches.Polygon at 0x1cb536229b0>,\n",
       " <matplotlib.patches.Polygon at 0x1cb53622c50>,\n",
       " <matplotlib.patches.Polygon at 0x1cb53622ef0>,\n",
       " <matplotlib.patches.Polygon at 0x1cb5039c1d0>,\n",
       " <matplotlib.patches.Polygon at 0x1cb5039c470>,\n",
       " <matplotlib.patches.Polygon at 0x1cb5039c710>,\n",
       " <matplotlib.patches.Polygon at 0x1cb5039c9e8>,\n",
       " <matplotlib.patches.Polygon at 0x1cb5039cc50>,\n",
       " <matplotlib.patches.Polygon at 0x1cb5039cef0>,\n",
       " <matplotlib.patches.Polygon at 0x1cb503bb208>,\n",
       " <matplotlib.patches.Polygon at 0x1cb503bb470>,\n",
       " <matplotlib.patches.Polygon at 0x1cb503bb710>,\n",
       " <matplotlib.patches.Polygon at 0x1cb503bb9e8>,\n",
       " <matplotlib.patches.Polygon at 0x1cb503bbc88>,\n",
       " <matplotlib.patches.Polygon at 0x1cb503bbef0>,\n",
       " <matplotlib.patches.Polygon at 0x1cb52a551d0>]"
      ]
     },
     "execution_count": 8,
     "metadata": {},
     "output_type": "execute_result"
    },
    {
     "data": {
      "text/plain": [
       "<matplotlib.collections.LineCollection at 0x1cb52a555f8>"
      ]
     },
     "execution_count": 8,
     "metadata": {},
     "output_type": "execute_result"
    },
    {
     "data": {
      "text/plain": [
       "<matplotlib.collections.LineCollection at 0x1cb536dd8d0>"
      ]
     },
     "execution_count": 8,
     "metadata": {},
     "output_type": "execute_result"
    },
    {
     "data": {
      "text/plain": [
       "[<matplotlib.lines.Line2D at 0x1cb52a552b0>]"
      ]
     },
     "execution_count": 8,
     "metadata": {},
     "output_type": "execute_result"
    },
    {
     "data": {
      "text/plain": [
       "Text(0.5, 1.0, 'Filtered occurrences for Phacochoerus africanus')"
      ]
     },
     "execution_count": 8,
     "metadata": {},
     "output_type": "execute_result"
    },
    {
     "data": {
      "text/plain": [
       "<matplotlib.patches.Rectangle at 0x1cb53422ba8>"
      ]
     },
     "execution_count": 8,
     "metadata": {},
     "output_type": "execute_result"
    },
    {
     "data": {
      "text/plain": [
       "[<matplotlib.patches.Polygon at 0x1cb556461d0>,\n",
       " <matplotlib.patches.Polygon at 0x1cb556465f8>,\n",
       " <matplotlib.patches.Polygon at 0x1cb556468d0>,\n",
       " <matplotlib.patches.Polygon at 0x1cb55646b70>,\n",
       " <matplotlib.patches.Polygon at 0x1cb55646e10>,\n",
       " <matplotlib.patches.Polygon at 0x1cb533a90f0>,\n",
       " <matplotlib.patches.Polygon at 0x1cb533a9390>,\n",
       " <matplotlib.patches.Polygon at 0x1cb533a9630>,\n",
       " <matplotlib.patches.Polygon at 0x1cb533a98d0>,\n",
       " <matplotlib.patches.Polygon at 0x1cb556463c8>,\n",
       " <matplotlib.patches.Polygon at 0x1cb533a9dd8>,\n",
       " <matplotlib.patches.Polygon at 0x1cb5342e0b8>,\n",
       " <matplotlib.patches.Polygon at 0x1cb5342e358>,\n",
       " <matplotlib.patches.Polygon at 0x1cb5342e5f8>,\n",
       " <matplotlib.patches.Polygon at 0x1cb5342e898>,\n",
       " <matplotlib.patches.Polygon at 0x1cb5342eb38>,\n",
       " <matplotlib.patches.Polygon at 0x1cb5342edd8>,\n",
       " <matplotlib.patches.Polygon at 0x1cb534400b8>,\n",
       " <matplotlib.patches.Polygon at 0x1cb53440390>,\n",
       " <matplotlib.patches.Polygon at 0x1cb534405f8>,\n",
       " <matplotlib.patches.Polygon at 0x1cb53440898>,\n",
       " <matplotlib.patches.Polygon at 0x1cb53440b38>,\n",
       " <matplotlib.patches.Polygon at 0x1cb53440dd8>,\n",
       " <matplotlib.patches.Polygon at 0x1cb529e70b8>,\n",
       " <matplotlib.patches.Polygon at 0x1cb529e7358>,\n",
       " <matplotlib.patches.Polygon at 0x1cb529e75f8>,\n",
       " <matplotlib.patches.Polygon at 0x1cb529e7898>,\n",
       " <matplotlib.patches.Polygon at 0x1cb529e7b38>,\n",
       " <matplotlib.patches.Polygon at 0x1cb529e7dd8>,\n",
       " <matplotlib.patches.Polygon at 0x1cb529ff0b8>,\n",
       " <matplotlib.patches.Polygon at 0x1cb529ff358>,\n",
       " <matplotlib.patches.Polygon at 0x1cb529ff630>,\n",
       " <matplotlib.patches.Polygon at 0x1cb529ff898>,\n",
       " <matplotlib.patches.Polygon at 0x1cb529ffb70>,\n",
       " <matplotlib.patches.Polygon at 0x1cb529ffdd8>,\n",
       " <matplotlib.patches.Polygon at 0x1cb529d50b8>,\n",
       " <matplotlib.patches.Polygon at 0x1cb529d5390>,\n",
       " <matplotlib.patches.Polygon at 0x1cb529d5630>,\n",
       " <matplotlib.patches.Polygon at 0x1cb529d5898>,\n",
       " <matplotlib.patches.Polygon at 0x1cb529d5b38>]"
      ]
     },
     "execution_count": 8,
     "metadata": {},
     "output_type": "execute_result"
    },
    {
     "data": {
      "text/plain": [
       "<matplotlib.collections.LineCollection at 0x1cb529d5c88>"
      ]
     },
     "execution_count": 8,
     "metadata": {},
     "output_type": "execute_result"
    },
    {
     "data": {
      "text/plain": [
       "<matplotlib.collections.LineCollection at 0x1cb529d5d68>"
      ]
     },
     "execution_count": 8,
     "metadata": {},
     "output_type": "execute_result"
    },
    {
     "data": {
      "text/plain": [
       "[<matplotlib.lines.Line2D at 0x1cb533a9b00>]"
      ]
     },
     "execution_count": 8,
     "metadata": {},
     "output_type": "execute_result"
    },
    {
     "data": {
      "text/plain": [
       "Text(0.5, 1.0, 'Filtered occurrences for Philantomba maxwellii')"
      ]
     },
     "execution_count": 8,
     "metadata": {},
     "output_type": "execute_result"
    },
    {
     "data": {
      "text/plain": [
       "<matplotlib.patches.Rectangle at 0x1cb55645a58>"
      ]
     },
     "execution_count": 8,
     "metadata": {},
     "output_type": "execute_result"
    },
    {
     "data": {
      "text/plain": [
       "[<matplotlib.patches.Polygon at 0x1cb533ba0b8>,\n",
       " <matplotlib.patches.Polygon at 0x1cb533ba4e0>,\n",
       " <matplotlib.patches.Polygon at 0x1cb533ba780>,\n",
       " <matplotlib.patches.Polygon at 0x1cb533baa20>,\n",
       " <matplotlib.patches.Polygon at 0x1cb533bacc0>,\n",
       " <matplotlib.patches.Polygon at 0x1cb533baf60>,\n",
       " <matplotlib.patches.Polygon at 0x1cb533c8240>,\n",
       " <matplotlib.patches.Polygon at 0x1cb533c84e0>,\n",
       " <matplotlib.patches.Polygon at 0x1cb533c8780>,\n",
       " <matplotlib.patches.Polygon at 0x1cb533c8a20>,\n",
       " <matplotlib.patches.Polygon at 0x1cb533c8cc0>,\n",
       " <matplotlib.patches.Polygon at 0x1cb533c8f60>,\n",
       " <matplotlib.patches.Polygon at 0x1cb52a5b240>,\n",
       " <matplotlib.patches.Polygon at 0x1cb52a5b4e0>,\n",
       " <matplotlib.patches.Polygon at 0x1cb52a5b780>,\n",
       " <matplotlib.patches.Polygon at 0x1cb52a5ba20>,\n",
       " <matplotlib.patches.Polygon at 0x1cb52a5bcc0>,\n",
       " <matplotlib.patches.Polygon at 0x1cb52a5bf60>,\n",
       " <matplotlib.patches.Polygon at 0x1cb52ab0240>,\n",
       " <matplotlib.patches.Polygon at 0x1cb52ab04e0>,\n",
       " <matplotlib.patches.Polygon at 0x1cb52ab0780>,\n",
       " <matplotlib.patches.Polygon at 0x1cb52ab0a20>,\n",
       " <matplotlib.patches.Polygon at 0x1cb52ab0cc0>,\n",
       " <matplotlib.patches.Polygon at 0x1cb52ab0f98>,\n",
       " <matplotlib.patches.Polygon at 0x1cb52a9c240>,\n",
       " <matplotlib.patches.Polygon at 0x1cb52a9c4e0>,\n",
       " <matplotlib.patches.Polygon at 0x1cb52a9c780>,\n",
       " <matplotlib.patches.Polygon at 0x1cb52a9ca20>,\n",
       " <matplotlib.patches.Polygon at 0x1cb52a9ccc0>,\n",
       " <matplotlib.patches.Polygon at 0x1cb52a9cf60>,\n",
       " <matplotlib.patches.Polygon at 0x1cb53773240>,\n",
       " <matplotlib.patches.Polygon at 0x1cb537734e0>,\n",
       " <matplotlib.patches.Polygon at 0x1cb53773780>,\n",
       " <matplotlib.patches.Polygon at 0x1cb53773a20>,\n",
       " <matplotlib.patches.Polygon at 0x1cb53773cc0>,\n",
       " <matplotlib.patches.Polygon at 0x1cb53773f60>,\n",
       " <matplotlib.patches.Polygon at 0x1cb5378a278>,\n",
       " <matplotlib.patches.Polygon at 0x1cb5378a4e0>,\n",
       " <matplotlib.patches.Polygon at 0x1cb5378a7b8>,\n",
       " <matplotlib.patches.Polygon at 0x1cb5378aa20>,\n",
       " <matplotlib.patches.Polygon at 0x1cb5378acc0>,\n",
       " <matplotlib.patches.Polygon at 0x1cb5378af98>,\n",
       " <matplotlib.patches.Polygon at 0x1cb537a6240>,\n",
       " <matplotlib.patches.Polygon at 0x1cb537a64e0>]"
      ]
     },
     "execution_count": 8,
     "metadata": {},
     "output_type": "execute_result"
    },
    {
     "data": {
      "text/plain": [
       "<matplotlib.collections.LineCollection at 0x1cb537a6710>"
      ]
     },
     "execution_count": 8,
     "metadata": {},
     "output_type": "execute_result"
    },
    {
     "data": {
      "text/plain": [
       "<matplotlib.collections.LineCollection at 0x1cb53421f60>"
      ]
     },
     "execution_count": 8,
     "metadata": {},
     "output_type": "execute_result"
    },
    {
     "data": {
      "text/plain": [
       "[<matplotlib.lines.Line2D at 0x1cb53434cf8>]"
      ]
     },
     "execution_count": 8,
     "metadata": {},
     "output_type": "execute_result"
    },
    {
     "data": {
      "text/plain": [
       "Text(0.5, 1.0, 'Filtered occurrences for Philantomba monticola')"
      ]
     },
     "execution_count": 8,
     "metadata": {},
     "output_type": "execute_result"
    },
    {
     "data": {
      "text/plain": [
       "<matplotlib.patches.Rectangle at 0x1cb53459b70>"
      ]
     },
     "execution_count": 8,
     "metadata": {},
     "output_type": "execute_result"
    },
    {
     "data": {
      "text/plain": [
       "[<matplotlib.patches.Polygon at 0x1cb52a841d0>,\n",
       " <matplotlib.patches.Polygon at 0x1cb52a844e0>,\n",
       " <matplotlib.patches.Polygon at 0x1cb52a84898>,\n",
       " <matplotlib.patches.Polygon at 0x1cb52a84b38>,\n",
       " <matplotlib.patches.Polygon at 0x1cb52a84dd8>,\n",
       " <matplotlib.patches.Polygon at 0x1cb52a690b8>,\n",
       " <matplotlib.patches.Polygon at 0x1cb52a69358>,\n",
       " <matplotlib.patches.Polygon at 0x1cb52a695f8>,\n",
       " <matplotlib.patches.Polygon at 0x1cb52a69898>,\n",
       " <matplotlib.patches.Polygon at 0x1cb52a69b38>,\n",
       " <matplotlib.patches.Polygon at 0x1cb52a69dd8>,\n",
       " <matplotlib.patches.Polygon at 0x1cb52a6b0b8>,\n",
       " <matplotlib.patches.Polygon at 0x1cb52a6b358>,\n",
       " <matplotlib.patches.Polygon at 0x1cb52a6b5f8>,\n",
       " <matplotlib.patches.Polygon at 0x1cb52a6b898>,\n",
       " <matplotlib.patches.Polygon at 0x1cb52a6bb38>,\n",
       " <matplotlib.patches.Polygon at 0x1cb52a6bdd8>,\n",
       " <matplotlib.patches.Polygon at 0x1cb533660b8>,\n",
       " <matplotlib.patches.Polygon at 0x1cb53366358>,\n",
       " <matplotlib.patches.Polygon at 0x1cb533665f8>,\n",
       " <matplotlib.patches.Polygon at 0x1cb53366898>,\n",
       " <matplotlib.patches.Polygon at 0x1cb53366b38>,\n",
       " <matplotlib.patches.Polygon at 0x1cb53366dd8>,\n",
       " <matplotlib.patches.Polygon at 0x1cb533800b8>,\n",
       " <matplotlib.patches.Polygon at 0x1cb53380390>,\n",
       " <matplotlib.patches.Polygon at 0x1cb533805c0>,\n",
       " <matplotlib.patches.Polygon at 0x1cb53380860>,\n",
       " <matplotlib.patches.Polygon at 0x1cb53380b00>,\n",
       " <matplotlib.patches.Polygon at 0x1cb53380da0>,\n",
       " <matplotlib.patches.Polygon at 0x1cb53392080>,\n",
       " <matplotlib.patches.Polygon at 0x1cb53392320>,\n",
       " <matplotlib.patches.Polygon at 0x1cb533925c0>,\n",
       " <matplotlib.patches.Polygon at 0x1cb53392860>,\n",
       " <matplotlib.patches.Polygon at 0x1cb53392b00>,\n",
       " <matplotlib.patches.Polygon at 0x1cb53392da0>,\n",
       " <matplotlib.patches.Polygon at 0x1cb5347f0b8>,\n",
       " <matplotlib.patches.Polygon at 0x1cb5347f320>]"
      ]
     },
     "execution_count": 8,
     "metadata": {},
     "output_type": "execute_result"
    },
    {
     "data": {
      "text/plain": [
       "<matplotlib.collections.LineCollection at 0x1cb5347f470>"
      ]
     },
     "execution_count": 8,
     "metadata": {},
     "output_type": "execute_result"
    },
    {
     "data": {
      "text/plain": [
       "<matplotlib.collections.LineCollection at 0x1cb5347f9b0>"
      ]
     },
     "execution_count": 8,
     "metadata": {},
     "output_type": "execute_result"
    },
    {
     "data": {
      "text/plain": [
       "[<matplotlib.lines.Line2D at 0x1cb53477d68>]"
      ]
     },
     "execution_count": 8,
     "metadata": {},
     "output_type": "execute_result"
    },
    {
     "data": {
      "text/plain": [
       "Text(0.5, 1.0, 'Filtered occurrences for Potamochoerus larvatus')"
      ]
     },
     "execution_count": 8,
     "metadata": {},
     "output_type": "execute_result"
    },
    {
     "data": {
      "text/plain": [
       "<matplotlib.patches.Rectangle at 0x1cb554734e0>"
      ]
     },
     "execution_count": 8,
     "metadata": {},
     "output_type": "execute_result"
    },
    {
     "data": {
      "text/plain": [
       "[<matplotlib.patches.Polygon at 0x1cb5334fb00>,\n",
       " <matplotlib.patches.Polygon at 0x1cb5334fe10>,\n",
       " <matplotlib.patches.Polygon at 0x1cb53359128>,\n",
       " <matplotlib.patches.Polygon at 0x1cb533593c8>,\n",
       " <matplotlib.patches.Polygon at 0x1cb53359668>,\n",
       " <matplotlib.patches.Polygon at 0x1cb53359908>,\n",
       " <matplotlib.patches.Polygon at 0x1cb53359ba8>,\n",
       " <matplotlib.patches.Polygon at 0x1cb53359e48>,\n",
       " <matplotlib.patches.Polygon at 0x1cb5348e128>,\n",
       " <matplotlib.patches.Polygon at 0x1cb5348e4a8>,\n",
       " <matplotlib.patches.Polygon at 0x1cb5348e710>,\n",
       " <matplotlib.patches.Polygon at 0x1cb5348e9b0>,\n",
       " <matplotlib.patches.Polygon at 0x1cb5348ec50>,\n",
       " <matplotlib.patches.Polygon at 0x1cb5348eef0>,\n",
       " <matplotlib.patches.Polygon at 0x1cb5346d1d0>,\n",
       " <matplotlib.patches.Polygon at 0x1cb5346d470>,\n",
       " <matplotlib.patches.Polygon at 0x1cb5346d710>,\n",
       " <matplotlib.patches.Polygon at 0x1cb5346d9b0>,\n",
       " <matplotlib.patches.Polygon at 0x1cb5346dc50>,\n",
       " <matplotlib.patches.Polygon at 0x1cb5346def0>,\n",
       " <matplotlib.patches.Polygon at 0x1cb5339f1d0>,\n",
       " <matplotlib.patches.Polygon at 0x1cb5339f470>,\n",
       " <matplotlib.patches.Polygon at 0x1cb5339f748>,\n",
       " <matplotlib.patches.Polygon at 0x1cb5339f9b0>,\n",
       " <matplotlib.patches.Polygon at 0x1cb5339fc50>,\n",
       " <matplotlib.patches.Polygon at 0x1cb5339fef0>,\n",
       " <matplotlib.patches.Polygon at 0x1cb554941d0>,\n",
       " <matplotlib.patches.Polygon at 0x1cb55494470>,\n",
       " <matplotlib.patches.Polygon at 0x1cb55494710>,\n",
       " <matplotlib.patches.Polygon at 0x1cb554949b0>,\n",
       " <matplotlib.patches.Polygon at 0x1cb55494c50>,\n",
       " <matplotlib.patches.Polygon at 0x1cb55494ef0>,\n",
       " <matplotlib.patches.Polygon at 0x1cb554441d0>,\n",
       " <matplotlib.patches.Polygon at 0x1cb55444470>,\n",
       " <matplotlib.patches.Polygon at 0x1cb55444710>,\n",
       " <matplotlib.patches.Polygon at 0x1cb554449b0>,\n",
       " <matplotlib.patches.Polygon at 0x1cb55444c50>,\n",
       " <matplotlib.patches.Polygon at 0x1cb55444f28>,\n",
       " <matplotlib.patches.Polygon at 0x1cb554501d0>,\n",
       " <matplotlib.patches.Polygon at 0x1cb554504a8>,\n",
       " <matplotlib.patches.Polygon at 0x1cb55450710>,\n",
       " <matplotlib.patches.Polygon at 0x1cb554509b0>,\n",
       " <matplotlib.patches.Polygon at 0x1cb55450c88>,\n",
       " <matplotlib.patches.Polygon at 0x1cb55450f28>,\n",
       " <matplotlib.patches.Polygon at 0x1cb554371d0>,\n",
       " <matplotlib.patches.Polygon at 0x1cb55437470>]"
      ]
     },
     "execution_count": 8,
     "metadata": {},
     "output_type": "execute_result"
    },
    {
     "data": {
      "text/plain": [
       "<matplotlib.collections.LineCollection at 0x1cb5348e550>"
      ]
     },
     "execution_count": 8,
     "metadata": {},
     "output_type": "execute_result"
    },
    {
     "data": {
      "text/plain": [
       "<matplotlib.collections.LineCollection at 0x1cb55437550>"
      ]
     },
     "execution_count": 8,
     "metadata": {},
     "output_type": "execute_result"
    },
    {
     "data": {
      "text/plain": [
       "[<matplotlib.lines.Line2D at 0x1cb53af3eb8>]"
      ]
     },
     "execution_count": 8,
     "metadata": {},
     "output_type": "execute_result"
    },
    {
     "data": {
      "text/plain": [
       "Text(0.5, 1.0, 'Filtered occurrences for Potamochoerus porcus')"
      ]
     },
     "execution_count": 8,
     "metadata": {},
     "output_type": "execute_result"
    },
    {
     "data": {
      "text/plain": [
       "<matplotlib.patches.Rectangle at 0x1cb536f7198>"
      ]
     },
     "execution_count": 8,
     "metadata": {},
     "output_type": "execute_result"
    },
    {
     "data": {
      "text/plain": [
       "[<matplotlib.patches.Polygon at 0x1cb53481470>,\n",
       " <matplotlib.patches.Polygon at 0x1cb53481780>,\n",
       " <matplotlib.patches.Polygon at 0x1cb53481b00>,\n",
       " <matplotlib.patches.Polygon at 0x1cb53481da0>,\n",
       " <matplotlib.patches.Polygon at 0x1cb55431048>,\n",
       " <matplotlib.patches.Polygon at 0x1cb55431320>,\n",
       " <matplotlib.patches.Polygon at 0x1cb554315c0>,\n",
       " <matplotlib.patches.Polygon at 0x1cb55431860>,\n",
       " <matplotlib.patches.Polygon at 0x1cb55431b00>,\n",
       " <matplotlib.patches.Polygon at 0x1cb55431da0>,\n",
       " <matplotlib.patches.Polygon at 0x1cb565eb080>,\n",
       " <matplotlib.patches.Polygon at 0x1cb565eb320>,\n",
       " <matplotlib.patches.Polygon at 0x1cb565eb5c0>,\n",
       " <matplotlib.patches.Polygon at 0x1cb565eb860>,\n",
       " <matplotlib.patches.Polygon at 0x1cb565ebb00>,\n",
       " <matplotlib.patches.Polygon at 0x1cb565ebda0>,\n",
       " <matplotlib.patches.Polygon at 0x1cb565fb080>,\n",
       " <matplotlib.patches.Polygon at 0x1cb565fb320>,\n",
       " <matplotlib.patches.Polygon at 0x1cb565fb5c0>,\n",
       " <matplotlib.patches.Polygon at 0x1cb565fb860>,\n",
       " <matplotlib.patches.Polygon at 0x1cb565fbb00>,\n",
       " <matplotlib.patches.Polygon at 0x1cb565fbda0>,\n",
       " <matplotlib.patches.Polygon at 0x1cb5336e080>,\n",
       " <matplotlib.patches.Polygon at 0x1cb5336e320>,\n",
       " <matplotlib.patches.Polygon at 0x1cb5336e5c0>,\n",
       " <matplotlib.patches.Polygon at 0x1cb5336e860>,\n",
       " <matplotlib.patches.Polygon at 0x1cb5336eb00>,\n",
       " <matplotlib.patches.Polygon at 0x1cb5336eda0>,\n",
       " <matplotlib.patches.Polygon at 0x1cb5547b080>,\n",
       " <matplotlib.patches.Polygon at 0x1cb5547b320>,\n",
       " <matplotlib.patches.Polygon at 0x1cb5547b5c0>,\n",
       " <matplotlib.patches.Polygon at 0x1cb5547b860>,\n",
       " <matplotlib.patches.Polygon at 0x1cb5547bb00>,\n",
       " <matplotlib.patches.Polygon at 0x1cb5547bda0>,\n",
       " <matplotlib.patches.Polygon at 0x1cb55493048>,\n",
       " <matplotlib.patches.Polygon at 0x1cb55493320>,\n",
       " <matplotlib.patches.Polygon at 0x1cb554935c0>,\n",
       " <matplotlib.patches.Polygon at 0x1cb55493860>,\n",
       " <matplotlib.patches.Polygon at 0x1cb55493b00>,\n",
       " <matplotlib.patches.Polygon at 0x1cb55493da0>,\n",
       " <matplotlib.patches.Polygon at 0x1cb554a1080>,\n",
       " <matplotlib.patches.Polygon at 0x1cb554a1320>,\n",
       " <matplotlib.patches.Polygon at 0x1cb554a15c0>,\n",
       " <matplotlib.patches.Polygon at 0x1cb554a1860>,\n",
       " <matplotlib.patches.Polygon at 0x1cb554a1b00>,\n",
       " <matplotlib.patches.Polygon at 0x1cb554a1da0>,\n",
       " <matplotlib.patches.Polygon at 0x1cb53ae4080>,\n",
       " <matplotlib.patches.Polygon at 0x1cb53ae4320>,\n",
       " <matplotlib.patches.Polygon at 0x1cb53ae45c0>,\n",
       " <matplotlib.patches.Polygon at 0x1cb53ae4860>,\n",
       " <matplotlib.patches.Polygon at 0x1cb53ae4b38>,\n",
       " <matplotlib.patches.Polygon at 0x1cb53ae4da0>,\n",
       " <matplotlib.patches.Polygon at 0x1cb53af7080>,\n",
       " <matplotlib.patches.Polygon at 0x1cb53af7320>,\n",
       " <matplotlib.patches.Polygon at 0x1cb53af75c0>,\n",
       " <matplotlib.patches.Polygon at 0x1cb53af7860>,\n",
       " <matplotlib.patches.Polygon at 0x1cb53af7b00>,\n",
       " <matplotlib.patches.Polygon at 0x1cb53af7da0>,\n",
       " <matplotlib.patches.Polygon at 0x1cb53b0e080>,\n",
       " <matplotlib.patches.Polygon at 0x1cb53b0e320>,\n",
       " <matplotlib.patches.Polygon at 0x1cb53b0e5c0>,\n",
       " <matplotlib.patches.Polygon at 0x1cb53b0e860>,\n",
       " <matplotlib.patches.Polygon at 0x1cb53b0eb00>,\n",
       " <matplotlib.patches.Polygon at 0x1cb53b0eda0>,\n",
       " <matplotlib.patches.Polygon at 0x1cb565c1080>,\n",
       " <matplotlib.patches.Polygon at 0x1cb565c1320>,\n",
       " <matplotlib.patches.Polygon at 0x1cb565c15c0>,\n",
       " <matplotlib.patches.Polygon at 0x1cb565c1860>,\n",
       " <matplotlib.patches.Polygon at 0x1cb565c1b00>,\n",
       " <matplotlib.patches.Polygon at 0x1cb565c1da0>,\n",
       " <matplotlib.patches.Polygon at 0x1cb565a6048>,\n",
       " <matplotlib.patches.Polygon at 0x1cb565a6320>,\n",
       " <matplotlib.patches.Polygon at 0x1cb565a65c0>,\n",
       " <matplotlib.patches.Polygon at 0x1cb565a6860>,\n",
       " <matplotlib.patches.Polygon at 0x1cb565a6b00>,\n",
       " <matplotlib.patches.Polygon at 0x1cb565a6da0>,\n",
       " <matplotlib.patches.Polygon at 0x1cb565b3080>,\n",
       " <matplotlib.patches.Polygon at 0x1cb565b3320>,\n",
       " <matplotlib.patches.Polygon at 0x1cb565b35c0>,\n",
       " <matplotlib.patches.Polygon at 0x1cb565b3860>,\n",
       " <matplotlib.patches.Polygon at 0x1cb565b3b00>,\n",
       " <matplotlib.patches.Polygon at 0x1cb565b3da0>,\n",
       " <matplotlib.patches.Polygon at 0x1cb566bd080>,\n",
       " <matplotlib.patches.Polygon at 0x1cb566bd320>,\n",
       " <matplotlib.patches.Polygon at 0x1cb566bd5c0>,\n",
       " <matplotlib.patches.Polygon at 0x1cb566bd860>,\n",
       " <matplotlib.patches.Polygon at 0x1cb566bdb00>,\n",
       " <matplotlib.patches.Polygon at 0x1cb566bdda0>,\n",
       " <matplotlib.patches.Polygon at 0x1cb566c6080>,\n",
       " <matplotlib.patches.Polygon at 0x1cb566c6320>,\n",
       " <matplotlib.patches.Polygon at 0x1cb566c65c0>,\n",
       " <matplotlib.patches.Polygon at 0x1cb566c6860>,\n",
       " <matplotlib.patches.Polygon at 0x1cb566c6b00>,\n",
       " <matplotlib.patches.Polygon at 0x1cb566c6da0>,\n",
       " <matplotlib.patches.Polygon at 0x1cb566d0080>,\n",
       " <matplotlib.patches.Polygon at 0x1cb566d0320>,\n",
       " <matplotlib.patches.Polygon at 0x1cb566d05c0>,\n",
       " <matplotlib.patches.Polygon at 0x1cb566d0860>,\n",
       " <matplotlib.patches.Polygon at 0x1cb566d0b00>,\n",
       " <matplotlib.patches.Polygon at 0x1cb566d0da0>,\n",
       " <matplotlib.patches.Polygon at 0x1cb566d9080>,\n",
       " <matplotlib.patches.Polygon at 0x1cb566d9320>]"
      ]
     },
     "execution_count": 8,
     "metadata": {},
     "output_type": "execute_result"
    },
    {
     "data": {
      "text/plain": [
       "<matplotlib.collections.LineCollection at 0x1cb566d9438>"
      ]
     },
     "execution_count": 8,
     "metadata": {},
     "output_type": "execute_result"
    },
    {
     "data": {
      "text/plain": [
       "<matplotlib.collections.LineCollection at 0x1cb566d9400>"
      ]
     },
     "execution_count": 8,
     "metadata": {},
     "output_type": "execute_result"
    },
    {
     "data": {
      "text/plain": [
       "[<matplotlib.lines.Line2D at 0x1cb5374b400>]"
      ]
     },
     "execution_count": 8,
     "metadata": {},
     "output_type": "execute_result"
    },
    {
     "data": {
      "text/plain": [
       "Text(0.5, 1.0, 'Filtered occurrences for Procapra picticaudata')"
      ]
     },
     "execution_count": 8,
     "metadata": {},
     "output_type": "execute_result"
    },
    {
     "data": {
      "text/plain": [
       "<matplotlib.patches.Rectangle at 0x1cb52a42908>"
      ]
     },
     "execution_count": 8,
     "metadata": {},
     "output_type": "execute_result"
    },
    {
     "data": {
      "text/plain": [
       "[<matplotlib.patches.Polygon at 0x1cb554aeef0>,\n",
       " <matplotlib.patches.Polygon at 0x1cb5557b358>,\n",
       " <matplotlib.patches.Polygon at 0x1cb5557b5f8>,\n",
       " <matplotlib.patches.Polygon at 0x1cb5557b898>,\n",
       " <matplotlib.patches.Polygon at 0x1cb5557bb38>,\n",
       " <matplotlib.patches.Polygon at 0x1cb5557bdd8>,\n",
       " <matplotlib.patches.Polygon at 0x1cb554540b8>,\n",
       " <matplotlib.patches.Polygon at 0x1cb55454358>,\n",
       " <matplotlib.patches.Polygon at 0x1cb554545f8>,\n",
       " <matplotlib.patches.Polygon at 0x1cb55454898>,\n",
       " <matplotlib.patches.Polygon at 0x1cb55454b38>,\n",
       " <matplotlib.patches.Polygon at 0x1cb55454dd8>,\n",
       " <matplotlib.patches.Polygon at 0x1cb5546d0b8>,\n",
       " <matplotlib.patches.Polygon at 0x1cb5546d358>,\n",
       " <matplotlib.patches.Polygon at 0x1cb5546d5f8>,\n",
       " <matplotlib.patches.Polygon at 0x1cb5546d898>,\n",
       " <matplotlib.patches.Polygon at 0x1cb5546db38>,\n",
       " <matplotlib.patches.Polygon at 0x1cb5546ddd8>,\n",
       " <matplotlib.patches.Polygon at 0x1cb58d600b8>,\n",
       " <matplotlib.patches.Polygon at 0x1cb58d60358>,\n",
       " <matplotlib.patches.Polygon at 0x1cb58d605f8>,\n",
       " <matplotlib.patches.Polygon at 0x1cb58d60898>,\n",
       " <matplotlib.patches.Polygon at 0x1cb58d60b38>,\n",
       " <matplotlib.patches.Polygon at 0x1cb58d60dd8>,\n",
       " <matplotlib.patches.Polygon at 0x1cb58d710b8>,\n",
       " <matplotlib.patches.Polygon at 0x1cb58d71358>,\n",
       " <matplotlib.patches.Polygon at 0x1cb58d715f8>,\n",
       " <matplotlib.patches.Polygon at 0x1cb58d71898>,\n",
       " <matplotlib.patches.Polygon at 0x1cb58d71b38>,\n",
       " <matplotlib.patches.Polygon at 0x1cb58d71dd8>,\n",
       " <matplotlib.patches.Polygon at 0x1cb566af0f0>,\n",
       " <matplotlib.patches.Polygon at 0x1cb566af358>,\n",
       " <matplotlib.patches.Polygon at 0x1cb566af5f8>,\n",
       " <matplotlib.patches.Polygon at 0x1cb566af898>,\n",
       " <matplotlib.patches.Polygon at 0x1cb566afb38>,\n",
       " <matplotlib.patches.Polygon at 0x1cb566afdd8>,\n",
       " <matplotlib.patches.Polygon at 0x1cb566b80b8>,\n",
       " <matplotlib.patches.Polygon at 0x1cb566b8358>,\n",
       " <matplotlib.patches.Polygon at 0x1cb566b85f8>,\n",
       " <matplotlib.patches.Polygon at 0x1cb566b8898>,\n",
       " <matplotlib.patches.Polygon at 0x1cb566b8b38>,\n",
       " <matplotlib.patches.Polygon at 0x1cb566b8dd8>,\n",
       " <matplotlib.patches.Polygon at 0x1cb566a40b8>,\n",
       " <matplotlib.patches.Polygon at 0x1cb566a4358>,\n",
       " <matplotlib.patches.Polygon at 0x1cb566a45f8>,\n",
       " <matplotlib.patches.Polygon at 0x1cb566a4898>,\n",
       " <matplotlib.patches.Polygon at 0x1cb566a4b38>,\n",
       " <matplotlib.patches.Polygon at 0x1cb566a4dd8>,\n",
       " <matplotlib.patches.Polygon at 0x1cb537450b8>,\n",
       " <matplotlib.patches.Polygon at 0x1cb53745358>,\n",
       " <matplotlib.patches.Polygon at 0x1cb537455f8>,\n",
       " <matplotlib.patches.Polygon at 0x1cb53745898>,\n",
       " <matplotlib.patches.Polygon at 0x1cb53745b38>,\n",
       " <matplotlib.patches.Polygon at 0x1cb53745dd8>,\n",
       " <matplotlib.patches.Polygon at 0x1cb5375c0b8>,\n",
       " <matplotlib.patches.Polygon at 0x1cb5375c358>,\n",
       " <matplotlib.patches.Polygon at 0x1cb5375c5f8>,\n",
       " <matplotlib.patches.Polygon at 0x1cb5375c898>,\n",
       " <matplotlib.patches.Polygon at 0x1cb5375cb38>,\n",
       " <matplotlib.patches.Polygon at 0x1cb5375cdd8>,\n",
       " <matplotlib.patches.Polygon at 0x1cb554f50b8>,\n",
       " <matplotlib.patches.Polygon at 0x1cb554f5358>,\n",
       " <matplotlib.patches.Polygon at 0x1cb554f55f8>,\n",
       " <matplotlib.patches.Polygon at 0x1cb554f5898>,\n",
       " <matplotlib.patches.Polygon at 0x1cb554f5b38>,\n",
       " <matplotlib.patches.Polygon at 0x1cb554f5dd8>,\n",
       " <matplotlib.patches.Polygon at 0x1cb555060b8>,\n",
       " <matplotlib.patches.Polygon at 0x1cb55506358>,\n",
       " <matplotlib.patches.Polygon at 0x1cb555065f8>,\n",
       " <matplotlib.patches.Polygon at 0x1cb55506898>,\n",
       " <matplotlib.patches.Polygon at 0x1cb55506b38>,\n",
       " <matplotlib.patches.Polygon at 0x1cb55506dd8>,\n",
       " <matplotlib.patches.Polygon at 0x1cb5551f0b8>,\n",
       " <matplotlib.patches.Polygon at 0x1cb5551f358>,\n",
       " <matplotlib.patches.Polygon at 0x1cb5551f5f8>,\n",
       " <matplotlib.patches.Polygon at 0x1cb5551f898>,\n",
       " <matplotlib.patches.Polygon at 0x1cb5551fb38>,\n",
       " <matplotlib.patches.Polygon at 0x1cb5551fdd8>,\n",
       " <matplotlib.patches.Polygon at 0x1cb555850b8>,\n",
       " <matplotlib.patches.Polygon at 0x1cb55585358>,\n",
       " <matplotlib.patches.Polygon at 0x1cb555855f8>,\n",
       " <matplotlib.patches.Polygon at 0x1cb55585898>,\n",
       " <matplotlib.patches.Polygon at 0x1cb55585b38>,\n",
       " <matplotlib.patches.Polygon at 0x1cb55585dd8>,\n",
       " <matplotlib.patches.Polygon at 0x1cb5559a0b8>,\n",
       " <matplotlib.patches.Polygon at 0x1cb5559a358>,\n",
       " <matplotlib.patches.Polygon at 0x1cb5559a5f8>,\n",
       " <matplotlib.patches.Polygon at 0x1cb5559a898>,\n",
       " <matplotlib.patches.Polygon at 0x1cb5559ab38>,\n",
       " <matplotlib.patches.Polygon at 0x1cb5559add8>,\n",
       " <matplotlib.patches.Polygon at 0x1cb555ac0b8>]"
      ]
     },
     "execution_count": 8,
     "metadata": {},
     "output_type": "execute_result"
    },
    {
     "data": {
      "text/plain": [
       "<matplotlib.collections.LineCollection at 0x1cb555ac1d0>"
      ]
     },
     "execution_count": 8,
     "metadata": {},
     "output_type": "execute_result"
    },
    {
     "data": {
      "text/plain": [
       "<matplotlib.collections.LineCollection at 0x1cb565c6da0>"
      ]
     },
     "execution_count": 8,
     "metadata": {},
     "output_type": "execute_result"
    },
    {
     "data": {
      "text/plain": [
       "[<matplotlib.lines.Line2D at 0x1cb5557b240>]"
      ]
     },
     "execution_count": 8,
     "metadata": {},
     "output_type": "execute_result"
    },
    {
     "data": {
      "text/plain": [
       "Text(0.5, 1.0, 'Filtered occurrences for Pseudois nayaur')"
      ]
     },
     "execution_count": 8,
     "metadata": {},
     "output_type": "execute_result"
    },
    {
     "data": {
      "text/plain": [
       "<matplotlib.patches.Rectangle at 0x1cb537312b0>"
      ]
     },
     "execution_count": 8,
     "metadata": {},
     "output_type": "execute_result"
    },
    {
     "data": {
      "text/plain": [
       "[<matplotlib.patches.Polygon at 0x1cb565e58d0>,\n",
       " <matplotlib.patches.Polygon at 0x1cb565e5cf8>,\n",
       " <matplotlib.patches.Polygon at 0x1cb565e5f98>,\n",
       " <matplotlib.patches.Polygon at 0x1cb5654b278>,\n",
       " <matplotlib.patches.Polygon at 0x1cb5654b518>,\n",
       " <matplotlib.patches.Polygon at 0x1cb5654b7b8>,\n",
       " <matplotlib.patches.Polygon at 0x1cb5654ba58>,\n",
       " <matplotlib.patches.Polygon at 0x1cb5654bcf8>,\n",
       " <matplotlib.patches.Polygon at 0x1cb5654bf98>,\n",
       " <matplotlib.patches.Polygon at 0x1cb56606278>,\n",
       " <matplotlib.patches.Polygon at 0x1cb56606518>,\n",
       " <matplotlib.patches.Polygon at 0x1cb566067b8>,\n",
       " <matplotlib.patches.Polygon at 0x1cb56606a58>,\n",
       " <matplotlib.patches.Polygon at 0x1cb56606cf8>,\n",
       " <matplotlib.patches.Polygon at 0x1cb56606f98>,\n",
       " <matplotlib.patches.Polygon at 0x1cb56619278>,\n",
       " <matplotlib.patches.Polygon at 0x1cb56619518>,\n",
       " <matplotlib.patches.Polygon at 0x1cb566197b8>,\n",
       " <matplotlib.patches.Polygon at 0x1cb56619a58>,\n",
       " <matplotlib.patches.Polygon at 0x1cb56619cf8>,\n",
       " <matplotlib.patches.Polygon at 0x1cb56619f98>,\n",
       " <matplotlib.patches.Polygon at 0x1cb55541278>,\n",
       " <matplotlib.patches.Polygon at 0x1cb55541518>,\n",
       " <matplotlib.patches.Polygon at 0x1cb555417b8>,\n",
       " <matplotlib.patches.Polygon at 0x1cb55541a58>,\n",
       " <matplotlib.patches.Polygon at 0x1cb55541cf8>,\n",
       " <matplotlib.patches.Polygon at 0x1cb55541f98>,\n",
       " <matplotlib.patches.Polygon at 0x1cb5556b278>,\n",
       " <matplotlib.patches.Polygon at 0x1cb5556b518>,\n",
       " <matplotlib.patches.Polygon at 0x1cb5556b7b8>,\n",
       " <matplotlib.patches.Polygon at 0x1cb5556ba58>,\n",
       " <matplotlib.patches.Polygon at 0x1cb5556bcf8>,\n",
       " <matplotlib.patches.Polygon at 0x1cb5556bf98>,\n",
       " <matplotlib.patches.Polygon at 0x1cb55542278>,\n",
       " <matplotlib.patches.Polygon at 0x1cb55542518>,\n",
       " <matplotlib.patches.Polygon at 0x1cb555427b8>,\n",
       " <matplotlib.patches.Polygon at 0x1cb55542a58>]"
      ]
     },
     "execution_count": 8,
     "metadata": {},
     "output_type": "execute_result"
    },
    {
     "data": {
      "text/plain": [
       "<matplotlib.collections.LineCollection at 0x1cb55542fd0>"
      ]
     },
     "execution_count": 8,
     "metadata": {},
     "output_type": "execute_result"
    },
    {
     "data": {
      "text/plain": [
       "<matplotlib.collections.LineCollection at 0x1cb58d25438>"
      ]
     },
     "execution_count": 8,
     "metadata": {},
     "output_type": "execute_result"
    },
    {
     "data": {
      "text/plain": [
       "[<matplotlib.lines.Line2D at 0x1cb58d25f98>]"
      ]
     },
     "execution_count": 8,
     "metadata": {},
     "output_type": "execute_result"
    },
    {
     "data": {
      "text/plain": [
       "Text(0.5, 1.0, 'Filtered occurrences for Pudu puda')"
      ]
     },
     "execution_count": 8,
     "metadata": {},
     "output_type": "execute_result"
    },
    {
     "data": {
      "text/plain": [
       "<matplotlib.patches.Rectangle at 0x1cb59649240>"
      ]
     },
     "execution_count": 8,
     "metadata": {},
     "output_type": "execute_result"
    },
    {
     "data": {
      "text/plain": [
       "[<matplotlib.patches.Polygon at 0x1cb58e48860>,\n",
       " <matplotlib.patches.Polygon at 0x1cb58e48c88>,\n",
       " <matplotlib.patches.Polygon at 0x1cb58e48f60>,\n",
       " <matplotlib.patches.Polygon at 0x1cb58e2e240>,\n",
       " <matplotlib.patches.Polygon at 0x1cb58e2e4e0>,\n",
       " <matplotlib.patches.Polygon at 0x1cb58e2e748>,\n",
       " <matplotlib.patches.Polygon at 0x1cb58e2e9e8>,\n",
       " <matplotlib.patches.Polygon at 0x1cb58e2ec88>,\n",
       " <matplotlib.patches.Polygon at 0x1cb58e2ef28>,\n",
       " <matplotlib.patches.Polygon at 0x1cb565f8208>,\n",
       " <matplotlib.patches.Polygon at 0x1cb565f84a8>,\n",
       " <matplotlib.patches.Polygon at 0x1cb565f8748>,\n",
       " <matplotlib.patches.Polygon at 0x1cb565f89e8>,\n",
       " <matplotlib.patches.Polygon at 0x1cb565f8c88>,\n",
       " <matplotlib.patches.Polygon at 0x1cb565f8f28>,\n",
       " <matplotlib.patches.Polygon at 0x1cb56610208>,\n",
       " <matplotlib.patches.Polygon at 0x1cb566104a8>,\n",
       " <matplotlib.patches.Polygon at 0x1cb56610748>,\n",
       " <matplotlib.patches.Polygon at 0x1cb566109e8>,\n",
       " <matplotlib.patches.Polygon at 0x1cb56610c88>,\n",
       " <matplotlib.patches.Polygon at 0x1cb56610f28>,\n",
       " <matplotlib.patches.Polygon at 0x1cb56561208>,\n",
       " <matplotlib.patches.Polygon at 0x1cb565614a8>,\n",
       " <matplotlib.patches.Polygon at 0x1cb56561748>,\n",
       " <matplotlib.patches.Polygon at 0x1cb565619e8>,\n",
       " <matplotlib.patches.Polygon at 0x1cb56561c88>,\n",
       " <matplotlib.patches.Polygon at 0x1cb56561f28>,\n",
       " <matplotlib.patches.Polygon at 0x1cb5658c208>,\n",
       " <matplotlib.patches.Polygon at 0x1cb5658c4a8>,\n",
       " <matplotlib.patches.Polygon at 0x1cb5658c748>,\n",
       " <matplotlib.patches.Polygon at 0x1cb5658c9e8>,\n",
       " <matplotlib.patches.Polygon at 0x1cb5658cc88>,\n",
       " <matplotlib.patches.Polygon at 0x1cb5658cf28>,\n",
       " <matplotlib.patches.Polygon at 0x1cb5659f208>,\n",
       " <matplotlib.patches.Polygon at 0x1cb5659f4a8>,\n",
       " <matplotlib.patches.Polygon at 0x1cb5659f748>,\n",
       " <matplotlib.patches.Polygon at 0x1cb5659f9e8>,\n",
       " <matplotlib.patches.Polygon at 0x1cb5659fc88>,\n",
       " <matplotlib.patches.Polygon at 0x1cb5659ff28>,\n",
       " <matplotlib.patches.Polygon at 0x1cb52ad8208>,\n",
       " <matplotlib.patches.Polygon at 0x1cb52ad84a8>,\n",
       " <matplotlib.patches.Polygon at 0x1cb52ad8748>,\n",
       " <matplotlib.patches.Polygon at 0x1cb52ad89e8>,\n",
       " <matplotlib.patches.Polygon at 0x1cb52ad8c88>,\n",
       " <matplotlib.patches.Polygon at 0x1cb52ad8f28>,\n",
       " <matplotlib.patches.Polygon at 0x1cb52af5208>,\n",
       " <matplotlib.patches.Polygon at 0x1cb52af54a8>,\n",
       " <matplotlib.patches.Polygon at 0x1cb52af5748>,\n",
       " <matplotlib.patches.Polygon at 0x1cb52af59e8>,\n",
       " <matplotlib.patches.Polygon at 0x1cb52af5c88>,\n",
       " <matplotlib.patches.Polygon at 0x1cb52af5f28>,\n",
       " <matplotlib.patches.Polygon at 0x1cb555d6208>,\n",
       " <matplotlib.patches.Polygon at 0x1cb555d64a8>,\n",
       " <matplotlib.patches.Polygon at 0x1cb555d6748>,\n",
       " <matplotlib.patches.Polygon at 0x1cb555d69e8>,\n",
       " <matplotlib.patches.Polygon at 0x1cb555d6c88>,\n",
       " <matplotlib.patches.Polygon at 0x1cb555d6f28>,\n",
       " <matplotlib.patches.Polygon at 0x1cb555ce208>,\n",
       " <matplotlib.patches.Polygon at 0x1cb555ce4a8>,\n",
       " <matplotlib.patches.Polygon at 0x1cb555ce748>,\n",
       " <matplotlib.patches.Polygon at 0x1cb555ce9e8>,\n",
       " <matplotlib.patches.Polygon at 0x1cb555cec88>,\n",
       " <matplotlib.patches.Polygon at 0x1cb555cef28>,\n",
       " <matplotlib.patches.Polygon at 0x1cb554b0208>,\n",
       " <matplotlib.patches.Polygon at 0x1cb554b04a8>,\n",
       " <matplotlib.patches.Polygon at 0x1cb554b0748>,\n",
       " <matplotlib.patches.Polygon at 0x1cb554b09e8>,\n",
       " <matplotlib.patches.Polygon at 0x1cb554b0c88>,\n",
       " <matplotlib.patches.Polygon at 0x1cb554b0f28>,\n",
       " <matplotlib.patches.Polygon at 0x1cb554bf208>,\n",
       " <matplotlib.patches.Polygon at 0x1cb554bf4a8>,\n",
       " <matplotlib.patches.Polygon at 0x1cb554bf748>,\n",
       " <matplotlib.patches.Polygon at 0x1cb554bf9e8>,\n",
       " <matplotlib.patches.Polygon at 0x1cb554bfc88>,\n",
       " <matplotlib.patches.Polygon at 0x1cb554bff28>,\n",
       " <matplotlib.patches.Polygon at 0x1cb554cf208>,\n",
       " <matplotlib.patches.Polygon at 0x1cb554cf4a8>,\n",
       " <matplotlib.patches.Polygon at 0x1cb554cf748>,\n",
       " <matplotlib.patches.Polygon at 0x1cb554cfa20>,\n",
       " <matplotlib.patches.Polygon at 0x1cb554cfcc0>,\n",
       " <matplotlib.patches.Polygon at 0x1cb554cff28>,\n",
       " <matplotlib.patches.Polygon at 0x1cb55533208>,\n",
       " <matplotlib.patches.Polygon at 0x1cb555334a8>,\n",
       " <matplotlib.patches.Polygon at 0x1cb55533748>,\n",
       " <matplotlib.patches.Polygon at 0x1cb555339e8>,\n",
       " <matplotlib.patches.Polygon at 0x1cb55533c88>,\n",
       " <matplotlib.patches.Polygon at 0x1cb55533f28>,\n",
       " <matplotlib.patches.Polygon at 0x1cb5555f208>,\n",
       " <matplotlib.patches.Polygon at 0x1cb5555f4a8>,\n",
       " <matplotlib.patches.Polygon at 0x1cb5555f748>,\n",
       " <matplotlib.patches.Polygon at 0x1cb5555f9e8>,\n",
       " <matplotlib.patches.Polygon at 0x1cb5555fc88>,\n",
       " <matplotlib.patches.Polygon at 0x1cb5555ff28>,\n",
       " <matplotlib.patches.Polygon at 0x1cb5554e208>,\n",
       " <matplotlib.patches.Polygon at 0x1cb5554e4a8>,\n",
       " <matplotlib.patches.Polygon at 0x1cb5554e748>,\n",
       " <matplotlib.patches.Polygon at 0x1cb5554e9e8>,\n",
       " <matplotlib.patches.Polygon at 0x1cb5554ec88>,\n",
       " <matplotlib.patches.Polygon at 0x1cb5554ef28>,\n",
       " <matplotlib.patches.Polygon at 0x1cb5555e240>,\n",
       " <matplotlib.patches.Polygon at 0x1cb5555e4a8>,\n",
       " <matplotlib.patches.Polygon at 0x1cb5555e748>,\n",
       " <matplotlib.patches.Polygon at 0x1cb5555e9e8>,\n",
       " <matplotlib.patches.Polygon at 0x1cb5555ec88>,\n",
       " <matplotlib.patches.Polygon at 0x1cb5555ef28>,\n",
       " <matplotlib.patches.Polygon at 0x1cb5653b208>,\n",
       " <matplotlib.patches.Polygon at 0x1cb5653b4a8>,\n",
       " <matplotlib.patches.Polygon at 0x1cb5653b748>,\n",
       " <matplotlib.patches.Polygon at 0x1cb5653b9e8>,\n",
       " <matplotlib.patches.Polygon at 0x1cb5653bc88>,\n",
       " <matplotlib.patches.Polygon at 0x1cb5653bf28>,\n",
       " <matplotlib.patches.Polygon at 0x1cb56535208>,\n",
       " <matplotlib.patches.Polygon at 0x1cb565354a8>,\n",
       " <matplotlib.patches.Polygon at 0x1cb56535748>,\n",
       " <matplotlib.patches.Polygon at 0x1cb565359e8>,\n",
       " <matplotlib.patches.Polygon at 0x1cb56535c88>,\n",
       " <matplotlib.patches.Polygon at 0x1cb56535f28>,\n",
       " <matplotlib.patches.Polygon at 0x1cb56533208>,\n",
       " <matplotlib.patches.Polygon at 0x1cb565334a8>,\n",
       " <matplotlib.patches.Polygon at 0x1cb56533748>,\n",
       " <matplotlib.patches.Polygon at 0x1cb565339e8>,\n",
       " <matplotlib.patches.Polygon at 0x1cb56533c88>,\n",
       " <matplotlib.patches.Polygon at 0x1cb56533f28>,\n",
       " <matplotlib.patches.Polygon at 0x1cb56548208>,\n",
       " <matplotlib.patches.Polygon at 0x1cb565484a8>,\n",
       " <matplotlib.patches.Polygon at 0x1cb56548748>,\n",
       " <matplotlib.patches.Polygon at 0x1cb565489e8>,\n",
       " <matplotlib.patches.Polygon at 0x1cb56548c88>,\n",
       " <matplotlib.patches.Polygon at 0x1cb56548f28>,\n",
       " <matplotlib.patches.Polygon at 0x1cb5655f208>,\n",
       " <matplotlib.patches.Polygon at 0x1cb5655f4a8>,\n",
       " <matplotlib.patches.Polygon at 0x1cb5655f748>,\n",
       " <matplotlib.patches.Polygon at 0x1cb5655f9e8>,\n",
       " <matplotlib.patches.Polygon at 0x1cb5655fc88>,\n",
       " <matplotlib.patches.Polygon at 0x1cb5655ff28>,\n",
       " <matplotlib.patches.Polygon at 0x1cb57cb8208>,\n",
       " <matplotlib.patches.Polygon at 0x1cb57cb84a8>,\n",
       " <matplotlib.patches.Polygon at 0x1cb57cb8748>,\n",
       " <matplotlib.patches.Polygon at 0x1cb57cb89e8>,\n",
       " <matplotlib.patches.Polygon at 0x1cb57cb8c88>,\n",
       " <matplotlib.patches.Polygon at 0x1cb57cb8f28>,\n",
       " <matplotlib.patches.Polygon at 0x1cb57cca208>,\n",
       " <matplotlib.patches.Polygon at 0x1cb57cca4a8>,\n",
       " <matplotlib.patches.Polygon at 0x1cb57cca748>,\n",
       " <matplotlib.patches.Polygon at 0x1cb57cca9e8>,\n",
       " <matplotlib.patches.Polygon at 0x1cb57ccac88>,\n",
       " <matplotlib.patches.Polygon at 0x1cb57ccaf28>,\n",
       " <matplotlib.patches.Polygon at 0x1cb57c9a208>,\n",
       " <matplotlib.patches.Polygon at 0x1cb57c9a4a8>,\n",
       " <matplotlib.patches.Polygon at 0x1cb57c9a748>,\n",
       " <matplotlib.patches.Polygon at 0x1cb57c9a9e8>,\n",
       " <matplotlib.patches.Polygon at 0x1cb57c9ac88>,\n",
       " <matplotlib.patches.Polygon at 0x1cb57c9af28>]"
      ]
     },
     "execution_count": 8,
     "metadata": {},
     "output_type": "execute_result"
    },
    {
     "data": {
      "text/plain": [
       "<matplotlib.collections.LineCollection at 0x1cb57caf828>"
      ]
     },
     "execution_count": 8,
     "metadata": {},
     "output_type": "execute_result"
    },
    {
     "data": {
      "text/plain": [
       "<matplotlib.collections.LineCollection at 0x1cb57caf080>"
      ]
     },
     "execution_count": 8,
     "metadata": {},
     "output_type": "execute_result"
    },
    {
     "data": {
      "text/plain": [
       "[<matplotlib.lines.Line2D at 0x1cb575d8438>]"
      ]
     },
     "execution_count": 8,
     "metadata": {},
     "output_type": "execute_result"
    },
    {
     "data": {
      "text/plain": [
       "Text(0.5, 1.0, 'Filtered occurrences for Rangifer tarandus')"
      ]
     },
     "execution_count": 8,
     "metadata": {},
     "output_type": "execute_result"
    },
    {
     "data": {
      "text/plain": [
       "<matplotlib.patches.Rectangle at 0x1cb5658bda0>"
      ]
     },
     "execution_count": 8,
     "metadata": {},
     "output_type": "execute_result"
    },
    {
     "data": {
      "text/plain": [
       "[<matplotlib.patches.Polygon at 0x1cb57d08518>,\n",
       " <matplotlib.patches.Polygon at 0x1cb57d087f0>,\n",
       " <matplotlib.patches.Polygon at 0x1cb57d08a90>,\n",
       " <matplotlib.patches.Polygon at 0x1cb57d08d30>,\n",
       " <matplotlib.patches.Polygon at 0x1cb57d08fd0>,\n",
       " <matplotlib.patches.Polygon at 0x1cb57a012b0>,\n",
       " <matplotlib.patches.Polygon at 0x1cb57a01550>,\n",
       " <matplotlib.patches.Polygon at 0x1cb57a017f0>,\n",
       " <matplotlib.patches.Polygon at 0x1cb57a01a90>,\n",
       " <matplotlib.patches.Polygon at 0x1cb57a01d30>,\n",
       " <matplotlib.patches.Polygon at 0x1cb57a01fd0>,\n",
       " <matplotlib.patches.Polygon at 0x1cb57a132b0>,\n",
       " <matplotlib.patches.Polygon at 0x1cb57a13550>,\n",
       " <matplotlib.patches.Polygon at 0x1cb57a137f0>,\n",
       " <matplotlib.patches.Polygon at 0x1cb57a13a90>,\n",
       " <matplotlib.patches.Polygon at 0x1cb57a13d30>,\n",
       " <matplotlib.patches.Polygon at 0x1cb57a13fd0>,\n",
       " <matplotlib.patches.Polygon at 0x1cb57c902b0>,\n",
       " <matplotlib.patches.Polygon at 0x1cb57c90550>,\n",
       " <matplotlib.patches.Polygon at 0x1cb57c907f0>,\n",
       " <matplotlib.patches.Polygon at 0x1cb57c90a90>,\n",
       " <matplotlib.patches.Polygon at 0x1cb57c90d30>,\n",
       " <matplotlib.patches.Polygon at 0x1cb57c90fd0>,\n",
       " <matplotlib.patches.Polygon at 0x1cb57c9e2e8>,\n",
       " <matplotlib.patches.Polygon at 0x1cb57c9e550>,\n",
       " <matplotlib.patches.Polygon at 0x1cb57c9e7f0>,\n",
       " <matplotlib.patches.Polygon at 0x1cb57c9ea90>,\n",
       " <matplotlib.patches.Polygon at 0x1cb57c9ed30>,\n",
       " <matplotlib.patches.Polygon at 0x1cb57c9efd0>,\n",
       " <matplotlib.patches.Polygon at 0x1cb575a62b0>,\n",
       " <matplotlib.patches.Polygon at 0x1cb575a6550>,\n",
       " <matplotlib.patches.Polygon at 0x1cb575a67f0>,\n",
       " <matplotlib.patches.Polygon at 0x1cb575a6a90>,\n",
       " <matplotlib.patches.Polygon at 0x1cb575a6d30>,\n",
       " <matplotlib.patches.Polygon at 0x1cb575a6fd0>,\n",
       " <matplotlib.patches.Polygon at 0x1cb575af2b0>,\n",
       " <matplotlib.patches.Polygon at 0x1cb575af588>,\n",
       " <matplotlib.patches.Polygon at 0x1cb575af7f0>]"
      ]
     },
     "execution_count": 8,
     "metadata": {},
     "output_type": "execute_result"
    },
    {
     "data": {
      "text/plain": [
       "<matplotlib.collections.LineCollection at 0x1cb575afba8>"
      ]
     },
     "execution_count": 8,
     "metadata": {},
     "output_type": "execute_result"
    },
    {
     "data": {
      "text/plain": [
       "<matplotlib.collections.LineCollection at 0x1cb575aff60>"
      ]
     },
     "execution_count": 8,
     "metadata": {},
     "output_type": "execute_result"
    },
    {
     "data": {
      "text/plain": [
       "[<matplotlib.lines.Line2D at 0x1cb57d083c8>]"
      ]
     },
     "execution_count": 8,
     "metadata": {},
     "output_type": "execute_result"
    },
    {
     "data": {
      "text/plain": [
       "Text(0.5, 1.0, 'Filtered occurrences for Raphicerus campestris')"
      ]
     },
     "execution_count": 8,
     "metadata": {},
     "output_type": "execute_result"
    },
    {
     "data": {
      "text/plain": [
       "<matplotlib.patches.Rectangle at 0x1cb554da080>"
      ]
     },
     "execution_count": 8,
     "metadata": {},
     "output_type": "execute_result"
    },
    {
     "data": {
      "text/plain": [
       "[<matplotlib.patches.Polygon at 0x1cb58e4a7b8>,\n",
       " <matplotlib.patches.Polygon at 0x1cb5764e198>,\n",
       " <matplotlib.patches.Polygon at 0x1cb58e1d898>,\n",
       " <matplotlib.patches.Polygon at 0x1cb30cf74a8>,\n",
       " <matplotlib.patches.Polygon at 0x1cb30cf7550>,\n",
       " <matplotlib.patches.Polygon at 0x1cb30d0a780>,\n",
       " <matplotlib.patches.Polygon at 0x1cb30d0a8d0>,\n",
       " <matplotlib.patches.Polygon at 0x1cb57ce92e8>,\n",
       " <matplotlib.patches.Polygon at 0x1cb57ce9588>,\n",
       " <matplotlib.patches.Polygon at 0x1cb57ce9828>,\n",
       " <matplotlib.patches.Polygon at 0x1cb57ce9ac8>,\n",
       " <matplotlib.patches.Polygon at 0x1cb57ce9d68>,\n",
       " <matplotlib.patches.Polygon at 0x1cb57ce9fd0>,\n",
       " <matplotlib.patches.Polygon at 0x1cb5795d2e8>,\n",
       " <matplotlib.patches.Polygon at 0x1cb5795d588>,\n",
       " <matplotlib.patches.Polygon at 0x1cb5795d828>,\n",
       " <matplotlib.patches.Polygon at 0x1cb5795db00>,\n",
       " <matplotlib.patches.Polygon at 0x1cb5795dd68>,\n",
       " <matplotlib.patches.Polygon at 0x1cb5795dfd0>,\n",
       " <matplotlib.patches.Polygon at 0x1cb579652e8>,\n",
       " <matplotlib.patches.Polygon at 0x1cb579655c0>,\n",
       " <matplotlib.patches.Polygon at 0x1cb57965828>,\n",
       " <matplotlib.patches.Polygon at 0x1cb57965ac8>]"
      ]
     },
     "execution_count": 8,
     "metadata": {},
     "output_type": "execute_result"
    },
    {
     "data": {
      "text/plain": [
       "<matplotlib.collections.LineCollection at 0x1cb58e4ae10>"
      ]
     },
     "execution_count": 8,
     "metadata": {},
     "output_type": "execute_result"
    },
    {
     "data": {
      "text/plain": [
       "<matplotlib.collections.LineCollection at 0x1cb58e2fc18>"
      ]
     },
     "execution_count": 8,
     "metadata": {},
     "output_type": "execute_result"
    },
    {
     "data": {
      "text/plain": [
       "[<matplotlib.lines.Line2D at 0x1cb58e2fb38>]"
      ]
     },
     "execution_count": 8,
     "metadata": {},
     "output_type": "execute_result"
    },
    {
     "data": {
      "text/plain": [
       "Text(0.5, 1.0, 'Filtered occurrences for Raphicerus melanotis')"
      ]
     },
     "execution_count": 8,
     "metadata": {},
     "output_type": "execute_result"
    },
    {
     "data": {
      "text/plain": [
       "<matplotlib.patches.Rectangle at 0x1cb58e42550>"
      ]
     },
     "execution_count": 8,
     "metadata": {},
     "output_type": "execute_result"
    },
    {
     "data": {
      "text/plain": [
       "[<matplotlib.patches.Polygon at 0x1cb57a5fb70>,\n",
       " <matplotlib.patches.Polygon at 0x1cb57a5fe80>,\n",
       " <matplotlib.patches.Polygon at 0x1cb57a5ff60>,\n",
       " <matplotlib.patches.Polygon at 0x1cb579fb4e0>,\n",
       " <matplotlib.patches.Polygon at 0x1cb579fb780>,\n",
       " <matplotlib.patches.Polygon at 0x1cb579fba20>,\n",
       " <matplotlib.patches.Polygon at 0x1cb579fbcc0>,\n",
       " <matplotlib.patches.Polygon at 0x1cb579fbf60>,\n",
       " <matplotlib.patches.Polygon at 0x1cb57a4a240>,\n",
       " <matplotlib.patches.Polygon at 0x1cb57a4a4e0>,\n",
       " <matplotlib.patches.Polygon at 0x1cb57a4a780>,\n",
       " <matplotlib.patches.Polygon at 0x1cb57a4aa20>,\n",
       " <matplotlib.patches.Polygon at 0x1cb57a4acc0>,\n",
       " <matplotlib.patches.Polygon at 0x1cb57a4af60>,\n",
       " <matplotlib.patches.Polygon at 0x1cb579e6240>,\n",
       " <matplotlib.patches.Polygon at 0x1cb579e64e0>,\n",
       " <matplotlib.patches.Polygon at 0x1cb579e6780>,\n",
       " <matplotlib.patches.Polygon at 0x1cb579e6a20>,\n",
       " <matplotlib.patches.Polygon at 0x1cb579e6cc0>,\n",
       " <matplotlib.patches.Polygon at 0x1cb579e6f60>,\n",
       " <matplotlib.patches.Polygon at 0x1cb579cb240>,\n",
       " <matplotlib.patches.Polygon at 0x1cb579cb4e0>,\n",
       " <matplotlib.patches.Polygon at 0x1cb579cb780>,\n",
       " <matplotlib.patches.Polygon at 0x1cb579cba20>,\n",
       " <matplotlib.patches.Polygon at 0x1cb579cbcf8>,\n",
       " <matplotlib.patches.Polygon at 0x1cb579cbf60>,\n",
       " <matplotlib.patches.Polygon at 0x1cb579de240>,\n",
       " <matplotlib.patches.Polygon at 0x1cb579de4e0>,\n",
       " <matplotlib.patches.Polygon at 0x1cb579de780>,\n",
       " <matplotlib.patches.Polygon at 0x1cb579dea20>,\n",
       " <matplotlib.patches.Polygon at 0x1cb579decc0>,\n",
       " <matplotlib.patches.Polygon at 0x1cb579def60>,\n",
       " <matplotlib.patches.Polygon at 0x1cb579f7240>,\n",
       " <matplotlib.patches.Polygon at 0x1cb579f74e0>,\n",
       " <matplotlib.patches.Polygon at 0x1cb579f7780>,\n",
       " <matplotlib.patches.Polygon at 0x1cb579f7a58>,\n",
       " <matplotlib.patches.Polygon at 0x1cb579f7cc0>]"
      ]
     },
     "execution_count": 8,
     "metadata": {},
     "output_type": "execute_result"
    },
    {
     "data": {
      "text/plain": [
       "<matplotlib.collections.LineCollection at 0x1cb579f7e48>"
      ]
     },
     "execution_count": 8,
     "metadata": {},
     "output_type": "execute_result"
    },
    {
     "data": {
      "text/plain": [
       "<matplotlib.collections.LineCollection at 0x1cb5961f5f8>"
      ]
     },
     "execution_count": 8,
     "metadata": {},
     "output_type": "execute_result"
    },
    {
     "data": {
      "text/plain": [
       "[<matplotlib.lines.Line2D at 0x1cb5961f550>]"
      ]
     },
     "execution_count": 8,
     "metadata": {},
     "output_type": "execute_result"
    },
    {
     "data": {
      "text/plain": [
       "Text(0.5, 1.0, 'Filtered occurrences for Raphicerus sharpei')"
      ]
     },
     "execution_count": 8,
     "metadata": {},
     "output_type": "execute_result"
    },
    {
     "data": {
      "text/plain": [
       "<matplotlib.patches.Rectangle at 0x1cb58d77978>"
      ]
     },
     "execution_count": 8,
     "metadata": {},
     "output_type": "execute_result"
    },
    {
     "data": {
      "text/plain": [
       "[<matplotlib.patches.Polygon at 0x1cb57a420f0>,\n",
       " <matplotlib.patches.Polygon at 0x1cb57a423c8>,\n",
       " <matplotlib.patches.Polygon at 0x1cb57a42668>,\n",
       " <matplotlib.patches.Polygon at 0x1cb57a42908>,\n",
       " <matplotlib.patches.Polygon at 0x1cb57a42ba8>,\n",
       " <matplotlib.patches.Polygon at 0x1cb57a42e48>,\n",
       " <matplotlib.patches.Polygon at 0x1cb57a72128>,\n",
       " <matplotlib.patches.Polygon at 0x1cb57a723c8>,\n",
       " <matplotlib.patches.Polygon at 0x1cb57a72668>,\n",
       " <matplotlib.patches.Polygon at 0x1cb57a72908>,\n",
       " <matplotlib.patches.Polygon at 0x1cb57a72ba8>,\n",
       " <matplotlib.patches.Polygon at 0x1cb57a72e48>,\n",
       " <matplotlib.patches.Polygon at 0x1cb57a7d128>,\n",
       " <matplotlib.patches.Polygon at 0x1cb57a7d3c8>,\n",
       " <matplotlib.patches.Polygon at 0x1cb57a7d668>,\n",
       " <matplotlib.patches.Polygon at 0x1cb57a7d908>,\n",
       " <matplotlib.patches.Polygon at 0x1cb57a7dba8>,\n",
       " <matplotlib.patches.Polygon at 0x1cb57a7de48>,\n",
       " <matplotlib.patches.Polygon at 0x1cb5664f128>,\n",
       " <matplotlib.patches.Polygon at 0x1cb5664f3c8>,\n",
       " <matplotlib.patches.Polygon at 0x1cb5664f668>,\n",
       " <matplotlib.patches.Polygon at 0x1cb5664f940>,\n",
       " <matplotlib.patches.Polygon at 0x1cb5664fba8>,\n",
       " <matplotlib.patches.Polygon at 0x1cb5664fe48>,\n",
       " <matplotlib.patches.Polygon at 0x1cb56658128>,\n",
       " <matplotlib.patches.Polygon at 0x1cb566583c8>,\n",
       " <matplotlib.patches.Polygon at 0x1cb56658668>,\n",
       " <matplotlib.patches.Polygon at 0x1cb56658908>,\n",
       " <matplotlib.patches.Polygon at 0x1cb56658ba8>,\n",
       " <matplotlib.patches.Polygon at 0x1cb56658e48>,\n",
       " <matplotlib.patches.Polygon at 0x1cb57560128>,\n",
       " <matplotlib.patches.Polygon at 0x1cb575603c8>,\n",
       " <matplotlib.patches.Polygon at 0x1cb575606a0>,\n",
       " <matplotlib.patches.Polygon at 0x1cb57560908>]"
      ]
     },
     "execution_count": 8,
     "metadata": {},
     "output_type": "execute_result"
    },
    {
     "data": {
      "text/plain": [
       "<matplotlib.collections.LineCollection at 0x1cb57560cc0>"
      ]
     },
     "execution_count": 8,
     "metadata": {},
     "output_type": "execute_result"
    },
    {
     "data": {
      "text/plain": [
       "<matplotlib.collections.LineCollection at 0x1cb57560a90>"
      ]
     },
     "execution_count": 8,
     "metadata": {},
     "output_type": "execute_result"
    },
    {
     "data": {
      "text/plain": [
       "[<matplotlib.lines.Line2D at 0x1cb5758ac88>]"
      ]
     },
     "execution_count": 8,
     "metadata": {},
     "output_type": "execute_result"
    },
    {
     "data": {
      "text/plain": [
       "Text(0.5, 1.0, 'Filtered occurrences for Redunca arundinum')"
      ]
     },
     "execution_count": 8,
     "metadata": {},
     "output_type": "execute_result"
    },
    {
     "data": {
      "text/plain": [
       "<matplotlib.patches.Rectangle at 0x1cb579b0048>"
      ]
     },
     "execution_count": 8,
     "metadata": {},
     "output_type": "execute_result"
    },
    {
     "data": {
      "text/plain": [
       "[<matplotlib.patches.Polygon at 0x1cb57028710>,\n",
       " <matplotlib.patches.Polygon at 0x1cb57028a20>,\n",
       " <matplotlib.patches.Polygon at 0x1cb57028cf8>,\n",
       " <matplotlib.patches.Polygon at 0x1cb57028f60>,\n",
       " <matplotlib.patches.Polygon at 0x1cb57031240>,\n",
       " <matplotlib.patches.Polygon at 0x1cb570314e0>,\n",
       " <matplotlib.patches.Polygon at 0x1cb57031780>,\n",
       " <matplotlib.patches.Polygon at 0x1cb57031a20>,\n",
       " <matplotlib.patches.Polygon at 0x1cb57031cc0>,\n",
       " <matplotlib.patches.Polygon at 0x1cb57031f60>,\n",
       " <matplotlib.patches.Polygon at 0x1cb5703a240>,\n",
       " <matplotlib.patches.Polygon at 0x1cb5703a4e0>,\n",
       " <matplotlib.patches.Polygon at 0x1cb5703a780>,\n",
       " <matplotlib.patches.Polygon at 0x1cb5703aa20>,\n",
       " <matplotlib.patches.Polygon at 0x1cb5703acc0>,\n",
       " <matplotlib.patches.Polygon at 0x1cb5703af60>,\n",
       " <matplotlib.patches.Polygon at 0x1cb57107240>,\n",
       " <matplotlib.patches.Polygon at 0x1cb571074e0>,\n",
       " <matplotlib.patches.Polygon at 0x1cb57107780>,\n",
       " <matplotlib.patches.Polygon at 0x1cb57107a20>,\n",
       " <matplotlib.patches.Polygon at 0x1cb57107cc0>,\n",
       " <matplotlib.patches.Polygon at 0x1cb57107f60>,\n",
       " <matplotlib.patches.Polygon at 0x1cb57120240>,\n",
       " <matplotlib.patches.Polygon at 0x1cb57120518>,\n",
       " <matplotlib.patches.Polygon at 0x1cb57120780>,\n",
       " <matplotlib.patches.Polygon at 0x1cb57120a20>,\n",
       " <matplotlib.patches.Polygon at 0x1cb57120cc0>,\n",
       " <matplotlib.patches.Polygon at 0x1cb57120f60>,\n",
       " <matplotlib.patches.Polygon at 0x1cb57130240>,\n",
       " <matplotlib.patches.Polygon at 0x1cb571304e0>,\n",
       " <matplotlib.patches.Polygon at 0x1cb57130780>,\n",
       " <matplotlib.patches.Polygon at 0x1cb57130a20>,\n",
       " <matplotlib.patches.Polygon at 0x1cb57130cc0>,\n",
       " <matplotlib.patches.Polygon at 0x1cb57130f60>,\n",
       " <matplotlib.patches.Polygon at 0x1cb56694278>,\n",
       " <matplotlib.patches.Polygon at 0x1cb566944e0>,\n",
       " <matplotlib.patches.Polygon at 0x1cb56694780>,\n",
       " <matplotlib.patches.Polygon at 0x1cb56694a58>,\n",
       " <matplotlib.patches.Polygon at 0x1cb56694cc0>]"
      ]
     },
     "execution_count": 8,
     "metadata": {},
     "output_type": "execute_result"
    },
    {
     "data": {
      "text/plain": [
       "<matplotlib.collections.LineCollection at 0x1cb56694eb8>"
      ]
     },
     "execution_count": 8,
     "metadata": {},
     "output_type": "execute_result"
    },
    {
     "data": {
      "text/plain": [
       "<matplotlib.collections.LineCollection at 0x1cb56694e10>"
      ]
     },
     "execution_count": 8,
     "metadata": {},
     "output_type": "execute_result"
    },
    {
     "data": {
      "text/plain": [
       "[<matplotlib.lines.Line2D at 0x1cb56670668>]"
      ]
     },
     "execution_count": 8,
     "metadata": {},
     "output_type": "execute_result"
    },
    {
     "data": {
      "text/plain": [
       "Text(0.5, 1.0, 'Filtered occurrences for Redunca fulvorufula')"
      ]
     },
     "execution_count": 8,
     "metadata": {},
     "output_type": "execute_result"
    },
    {
     "data": {
      "text/plain": [
       "<matplotlib.patches.Rectangle at 0x1cb56684400>"
      ]
     },
     "execution_count": 8,
     "metadata": {},
     "output_type": "execute_result"
    },
    {
     "data": {
      "text/plain": [
       "[<matplotlib.patches.Polygon at 0x1cb56690b38>,\n",
       " <matplotlib.patches.Polygon at 0x1cb56690e10>,\n",
       " <matplotlib.patches.Polygon at 0x1cb56fe7128>,\n",
       " <matplotlib.patches.Polygon at 0x1cb56fe73c8>,\n",
       " <matplotlib.patches.Polygon at 0x1cb56fe7668>,\n",
       " <matplotlib.patches.Polygon at 0x1cb56fe7908>,\n",
       " <matplotlib.patches.Polygon at 0x1cb56fe7ba8>,\n",
       " <matplotlib.patches.Polygon at 0x1cb56fe7e48>,\n",
       " <matplotlib.patches.Polygon at 0x1cb56fef128>,\n",
       " <matplotlib.patches.Polygon at 0x1cb56fef3c8>,\n",
       " <matplotlib.patches.Polygon at 0x1cb56fef668>,\n",
       " <matplotlib.patches.Polygon at 0x1cb56fef908>,\n",
       " <matplotlib.patches.Polygon at 0x1cb56fefba8>,\n",
       " <matplotlib.patches.Polygon at 0x1cb56fefe48>,\n",
       " <matplotlib.patches.Polygon at 0x1cb56ff9128>,\n",
       " <matplotlib.patches.Polygon at 0x1cb56ff93c8>,\n",
       " <matplotlib.patches.Polygon at 0x1cb56ff9668>,\n",
       " <matplotlib.patches.Polygon at 0x1cb56ff9908>,\n",
       " <matplotlib.patches.Polygon at 0x1cb56ff9ba8>,\n",
       " <matplotlib.patches.Polygon at 0x1cb56ff9e48>,\n",
       " <matplotlib.patches.Polygon at 0x1cb574ee128>,\n",
       " <matplotlib.patches.Polygon at 0x1cb574ee3c8>,\n",
       " <matplotlib.patches.Polygon at 0x1cb574ee6a0>,\n",
       " <matplotlib.patches.Polygon at 0x1cb574ee908>,\n",
       " <matplotlib.patches.Polygon at 0x1cb574eeba8>,\n",
       " <matplotlib.patches.Polygon at 0x1cb574eee48>,\n",
       " <matplotlib.patches.Polygon at 0x1cb574ff128>,\n",
       " <matplotlib.patches.Polygon at 0x1cb574ff3c8>,\n",
       " <matplotlib.patches.Polygon at 0x1cb574ff668>,\n",
       " <matplotlib.patches.Polygon at 0x1cb574ff908>,\n",
       " <matplotlib.patches.Polygon at 0x1cb574ffba8>,\n",
       " <matplotlib.patches.Polygon at 0x1cb574ffe48>,\n",
       " <matplotlib.patches.Polygon at 0x1cb57513128>,\n",
       " <matplotlib.patches.Polygon at 0x1cb575133c8>,\n",
       " <matplotlib.patches.Polygon at 0x1cb57513668>,\n",
       " <matplotlib.patches.Polygon at 0x1cb57513908>,\n",
       " <matplotlib.patches.Polygon at 0x1cb57513ba8>,\n",
       " <matplotlib.patches.Polygon at 0x1cb57513e48>,\n",
       " <matplotlib.patches.Polygon at 0x1cb57aa2128>,\n",
       " <matplotlib.patches.Polygon at 0x1cb57aa23c8>,\n",
       " <matplotlib.patches.Polygon at 0x1cb57aa2668>,\n",
       " <matplotlib.patches.Polygon at 0x1cb57aa2940>,\n",
       " <matplotlib.patches.Polygon at 0x1cb57aa2ba8>,\n",
       " <matplotlib.patches.Polygon at 0x1cb57aa2e48>,\n",
       " <matplotlib.patches.Polygon at 0x1cb57aa9128>,\n",
       " <matplotlib.patches.Polygon at 0x1cb57aa93c8>,\n",
       " <matplotlib.patches.Polygon at 0x1cb57aa9668>,\n",
       " <matplotlib.patches.Polygon at 0x1cb57aa9908>,\n",
       " <matplotlib.patches.Polygon at 0x1cb57aa9ba8>,\n",
       " <matplotlib.patches.Polygon at 0x1cb57aa9e48>,\n",
       " <matplotlib.patches.Polygon at 0x1cb57ab2128>,\n",
       " <matplotlib.patches.Polygon at 0x1cb57ab23c8>,\n",
       " <matplotlib.patches.Polygon at 0x1cb57ab2668>,\n",
       " <matplotlib.patches.Polygon at 0x1cb57ab2908>,\n",
       " <matplotlib.patches.Polygon at 0x1cb57ab2ba8>,\n",
       " <matplotlib.patches.Polygon at 0x1cb57ab2e48>,\n",
       " <matplotlib.patches.Polygon at 0x1cb57abc128>,\n",
       " <matplotlib.patches.Polygon at 0x1cb57abc3c8>,\n",
       " <matplotlib.patches.Polygon at 0x1cb57abc668>,\n",
       " <matplotlib.patches.Polygon at 0x1cb57abc908>,\n",
       " <matplotlib.patches.Polygon at 0x1cb57abcbe0>,\n",
       " <matplotlib.patches.Polygon at 0x1cb57abce48>,\n",
       " <matplotlib.patches.Polygon at 0x1cb570c9160>,\n",
       " <matplotlib.patches.Polygon at 0x1cb570c93c8>,\n",
       " <matplotlib.patches.Polygon at 0x1cb570c9668>,\n",
       " <matplotlib.patches.Polygon at 0x1cb570c9940>,\n",
       " <matplotlib.patches.Polygon at 0x1cb570c9be0>,\n",
       " <matplotlib.patches.Polygon at 0x1cb570c9e48>,\n",
       " <matplotlib.patches.Polygon at 0x1cb570d8128>]"
      ]
     },
     "execution_count": 8,
     "metadata": {},
     "output_type": "execute_result"
    },
    {
     "data": {
      "text/plain": [
       "<matplotlib.collections.LineCollection at 0x1cb570d85c0>"
      ]
     },
     "execution_count": 8,
     "metadata": {},
     "output_type": "execute_result"
    },
    {
     "data": {
      "text/plain": [
       "<matplotlib.collections.LineCollection at 0x1cb570b0dd8>"
      ]
     },
     "execution_count": 8,
     "metadata": {},
     "output_type": "execute_result"
    },
    {
     "data": {
      "text/plain": [
       "[<matplotlib.lines.Line2D at 0x1cb570b0cf8>]"
      ]
     },
     "execution_count": 8,
     "metadata": {},
     "output_type": "execute_result"
    },
    {
     "data": {
      "text/plain": [
       "Text(0.5, 1.0, 'Filtered occurrences for Redunca redunca')"
      ]
     },
     "execution_count": 8,
     "metadata": {},
     "output_type": "execute_result"
    },
    {
     "data": {
      "text/plain": [
       "<matplotlib.patches.Rectangle at 0x1cb57060b38>"
      ]
     },
     "execution_count": 8,
     "metadata": {},
     "output_type": "execute_result"
    },
    {
     "data": {
      "text/plain": [
       "[<matplotlib.patches.Polygon at 0x1cb58d9dbe0>,\n",
       " <matplotlib.patches.Polygon at 0x1cb58d9dfd0>,\n",
       " <matplotlib.patches.Polygon at 0x1cb570412e8>,\n",
       " <matplotlib.patches.Polygon at 0x1cb57041588>,\n",
       " <matplotlib.patches.Polygon at 0x1cb57041828>,\n",
       " <matplotlib.patches.Polygon at 0x1cb57041ac8>,\n",
       " <matplotlib.patches.Polygon at 0x1cb57041d68>,\n",
       " <matplotlib.patches.Polygon at 0x1cb57041fd0>,\n",
       " <matplotlib.patches.Polygon at 0x1cb570512e8>,\n",
       " <matplotlib.patches.Polygon at 0x1cb57051588>,\n",
       " <matplotlib.patches.Polygon at 0x1cb57051828>,\n",
       " <matplotlib.patches.Polygon at 0x1cb57051ac8>,\n",
       " <matplotlib.patches.Polygon at 0x1cb57051d68>,\n",
       " <matplotlib.patches.Polygon at 0x1cb57051fd0>,\n",
       " <matplotlib.patches.Polygon at 0x1cb570b12e8>,\n",
       " <matplotlib.patches.Polygon at 0x1cb570b1588>,\n",
       " <matplotlib.patches.Polygon at 0x1cb570b1828>,\n",
       " <matplotlib.patches.Polygon at 0x1cb570b1ac8>,\n",
       " <matplotlib.patches.Polygon at 0x1cb570b1d68>,\n",
       " <matplotlib.patches.Polygon at 0x1cb570b1fd0>,\n",
       " <matplotlib.patches.Polygon at 0x1cb58dc02e8>,\n",
       " <matplotlib.patches.Polygon at 0x1cb58dc0588>,\n",
       " <matplotlib.patches.Polygon at 0x1cb58dc0828>,\n",
       " <matplotlib.patches.Polygon at 0x1cb58dc0ac8>,\n",
       " <matplotlib.patches.Polygon at 0x1cb58dc0d68>,\n",
       " <matplotlib.patches.Polygon at 0x1cb58dc0fd0>,\n",
       " <matplotlib.patches.Polygon at 0x1cb58dcd2e8>,\n",
       " <matplotlib.patches.Polygon at 0x1cb58dcd588>,\n",
       " <matplotlib.patches.Polygon at 0x1cb58dcd828>,\n",
       " <matplotlib.patches.Polygon at 0x1cb58dcdac8>,\n",
       " <matplotlib.patches.Polygon at 0x1cb58dcdd68>,\n",
       " <matplotlib.patches.Polygon at 0x1cb58dcdfd0>,\n",
       " <matplotlib.patches.Polygon at 0x1cb59414320>,\n",
       " <matplotlib.patches.Polygon at 0x1cb59414588>,\n",
       " <matplotlib.patches.Polygon at 0x1cb59414828>,\n",
       " <matplotlib.patches.Polygon at 0x1cb59414ac8>,\n",
       " <matplotlib.patches.Polygon at 0x1cb59414d68>,\n",
       " <matplotlib.patches.Polygon at 0x1cb59414fd0>,\n",
       " <matplotlib.patches.Polygon at 0x1cb594222e8>,\n",
       " <matplotlib.patches.Polygon at 0x1cb594225c0>,\n",
       " <matplotlib.patches.Polygon at 0x1cb59422828>,\n",
       " <matplotlib.patches.Polygon at 0x1cb59422ac8>,\n",
       " <matplotlib.patches.Polygon at 0x1cb59422d68>,\n",
       " <matplotlib.patches.Polygon at 0x1cb59422fd0>,\n",
       " <matplotlib.patches.Polygon at 0x1cb57a832e8>,\n",
       " <matplotlib.patches.Polygon at 0x1cb57a83588>,\n",
       " <matplotlib.patches.Polygon at 0x1cb57a83828>,\n",
       " <matplotlib.patches.Polygon at 0x1cb57a83ac8>,\n",
       " <matplotlib.patches.Polygon at 0x1cb57a83d68>,\n",
       " <matplotlib.patches.Polygon at 0x1cb57a83fd0>,\n",
       " <matplotlib.patches.Polygon at 0x1cb57a8d2e8>,\n",
       " <matplotlib.patches.Polygon at 0x1cb57a8d588>,\n",
       " <matplotlib.patches.Polygon at 0x1cb57a8d828>,\n",
       " <matplotlib.patches.Polygon at 0x1cb57a8dac8>,\n",
       " <matplotlib.patches.Polygon at 0x1cb57a8dd68>,\n",
       " <matplotlib.patches.Polygon at 0x1cb57a8dfd0>,\n",
       " <matplotlib.patches.Polygon at 0x1cb57a992e8>,\n",
       " <matplotlib.patches.Polygon at 0x1cb57a99588>,\n",
       " <matplotlib.patches.Polygon at 0x1cb57a99828>,\n",
       " <matplotlib.patches.Polygon at 0x1cb57a99ac8>,\n",
       " <matplotlib.patches.Polygon at 0x1cb57a99d68>,\n",
       " <matplotlib.patches.Polygon at 0x1cb57a99fd0>,\n",
       " <matplotlib.patches.Polygon at 0x1cb56ff82e8>,\n",
       " <matplotlib.patches.Polygon at 0x1cb56ff8588>,\n",
       " <matplotlib.patches.Polygon at 0x1cb56ff8828>,\n",
       " <matplotlib.patches.Polygon at 0x1cb56ff8ac8>,\n",
       " <matplotlib.patches.Polygon at 0x1cb56ff8d68>,\n",
       " <matplotlib.patches.Polygon at 0x1cb56ff8fd0>,\n",
       " <matplotlib.patches.Polygon at 0x1cb56fd92e8>,\n",
       " <matplotlib.patches.Polygon at 0x1cb56fd9588>,\n",
       " <matplotlib.patches.Polygon at 0x1cb56fd9828>,\n",
       " <matplotlib.patches.Polygon at 0x1cb56fd9ac8>,\n",
       " <matplotlib.patches.Polygon at 0x1cb56fd9d68>,\n",
       " <matplotlib.patches.Polygon at 0x1cb56fd9fd0>,\n",
       " <matplotlib.patches.Polygon at 0x1cb56fcd2e8>,\n",
       " <matplotlib.patches.Polygon at 0x1cb56fcd588>,\n",
       " <matplotlib.patches.Polygon at 0x1cb56fcd828>,\n",
       " <matplotlib.patches.Polygon at 0x1cb56fcdac8>,\n",
       " <matplotlib.patches.Polygon at 0x1cb56fcdd68>,\n",
       " <matplotlib.patches.Polygon at 0x1cb56fcdfd0>,\n",
       " <matplotlib.patches.Polygon at 0x1cb56fc52e8>,\n",
       " <matplotlib.patches.Polygon at 0x1cb56fc5588>,\n",
       " <matplotlib.patches.Polygon at 0x1cb56fc5828>,\n",
       " <matplotlib.patches.Polygon at 0x1cb56fc5ac8>,\n",
       " <matplotlib.patches.Polygon at 0x1cb56fc5d68>,\n",
       " <matplotlib.patches.Polygon at 0x1cb56fc5fd0>,\n",
       " <matplotlib.patches.Polygon at 0x1cb574f02e8>,\n",
       " <matplotlib.patches.Polygon at 0x1cb574f0588>,\n",
       " <matplotlib.patches.Polygon at 0x1cb574f0828>,\n",
       " <matplotlib.patches.Polygon at 0x1cb574f0ac8>]"
      ]
     },
     "execution_count": 8,
     "metadata": {},
     "output_type": "execute_result"
    },
    {
     "data": {
      "text/plain": [
       "<matplotlib.collections.LineCollection at 0x1cb574f0c50>"
      ]
     },
     "execution_count": 8,
     "metadata": {},
     "output_type": "execute_result"
    },
    {
     "data": {
      "text/plain": [
       "<matplotlib.collections.LineCollection at 0x1cb574f0eb8>"
      ]
     },
     "execution_count": 8,
     "metadata": {},
     "output_type": "execute_result"
    },
    {
     "data": {
      "text/plain": [
       "[<matplotlib.lines.Line2D at 0x1cb574d8e48>]"
      ]
     },
     "execution_count": 8,
     "metadata": {},
     "output_type": "execute_result"
    },
    {
     "data": {
      "text/plain": [
       "Text(0.5, 1.0, 'Filtered occurrences for Rhinoceros unicornis')"
      ]
     },
     "execution_count": 8,
     "metadata": {},
     "output_type": "execute_result"
    },
    {
     "data": {
      "text/plain": [
       "<matplotlib.patches.Rectangle at 0x1cb5a284630>"
      ]
     },
     "execution_count": 8,
     "metadata": {},
     "output_type": "execute_result"
    },
    {
     "data": {
      "text/plain": [
       "[<matplotlib.patches.Polygon at 0x1cb57072d68>,\n",
       " <matplotlib.patches.Polygon at 0x1cb5716b048>,\n",
       " <matplotlib.patches.Polygon at 0x1cb5716b320>,\n",
       " <matplotlib.patches.Polygon at 0x1cb5716b5c0>,\n",
       " <matplotlib.patches.Polygon at 0x1cb5716b860>,\n",
       " <matplotlib.patches.Polygon at 0x1cb5716bb00>,\n",
       " <matplotlib.patches.Polygon at 0x1cb5716bda0>,\n",
       " <matplotlib.patches.Polygon at 0x1cb5a2c4080>,\n",
       " <matplotlib.patches.Polygon at 0x1cb5a2c4320>,\n",
       " <matplotlib.patches.Polygon at 0x1cb5a2c45c0>,\n",
       " <matplotlib.patches.Polygon at 0x1cb5a2c4860>,\n",
       " <matplotlib.patches.Polygon at 0x1cb5a2c4b00>,\n",
       " <matplotlib.patches.Polygon at 0x1cb5a2c4da0>,\n",
       " <matplotlib.patches.Polygon at 0x1cb57091080>,\n",
       " <matplotlib.patches.Polygon at 0x1cb57091320>,\n",
       " <matplotlib.patches.Polygon at 0x1cb570915f8>,\n",
       " <matplotlib.patches.Polygon at 0x1cb57091860>,\n",
       " <matplotlib.patches.Polygon at 0x1cb57091b38>,\n",
       " <matplotlib.patches.Polygon at 0x1cb57091da0>,\n",
       " <matplotlib.patches.Polygon at 0x1cb5a293080>,\n",
       " <matplotlib.patches.Polygon at 0x1cb5a293320>,\n",
       " <matplotlib.patches.Polygon at 0x1cb5a2935c0>,\n",
       " <matplotlib.patches.Polygon at 0x1cb5a293860>,\n",
       " <matplotlib.patches.Polygon at 0x1cb5a293b00>,\n",
       " <matplotlib.patches.Polygon at 0x1cb5a293da0>,\n",
       " <matplotlib.patches.Polygon at 0x1cb5a2af080>,\n",
       " <matplotlib.patches.Polygon at 0x1cb5a2af320>,\n",
       " <matplotlib.patches.Polygon at 0x1cb5a2af5c0>,\n",
       " <matplotlib.patches.Polygon at 0x1cb5a2af860>,\n",
       " <matplotlib.patches.Polygon at 0x1cb5a2afb00>,\n",
       " <matplotlib.patches.Polygon at 0x1cb5a2afda0>,\n",
       " <matplotlib.patches.Polygon at 0x1cb5a295080>,\n",
       " <matplotlib.patches.Polygon at 0x1cb5a295320>,\n",
       " <matplotlib.patches.Polygon at 0x1cb5a2955c0>,\n",
       " <matplotlib.patches.Polygon at 0x1cb5a295860>,\n",
       " <matplotlib.patches.Polygon at 0x1cb5a295b00>,\n",
       " <matplotlib.patches.Polygon at 0x1cb5a295da0>,\n",
       " <matplotlib.patches.Polygon at 0x1cb570f2080>,\n",
       " <matplotlib.patches.Polygon at 0x1cb570f2320>,\n",
       " <matplotlib.patches.Polygon at 0x1cb570f25c0>,\n",
       " <matplotlib.patches.Polygon at 0x1cb570f2860>,\n",
       " <matplotlib.patches.Polygon at 0x1cb570f2b00>,\n",
       " <matplotlib.patches.Polygon at 0x1cb570f2da0>,\n",
       " <matplotlib.patches.Polygon at 0x1cb570d4080>,\n",
       " <matplotlib.patches.Polygon at 0x1cb570d4320>,\n",
       " <matplotlib.patches.Polygon at 0x1cb570d45c0>,\n",
       " <matplotlib.patches.Polygon at 0x1cb570d4860>,\n",
       " <matplotlib.patches.Polygon at 0x1cb570d4b00>,\n",
       " <matplotlib.patches.Polygon at 0x1cb570d4da0>,\n",
       " <matplotlib.patches.Polygon at 0x1cb570fa080>,\n",
       " <matplotlib.patches.Polygon at 0x1cb570fa320>,\n",
       " <matplotlib.patches.Polygon at 0x1cb570fa5f8>,\n",
       " <matplotlib.patches.Polygon at 0x1cb570fa860>,\n",
       " <matplotlib.patches.Polygon at 0x1cb570fab00>,\n",
       " <matplotlib.patches.Polygon at 0x1cb570fada0>,\n",
       " <matplotlib.patches.Polygon at 0x1cb5715f080>,\n",
       " <matplotlib.patches.Polygon at 0x1cb5715f320>,\n",
       " <matplotlib.patches.Polygon at 0x1cb5715f5f8>,\n",
       " <matplotlib.patches.Polygon at 0x1cb5715f860>,\n",
       " <matplotlib.patches.Polygon at 0x1cb5715fb00>,\n",
       " <matplotlib.patches.Polygon at 0x1cb5715fda0>,\n",
       " <matplotlib.patches.Polygon at 0x1cb57141080>,\n",
       " <matplotlib.patches.Polygon at 0x1cb57141320>,\n",
       " <matplotlib.patches.Polygon at 0x1cb571415c0>,\n",
       " <matplotlib.patches.Polygon at 0x1cb57141860>,\n",
       " <matplotlib.patches.Polygon at 0x1cb57141b00>,\n",
       " <matplotlib.patches.Polygon at 0x1cb57141da0>,\n",
       " <matplotlib.patches.Polygon at 0x1cb57b44080>,\n",
       " <matplotlib.patches.Polygon at 0x1cb57b44320>,\n",
       " <matplotlib.patches.Polygon at 0x1cb57b445c0>,\n",
       " <matplotlib.patches.Polygon at 0x1cb57b44860>,\n",
       " <matplotlib.patches.Polygon at 0x1cb57b44b00>,\n",
       " <matplotlib.patches.Polygon at 0x1cb57b44da0>,\n",
       " <matplotlib.patches.Polygon at 0x1cb57b57080>,\n",
       " <matplotlib.patches.Polygon at 0x1cb57b57320>,\n",
       " <matplotlib.patches.Polygon at 0x1cb57b575c0>,\n",
       " <matplotlib.patches.Polygon at 0x1cb57b57860>,\n",
       " <matplotlib.patches.Polygon at 0x1cb57b57b00>,\n",
       " <matplotlib.patches.Polygon at 0x1cb57b57da0>,\n",
       " <matplotlib.patches.Polygon at 0x1cb57b70080>,\n",
       " <matplotlib.patches.Polygon at 0x1cb57b70320>,\n",
       " <matplotlib.patches.Polygon at 0x1cb57b705c0>,\n",
       " <matplotlib.patches.Polygon at 0x1cb57b70860>,\n",
       " <matplotlib.patches.Polygon at 0x1cb57b70b00>,\n",
       " <matplotlib.patches.Polygon at 0x1cb57b70da0>,\n",
       " <matplotlib.patches.Polygon at 0x1cb58d90080>,\n",
       " <matplotlib.patches.Polygon at 0x1cb58d90320>,\n",
       " <matplotlib.patches.Polygon at 0x1cb58d905c0>,\n",
       " <matplotlib.patches.Polygon at 0x1cb58d90860>,\n",
       " <matplotlib.patches.Polygon at 0x1cb58d90b00>,\n",
       " <matplotlib.patches.Polygon at 0x1cb58d90da0>,\n",
       " <matplotlib.patches.Polygon at 0x1cb58da5080>,\n",
       " <matplotlib.patches.Polygon at 0x1cb58da5320>,\n",
       " <matplotlib.patches.Polygon at 0x1cb58da55c0>,\n",
       " <matplotlib.patches.Polygon at 0x1cb58da5860>,\n",
       " <matplotlib.patches.Polygon at 0x1cb58da5b00>,\n",
       " <matplotlib.patches.Polygon at 0x1cb58da5da0>,\n",
       " <matplotlib.patches.Polygon at 0x1cb58dbf048>,\n",
       " <matplotlib.patches.Polygon at 0x1cb58dbf320>,\n",
       " <matplotlib.patches.Polygon at 0x1cb58dbf5c0>,\n",
       " <matplotlib.patches.Polygon at 0x1cb58dbf860>,\n",
       " <matplotlib.patches.Polygon at 0x1cb58dbfb00>,\n",
       " <matplotlib.patches.Polygon at 0x1cb58dbfda0>,\n",
       " <matplotlib.patches.Polygon at 0x1cb57b00080>,\n",
       " <matplotlib.patches.Polygon at 0x1cb57b00320>,\n",
       " <matplotlib.patches.Polygon at 0x1cb57b005c0>,\n",
       " <matplotlib.patches.Polygon at 0x1cb57b00860>,\n",
       " <matplotlib.patches.Polygon at 0x1cb57b00b00>,\n",
       " <matplotlib.patches.Polygon at 0x1cb57b00da0>,\n",
       " <matplotlib.patches.Polygon at 0x1cb57b15080>,\n",
       " <matplotlib.patches.Polygon at 0x1cb57b15358>,\n",
       " <matplotlib.patches.Polygon at 0x1cb57b155c0>,\n",
       " <matplotlib.patches.Polygon at 0x1cb57b15860>,\n",
       " <matplotlib.patches.Polygon at 0x1cb57b15b00>,\n",
       " <matplotlib.patches.Polygon at 0x1cb57b15dd8>,\n",
       " <matplotlib.patches.Polygon at 0x1cb57b280b8>,\n",
       " <matplotlib.patches.Polygon at 0x1cb57b28320>,\n",
       " <matplotlib.patches.Polygon at 0x1cb57b285c0>,\n",
       " <matplotlib.patches.Polygon at 0x1cb57b28860>]"
      ]
     },
     "execution_count": 8,
     "metadata": {},
     "output_type": "execute_result"
    },
    {
     "data": {
      "text/plain": [
       "<matplotlib.collections.LineCollection at 0x1cb57b28978>"
      ]
     },
     "execution_count": 8,
     "metadata": {},
     "output_type": "execute_result"
    },
    {
     "data": {
      "text/plain": [
       "<matplotlib.collections.LineCollection at 0x1cb57022390>"
      ]
     },
     "execution_count": 8,
     "metadata": {},
     "output_type": "execute_result"
    },
    {
     "data": {
      "text/plain": [
       "[<matplotlib.lines.Line2D at 0x1cb570222e8>]"
      ]
     },
     "execution_count": 8,
     "metadata": {},
     "output_type": "execute_result"
    },
    {
     "data": {
      "text/plain": [
       "Text(0.5, 1.0, 'Filtered occurrences for Rupicapra pyrenaica')"
      ]
     },
     "execution_count": 8,
     "metadata": {},
     "output_type": "execute_result"
    },
    {
     "data": {
      "text/plain": [
       "<matplotlib.patches.Rectangle at 0x1cb57b787b8>"
      ]
     },
     "execution_count": 8,
     "metadata": {},
     "output_type": "execute_result"
    },
    {
     "data": {
      "text/plain": [
       "[<matplotlib.patches.Polygon at 0x1cb5a501ef0>,\n",
       " <matplotlib.patches.Polygon at 0x1cb570f0240>,\n",
       " <matplotlib.patches.Polygon at 0x1cb5a501e10>,\n",
       " <matplotlib.patches.Polygon at 0x1cb570f0780>,\n",
       " <matplotlib.patches.Polygon at 0x1cb570f0a20>,\n",
       " <matplotlib.patches.Polygon at 0x1cb570f0cc0>,\n",
       " <matplotlib.patches.Polygon at 0x1cb570f0f60>,\n",
       " <matplotlib.patches.Polygon at 0x1cb5a542240>,\n",
       " <matplotlib.patches.Polygon at 0x1cb5a5424e0>,\n",
       " <matplotlib.patches.Polygon at 0x1cb5a542780>,\n",
       " <matplotlib.patches.Polygon at 0x1cb5a542a20>,\n",
       " <matplotlib.patches.Polygon at 0x1cb5a542cc0>,\n",
       " <matplotlib.patches.Polygon at 0x1cb5a542f60>,\n",
       " <matplotlib.patches.Polygon at 0x1cb570d6240>,\n",
       " <matplotlib.patches.Polygon at 0x1cb570d64e0>,\n",
       " <matplotlib.patches.Polygon at 0x1cb570d6780>,\n",
       " <matplotlib.patches.Polygon at 0x1cb570d6a20>,\n",
       " <matplotlib.patches.Polygon at 0x1cb570d6cc0>,\n",
       " <matplotlib.patches.Polygon at 0x1cb570d6f60>,\n",
       " <matplotlib.patches.Polygon at 0x1cb570ff240>,\n",
       " <matplotlib.patches.Polygon at 0x1cb570ff4e0>,\n",
       " <matplotlib.patches.Polygon at 0x1cb570ff780>,\n",
       " <matplotlib.patches.Polygon at 0x1cb570ffa20>,\n",
       " <matplotlib.patches.Polygon at 0x1cb570ffcc0>,\n",
       " <matplotlib.patches.Polygon at 0x1cb570fff60>,\n",
       " <matplotlib.patches.Polygon at 0x1cb57bd9240>,\n",
       " <matplotlib.patches.Polygon at 0x1cb57bd94e0>,\n",
       " <matplotlib.patches.Polygon at 0x1cb57bd9780>,\n",
       " <matplotlib.patches.Polygon at 0x1cb57bd9a20>,\n",
       " <matplotlib.patches.Polygon at 0x1cb57bd9cc0>,\n",
       " <matplotlib.patches.Polygon at 0x1cb57bd9f60>,\n",
       " <matplotlib.patches.Polygon at 0x1cb57bff240>,\n",
       " <matplotlib.patches.Polygon at 0x1cb57bff4e0>,\n",
       " <matplotlib.patches.Polygon at 0x1cb57bff780>,\n",
       " <matplotlib.patches.Polygon at 0x1cb57bffa20>,\n",
       " <matplotlib.patches.Polygon at 0x1cb57bffcc0>,\n",
       " <matplotlib.patches.Polygon at 0x1cb57bfff60>,\n",
       " <matplotlib.patches.Polygon at 0x1cb5a526240>,\n",
       " <matplotlib.patches.Polygon at 0x1cb5a5264e0>,\n",
       " <matplotlib.patches.Polygon at 0x1cb5a526780>,\n",
       " <matplotlib.patches.Polygon at 0x1cb5a526a20>,\n",
       " <matplotlib.patches.Polygon at 0x1cb5a526cc0>,\n",
       " <matplotlib.patches.Polygon at 0x1cb5a526f60>,\n",
       " <matplotlib.patches.Polygon at 0x1cb5a536240>,\n",
       " <matplotlib.patches.Polygon at 0x1cb5a5364e0>,\n",
       " <matplotlib.patches.Polygon at 0x1cb5a536780>,\n",
       " <matplotlib.patches.Polygon at 0x1cb5a536a20>,\n",
       " <matplotlib.patches.Polygon at 0x1cb5a536cc0>,\n",
       " <matplotlib.patches.Polygon at 0x1cb5a536f60>,\n",
       " <matplotlib.patches.Polygon at 0x1cb57160240>,\n",
       " <matplotlib.patches.Polygon at 0x1cb571604e0>,\n",
       " <matplotlib.patches.Polygon at 0x1cb57160780>,\n",
       " <matplotlib.patches.Polygon at 0x1cb57160a20>,\n",
       " <matplotlib.patches.Polygon at 0x1cb57160cc0>,\n",
       " <matplotlib.patches.Polygon at 0x1cb57160f60>,\n",
       " <matplotlib.patches.Polygon at 0x1cb5715e240>,\n",
       " <matplotlib.patches.Polygon at 0x1cb5715e4e0>,\n",
       " <matplotlib.patches.Polygon at 0x1cb5715e780>,\n",
       " <matplotlib.patches.Polygon at 0x1cb5715ea58>,\n",
       " <matplotlib.patches.Polygon at 0x1cb5715ecc0>,\n",
       " <matplotlib.patches.Polygon at 0x1cb5715ef60>,\n",
       " <matplotlib.patches.Polygon at 0x1cb59417240>,\n",
       " <matplotlib.patches.Polygon at 0x1cb594174e0>,\n",
       " <matplotlib.patches.Polygon at 0x1cb59417780>,\n",
       " <matplotlib.patches.Polygon at 0x1cb59417a20>,\n",
       " <matplotlib.patches.Polygon at 0x1cb59417cf8>,\n",
       " <matplotlib.patches.Polygon at 0x1cb59417f60>,\n",
       " <matplotlib.patches.Polygon at 0x1cb59433240>,\n",
       " <matplotlib.patches.Polygon at 0x1cb594334e0>,\n",
       " <matplotlib.patches.Polygon at 0x1cb59433780>,\n",
       " <matplotlib.patches.Polygon at 0x1cb59433a20>,\n",
       " <matplotlib.patches.Polygon at 0x1cb59433cc0>,\n",
       " <matplotlib.patches.Polygon at 0x1cb59433f60>,\n",
       " <matplotlib.patches.Polygon at 0x1cb59449240>,\n",
       " <matplotlib.patches.Polygon at 0x1cb594494e0>,\n",
       " <matplotlib.patches.Polygon at 0x1cb59449780>,\n",
       " <matplotlib.patches.Polygon at 0x1cb59449a20>,\n",
       " <matplotlib.patches.Polygon at 0x1cb59449cc0>,\n",
       " <matplotlib.patches.Polygon at 0x1cb59449f60>,\n",
       " <matplotlib.patches.Polygon at 0x1cb594d6240>,\n",
       " <matplotlib.patches.Polygon at 0x1cb594d64e0>,\n",
       " <matplotlib.patches.Polygon at 0x1cb594d6780>,\n",
       " <matplotlib.patches.Polygon at 0x1cb594d6a20>,\n",
       " <matplotlib.patches.Polygon at 0x1cb594d6cc0>,\n",
       " <matplotlib.patches.Polygon at 0x1cb594d6f60>,\n",
       " <matplotlib.patches.Polygon at 0x1cb594f4240>,\n",
       " <matplotlib.patches.Polygon at 0x1cb594f44e0>,\n",
       " <matplotlib.patches.Polygon at 0x1cb594f4780>,\n",
       " <matplotlib.patches.Polygon at 0x1cb594f4a20>,\n",
       " <matplotlib.patches.Polygon at 0x1cb594f4cc0>,\n",
       " <matplotlib.patches.Polygon at 0x1cb594f4f60>,\n",
       " <matplotlib.patches.Polygon at 0x1cb59507240>,\n",
       " <matplotlib.patches.Polygon at 0x1cb595074e0>,\n",
       " <matplotlib.patches.Polygon at 0x1cb59507780>,\n",
       " <matplotlib.patches.Polygon at 0x1cb59507a20>,\n",
       " <matplotlib.patches.Polygon at 0x1cb59507cc0>,\n",
       " <matplotlib.patches.Polygon at 0x1cb59507f60>,\n",
       " <matplotlib.patches.Polygon at 0x1cb5a24a240>,\n",
       " <matplotlib.patches.Polygon at 0x1cb5a24a4e0>,\n",
       " <matplotlib.patches.Polygon at 0x1cb5a24a780>,\n",
       " <matplotlib.patches.Polygon at 0x1cb5a24aa20>,\n",
       " <matplotlib.patches.Polygon at 0x1cb5a24acc0>,\n",
       " <matplotlib.patches.Polygon at 0x1cb5a24af60>,\n",
       " <matplotlib.patches.Polygon at 0x1cb5a25f240>,\n",
       " <matplotlib.patches.Polygon at 0x1cb5a25f4e0>,\n",
       " <matplotlib.patches.Polygon at 0x1cb5a25f780>,\n",
       " <matplotlib.patches.Polygon at 0x1cb5a25fa20>,\n",
       " <matplotlib.patches.Polygon at 0x1cb5a25fcc0>,\n",
       " <matplotlib.patches.Polygon at 0x1cb5a25ff60>,\n",
       " <matplotlib.patches.Polygon at 0x1cb5a275240>,\n",
       " <matplotlib.patches.Polygon at 0x1cb5a2754e0>,\n",
       " <matplotlib.patches.Polygon at 0x1cb5a275780>,\n",
       " <matplotlib.patches.Polygon at 0x1cb5a275a20>,\n",
       " <matplotlib.patches.Polygon at 0x1cb5a275cc0>,\n",
       " <matplotlib.patches.Polygon at 0x1cb5a275f60>,\n",
       " <matplotlib.patches.Polygon at 0x1cb5a283278>,\n",
       " <matplotlib.patches.Polygon at 0x1cb5a2834e0>,\n",
       " <matplotlib.patches.Polygon at 0x1cb5a283780>,\n",
       " <matplotlib.patches.Polygon at 0x1cb5a283a20>,\n",
       " <matplotlib.patches.Polygon at 0x1cb5a283cf8>,\n",
       " <matplotlib.patches.Polygon at 0x1cb5a283f98>,\n",
       " <matplotlib.patches.Polygon at 0x1cb5a296240>,\n",
       " <matplotlib.patches.Polygon at 0x1cb5a2964e0>]"
      ]
     },
     "execution_count": 8,
     "metadata": {},
     "output_type": "execute_result"
    },
    {
     "data": {
      "text/plain": [
       "<matplotlib.collections.LineCollection at 0x1cb5a2965f8>"
      ]
     },
     "execution_count": 8,
     "metadata": {},
     "output_type": "execute_result"
    },
    {
     "data": {
      "text/plain": [
       "<matplotlib.collections.LineCollection at 0x1cb57b98f28>"
      ]
     },
     "execution_count": 8,
     "metadata": {},
     "output_type": "execute_result"
    },
    {
     "data": {
      "text/plain": [
       "[<matplotlib.lines.Line2D at 0x1cb57b98ef0>]"
      ]
     },
     "execution_count": 8,
     "metadata": {},
     "output_type": "execute_result"
    },
    {
     "data": {
      "text/plain": [
       "Text(0.5, 1.0, 'Filtered occurrences for Rupicapra rupicapra')"
      ]
     },
     "execution_count": 8,
     "metadata": {},
     "output_type": "execute_result"
    },
    {
     "data": {
      "text/plain": [
       "<matplotlib.patches.Rectangle at 0x1cb5a2bf128>"
      ]
     },
     "execution_count": 8,
     "metadata": {},
     "output_type": "execute_result"
    },
    {
     "data": {
      "text/plain": [
       "[<matplotlib.patches.Polygon at 0x1cb59435860>,\n",
       " <matplotlib.patches.Polygon at 0x1cb59435b38>,\n",
       " <matplotlib.patches.Polygon at 0x1cb59435e10>,\n",
       " <matplotlib.patches.Polygon at 0x1cb57bbd0f0>,\n",
       " <matplotlib.patches.Polygon at 0x1cb57bbd390>,\n",
       " <matplotlib.patches.Polygon at 0x1cb57bbd630>,\n",
       " <matplotlib.patches.Polygon at 0x1cb57bbd8d0>,\n",
       " <matplotlib.patches.Polygon at 0x1cb57bbdb70>,\n",
       " <matplotlib.patches.Polygon at 0x1cb57bbde10>,\n",
       " <matplotlib.patches.Polygon at 0x1cb57bb50f0>,\n",
       " <matplotlib.patches.Polygon at 0x1cb57bb5390>,\n",
       " <matplotlib.patches.Polygon at 0x1cb57bb5630>,\n",
       " <matplotlib.patches.Polygon at 0x1cb57bb58d0>,\n",
       " <matplotlib.patches.Polygon at 0x1cb57bb5b70>,\n",
       " <matplotlib.patches.Polygon at 0x1cb57bb5e10>,\n",
       " <matplotlib.patches.Polygon at 0x1cb5943f0f0>,\n",
       " <matplotlib.patches.Polygon at 0x1cb5943f390>,\n",
       " <matplotlib.patches.Polygon at 0x1cb5943f630>,\n",
       " <matplotlib.patches.Polygon at 0x1cb5943f8d0>,\n",
       " <matplotlib.patches.Polygon at 0x1cb5943fb70>,\n",
       " <matplotlib.patches.Polygon at 0x1cb5943fe10>,\n",
       " <matplotlib.patches.Polygon at 0x1cb594ce0f0>,\n",
       " <matplotlib.patches.Polygon at 0x1cb594ce390>,\n",
       " <matplotlib.patches.Polygon at 0x1cb594ce630>,\n",
       " <matplotlib.patches.Polygon at 0x1cb594ce8d0>,\n",
       " <matplotlib.patches.Polygon at 0x1cb594ceb70>,\n",
       " <matplotlib.patches.Polygon at 0x1cb594cee10>,\n",
       " <matplotlib.patches.Polygon at 0x1cb594a70f0>,\n",
       " <matplotlib.patches.Polygon at 0x1cb594a7390>,\n",
       " <matplotlib.patches.Polygon at 0x1cb594a7630>,\n",
       " <matplotlib.patches.Polygon at 0x1cb594a78d0>,\n",
       " <matplotlib.patches.Polygon at 0x1cb594a7b70>,\n",
       " <matplotlib.patches.Polygon at 0x1cb594a7e10>,\n",
       " <matplotlib.patches.Polygon at 0x1cb594ba0f0>,\n",
       " <matplotlib.patches.Polygon at 0x1cb594ba390>,\n",
       " <matplotlib.patches.Polygon at 0x1cb594ba630>,\n",
       " <matplotlib.patches.Polygon at 0x1cb594ba8d0>,\n",
       " <matplotlib.patches.Polygon at 0x1cb594bab70>,\n",
       " <matplotlib.patches.Polygon at 0x1cb594bae48>,\n",
       " <matplotlib.patches.Polygon at 0x1cb5a4c90f0>,\n",
       " <matplotlib.patches.Polygon at 0x1cb5a4c9390>,\n",
       " <matplotlib.patches.Polygon at 0x1cb5a4c9630>,\n",
       " <matplotlib.patches.Polygon at 0x1cb5a4c98d0>,\n",
       " <matplotlib.patches.Polygon at 0x1cb5a4c9b70>,\n",
       " <matplotlib.patches.Polygon at 0x1cb5a4c9e10>,\n",
       " <matplotlib.patches.Polygon at 0x1cb5a4de0f0>,\n",
       " <matplotlib.patches.Polygon at 0x1cb5a4de390>,\n",
       " <matplotlib.patches.Polygon at 0x1cb5a4de630>,\n",
       " <matplotlib.patches.Polygon at 0x1cb5a4de8d0>,\n",
       " <matplotlib.patches.Polygon at 0x1cb5a4deb70>,\n",
       " <matplotlib.patches.Polygon at 0x1cb5a4dee10>,\n",
       " <matplotlib.patches.Polygon at 0x1cb5a4f40f0>,\n",
       " <matplotlib.patches.Polygon at 0x1cb5a4f4390>,\n",
       " <matplotlib.patches.Polygon at 0x1cb5a4f4630>,\n",
       " <matplotlib.patches.Polygon at 0x1cb5a4f48d0>,\n",
       " <matplotlib.patches.Polygon at 0x1cb5a4f4b70>,\n",
       " <matplotlib.patches.Polygon at 0x1cb5a4f4e10>,\n",
       " <matplotlib.patches.Polygon at 0x1cb5752e0f0>,\n",
       " <matplotlib.patches.Polygon at 0x1cb5752e390>,\n",
       " <matplotlib.patches.Polygon at 0x1cb5752e630>,\n",
       " <matplotlib.patches.Polygon at 0x1cb5752e8d0>,\n",
       " <matplotlib.patches.Polygon at 0x1cb5752eb70>,\n",
       " <matplotlib.patches.Polygon at 0x1cb5752ee10>,\n",
       " <matplotlib.patches.Polygon at 0x1cb5755a0f0>,\n",
       " <matplotlib.patches.Polygon at 0x1cb5755a390>,\n",
       " <matplotlib.patches.Polygon at 0x1cb5755a630>,\n",
       " <matplotlib.patches.Polygon at 0x1cb5755a8d0>,\n",
       " <matplotlib.patches.Polygon at 0x1cb5755ab70>,\n",
       " <matplotlib.patches.Polygon at 0x1cb5755ae10>,\n",
       " <matplotlib.patches.Polygon at 0x1cb575430f0>,\n",
       " <matplotlib.patches.Polygon at 0x1cb57543390>,\n",
       " <matplotlib.patches.Polygon at 0x1cb57543630>,\n",
       " <matplotlib.patches.Polygon at 0x1cb575438d0>,\n",
       " <matplotlib.patches.Polygon at 0x1cb57543b70>,\n",
       " <matplotlib.patches.Polygon at 0x1cb57543e10>,\n",
       " <matplotlib.patches.Polygon at 0x1cb5a5050f0>,\n",
       " <matplotlib.patches.Polygon at 0x1cb5a505390>,\n",
       " <matplotlib.patches.Polygon at 0x1cb5a505630>]"
      ]
     },
     "execution_count": 8,
     "metadata": {},
     "output_type": "execute_result"
    },
    {
     "data": {
      "text/plain": [
       "<matplotlib.collections.LineCollection at 0x1cb5a505ac8>"
      ]
     },
     "execution_count": 8,
     "metadata": {},
     "output_type": "execute_result"
    },
    {
     "data": {
      "text/plain": [
       "<matplotlib.collections.LineCollection at 0x1cb5a5057b8>"
      ]
     },
     "execution_count": 8,
     "metadata": {},
     "output_type": "execute_result"
    },
    {
     "data": {
      "text/plain": [
       "[<matplotlib.lines.Line2D at 0x1cb595e8e48>]"
      ]
     },
     "execution_count": 8,
     "metadata": {},
     "output_type": "execute_result"
    },
    {
     "data": {
      "text/plain": [
       "Text(0.5, 1.0, 'Filtered occurrences for Rusa unicolor')"
      ]
     },
     "execution_count": 8,
     "metadata": {},
     "output_type": "execute_result"
    },
    {
     "data": {
      "text/plain": [
       "<matplotlib.patches.Rectangle at 0x1cb5a2f8c50>"
      ]
     },
     "execution_count": 8,
     "metadata": {},
     "output_type": "execute_result"
    },
    {
     "data": {
      "text/plain": [
       "[<matplotlib.patches.Polygon at 0x1cb57b8b390>,\n",
       " <matplotlib.patches.Polygon at 0x1cb57b8b6a0>,\n",
       " <matplotlib.patches.Polygon at 0x1cb5960c668>,\n",
       " <matplotlib.patches.Polygon at 0x1cb57b8bcf8>,\n",
       " <matplotlib.patches.Polygon at 0x1cb57b8bf60>,\n",
       " <matplotlib.patches.Polygon at 0x1cb5a400240>,\n",
       " <matplotlib.patches.Polygon at 0x1cb5a4004e0>,\n",
       " <matplotlib.patches.Polygon at 0x1cb5a400780>,\n",
       " <matplotlib.patches.Polygon at 0x1cb5a400a20>,\n",
       " <matplotlib.patches.Polygon at 0x1cb5a400cc0>,\n",
       " <matplotlib.patches.Polygon at 0x1cb5a400f60>,\n",
       " <matplotlib.patches.Polygon at 0x1cb5a41e240>,\n",
       " <matplotlib.patches.Polygon at 0x1cb5a41e4e0>,\n",
       " <matplotlib.patches.Polygon at 0x1cb5a41e780>,\n",
       " <matplotlib.patches.Polygon at 0x1cb5a41ea20>,\n",
       " <matplotlib.patches.Polygon at 0x1cb5a41ecc0>,\n",
       " <matplotlib.patches.Polygon at 0x1cb5a41ef60>,\n",
       " <matplotlib.patches.Polygon at 0x1cb5a2e4240>,\n",
       " <matplotlib.patches.Polygon at 0x1cb5a2e44e0>,\n",
       " <matplotlib.patches.Polygon at 0x1cb5a2e4780>,\n",
       " <matplotlib.patches.Polygon at 0x1cb5a2e4a20>,\n",
       " <matplotlib.patches.Polygon at 0x1cb5a2e4cc0>,\n",
       " <matplotlib.patches.Polygon at 0x1cb5a2e4f60>,\n",
       " <matplotlib.patches.Polygon at 0x1cb5a2f9240>,\n",
       " <matplotlib.patches.Polygon at 0x1cb5a2f94e0>,\n",
       " <matplotlib.patches.Polygon at 0x1cb5a2f9780>,\n",
       " <matplotlib.patches.Polygon at 0x1cb5a2f9a20>,\n",
       " <matplotlib.patches.Polygon at 0x1cb5a2f9cc0>,\n",
       " <matplotlib.patches.Polygon at 0x1cb5a2f9f60>,\n",
       " <matplotlib.patches.Polygon at 0x1cb5a55f240>,\n",
       " <matplotlib.patches.Polygon at 0x1cb5a55f4e0>,\n",
       " <matplotlib.patches.Polygon at 0x1cb5a55f780>,\n",
       " <matplotlib.patches.Polygon at 0x1cb5a55fa20>,\n",
       " <matplotlib.patches.Polygon at 0x1cb5a55fcc0>,\n",
       " <matplotlib.patches.Polygon at 0x1cb5a55ff60>,\n",
       " <matplotlib.patches.Polygon at 0x1cb5a574240>,\n",
       " <matplotlib.patches.Polygon at 0x1cb5a5744e0>,\n",
       " <matplotlib.patches.Polygon at 0x1cb5a574780>,\n",
       " <matplotlib.patches.Polygon at 0x1cb5a574a20>,\n",
       " <matplotlib.patches.Polygon at 0x1cb5a574cc0>,\n",
       " <matplotlib.patches.Polygon at 0x1cb5a574f60>,\n",
       " <matplotlib.patches.Polygon at 0x1cb57c02240>,\n",
       " <matplotlib.patches.Polygon at 0x1cb57c024e0>,\n",
       " <matplotlib.patches.Polygon at 0x1cb57c02780>,\n",
       " <matplotlib.patches.Polygon at 0x1cb57c02a20>,\n",
       " <matplotlib.patches.Polygon at 0x1cb57c02cc0>,\n",
       " <matplotlib.patches.Polygon at 0x1cb57c02f60>,\n",
       " <matplotlib.patches.Polygon at 0x1cb57c27240>,\n",
       " <matplotlib.patches.Polygon at 0x1cb57c274e0>,\n",
       " <matplotlib.patches.Polygon at 0x1cb57c27780>,\n",
       " <matplotlib.patches.Polygon at 0x1cb57c27a20>,\n",
       " <matplotlib.patches.Polygon at 0x1cb57c27cc0>,\n",
       " <matplotlib.patches.Polygon at 0x1cb57c27f60>,\n",
       " <matplotlib.patches.Polygon at 0x1cb57c28240>,\n",
       " <matplotlib.patches.Polygon at 0x1cb57c284e0>,\n",
       " <matplotlib.patches.Polygon at 0x1cb57c28780>,\n",
       " <matplotlib.patches.Polygon at 0x1cb57c28a20>,\n",
       " <matplotlib.patches.Polygon at 0x1cb57c28cc0>,\n",
       " <matplotlib.patches.Polygon at 0x1cb57c28f60>,\n",
       " <matplotlib.patches.Polygon at 0x1cb57555240>,\n",
       " <matplotlib.patches.Polygon at 0x1cb575554e0>,\n",
       " <matplotlib.patches.Polygon at 0x1cb57555780>,\n",
       " <matplotlib.patches.Polygon at 0x1cb57555a20>,\n",
       " <matplotlib.patches.Polygon at 0x1cb57555cc0>,\n",
       " <matplotlib.patches.Polygon at 0x1cb57555f60>,\n",
       " <matplotlib.patches.Polygon at 0x1cb57552240>,\n",
       " <matplotlib.patches.Polygon at 0x1cb575524e0>,\n",
       " <matplotlib.patches.Polygon at 0x1cb57552780>,\n",
       " <matplotlib.patches.Polygon at 0x1cb57552a20>,\n",
       " <matplotlib.patches.Polygon at 0x1cb57552cc0>,\n",
       " <matplotlib.patches.Polygon at 0x1cb57552f60>,\n",
       " <matplotlib.patches.Polygon at 0x1cb5754e240>,\n",
       " <matplotlib.patches.Polygon at 0x1cb5754e4e0>,\n",
       " <matplotlib.patches.Polygon at 0x1cb5754e780>,\n",
       " <matplotlib.patches.Polygon at 0x1cb5754ea20>,\n",
       " <matplotlib.patches.Polygon at 0x1cb5754ecc0>,\n",
       " <matplotlib.patches.Polygon at 0x1cb5754ef60>,\n",
       " <matplotlib.patches.Polygon at 0x1cb59567240>,\n",
       " <matplotlib.patches.Polygon at 0x1cb595674e0>,\n",
       " <matplotlib.patches.Polygon at 0x1cb59567780>,\n",
       " <matplotlib.patches.Polygon at 0x1cb59567a20>,\n",
       " <matplotlib.patches.Polygon at 0x1cb59567cc0>,\n",
       " <matplotlib.patches.Polygon at 0x1cb59567f98>,\n",
       " <matplotlib.patches.Polygon at 0x1cb59554240>,\n",
       " <matplotlib.patches.Polygon at 0x1cb595544e0>,\n",
       " <matplotlib.patches.Polygon at 0x1cb59554780>,\n",
       " <matplotlib.patches.Polygon at 0x1cb59554a20>,\n",
       " <matplotlib.patches.Polygon at 0x1cb59554cc0>,\n",
       " <matplotlib.patches.Polygon at 0x1cb59554f60>,\n",
       " <matplotlib.patches.Polygon at 0x1cb59563240>,\n",
       " <matplotlib.patches.Polygon at 0x1cb595634e0>,\n",
       " <matplotlib.patches.Polygon at 0x1cb59563780>,\n",
       " <matplotlib.patches.Polygon at 0x1cb59563a20>,\n",
       " <matplotlib.patches.Polygon at 0x1cb59563cc0>,\n",
       " <matplotlib.patches.Polygon at 0x1cb59563f60>,\n",
       " <matplotlib.patches.Polygon at 0x1cb59572240>,\n",
       " <matplotlib.patches.Polygon at 0x1cb595724e0>,\n",
       " <matplotlib.patches.Polygon at 0x1cb59572780>,\n",
       " <matplotlib.patches.Polygon at 0x1cb59572a20>,\n",
       " <matplotlib.patches.Polygon at 0x1cb59572cc0>,\n",
       " <matplotlib.patches.Polygon at 0x1cb59572f60>,\n",
       " <matplotlib.patches.Polygon at 0x1cb59526240>,\n",
       " <matplotlib.patches.Polygon at 0x1cb595264e0>]"
      ]
     },
     "execution_count": 8,
     "metadata": {},
     "output_type": "execute_result"
    },
    {
     "data": {
      "text/plain": [
       "<matplotlib.collections.LineCollection at 0x1cb595265f8>"
      ]
     },
     "execution_count": 8,
     "metadata": {},
     "output_type": "execute_result"
    },
    {
     "data": {
      "text/plain": [
       "<matplotlib.collections.LineCollection at 0x1cb595265c0>"
      ]
     },
     "execution_count": 8,
     "metadata": {},
     "output_type": "execute_result"
    },
    {
     "data": {
      "text/plain": [
       "[<matplotlib.lines.Line2D at 0x1cb59541390>]"
      ]
     },
     "execution_count": 8,
     "metadata": {},
     "output_type": "execute_result"
    },
    {
     "data": {
      "text/plain": [
       "Text(0.5, 1.0, 'Filtered occurrences for Sus barbatus')"
      ]
     },
     "execution_count": 8,
     "metadata": {},
     "output_type": "execute_result"
    },
    {
     "data": {
      "text/plain": [
       "<matplotlib.patches.Rectangle at 0x1cb5bb3db38>"
      ]
     },
     "execution_count": 8,
     "metadata": {},
     "output_type": "execute_result"
    },
    {
     "data": {
      "text/plain": [
       "[<matplotlib.patches.Polygon at 0x1cb57c352b0>,\n",
       " <matplotlib.patches.Polygon at 0x1cb57c355c0>,\n",
       " <matplotlib.patches.Polygon at 0x1cb57c35860>,\n",
       " <matplotlib.patches.Polygon at 0x1cb57c35b00>,\n",
       " <matplotlib.patches.Polygon at 0x1cb57c35da0>,\n",
       " <matplotlib.patches.Polygon at 0x1cb5bb76080>,\n",
       " <matplotlib.patches.Polygon at 0x1cb5bb76320>,\n",
       " <matplotlib.patches.Polygon at 0x1cb5bb765c0>,\n",
       " <matplotlib.patches.Polygon at 0x1cb5bb76860>,\n",
       " <matplotlib.patches.Polygon at 0x1cb5bb76b00>,\n",
       " <matplotlib.patches.Polygon at 0x1cb5bb76da0>,\n",
       " <matplotlib.patches.Polygon at 0x1cb5a445080>,\n",
       " <matplotlib.patches.Polygon at 0x1cb5a445320>,\n",
       " <matplotlib.patches.Polygon at 0x1cb5a4455c0>,\n",
       " <matplotlib.patches.Polygon at 0x1cb5a445860>,\n",
       " <matplotlib.patches.Polygon at 0x1cb5a445b00>,\n",
       " <matplotlib.patches.Polygon at 0x1cb5a445da0>,\n",
       " <matplotlib.patches.Polygon at 0x1cb57c09080>,\n",
       " <matplotlib.patches.Polygon at 0x1cb57c09320>,\n",
       " <matplotlib.patches.Polygon at 0x1cb57c095c0>,\n",
       " <matplotlib.patches.Polygon at 0x1cb57c09860>,\n",
       " <matplotlib.patches.Polygon at 0x1cb57c09b00>,\n",
       " <matplotlib.patches.Polygon at 0x1cb57c09da0>,\n",
       " <matplotlib.patches.Polygon at 0x1cb57c3f080>,\n",
       " <matplotlib.patches.Polygon at 0x1cb57c3f320>,\n",
       " <matplotlib.patches.Polygon at 0x1cb57c3f5c0>,\n",
       " <matplotlib.patches.Polygon at 0x1cb57c3f860>,\n",
       " <matplotlib.patches.Polygon at 0x1cb57c3fb00>,\n",
       " <matplotlib.patches.Polygon at 0x1cb57c3fda0>,\n",
       " <matplotlib.patches.Polygon at 0x1cb5945d080>,\n",
       " <matplotlib.patches.Polygon at 0x1cb5945d320>,\n",
       " <matplotlib.patches.Polygon at 0x1cb5945d5c0>,\n",
       " <matplotlib.patches.Polygon at 0x1cb5945d860>,\n",
       " <matplotlib.patches.Polygon at 0x1cb5945db00>,\n",
       " <matplotlib.patches.Polygon at 0x1cb5945dda0>,\n",
       " <matplotlib.patches.Polygon at 0x1cb59487080>,\n",
       " <matplotlib.patches.Polygon at 0x1cb59487320>,\n",
       " <matplotlib.patches.Polygon at 0x1cb594875c0>,\n",
       " <matplotlib.patches.Polygon at 0x1cb59487860>,\n",
       " <matplotlib.patches.Polygon at 0x1cb59487b00>,\n",
       " <matplotlib.patches.Polygon at 0x1cb59487da0>,\n",
       " <matplotlib.patches.Polygon at 0x1cb5947e080>,\n",
       " <matplotlib.patches.Polygon at 0x1cb5947e320>,\n",
       " <matplotlib.patches.Polygon at 0x1cb5947e5c0>,\n",
       " <matplotlib.patches.Polygon at 0x1cb5947e860>,\n",
       " <matplotlib.patches.Polygon at 0x1cb5947eb38>,\n",
       " <matplotlib.patches.Polygon at 0x1cb5947eda0>,\n",
       " <matplotlib.patches.Polygon at 0x1cb5a4a3080>,\n",
       " <matplotlib.patches.Polygon at 0x1cb5a4a3320>,\n",
       " <matplotlib.patches.Polygon at 0x1cb5a4a35c0>,\n",
       " <matplotlib.patches.Polygon at 0x1cb5a4a3860>,\n",
       " <matplotlib.patches.Polygon at 0x1cb5a4a3b00>,\n",
       " <matplotlib.patches.Polygon at 0x1cb5a4a3da0>,\n",
       " <matplotlib.patches.Polygon at 0x1cb5a4ab080>,\n",
       " <matplotlib.patches.Polygon at 0x1cb5a4ab320>,\n",
       " <matplotlib.patches.Polygon at 0x1cb5a4ab5c0>,\n",
       " <matplotlib.patches.Polygon at 0x1cb5a4ab860>,\n",
       " <matplotlib.patches.Polygon at 0x1cb5a4abb00>,\n",
       " <matplotlib.patches.Polygon at 0x1cb5a4abda0>,\n",
       " <matplotlib.patches.Polygon at 0x1cb5a366080>,\n",
       " <matplotlib.patches.Polygon at 0x1cb5a366320>,\n",
       " <matplotlib.patches.Polygon at 0x1cb5a3665c0>,\n",
       " <matplotlib.patches.Polygon at 0x1cb5a366860>,\n",
       " <matplotlib.patches.Polygon at 0x1cb5a366b00>,\n",
       " <matplotlib.patches.Polygon at 0x1cb5a366da0>,\n",
       " <matplotlib.patches.Polygon at 0x1cb5a379080>,\n",
       " <matplotlib.patches.Polygon at 0x1cb5a379320>,\n",
       " <matplotlib.patches.Polygon at 0x1cb5a3795c0>,\n",
       " <matplotlib.patches.Polygon at 0x1cb5a379860>,\n",
       " <matplotlib.patches.Polygon at 0x1cb5a379b00>,\n",
       " <matplotlib.patches.Polygon at 0x1cb5a379da0>,\n",
       " <matplotlib.patches.Polygon at 0x1cb5a355080>,\n",
       " <matplotlib.patches.Polygon at 0x1cb5a355320>,\n",
       " <matplotlib.patches.Polygon at 0x1cb5a3555c0>,\n",
       " <matplotlib.patches.Polygon at 0x1cb5a355860>,\n",
       " <matplotlib.patches.Polygon at 0x1cb5a355b00>,\n",
       " <matplotlib.patches.Polygon at 0x1cb5a355da0>,\n",
       " <matplotlib.patches.Polygon at 0x1cb5a559080>,\n",
       " <matplotlib.patches.Polygon at 0x1cb5a559320>,\n",
       " <matplotlib.patches.Polygon at 0x1cb5a5595c0>,\n",
       " <matplotlib.patches.Polygon at 0x1cb5a559860>,\n",
       " <matplotlib.patches.Polygon at 0x1cb5a559b00>,\n",
       " <matplotlib.patches.Polygon at 0x1cb5a559da0>,\n",
       " <matplotlib.patches.Polygon at 0x1cb5a573080>,\n",
       " <matplotlib.patches.Polygon at 0x1cb5a573320>,\n",
       " <matplotlib.patches.Polygon at 0x1cb5a5735c0>,\n",
       " <matplotlib.patches.Polygon at 0x1cb5a573860>,\n",
       " <matplotlib.patches.Polygon at 0x1cb5a573b00>,\n",
       " <matplotlib.patches.Polygon at 0x1cb5a573da0>,\n",
       " <matplotlib.patches.Polygon at 0x1cb5bb42080>,\n",
       " <matplotlib.patches.Polygon at 0x1cb5bb42320>,\n",
       " <matplotlib.patches.Polygon at 0x1cb5bb425c0>,\n",
       " <matplotlib.patches.Polygon at 0x1cb5bb42860>,\n",
       " <matplotlib.patches.Polygon at 0x1cb5bb42b00>,\n",
       " <matplotlib.patches.Polygon at 0x1cb5bb42da0>,\n",
       " <matplotlib.patches.Polygon at 0x1cb5bb57080>,\n",
       " <matplotlib.patches.Polygon at 0x1cb5bb57320>,\n",
       " <matplotlib.patches.Polygon at 0x1cb5bb575c0>,\n",
       " <matplotlib.patches.Polygon at 0x1cb5bb57860>,\n",
       " <matplotlib.patches.Polygon at 0x1cb5bb57b00>,\n",
       " <matplotlib.patches.Polygon at 0x1cb5bb57da0>,\n",
       " <matplotlib.patches.Polygon at 0x1cb5bb6e080>,\n",
       " <matplotlib.patches.Polygon at 0x1cb5bb6e358>,\n",
       " <matplotlib.patches.Polygon at 0x1cb5bb6e5c0>,\n",
       " <matplotlib.patches.Polygon at 0x1cb5bb6e860>,\n",
       " <matplotlib.patches.Polygon at 0x1cb5bb6eb00>,\n",
       " <matplotlib.patches.Polygon at 0x1cb5bb6edd8>,\n",
       " <matplotlib.patches.Polygon at 0x1cb5b99c0b8>,\n",
       " <matplotlib.patches.Polygon at 0x1cb5b99c320>,\n",
       " <matplotlib.patches.Polygon at 0x1cb5b99c5c0>,\n",
       " <matplotlib.patches.Polygon at 0x1cb5b99c860>]"
      ]
     },
     "execution_count": 8,
     "metadata": {},
     "output_type": "execute_result"
    },
    {
     "data": {
      "text/plain": [
       "<matplotlib.collections.LineCollection at 0x1cb5b99c978>"
      ]
     },
     "execution_count": 8,
     "metadata": {},
     "output_type": "execute_result"
    },
    {
     "data": {
      "text/plain": [
       "<matplotlib.collections.LineCollection at 0x1cb5b99cc88>"
      ]
     },
     "execution_count": 8,
     "metadata": {},
     "output_type": "execute_result"
    },
    {
     "data": {
      "text/plain": [
       "[<matplotlib.lines.Line2D at 0x1cb5b9bd518>]"
      ]
     },
     "execution_count": 8,
     "metadata": {},
     "output_type": "execute_result"
    },
    {
     "data": {
      "text/plain": [
       "Text(0.5, 1.0, 'Filtered occurrences for Sus scrofa')"
      ]
     },
     "execution_count": 8,
     "metadata": {},
     "output_type": "execute_result"
    },
    {
     "data": {
      "text/plain": [
       "<matplotlib.patches.Rectangle at 0x1cb5948f630>"
      ]
     },
     "execution_count": 8,
     "metadata": {},
     "output_type": "execute_result"
    },
    {
     "data": {
      "text/plain": [
       "[<matplotlib.patches.Polygon at 0x1cb5a4a7c50>,\n",
       " <matplotlib.patches.Polygon at 0x1cb5a4a7d68>,\n",
       " <matplotlib.patches.Polygon at 0x1cb5a448358>,\n",
       " <matplotlib.patches.Polygon at 0x1cb5a4485f8>,\n",
       " <matplotlib.patches.Polygon at 0x1cb5a448898>,\n",
       " <matplotlib.patches.Polygon at 0x1cb5a448b38>,\n",
       " <matplotlib.patches.Polygon at 0x1cb5a448dd8>,\n",
       " <matplotlib.patches.Polygon at 0x1cb5a46c0b8>,\n",
       " <matplotlib.patches.Polygon at 0x1cb5a46c358>,\n",
       " <matplotlib.patches.Polygon at 0x1cb5a46c5f8>,\n",
       " <matplotlib.patches.Polygon at 0x1cb5a46c898>,\n",
       " <matplotlib.patches.Polygon at 0x1cb5a46cb38>,\n",
       " <matplotlib.patches.Polygon at 0x1cb5a46cdd8>,\n",
       " <matplotlib.patches.Polygon at 0x1cb5a4280b8>,\n",
       " <matplotlib.patches.Polygon at 0x1cb5a428358>,\n",
       " <matplotlib.patches.Polygon at 0x1cb5a4285f8>,\n",
       " <matplotlib.patches.Polygon at 0x1cb5a428898>,\n",
       " <matplotlib.patches.Polygon at 0x1cb5a428b38>,\n",
       " <matplotlib.patches.Polygon at 0x1cb5a428dd8>,\n",
       " <matplotlib.patches.Polygon at 0x1cb5a42e0b8>,\n",
       " <matplotlib.patches.Polygon at 0x1cb5a42e390>,\n",
       " <matplotlib.patches.Polygon at 0x1cb5a42e5f8>,\n",
       " <matplotlib.patches.Polygon at 0x1cb5a42e898>,\n",
       " <matplotlib.patches.Polygon at 0x1cb5a42eb38>,\n",
       " <matplotlib.patches.Polygon at 0x1cb5a42edd8>,\n",
       " <matplotlib.patches.Polygon at 0x1cb327cc0b8>,\n",
       " <matplotlib.patches.Polygon at 0x1cb327cc358>,\n",
       " <matplotlib.patches.Polygon at 0x1cb327cc5f8>,\n",
       " <matplotlib.patches.Polygon at 0x1cb327cc898>,\n",
       " <matplotlib.patches.Polygon at 0x1cb327ccb38>,\n",
       " <matplotlib.patches.Polygon at 0x1cb327ccdd8>,\n",
       " <matplotlib.patches.Polygon at 0x1cb5b9420b8>,\n",
       " <matplotlib.patches.Polygon at 0x1cb5b942358>,\n",
       " <matplotlib.patches.Polygon at 0x1cb5b9425f8>,\n",
       " <matplotlib.patches.Polygon at 0x1cb5b942898>,\n",
       " <matplotlib.patches.Polygon at 0x1cb5b942b38>,\n",
       " <matplotlib.patches.Polygon at 0x1cb5b942dd8>,\n",
       " <matplotlib.patches.Polygon at 0x1cb5b95c0f0>,\n",
       " <matplotlib.patches.Polygon at 0x1cb5b95c358>,\n",
       " <matplotlib.patches.Polygon at 0x1cb5b95c5f8>,\n",
       " <matplotlib.patches.Polygon at 0x1cb5b95c898>,\n",
       " <matplotlib.patches.Polygon at 0x1cb5b95cb38>,\n",
       " <matplotlib.patches.Polygon at 0x1cb5b95cdd8>,\n",
       " <matplotlib.patches.Polygon at 0x1cb5bc700b8>,\n",
       " <matplotlib.patches.Polygon at 0x1cb5bc70358>,\n",
       " <matplotlib.patches.Polygon at 0x1cb5bc705f8>,\n",
       " <matplotlib.patches.Polygon at 0x1cb5bc70898>,\n",
       " <matplotlib.patches.Polygon at 0x1cb5bc70b38>,\n",
       " <matplotlib.patches.Polygon at 0x1cb5bc70dd8>,\n",
       " <matplotlib.patches.Polygon at 0x1cb5bc760b8>,\n",
       " <matplotlib.patches.Polygon at 0x1cb5bc76358>,\n",
       " <matplotlib.patches.Polygon at 0x1cb5bc765f8>,\n",
       " <matplotlib.patches.Polygon at 0x1cb5bc76898>,\n",
       " <matplotlib.patches.Polygon at 0x1cb5bc76b38>,\n",
       " <matplotlib.patches.Polygon at 0x1cb5bc76dd8>,\n",
       " <matplotlib.patches.Polygon at 0x1cb5bc8f0b8>,\n",
       " <matplotlib.patches.Polygon at 0x1cb5bc8f390>,\n",
       " <matplotlib.patches.Polygon at 0x1cb5bc8f5f8>,\n",
       " <matplotlib.patches.Polygon at 0x1cb5bc8f8d0>,\n",
       " <matplotlib.patches.Polygon at 0x1cb5bc8fb38>,\n",
       " <matplotlib.patches.Polygon at 0x1cb5bc8fdd8>,\n",
       " <matplotlib.patches.Polygon at 0x1cb5bb350f0>,\n",
       " <matplotlib.patches.Polygon at 0x1cb5bb35390>,\n",
       " <matplotlib.patches.Polygon at 0x1cb5bb355f8>,\n",
       " <matplotlib.patches.Polygon at 0x1cb5bb35898>]"
      ]
     },
     "execution_count": 8,
     "metadata": {},
     "output_type": "execute_result"
    },
    {
     "data": {
      "text/plain": [
       "<matplotlib.collections.LineCollection at 0x1cb5bb35c50>"
      ]
     },
     "execution_count": 8,
     "metadata": {},
     "output_type": "execute_result"
    },
    {
     "data": {
      "text/plain": [
       "<matplotlib.collections.LineCollection at 0x1cb5bb35f28>"
      ]
     },
     "execution_count": 8,
     "metadata": {},
     "output_type": "execute_result"
    },
    {
     "data": {
      "text/plain": [
       "[<matplotlib.lines.Line2D at 0x1cb5b9fa2b0>]"
      ]
     },
     "execution_count": 8,
     "metadata": {},
     "output_type": "execute_result"
    },
    {
     "data": {
      "text/plain": [
       "Text(0.5, 1.0, 'Filtered occurrences for Sylvicapra grimmia')"
      ]
     },
     "execution_count": 8,
     "metadata": {},
     "output_type": "execute_result"
    },
    {
     "data": {
      "text/plain": [
       "<matplotlib.patches.Rectangle at 0x1cb5baa0dd8>"
      ]
     },
     "execution_count": 8,
     "metadata": {},
     "output_type": "execute_result"
    },
    {
     "data": {
      "text/plain": [
       "[<matplotlib.patches.Polygon at 0x1cb5a3f7550>,\n",
       " <matplotlib.patches.Polygon at 0x1cb5a3f7828>,\n",
       " <matplotlib.patches.Polygon at 0x1cb5a3f7b00>,\n",
       " <matplotlib.patches.Polygon at 0x1cb5a3f7da0>,\n",
       " <matplotlib.patches.Polygon at 0x1cb5a3c4080>,\n",
       " <matplotlib.patches.Polygon at 0x1cb5a3c4320>,\n",
       " <matplotlib.patches.Polygon at 0x1cb5a3c45c0>,\n",
       " <matplotlib.patches.Polygon at 0x1cb5a3c4860>,\n",
       " <matplotlib.patches.Polygon at 0x1cb5a3c4b00>,\n",
       " <matplotlib.patches.Polygon at 0x1cb5a3c4da0>,\n",
       " <matplotlib.patches.Polygon at 0x1cb5ba4d080>,\n",
       " <matplotlib.patches.Polygon at 0x1cb5ba4d320>,\n",
       " <matplotlib.patches.Polygon at 0x1cb5ba4d5c0>,\n",
       " <matplotlib.patches.Polygon at 0x1cb5ba4d860>,\n",
       " <matplotlib.patches.Polygon at 0x1cb5ba4db00>,\n",
       " <matplotlib.patches.Polygon at 0x1cb5ba4dda0>,\n",
       " <matplotlib.patches.Polygon at 0x1cb5ba59080>,\n",
       " <matplotlib.patches.Polygon at 0x1cb5ba59320>,\n",
       " <matplotlib.patches.Polygon at 0x1cb5ba595c0>,\n",
       " <matplotlib.patches.Polygon at 0x1cb5ba59860>,\n",
       " <matplotlib.patches.Polygon at 0x1cb5ba59b00>,\n",
       " <matplotlib.patches.Polygon at 0x1cb5ba59da0>,\n",
       " <matplotlib.patches.Polygon at 0x1cb5ba6c080>,\n",
       " <matplotlib.patches.Polygon at 0x1cb5ba6c320>,\n",
       " <matplotlib.patches.Polygon at 0x1cb5ba6c5c0>,\n",
       " <matplotlib.patches.Polygon at 0x1cb5ba6c898>,\n",
       " <matplotlib.patches.Polygon at 0x1cb5ba6cb00>,\n",
       " <matplotlib.patches.Polygon at 0x1cb5ba6cda0>,\n",
       " <matplotlib.patches.Polygon at 0x1cb5a643080>,\n",
       " <matplotlib.patches.Polygon at 0x1cb5a643320>,\n",
       " <matplotlib.patches.Polygon at 0x1cb5a6435c0>,\n",
       " <matplotlib.patches.Polygon at 0x1cb5a643860>,\n",
       " <matplotlib.patches.Polygon at 0x1cb5a643b00>,\n",
       " <matplotlib.patches.Polygon at 0x1cb5a643da0>,\n",
       " <matplotlib.patches.Polygon at 0x1cb5a664080>,\n",
       " <matplotlib.patches.Polygon at 0x1cb5a664320>,\n",
       " <matplotlib.patches.Polygon at 0x1cb5a6645c0>,\n",
       " <matplotlib.patches.Polygon at 0x1cb5a664860>,\n",
       " <matplotlib.patches.Polygon at 0x1cb5a664b00>,\n",
       " <matplotlib.patches.Polygon at 0x1cb5a664da0>,\n",
       " <matplotlib.patches.Polygon at 0x1cb5a679080>,\n",
       " <matplotlib.patches.Polygon at 0x1cb5a679320>,\n",
       " <matplotlib.patches.Polygon at 0x1cb5a6795c0>,\n",
       " <matplotlib.patches.Polygon at 0x1cb5a679898>,\n",
       " <matplotlib.patches.Polygon at 0x1cb5a679b00>,\n",
       " <matplotlib.patches.Polygon at 0x1cb5a679da0>,\n",
       " <matplotlib.patches.Polygon at 0x1cb5a6b30b8>,\n",
       " <matplotlib.patches.Polygon at 0x1cb5a6b3320>,\n",
       " <matplotlib.patches.Polygon at 0x1cb5a6b35c0>,\n",
       " <matplotlib.patches.Polygon at 0x1cb5a6b3898>,\n",
       " <matplotlib.patches.Polygon at 0x1cb5a6b3b38>,\n",
       " <matplotlib.patches.Polygon at 0x1cb5a6b3da0>,\n",
       " <matplotlib.patches.Polygon at 0x1cb5a6a0080>]"
      ]
     },
     "execution_count": 8,
     "metadata": {},
     "output_type": "execute_result"
    },
    {
     "data": {
      "text/plain": [
       "<matplotlib.collections.LineCollection at 0x1cb5a6a04a8>"
      ]
     },
     "execution_count": 8,
     "metadata": {},
     "output_type": "execute_result"
    },
    {
     "data": {
      "text/plain": [
       "<matplotlib.collections.LineCollection at 0x1cb5a6a0160>"
      ]
     },
     "execution_count": 8,
     "metadata": {},
     "output_type": "execute_result"
    },
    {
     "data": {
      "text/plain": [
       "[<matplotlib.lines.Line2D at 0x1cb5a49e860>]"
      ]
     },
     "execution_count": 8,
     "metadata": {},
     "output_type": "execute_result"
    },
    {
     "data": {
      "text/plain": [
       "Text(0.5, 1.0, 'Filtered occurrences for Syncerus caffer')"
      ]
     },
     "execution_count": 8,
     "metadata": {},
     "output_type": "execute_result"
    },
    {
     "data": {
      "text/plain": [
       "<matplotlib.patches.Rectangle at 0x1cb5bb7eac8>"
      ]
     },
     "execution_count": 8,
     "metadata": {},
     "output_type": "execute_result"
    },
    {
     "data": {
      "text/plain": [
       "[<matplotlib.patches.Polygon at 0x1cb5a3ba240>,\n",
       " <matplotlib.patches.Polygon at 0x1cb5a3ba518>,\n",
       " <matplotlib.patches.Polygon at 0x1cb5a3ba7f0>,\n",
       " <matplotlib.patches.Polygon at 0x1cb5a3baa90>,\n",
       " <matplotlib.patches.Polygon at 0x1cb5a3bad30>,\n",
       " <matplotlib.patches.Polygon at 0x1cb5a3bafd0>,\n",
       " <matplotlib.patches.Polygon at 0x1cb327a92b0>,\n",
       " <matplotlib.patches.Polygon at 0x1cb327a9550>,\n",
       " <matplotlib.patches.Polygon at 0x1cb327a97f0>,\n",
       " <matplotlib.patches.Polygon at 0x1cb327a9a90>,\n",
       " <matplotlib.patches.Polygon at 0x1cb327a9d30>,\n",
       " <matplotlib.patches.Polygon at 0x1cb327a9fd0>,\n",
       " <matplotlib.patches.Polygon at 0x1cb327bd2b0>,\n",
       " <matplotlib.patches.Polygon at 0x1cb327bd550>,\n",
       " <matplotlib.patches.Polygon at 0x1cb327bd7f0>,\n",
       " <matplotlib.patches.Polygon at 0x1cb327bda90>,\n",
       " <matplotlib.patches.Polygon at 0x1cb327bdd30>,\n",
       " <matplotlib.patches.Polygon at 0x1cb327bdfd0>,\n",
       " <matplotlib.patches.Polygon at 0x1cb5ba1a2b0>,\n",
       " <matplotlib.patches.Polygon at 0x1cb5ba1a550>,\n",
       " <matplotlib.patches.Polygon at 0x1cb5ba1a7f0>,\n",
       " <matplotlib.patches.Polygon at 0x1cb5ba1aa90>,\n",
       " <matplotlib.patches.Polygon at 0x1cb5ba1ad30>,\n",
       " <matplotlib.patches.Polygon at 0x1cb5ba1afd0>,\n",
       " <matplotlib.patches.Polygon at 0x1cb5ba242b0>,\n",
       " <matplotlib.patches.Polygon at 0x1cb5ba24550>,\n",
       " <matplotlib.patches.Polygon at 0x1cb5ba247f0>,\n",
       " <matplotlib.patches.Polygon at 0x1cb5ba24a90>,\n",
       " <matplotlib.patches.Polygon at 0x1cb5ba24d30>,\n",
       " <matplotlib.patches.Polygon at 0x1cb5ba24fd0>,\n",
       " <matplotlib.patches.Polygon at 0x1cb5ba402b0>,\n",
       " <matplotlib.patches.Polygon at 0x1cb5ba40550>,\n",
       " <matplotlib.patches.Polygon at 0x1cb5ba407f0>,\n",
       " <matplotlib.patches.Polygon at 0x1cb5ba40a90>,\n",
       " <matplotlib.patches.Polygon at 0x1cb5ba40d30>,\n",
       " <matplotlib.patches.Polygon at 0x1cb5ba40fd0>,\n",
       " <matplotlib.patches.Polygon at 0x1cb5ba552b0>,\n",
       " <matplotlib.patches.Polygon at 0x1cb5ba55550>,\n",
       " <matplotlib.patches.Polygon at 0x1cb5ba557f0>,\n",
       " <matplotlib.patches.Polygon at 0x1cb5ba55a90>,\n",
       " <matplotlib.patches.Polygon at 0x1cb5ba55d30>]"
      ]
     },
     "execution_count": 8,
     "metadata": {},
     "output_type": "execute_result"
    },
    {
     "data": {
      "text/plain": [
       "<matplotlib.collections.LineCollection at 0x1cb5ba55eb8>"
      ]
     },
     "execution_count": 8,
     "metadata": {},
     "output_type": "execute_result"
    },
    {
     "data": {
      "text/plain": [
       "<matplotlib.collections.LineCollection at 0x1cb5ba55f28>"
      ]
     },
     "execution_count": 8,
     "metadata": {},
     "output_type": "execute_result"
    },
    {
     "data": {
      "text/plain": [
       "[<matplotlib.lines.Line2D at 0x1cb5ba6aba8>]"
      ]
     },
     "execution_count": 8,
     "metadata": {},
     "output_type": "execute_result"
    },
    {
     "data": {
      "text/plain": [
       "Text(0.5, 1.0, 'Filtered occurrences for Tapirus terrestris')"
      ]
     },
     "execution_count": 8,
     "metadata": {},
     "output_type": "execute_result"
    },
    {
     "data": {
      "text/plain": [
       "<matplotlib.patches.Rectangle at 0x1cb59471160>"
      ]
     },
     "execution_count": 8,
     "metadata": {},
     "output_type": "execute_result"
    },
    {
     "data": {
      "text/plain": [
       "[<matplotlib.patches.Polygon at 0x1cb32798780>,\n",
       " <matplotlib.patches.Polygon at 0x1cb32798ba8>,\n",
       " <matplotlib.patches.Polygon at 0x1cb32798e80>,\n",
       " <matplotlib.patches.Polygon at 0x1cb5bc97160>,\n",
       " <matplotlib.patches.Polygon at 0x1cb5bc97400>,\n",
       " <matplotlib.patches.Polygon at 0x1cb5bc976a0>,\n",
       " <matplotlib.patches.Polygon at 0x1cb5bc97940>,\n",
       " <matplotlib.patches.Polygon at 0x1cb5bc97be0>,\n",
       " <matplotlib.patches.Polygon at 0x1cb5bc97e80>,\n",
       " <matplotlib.patches.Polygon at 0x1cb5a466160>,\n",
       " <matplotlib.patches.Polygon at 0x1cb5a466400>,\n",
       " <matplotlib.patches.Polygon at 0x1cb5a4666a0>,\n",
       " <matplotlib.patches.Polygon at 0x1cb5a466940>,\n",
       " <matplotlib.patches.Polygon at 0x1cb5a466be0>,\n",
       " <matplotlib.patches.Polygon at 0x1cb5a466e80>,\n",
       " <matplotlib.patches.Polygon at 0x1cb5ba09160>,\n",
       " <matplotlib.patches.Polygon at 0x1cb5ba09400>,\n",
       " <matplotlib.patches.Polygon at 0x1cb5ba096a0>,\n",
       " <matplotlib.patches.Polygon at 0x1cb5ba09940>,\n",
       " <matplotlib.patches.Polygon at 0x1cb5ba09be0>,\n",
       " <matplotlib.patches.Polygon at 0x1cb5ba09e80>,\n",
       " <matplotlib.patches.Polygon at 0x1cb327a5160>,\n",
       " <matplotlib.patches.Polygon at 0x1cb327a5400>,\n",
       " <matplotlib.patches.Polygon at 0x1cb327a56a0>,\n",
       " <matplotlib.patches.Polygon at 0x1cb327a5940>,\n",
       " <matplotlib.patches.Polygon at 0x1cb327a5be0>,\n",
       " <matplotlib.patches.Polygon at 0x1cb327a5e80>,\n",
       " <matplotlib.patches.Polygon at 0x1cb327bb160>,\n",
       " <matplotlib.patches.Polygon at 0x1cb327bb400>,\n",
       " <matplotlib.patches.Polygon at 0x1cb327bb6a0>,\n",
       " <matplotlib.patches.Polygon at 0x1cb327bb940>,\n",
       " <matplotlib.patches.Polygon at 0x1cb327bbbe0>,\n",
       " <matplotlib.patches.Polygon at 0x1cb327bbe80>,\n",
       " <matplotlib.patches.Polygon at 0x1cb5a393160>,\n",
       " <matplotlib.patches.Polygon at 0x1cb5a393400>,\n",
       " <matplotlib.patches.Polygon at 0x1cb5a3936a0>]"
      ]
     },
     "execution_count": 8,
     "metadata": {},
     "output_type": "execute_result"
    },
    {
     "data": {
      "text/plain": [
       "<matplotlib.collections.LineCollection at 0x1cb5a393a58>"
      ]
     },
     "execution_count": 8,
     "metadata": {},
     "output_type": "execute_result"
    },
    {
     "data": {
      "text/plain": [
       "<matplotlib.collections.LineCollection at 0x1cb5a393780>"
      ]
     },
     "execution_count": 8,
     "metadata": {},
     "output_type": "execute_result"
    },
    {
     "data": {
      "text/plain": [
       "[<matplotlib.lines.Line2D at 0x1cb5a387160>]"
      ]
     },
     "execution_count": 8,
     "metadata": {},
     "output_type": "execute_result"
    },
    {
     "data": {
      "text/plain": [
       "Text(0.5, 1.0, 'Filtered occurrences for Tayassu pecari')"
      ]
     },
     "execution_count": 8,
     "metadata": {},
     "output_type": "execute_result"
    },
    {
     "data": {
      "text/plain": [
       "<matplotlib.patches.Rectangle at 0x1cb32764828>"
      ]
     },
     "execution_count": 8,
     "metadata": {},
     "output_type": "execute_result"
    },
    {
     "data": {
      "text/plain": [
       "[<matplotlib.patches.Polygon at 0x1cb32811e48>,\n",
       " <matplotlib.patches.Polygon at 0x1cb59468240>,\n",
       " <matplotlib.patches.Polygon at 0x1cb594684e0>,\n",
       " <matplotlib.patches.Polygon at 0x1cb59468780>,\n",
       " <matplotlib.patches.Polygon at 0x1cb59468a20>,\n",
       " <matplotlib.patches.Polygon at 0x1cb59468cc0>,\n",
       " <matplotlib.patches.Polygon at 0x1cb59468f60>,\n",
       " <matplotlib.patches.Polygon at 0x1cb5b2a2240>,\n",
       " <matplotlib.patches.Polygon at 0x1cb5b2a24e0>,\n",
       " <matplotlib.patches.Polygon at 0x1cb5b2a2780>,\n",
       " <matplotlib.patches.Polygon at 0x1cb5b2a2a20>,\n",
       " <matplotlib.patches.Polygon at 0x1cb5b2a2cc0>,\n",
       " <matplotlib.patches.Polygon at 0x1cb5b2a2f60>,\n",
       " <matplotlib.patches.Polygon at 0x1cb5b2aa240>,\n",
       " <matplotlib.patches.Polygon at 0x1cb5b2aa4e0>,\n",
       " <matplotlib.patches.Polygon at 0x1cb5b2aa780>,\n",
       " <matplotlib.patches.Polygon at 0x1cb5b2aaa20>,\n",
       " <matplotlib.patches.Polygon at 0x1cb5b2aacc0>,\n",
       " <matplotlib.patches.Polygon at 0x1cb5b2aaf60>,\n",
       " <matplotlib.patches.Polygon at 0x1cb5bba3240>,\n",
       " <matplotlib.patches.Polygon at 0x1cb5bba3518>,\n",
       " <matplotlib.patches.Polygon at 0x1cb5bba3780>,\n",
       " <matplotlib.patches.Polygon at 0x1cb5bba3a20>,\n",
       " <matplotlib.patches.Polygon at 0x1cb5bba3cc0>,\n",
       " <matplotlib.patches.Polygon at 0x1cb5bba3f60>,\n",
       " <matplotlib.patches.Polygon at 0x1cb5a660240>,\n",
       " <matplotlib.patches.Polygon at 0x1cb5a6604e0>,\n",
       " <matplotlib.patches.Polygon at 0x1cb5a660780>,\n",
       " <matplotlib.patches.Polygon at 0x1cb5a660a20>,\n",
       " <matplotlib.patches.Polygon at 0x1cb5a660cc0>,\n",
       " <matplotlib.patches.Polygon at 0x1cb5a660f60>,\n",
       " <matplotlib.patches.Polygon at 0x1cb5a675278>]"
      ]
     },
     "execution_count": 8,
     "metadata": {},
     "output_type": "execute_result"
    },
    {
     "data": {
      "text/plain": [
       "<matplotlib.collections.LineCollection at 0x1cb5a675390>"
      ]
     },
     "execution_count": 8,
     "metadata": {},
     "output_type": "execute_result"
    },
    {
     "data": {
      "text/plain": [
       "<matplotlib.collections.LineCollection at 0x1cb327fd8d0>"
      ]
     },
     "execution_count": 8,
     "metadata": {},
     "output_type": "execute_result"
    },
    {
     "data": {
      "text/plain": [
       "[<matplotlib.lines.Line2D at 0x1cb327fd7b8>]"
      ]
     },
     "execution_count": 8,
     "metadata": {},
     "output_type": "execute_result"
    },
    {
     "data": {
      "text/plain": [
       "Text(0.5, 1.0, 'Filtered occurrences for Tragelaphus angasii')"
      ]
     },
     "execution_count": 8,
     "metadata": {},
     "output_type": "execute_result"
    },
    {
     "data": {
      "text/plain": [
       "<matplotlib.patches.Rectangle at 0x1cb32805ef0>"
      ]
     },
     "execution_count": 8,
     "metadata": {},
     "output_type": "execute_result"
    },
    {
     "data": {
      "text/plain": [
       "[<matplotlib.patches.Polygon at 0x1cb5b3f6e48>,\n",
       " <matplotlib.patches.Polygon at 0x1cb5bade240>,\n",
       " <matplotlib.patches.Polygon at 0x1cb5bade4e0>,\n",
       " <matplotlib.patches.Polygon at 0x1cb5bade780>,\n",
       " <matplotlib.patches.Polygon at 0x1cb5badea20>,\n",
       " <matplotlib.patches.Polygon at 0x1cb5badecc0>,\n",
       " <matplotlib.patches.Polygon at 0x1cb5badef60>,\n",
       " <matplotlib.patches.Polygon at 0x1cb5bae4240>,\n",
       " <matplotlib.patches.Polygon at 0x1cb5bae44e0>,\n",
       " <matplotlib.patches.Polygon at 0x1cb5bae4780>,\n",
       " <matplotlib.patches.Polygon at 0x1cb5bae4a20>,\n",
       " <matplotlib.patches.Polygon at 0x1cb5bae4cc0>,\n",
       " <matplotlib.patches.Polygon at 0x1cb5bae4f60>,\n",
       " <matplotlib.patches.Polygon at 0x1cb5baec240>,\n",
       " <matplotlib.patches.Polygon at 0x1cb5baec4e0>,\n",
       " <matplotlib.patches.Polygon at 0x1cb5baec780>,\n",
       " <matplotlib.patches.Polygon at 0x1cb5baeca20>,\n",
       " <matplotlib.patches.Polygon at 0x1cb5baeccc0>,\n",
       " <matplotlib.patches.Polygon at 0x1cb5baecf60>,\n",
       " <matplotlib.patches.Polygon at 0x1cb32821240>,\n",
       " <matplotlib.patches.Polygon at 0x1cb328214e0>,\n",
       " <matplotlib.patches.Polygon at 0x1cb32821780>,\n",
       " <matplotlib.patches.Polygon at 0x1cb32821a20>,\n",
       " <matplotlib.patches.Polygon at 0x1cb32821cc0>,\n",
       " <matplotlib.patches.Polygon at 0x1cb32821f60>,\n",
       " <matplotlib.patches.Polygon at 0x1cb32836240>,\n",
       " <matplotlib.patches.Polygon at 0x1cb328364e0>,\n",
       " <matplotlib.patches.Polygon at 0x1cb32836780>,\n",
       " <matplotlib.patches.Polygon at 0x1cb32836a20>,\n",
       " <matplotlib.patches.Polygon at 0x1cb32836cc0>,\n",
       " <matplotlib.patches.Polygon at 0x1cb32836f60>,\n",
       " <matplotlib.patches.Polygon at 0x1cb5b404240>,\n",
       " <matplotlib.patches.Polygon at 0x1cb5b4044e0>,\n",
       " <matplotlib.patches.Polygon at 0x1cb5b404780>,\n",
       " <matplotlib.patches.Polygon at 0x1cb5b404a20>,\n",
       " <matplotlib.patches.Polygon at 0x1cb5b404cc0>,\n",
       " <matplotlib.patches.Polygon at 0x1cb5b404f60>,\n",
       " <matplotlib.patches.Polygon at 0x1cb5b415240>,\n",
       " <matplotlib.patches.Polygon at 0x1cb5b415518>,\n",
       " <matplotlib.patches.Polygon at 0x1cb5b415780>,\n",
       " <matplotlib.patches.Polygon at 0x1cb5b415a20>,\n",
       " <matplotlib.patches.Polygon at 0x1cb5b415cc0>,\n",
       " <matplotlib.patches.Polygon at 0x1cb5b415f60>,\n",
       " <matplotlib.patches.Polygon at 0x1cb5b423240>,\n",
       " <matplotlib.patches.Polygon at 0x1cb5b4234e0>,\n",
       " <matplotlib.patches.Polygon at 0x1cb5b423780>,\n",
       " <matplotlib.patches.Polygon at 0x1cb5b423a20>,\n",
       " <matplotlib.patches.Polygon at 0x1cb5b423cc0>,\n",
       " <matplotlib.patches.Polygon at 0x1cb5b423f60>,\n",
       " <matplotlib.patches.Polygon at 0x1cb5bb8c240>,\n",
       " <matplotlib.patches.Polygon at 0x1cb5bb8c4e0>,\n",
       " <matplotlib.patches.Polygon at 0x1cb5bb8c780>,\n",
       " <matplotlib.patches.Polygon at 0x1cb5bb8ca20>,\n",
       " <matplotlib.patches.Polygon at 0x1cb5bb8ccc0>,\n",
       " <matplotlib.patches.Polygon at 0x1cb5bb8cf98>,\n",
       " <matplotlib.patches.Polygon at 0x1cb5bba0240>]"
      ]
     },
     "execution_count": 8,
     "metadata": {},
     "output_type": "execute_result"
    },
    {
     "data": {
      "text/plain": [
       "<matplotlib.collections.LineCollection at 0x1cb5bba05f8>"
      ]
     },
     "execution_count": 8,
     "metadata": {},
     "output_type": "execute_result"
    },
    {
     "data": {
      "text/plain": [
       "<matplotlib.collections.LineCollection at 0x1cb5bba08d0>"
      ]
     },
     "execution_count": 8,
     "metadata": {},
     "output_type": "execute_result"
    },
    {
     "data": {
      "text/plain": [
       "[<matplotlib.lines.Line2D at 0x1cb5b2df9e8>]"
      ]
     },
     "execution_count": 8,
     "metadata": {},
     "output_type": "execute_result"
    },
    {
     "data": {
      "text/plain": [
       "Text(0.5, 1.0, 'Filtered occurrences for Tragelaphus buxtoni')"
      ]
     },
     "execution_count": 8,
     "metadata": {},
     "output_type": "execute_result"
    },
    {
     "data": {
      "text/plain": [
       "<matplotlib.patches.Rectangle at 0x1cb5bc344a8>"
      ]
     },
     "execution_count": 8,
     "metadata": {},
     "output_type": "execute_result"
    },
    {
     "data": {
      "text/plain": [
       "[<matplotlib.patches.Polygon at 0x1cb5bc47ac8>,\n",
       " <matplotlib.patches.Polygon at 0x1cb5bc47ef0>,\n",
       " <matplotlib.patches.Polygon at 0x1cb5bc57208>,\n",
       " <matplotlib.patches.Polygon at 0x1cb5bc574a8>,\n",
       " <matplotlib.patches.Polygon at 0x1cb5bc57748>,\n",
       " <matplotlib.patches.Polygon at 0x1cb5bc579e8>,\n",
       " <matplotlib.patches.Polygon at 0x1cb5bc57c88>,\n",
       " <matplotlib.patches.Polygon at 0x1cb5bc57f28>,\n",
       " <matplotlib.patches.Polygon at 0x1cb5b403208>,\n",
       " <matplotlib.patches.Polygon at 0x1cb5b4034a8>,\n",
       " <matplotlib.patches.Polygon at 0x1cb5b403748>,\n",
       " <matplotlib.patches.Polygon at 0x1cb5b4039e8>,\n",
       " <matplotlib.patches.Polygon at 0x1cb5bc47c18>,\n",
       " <matplotlib.patches.Polygon at 0x1cb5b403ef0>,\n",
       " <matplotlib.patches.Polygon at 0x1cb5bc601d0>,\n",
       " <matplotlib.patches.Polygon at 0x1cb5bc60470>,\n",
       " <matplotlib.patches.Polygon at 0x1cb5bc60710>,\n",
       " <matplotlib.patches.Polygon at 0x1cb5bc609b0>,\n",
       " <matplotlib.patches.Polygon at 0x1cb5bc60c50>,\n",
       " <matplotlib.patches.Polygon at 0x1cb5bc60ef0>,\n",
       " <matplotlib.patches.Polygon at 0x1cb5b4131d0>,\n",
       " <matplotlib.patches.Polygon at 0x1cb5b4134a8>,\n",
       " <matplotlib.patches.Polygon at 0x1cb5b413710>,\n",
       " <matplotlib.patches.Polygon at 0x1cb5b4139b0>,\n",
       " <matplotlib.patches.Polygon at 0x1cb5b413c50>,\n",
       " <matplotlib.patches.Polygon at 0x1cb5b413ef0>,\n",
       " <matplotlib.patches.Polygon at 0x1cb5b4241d0>,\n",
       " <matplotlib.patches.Polygon at 0x1cb5b424470>,\n",
       " <matplotlib.patches.Polygon at 0x1cb5b424710>,\n",
       " <matplotlib.patches.Polygon at 0x1cb5b4249b0>,\n",
       " <matplotlib.patches.Polygon at 0x1cb5b424c50>,\n",
       " <matplotlib.patches.Polygon at 0x1cb5b424ef0>,\n",
       " <matplotlib.patches.Polygon at 0x1cb5bf901d0>,\n",
       " <matplotlib.patches.Polygon at 0x1cb5bf90470>,\n",
       " <matplotlib.patches.Polygon at 0x1cb5bf90710>,\n",
       " <matplotlib.patches.Polygon at 0x1cb5bf909b0>,\n",
       " <matplotlib.patches.Polygon at 0x1cb5bf90c50>,\n",
       " <matplotlib.patches.Polygon at 0x1cb5bf90ef0>,\n",
       " <matplotlib.patches.Polygon at 0x1cb5bfaa1d0>,\n",
       " <matplotlib.patches.Polygon at 0x1cb5bfaa470>,\n",
       " <matplotlib.patches.Polygon at 0x1cb5bfaa710>,\n",
       " <matplotlib.patches.Polygon at 0x1cb5bfaa9b0>,\n",
       " <matplotlib.patches.Polygon at 0x1cb5bfaac50>,\n",
       " <matplotlib.patches.Polygon at 0x1cb5bfaaef0>,\n",
       " <matplotlib.patches.Polygon at 0x1cb5b37e208>,\n",
       " <matplotlib.patches.Polygon at 0x1cb5b37e470>,\n",
       " <matplotlib.patches.Polygon at 0x1cb5b37e748>,\n",
       " <matplotlib.patches.Polygon at 0x1cb5b37e9b0>,\n",
       " <matplotlib.patches.Polygon at 0x1cb5b37ec50>,\n",
       " <matplotlib.patches.Polygon at 0x1cb5b37ef28>,\n",
       " <matplotlib.patches.Polygon at 0x1cb5b393208>,\n",
       " <matplotlib.patches.Polygon at 0x1cb5b393470>,\n",
       " <matplotlib.patches.Polygon at 0x1cb5b393710>]"
      ]
     },
     "execution_count": 8,
     "metadata": {},
     "output_type": "execute_result"
    },
    {
     "data": {
      "text/plain": [
       "<matplotlib.collections.LineCollection at 0x1cb5b393860>"
      ]
     },
     "execution_count": 8,
     "metadata": {},
     "output_type": "execute_result"
    },
    {
     "data": {
      "text/plain": [
       "<matplotlib.collections.LineCollection at 0x1cb5b393e48>"
      ]
     },
     "execution_count": 8,
     "metadata": {},
     "output_type": "execute_result"
    },
    {
     "data": {
      "text/plain": [
       "[<matplotlib.lines.Line2D at 0x1cb5b3d9a90>]"
      ]
     },
     "execution_count": 8,
     "metadata": {},
     "output_type": "execute_result"
    },
    {
     "data": {
      "text/plain": [
       "Text(0.5, 1.0, 'Filtered occurrences for Tragelaphus eurycerus')"
      ]
     },
     "execution_count": 8,
     "metadata": {},
     "output_type": "execute_result"
    },
    {
     "data": {
      "text/plain": [
       "<matplotlib.patches.Rectangle at 0x1cb5b291240>"
      ]
     },
     "execution_count": 8,
     "metadata": {},
     "output_type": "execute_result"
    },
    {
     "data": {
      "text/plain": [
       "[<matplotlib.patches.Polygon at 0x1cb5b29c978>,\n",
       " <matplotlib.patches.Polygon at 0x1cb5b29cc50>,\n",
       " <matplotlib.patches.Polygon at 0x1cb5b29cf28>,\n",
       " <matplotlib.patches.Polygon at 0x1cb5b36e208>,\n",
       " <matplotlib.patches.Polygon at 0x1cb5b36e4a8>,\n",
       " <matplotlib.patches.Polygon at 0x1cb5b36e748>,\n",
       " <matplotlib.patches.Polygon at 0x1cb5b36e9e8>,\n",
       " <matplotlib.patches.Polygon at 0x1cb5b36ec88>,\n",
       " <matplotlib.patches.Polygon at 0x1cb5b36ef28>,\n",
       " <matplotlib.patches.Polygon at 0x1cb5bc3e208>,\n",
       " <matplotlib.patches.Polygon at 0x1cb5bc3e4a8>,\n",
       " <matplotlib.patches.Polygon at 0x1cb5bc3e748>,\n",
       " <matplotlib.patches.Polygon at 0x1cb5bc3e9e8>,\n",
       " <matplotlib.patches.Polygon at 0x1cb5bc3ec88>,\n",
       " <matplotlib.patches.Polygon at 0x1cb5bc3ef28>,\n",
       " <matplotlib.patches.Polygon at 0x1cb5bc51208>,\n",
       " <matplotlib.patches.Polygon at 0x1cb5bc514a8>,\n",
       " <matplotlib.patches.Polygon at 0x1cb5bc51748>,\n",
       " <matplotlib.patches.Polygon at 0x1cb5bc519e8>,\n",
       " <matplotlib.patches.Polygon at 0x1cb5bc51c88>,\n",
       " <matplotlib.patches.Polygon at 0x1cb5bc51f28>,\n",
       " <matplotlib.patches.Polygon at 0x1cb5bc69208>,\n",
       " <matplotlib.patches.Polygon at 0x1cb5bc694a8>,\n",
       " <matplotlib.patches.Polygon at 0x1cb5bc69748>,\n",
       " <matplotlib.patches.Polygon at 0x1cb5bc699e8>,\n",
       " <matplotlib.patches.Polygon at 0x1cb5bc69cc0>,\n",
       " <matplotlib.patches.Polygon at 0x1cb5bc69f28>,\n",
       " <matplotlib.patches.Polygon at 0x1cb5bfd1208>,\n",
       " <matplotlib.patches.Polygon at 0x1cb5bfd14a8>,\n",
       " <matplotlib.patches.Polygon at 0x1cb5bfd1748>,\n",
       " <matplotlib.patches.Polygon at 0x1cb5bfd19e8>,\n",
       " <matplotlib.patches.Polygon at 0x1cb5bfd1c88>,\n",
       " <matplotlib.patches.Polygon at 0x1cb5bfd1f28>,\n",
       " <matplotlib.patches.Polygon at 0x1cb5bfd5208>,\n",
       " <matplotlib.patches.Polygon at 0x1cb5bfd54a8>,\n",
       " <matplotlib.patches.Polygon at 0x1cb5bfd5748>,\n",
       " <matplotlib.patches.Polygon at 0x1cb5bfd59e8>,\n",
       " <matplotlib.patches.Polygon at 0x1cb5bfd5c88>,\n",
       " <matplotlib.patches.Polygon at 0x1cb5bfd5f28>,\n",
       " <matplotlib.patches.Polygon at 0x1cb5bfd8240>,\n",
       " <matplotlib.patches.Polygon at 0x1cb5bfd84a8>,\n",
       " <matplotlib.patches.Polygon at 0x1cb5bfd8748>]"
      ]
     },
     "execution_count": 8,
     "metadata": {},
     "output_type": "execute_result"
    },
    {
     "data": {
      "text/plain": [
       "<matplotlib.collections.LineCollection at 0x1cb5bfd8b70>"
      ]
     },
     "execution_count": 8,
     "metadata": {},
     "output_type": "execute_result"
    },
    {
     "data": {
      "text/plain": [
       "<matplotlib.collections.LineCollection at 0x1cb5c03b668>"
      ]
     },
     "execution_count": 8,
     "metadata": {},
     "output_type": "execute_result"
    },
    {
     "data": {
      "text/plain": [
       "[<matplotlib.lines.Line2D at 0x1cb5c03b588>]"
      ]
     },
     "execution_count": 8,
     "metadata": {},
     "output_type": "execute_result"
    },
    {
     "data": {
      "text/plain": [
       "Text(0.5, 1.0, 'Filtered occurrences for Tragelaphus imberbis')"
      ]
     },
     "execution_count": 8,
     "metadata": {},
     "output_type": "execute_result"
    },
    {
     "data": {
      "text/plain": [
       "<matplotlib.patches.Rectangle at 0x1cb5c0c61d0>"
      ]
     },
     "execution_count": 8,
     "metadata": {},
     "output_type": "execute_result"
    },
    {
     "data": {
      "text/plain": [
       "[<matplotlib.patches.Polygon at 0x1cb5b35f908>,\n",
       " <matplotlib.patches.Polygon at 0x1cb5b35fbe0>,\n",
       " <matplotlib.patches.Polygon at 0x1cb5b35fe80>,\n",
       " <matplotlib.patches.Polygon at 0x1cb5c05b160>,\n",
       " <matplotlib.patches.Polygon at 0x1cb5c05b400>,\n",
       " <matplotlib.patches.Polygon at 0x1cb5c05b6a0>,\n",
       " <matplotlib.patches.Polygon at 0x1cb5c05b940>,\n",
       " <matplotlib.patches.Polygon at 0x1cb5c05bbe0>,\n",
       " <matplotlib.patches.Polygon at 0x1cb5c05be80>,\n",
       " <matplotlib.patches.Polygon at 0x1cb5c069160>,\n",
       " <matplotlib.patches.Polygon at 0x1cb5c069400>,\n",
       " <matplotlib.patches.Polygon at 0x1cb5c0696a0>,\n",
       " <matplotlib.patches.Polygon at 0x1cb5c069940>,\n",
       " <matplotlib.patches.Polygon at 0x1cb5c069be0>,\n",
       " <matplotlib.patches.Polygon at 0x1cb5c069e80>,\n",
       " <matplotlib.patches.Polygon at 0x1cb5b359160>,\n",
       " <matplotlib.patches.Polygon at 0x1cb5b359400>,\n",
       " <matplotlib.patches.Polygon at 0x1cb5b3596a0>,\n",
       " <matplotlib.patches.Polygon at 0x1cb5b359940>,\n",
       " <matplotlib.patches.Polygon at 0x1cb5b359be0>,\n",
       " <matplotlib.patches.Polygon at 0x1cb5b359e80>,\n",
       " <matplotlib.patches.Polygon at 0x1cb5c024160>,\n",
       " <matplotlib.patches.Polygon at 0x1cb5c024400>,\n",
       " <matplotlib.patches.Polygon at 0x1cb5c0246a0>,\n",
       " <matplotlib.patches.Polygon at 0x1cb5c024978>,\n",
       " <matplotlib.patches.Polygon at 0x1cb5c024be0>,\n",
       " <matplotlib.patches.Polygon at 0x1cb5c024e80>,\n",
       " <matplotlib.patches.Polygon at 0x1cb5c015160>,\n",
       " <matplotlib.patches.Polygon at 0x1cb5c015400>,\n",
       " <matplotlib.patches.Polygon at 0x1cb5c0156a0>,\n",
       " <matplotlib.patches.Polygon at 0x1cb5c015940>,\n",
       " <matplotlib.patches.Polygon at 0x1cb5c015be0>,\n",
       " <matplotlib.patches.Polygon at 0x1cb5c015e80>,\n",
       " <matplotlib.patches.Polygon at 0x1cb5c01f160>,\n",
       " <matplotlib.patches.Polygon at 0x1cb5c01f400>,\n",
       " <matplotlib.patches.Polygon at 0x1cb5c01f6a0>,\n",
       " <matplotlib.patches.Polygon at 0x1cb5c01f978>,\n",
       " <matplotlib.patches.Polygon at 0x1cb5c01fc18>,\n",
       " <matplotlib.patches.Polygon at 0x1cb5c01fe80>,\n",
       " <matplotlib.patches.Polygon at 0x1cb5b2f7160>,\n",
       " <matplotlib.patches.Polygon at 0x1cb5b2f7438>,\n",
       " <matplotlib.patches.Polygon at 0x1cb5b2f76a0>]"
      ]
     },
     "execution_count": 8,
     "metadata": {},
     "output_type": "execute_result"
    },
    {
     "data": {
      "text/plain": [
       "<matplotlib.collections.LineCollection at 0x1cb5b2f77f0>"
      ]
     },
     "execution_count": 8,
     "metadata": {},
     "output_type": "execute_result"
    },
    {
     "data": {
      "text/plain": [
       "<matplotlib.collections.LineCollection at 0x1cb5b2f7d30>"
      ]
     },
     "execution_count": 8,
     "metadata": {},
     "output_type": "execute_result"
    },
    {
     "data": {
      "text/plain": [
       "[<matplotlib.lines.Line2D at 0x1cb5b30fdd8>]"
      ]
     },
     "execution_count": 8,
     "metadata": {},
     "output_type": "execute_result"
    },
    {
     "data": {
      "text/plain": [
       "Text(0.5, 1.0, 'Filtered occurrences for Tragelaphus oryx')"
      ]
     },
     "execution_count": 8,
     "metadata": {},
     "output_type": "execute_result"
    },
    {
     "data": {
      "text/plain": [
       "<matplotlib.patches.Rectangle at 0x1cb5b34b668>"
      ]
     },
     "execution_count": 8,
     "metadata": {},
     "output_type": "execute_result"
    },
    {
     "data": {
      "text/plain": [
       "[<matplotlib.patches.Polygon at 0x1cb5b351da0>,\n",
       " <matplotlib.patches.Polygon at 0x1cb5b351cc0>,\n",
       " <matplotlib.patches.Polygon at 0x1cb5b337390>,\n",
       " <matplotlib.patches.Polygon at 0x1cb5b337630>,\n",
       " <matplotlib.patches.Polygon at 0x1cb5b3378d0>,\n",
       " <matplotlib.patches.Polygon at 0x1cb5b337b70>,\n",
       " <matplotlib.patches.Polygon at 0x1cb5b337e10>,\n",
       " <matplotlib.patches.Polygon at 0x1cb5e2740f0>,\n",
       " <matplotlib.patches.Polygon at 0x1cb5e274390>,\n",
       " <matplotlib.patches.Polygon at 0x1cb5e274630>,\n",
       " <matplotlib.patches.Polygon at 0x1cb5e2748d0>,\n",
       " <matplotlib.patches.Polygon at 0x1cb5e274b70>,\n",
       " <matplotlib.patches.Polygon at 0x1cb5e274e10>,\n",
       " <matplotlib.patches.Polygon at 0x1cb5e27c0f0>,\n",
       " <matplotlib.patches.Polygon at 0x1cb5e27c390>,\n",
       " <matplotlib.patches.Polygon at 0x1cb5e27c630>,\n",
       " <matplotlib.patches.Polygon at 0x1cb5e27c8d0>,\n",
       " <matplotlib.patches.Polygon at 0x1cb5e27cb70>,\n",
       " <matplotlib.patches.Polygon at 0x1cb5e27ce10>,\n",
       " <matplotlib.patches.Polygon at 0x1cb5b3150f0>,\n",
       " <matplotlib.patches.Polygon at 0x1cb5b315390>,\n",
       " <matplotlib.patches.Polygon at 0x1cb5b315630>,\n",
       " <matplotlib.patches.Polygon at 0x1cb5b3158d0>,\n",
       " <matplotlib.patches.Polygon at 0x1cb5b315b70>,\n",
       " <matplotlib.patches.Polygon at 0x1cb5b315e10>,\n",
       " <matplotlib.patches.Polygon at 0x1cb5b310128>,\n",
       " <matplotlib.patches.Polygon at 0x1cb5b310390>,\n",
       " <matplotlib.patches.Polygon at 0x1cb5b310630>,\n",
       " <matplotlib.patches.Polygon at 0x1cb5b3108d0>,\n",
       " <matplotlib.patches.Polygon at 0x1cb5b310b70>,\n",
       " <matplotlib.patches.Polygon at 0x1cb5b310e10>,\n",
       " <matplotlib.patches.Polygon at 0x1cb5bb090f0>,\n",
       " <matplotlib.patches.Polygon at 0x1cb5bb09390>,\n",
       " <matplotlib.patches.Polygon at 0x1cb5bb09630>,\n",
       " <matplotlib.patches.Polygon at 0x1cb5bb098d0>,\n",
       " <matplotlib.patches.Polygon at 0x1cb5bb09b70>,\n",
       " <matplotlib.patches.Polygon at 0x1cb5bb09e10>,\n",
       " <matplotlib.patches.Polygon at 0x1cb5baf90f0>,\n",
       " <matplotlib.patches.Polygon at 0x1cb5baf9390>,\n",
       " <matplotlib.patches.Polygon at 0x1cb5baf9630>,\n",
       " <matplotlib.patches.Polygon at 0x1cb5baf98d0>,\n",
       " <matplotlib.patches.Polygon at 0x1cb5baf9b70>,\n",
       " <matplotlib.patches.Polygon at 0x1cb5baf9e10>,\n",
       " <matplotlib.patches.Polygon at 0x1cb5bb24128>,\n",
       " <matplotlib.patches.Polygon at 0x1cb5bb24390>,\n",
       " <matplotlib.patches.Polygon at 0x1cb5bb24630>,\n",
       " <matplotlib.patches.Polygon at 0x1cb5bb24908>,\n",
       " <matplotlib.patches.Polygon at 0x1cb5bb24b70>,\n",
       " <matplotlib.patches.Polygon at 0x1cb5bb24e10>,\n",
       " <matplotlib.patches.Polygon at 0x1cb5bbf7128>,\n",
       " <matplotlib.patches.Polygon at 0x1cb5bbf73c8>,\n",
       " <matplotlib.patches.Polygon at 0x1cb5bbf7630>,\n",
       " <matplotlib.patches.Polygon at 0x1cb5bbf78d0>]"
      ]
     },
     "execution_count": 8,
     "metadata": {},
     "output_type": "execute_result"
    },
    {
     "data": {
      "text/plain": [
       "<matplotlib.collections.LineCollection at 0x1cb5b337080>"
      ]
     },
     "execution_count": 8,
     "metadata": {},
     "output_type": "execute_result"
    },
    {
     "data": {
      "text/plain": [
       "<matplotlib.collections.LineCollection at 0x1cb5bbdbf60>"
      ]
     },
     "execution_count": 8,
     "metadata": {},
     "output_type": "execute_result"
    },
    {
     "data": {
      "text/plain": [
       "[<matplotlib.lines.Line2D at 0x1cb5c079240>]"
      ]
     },
     "execution_count": 8,
     "metadata": {},
     "output_type": "execute_result"
    },
    {
     "data": {
      "text/plain": [
       "Text(0.5, 1.0, 'Filtered occurrences for Tragelaphus scriptus')"
      ]
     },
     "execution_count": 8,
     "metadata": {},
     "output_type": "execute_result"
    },
    {
     "data": {
      "text/plain": [
       "<matplotlib.patches.Rectangle at 0x1cb5bfcd358>"
      ]
     },
     "execution_count": 8,
     "metadata": {},
     "output_type": "execute_result"
    },
    {
     "data": {
      "text/plain": [
       "[<matplotlib.patches.Polygon at 0x1cb5c09cf98>,\n",
       " <matplotlib.patches.Polygon at 0x1cb5c083710>,\n",
       " <matplotlib.patches.Polygon at 0x1cb5bbb43c8>,\n",
       " <matplotlib.patches.Polygon at 0x1cb5bbb4668>,\n",
       " <matplotlib.patches.Polygon at 0x1cb5bbb4908>,\n",
       " <matplotlib.patches.Polygon at 0x1cb5bbb4ba8>,\n",
       " <matplotlib.patches.Polygon at 0x1cb5bbb4e48>,\n",
       " <matplotlib.patches.Polygon at 0x1cb5bbe8128>,\n",
       " <matplotlib.patches.Polygon at 0x1cb5bbe83c8>,\n",
       " <matplotlib.patches.Polygon at 0x1cb5bbe8668>,\n",
       " <matplotlib.patches.Polygon at 0x1cb5bbe8908>,\n",
       " <matplotlib.patches.Polygon at 0x1cb5bbe8ba8>,\n",
       " <matplotlib.patches.Polygon at 0x1cb5bbe8e48>,\n",
       " <matplotlib.patches.Polygon at 0x1cb5bc23128>,\n",
       " <matplotlib.patches.Polygon at 0x1cb5bc233c8>,\n",
       " <matplotlib.patches.Polygon at 0x1cb5bc23668>,\n",
       " <matplotlib.patches.Polygon at 0x1cb5bc23908>,\n",
       " <matplotlib.patches.Polygon at 0x1cb5bc23ba8>,\n",
       " <matplotlib.patches.Polygon at 0x1cb5bc23e48>,\n",
       " <matplotlib.patches.Polygon at 0x1cb5b8dc128>,\n",
       " <matplotlib.patches.Polygon at 0x1cb5b8dc3c8>,\n",
       " <matplotlib.patches.Polygon at 0x1cb5b8dc668>,\n",
       " <matplotlib.patches.Polygon at 0x1cb5b8dc908>,\n",
       " <matplotlib.patches.Polygon at 0x1cb5b8dcba8>,\n",
       " <matplotlib.patches.Polygon at 0x1cb5b8dce48>,\n",
       " <matplotlib.patches.Polygon at 0x1cb5b8c3128>,\n",
       " <matplotlib.patches.Polygon at 0x1cb5b8c33c8>,\n",
       " <matplotlib.patches.Polygon at 0x1cb5b8c3668>,\n",
       " <matplotlib.patches.Polygon at 0x1cb5b8c3940>,\n",
       " <matplotlib.patches.Polygon at 0x1cb5b8c3ba8>,\n",
       " <matplotlib.patches.Polygon at 0x1cb5b8c3e48>,\n",
       " <matplotlib.patches.Polygon at 0x1cb5b8ee128>,\n",
       " <matplotlib.patches.Polygon at 0x1cb5b8ee3c8>,\n",
       " <matplotlib.patches.Polygon at 0x1cb5b8ee668>,\n",
       " <matplotlib.patches.Polygon at 0x1cb5b8ee908>,\n",
       " <matplotlib.patches.Polygon at 0x1cb5b8eeba8>,\n",
       " <matplotlib.patches.Polygon at 0x1cb5b8eee48>,\n",
       " <matplotlib.patches.Polygon at 0x1cb5e348128>,\n",
       " <matplotlib.patches.Polygon at 0x1cb5e3483c8>,\n",
       " <matplotlib.patches.Polygon at 0x1cb5e348668>,\n",
       " <matplotlib.patches.Polygon at 0x1cb5e348908>,\n",
       " <matplotlib.patches.Polygon at 0x1cb5e348ba8>,\n",
       " <matplotlib.patches.Polygon at 0x1cb5e348e48>,\n",
       " <matplotlib.patches.Polygon at 0x1cb5e357160>,\n",
       " <matplotlib.patches.Polygon at 0x1cb5e3573c8>,\n",
       " <matplotlib.patches.Polygon at 0x1cb5e357668>,\n",
       " <matplotlib.patches.Polygon at 0x1cb5e357940>,\n",
       " <matplotlib.patches.Polygon at 0x1cb5e357ba8>,\n",
       " <matplotlib.patches.Polygon at 0x1cb5e357e48>,\n",
       " <matplotlib.patches.Polygon at 0x1cb5e36b160>,\n",
       " <matplotlib.patches.Polygon at 0x1cb5e36b400>,\n",
       " <matplotlib.patches.Polygon at 0x1cb5e36b668>,\n",
       " <matplotlib.patches.Polygon at 0x1cb5e36b908>]"
      ]
     },
     "execution_count": 8,
     "metadata": {},
     "output_type": "execute_result"
    },
    {
     "data": {
      "text/plain": [
       "<matplotlib.collections.LineCollection at 0x1cb5e36bd30>"
      ]
     },
     "execution_count": 8,
     "metadata": {},
     "output_type": "execute_result"
    },
    {
     "data": {
      "text/plain": [
       "<matplotlib.collections.LineCollection at 0x1cb5e2b6198>"
      ]
     },
     "execution_count": 8,
     "metadata": {},
     "output_type": "execute_result"
    },
    {
     "data": {
      "text/plain": [
       "[<matplotlib.lines.Line2D at 0x1cb5e2b60b8>]"
      ]
     },
     "execution_count": 8,
     "metadata": {},
     "output_type": "execute_result"
    },
    {
     "data": {
      "text/plain": [
       "Text(0.5, 1.0, 'Filtered occurrences for Tragelaphus spekii')"
      ]
     },
     "execution_count": 8,
     "metadata": {},
     "output_type": "execute_result"
    },
    {
     "data": {
      "text/plain": [
       "<matplotlib.patches.Rectangle at 0x1cb5b8e09b0>"
      ]
     },
     "execution_count": 8,
     "metadata": {},
     "output_type": "execute_result"
    },
    {
     "data": {
      "text/plain": [
       "[<matplotlib.patches.Polygon at 0x1cb5b8c9f98>,\n",
       " <matplotlib.patches.Polygon at 0x1cb5b8b3320>,\n",
       " <matplotlib.patches.Polygon at 0x1cb5b8b3668>,\n",
       " <matplotlib.patches.Polygon at 0x1cb5b8b3908>,\n",
       " <matplotlib.patches.Polygon at 0x1cb5b8b3ba8>,\n",
       " <matplotlib.patches.Polygon at 0x1cb5b8b3e48>,\n",
       " <matplotlib.patches.Polygon at 0x1cb5e2a1128>,\n",
       " <matplotlib.patches.Polygon at 0x1cb5e2a13c8>,\n",
       " <matplotlib.patches.Polygon at 0x1cb5e2a1668>,\n",
       " <matplotlib.patches.Polygon at 0x1cb5e2a1908>,\n",
       " <matplotlib.patches.Polygon at 0x1cb5e2a1ba8>,\n",
       " <matplotlib.patches.Polygon at 0x1cb5e2a1e48>,\n",
       " <matplotlib.patches.Polygon at 0x1cb5e2ab128>,\n",
       " <matplotlib.patches.Polygon at 0x1cb5e2ab3c8>,\n",
       " <matplotlib.patches.Polygon at 0x1cb5e2ab668>,\n",
       " <matplotlib.patches.Polygon at 0x1cb5e2ab908>,\n",
       " <matplotlib.patches.Polygon at 0x1cb5e2abba8>,\n",
       " <matplotlib.patches.Polygon at 0x1cb5e2abe48>,\n",
       " <matplotlib.patches.Polygon at 0x1cb5e2bb128>,\n",
       " <matplotlib.patches.Polygon at 0x1cb5e2bb3c8>,\n",
       " <matplotlib.patches.Polygon at 0x1cb5e2bb668>,\n",
       " <matplotlib.patches.Polygon at 0x1cb5e2bb908>,\n",
       " <matplotlib.patches.Polygon at 0x1cb5e2bbba8>,\n",
       " <matplotlib.patches.Polygon at 0x1cb5e2bbe48>,\n",
       " <matplotlib.patches.Polygon at 0x1cb5e2d5128>,\n",
       " <matplotlib.patches.Polygon at 0x1cb5e2d53c8>,\n",
       " <matplotlib.patches.Polygon at 0x1cb5e2d5668>,\n",
       " <matplotlib.patches.Polygon at 0x1cb5e2d5908>,\n",
       " <matplotlib.patches.Polygon at 0x1cb5e2d5be0>,\n",
       " <matplotlib.patches.Polygon at 0x1cb5e2d5e48>,\n",
       " <matplotlib.patches.Polygon at 0x1cb5e2ea128>,\n",
       " <matplotlib.patches.Polygon at 0x1cb5e2ea3c8>,\n",
       " <matplotlib.patches.Polygon at 0x1cb5e2ea668>,\n",
       " <matplotlib.patches.Polygon at 0x1cb5e2ea908>,\n",
       " <matplotlib.patches.Polygon at 0x1cb5e2eaba8>,\n",
       " <matplotlib.patches.Polygon at 0x1cb5e2eae48>,\n",
       " <matplotlib.patches.Polygon at 0x1cb5e207128>,\n",
       " <matplotlib.patches.Polygon at 0x1cb5e2073c8>,\n",
       " <matplotlib.patches.Polygon at 0x1cb5e207668>,\n",
       " <matplotlib.patches.Polygon at 0x1cb5e207908>,\n",
       " <matplotlib.patches.Polygon at 0x1cb5e207be0>,\n",
       " <matplotlib.patches.Polygon at 0x1cb5e207e48>]"
      ]
     },
     "execution_count": 8,
     "metadata": {},
     "output_type": "execute_result"
    },
    {
     "data": {
      "text/plain": [
       "<matplotlib.collections.LineCollection at 0x1cb5e207fd0>"
      ]
     },
     "execution_count": 8,
     "metadata": {},
     "output_type": "execute_result"
    },
    {
     "data": {
      "text/plain": [
       "<matplotlib.collections.LineCollection at 0x1cb5e207f98>"
      ]
     },
     "execution_count": 8,
     "metadata": {},
     "output_type": "execute_result"
    },
    {
     "data": {
      "text/plain": [
       "[<matplotlib.lines.Line2D at 0x1cb5e2cbbe0>]"
      ]
     },
     "execution_count": 8,
     "metadata": {},
     "output_type": "execute_result"
    },
    {
     "data": {
      "text/plain": [
       "Text(0.5, 1.0, 'Filtered occurrences for Tragelaphus strepsiceros')"
      ]
     },
     "execution_count": 8,
     "metadata": {},
     "output_type": "execute_result"
    },
    {
     "data": {
      "text/plain": [
       "<matplotlib.patches.Rectangle at 0x1cb5e311390>"
      ]
     },
     "execution_count": 8,
     "metadata": {},
     "output_type": "execute_result"
    },
    {
     "data": {
      "text/plain": [
       "[<matplotlib.patches.Polygon at 0x1cb5e32e940>,\n",
       " <matplotlib.patches.Polygon at 0x1cb5e32ec50>,\n",
       " <matplotlib.patches.Polygon at 0x1cb5e32ef28>,\n",
       " <matplotlib.patches.Polygon at 0x1cb5e293278>,\n",
       " <matplotlib.patches.Polygon at 0x1cb5e293518>,\n",
       " <matplotlib.patches.Polygon at 0x1cb5e2937b8>,\n",
       " <matplotlib.patches.Polygon at 0x1cb5e293a58>,\n",
       " <matplotlib.patches.Polygon at 0x1cb5e293cf8>,\n",
       " <matplotlib.patches.Polygon at 0x1cb5e293f98>,\n",
       " <matplotlib.patches.Polygon at 0x1cb5e287278>,\n",
       " <matplotlib.patches.Polygon at 0x1cb5e287518>,\n",
       " <matplotlib.patches.Polygon at 0x1cb5e2877b8>,\n",
       " <matplotlib.patches.Polygon at 0x1cb5e287a58>,\n",
       " <matplotlib.patches.Polygon at 0x1cb5e287cf8>,\n",
       " <matplotlib.patches.Polygon at 0x1cb5e287f98>,\n",
       " <matplotlib.patches.Polygon at 0x1cb5f3eb278>,\n",
       " <matplotlib.patches.Polygon at 0x1cb5f3eb518>,\n",
       " <matplotlib.patches.Polygon at 0x1cb5f3eb7b8>,\n",
       " <matplotlib.patches.Polygon at 0x1cb5f3eba58>,\n",
       " <matplotlib.patches.Polygon at 0x1cb5f3ebcf8>,\n",
       " <matplotlib.patches.Polygon at 0x1cb5f3ebf98>,\n",
       " <matplotlib.patches.Polygon at 0x1cb5f3fd278>,\n",
       " <matplotlib.patches.Polygon at 0x1cb5f3fd518>,\n",
       " <matplotlib.patches.Polygon at 0x1cb5f3fd7b8>,\n",
       " <matplotlib.patches.Polygon at 0x1cb5f3fda58>,\n",
       " <matplotlib.patches.Polygon at 0x1cb5f3fdcf8>,\n",
       " <matplotlib.patches.Polygon at 0x1cb5f3fdf98>,\n",
       " <matplotlib.patches.Polygon at 0x1cb5f416278>,\n",
       " <matplotlib.patches.Polygon at 0x1cb5f416518>,\n",
       " <matplotlib.patches.Polygon at 0x1cb5f4167b8>,\n",
       " <matplotlib.patches.Polygon at 0x1cb5f416a58>,\n",
       " <matplotlib.patches.Polygon at 0x1cb5f416cf8>,\n",
       " <matplotlib.patches.Polygon at 0x1cb5f416f98>,\n",
       " <matplotlib.patches.Polygon at 0x1cb5ef84278>,\n",
       " <matplotlib.patches.Polygon at 0x1cb5ef84518>,\n",
       " <matplotlib.patches.Polygon at 0x1cb5ef847b8>,\n",
       " <matplotlib.patches.Polygon at 0x1cb5ef84a58>,\n",
       " <matplotlib.patches.Polygon at 0x1cb5ef84cf8>,\n",
       " <matplotlib.patches.Polygon at 0x1cb5ef84f98>,\n",
       " <matplotlib.patches.Polygon at 0x1cb5ef98278>,\n",
       " <matplotlib.patches.Polygon at 0x1cb5ef98518>,\n",
       " <matplotlib.patches.Polygon at 0x1cb5ef987b8>,\n",
       " <matplotlib.patches.Polygon at 0x1cb5ef98a58>,\n",
       " <matplotlib.patches.Polygon at 0x1cb5ef98cf8>,\n",
       " <matplotlib.patches.Polygon at 0x1cb5ef98f98>,\n",
       " <matplotlib.patches.Polygon at 0x1cb5efa6278>,\n",
       " <matplotlib.patches.Polygon at 0x1cb5efa6518>,\n",
       " <matplotlib.patches.Polygon at 0x1cb5efa67b8>,\n",
       " <matplotlib.patches.Polygon at 0x1cb5efa6a58>,\n",
       " <matplotlib.patches.Polygon at 0x1cb5efa6cf8>,\n",
       " <matplotlib.patches.Polygon at 0x1cb5efa6f98>,\n",
       " <matplotlib.patches.Polygon at 0x1cb5efb4278>,\n",
       " <matplotlib.patches.Polygon at 0x1cb5efb4518>,\n",
       " <matplotlib.patches.Polygon at 0x1cb5efb47b8>,\n",
       " <matplotlib.patches.Polygon at 0x1cb5efb4a58>,\n",
       " <matplotlib.patches.Polygon at 0x1cb5efb4cf8>,\n",
       " <matplotlib.patches.Polygon at 0x1cb5efb4f98>,\n",
       " <matplotlib.patches.Polygon at 0x1cb5e379278>,\n",
       " <matplotlib.patches.Polygon at 0x1cb5e379518>,\n",
       " <matplotlib.patches.Polygon at 0x1cb5e3797b8>,\n",
       " <matplotlib.patches.Polygon at 0x1cb5e379a58>,\n",
       " <matplotlib.patches.Polygon at 0x1cb5e379cf8>,\n",
       " <matplotlib.patches.Polygon at 0x1cb5e379f98>,\n",
       " <matplotlib.patches.Polygon at 0x1cb5e387278>,\n",
       " <matplotlib.patches.Polygon at 0x1cb5e387518>,\n",
       " <matplotlib.patches.Polygon at 0x1cb5e3877b8>,\n",
       " <matplotlib.patches.Polygon at 0x1cb5e387a58>,\n",
       " <matplotlib.patches.Polygon at 0x1cb5e387cf8>,\n",
       " <matplotlib.patches.Polygon at 0x1cb5e387f98>,\n",
       " <matplotlib.patches.Polygon at 0x1cb5e398278>,\n",
       " <matplotlib.patches.Polygon at 0x1cb5e398518>,\n",
       " <matplotlib.patches.Polygon at 0x1cb5e3987b8>,\n",
       " <matplotlib.patches.Polygon at 0x1cb5e398a58>,\n",
       " <matplotlib.patches.Polygon at 0x1cb5e398cf8>,\n",
       " <matplotlib.patches.Polygon at 0x1cb5e398f98>,\n",
       " <matplotlib.patches.Polygon at 0x1cb5e3a6278>,\n",
       " <matplotlib.patches.Polygon at 0x1cb5e3a6518>,\n",
       " <matplotlib.patches.Polygon at 0x1cb5e3a67b8>,\n",
       " <matplotlib.patches.Polygon at 0x1cb5e3a6a58>,\n",
       " <matplotlib.patches.Polygon at 0x1cb5e3a6cf8>,\n",
       " <matplotlib.patches.Polygon at 0x1cb5e3a6f98>,\n",
       " <matplotlib.patches.Polygon at 0x1cb5f2a82b0>,\n",
       " <matplotlib.patches.Polygon at 0x1cb5f2a8518>,\n",
       " <matplotlib.patches.Polygon at 0x1cb5f2a87b8>,\n",
       " <matplotlib.patches.Polygon at 0x1cb5f2a8a58>,\n",
       " <matplotlib.patches.Polygon at 0x1cb5f2a8cf8>,\n",
       " <matplotlib.patches.Polygon at 0x1cb5f2a8f98>,\n",
       " <matplotlib.patches.Polygon at 0x1cb5f2b6278>,\n",
       " <matplotlib.patches.Polygon at 0x1cb5f2b6518>,\n",
       " <matplotlib.patches.Polygon at 0x1cb5f2b67b8>,\n",
       " <matplotlib.patches.Polygon at 0x1cb5f2b6a58>,\n",
       " <matplotlib.patches.Polygon at 0x1cb5f2b6cf8>,\n",
       " <matplotlib.patches.Polygon at 0x1cb5f2b6f98>,\n",
       " <matplotlib.patches.Polygon at 0x1cb5f2c6278>,\n",
       " <matplotlib.patches.Polygon at 0x1cb5f2c6518>,\n",
       " <matplotlib.patches.Polygon at 0x1cb5f2c67b8>,\n",
       " <matplotlib.patches.Polygon at 0x1cb5f2c6a58>,\n",
       " <matplotlib.patches.Polygon at 0x1cb5f2c6cf8>,\n",
       " <matplotlib.patches.Polygon at 0x1cb5f2c6f98>,\n",
       " <matplotlib.patches.Polygon at 0x1cb5f2d6278>,\n",
       " <matplotlib.patches.Polygon at 0x1cb5f2d6518>,\n",
       " <matplotlib.patches.Polygon at 0x1cb5f2d67b8>,\n",
       " <matplotlib.patches.Polygon at 0x1cb5f2d6a58>]"
      ]
     },
     "execution_count": 8,
     "metadata": {},
     "output_type": "execute_result"
    },
    {
     "data": {
      "text/plain": [
       "<matplotlib.collections.LineCollection at 0x1cb5f2d6be0>"
      ]
     },
     "execution_count": 8,
     "metadata": {},
     "output_type": "execute_result"
    },
    {
     "data": {
      "text/plain": [
       "<matplotlib.collections.LineCollection at 0x1cb5f2d6c88>"
      ]
     },
     "execution_count": 8,
     "metadata": {},
     "output_type": "execute_result"
    },
    {
     "data": {
      "text/plain": [
       "[<matplotlib.lines.Line2D at 0x1cb5f367d30>]"
      ]
     },
     "execution_count": 8,
     "metadata": {},
     "output_type": "execute_result"
    },
    {
     "data": {
      "text/plain": [
       "Text(0.5, 1.0, 'Filtered occurrences for Tragulus kanchil')"
      ]
     },
     "execution_count": 8,
     "metadata": {},
     "output_type": "execute_result"
    },
    {
     "data": {
      "text/plain": [
       "<matplotlib.patches.Rectangle at 0x1cb5e285c50>"
      ]
     },
     "execution_count": 8,
     "metadata": {},
     "output_type": "execute_result"
    },
    {
     "data": {
      "text/plain": [
       "[<matplotlib.patches.Polygon at 0x1cb60ada2b0>,\n",
       " <matplotlib.patches.Polygon at 0x1cb60ada5c0>,\n",
       " <matplotlib.patches.Polygon at 0x1cb60ada898>,\n",
       " <matplotlib.patches.Polygon at 0x1cb60ada940>,\n",
       " <matplotlib.patches.Polygon at 0x1cb60adae80>,\n",
       " <matplotlib.patches.Polygon at 0x1cb60ac5160>,\n",
       " <matplotlib.patches.Polygon at 0x1cb60ac5400>,\n",
       " <matplotlib.patches.Polygon at 0x1cb60ac56a0>,\n",
       " <matplotlib.patches.Polygon at 0x1cb60ac5940>,\n",
       " <matplotlib.patches.Polygon at 0x1cb60ac5be0>,\n",
       " <matplotlib.patches.Polygon at 0x1cb60ac5e80>,\n",
       " <matplotlib.patches.Polygon at 0x1cb60afb160>,\n",
       " <matplotlib.patches.Polygon at 0x1cb60afb400>,\n",
       " <matplotlib.patches.Polygon at 0x1cb60afb6a0>,\n",
       " <matplotlib.patches.Polygon at 0x1cb60afb940>,\n",
       " <matplotlib.patches.Polygon at 0x1cb60afbbe0>,\n",
       " <matplotlib.patches.Polygon at 0x1cb60afbe80>,\n",
       " <matplotlib.patches.Polygon at 0x1cb60b08160>,\n",
       " <matplotlib.patches.Polygon at 0x1cb60b08400>,\n",
       " <matplotlib.patches.Polygon at 0x1cb60b086a0>,\n",
       " <matplotlib.patches.Polygon at 0x1cb60b08940>,\n",
       " <matplotlib.patches.Polygon at 0x1cb60b08be0>,\n",
       " <matplotlib.patches.Polygon at 0x1cb60b08e80>,\n",
       " <matplotlib.patches.Polygon at 0x1cb60b1a160>,\n",
       " <matplotlib.patches.Polygon at 0x1cb60b1a400>,\n",
       " <matplotlib.patches.Polygon at 0x1cb60b1a6a0>,\n",
       " <matplotlib.patches.Polygon at 0x1cb60b1a940>,\n",
       " <matplotlib.patches.Polygon at 0x1cb60b1abe0>,\n",
       " <matplotlib.patches.Polygon at 0x1cb60b1ae80>,\n",
       " <matplotlib.patches.Polygon at 0x1cb5f2fe160>,\n",
       " <matplotlib.patches.Polygon at 0x1cb5f2fe400>,\n",
       " <matplotlib.patches.Polygon at 0x1cb5f2fe6a0>,\n",
       " <matplotlib.patches.Polygon at 0x1cb5f2fe940>,\n",
       " <matplotlib.patches.Polygon at 0x1cb5f2febe0>,\n",
       " <matplotlib.patches.Polygon at 0x1cb5f2fee80>,\n",
       " <matplotlib.patches.Polygon at 0x1cb5f2e2160>,\n",
       " <matplotlib.patches.Polygon at 0x1cb5f2e2400>,\n",
       " <matplotlib.patches.Polygon at 0x1cb5f2e26a0>,\n",
       " <matplotlib.patches.Polygon at 0x1cb5f2e2940>,\n",
       " <matplotlib.patches.Polygon at 0x1cb5f2e2be0>,\n",
       " <matplotlib.patches.Polygon at 0x1cb5f2e2e80>,\n",
       " <matplotlib.patches.Polygon at 0x1cb5e382160>,\n",
       " <matplotlib.patches.Polygon at 0x1cb5e382400>,\n",
       " <matplotlib.patches.Polygon at 0x1cb5e3826a0>,\n",
       " <matplotlib.patches.Polygon at 0x1cb5e382940>,\n",
       " <matplotlib.patches.Polygon at 0x1cb5e382be0>,\n",
       " <matplotlib.patches.Polygon at 0x1cb5e382e80>,\n",
       " <matplotlib.patches.Polygon at 0x1cb5e397160>,\n",
       " <matplotlib.patches.Polygon at 0x1cb5e397400>,\n",
       " <matplotlib.patches.Polygon at 0x1cb5e3976a0>,\n",
       " <matplotlib.patches.Polygon at 0x1cb5e397940>,\n",
       " <matplotlib.patches.Polygon at 0x1cb5e397be0>,\n",
       " <matplotlib.patches.Polygon at 0x1cb5e397e80>,\n",
       " <matplotlib.patches.Polygon at 0x1cb5ef86160>,\n",
       " <matplotlib.patches.Polygon at 0x1cb5ef86400>,\n",
       " <matplotlib.patches.Polygon at 0x1cb5ef866a0>,\n",
       " <matplotlib.patches.Polygon at 0x1cb5ef86940>,\n",
       " <matplotlib.patches.Polygon at 0x1cb5ef86be0>,\n",
       " <matplotlib.patches.Polygon at 0x1cb5ef86e80>,\n",
       " <matplotlib.patches.Polygon at 0x1cb5ef9b160>,\n",
       " <matplotlib.patches.Polygon at 0x1cb5ef9b400>,\n",
       " <matplotlib.patches.Polygon at 0x1cb5ef9b6a0>,\n",
       " <matplotlib.patches.Polygon at 0x1cb5ef9b940>,\n",
       " <matplotlib.patches.Polygon at 0x1cb5ef9bbe0>,\n",
       " <matplotlib.patches.Polygon at 0x1cb5ef9be80>,\n",
       " <matplotlib.patches.Polygon at 0x1cb5efae160>,\n",
       " <matplotlib.patches.Polygon at 0x1cb5efae400>,\n",
       " <matplotlib.patches.Polygon at 0x1cb5efae6a0>,\n",
       " <matplotlib.patches.Polygon at 0x1cb5efae940>,\n",
       " <matplotlib.patches.Polygon at 0x1cb5efaebe0>,\n",
       " <matplotlib.patches.Polygon at 0x1cb5efaee80>,\n",
       " <matplotlib.patches.Polygon at 0x1cb5f2c2160>,\n",
       " <matplotlib.patches.Polygon at 0x1cb5f2c2400>,\n",
       " <matplotlib.patches.Polygon at 0x1cb5f2c26a0>,\n",
       " <matplotlib.patches.Polygon at 0x1cb5f2c2940>,\n",
       " <matplotlib.patches.Polygon at 0x1cb5f2c2be0>,\n",
       " <matplotlib.patches.Polygon at 0x1cb5f2c2e80>,\n",
       " <matplotlib.patches.Polygon at 0x1cb5f2da160>,\n",
       " <matplotlib.patches.Polygon at 0x1cb5f2da438>,\n",
       " <matplotlib.patches.Polygon at 0x1cb5f2da6a0>,\n",
       " <matplotlib.patches.Polygon at 0x1cb5f2da940>,\n",
       " <matplotlib.patches.Polygon at 0x1cb5f2dabe0>,\n",
       " <matplotlib.patches.Polygon at 0x1cb5f2dae80>,\n",
       " <matplotlib.patches.Polygon at 0x1cb5f2ad160>,\n",
       " <matplotlib.patches.Polygon at 0x1cb5f2ad400>,\n",
       " <matplotlib.patches.Polygon at 0x1cb5f2ad6a0>,\n",
       " <matplotlib.patches.Polygon at 0x1cb5f2ad940>,\n",
       " <matplotlib.patches.Polygon at 0x1cb5f2adbe0>,\n",
       " <matplotlib.patches.Polygon at 0x1cb5f2ade80>,\n",
       " <matplotlib.patches.Polygon at 0x1cb5f3a4160>,\n",
       " <matplotlib.patches.Polygon at 0x1cb5f3a4400>,\n",
       " <matplotlib.patches.Polygon at 0x1cb5f3a46a0>,\n",
       " <matplotlib.patches.Polygon at 0x1cb5f3a4940>,\n",
       " <matplotlib.patches.Polygon at 0x1cb5f3a4be0>,\n",
       " <matplotlib.patches.Polygon at 0x1cb5f3a4e80>,\n",
       " <matplotlib.patches.Polygon at 0x1cb5f3b9160>,\n",
       " <matplotlib.patches.Polygon at 0x1cb5f3b9400>,\n",
       " <matplotlib.patches.Polygon at 0x1cb5f3b96a0>,\n",
       " <matplotlib.patches.Polygon at 0x1cb5f3b9940>]"
      ]
     },
     "execution_count": 8,
     "metadata": {},
     "output_type": "execute_result"
    },
    {
     "data": {
      "text/plain": [
       "<matplotlib.collections.LineCollection at 0x1cb5f3b9a90>"
      ]
     },
     "execution_count": 8,
     "metadata": {},
     "output_type": "execute_result"
    },
    {
     "data": {
      "text/plain": [
       "<matplotlib.collections.LineCollection at 0x1cb5f3b9fd0>"
      ]
     },
     "execution_count": 8,
     "metadata": {},
     "output_type": "execute_result"
    },
    {
     "data": {
      "text/plain": [
       "[<matplotlib.lines.Line2D at 0x1cb5f3d9198>]"
      ]
     },
     "execution_count": 8,
     "metadata": {},
     "output_type": "execute_result"
    },
    {
     "data": {
      "text/plain": [
       "Text(0.5, 1.0, 'Filtered occurrences for Tragulus napu')"
      ]
     },
     "execution_count": 8,
     "metadata": {},
     "output_type": "execute_result"
    },
    {
     "data": {
      "text/plain": [
       "<matplotlib.patches.Rectangle at 0x1cb5f3040f0>"
      ]
     },
     "execution_count": 8,
     "metadata": {},
     "output_type": "execute_result"
    },
    {
     "data": {
      "text/plain": [
       "[<matplotlib.patches.Polygon at 0x1cb5f35c710>,\n",
       " <matplotlib.patches.Polygon at 0x1cb5f35cb00>,\n",
       " <matplotlib.patches.Polygon at 0x1cb5f35cdd8>,\n",
       " <matplotlib.patches.Polygon at 0x1cb60bc70b8>,\n",
       " <matplotlib.patches.Polygon at 0x1cb60bc7358>,\n",
       " <matplotlib.patches.Polygon at 0x1cb60bc75f8>,\n",
       " <matplotlib.patches.Polygon at 0x1cb60bc7898>,\n",
       " <matplotlib.patches.Polygon at 0x1cb60bc7b38>,\n",
       " <matplotlib.patches.Polygon at 0x1cb60bc7dd8>,\n",
       " <matplotlib.patches.Polygon at 0x1cb60bce0b8>,\n",
       " <matplotlib.patches.Polygon at 0x1cb60bce358>,\n",
       " <matplotlib.patches.Polygon at 0x1cb60bce5f8>,\n",
       " <matplotlib.patches.Polygon at 0x1cb60bce898>,\n",
       " <matplotlib.patches.Polygon at 0x1cb60bceb38>,\n",
       " <matplotlib.patches.Polygon at 0x1cb60bcedd8>,\n",
       " <matplotlib.patches.Polygon at 0x1cb60a920b8>,\n",
       " <matplotlib.patches.Polygon at 0x1cb60a92358>,\n",
       " <matplotlib.patches.Polygon at 0x1cb60a925f8>,\n",
       " <matplotlib.patches.Polygon at 0x1cb60a92898>,\n",
       " <matplotlib.patches.Polygon at 0x1cb60a92b38>,\n",
       " <matplotlib.patches.Polygon at 0x1cb60a92dd8>,\n",
       " <matplotlib.patches.Polygon at 0x1cb60aa50b8>,\n",
       " <matplotlib.patches.Polygon at 0x1cb60aa5358>,\n",
       " <matplotlib.patches.Polygon at 0x1cb60aa55f8>,\n",
       " <matplotlib.patches.Polygon at 0x1cb60aa5898>,\n",
       " <matplotlib.patches.Polygon at 0x1cb60aa5b38>,\n",
       " <matplotlib.patches.Polygon at 0x1cb60aa5dd8>,\n",
       " <matplotlib.patches.Polygon at 0x1cb60ab70b8>,\n",
       " <matplotlib.patches.Polygon at 0x1cb60ab7358>,\n",
       " <matplotlib.patches.Polygon at 0x1cb60ab75f8>,\n",
       " <matplotlib.patches.Polygon at 0x1cb60ab7898>,\n",
       " <matplotlib.patches.Polygon at 0x1cb60ab7b38>,\n",
       " <matplotlib.patches.Polygon at 0x1cb60ab7dd8>,\n",
       " <matplotlib.patches.Polygon at 0x1cb60ac80b8>,\n",
       " <matplotlib.patches.Polygon at 0x1cb60ac8358>,\n",
       " <matplotlib.patches.Polygon at 0x1cb60ac85f8>,\n",
       " <matplotlib.patches.Polygon at 0x1cb60ac8898>,\n",
       " <matplotlib.patches.Polygon at 0x1cb60ac8b38>]"
      ]
     },
     "execution_count": 8,
     "metadata": {},
     "output_type": "execute_result"
    },
    {
     "data": {
      "text/plain": [
       "<matplotlib.collections.LineCollection at 0x1cb60ac8c88>"
      ]
     },
     "execution_count": 8,
     "metadata": {},
     "output_type": "execute_result"
    },
    {
     "data": {
      "text/plain": [
       "<matplotlib.collections.LineCollection at 0x1cb60ac8d68>"
      ]
     },
     "execution_count": 8,
     "metadata": {},
     "output_type": "execute_result"
    },
    {
     "data": {
      "text/plain": [
       "[<matplotlib.lines.Line2D at 0x1cb60adda58>]"
      ]
     },
     "execution_count": 8,
     "metadata": {},
     "output_type": "execute_result"
    },
    {
     "data": {
      "text/plain": [
       "Text(0.5, 1.0, 'Filtered occurrences for Vicugna vicugna')"
      ]
     },
     "execution_count": 8,
     "metadata": {},
     "output_type": "execute_result"
    }
   ],
   "source": [
    "%%capture\n",
    "for key in species_occ_dict:\n",
    "    data = species_occ_dict[key]\n",
    "    spec = data[\"species\"][0]\n",
    "    spec=spec.replace(\" \",\"_\")\n",
    "    #lat = data[\"decimal_latitude\"]\n",
    "    #lon = data[\"decimal_longitude\"]\n",
    "     \n",
    "    data['coordinates'] = list(zip(data[\"decimal_longitude\"], data[\"decimal_latitude\"]))\n",
    "    data['coordinates'] = data[\"coordinates\"].apply(Point)\n",
    "    data[\"present/pseudo_absent\"]=1\n",
    "    geo_data=geopandas.GeoDataFrame(data, geometry='coordinates',crs={'init' :'epsg:4326'})\n",
    "    \n",
    "    lat=data[\"decimal_latitude\"]\n",
    "    lon=data[\"decimal_longitude\"]\n",
    "    meanlat=sum(lat)/len(lat)\n",
    "    meanlon=sum(lon)/len(lon)\n",
    "       \n",
    "    #change projection to azimuthal equidistant to be able to plot  points on aeqd map\n",
    "    geo_data = geo_data.to_crs({'init': 'esri:54032'}) \n",
    "    \n",
    "    fig=plt.figure(figsize=(12, 12))\n",
    "    map = Basemap(projection=\"aeqd\",resolution=\"l\", ellps=\"WGS84\",\n",
    "        lat_0=meanlat,lon_0=meanlon,\n",
    "        width=3000*2500,height=3000*2500,\n",
    "        suppress_ticks=False,)\n",
    "    \n",
    "    map.drawmapboundary(fill_color='white')\n",
    "    map.fillcontinents(color='lightgray',lake_color='white')\n",
    "    map.drawcountries(color=\"gray\")\n",
    "    map.drawcoastlines(linewidth=0.2)\n",
    "\n",
    "    points_x=[]\n",
    "    points_y=[]\n",
    "    \n",
    "    for i in range(0,len(lon)):\n",
    "        xpt,ypt = map(lon[i],lat[i])\n",
    "        points_x.append(xpt)\n",
    "        points_y.append(ypt)\n",
    "    map.plot(points_x,points_y,\"ko\",markersize=5,color=\"yellow\",markeredgecolor=\"black\")\n",
    "    speci=spec.replace(\"_\",\" \")\n",
    "    plt.title(\"Filtered occurrences for %s\"%speci,fontsize=20,fontweight=\"bold\")\n",
    "    plt.savefig(file_dir+'/results/{}/{}_occurrence_map.png'.format(spec,spec),pad_inches=0.0, bbox_inches='tight')\n",
    "    #plt.show()\n",
    "    plt.close()"
   ]
  },
  {
   "cell_type": "code",
   "execution_count": null,
   "metadata": {},
   "outputs": [],
   "source": []
  }
 ],
 "metadata": {
  "kernelspec": {
   "display_name": "Python 3",
   "language": "python",
   "name": "python3"
  },
  "language_info": {
   "codemirror_mode": {
    "name": "ipython",
    "version": 3
   },
   "file_extension": ".py",
   "mimetype": "text/x-python",
   "name": "python",
   "nbconvert_exporter": "python",
   "pygments_lexer": "ipython3",
   "version": "3.6.1"
  }
 },
 "nbformat": 4,
 "nbformat_minor": 2
}
