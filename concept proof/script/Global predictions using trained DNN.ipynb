{
 "cells": [
  {
   "cell_type": "code",
   "execution_count": 1,
   "metadata": {},
   "outputs": [],
   "source": [
    "from IPython.core.interactiveshell import InteractiveShell\n",
    "InteractiveShell.ast_node_interactivity = \"all\""
   ]
  },
  {
   "cell_type": "code",
   "execution_count": 2,
   "metadata": {},
   "outputs": [
    {
     "name": "stderr",
     "output_type": "stream",
     "text": [
      "Using TensorFlow backend.\n"
     ]
    }
   ],
   "source": [
    "from __future__ import print_function\n",
    "\n",
    "import os\n",
    "\n",
    "import matplotlib.pyplot as plt\n",
    "import rasterio\n",
    "from rasterio.plot import show\n",
    "import numpy as np\n",
    "import pandas as pd\n",
    "import time\n",
    "\n",
    "\n",
    "try:\n",
    "    import keras\n",
    "    from imblearn.keras import balanced_batch_generator\n",
    "    from imblearn.under_sampling import NearMiss\n",
    "    import keras.backend as K\n",
    "    from keras.models import Sequential\n",
    "    from keras.models import model_from_json\n",
    "    from keras.layers import Dense, Dropout, Activation\n",
    "    from keras.optimizers import RMSprop\n",
    "    from keras.optimizers import Adam\n",
    "    from keras.optimizers import Adagrad\n",
    "    from keras.optimizers import SGD\n",
    "    from keras.callbacks import LambdaCallback, ReduceLROnPlateau, ModelCheckpoint\n",
    "    from keras.layers.core import Lambda\n",
    "    from keras.losses import categorical_crossentropy\n",
    "    import tensorflow as tf\n",
    "    from keras import regularizers\n",
    "\n",
    "except:\n",
    "    print(\"Keras not found\")\n",
    "    \n",
    "np.random.seed(42)\n",
    "\n",
    "\n",
    "def my_basename(path):\n",
    "    return os.path.splitext(os.path.split(path)[1])[0]\n",
    "\n",
    "file_dir=r'C:/Users/Mark.Rademaker/PycharmProjects/InternshipNaturalis/trait-geo-diverse-dl/concept proof'"
   ]
  },
  {
   "cell_type": "code",
   "execution_count": 3,
   "metadata": {},
   "outputs": [],
   "source": [
    "#access file with list of taxa names\n",
    "taxa=pd.read_csv(file_dir+\"/data/spec_filtered/taxa.txt\",header=None)\n",
    "taxa.columns=[\"taxon\"] "
   ]
  },
  {
   "cell_type": "code",
   "execution_count": 16,
   "metadata": {},
   "outputs": [
    {
     "name": "stdout",
     "output_type": "stream",
     "text": [
      "Loaded model from disk\n",
      "-0.9177045822143555 -0.02299213409423828 0.0 -0.1629467010498047\n",
      "-0.9607067108154297 -0.02297687530517578 0.0 -0.0010156631469726562\n",
      "-0.9277012348175049 -0.023992538452148438 0.0 0.0\n",
      "-0.928722620010376 -0.022994279861450195 -0.0010023117065429688 0.0\n"
     ]
    },
    {
     "ename": "KeyboardInterrupt",
     "evalue": "",
     "output_type": "error",
     "traceback": [
      "\u001b[1;31m---------------------------------------------------------------------------\u001b[0m",
      "\u001b[1;31mKeyboardInterrupt\u001b[0m                         Traceback (most recent call last)",
      "\u001b[1;32m<ipython-input-16-f66b9c6716e6>\u001b[0m in \u001b[0;36m<module>\u001b[1;34m\u001b[0m\n\u001b[0;32m     42\u001b[0m         \u001b[0mend\u001b[0m\u001b[1;33m=\u001b[0m\u001b[0mtime\u001b[0m\u001b[1;33m.\u001b[0m\u001b[0mtime\u001b[0m\u001b[1;33m(\u001b[0m\u001b[1;33m)\u001b[0m\u001b[1;33m\u001b[0m\u001b[0m\n\u001b[0;32m     43\u001b[0m         \u001b[0mstart1\u001b[0m\u001b[1;33m=\u001b[0m\u001b[0mtime\u001b[0m\u001b[1;33m.\u001b[0m\u001b[0mtime\u001b[0m\u001b[1;33m(\u001b[0m\u001b[1;33m)\u001b[0m\u001b[1;33m\u001b[0m\u001b[0m\n\u001b[1;32m---> 44\u001b[1;33m         \u001b[0mband\u001b[0m \u001b[1;33m=\u001b[0m \u001b[0msrc\u001b[0m\u001b[1;33m.\u001b[0m\u001b[0mread\u001b[0m\u001b[1;33m(\u001b[0m\u001b[0mj\u001b[0m\u001b[1;33m)\u001b[0m\u001b[1;33m\u001b[0m\u001b[0m\n\u001b[0m\u001b[0;32m     45\u001b[0m         \u001b[0mend1\u001b[0m \u001b[1;33m=\u001b[0m \u001b[0mtime\u001b[0m\u001b[1;33m.\u001b[0m\u001b[0mtime\u001b[0m\u001b[1;33m(\u001b[0m\u001b[1;33m)\u001b[0m\u001b[1;33m\u001b[0m\u001b[0m\n\u001b[0;32m     46\u001b[0m         \u001b[0mstart2\u001b[0m\u001b[1;33m=\u001b[0m\u001b[0mtime\u001b[0m\u001b[1;33m.\u001b[0m\u001b[0mtime\u001b[0m\u001b[1;33m(\u001b[0m\u001b[1;33m)\u001b[0m\u001b[1;33m\u001b[0m\u001b[0m\n",
      "\u001b[1;31mKeyboardInterrupt\u001b[0m: "
     ]
    }
   ],
   "source": [
    "pred_loc=pd.read_csv(file_dir + \"/data/GIS/world_locations_to_predict.csv\")\n",
    "lon = pred_loc[\"decimal_longitude\"]\n",
    "lat = pred_loc[\"decimal_latitude\"]\n",
    "lon = lon.to_numpy()\n",
    "lat = lat.to_numpy()\n",
    "\n",
    "\n",
    "#input stacked tiff\n",
    "src=rasterio.open(file_dir+'/data/GIS/env_stacked/ENVIREM_BIOCLIM_stacked.tif')\n",
    "profile=src.profile\n",
    "band=src.read(1) #as np array\n",
    "\n",
    "\n",
    "#for species in taxa[\"taxon\"][1:]:\n",
    "spec=\"Alcelaphus_buselaphus\"\n",
    "new_band=band.copy() # to write results in\n",
    "\n",
    "#load json and create model\n",
    "json_file = open(file_dir+'/results/DNN_model/%s_model.json'%spec,'r')\n",
    "loaded_model_json = json_file.read()\n",
    "json_file.close()\n",
    "loaded_model = model_from_json(loaded_model_json)\n",
    "\n",
    "#load weights into new model\n",
    "loaded_model.load_weights(file_dir+'/results/DNN_model/%s_model.h5'%spec)\n",
    "print('Loaded model from disk')\n",
    "\n",
    "#compile model\n",
    "loaded_model.compile(loss='categorical_crossentropy', optimizer=Adam(lr=0.001), metrics=['accuracy'])\n",
    "\n",
    "\n",
    "mean_std=pd.read_csv(file_dir+'/results/DNN_model/%s_mean_std.txt'%spec,sep='\\t')\n",
    "mean_std=mean_std.to_numpy()\n",
    "\n",
    "\n",
    "\n",
    "for i in range(1, len(pred_loc)):\n",
    "    X=[]\n",
    "    row, col = src.index(lon[i], lat[i])# spatial --> image coordinates  \n",
    "    start=time.time()\n",
    "    for j in range (1, 42):\n",
    "        end=time.time()\n",
    "        start1=time.time()\n",
    "        band = src.read(j)\n",
    "        end1 = time.time()\n",
    "        start2=time.time()\n",
    "        value = band[row,col]\n",
    "        value = ((value - mean_std.item((j-1,1))) / mean_std.item((j-1,2))) #scale value\n",
    "        X.append(value) \n",
    "        end2 = time.time()\n",
    "    if all(i >= -1000 for i in X) == True:#exclude cells that still contain no-data values (probably bordering the sea)  \n",
    "        startt=time.time()\n",
    "        X=[X]\n",
    "        X=np.vstack(X) \n",
    "        new_value = loaded_model.predict(x=X,batch_size=1,verbose=0) ###predict output value\n",
    "        new_value=new_value.item((0,1))    \n",
    "        #print('predicted prob. presence',new_value)\n",
    "        new_band[row,col]=new_value  \n",
    "        endd = time.time()\n",
    "        print(start-end,start1-end1,start2-end2,startt-endd)\n",
    "    else:\n",
    "        new_band[row,col]=0\n",
    "\n",
    "\n",
    "        \n",
    "#write to file\n",
    "with rasterio.open(file_dir+'/results/DNN_global_predictions/%s_predicted_map.tif'%spec, 'w', **profile) as dst:\n",
    "    dst.write(new_band.astype(rasterio.float32), 1)\n",
    "\n"
   ]
  },
  {
   "cell_type": "code",
   "execution_count": null,
   "metadata": {},
   "outputs": [],
   "source": []
  }
 ],
 "metadata": {
  "kernelspec": {
   "display_name": "Python 3",
   "language": "python",
   "name": "python3"
  },
  "language_info": {
   "codemirror_mode": {
    "name": "ipython",
    "version": 3
   },
   "file_extension": ".py",
   "mimetype": "text/x-python",
   "name": "python",
   "nbconvert_exporter": "python",
   "pygments_lexer": "ipython3",
   "version": "3.6.1"
  }
 },
 "nbformat": 4,
 "nbformat_minor": 2
}
