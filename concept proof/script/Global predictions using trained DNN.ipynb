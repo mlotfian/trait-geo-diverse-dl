{
 "cells": [
  {
   "cell_type": "code",
   "execution_count": 1,
   "metadata": {},
   "outputs": [],
   "source": [
    "from IPython.core.interactiveshell import InteractiveShell\n",
    "InteractiveShell.ast_node_interactivity = \"all\""
   ]
  },
  {
   "cell_type": "code",
   "execution_count": 2,
   "metadata": {},
   "outputs": [
    {
     "name": "stderr",
     "output_type": "stream",
     "text": [
      "Using TensorFlow backend.\n"
     ]
    }
   ],
   "source": [
    "from __future__ import print_function\n",
    "\n",
    "import os\n",
    "\n",
    "import matplotlib.pyplot as plt\n",
    "import rasterio\n",
    "from rasterio.plot import show\n",
    "import numpy as np\n",
    "import pandas as pd\n",
    "import time\n",
    "\n",
    "\n",
    "try:\n",
    "    import keras\n",
    "    from imblearn.keras import balanced_batch_generator\n",
    "    from imblearn.under_sampling import NearMiss\n",
    "    import keras.backend as K\n",
    "    from keras.models import Sequential\n",
    "    from keras.models import model_from_json\n",
    "    from keras.layers import Dense, Dropout, Activation\n",
    "    from keras.optimizers import RMSprop\n",
    "    from keras.optimizers import Adam\n",
    "    from keras.optimizers import Adagrad\n",
    "    from keras.optimizers import SGD\n",
    "    from keras.callbacks import LambdaCallback, ReduceLROnPlateau, ModelCheckpoint\n",
    "    from keras.layers.core import Lambda\n",
    "    from keras.losses import categorical_crossentropy\n",
    "    import tensorflow as tf\n",
    "    from keras import regularizers\n",
    "\n",
    "except:\n",
    "    print(\"Keras not found\")\n",
    "    \n",
    "np.random.seed(42)\n",
    "\n",
    "\n",
    "def my_basename(path):\n",
    "    return os.path.splitext(os.path.split(path)[1])[0]\n",
    "\n",
    "file_dir=r'C:/Users/Mark.Rademaker/PycharmProjects/InternshipNaturalis/trait-geo-diverse-dl/concept proof'"
   ]
  },
  {
   "cell_type": "markdown",
   "metadata": {},
   "source": [
    "#### Trial alternative dataset construction for faster execution"
   ]
  },
  {
   "cell_type": "markdown",
   "metadata": {},
   "source": [
    "Create input dataset for entire globe"
   ]
  },
  {
   "cell_type": "code",
   "execution_count": 3,
   "metadata": {},
   "outputs": [
    {
     "name": "stdout",
     "output_type": "stream",
     "text": [
      "(41, 1800, 4320)\n",
      "<class 'numpy.ndarray'>\n"
     ]
    }
   ],
   "source": [
    "import gdal\n",
    "\n",
    "##opening raster as 3d numpy array\n",
    "inRas=gdal.Open(file_dir+'/data/GIS/env_stacked/ENVIREM_BIOCLIM_stacked.tif')\n",
    "myarray=inRas.ReadAsArray()\n",
    "print(myarray.shape)\n",
    "print(type(myarray))\n"
   ]
  },
  {
   "cell_type": "code",
   "execution_count": null,
   "metadata": {},
   "outputs": [],
   "source": [
    "#get all col and row values for all cells on land \n",
    "df=pd.read_csv(file_dir+'/data/GIS/world_locations_to_predict.csv')\n",
    "len_pd=np.arange(len(df))\n",
    "print(len_pd)\n",
    "lon=df[\"decimal_longitude\"]\n",
    "lat=df[\"decimal_latitude\"]\n",
    "lon=lon.values\n",
    "lat=lat.values\n",
    "\n",
    "row=[]\n",
    "col=[]\n",
    "\n",
    "src=rasterio.open(file_dir+'/data/GIS/env_stacked/ENVIREM_BIOCLIM_stacked.tif')\n",
    "\n",
    "for i in len_pd:\n",
    "    row_n, col_n = src.index(lon[i], lat[i])# spatial --> image coordinates\n",
    "    row.append(row_n)\n",
    "    col.append(col_n)\n"
   ]
  },
  {
   "cell_type": "code",
   "execution_count": null,
   "metadata": {},
   "outputs": [],
   "source": [
    "#collect file with mean and std_dev for each band\n",
    "mean_std=pd.read_csv(file_dir+'/data/GIS/env_bio_mean_std.txt',sep=\"\\t\")\n",
    "mean_std=mean_std.to_numpy()\n",
    "\n",
    "\n",
    "#################################\n",
    "#extract the values for all bands and prepare input data\n",
    "#################################\n",
    "X=[]\n",
    "\n",
    "for j in range(0,41):\n",
    "    print(j)\n",
    "    #start2=time.time()\n",
    "    band=myarray[j]\n",
    "    x=[]\n",
    "\n",
    "    for i in range(0,len(row)):\n",
    "        value= band[row[i],col[i]]\n",
    "        if value <-1000:\n",
    "            value=np.nan\n",
    "            x.append(value)\n",
    "        else:\n",
    "            value = ((value - mean_std.item((j,1))) / mean_std.item((j,2)))#scale values\n",
    "            x.append(value)\n",
    "    #end2=time.time()\n",
    "    #print(j,start2-end2)\n",
    "    X.append(x)\n",
    "\n",
    "#include row and column values\n",
    "X.append(row)\n",
    "X.append(col)\n",
    "#set as numpy 2d array\n",
    "X =np.array([np.array(xi) for xi in X])\n",
    "\n",
    "df=pd.DataFrame(X)\n",
    "\n",
    "df=df.T\n",
    "df=df.dropna(axis=0, how='any')\n",
    "input_X=df.loc[:,0:40]\n",
    "\n",
    "\n",
    "row=df[41]\n",
    "col=df[42]\n",
    "\n",
    "#convert dataframe back to numpy array\n",
    "input_X=input_X.values\n",
    "#convert rows and col indices back to array\n",
    "row=row.values\n",
    "col=col.values\n",
    "\n",
    "#save\n",
    "prediction_array=np.save(file_dir+'/data/prediction_arrays/%s_prediction_array.npy'%spec,input_X)\n"
   ]
  },
  {
   "cell_type": "markdown",
   "metadata": {},
   "source": [
    "Predict species specific model on input dataset"
   ]
  },
  {
   "cell_type": "code",
   "execution_count": null,
   "metadata": {},
   "outputs": [],
   "source": [
    "#access file with list of taxa names\n",
    "taxa=pd.read_csv(file_dir+\"/results/DNN_eval.txt\",sep=\"\\t\")\n",
    "taxa=taxa[\"Species\"]"
   ]
  },
  {
   "cell_type": "code",
   "execution_count": null,
   "metadata": {},
   "outputs": [],
   "source": [
    "for species in taxa[:]:\n",
    "    start=time.time\n",
    "    #set the species \n",
    "    spec=species\n",
    "    print(\"processing\", spec)\n",
    "    spec=spec.replace(\" \",\"_\")\n",
    "\n",
    "    ################################################################################################\n",
    "    ################################################################################################\n",
    "    #   run the predictions \n",
    "    ################################################################################################\n",
    "    ################################################################################################\n",
    "    \n",
    "    input_X=np.load(file_dir+'/data/prediction_arrays/%s_prediction_array.npy'%spec)\n",
    "\n",
    "    #create copy of band to later subset values in\n",
    "    new_band=myarray[1].copy()\n",
    "    new_band.shape\n",
    "\n",
    "\n",
    "    ### Load DNN model for the species and predict values:\n",
    "    #load json and create model\n",
    "    json_file = open(file_dir+'/results/DNN_model/%s_model.json'%spec,'r')\n",
    "    loaded_model_json = json_file.read()\n",
    "    json_file.close()\n",
    "    loaded_model = model_from_json(loaded_model_json)\n",
    "\n",
    "    #load weights into new model\n",
    "    loaded_model.load_weights(file_dir+'/results/DNN_model/%s_model.h5'%spec)\n",
    "    #print('Loaded model from disk')\n",
    "\n",
    "    #compile model\n",
    "    loaded_model.compile(loss='categorical_crossentropy', optimizer=Adam(lr=0.001), metrics=['accuracy'])\n",
    "\n",
    "    #predict values\n",
    "    new_values = loaded_model.predict(x=input_X,batch_size=500,verbose=0) ###predict output value\n",
    "\n",
    "    ##take the prob. of presence (new_value.item((0,1)))\n",
    "    new_band_values=[]\n",
    "    for i in new_values:\n",
    "        new_value=i[1]\n",
    "        new_band_values.append(new_value)\n",
    "    new_band_values=np.array(new_band_values)\n",
    "\n",
    "\n",
    "    ###############################\n",
    "    ##subset into image##\n",
    "    ###############################\n",
    "    for i in range(0,len(row)):\n",
    "        new_band[int(row[i]),int(col[i])]=new_band_values[i]\n",
    "\n",
    "    src=rasterio.open(file_dir+'/data/GIS/env_stacked/ENVIREM_BIOCLIM_stacked.tif')\n",
    "    profile=src.profile\n",
    "\n",
    "    profile.update(count=1)\n",
    "\n",
    "    #write to file\n",
    "    with rasterio.open(file_dir+'/results/DNN_global_predictions/%s_predicted_map.tif'%spec, 'w', **profile) as dst:\n",
    "        dst.write(new_band, 1) \n",
    "    \n",
    "    end=time.time\n",
    "    print(start-end)\n"
   ]
  },
  {
   "cell_type": "code",
   "execution_count": null,
   "metadata": {},
   "outputs": [],
   "source": []
  },
  {
   "cell_type": "code",
   "execution_count": null,
   "metadata": {},
   "outputs": [],
   "source": []
  },
  {
   "cell_type": "code",
   "execution_count": null,
   "metadata": {},
   "outputs": [],
   "source": []
  },
  {
   "cell_type": "code",
   "execution_count": null,
   "metadata": {},
   "outputs": [],
   "source": [
    "for species in taxa[\"taxon\"][:]:\n",
    "    try:\n",
    "        print(\"process species %s\"%species) \n",
    "        spec=species\n",
    "        spec=spec.replace(\" \",\"_\")\n",
    "        input_X=np.load(file_dir+'/data/prediction_arrays/%s_prediction_array.npy'%spec)\n",
    "       \n",
    "        #create copy of band to later subset values in\n",
    "        new_band=myarray[1].copy()\n",
    "        new_band.shape\n",
    "\n",
    "\n",
    "        ### Load DNN model for the species and predict values:\n",
    "        #load json and create model\n",
    "        json_file = open(file_dir+'/results/DNN_model/%s_model.json'%spec,'r')\n",
    "        loaded_model_json = json_file.read()\n",
    "        json_file.close()\n",
    "        loaded_model = model_from_json(loaded_model_json)\n",
    "\n",
    "        #load weights into new model\n",
    "        loaded_model.load_weights(file_dir+'/results/DNN_model/%s_model.h5'%spec)\n",
    "        print('Loaded model from disk')\n",
    "\n",
    "        #compile model\n",
    "        loaded_model.compile(loss='categorical_crossentropy', optimizer=Adam(lr=0.001), metrics=['accuracy'])\n",
    "\n",
    "        #predict values\n",
    "        new_values = loaded_model.predict(x=input_X,batch_size=500,verbose=0) ###predict output value\n",
    "\n",
    "        ##take the prob. of presence (new_value.item((0,1)))\n",
    "        new_band_values=[]\n",
    "        for i in new_values:\n",
    "            new_value=i[1]\n",
    "            new_band_values.append(new_value)\n",
    "        new_band_values=np.array(new_band_values)\n",
    "\n",
    "\n",
    "        ###############################\n",
    "        ##subset into image##\n",
    "        ###############################\n",
    "        for i in range(0,len(row)):\n",
    "            new_band[int(row[i]),int(col[i])]=new_band_values[i]\n",
    "\n",
    "        src=rasterio.open(file_dir+'/data/GIS/env_stacked/ENVIREM_BIOCLIM_stacked.tif')\n",
    "        profile=src.profile\n",
    "\n",
    "\n",
    "        profile.update(count=1)\n",
    "\n",
    "        #write to file\n",
    "        with rasterio.open(file_dir+'/results/DNN_global_predictions/%s_predicted_map.tif'%spec, 'w', **profile) as dst:\n",
    "            dst.write(new_band, 1)\n",
    "\n",
    "    \n",
    "    except:\n",
    "        pass"
   ]
  },
  {
   "cell_type": "code",
   "execution_count": null,
   "metadata": {},
   "outputs": [],
   "source": []
  },
  {
   "cell_type": "code",
   "execution_count": null,
   "metadata": {},
   "outputs": [],
   "source": [
    "#extract the values for all bands\n",
    "X=[]\n",
    "\n",
    " \n",
    "for j in range(0,41):\n",
    "    band=myarray[j]\n",
    "    x=[]\n",
    "    start=time.time()\n",
    "    \n",
    "    for i in range(0,len(row)):\n",
    "        end=time.time()\n",
    "        start2=time.time() \n",
    "        value= band[row[i],col[i]]\n",
    "        if value <-1000:\n",
    "            value=np.nan\n",
    "            x.append(value)\n",
    "        else:\n",
    "            value = ((value - mean_std.item((j,1))) / mean_std.item((j,2)))#scale values\n",
    "            x.append(value)\n",
    "        \n",
    "    X.append(x)\n",
    "    \n",
    "   "
   ]
  },
  {
   "cell_type": "code",
   "execution_count": null,
   "metadata": {},
   "outputs": [],
   "source": [
    "#include row and column values\n",
    "X.append(row)\n",
    "X.append(col)"
   ]
  },
  {
   "cell_type": "code",
   "execution_count": null,
   "metadata": {},
   "outputs": [],
   "source": [
    "#set as numpy 2d array\n",
    "X =np.array([np.array(xi) for xi in X])"
   ]
  },
  {
   "cell_type": "code",
   "execution_count": null,
   "metadata": {},
   "outputs": [],
   "source": [
    "df=pd.DataFrame(X)\n",
    "\n",
    "df=df.T\n",
    "df=df.dropna(axis=0, how='any')\n",
    "input_X=df.loc[:,0:40]\n",
    "\n",
    "row=df[41]\n",
    "col=df[42]\n",
    "\n",
    "#convert dataframe back to numpy array\n",
    "input_X=input_X.values\n",
    "#convert rows and col indices back to array\n",
    "row=row.values\n",
    "col=col.values"
   ]
  },
  {
   "cell_type": "code",
   "execution_count": null,
   "metadata": {},
   "outputs": [],
   "source": [
    "#save\n",
    "prediction_array=np.save(file_dir+'/data/prediction_array.npy',input_X)\n",
    "pred=np.load(file_dir+'/data/prediction_array.npy')\n",
    "pred.shape"
   ]
  },
  {
   "cell_type": "code",
   "execution_count": null,
   "metadata": {},
   "outputs": [],
   "source": [
    "input_X.shape\n",
    "row.shape\n",
    "col.shape"
   ]
  },
  {
   "cell_type": "code",
   "execution_count": null,
   "metadata": {},
   "outputs": [],
   "source": [
    "#for species in ....:\n",
    "\n",
    "\n",
    "#create copy of band to later subset values in\n",
    "new_band=myarray[1].copy()\n",
    "new_band.shape\n",
    "\n",
    "\n",
    "### Load DNN model for the species and predict values:\n",
    "#load json and create model\n",
    "json_file = open(file_dir+'/results/DNN_model/%s_model.json'%spec,'r')\n",
    "loaded_model_json = json_file.read()\n",
    "json_file.close()\n",
    "loaded_model = model_from_json(loaded_model_json)\n",
    "\n",
    "#load weights into new model\n",
    "loaded_model.load_weights(file_dir+'/results/DNN_model/%s_model.h5'%spec)\n",
    "print('Loaded model from disk')\n",
    "\n",
    "#compile model\n",
    "loaded_model.compile(loss='categorical_crossentropy', optimizer=Adam(lr=0.001), metrics=['accuracy'])\n",
    "\n",
    "#predict values\n",
    "new_values = loaded_model.predict(x=input_X,batch_size=500,verbose=0) ###predict output value\n",
    "\n",
    "##take the prob. of presence (new_value.item((0,1)))\n",
    "new_band_values=[]\n",
    "for i in new_values:\n",
    "    new_value=i[1]\n",
    "    new_band_values.append(new_value)\n",
    "new_band_values=np.array(new_band_values)\n",
    "\n",
    "\n",
    "\n",
    "\n",
    "\n",
    "###############################\n",
    "##subset into image##\n",
    "###############################\n",
    "for i in range(0,len(row)):\n",
    "    new_band[int(row[i]),int(col[i])]=new_band_values[i]\n",
    "\n",
    "src=rasterio.open(file_dir+'/data/GIS/env_stacked/ENVIREM_BIOCLIM_stacked.tif')\n",
    "profile=src.profile\n",
    "\n",
    "\n",
    "profile.update(count=1)\n",
    "\n",
    "#write to file\n",
    "with rasterio.open(file_dir+'/results/DNN_global_predictions/%s_predicted_map.tif'%spec, 'w', **profile) as dst:\n",
    "    dst.write(new_band, 1)\n"
   ]
  },
  {
   "cell_type": "code",
   "execution_count": null,
   "metadata": {},
   "outputs": [],
   "source": []
  },
  {
   "cell_type": "code",
   "execution_count": null,
   "metadata": {},
   "outputs": [],
   "source": [
    "new_values"
   ]
  },
  {
   "cell_type": "code",
   "execution_count": null,
   "metadata": {},
   "outputs": [],
   "source": [
    "##take the prob. of presence (new_value.item((0,1)))\n",
    "new_band_values=[]\n",
    "for i in new_values:\n",
    "    new_value=i[1]\n",
    "    new_band_values.append(new_value)\n",
    "new_band_values=np.array(new_band_values)\n",
    "print(len(new_band_values))\n",
    "print(len(row))"
   ]
  },
  {
   "cell_type": "code",
   "execution_count": null,
   "metadata": {},
   "outputs": [],
   "source": [
    "np.amax(new_band_values)\n",
    "plt.boxplot(new_band_values)"
   ]
  },
  {
   "cell_type": "code",
   "execution_count": null,
   "metadata": {},
   "outputs": [],
   "source": [
    "##subset into image\n",
    "for i in range(0,len(row)):\n",
    "    new_band[int(row[i]),int(col[i])]=new_band_values[i]\n"
   ]
  },
  {
   "cell_type": "code",
   "execution_count": null,
   "metadata": {},
   "outputs": [],
   "source": [
    "src=rasterio.open(file_dir+'/data/GIS/env_stacked/ENVIREM_BIOCLIM_stacked.tif')\n",
    "profile=src.profile\n",
    "print(profile)\n",
    "\n",
    "profile.update(count=1)\n",
    "\n",
    "#write to file\n",
    "with rasterio.open(file_dir+'/results/DNN_global_predictions/%s_predicted_map.tif'%spec, 'w', **profile) as dst:\n",
    "    dst.write(new_band, 1)\n"
   ]
  },
  {
   "cell_type": "code",
   "execution_count": null,
   "metadata": {},
   "outputs": [],
   "source": [
    "from PIL import Image\n",
    "with Image.open(file_dir+'/results/DNN_global_predictions/%s_predicted_map.tif'%spec) as img:\n",
    "    img.show()"
   ]
  },
  {
   "cell_type": "code",
   "execution_count": null,
   "metadata": {},
   "outputs": [],
   "source": [
    "import matplotlib.pyplot as plt\n",
    "from rasterio.mask import mask\n",
    "from rasterio.plot import show\n",
    "from rasterio.plot import plotting_extent\n",
    "from PIL import Image"
   ]
  },
  {
   "cell_type": "code",
   "execution_count": null,
   "metadata": {},
   "outputs": [],
   "source": [
    "clipped = rasterio.open(file_dir+'/results/DNN_global_predictions/%s_predicted_map.tif'%spec)\n",
    "array = clipped.read(1,masked=True)\n",
    "plt.imshow(array,interpolation='none', vmin=0)\n",
    "plt.show()"
   ]
  },
  {
   "cell_type": "code",
   "execution_count": null,
   "metadata": {},
   "outputs": [],
   "source": [
    "if __name__=='__main__':\n",
    "    num_processors=100\n",
    "    p=Pool(processes=num_processors)\n",
    "    output=p.map(global_pred.spec_img(\"Alcelaphus buselaphus\"),[i for i in range(0,100)])\n",
    "    print(output)"
   ]
  },
  {
   "cell_type": "code",
   "execution_count": null,
   "metadata": {},
   "outputs": [],
   "source": [
    "output=global_pred.spec_img(len_pd,len_b,lon,lat,src,mean_std)"
   ]
  }
 ],
 "metadata": {
  "kernelspec": {
   "display_name": "Python 3",
   "language": "python",
   "name": "python3"
  },
  "language_info": {
   "codemirror_mode": {
    "name": "ipython",
    "version": 3
   },
   "file_extension": ".py",
   "mimetype": "text/x-python",
   "name": "python",
   "nbconvert_exporter": "python",
   "pygments_lexer": "ipython3",
   "version": "3.6.1"
  }
 },
 "nbformat": 4,
 "nbformat_minor": 2
}
