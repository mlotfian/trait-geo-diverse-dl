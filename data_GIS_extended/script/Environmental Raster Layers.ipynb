{
 "cells": [
  {
   "cell_type": "code",
   "execution_count": 1,
   "metadata": {},
   "outputs": [],
   "source": [
    "from IPython.core.interactiveshell import InteractiveShell\n",
    "InteractiveShell.ast_node_interactivity = \"all\""
   ]
  },
  {
   "cell_type": "code",
   "execution_count": 2,
   "metadata": {},
   "outputs": [],
   "source": [
    "from shapely.geometry import Point\n",
    "import matplotlib.pyplot as plt\n",
    "import rasterio.mask\n",
    "import fiona\n",
    "from rasterio.mask import mask\n",
    "from rasterio.plot import show\n",
    "from rasterio.plot import plotting_extent\n",
    "from rasterio.warp import reproject, Resampling\n",
    "from natsort import natsorted\n",
    "import earthpy.spatial as es\n",
    "import gdal\n",
    "from osgeo import osr,gdal_array\n",
    "import xarray as xr\n",
    "import netCDF4\n",
    "import pandas as pd\n",
    "import numpy as np\n",
    "import geopandas\n",
    "import rasterio\n",
    "import pycrs\n",
    "import os\n",
    "\n",
    "file_dir=r'C:/Users/Mark.Rademaker/PycharmProjects/InternshipNaturalis/trait-geo-diverse-dl/extended model extra observations and variables'"
   ]
  },
  {
   "cell_type": "markdown",
   "metadata": {},
   "source": [
    "#### Part 1. Stacking Bioclim rasters\n",
    "- open and stack the raster files"
   ]
  },
  {
   "cell_type": "code",
   "execution_count": null,
   "metadata": {},
   "outputs": [],
   "source": [
    "#BIOCLIM dataset\n",
    "#create list of raster file locations and a list containing only the names of each raster\n",
    "list_bioclim_files=[]\n",
    "names_bioclim=[]\n",
    "\n",
    "for root, dirs, files in os.walk(file_dir+\"/data/GIS/wc5\"):\n",
    "    for file in files:\n",
    "        if file.endswith('.tif') and \"stacked\" not in file:\n",
    "            list_bioclim_files.append(file_dir+\"/data/GIS/wc5/\"+file)\n",
    "            name=file.replace(\".tif\",\"\")\n",
    "            names_bioclim.append(name)\n",
    "            names_bioclim=natsorted(names_bioclim,key=lambda y: y.lower())\n",
    "print(names_bioclim)\n",
    "#Stack ENVIREM dataset\n",
    "#es.stack(list_envirem_files, file_dir+'/data/GIS/env_stacked/BIOCLIM_stacked.tif')  "
   ]
  },
  {
   "cell_type": "markdown",
   "metadata": {},
   "source": [
    "#### Part 2. Stacking ENVIREM rasters\n",
    "- open and stack the raster files"
   ]
  },
  {
   "cell_type": "code",
   "execution_count": null,
   "metadata": {},
   "outputs": [],
   "source": [
    "#ENVIREM dataset\n",
    "#create list of raster file locations and a list containing only the names of each raster\n",
    "list_envirem_files=[]\n",
    "names_envirem=[]\n",
    "\n",
    "for root, dirs, files in os.walk(file_dir+\"/data/GIS/5_deg\"):\n",
    "    for file in files:\n",
    "        if file.endswith('.tif') and \"stacked\" not in file:\n",
    "            list_envirem_files.append(file_dir+\"/data/GIS/5_deg/\"+file)\n",
    "            name=file.replace(\".tif\",\"\")\n",
    "            names_envirem.append(name)\n",
    "            names_envirem=natsorted(names_envirem,key=lambda y: y.lower())\n",
    "print(names_envirem)\n",
    "#Stack ENVIREM dataset\n",
    "#es.stack(list_envirem_files, file_dir+'/data/GIS/env_stacked/ENVIREM_stacked.tif')"
   ]
  },
  {
   "cell_type": "markdown",
   "metadata": {},
   "source": [
    "#### Part 3. Stacking Soil rasters\n",
    "- the rasters are not yet in the right resolution (5 deg) and therefore have to be resampled before stacking"
   ]
  },
  {
   "cell_type": "code",
   "execution_count": null,
   "metadata": {},
   "outputs": [],
   "source": [
    "#source raster\n",
    "source_raster=rasterio.open(file_dir+'/data/GIS/5_deg/Aspect_5deg.tif')\n",
    "source_profile=source_raster.profile\n",
    "\n",
    "#raster to adapt\n",
    "infile=file_dir+'/data/GIS/historic_1_deg/Global_Biomass_1950-2010_1296/data/historical_global_1-degree_forest_biomass.nc4'\n",
    "dataset=netCDF4.Dataset(infile)\n",
    "\n",
    "variable_list=[]\n",
    "\n",
    "for item in dataset.variables.keys():\n",
    "    variable_list.append(item)\n",
    "print(variable_list)\n",
    "\n",
    "for item in dataset.variables.keys():\n",
    "    print(\"variable %s\"%item)\n",
    "    try:\n",
    "        with rasterio.open(r'NETCDF:'+file_dir+'/data/GIS/historic_1_deg/Global_Biomass_1950-2010_1296/data/historical_global_1-degree_forest_biomass.nc4:%s'%item) as src:\n",
    "        # Register GDAL format drivers and configuration options with a\n",
    "        # context manager.\n",
    "            for i in range(1,14):\n",
    "                print(\"band %s\"%i)\n",
    "                array=src.read(i)\n",
    "                with rasterio.Env():\n",
    "\n",
    "                    # Write an array as a raster band to a new 8-bit file. For\n",
    "                    # the new file's profile, we start with the profile of the source\n",
    "                    profile = source_profile\n",
    "\n",
    "                    # And then change the band count to 1, set the\n",
    "                    # dtype to uint8, and specify LZW compression.\n",
    "\n",
    "                    with rasterio.open(file_dir+'/data/GIS/historic_1_deg/{}_{}.tif'.format(item,i), 'w', **profile) as dst:\n",
    "                        dst.write(array.astype(rasterio.float32), 1)\n",
    "\n",
    "            # At the end of the ``with rasterio.Env()`` block, context\n",
    "            # manager exits and all drivers are de-registered.\n",
    "    except:\n",
    "        pass"
   ]
  },
  {
   "cell_type": "markdown",
   "metadata": {},
   "source": [
    "#### Part X. Create  ecobiomes raster\n",
    "- the file is still in shapefile format, must be transformed into raster in right resolution (5 deg)"
   ]
  },
  {
   "cell_type": "code",
   "execution_count": 3,
   "metadata": {},
   "outputs": [],
   "source": [
    "import geopandas as gpd\n",
    "import rasterio\n",
    "import fiona\n",
    "from rasterio import features\n",
    "import os\n",
    "from datetime import datetime as dt"
   ]
  },
  {
   "cell_type": "code",
   "execution_count": 21,
   "metadata": {},
   "outputs": [
    {
     "name": "stderr",
     "output_type": "stream",
     "text": [
      "C:\\Users\\Mark.Rademaker\\PycharmProjects\\InternshipNaturalis\\venv\\lib\\site-packages\\ipykernel_launcher.py:17: RuntimeWarning: invalid value encountered in greater\n",
      "C:\\Users\\Mark.Rademaker\\PycharmProjects\\InternshipNaturalis\\venv\\lib\\site-packages\\ipykernel_launcher.py:17: RuntimeWarning: invalid value encountered in less\n"
     ]
    }
   ],
   "source": [
    "import geopandas as gpd\n",
    "import rasterio\n",
    "from rasterio import features\n",
    "\n",
    "shp_fn=file_dir+'/data/GIS/tnc/tnc_terr_ecoregions.shp'\n",
    "rst_fn =file_dir+'/data/GIS/5_deg/Aspect_5deg.tif'\n",
    "out_fn =file_dir+'/data/GIS/tnc/ecoregions.tif'\n",
    "df=gpd.read_file(file_dir+'/data/GIS/tnc/tnc_terr_ecoregions.shp')\n",
    "\n",
    "rst = rasterio.open(rst_fn)\n",
    "meta = rst.meta.copy()\n",
    "\n",
    "\n",
    "src=rasterio.open(rst_fn)\n",
    "\n",
    "with rasterio.open(out_fn, 'w', **meta) as out:\n",
    "    out_arr = src.read(1)\n",
    "\n",
    "    # this is where we create a generator of geom, value pairs to use in rasterizing\n",
    "    shapes = ((geom,value) for geom, value in zip(df.geometry, df.WWF_MHTNUM))\n",
    "\n",
    "    burned = features.rasterize(shapes=shapes, fill=0, out=out_arr, transform=out.transform,all_touched=True)\n",
    "    out.write_band(1, burned)"
   ]
  },
  {
   "cell_type": "code",
   "execution_count": 35,
   "metadata": {},
   "outputs": [
    {
     "data": {
      "text/plain": [
       "{'driver': 'GTiff', 'dtype': 'float32', 'nodata': nan, 'width': 4320, 'height': 1800, 'count': 1, 'crs': CRS.from_dict(init='epsg:4326'), 'transform': Affine(0.08333333333333333, 0.0, -180.0,\n",
       "       0.0, -0.08333333333333333, 90.0), 'tiled': False, 'interleave': 'band'}"
      ]
     },
     "execution_count": 35,
     "metadata": {},
     "output_type": "execute_result"
    },
    {
     "name": "stderr",
     "output_type": "stream",
     "text": [
      "C:\\Users\\Mark.Rademaker\\PycharmProjects\\InternshipNaturalis\\venv\\lib\\site-packages\\ipykernel_launcher.py:3: RuntimeWarning: invalid value encountered in greater\n",
      "  This is separate from the ipykernel package so we can avoid doing imports until\n",
      "C:\\Users\\Mark.Rademaker\\PycharmProjects\\InternshipNaturalis\\venv\\lib\\site-packages\\ipykernel_launcher.py:3: RuntimeWarning: invalid value encountered in less\n",
      "  This is separate from the ipykernel package so we can avoid doing imports until\n"
     ]
    },
    {
     "data": {
      "image/png": "[encoded data removed]",
      "text/plain": [
       "<Figure size 432x288 with 1 Axes>"
      ]
     },
     "metadata": {
      "needs_background": "light"
     },
     "output_type": "display_data"
    },
    {
     "data": {
      "text/plain": [
       "<matplotlib.axes._subplots.AxesSubplot at 0x1901a977240>"
      ]
     },
     "execution_count": 35,
     "metadata": {},
     "output_type": "execute_result"
    },
    {
     "data": {
      "text/plain": [
       "{'driver': 'GTiff', 'dtype': 'float32', 'nodata': nan, 'width': 4320, 'height': 1800, 'count': 1, 'crs': CRS.from_dict(init='epsg:4326'), 'transform': Affine(0.08333333333333333, 0.0, -180.0,\n",
       "       0.0, -0.08333333333333333, 90.0), 'tiled': False, 'interleave': 'band'}"
      ]
     },
     "execution_count": 35,
     "metadata": {},
     "output_type": "execute_result"
    },
    {
     "name": "stderr",
     "output_type": "stream",
     "text": [
      "C:\\Users\\Mark.Rademaker\\PycharmProjects\\InternshipNaturalis\\venv\\lib\\site-packages\\ipykernel_launcher.py:8: RuntimeWarning: invalid value encountered in greater\n",
      "  \n",
      "C:\\Users\\Mark.Rademaker\\PycharmProjects\\InternshipNaturalis\\venv\\lib\\site-packages\\ipykernel_launcher.py:8: RuntimeWarning: invalid value encountered in less\n",
      "  \n",
      "C:\\Users\\Mark.Rademaker\\PycharmProjects\\InternshipNaturalis\\venv\\lib\\site-packages\\ipykernel_launcher.py:9: RuntimeWarning: invalid value encountered in greater\n",
      "  if __name__ == '__main__':\n",
      "C:\\Users\\Mark.Rademaker\\PycharmProjects\\InternshipNaturalis\\venv\\lib\\site-packages\\ipykernel_launcher.py:9: RuntimeWarning: invalid value encountered in less\n",
      "  if __name__ == '__main__':\n"
     ]
    },
    {
     "data": {
      "text/plain": [
       "masked_array(\n",
       "  data=[[--, --, --, ..., --, --, --],\n",
       "        [--, --, --, ..., --, --, --],\n",
       "        [--, --, --, ..., --, --, --],\n",
       "        ...,\n",
       "        [--, --, --, ..., --, --, --],\n",
       "        [--, --, --, ..., --, --, --],\n",
       "        [--, --, --, ..., --, --, --]],\n",
       "  mask=[[ True,  True,  True, ...,  True,  True,  True],\n",
       "        [ True,  True,  True, ...,  True,  True,  True],\n",
       "        [ True,  True,  True, ...,  True,  True,  True],\n",
       "        ...,\n",
       "        [ True,  True,  True, ...,  True,  True,  True],\n",
       "        [ True,  True,  True, ...,  True,  True,  True],\n",
       "        [ True,  True,  True, ...,  True,  True,  True]],\n",
       "  fill_value=nan,\n",
       "  dtype=float32)"
      ]
     },
     "execution_count": 35,
     "metadata": {},
     "output_type": "execute_result"
    },
    {
     "data": {
      "text/plain": [
       "<matplotlib.image.AxesImage at 0x1901edee128>"
      ]
     },
     "execution_count": 35,
     "metadata": {},
     "output_type": "execute_result"
    },
    {
     "data": {
      "text/plain": [
       "Text(0.5, 1.0, 'ecoregions map')"
      ]
     },
     "execution_count": 35,
     "metadata": {},
     "output_type": "execute_result"
    },
    {
     "data": {
      "text/plain": [
       "<function matplotlib.pyplot.show>"
      ]
     },
     "execution_count": 35,
     "metadata": {},
     "output_type": "execute_result"
    },
    {
     "data": {
      "image/png": "[encoded data removed]",
      "text/plain": [
       "<Figure size 1728x720 with 1 Axes>"
      ]
     },
     "metadata": {
      "needs_background": "light"
     },
     "output_type": "display_data"
    }
   ],
   "source": [
    "raster=rasterio.open(out_fn)\n",
    "raster.profile\n",
    "band=raster.read(1)\n",
    "show(band)\n",
    "\n",
    "clipped = rasterio.open(out_fn)\n",
    "clipped.profile\n",
    "array = clipped.read(1)\n",
    "array_data = clipped.read(1,masked=True)\n",
    "array_data\n",
    "array_meta = clipped.profile\n",
    "\n",
    "fig, ax = plt.subplots(figsize=(24, 10))\n",
    "ax.imshow(array_data,cmap=\"gray\",interpolation=\"none\",vmin=0,vmax=100)\n",
    "#spec=spec.replace(\"_\",\" \")\n",
    "# Here you must set the spatial extent or else the data will not line up with your geopandas layer\n",
    "ax.set_title('ecoregions map',fontsize=40)\n",
    "plt.show\n",
    "#spec=spec.replace(\" \",\"_\")\n",
    "#plt.savefig(file_dir+'/results/DNN_global_predictions/%s_predicted_map_color.tif'%spec,dpi=300)"
   ]
  },
  {
   "cell_type": "code",
   "execution_count": 23,
   "metadata": {},
   "outputs": [
    {
     "data": {
      "text/plain": [
       "array([0.000000e+00, 2.220446e-16, 4.440892e-16, ...,          nan,\n",
       "                nan,          nan], dtype=float32)"
      ]
     },
     "execution_count": 23,
     "metadata": {},
     "output_type": "execute_result"
    }
   ],
   "source": [
    "np.unique(band)"
   ]
  },
  {
   "cell_type": "code",
   "execution_count": null,
   "metadata": {},
   "outputs": [],
   "source": []
  },
  {
   "cell_type": "code",
   "execution_count": null,
   "metadata": {},
   "outputs": [],
   "source": [
    "\n",
    "\n"
   ]
  },
  {
   "cell_type": "code",
   "execution_count": null,
   "metadata": {},
   "outputs": [],
   "source": []
  },
  {
   "cell_type": "code",
   "execution_count": null,
   "metadata": {
    "scrolled": true
   },
   "outputs": [],
   "source": [
    "list_historic_files=[]\n",
    "names_historic=[]\n",
    "\n",
    "##stack the rasters\n",
    "for root, dirs, files in os.walk(file_dir+\"/data/GIS/historic_1_deg\"):\n",
    "    for file in files:\n",
    "        if file.endswith('.tif') and \"time\" not in file and \"stacked\" not in file:\n",
    "            list_historic_files.append(file_dir+\"/data/GIS/historic_1_deg/\"+file)\n",
    "            name=file.replace(\".tif\",\"\")\n",
    "            names_historic.append(name)\n",
    "  \n",
    "print(names_historic)\n",
    "#es.stack(list_historic_files, file_dir+\"/data/GIS/historic_1_deg/historic_forest_stacked.tif\")"
   ]
  },
  {
   "cell_type": "markdown",
   "metadata": {},
   "source": [
    "#### Part 4. Creating and stacking species occurrence rasters\n",
    "- we make a copy of one of a single layered raster from the envirem dataset\n",
    "- then all cell values are set to 0\n",
    "- next the cell's in which occurrence records are located are identified and their values set to 1"
   ]
  },
  {
   "cell_type": "code",
   "execution_count": null,
   "metadata": {},
   "outputs": [],
   "source": [
    "#access file with list of taxa names\n",
    "taxa=pd.read_csv(file_dir+\"/data/SQL_filtered_gbif/taxa_list.txt\",header=None)\n",
    "taxa.columns=[\"taxon\"]\n",
    "\n",
    "species_occ_dict={}\n",
    "\n",
    "for i in taxa[\"taxon\"]:\n",
    "    taxon_data = pd.read_csv(file_dir+\"/data/SQL_filtered_gbif/%s_filtered_data.csv\"%i)\n",
    "    #add species dataframe to dict\n",
    "    species_occ_dict[\"%s\"%i] = taxon_data  \n",
    "    #check whether all species have been included and inspect dictionary\n",
    "if len(species_occ_dict.keys())==len(taxa[\"taxon\"]):\n",
    "    print(\"All species dataframes now in dictionary\")\n",
    "else:\n",
    "    print(\"Error: not all species dataframe included\")"
   ]
  },
  {
   "cell_type": "code",
   "execution_count": null,
   "metadata": {},
   "outputs": [],
   "source": []
  },
  {
   "cell_type": "code",
   "execution_count": null,
   "metadata": {},
   "outputs": [],
   "source": [
    "pred_data=pd.read_csv(file_dir+'/data/GIS/world_locations_to_predict.csv')\n",
    "\n",
    "long=pred_data[\"decimal_longitude\"]\n",
    "lati=pred_data[\"decimal_latitude\"]\n",
    "long=pd.Series.tolist(long)\n",
    "lati=pd.Series.tolist(lati)\n",
    "\n",
    "src = rasterio.open(file_dir+'/data/GIS/5_deg/Aspect_5deg.tif')\n",
    "band= src.read(1,masked=True)\n",
    "rasterio.plot.show(band)\n",
    "\n",
    "new_band = band.copy()\n",
    "\n",
    "#set raster cell mask values of land area to 0 (to differentiate it from the sea)\n",
    "for i in range(0,len(pred_data)):\n",
    "    row,col=src.index(long[i],lati[i])\n",
    "    new_band[row,col]=0\n",
    "\n",
    "fig, ax = plt.subplots(figsize=(10, 10))\n",
    "ax.imshow(new_band,cmap=\"gray\")\n",
    "ax.set_title(\"land map\",\n",
    "         fontsize=20)\n",
    "plt.show()\n",
    "\n",
    "\n",
    "\n",
    "profile = src.profile\n",
    "print(profile)"
   ]
  },
  {
   "cell_type": "code",
   "execution_count": null,
   "metadata": {},
   "outputs": [],
   "source": []
  },
  {
   "cell_type": "code",
   "execution_count": null,
   "metadata": {},
   "outputs": [],
   "source": [
    "for key in species_occ_dict:\n",
    "    new_band = band.copy()\n",
    "    \n",
    "    #lon_lat presence points\n",
    "    presence_data = species_occ_dict[key]\n",
    "    presence_data[\"present/pseudo_absent\"]=1\n",
    "    spec = key\n",
    "    long=presence_data[\"decimal_longitude\"]\n",
    "    lati=presence_data[\"decimal_latitude\"]\n",
    "    long=pd.Series.tolist(long)\n",
    "    lati=pd.Series.tolist(lati)\n",
    "\n",
    "    #set raster cell mask values of presence locations to 100\n",
    "    for i in range(0,len(presence_data)):\n",
    "        row,col=src.index(long[i],lati[i])\n",
    "        new_band[row,col]=100\n",
    "        \n",
    "    rasterio.plot.show(new_band)\n",
    "    # Register GDAL format drivers and configuration options with a\n",
    "    # context manager.\n",
    "    #with rasterio.Env():\n",
    "\n",
    "    # Write an array as a raster band to a new 8-bit file. For\n",
    "    # the new file's profile, we start with the profile of the source\n",
    "\n",
    "\n",
    "    with rasterio.open(file_dir+'/data/GIS/spec_presence/%s_presence_map.tif'%spec, 'w', **profile) as dst:\n",
    "        dst.write(new_band.astype(rasterio.float32), 1)"
   ]
  },
  {
   "cell_type": "code",
   "execution_count": null,
   "metadata": {},
   "outputs": [],
   "source": [
    "####stacking them into a single raster\n",
    "#species presence dataset\n",
    "#create list of raster file locations and a list containing only the names of each raster\n",
    "list_species_files=[]\n",
    "names_species=[]\n",
    "\n",
    "for root, dirs, files in os.walk(file_dir+\"/data/GIS/spec_presence\"):\n",
    "    for file in files:\n",
    "        if file.endswith('.tif') and \"stacked\" not in file:\n",
    "            list_species_files.append(file_dir+\"/data/GIS/spec_presence/\"+file)\n",
    "            name=file.replace(\".tif\",\"\")\n",
    "            names_species.append(name)\n",
    "print(names_species)\n",
    "#es.stack(list_species_files, file_dir+\"/data/GIS/spec_presence/species_presence_stacked.tif\")"
   ]
  },
  {
   "cell_type": "code",
   "execution_count": null,
   "metadata": {},
   "outputs": [],
   "source": [
    "\n",
    "print(len(list_raster_locations))\n",
    "stacked=rasterio.open(file_dir+\"/data/GIS/spec_presence/species_presence_stacked.tif\")\n",
    "\n",
    "for i in range(1,len(list_raster_locations)):\n",
    "    band = stacked.read(i,masked=True)\n",
    "    plt.imshow(band,interpolation=\"none\")\n",
    "    plt.show()"
   ]
  },
  {
   "cell_type": "markdown",
   "metadata": {},
   "source": [
    "#### Part 5. Stack into single raster file"
   ]
  },
  {
   "cell_type": "code",
   "execution_count": null,
   "metadata": {},
   "outputs": [],
   "source": [
    "#Stack ENVIREM+BIOCLIM+HISTORIC+SPECIES dataset\n",
    "list_variables=[]\n",
    "list_names=[]\n",
    "for item in list_bioclim_files:\n",
    "    list_variables.append(item)   \n",
    "for item in list_envirem_files:\n",
    "    list_variables.append(item)\n",
    "for item in list_historic_files:\n",
    "    list_variables.append(item)\n",
    "for item in list_species_files:\n",
    "    list_variables.append(item)\n",
    "    \n",
    "es.stack(list_variables, file_dir+\"/data/GIS/env_stacked/stacked_env_variables.tif\")\n",
    "\n",
    "for item in names_bioclim:\n",
    "    list_names.append(item)   \n",
    "for item in names_envirem:\n",
    "    list_names.append(item)\n",
    "for item in names_historic:\n",
    "    list_names.append(item)\n",
    "for item in names_species:\n",
    "    list_names.append(item)\n",
    "list_names"
   ]
  },
  {
   "cell_type": "code",
   "execution_count": null,
   "metadata": {},
   "outputs": [],
   "source": [
    "###create dataset to predict on\n",
    "\n",
    " ###Dataset of world map including all locations with data-values (to later predict presence-pseudoabsence on)\n",
    "    src=rasterio.open(file_dir+'/data/GIS/env_stacked/stacked_env_variables.tif')\n",
    "    array=src.read_masks(1)\n",
    "    \n",
    "    r = gdal.Open(file_dir+'/data/GIS/env_stacked/stacked_env_variables.tif')\n",
    "    (y_index, x_index) = np.nonzero(array > 0)\n",
    "    (upper_left_x, x_size, x_rotation, upper_left_y, y_rotation, y_size) = r.GetGeoTransform()\n",
    "    x_coords = x_index * x_size + upper_left_x + (x_size / 2) #add half the cell size\n",
    "    y_coords = y_index * y_size + upper_left_y + (y_size / 2) #to centre the point\n",
    "\n",
    "    lon_lat_array=np.stack((x_coords,y_coords)).T\n",
    "\n",
    "    lon=[]\n",
    "    lat=[]\n",
    "\n",
    "    for item in lon_lat_array:\n",
    "        longitude=item[0]\n",
    "        latitude=item[1]\n",
    "        lon.append(longitude)\n",
    "        lat.append(latitude)\n",
    "\n",
    "    taxon=[\"%s\"%spec]*len(lon)\n",
    "\n",
    "    data_to_pred=pd.DataFrame({\"decimal_longitude\":lon,\"decimal_latitude\":lat})\n",
    "    print(len(data_to_pred), \"number of points to predict\")\n",
    "    data_to_pred.to_csv(file_dir + \"/data/GIS/world_locations_to_predict2.csv\")\n",
    "    \n"
   ]
  },
  {
   "cell_type": "code",
   "execution_count": null,
   "metadata": {},
   "outputs": [],
   "source": [
    "###extract raster values at world locations to predict\n",
    "data=pd.read_csv(file_dir + \"/data/GIS/world_locations_to_predict.csv\")\n",
    "src = rasterio.open(file_dir+'/data/GIS/env_stacked/stacked_env_variables.tif')\n",
    "\n",
    "lon = data[\"decimal_longitude\"]\n",
    "lat = data[\"decimal_latitude\"]\n",
    "lat = pd.Series.tolist(lat)\n",
    "lon = pd.Series.tolist(lon)\n",
    "\n",
    "for i in range(1, 348):\n",
    "    array = src.read(i)\n",
    "    band_name = list_names[i]\n",
    "    data[band_name] = None\n",
    "    print(\"processing band %s\" % i)\n",
    "    for j in range(0, len(data)):\n",
    "        # What is the corresponding row and column in our image?\n",
    "        row, col = src.index(lon[j], lat[j])  # spatial --> image coordinates\n",
    "        # print(f'row,col=\\t\\t({row},{col})')\n",
    "        # What is the value?\n",
    "        value = array[row, col]\n",
    "        data[band_name][j] = value\n",
    "data.to_csv(file_dir + \"/data/GIS/world_env_dataframe.csv\")\n",
    "\n",
    "\n",
    "\n",
    "\n"
   ]
  },
  {
   "cell_type": "code",
   "execution_count": null,
   "metadata": {},
   "outputs": [],
   "source": []
  }
 ],
 "metadata": {
  "kernelspec": {
   "display_name": "Python 3",
   "language": "python",
   "name": "python3"
  },
  "language_info": {
   "codemirror_mode": {
    "name": "ipython",
    "version": 3
   },
   "file_extension": ".py",
   "mimetype": "text/x-python",
   "name": "python",
   "nbconvert_exporter": "python",
   "pygments_lexer": "ipython3",
   "version": "3.6.1"
  }
 },
 "nbformat": 4,
 "nbformat_minor": 2
}
