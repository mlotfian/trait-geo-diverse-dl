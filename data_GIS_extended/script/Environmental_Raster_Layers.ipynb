{
 "cells": [
  {
   "cell_type": "code",
   "execution_count": 1,
   "metadata": {},
   "outputs": [],
   "source": [
    "from IPython.core.interactiveshell import InteractiveShell\n",
    "InteractiveShell.ast_node_interactivity = \"all\""
   ]
  },
  {
   "cell_type": "code",
   "execution_count": 2,
   "metadata": {},
   "outputs": [],
   "source": [
    "from shapely.geometry import Point\n",
    "import matplotlib.pyplot as plt\n",
    "import rasterio.mask\n",
    "import fiona\n",
    "from rasterio.mask import mask\n",
    "from rasterio.plot import show\n",
    "from rasterio.plot import plotting_extent\n",
    "from rasterio.warp import reproject, Resampling\n",
    "from natsort import natsorted\n",
    "import earthpy.spatial as es\n",
    "import gdal\n",
    "from osgeo import osr,gdal_array\n",
    "import xarray as xr\n",
    "import netCDF4\n",
    "import pandas as pd\n",
    "import numpy as np\n",
    "import geopandas\n",
    "import rasterio\n",
    "import pycrs\n",
    "import os\n",
    "\n",
    "file_dir=r'C:/Users/Mark.Rademaker/PycharmProjects/InternshipNaturalis/trait-geo-diverse-dl/data_GIS_extended'"
   ]
  },
  {
   "cell_type": "markdown",
   "metadata": {},
   "source": [
    "#### Part 1. Stacking Bioclim rasters\n",
    "- open and stack the raster files"
   ]
  },
  {
   "cell_type": "code",
   "execution_count": 3,
   "metadata": {},
   "outputs": [
    {
     "name": "stdout",
     "output_type": "stream",
     "text": [
      "['bio1', 'bio2', 'bio3', 'bio4', 'bio5', 'bio6', 'bio7', 'bio8', 'bio9', 'bio10', 'bio11', 'bio12', 'bio13', 'bio14', 'bio15', 'bio16', 'bio17', 'bio18', 'bio19']\n"
     ]
    }
   ],
   "source": [
    "#BIOCLIM dataset\n",
    "#create list of raster file locations and a list containing only the names of each raster\n",
    "list_bioclim_files=[]\n",
    "names_bioclim=[]\n",
    "\n",
    "for root, dirs, files in os.walk(file_dir+\"/data/GIS/wc5\"):\n",
    "    for file in files:\n",
    "        if file.endswith('.tif') and \"stacked\" not in file:\n",
    "            list_bioclim_files.append(file_dir+\"/data/GIS/wc5/\"+file)\n",
    "            name=file.replace(\".tif\",\"\")\n",
    "            names_bioclim.append(name)\n",
    "            names_bioclim=natsorted(names_bioclim,key=lambda y: y.lower())\n",
    "print(names_bioclim)\n",
    "#Stack BIOCLIM dataset\n",
    "#es.stack(list_bioclim_files, file_dir+'/data/GIS/env_stacked/BIOCLIM_stacked.tif')  "
   ]
  },
  {
   "cell_type": "markdown",
   "metadata": {},
   "source": [
    "#### Part 2. Stacking ENVIREM rasters\n",
    "- open and stack the raster files"
   ]
  },
  {
   "cell_type": "code",
   "execution_count": 4,
   "metadata": {},
   "outputs": [
    {
     "name": "stdout",
     "output_type": "stream",
     "text": [
      "['Aspect_5deg', 'BulkDensity_5min', 'ClayPercentage_5min', 'current_5arcmin_annualPET', 'current_5arcmin_aridityIndexThornthwaite', 'current_5arcmin_climaticMoistureIndex', 'current_5arcmin_continentality', 'current_5arcmin_embergerQ', 'current_5arcmin_growingDegDays0', 'current_5arcmin_growingDegDays5', 'current_5arcmin_maxTempColdest', 'current_5arcmin_minTempWarmest', 'current_5arcmin_monthCountByTemp10', 'current_5arcmin_PETColdestQuarter', 'current_5arcmin_PETDriestQuarter', 'current_5arcmin_PETseasonality', 'current_5arcmin_PETWarmestQuarter', 'current_5arcmin_PETWettestQuarter', 'current_5arcmin_thermicityIndex', 'OrganicCarbon_5min', 'PhCaCL_5min', 'Slope_5deg']\n"
     ]
    }
   ],
   "source": [
    "#ENVIREM dataset\n",
    "#create list of raster file locations and a list containing only the names of each raster\n",
    "list_envirem_files=[]\n",
    "names_envirem=[]\n",
    "\n",
    "for root, dirs, files in os.walk(file_dir+\"/data/GIS/5_deg\"):\n",
    "    for file in files:\n",
    "        if file.endswith('.tif') and \"stacked\" not in file:\n",
    "            list_envirem_files.append(file_dir+\"/data/GIS/5_deg/\"+file)\n",
    "            name=file.replace(\".tif\",\"\")\n",
    "            names_envirem.append(name)\n",
    "            names_envirem=natsorted(names_envirem,key=lambda y: y.lower())\n",
    "print(names_envirem)\n",
    "#Stack ENVIREM dataset\n",
    "#es.stack(list_envirem_files, file_dir+'/data/GIS/env_stacked/ENVIREM_stacked.tif')"
   ]
  },
  {
   "cell_type": "markdown",
   "metadata": {},
   "source": [
    "#### Part 3. Create  empty land map to subset new ecobiome and species raster variables on"
   ]
  },
  {
   "cell_type": "code",
   "execution_count": null,
   "metadata": {},
   "outputs": [],
   "source": [
    "pred_data=pd.read_csv(file_dir+'/data/GIS/world_locations_to_predict.csv')\n",
    "\n",
    "long=pred_data[\"decimal_longitude\"]\n",
    "lati=pred_data[\"decimal_latitude\"]\n",
    "long=pd.Series.tolist(long)\n",
    "lati=pd.Series.tolist(lati)\n",
    "\n",
    "src = rasterio.open(file_dir+'/data/GIS/5_deg/Aspect_5deg.tif')\n",
    "band= src.read(1,masked=True)\n",
    "rasterio.plot.show(band)\n",
    "\n",
    "new_band = band.copy()\n",
    "\n",
    "#set raster cell mask values of land area to 0 (to differentiate it from the sea)\n",
    "for i in range(0,len(pred_data)):\n",
    "    row,col=src.index(long[i],lati[i])\n",
    "    new_band[row,col]=0\n",
    "\n",
    "fig, ax = plt.subplots(figsize=(10, 10))\n",
    "ax.imshow(new_band,cmap=\"gray\")\n",
    "ax.set_title(\"land map\",\n",
    "         fontsize=20)\n",
    "plt.show()\n",
    "\n",
    "profile = src.profile\n",
    "print(profile)\n",
    "\n",
    "with rasterio.open(file_dir+'/data/GIS/empty_land_map.tif', 'w', **profile) as dst:\n",
    "        dst.write(new_band.astype(rasterio.float32), 1)\n",
    "\n"
   ]
  },
  {
   "cell_type": "markdown",
   "metadata": {},
   "source": [
    "#### Part 4. Create TNC Ecoregion attribute maps\n",
    "- rasters still in shpfile, must be transformed into raster in right resolution (5deg)"
   ]
  },
  {
   "cell_type": "code",
   "execution_count": null,
   "metadata": {},
   "outputs": [],
   "source": [
    "import geopandas as gpd\n",
    "import rasterio\n",
    "import fiona\n",
    "from rasterio import features\n",
    "import os\n",
    "from datetime import datetime as dt"
   ]
  },
  {
   "cell_type": "code",
   "execution_count": null,
   "metadata": {},
   "outputs": [],
   "source": [
    "#Habitat fragmentation\n",
    "shp_fn=file_dir+'/data/GIS/tnc/Habitat_Fragmentation/wwf_ecos_hab_frag.shp'\n",
    "rst_fn =file_dir+'/data/GIS/5_deg/Aspect_5deg.tif'\n",
    "out_fn =file_dir+'/data/GIS/tnc/ecoregion_attribute_rasters/habitat_fragmentation.tif'\n",
    "\n",
    "df=gpd.read_file(file_dir+'/data/GIS/tnc/Habitat_Fragmentation/wwf_ecos_hab_frag.shp')\n",
    "\n",
    "rst = rasterio.open(rst_fn)\n",
    "meta = rst.meta.copy()\n",
    "\n",
    "\n",
    "src=rasterio.open(rst_fn)\n",
    "\n",
    "with rasterio.open(out_fn, 'w', **meta) as out:\n",
    "    out_arr = src.read(1)\n",
    "\n",
    "    # this is where we create a generator of geom, value pairs to use in rasterizing\n",
    "    shapes = ((geom,value) for geom, value in zip(df.geometry, df.fragmntndx))\n",
    "\n",
    "    burned = features.rasterize(shapes=shapes, fill=0, out=out_arr, transform=out.transform,all_touched=True)\n",
    "    out.write_band(1, burned)"
   ]
  },
  {
   "cell_type": "code",
   "execution_count": null,
   "metadata": {},
   "outputs": [],
   "source": [
    "#Human Accessibility\n",
    "shp_fn=file_dir+'/data/GIS/tnc/Human_Accessibility/wwf_ecos_human_access.shp'\n",
    "rst_fn =file_dir+'/data/GIS/5_deg/Aspect_5deg.tif'\n",
    "out_fn =file_dir+'/data/GIS/tnc/ecoregion_attribute_rasters/human_accessibility.tif'\n",
    "\n",
    "df=gpd.read_file(file_dir+'/data/GIS/tnc/Human_Accessibility/wwf_ecos_human_access.shp')\n",
    "\n",
    "rst = rasterio.open(rst_fn)\n",
    "meta = rst.meta.copy()\n",
    "\n",
    "\n",
    "src=rasterio.open(rst_fn)\n",
    "\n",
    "with rasterio.open(out_fn, 'w', **meta) as out:\n",
    "    out_arr = src.read(1)\n",
    "\n",
    "    # this is where we create a generator of geom, value pairs to use in rasterizing\n",
    "    shapes = ((geom,value) for geom, value in zip(df.geometry, df.humAcc_ndx))\n",
    "\n",
    "    burned = features.rasterize(shapes=shapes, fill=0, out=out_arr, transform=out.transform,all_touched=True)\n",
    "    out.write_band(1, burned)"
   ]
  },
  {
   "cell_type": "code",
   "execution_count": null,
   "metadata": {},
   "outputs": [],
   "source": [
    "#Human Appropriation\n",
    "shp_fn=file_dir+'/data/GIS/tnc/Human_Appropriation/wwf_ecos_hum_approp.shp'\n",
    "rst_fn =file_dir+'/data/GIS/5_deg/Aspect_5deg.tif'\n",
    "out_fn =file_dir+'/data/GIS/tnc/ecoregion_attribute_rasters/human_appropriation.tif'\n",
    "\n",
    "df=gpd.read_file(file_dir+'/data/GIS/tnc/Human_Appropriation/wwf_ecos_hum_approp.shp')\n",
    "\n",
    "rst = rasterio.open(rst_fn)\n",
    "meta = rst.meta.copy()\n",
    "\n",
    "\n",
    "src=rasterio.open(rst_fn)\n",
    "\n",
    "with rasterio.open(out_fn, 'w', **meta) as out:\n",
    "    out_arr = src.read(1)\n",
    "\n",
    "    # this is where we create a generator of geom, value pairs to use in rasterizing\n",
    "    shapes = ((geom,value) for geom, value in zip(df.geometry, df.HumAppIndx))\n",
    "\n",
    "    burned = features.rasterize(shapes=shapes, fill=0, out=out_arr, transform=out.transform,all_touched=True)\n",
    "    out.write_band(1, burned)"
   ]
  },
  {
   "cell_type": "code",
   "execution_count": null,
   "metadata": {},
   "outputs": [],
   "source": [
    "#Mammal species richness\n",
    "shp_fn=file_dir+'/data/GIS/tnc/Mammal_species_richness/wwf_ecos_mammal_spcs.shp'\n",
    "rst_fn =file_dir+'/data/GIS/5_deg/Aspect_5deg.tif'\n",
    "out_fn =file_dir+'/data/GIS/tnc/ecoregion_attribute_rasters/mammal_spr.tif'\n",
    "\n",
    "df=gpd.read_file(file_dir+'/data/GIS/tnc/Mammal_species_richness/wwf_ecos_mammal_spcs.shp')\n",
    "\n",
    "rst = rasterio.open(rst_fn)\n",
    "meta = rst.meta.copy()\n",
    "\n",
    "\n",
    "src=rasterio.open(rst_fn)\n",
    "\n",
    "with rasterio.open(out_fn, 'w', **meta) as out:\n",
    "    out_arr = src.read(1)\n",
    "\n",
    "    # this is where we create a generator of geom, value pairs to use in rasterizing\n",
    "    shapes = ((geom,value) for geom, value in zip(df.geometry, df.mamml_spcs))\n",
    "\n",
    "    burned = features.rasterize(shapes=shapes, fill=0, out=out_arr, transform=out.transform,all_touched=True)\n",
    "    out.write_band(1, burned)"
   ]
  },
  {
   "cell_type": "code",
   "execution_count": null,
   "metadata": {},
   "outputs": [],
   "source": [
    "#Plant species richness\n",
    "shp_fn=file_dir+'/data/GIS/tnc/Plant_Species_Richness/wwf_ecos_plant_spcs.shp'\n",
    "rst_fn =file_dir+'/data/GIS/5_deg/Aspect_5deg.tif'\n",
    "out_fn =file_dir+'/data/GIS/tnc/ecoregion_attribute_rasters/plant_spr.tif'\n",
    "\n",
    "df=gpd.read_file(file_dir+'/data/GIS/tnc/Plant_Species_Richness/wwf_ecos_plant_spcs.shp')\n",
    "rst = rasterio.open(rst_fn)\n",
    "meta = rst.meta.copy()\n",
    "\n",
    "\n",
    "src=rasterio.open(rst_fn)\n",
    "\n",
    "with rasterio.open(out_fn, 'w', **meta) as out:\n",
    "    out_arr = src.read(1)\n",
    "\n",
    "    # this is where we create a generator of geom, value pairs to use in rasterizing\n",
    "    shapes = ((geom,value) for geom, value in zip(df.geometry, df.plant_spcs))\n",
    "\n",
    "    burned = features.rasterize(shapes=shapes, fill=0, out=out_arr, transform=out.transform,all_touched=True)\n",
    "    out.write_band(1, burned)"
   ]
  },
  {
   "cell_type": "code",
   "execution_count": null,
   "metadata": {
    "scrolled": true
   },
   "outputs": [],
   "source": [
    "list_eco_attrib_files=[]\n",
    "names_eco_attrib=[]\n",
    "\n",
    "##stack the rasters\n",
    "for root, dirs, files in os.walk(file_dir+\"/data/GIS/tnc/ecoregion_attribute_rasters\"):\n",
    "    for file in files:\n",
    "        if file.endswith('.tif') and \"ecoregions\" not in file and \"stacked\" not in file:\n",
    "            list_eco_attrib_files.append(file_dir+\"/data/GIS/tnc/ecoregion_attribute_rasters/\"+file)\n",
    "            name=file.replace(\".tif\",\"\")\n",
    "            names_eco_attrib.append(name)\n",
    "  \n",
    "#print(names_eco_attrib)\n",
    "#es.stack(list_eco_attrib_files, file_dir+'/data/GIS/tnc/ecoregion_attribute_rasters/ecoregion_attributes_stacked.tif')"
   ]
  },
  {
   "cell_type": "markdown",
   "metadata": {},
   "source": [
    "#### Part 5. Create  TNC ecobiomes raster\n",
    "- the file is still in shapefile format, must be transformed into raster in right resolution (5 deg)"
   ]
  },
  {
   "cell_type": "code",
   "execution_count": 5,
   "metadata": {},
   "outputs": [],
   "source": [
    "import geopandas as gpd\n",
    "import rasterio\n",
    "import fiona\n",
    "from rasterio import features\n",
    "import os\n",
    "from datetime import datetime as dt"
   ]
  },
  {
   "cell_type": "code",
   "execution_count": null,
   "metadata": {},
   "outputs": [],
   "source": [
    "shp_fn=file_dir+'/data/GIS/tnc/tnc_terr_ecoregions.shp'\n",
    "rst_fn =file_dir+'/data/GIS/5_deg/Aspect_5deg.tif'\n",
    "out_fn =file_dir+'/data/GIS/tnc/ecoregions.tif'\n",
    "df=gpd.read_file(file_dir+'/data/GIS/tnc/tnc_terr_ecoregions.shp')\n",
    "\n",
    "rst = rasterio.open(rst_fn)\n",
    "meta = rst.meta.copy()\n",
    "\n",
    "\n",
    "src=rasterio.open(rst_fn)\n",
    "\n",
    "with rasterio.open(out_fn, 'w', **meta) as out:\n",
    "    out_arr = src.read(1)\n",
    "\n",
    "    # this is where we create a generator of geom, value pairs to use in rasterizing\n",
    "    shapes = ((geom,value) for geom, value in zip(df.geometry, df.WWF_MHTNUM))\n",
    "\n",
    "    burned = features.rasterize(shapes=shapes, fill=0, out=out_arr, transform=out.transform,all_touched=True)\n",
    "    out.write_band(1, burned)"
   ]
  },
  {
   "cell_type": "code",
   "execution_count": null,
   "metadata": {},
   "outputs": [],
   "source": [
    "clipped = rasterio.open(out_fn)\n",
    "array = clipped.read(1)\n",
    "array_data = clipped.read(1,masked=True)\n",
    "array_meta = clipped.profile\n",
    "\n",
    "fig, ax = plt.subplots(figsize=(24, 10))\n",
    "ax.imshow(array_data,cmap=\"YlGn_r\",interpolation=\"none\",vmin=0,vmax=100)\n",
    "ax.set_title('ecoregions map',fontsize=40)\n",
    "plt.show"
   ]
  },
  {
   "cell_type": "code",
   "execution_count": null,
   "metadata": {},
   "outputs": [],
   "source": [
    "###create array of unique ecoregion codes and names\n",
    "eco_names=df.WWF_MHTNAM.unique()\n",
    "eco_codes=df.WWF_MHTNUM.unique()\n",
    "\n",
    "####open empty landmap as source to subset values on\n",
    "src=rasterio.open(file_dir+'/data/GIS/empty_land_map.tif')\n",
    "profile=src.profile\n",
    "band=src.read(1)\n",
    "\n",
    "####open rasterized ecoregion map as source to extract values from\n",
    "ecor=rasterio.open(file_dir+'/data/GIS/tnc/ecoregions.tif')\n",
    "array=ecor.read(1)\n",
    "\n",
    "for item in range(0,len(eco_codes)):\n",
    "    new_band=band.copy()\n",
    "    ecoregion=eco_names[item]\n",
    "    ecoregion=ecoregion.replace(\" \",\"_\")\n",
    "    ecoregion=ecoregion.replace(\"/\",\"_\")\n",
    "    eco_subset=np.where(array==eco_codes[item])\n",
    "    rows=eco_subset[0]\n",
    "    cols=eco_subset[1]\n",
    "    for i in range(0,len(rows)):\n",
    "        new_band[rows[i],cols[i]]=1\n",
    "    \n",
    "    rasterio.plot.show(new_band)\n",
    "    \n",
    "    with rasterio.open(file_dir+'/data/GIS/tnc/ecoregion_rasters/%s_map.tif'%ecoregion,\"w\",**profile) as dst:\n",
    "        dst.write(new_band.astype(rasterio.float32),1)\n"
   ]
  },
  {
   "cell_type": "code",
   "execution_count": 6,
   "metadata": {},
   "outputs": [],
   "source": [
    "####stack them\n",
    "list_ecoregion_files=[]\n",
    "names_ecoregion=[]\n",
    "\n",
    "##stack the rasters\n",
    "for root, dirs, files in os.walk(file_dir+'/data/GIS/tnc/ecoregion_rasters'):\n",
    "    for file in files:\n",
    "        if file.endswith('.tif') and \"time\" not in file and \"stacked\" not in file and \"UNC\" not in file:\n",
    "            list_ecoregion_files.append(file_dir+'/data/GIS/tnc/ecoregion_rasters/'+file)\n",
    "            name=file.replace(\".tif\",\"\")\n",
    "            names_ecoregion.append(name)\n",
    "  \n",
    "#print(names_ecoregion)\n",
    "#es.stack(list_ecoregion_files, file_dir+'/data/GIS/tnc/ecoregion_rasters/ecoregions_stacked.tif')"
   ]
  },
  {
   "cell_type": "markdown",
   "metadata": {},
   "source": [
    "#### Part 6. Creating and stacking species occurrence rasters\n",
    "- open empty land raster map\n",
    "- identify the cell's in which occurrence records are located and set their values to 1"
   ]
  },
  {
   "cell_type": "code",
   "execution_count": null,
   "metadata": {},
   "outputs": [],
   "source": [
    "#access file with list of taxa names\n",
    "taxa=pd.read_csv(file_dir+\"/data/SQL_filtered_gbif/taxa_list.txt\",header=None)\n",
    "taxa.columns=[\"taxon\"]\n",
    "\n",
    "\n",
    "species_occ_dict={}\n",
    "\n",
    "for i in taxa[\"taxon\"]:\n",
    "    taxon_data = pd.read_csv(file_dir+\"/data/SQL_filtered_gbif/%s_filtered_data.csv\"%i)\n",
    "    #add species dataframe to dict\n",
    "    species_occ_dict[\"%s\"%i] = taxon_data  \n",
    "    #check whether all species have been included and inspect dictionary\n",
    "if len(species_occ_dict.keys())==len(taxa[\"taxon\"]):\n",
    "    print(\"All species dataframes now in dictionary\")\n",
    "else:\n",
    "    print(\"Error: not all species dataframe included\")"
   ]
  },
  {
   "cell_type": "code",
   "execution_count": null,
   "metadata": {},
   "outputs": [],
   "source": [
    "src=rasterio.open(file_dir+'/data/GIS/empty_land_map.tif')\n",
    "band=src.read(1)\n",
    "\n",
    "for key in species_occ_dict:\n",
    "    new_band = band.copy()\n",
    "    \n",
    "    #lon_lat presence points\n",
    "    presence_data = species_occ_dict[key]\n",
    "    presence_data[\"present/pseudo_absent\"]=1\n",
    "    spec = key\n",
    "    long=presence_data[\"decimal_longitude\"]\n",
    "    lati=presence_data[\"decimal_latitude\"]\n",
    "    long=pd.Series.tolist(long)\n",
    "    lati=pd.Series.tolist(lati)\n",
    "\n",
    "    #set raster cell mask values of presence locations to 100\n",
    "    for i in range(0,len(presence_data)):\n",
    "        row,col=src.index(long[i],lati[i])\n",
    "        new_band[row,col]=1\n",
    "        \n",
    "    rasterio.plot.show(new_band)\n",
    "    # Register GDAL format drivers and configuration options with a\n",
    "    # context manager.\n",
    "    #with rasterio.Env():\n",
    "\n",
    "    # Write an array as a raster band to a new 8-bit file. For\n",
    "    # the new file's profile, we start with the profile of the source\n",
    "\n",
    "\n",
    "    with rasterio.open(file_dir+'/data/GIS/spec_presence/%s_presence_map.tif'%spec, 'w', **profile) as dst:\n",
    "        dst.write(new_band.astype(rasterio.float32), 1)"
   ]
  },
  {
   "cell_type": "code",
   "execution_count": 7,
   "metadata": {},
   "outputs": [],
   "source": [
    "####stacking them into a single raster\n",
    "#species presence dataset\n",
    "#create list of raster file locations and a list containing only the names of each raster\n",
    "list_species_files=[]\n",
    "names_species=[]\n",
    "\n",
    "for root, dirs, files in os.walk(file_dir+\"/data/GIS/spec_presence\"):\n",
    "    for file in files:\n",
    "        if file.endswith('.tif') and \"stacked\" not in file:\n",
    "            list_species_files.append(file_dir+\"/data/GIS/spec_presence/\"+file)\n",
    "            name=file.replace(\".tif\",\"\")\n",
    "            names_species.append(name)\n",
    "#print(names_species)\n",
    "#es.stack(list_species_files, file_dir+\"/data/GIS/spec_presence/species_presence_stacked.tif\")"
   ]
  },
  {
   "cell_type": "code",
   "execution_count": null,
   "metadata": {},
   "outputs": [],
   "source": [
    "\n",
    "print(len(list_species_files))\n",
    "stacked=rasterio.open(file_dir+\"/data/GIS/spec_presence/species_presence_stacked.tif\")\n",
    "\n",
    "for i in range(1,len(list_raster_locations)):\n",
    "    band = stacked.read(i,masked=True)\n",
    "    plt.imshow(band,interpolation=\"none\")\n",
    "    plt.show()"
   ]
  },
  {
   "cell_type": "markdown",
   "metadata": {},
   "source": [
    "#### Part 7. Stack into single raster file"
   ]
  },
  {
   "cell_type": "code",
   "execution_count": 8,
   "metadata": {},
   "outputs": [
    {
     "data": {
      "text/plain": [
       "(masked_array(\n",
       "   data=[[[-9.999e+03, -9.999e+03, -9.999e+03, ..., -9.999e+03,\n",
       "           -9.999e+03, -9.999e+03],\n",
       "          [-9.999e+03, -9.999e+03, -9.999e+03, ..., -9.999e+03,\n",
       "           -9.999e+03, -9.999e+03],\n",
       "          [-9.999e+03, -9.999e+03, -9.999e+03, ..., -9.999e+03,\n",
       "           -9.999e+03, -9.999e+03],\n",
       "          ...,\n",
       "          [-9.999e+03, -9.999e+03, -9.999e+03, ..., -9.999e+03,\n",
       "           -9.999e+03, -9.999e+03],\n",
       "          [-9.999e+03, -9.999e+03, -9.999e+03, ..., -9.999e+03,\n",
       "           -9.999e+03, -9.999e+03],\n",
       "          [-9.999e+03, -9.999e+03, -9.999e+03, ..., -9.999e+03,\n",
       "           -9.999e+03, -9.999e+03]],\n",
       " \n",
       "         [[-9.999e+03, -9.999e+03, -9.999e+03, ..., -9.999e+03,\n",
       "           -9.999e+03, -9.999e+03],\n",
       "          [-9.999e+03, -9.999e+03, -9.999e+03, ..., -9.999e+03,\n",
       "           -9.999e+03, -9.999e+03],\n",
       "          [-9.999e+03, -9.999e+03, -9.999e+03, ..., -9.999e+03,\n",
       "           -9.999e+03, -9.999e+03],\n",
       "          ...,\n",
       "          [-9.999e+03, -9.999e+03, -9.999e+03, ..., -9.999e+03,\n",
       "           -9.999e+03, -9.999e+03],\n",
       "          [-9.999e+03, -9.999e+03, -9.999e+03, ..., -9.999e+03,\n",
       "           -9.999e+03, -9.999e+03],\n",
       "          [-9.999e+03, -9.999e+03, -9.999e+03, ..., -9.999e+03,\n",
       "           -9.999e+03, -9.999e+03]],\n",
       " \n",
       "         [[-9.999e+03, -9.999e+03, -9.999e+03, ..., -9.999e+03,\n",
       "           -9.999e+03, -9.999e+03],\n",
       "          [-9.999e+03, -9.999e+03, -9.999e+03, ..., -9.999e+03,\n",
       "           -9.999e+03, -9.999e+03],\n",
       "          [-9.999e+03, -9.999e+03, -9.999e+03, ..., -9.999e+03,\n",
       "           -9.999e+03, -9.999e+03],\n",
       "          ...,\n",
       "          [-9.999e+03, -9.999e+03, -9.999e+03, ..., -9.999e+03,\n",
       "           -9.999e+03, -9.999e+03],\n",
       "          [-9.999e+03, -9.999e+03, -9.999e+03, ..., -9.999e+03,\n",
       "           -9.999e+03, -9.999e+03],\n",
       "          [-9.999e+03, -9.999e+03, -9.999e+03, ..., -9.999e+03,\n",
       "           -9.999e+03, -9.999e+03]],\n",
       " \n",
       "         ...,\n",
       " \n",
       "         [[-3.400e+38, -3.400e+38, -3.400e+38, ..., -3.400e+38,\n",
       "           -3.400e+38, -3.400e+38],\n",
       "          [-3.400e+38, -3.400e+38, -3.400e+38, ..., -3.400e+38,\n",
       "           -3.400e+38, -3.400e+38],\n",
       "          [-3.400e+38, -3.400e+38, -3.400e+38, ..., -3.400e+38,\n",
       "           -3.400e+38, -3.400e+38],\n",
       "          ...,\n",
       "          [-3.400e+38, -3.400e+38, -3.400e+38, ..., -3.400e+38,\n",
       "           -3.400e+38, -3.400e+38],\n",
       "          [-3.400e+38, -3.400e+38, -3.400e+38, ..., -3.400e+38,\n",
       "           -3.400e+38, -3.400e+38],\n",
       "          [-3.400e+38, -3.400e+38, -3.400e+38, ..., -3.400e+38,\n",
       "           -3.400e+38, -3.400e+38]],\n",
       " \n",
       "         [[-3.400e+38, -3.400e+38, -3.400e+38, ..., -3.400e+38,\n",
       "           -3.400e+38, -3.400e+38],\n",
       "          [-3.400e+38, -3.400e+38, -3.400e+38, ..., -3.400e+38,\n",
       "           -3.400e+38, -3.400e+38],\n",
       "          [-3.400e+38, -3.400e+38, -3.400e+38, ..., -3.400e+38,\n",
       "           -3.400e+38, -3.400e+38],\n",
       "          ...,\n",
       "          [-3.400e+38, -3.400e+38, -3.400e+38, ..., -3.400e+38,\n",
       "           -3.400e+38, -3.400e+38],\n",
       "          [-3.400e+38, -3.400e+38, -3.400e+38, ..., -3.400e+38,\n",
       "           -3.400e+38, -3.400e+38],\n",
       "          [-3.400e+38, -3.400e+38, -3.400e+38, ..., -3.400e+38,\n",
       "           -3.400e+38, -3.400e+38]],\n",
       " \n",
       "         [[-3.400e+38, -3.400e+38, -3.400e+38, ..., -3.400e+38,\n",
       "           -3.400e+38, -3.400e+38],\n",
       "          [-3.400e+38, -3.400e+38, -3.400e+38, ..., -3.400e+38,\n",
       "           -3.400e+38, -3.400e+38],\n",
       "          [-3.400e+38, -3.400e+38, -3.400e+38, ..., -3.400e+38,\n",
       "           -3.400e+38, -3.400e+38],\n",
       "          ...,\n",
       "          [-3.400e+38, -3.400e+38, -3.400e+38, ..., -3.400e+38,\n",
       "           -3.400e+38, -3.400e+38],\n",
       "          [-3.400e+38, -3.400e+38, -3.400e+38, ..., -3.400e+38,\n",
       "           -3.400e+38, -3.400e+38],\n",
       "          [-3.400e+38, -3.400e+38, -3.400e+38, ..., -3.400e+38,\n",
       "           -3.400e+38, -3.400e+38]]],\n",
       "   mask=False,\n",
       "   fill_value=1e+20,\n",
       "   dtype=float32),\n",
       " {'driver': 'GTiff', 'dtype': 'float32', 'nodata': -9999.0, 'width': 4320, 'height': 1800, 'count': 181, 'crs': CRS.from_dict(init='epsg:4326'), 'transform': Affine(0.08333333333333333, 0.0, -180.0,\n",
       "        0.0, -0.08333333333333333, 90.0), 'tiled': False, 'interleave': 'pixel'})"
      ]
     },
     "execution_count": 8,
     "metadata": {},
     "output_type": "execute_result"
    },
    {
     "data": {
      "text/plain": [
       "5"
      ]
     },
     "execution_count": 8,
     "metadata": {},
     "output_type": "execute_result"
    },
    {
     "data": {
      "text/plain": [
       "5"
      ]
     },
     "execution_count": 8,
     "metadata": {},
     "output_type": "execute_result"
    },
    {
     "data": {
      "text/plain": [
       "5"
      ]
     },
     "execution_count": 8,
     "metadata": {},
     "output_type": "execute_result"
    },
    {
     "data": {
      "text/plain": [
       "5"
      ]
     },
     "execution_count": 8,
     "metadata": {},
     "output_type": "execute_result"
    },
    {
     "data": {
      "text/plain": [
       "5"
      ]
     },
     "execution_count": 8,
     "metadata": {},
     "output_type": "execute_result"
    },
    {
     "data": {
      "text/plain": [
       "5"
      ]
     },
     "execution_count": 8,
     "metadata": {},
     "output_type": "execute_result"
    },
    {
     "data": {
      "text/plain": [
       "5"
      ]
     },
     "execution_count": 8,
     "metadata": {},
     "output_type": "execute_result"
    },
    {
     "data": {
      "text/plain": [
       "5"
      ]
     },
     "execution_count": 8,
     "metadata": {},
     "output_type": "execute_result"
    },
    {
     "data": {
      "text/plain": [
       "5"
      ]
     },
     "execution_count": 8,
     "metadata": {},
     "output_type": "execute_result"
    },
    {
     "data": {
      "text/plain": [
       "6"
      ]
     },
     "execution_count": 8,
     "metadata": {},
     "output_type": "execute_result"
    },
    {
     "data": {
      "text/plain": [
       "6"
      ]
     },
     "execution_count": 8,
     "metadata": {},
     "output_type": "execute_result"
    },
    {
     "data": {
      "text/plain": [
       "6"
      ]
     },
     "execution_count": 8,
     "metadata": {},
     "output_type": "execute_result"
    },
    {
     "data": {
      "text/plain": [
       "6"
      ]
     },
     "execution_count": 8,
     "metadata": {},
     "output_type": "execute_result"
    },
    {
     "data": {
      "text/plain": [
       "6"
      ]
     },
     "execution_count": 8,
     "metadata": {},
     "output_type": "execute_result"
    },
    {
     "data": {
      "text/plain": [
       "6"
      ]
     },
     "execution_count": 8,
     "metadata": {},
     "output_type": "execute_result"
    },
    {
     "data": {
      "text/plain": [
       "6"
      ]
     },
     "execution_count": 8,
     "metadata": {},
     "output_type": "execute_result"
    },
    {
     "data": {
      "text/plain": [
       "6"
      ]
     },
     "execution_count": 8,
     "metadata": {},
     "output_type": "execute_result"
    },
    {
     "data": {
      "text/plain": [
       "6"
      ]
     },
     "execution_count": 8,
     "metadata": {},
     "output_type": "execute_result"
    },
    {
     "data": {
      "text/plain": [
       "6"
      ]
     },
     "execution_count": 8,
     "metadata": {},
     "output_type": "execute_result"
    },
    {
     "data": {
      "text/plain": [
       "12"
      ]
     },
     "execution_count": 8,
     "metadata": {},
     "output_type": "execute_result"
    },
    {
     "data": {
      "text/plain": [
       "17"
      ]
     },
     "execution_count": 8,
     "metadata": {},
     "output_type": "execute_result"
    },
    {
     "data": {
      "text/plain": [
       "20"
      ]
     },
     "execution_count": 8,
     "metadata": {},
     "output_type": "execute_result"
    },
    {
     "data": {
      "text/plain": [
       "26"
      ]
     },
     "execution_count": 8,
     "metadata": {},
     "output_type": "execute_result"
    },
    {
     "data": {
      "text/plain": [
       "41"
      ]
     },
     "execution_count": 8,
     "metadata": {},
     "output_type": "execute_result"
    },
    {
     "data": {
      "text/plain": [
       "38"
      ]
     },
     "execution_count": 8,
     "metadata": {},
     "output_type": "execute_result"
    },
    {
     "data": {
      "text/plain": [
       "31"
      ]
     },
     "execution_count": 8,
     "metadata": {},
     "output_type": "execute_result"
    },
    {
     "data": {
      "text/plain": [
       "26"
      ]
     },
     "execution_count": 8,
     "metadata": {},
     "output_type": "execute_result"
    },
    {
     "data": {
      "text/plain": [
       "32"
      ]
     },
     "execution_count": 8,
     "metadata": {},
     "output_type": "execute_result"
    },
    {
     "data": {
      "text/plain": [
       "32"
      ]
     },
     "execution_count": 8,
     "metadata": {},
     "output_type": "execute_result"
    },
    {
     "data": {
      "text/plain": [
       "31"
      ]
     },
     "execution_count": 8,
     "metadata": {},
     "output_type": "execute_result"
    },
    {
     "data": {
      "text/plain": [
       "31"
      ]
     },
     "execution_count": 8,
     "metadata": {},
     "output_type": "execute_result"
    },
    {
     "data": {
      "text/plain": [
       "35"
      ]
     },
     "execution_count": 8,
     "metadata": {},
     "output_type": "execute_result"
    },
    {
     "data": {
      "text/plain": [
       "34"
      ]
     },
     "execution_count": 8,
     "metadata": {},
     "output_type": "execute_result"
    },
    {
     "data": {
      "text/plain": [
       "33"
      ]
     },
     "execution_count": 8,
     "metadata": {},
     "output_type": "execute_result"
    },
    {
     "data": {
      "text/plain": [
       "31"
      ]
     },
     "execution_count": 8,
     "metadata": {},
     "output_type": "execute_result"
    },
    {
     "data": {
      "text/plain": [
       "34"
      ]
     },
     "execution_count": 8,
     "metadata": {},
     "output_type": "execute_result"
    },
    {
     "data": {
      "text/plain": [
       "34"
      ]
     },
     "execution_count": 8,
     "metadata": {},
     "output_type": "execute_result"
    },
    {
     "data": {
      "text/plain": [
       "32"
      ]
     },
     "execution_count": 8,
     "metadata": {},
     "output_type": "execute_result"
    },
    {
     "data": {
      "text/plain": [
       "19"
      ]
     },
     "execution_count": 8,
     "metadata": {},
     "output_type": "execute_result"
    },
    {
     "data": {
      "text/plain": [
       "12"
      ]
     },
     "execution_count": 8,
     "metadata": {},
     "output_type": "execute_result"
    },
    {
     "data": {
      "text/plain": [
       "11"
      ]
     },
     "execution_count": 8,
     "metadata": {},
     "output_type": "execute_result"
    },
    {
     "data": {
      "text/plain": [
       "25"
      ]
     },
     "execution_count": 8,
     "metadata": {},
     "output_type": "execute_result"
    },
    {
     "data": {
      "text/plain": [
       "33"
      ]
     },
     "execution_count": 8,
     "metadata": {},
     "output_type": "execute_result"
    },
    {
     "data": {
      "text/plain": [
       "36"
      ]
     },
     "execution_count": 8,
     "metadata": {},
     "output_type": "execute_result"
    },
    {
     "data": {
      "text/plain": [
       "17"
      ]
     },
     "execution_count": 8,
     "metadata": {},
     "output_type": "execute_result"
    },
    {
     "data": {
      "text/plain": [
       "14"
      ]
     },
     "execution_count": 8,
     "metadata": {},
     "output_type": "execute_result"
    },
    {
     "data": {
      "text/plain": [
       "47"
      ]
     },
     "execution_count": 8,
     "metadata": {},
     "output_type": "execute_result"
    },
    {
     "data": {
      "text/plain": [
       "38"
      ]
     },
     "execution_count": 8,
     "metadata": {},
     "output_type": "execute_result"
    },
    {
     "data": {
      "text/plain": [
       "17"
      ]
     },
     "execution_count": 8,
     "metadata": {},
     "output_type": "execute_result"
    },
    {
     "data": {
      "text/plain": [
       "42"
      ]
     },
     "execution_count": 8,
     "metadata": {},
     "output_type": "execute_result"
    },
    {
     "data": {
      "text/plain": [
       "30"
      ]
     },
     "execution_count": 8,
     "metadata": {},
     "output_type": "execute_result"
    },
    {
     "data": {
      "text/plain": [
       "50"
      ]
     },
     "execution_count": 8,
     "metadata": {},
     "output_type": "execute_result"
    },
    {
     "data": {
      "text/plain": [
       "48"
      ]
     },
     "execution_count": 8,
     "metadata": {},
     "output_type": "execute_result"
    },
    {
     "data": {
      "text/plain": [
       "51"
      ]
     },
     "execution_count": 8,
     "metadata": {},
     "output_type": "execute_result"
    },
    {
     "data": {
      "text/plain": [
       "65"
      ]
     },
     "execution_count": 8,
     "metadata": {},
     "output_type": "execute_result"
    },
    {
     "data": {
      "text/plain": [
       "53"
      ]
     },
     "execution_count": 8,
     "metadata": {},
     "output_type": "execute_result"
    },
    {
     "data": {
      "text/plain": [
       "11"
      ]
     },
     "execution_count": 8,
     "metadata": {},
     "output_type": "execute_result"
    },
    {
     "data": {
      "text/plain": [
       "32"
      ]
     },
     "execution_count": 8,
     "metadata": {},
     "output_type": "execute_result"
    },
    {
     "data": {
      "text/plain": [
       "35"
      ]
     },
     "execution_count": 8,
     "metadata": {},
     "output_type": "execute_result"
    },
    {
     "data": {
      "text/plain": [
       "25"
      ]
     },
     "execution_count": 8,
     "metadata": {},
     "output_type": "execute_result"
    },
    {
     "data": {
      "text/plain": [
       "36"
      ]
     },
     "execution_count": 8,
     "metadata": {},
     "output_type": "execute_result"
    },
    {
     "data": {
      "text/plain": [
       "35"
      ]
     },
     "execution_count": 8,
     "metadata": {},
     "output_type": "execute_result"
    },
    {
     "data": {
      "text/plain": [
       "33"
      ]
     },
     "execution_count": 8,
     "metadata": {},
     "output_type": "execute_result"
    },
    {
     "data": {
      "text/plain": [
       "23"
      ]
     },
     "execution_count": 8,
     "metadata": {},
     "output_type": "execute_result"
    },
    {
     "data": {
      "text/plain": [
       "27"
      ]
     },
     "execution_count": 8,
     "metadata": {},
     "output_type": "execute_result"
    },
    {
     "data": {
      "text/plain": [
       "25"
      ]
     },
     "execution_count": 8,
     "metadata": {},
     "output_type": "execute_result"
    },
    {
     "data": {
      "text/plain": [
       "27"
      ]
     },
     "execution_count": 8,
     "metadata": {},
     "output_type": "execute_result"
    },
    {
     "data": {
      "text/plain": [
       "36"
      ]
     },
     "execution_count": 8,
     "metadata": {},
     "output_type": "execute_result"
    },
    {
     "data": {
      "text/plain": [
       "37"
      ]
     },
     "execution_count": 8,
     "metadata": {},
     "output_type": "execute_result"
    },
    {
     "data": {
      "text/plain": [
       "27"
      ]
     },
     "execution_count": 8,
     "metadata": {},
     "output_type": "execute_result"
    },
    {
     "data": {
      "text/plain": [
       "24"
      ]
     },
     "execution_count": 8,
     "metadata": {},
     "output_type": "execute_result"
    },
    {
     "data": {
      "text/plain": [
       "27"
      ]
     },
     "execution_count": 8,
     "metadata": {},
     "output_type": "execute_result"
    },
    {
     "data": {
      "text/plain": [
       "29"
      ]
     },
     "execution_count": 8,
     "metadata": {},
     "output_type": "execute_result"
    },
    {
     "data": {
      "text/plain": [
       "28"
      ]
     },
     "execution_count": 8,
     "metadata": {},
     "output_type": "execute_result"
    },
    {
     "data": {
      "text/plain": [
       "33"
      ]
     },
     "execution_count": 8,
     "metadata": {},
     "output_type": "execute_result"
    },
    {
     "data": {
      "text/plain": [
       "32"
      ]
     },
     "execution_count": 8,
     "metadata": {},
     "output_type": "execute_result"
    },
    {
     "data": {
      "text/plain": [
       "33"
      ]
     },
     "execution_count": 8,
     "metadata": {},
     "output_type": "execute_result"
    },
    {
     "data": {
      "text/plain": [
       "34"
      ]
     },
     "execution_count": 8,
     "metadata": {},
     "output_type": "execute_result"
    },
    {
     "data": {
      "text/plain": [
       "31"
      ]
     },
     "execution_count": 8,
     "metadata": {},
     "output_type": "execute_result"
    },
    {
     "data": {
      "text/plain": [
       "34"
      ]
     },
     "execution_count": 8,
     "metadata": {},
     "output_type": "execute_result"
    },
    {
     "data": {
      "text/plain": [
       "34"
      ]
     },
     "execution_count": 8,
     "metadata": {},
     "output_type": "execute_result"
    },
    {
     "data": {
      "text/plain": [
       "36"
      ]
     },
     "execution_count": 8,
     "metadata": {},
     "output_type": "execute_result"
    },
    {
     "data": {
      "text/plain": [
       "31"
      ]
     },
     "execution_count": 8,
     "metadata": {},
     "output_type": "execute_result"
    },
    {
     "data": {
      "text/plain": [
       "36"
      ]
     },
     "execution_count": 8,
     "metadata": {},
     "output_type": "execute_result"
    },
    {
     "data": {
      "text/plain": [
       "35"
      ]
     },
     "execution_count": 8,
     "metadata": {},
     "output_type": "execute_result"
    },
    {
     "data": {
      "text/plain": [
       "37"
      ]
     },
     "execution_count": 8,
     "metadata": {},
     "output_type": "execute_result"
    },
    {
     "data": {
      "text/plain": [
       "31"
      ]
     },
     "execution_count": 8,
     "metadata": {},
     "output_type": "execute_result"
    },
    {
     "data": {
      "text/plain": [
       "33"
      ]
     },
     "execution_count": 8,
     "metadata": {},
     "output_type": "execute_result"
    },
    {
     "data": {
      "text/plain": [
       "28"
      ]
     },
     "execution_count": 8,
     "metadata": {},
     "output_type": "execute_result"
    },
    {
     "data": {
      "text/plain": [
       "27"
      ]
     },
     "execution_count": 8,
     "metadata": {},
     "output_type": "execute_result"
    },
    {
     "data": {
      "text/plain": [
       "31"
      ]
     },
     "execution_count": 8,
     "metadata": {},
     "output_type": "execute_result"
    },
    {
     "data": {
      "text/plain": [
       "35"
      ]
     },
     "execution_count": 8,
     "metadata": {},
     "output_type": "execute_result"
    },
    {
     "data": {
      "text/plain": [
       "32"
      ]
     },
     "execution_count": 8,
     "metadata": {},
     "output_type": "execute_result"
    },
    {
     "data": {
      "text/plain": [
       "33"
      ]
     },
     "execution_count": 8,
     "metadata": {},
     "output_type": "execute_result"
    },
    {
     "data": {
      "text/plain": [
       "23"
      ]
     },
     "execution_count": 8,
     "metadata": {},
     "output_type": "execute_result"
    },
    {
     "data": {
      "text/plain": [
       "30"
      ]
     },
     "execution_count": 8,
     "metadata": {},
     "output_type": "execute_result"
    },
    {
     "data": {
      "text/plain": [
       "26"
      ]
     },
     "execution_count": 8,
     "metadata": {},
     "output_type": "execute_result"
    },
    {
     "data": {
      "text/plain": [
       "28"
      ]
     },
     "execution_count": 8,
     "metadata": {},
     "output_type": "execute_result"
    },
    {
     "data": {
      "text/plain": [
       "25"
      ]
     },
     "execution_count": 8,
     "metadata": {},
     "output_type": "execute_result"
    },
    {
     "data": {
      "text/plain": [
       "26"
      ]
     },
     "execution_count": 8,
     "metadata": {},
     "output_type": "execute_result"
    },
    {
     "data": {
      "text/plain": [
       "25"
      ]
     },
     "execution_count": 8,
     "metadata": {},
     "output_type": "execute_result"
    },
    {
     "data": {
      "text/plain": [
       "32"
      ]
     },
     "execution_count": 8,
     "metadata": {},
     "output_type": "execute_result"
    },
    {
     "data": {
      "text/plain": [
       "32"
      ]
     },
     "execution_count": 8,
     "metadata": {},
     "output_type": "execute_result"
    },
    {
     "data": {
      "text/plain": [
       "31"
      ]
     },
     "execution_count": 8,
     "metadata": {},
     "output_type": "execute_result"
    },
    {
     "data": {
      "text/plain": [
       "28"
      ]
     },
     "execution_count": 8,
     "metadata": {},
     "output_type": "execute_result"
    },
    {
     "data": {
      "text/plain": [
       "29"
      ]
     },
     "execution_count": 8,
     "metadata": {},
     "output_type": "execute_result"
    },
    {
     "data": {
      "text/plain": [
       "34"
      ]
     },
     "execution_count": 8,
     "metadata": {},
     "output_type": "execute_result"
    },
    {
     "data": {
      "text/plain": [
       "36"
      ]
     },
     "execution_count": 8,
     "metadata": {},
     "output_type": "execute_result"
    },
    {
     "data": {
      "text/plain": [
       "36"
      ]
     },
     "execution_count": 8,
     "metadata": {},
     "output_type": "execute_result"
    },
    {
     "data": {
      "text/plain": [
       "33"
      ]
     },
     "execution_count": 8,
     "metadata": {},
     "output_type": "execute_result"
    },
    {
     "data": {
      "text/plain": [
       "31"
      ]
     },
     "execution_count": 8,
     "metadata": {},
     "output_type": "execute_result"
    },
    {
     "data": {
      "text/plain": [
       "32"
      ]
     },
     "execution_count": 8,
     "metadata": {},
     "output_type": "execute_result"
    },
    {
     "data": {
      "text/plain": [
       "34"
      ]
     },
     "execution_count": 8,
     "metadata": {},
     "output_type": "execute_result"
    },
    {
     "data": {
      "text/plain": [
       "40"
      ]
     },
     "execution_count": 8,
     "metadata": {},
     "output_type": "execute_result"
    },
    {
     "data": {
      "text/plain": [
       "34"
      ]
     },
     "execution_count": 8,
     "metadata": {},
     "output_type": "execute_result"
    },
    {
     "data": {
      "text/plain": [
       "23"
      ]
     },
     "execution_count": 8,
     "metadata": {},
     "output_type": "execute_result"
    },
    {
     "data": {
      "text/plain": [
       "25"
      ]
     },
     "execution_count": 8,
     "metadata": {},
     "output_type": "execute_result"
    },
    {
     "data": {
      "text/plain": [
       "29"
      ]
     },
     "execution_count": 8,
     "metadata": {},
     "output_type": "execute_result"
    },
    {
     "data": {
      "text/plain": [
       "28"
      ]
     },
     "execution_count": 8,
     "metadata": {},
     "output_type": "execute_result"
    },
    {
     "data": {
      "text/plain": [
       "33"
      ]
     },
     "execution_count": 8,
     "metadata": {},
     "output_type": "execute_result"
    },
    {
     "data": {
      "text/plain": [
       "31"
      ]
     },
     "execution_count": 8,
     "metadata": {},
     "output_type": "execute_result"
    },
    {
     "data": {
      "text/plain": [
       "28"
      ]
     },
     "execution_count": 8,
     "metadata": {},
     "output_type": "execute_result"
    },
    {
     "data": {
      "text/plain": [
       "30"
      ]
     },
     "execution_count": 8,
     "metadata": {},
     "output_type": "execute_result"
    },
    {
     "data": {
      "text/plain": [
       "32"
      ]
     },
     "execution_count": 8,
     "metadata": {},
     "output_type": "execute_result"
    },
    {
     "data": {
      "text/plain": [
       "25"
      ]
     },
     "execution_count": 8,
     "metadata": {},
     "output_type": "execute_result"
    },
    {
     "data": {
      "text/plain": [
       "28"
      ]
     },
     "execution_count": 8,
     "metadata": {},
     "output_type": "execute_result"
    },
    {
     "data": {
      "text/plain": [
       "27"
      ]
     },
     "execution_count": 8,
     "metadata": {},
     "output_type": "execute_result"
    },
    {
     "data": {
      "text/plain": [
       "31"
      ]
     },
     "execution_count": 8,
     "metadata": {},
     "output_type": "execute_result"
    },
    {
     "data": {
      "text/plain": [
       "27"
      ]
     },
     "execution_count": 8,
     "metadata": {},
     "output_type": "execute_result"
    },
    {
     "data": {
      "text/plain": [
       "34"
      ]
     },
     "execution_count": 8,
     "metadata": {},
     "output_type": "execute_result"
    },
    {
     "data": {
      "text/plain": [
       "30"
      ]
     },
     "execution_count": 8,
     "metadata": {},
     "output_type": "execute_result"
    },
    {
     "data": {
      "text/plain": [
       "32"
      ]
     },
     "execution_count": 8,
     "metadata": {},
     "output_type": "execute_result"
    },
    {
     "data": {
      "text/plain": [
       "33"
      ]
     },
     "execution_count": 8,
     "metadata": {},
     "output_type": "execute_result"
    },
    {
     "data": {
      "text/plain": [
       "36"
      ]
     },
     "execution_count": 8,
     "metadata": {},
     "output_type": "execute_result"
    },
    {
     "data": {
      "text/plain": [
       "33"
      ]
     },
     "execution_count": 8,
     "metadata": {},
     "output_type": "execute_result"
    },
    {
     "data": {
      "text/plain": [
       "35"
      ]
     },
     "execution_count": 8,
     "metadata": {},
     "output_type": "execute_result"
    },
    {
     "data": {
      "text/plain": [
       "24"
      ]
     },
     "execution_count": 8,
     "metadata": {},
     "output_type": "execute_result"
    },
    {
     "data": {
      "text/plain": [
       "26"
      ]
     },
     "execution_count": 8,
     "metadata": {},
     "output_type": "execute_result"
    },
    {
     "data": {
      "text/plain": [
       "28"
      ]
     },
     "execution_count": 8,
     "metadata": {},
     "output_type": "execute_result"
    },
    {
     "data": {
      "text/plain": [
       "30"
      ]
     },
     "execution_count": 8,
     "metadata": {},
     "output_type": "execute_result"
    },
    {
     "data": {
      "text/plain": [
       "29"
      ]
     },
     "execution_count": 8,
     "metadata": {},
     "output_type": "execute_result"
    },
    {
     "data": {
      "text/plain": [
       "24"
      ]
     },
     "execution_count": 8,
     "metadata": {},
     "output_type": "execute_result"
    },
    {
     "data": {
      "text/plain": [
       "27"
      ]
     },
     "execution_count": 8,
     "metadata": {},
     "output_type": "execute_result"
    },
    {
     "data": {
      "text/plain": [
       "29"
      ]
     },
     "execution_count": 8,
     "metadata": {},
     "output_type": "execute_result"
    },
    {
     "data": {
      "text/plain": [
       "38"
      ]
     },
     "execution_count": 8,
     "metadata": {},
     "output_type": "execute_result"
    },
    {
     "data": {
      "text/plain": [
       "36"
      ]
     },
     "execution_count": 8,
     "metadata": {},
     "output_type": "execute_result"
    },
    {
     "data": {
      "text/plain": [
       "35"
      ]
     },
     "execution_count": 8,
     "metadata": {},
     "output_type": "execute_result"
    },
    {
     "data": {
      "text/plain": [
       "35"
      ]
     },
     "execution_count": 8,
     "metadata": {},
     "output_type": "execute_result"
    },
    {
     "data": {
      "text/plain": [
       "36"
      ]
     },
     "execution_count": 8,
     "metadata": {},
     "output_type": "execute_result"
    },
    {
     "data": {
      "text/plain": [
       "34"
      ]
     },
     "execution_count": 8,
     "metadata": {},
     "output_type": "execute_result"
    },
    {
     "data": {
      "text/plain": [
       "35"
      ]
     },
     "execution_count": 8,
     "metadata": {},
     "output_type": "execute_result"
    },
    {
     "data": {
      "text/plain": [
       "29"
      ]
     },
     "execution_count": 8,
     "metadata": {},
     "output_type": "execute_result"
    },
    {
     "data": {
      "text/plain": [
       "23"
      ]
     },
     "execution_count": 8,
     "metadata": {},
     "output_type": "execute_result"
    },
    {
     "data": {
      "text/plain": [
       "31"
      ]
     },
     "execution_count": 8,
     "metadata": {},
     "output_type": "execute_result"
    },
    {
     "data": {
      "text/plain": [
       "35"
      ]
     },
     "execution_count": 8,
     "metadata": {},
     "output_type": "execute_result"
    },
    {
     "data": {
      "text/plain": [
       "34"
      ]
     },
     "execution_count": 8,
     "metadata": {},
     "output_type": "execute_result"
    },
    {
     "data": {
      "text/plain": [
       "32"
      ]
     },
     "execution_count": 8,
     "metadata": {},
     "output_type": "execute_result"
    },
    {
     "data": {
      "text/plain": [
       "31"
      ]
     },
     "execution_count": 8,
     "metadata": {},
     "output_type": "execute_result"
    },
    {
     "data": {
      "text/plain": [
       "33"
      ]
     },
     "execution_count": 8,
     "metadata": {},
     "output_type": "execute_result"
    },
    {
     "data": {
      "text/plain": [
       "29"
      ]
     },
     "execution_count": 8,
     "metadata": {},
     "output_type": "execute_result"
    },
    {
     "data": {
      "text/plain": [
       "34"
      ]
     },
     "execution_count": 8,
     "metadata": {},
     "output_type": "execute_result"
    },
    {
     "data": {
      "text/plain": [
       "33"
      ]
     },
     "execution_count": 8,
     "metadata": {},
     "output_type": "execute_result"
    },
    {
     "data": {
      "text/plain": [
       "33"
      ]
     },
     "execution_count": 8,
     "metadata": {},
     "output_type": "execute_result"
    },
    {
     "data": {
      "text/plain": [
       "27"
      ]
     },
     "execution_count": 8,
     "metadata": {},
     "output_type": "execute_result"
    },
    {
     "data": {
      "text/plain": [
       "26"
      ]
     },
     "execution_count": 8,
     "metadata": {},
     "output_type": "execute_result"
    },
    {
     "data": {
      "text/plain": [
       "24"
      ]
     },
     "execution_count": 8,
     "metadata": {},
     "output_type": "execute_result"
    },
    {
     "data": {
      "text/plain": [
       "32"
      ]
     },
     "execution_count": 8,
     "metadata": {},
     "output_type": "execute_result"
    },
    {
     "data": {
      "text/plain": [
       "29"
      ]
     },
     "execution_count": 8,
     "metadata": {},
     "output_type": "execute_result"
    },
    {
     "data": {
      "text/plain": [
       "32"
      ]
     },
     "execution_count": 8,
     "metadata": {},
     "output_type": "execute_result"
    },
    {
     "data": {
      "text/plain": [
       "28"
      ]
     },
     "execution_count": 8,
     "metadata": {},
     "output_type": "execute_result"
    },
    {
     "data": {
      "text/plain": [
       "33"
      ]
     },
     "execution_count": 8,
     "metadata": {},
     "output_type": "execute_result"
    },
    {
     "data": {
      "text/plain": [
       "33"
      ]
     },
     "execution_count": 8,
     "metadata": {},
     "output_type": "execute_result"
    },
    {
     "data": {
      "text/plain": [
       "35"
      ]
     },
     "execution_count": 8,
     "metadata": {},
     "output_type": "execute_result"
    },
    {
     "data": {
      "text/plain": [
       "34"
      ]
     },
     "execution_count": 8,
     "metadata": {},
     "output_type": "execute_result"
    },
    {
     "data": {
      "text/plain": [
       "30"
      ]
     },
     "execution_count": 8,
     "metadata": {},
     "output_type": "execute_result"
    },
    {
     "data": {
      "text/plain": [
       "34"
      ]
     },
     "execution_count": 8,
     "metadata": {},
     "output_type": "execute_result"
    },
    {
     "data": {
      "text/plain": [
       "32"
      ]
     },
     "execution_count": 8,
     "metadata": {},
     "output_type": "execute_result"
    },
    {
     "data": {
      "text/plain": [
       "38"
      ]
     },
     "execution_count": 8,
     "metadata": {},
     "output_type": "execute_result"
    },
    {
     "data": {
      "text/plain": [
       "30"
      ]
     },
     "execution_count": 8,
     "metadata": {},
     "output_type": "execute_result"
    },
    {
     "data": {
      "text/plain": [
       "27"
      ]
     },
     "execution_count": 8,
     "metadata": {},
     "output_type": "execute_result"
    },
    {
     "data": {
      "text/plain": [
       "29"
      ]
     },
     "execution_count": 8,
     "metadata": {},
     "output_type": "execute_result"
    }
   ],
   "source": [
    "#Stack ENVIREM+BIOCLIM+HISTORIC+ECOREGION+SPECIES datasets\n",
    "list_variables=[]\n",
    "list_names=[]\n",
    "\n",
    "\n",
    "for item in list_bioclim_files:\n",
    "    list_variables.append(item)   \n",
    "for item in list_envirem_files:\n",
    "    list_variables.append(item)\n",
    "#for item in list_eco_attrib_files:\n",
    " #   list_variables.append(item)\n",
    "for item in list_ecoregion_files:\n",
    "    list_variables.append(item)\n",
    "for item in list_species_files:\n",
    "    list_variables.append(item)\n",
    "    \n",
    "     \n",
    "es.stack(list_variables, file_dir+\"/data/GIS/env_stacked/stacked_env_variables.tif\")\n",
    "\n",
    "\n",
    "for item in names_bioclim:\n",
    "    list_names.append(item)   \n",
    "for item in names_envirem:\n",
    "    list_names.append(item)\n",
    "#for item in names_eco_attrib:\n",
    " #   list_names.append(item)\n",
    "for item in names_ecoregion:\n",
    "    list_names.append(item)\n",
    "for item in names_species:\n",
    "    list_names.append(item)\n",
    "    \n",
    "#save the names of the variables in order to list\n",
    "myfile = open(file_dir+'/data/GIS/env_stacked/variable_list.txt', 'w+')\n",
    "for item in list_names:\n",
    "    myfile.write(item+\"\\n\")\n",
    "myfile.close()\n",
    "\n"
   ]
  },
  {
   "cell_type": "code",
   "execution_count": null,
   "metadata": {},
   "outputs": [],
   "source": []
  },
  {
   "cell_type": "code",
   "execution_count": null,
   "metadata": {},
   "outputs": [],
   "source": []
  },
  {
   "cell_type": "code",
   "execution_count": null,
   "metadata": {},
   "outputs": [],
   "source": []
  },
  {
   "cell_type": "code",
   "execution_count": null,
   "metadata": {},
   "outputs": [],
   "source": [
    "###create dataset to predict on\n",
    "\n",
    " ###Dataset of world map including all locations with data-values (to later predict presence-pseudoabsence on)\n",
    "    src=rasterio.open(file_dir+'/data/GIS/env_stacked/stacked_env_variables.tif')\n",
    "    array=src.read_masks(1)\n",
    "    \n",
    "    r = gdal.Open(file_dir+'/data/GIS/env_stacked/stacked_env_variables.tif')\n",
    "    (y_index, x_index) = np.nonzero(array > 0)\n",
    "    (upper_left_x, x_size, x_rotation, upper_left_y, y_rotation, y_size) = r.GetGeoTransform()\n",
    "    x_coords = x_index * x_size + upper_left_x + (x_size / 2) #add half the cell size\n",
    "    y_coords = y_index * y_size + upper_left_y + (y_size / 2) #to centre the point\n",
    "\n",
    "    lon_lat_array=np.stack((x_coords,y_coords)).T\n",
    "\n",
    "    lon=[]\n",
    "    lat=[]\n",
    "\n",
    "    for item in lon_lat_array:\n",
    "        longitude=item[0]\n",
    "        latitude=item[1]\n",
    "        lon.append(longitude)\n",
    "        lat.append(latitude)\n",
    "\n",
    "    taxon=[\"%s\"%spec]*len(lon)\n",
    "\n",
    "    data_to_pred=pd.DataFrame({\"decimal_longitude\":lon,\"decimal_latitude\":lat})\n",
    "    print(len(data_to_pred), \"number of points to predict\")\n",
    "    data_to_pred.to_csv(file_dir + \"/data/GIS/world_locations_to_predict2.csv\")\n",
    "    \n"
   ]
  },
  {
   "cell_type": "code",
   "execution_count": null,
   "metadata": {},
   "outputs": [],
   "source": [
    "###extract raster values at world locations to predict\n",
    "data=pd.read_csv(file_dir + \"/data/GIS/world_locations_to_predict.csv\")\n",
    "src = rasterio.open(file_dir+'/data/GIS/env_stacked/stacked_env_variables.tif')\n",
    "\n",
    "lon = data[\"decimal_longitude\"]\n",
    "lat = data[\"decimal_latitude\"]\n",
    "lat = pd.Series.tolist(lat)\n",
    "lon = pd.Series.tolist(lon)\n",
    "\n",
    "for i in range(1, 348):\n",
    "    array = src.read(i)\n",
    "    band_name = list_names[i]\n",
    "    data[band_name] = None\n",
    "    print(\"processing band %s\" % i)\n",
    "    for j in range(0, len(data)):\n",
    "        # What is the corresponding row and column in our image?\n",
    "        row, col = src.index(lon[j], lat[j])  # spatial --> image coordinates\n",
    "        # print(f'row,col=\\t\\t({row},{col})')\n",
    "        # What is the value?\n",
    "        value = array[row, col]\n",
    "        data[band_name][j] = value\n",
    "data.to_csv(file_dir + \"/data/GIS/world_env_dataframe.csv\")\n",
    "\n",
    "\n",
    "\n",
    "\n"
   ]
  }
 ],
 "metadata": {
  "kernelspec": {
   "display_name": "Python 3",
   "language": "python",
   "name": "python3"
  },
  "language_info": {
   "codemirror_mode": {
    "name": "ipython",
    "version": 3
   },
   "file_extension": ".py",
   "mimetype": "text/x-python",
   "name": "python",
   "nbconvert_exporter": "python",
   "pygments_lexer": "ipython3",
   "version": "3.6.1"
  }
 },
 "nbformat": 4,
 "nbformat_minor": 2
}
