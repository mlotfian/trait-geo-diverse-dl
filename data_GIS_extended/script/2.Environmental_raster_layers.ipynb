{
 "cells": [
  {
   "cell_type": "markdown",
   "metadata": {},
   "source": [
    "#### Setup\n",
    "We first set the notebook to display the output from each code block, <br>\n",
    "then import the required packages and set the file directory."
   ]
  },
  {
   "cell_type": "code",
   "execution_count": null,
   "metadata": {},
   "outputs": [],
   "source": [
    "from IPython.core.interactiveshell import InteractiveShell\n",
    "InteractiveShell.ast_node_interactivity = \"all\"\n",
    "\n",
    "from shapely.geometry import Point\n",
    "import matplotlib.pyplot as plt\n",
    "import rasterio.mask\n",
    "import fiona\n",
    "from rasterio.mask import mask\n",
    "from rasterio.plot import show\n",
    "from rasterio.plot import plotting_extent\n",
    "from natsort import natsorted\n",
    "import earthpy.spatial as es\n",
    "import gdal\n",
    "from osgeo import osr,gdal_array\n",
    "import pandas as pd\n",
    "import numpy as np\n",
    "import geopandas as gpd\n",
    "import rasterio\n",
    "import os\n",
    "\n",
    "file_dir=r'C:/Users/Mark.Rademaker/PycharmProjects/InternshipNaturalis/trait-geo-diverse-dl/data_GIS_extended'"
   ]
  },
  {
   "cell_type": "markdown",
   "metadata": {},
   "source": [
    "#### Read in Bioclim data\n",
    "The location paths and names of the various bioclim rasters are read in for stacking in the final codeblock of this notebook."
   ]
  },
  {
   "cell_type": "code",
   "execution_count": null,
   "metadata": {},
   "outputs": [],
   "source": [
    "#BIOCLIM dataset\n",
    "#Read in location paths and raster names\n",
    "list_bioclim_files=[]\n",
    "names_bioclim=[]\n",
    "\n",
    "for root, dirs, files in os.walk(file_dir+\"/data/GIS/wc5\"):\n",
    "    for file in files:\n",
    "        if file.endswith('.tif') and \"stacked\" not in file:\n",
    "            list_bioclim_files.append(file_dir+\"/data/GIS/wc5/\"+file)\n",
    "            name=file.replace(\".tif\",\"\")\n",
    "            names_bioclim.append(name)\n",
    "            names_bioclim=natsorted(names_bioclim,key=lambda y: y.lower())\n",
    "print(names_bioclim)"
   ]
  },
  {
   "cell_type": "markdown",
   "metadata": {},
   "source": [
    "#### Read in ENVIREM data\n",
    "The location paths and names of the various envirem rasters are read in for stacking in the final codeblock of this notebook.\n"
   ]
  },
  {
   "cell_type": "code",
   "execution_count": null,
   "metadata": {},
   "outputs": [],
   "source": [
    "#ENVIREM dataset\n",
    "#Read in location paths and raster names\n",
    "list_envirem_files=[]\n",
    "names_envirem=[]\n",
    "\n",
    "for root, dirs, files in os.walk(file_dir+\"/data/GIS/5_deg\"):\n",
    "    for file in files:\n",
    "        if file.endswith('.tif') and \"stacked\" not in file:\n",
    "            list_envirem_files.append(file_dir+\"/data/GIS/5_deg/\"+file)\n",
    "            name=file.replace(\".tif\",\"\")\n",
    "            names_envirem.append(name)\n",
    "            names_envirem=natsorted(names_envirem,key=lambda y: y.lower())\n",
    "print(names_envirem)"
   ]
  },
  {
   "cell_type": "markdown",
   "metadata": {},
   "source": [
    "#### Create  empty land map \n",
    "This 'empty' map is created to subset new ecobiome and species raster variables on."
   ]
  },
  {
   "cell_type": "code",
   "execution_count": null,
   "metadata": {},
   "outputs": [],
   "source": [
    "pred_data=pd.read_csv(file_dir+'/data/GIS/world_locations_to_predict.csv')\n",
    "\n",
    "long=pred_data[\"decimal_longitude\"]\n",
    "lati=pred_data[\"decimal_latitude\"]\n",
    "long=pd.Series.tolist(long)\n",
    "lati=pd.Series.tolist(lati)\n",
    "\n",
    "src = rasterio.open(file_dir+'/data/GIS/5_deg/Aspect_5deg.tif')\n",
    "band= src.read(1,masked=True)\n",
    "rasterio.plot.show(band)\n",
    "\n",
    "new_band = band.copy()\n",
    "\n",
    "#set raster cell mask values of land area to 0 (to differentiate it from the sea)\n",
    "for i in range(0,len(pred_data)):\n",
    "    row,col=src.index(long[i],lati[i])\n",
    "    new_band[row,col]=0\n",
    "\n",
    "fig, ax = plt.subplots(figsize=(10, 10))\n",
    "ax.imshow(new_band,cmap=\"gray\")\n",
    "ax.set_title(\"land map\",\n",
    "         fontsize=20)\n",
    "plt.show()\n",
    "\n",
    "profile = src.profile\n",
    "print(profile)\n",
    "\n",
    "with rasterio.open(file_dir+'/data/GIS/empty_land_map.tif', 'w', **profile) as dst:\n",
    "        dst.write(new_band.astype(rasterio.float32), 1)"
   ]
  },
  {
   "cell_type": "markdown",
   "metadata": {},
   "source": [
    "#### Create TNC Ecoregion attribute maps\n",
    "There are five separate ecoregion attribute maps, (1) Habitat fragmentation (2) Human accessibility (3) Human appropriation (4) Mammal species richness and (5) Plant species richness. These maps are still in shapefiles and need to be subset into separate rasters. The location paths and names of the various ecoregion attribute rasters are read in for stacking in the final codeblock of this notebook."
   ]
  },
  {
   "cell_type": "code",
   "execution_count": null,
   "metadata": {},
   "outputs": [],
   "source": [
    "#Habitat fragmentation\n",
    "shp_fn=file_dir+'/data/GIS/tnc/Habitat_Fragmentation/wwf_ecos_hab_frag.shp'\n",
    "rst_fn =file_dir+'/data/GIS/5_deg/Aspect_5deg.tif'\n",
    "out_fn =file_dir+'/data/GIS/tnc/ecoregion_attribute_rasters/habitat_fragmentation.tif'\n",
    "\n",
    "df=gpd.read_file(file_dir+'/data/GIS/tnc/Habitat_Fragmentation/wwf_ecos_hab_frag.shp')\n",
    "\n",
    "rst = rasterio.open(rst_fn)\n",
    "meta = rst.meta.copy()\n",
    "\n",
    "\n",
    "src=rasterio.open(rst_fn)\n",
    "\n",
    "with rasterio.open(out_fn, 'w', **meta) as out:\n",
    "    out_arr = src.read(1)\n",
    "\n",
    "    # this is where we create a generator of geom, value pairs to use in rasterizing\n",
    "    shapes = ((geom,value) for geom, value in zip(df.geometry, df.fragmntndx))\n",
    "\n",
    "    burned = features.rasterize(shapes=shapes, fill=0, out=out_arr, transform=out.transform,all_touched=True)\n",
    "    out.write_band(1, burned)"
   ]
  },
  {
   "cell_type": "code",
   "execution_count": null,
   "metadata": {},
   "outputs": [],
   "source": [
    "#Human Accessibility\n",
    "shp_fn=file_dir+'/data/GIS/tnc/Human_Accessibility/wwf_ecos_human_access.shp'\n",
    "rst_fn =file_dir+'/data/GIS/5_deg/Aspect_5deg.tif'\n",
    "out_fn =file_dir+'/data/GIS/tnc/ecoregion_attribute_rasters/human_accessibility.tif'\n",
    "\n",
    "df=gpd.read_file(file_dir+'/data/GIS/tnc/Human_Accessibility/wwf_ecos_human_access.shp')\n",
    "\n",
    "rst = rasterio.open(rst_fn)\n",
    "meta = rst.meta.copy()\n",
    "\n",
    "\n",
    "src=rasterio.open(rst_fn)\n",
    "\n",
    "with rasterio.open(out_fn, 'w', **meta) as out:\n",
    "    out_arr = src.read(1)\n",
    "\n",
    "    # this is where we create a generator of geom, value pairs to use in rasterizing\n",
    "    shapes = ((geom,value) for geom, value in zip(df.geometry, df.humAcc_ndx))\n",
    "\n",
    "    burned = features.rasterize(shapes=shapes, fill=0, out=out_arr, transform=out.transform,all_touched=True)\n",
    "    out.write_band(1, burned)"
   ]
  },
  {
   "cell_type": "code",
   "execution_count": null,
   "metadata": {},
   "outputs": [],
   "source": [
    "#Human Appropriation\n",
    "shp_fn=file_dir+'/data/GIS/tnc/Human_Appropriation/wwf_ecos_hum_approp.shp'\n",
    "rst_fn =file_dir+'/data/GIS/5_deg/Aspect_5deg.tif'\n",
    "out_fn =file_dir+'/data/GIS/tnc/ecoregion_attribute_rasters/human_appropriation.tif'\n",
    "\n",
    "df=gpd.read_file(file_dir+'/data/GIS/tnc/Human_Appropriation/wwf_ecos_hum_approp.shp')\n",
    "\n",
    "rst = rasterio.open(rst_fn)\n",
    "meta = rst.meta.copy()\n",
    "\n",
    "\n",
    "src=rasterio.open(rst_fn)\n",
    "\n",
    "with rasterio.open(out_fn, 'w', **meta) as out:\n",
    "    out_arr = src.read(1)\n",
    "\n",
    "    # this is where we create a generator of geom, value pairs to use in rasterizing\n",
    "    shapes = ((geom,value) for geom, value in zip(df.geometry, df.HumAppIndx))\n",
    "\n",
    "    burned = features.rasterize(shapes=shapes, fill=0, out=out_arr, transform=out.transform,all_touched=True)\n",
    "    out.write_band(1, burned)"
   ]
  },
  {
   "cell_type": "code",
   "execution_count": null,
   "metadata": {},
   "outputs": [],
   "source": [
    "#Mammal species richness\n",
    "shp_fn=file_dir+'/data/GIS/tnc/Mammal_species_richness/wwf_ecos_mammal_spcs.shp'\n",
    "rst_fn =file_dir+'/data/GIS/5_deg/Aspect_5deg.tif'\n",
    "out_fn =file_dir+'/data/GIS/tnc/ecoregion_attribute_rasters/mammal_spr.tif'\n",
    "\n",
    "df=gpd.read_file(file_dir+'/data/GIS/tnc/Mammal_species_richness/wwf_ecos_mammal_spcs.shp')\n",
    "\n",
    "rst = rasterio.open(rst_fn)\n",
    "meta = rst.meta.copy()\n",
    "\n",
    "\n",
    "src=rasterio.open(rst_fn)\n",
    "\n",
    "with rasterio.open(out_fn, 'w', **meta) as out:\n",
    "    out_arr = src.read(1)\n",
    "\n",
    "    # this is where we create a generator of geom, value pairs to use in rasterizing\n",
    "    shapes = ((geom,value) for geom, value in zip(df.geometry, df.mamml_spcs))\n",
    "\n",
    "    burned = features.rasterize(shapes=shapes, fill=0, out=out_arr, transform=out.transform,all_touched=True)\n",
    "    out.write_band(1, burned)"
   ]
  },
  {
   "cell_type": "code",
   "execution_count": null,
   "metadata": {},
   "outputs": [],
   "source": [
    "#Plant species richness\n",
    "shp_fn=file_dir+'/data/GIS/tnc/Plant_Species_Richness/wwf_ecos_plant_spcs.shp'\n",
    "rst_fn =file_dir+'/data/GIS/5_deg/Aspect_5deg.tif'\n",
    "out_fn =file_dir+'/data/GIS/tnc/ecoregion_attribute_rasters/plant_spr.tif'\n",
    "\n",
    "df=gpd.read_file(file_dir+'/data/GIS/tnc/Plant_Species_Richness/wwf_ecos_plant_spcs.shp')\n",
    "rst = rasterio.open(rst_fn)\n",
    "meta = rst.meta.copy()\n",
    "\n",
    "\n",
    "src=rasterio.open(rst_fn)\n",
    "\n",
    "with rasterio.open(out_fn, 'w', **meta) as out:\n",
    "    out_arr = src.read(1)\n",
    "\n",
    "    # this is where we create a generator of geom, value pairs to use in rasterizing\n",
    "    shapes = ((geom,value) for geom, value in zip(df.geometry, df.plant_spcs))\n",
    "\n",
    "    burned = features.rasterize(shapes=shapes, fill=0, out=out_arr, transform=out.transform,all_touched=True)\n",
    "    out.write_band(1, burned)"
   ]
  },
  {
   "cell_type": "code",
   "execution_count": null,
   "metadata": {
    "scrolled": true
   },
   "outputs": [],
   "source": [
    "#Ecoregion attribute dataset\n",
    "#Read in location paths and raster names\n",
    "list_eco_attrib_files=[]\n",
    "names_eco_attrib=[]\n",
    "\n",
    "for root, dirs, files in os.walk(file_dir+\"/data/GIS/tnc/ecoregion_attribute_rasters\"):\n",
    "    for file in files:\n",
    "        if file.endswith('.tif') and \"ecoregions\" not in file and \"stacked\" not in file:\n",
    "            list_eco_attrib_files.append(file_dir+\"/data/GIS/tnc/ecoregion_attribute_rasters/\"+file)\n",
    "            name=file.replace(\".tif\",\"\")\n",
    "            names_eco_attrib.append(name)\n",
    "print(names_eco_attrib)"
   ]
  },
  {
   "cell_type": "markdown",
   "metadata": {},
   "source": [
    "#### Part 5. Create  TNC ecoregions raster\n",
    "There are twelve separate ecoregions. Similar to the ecoregion attributes, these ecoregions are in a single shapefile and need to be subset into separate rasters. The first codeblock rasterizes the shapefile. The second block inspects this raster and the third block creates separate raster maps for each of the different ecoregions. The location paths and names of the various ecoregion rasters are read in for stacking in the final codeblock of this notebook."
   ]
  },
  {
   "cell_type": "code",
   "execution_count": null,
   "metadata": {},
   "outputs": [],
   "source": [
    "shp_fn=file_dir+'/data/GIS/tnc/tnc_terr_ecoregions.shp'\n",
    "rst_fn =file_dir+'/data/GIS/5_deg/Aspect_5deg.tif'\n",
    "out_fn =file_dir+'/data/GIS/tnc/ecoregions.tif'\n",
    "df=gpd.read_file(file_dir+'/data/GIS/tnc/tnc_terr_ecoregions.shp')\n",
    "\n",
    "rst = rasterio.open(rst_fn)\n",
    "meta = rst.meta.copy()\n",
    "\n",
    "src=rasterio.open(rst_fn)\n",
    "\n",
    "with rasterio.open(out_fn, 'w', **meta) as out:\n",
    "    out_arr = src.read(1)\n",
    "\n",
    "    # This is where we create a generator of geom, value pairs to use in rasterizing\n",
    "    shapes = ((geom,value) for geom, value in zip(df.geometry, df.WWF_MHTNUM))\n",
    "\n",
    "    burned = features.rasterize(shapes=shapes, fill=0, out=out_arr, transform=out.transform,all_touched=True)\n",
    "    out.write_band(1, burned)"
   ]
  },
  {
   "cell_type": "code",
   "execution_count": null,
   "metadata": {},
   "outputs": [],
   "source": [
    "clipped = rasterio.open(out_fn)\n",
    "array = clipped.read(1)\n",
    "array_data = clipped.read(1,masked=True)\n",
    "array_meta = clipped.profile\n",
    "\n",
    "fig, ax = plt.subplots(figsize=(24, 10))\n",
    "ax.imshow(array_data,cmap=\"YlGn_r\",interpolation=\"none\",vmin=0,vmax=100)\n",
    "ax.set_title('ecoregions map',fontsize=40)\n",
    "plt.show"
   ]
  },
  {
   "cell_type": "code",
   "execution_count": null,
   "metadata": {},
   "outputs": [],
   "source": [
    "###create array of unique ecoregion codes and names\n",
    "eco_names=df.WWF_MHTNAM.unique()\n",
    "eco_codes=df.WWF_MHTNUM.unique()\n",
    "\n",
    "####open empty landmap as source to subset values on\n",
    "src=rasterio.open(file_dir+'/data/GIS/empty_land_map.tif')\n",
    "profile=src.profile\n",
    "band=src.read(1)\n",
    "\n",
    "####open rasterized ecoregion map as source to extract values from\n",
    "ecor=rasterio.open(file_dir+'/data/GIS/tnc/ecoregions.tif')\n",
    "array=ecor.read(1)\n",
    "\n",
    "for item in range(0,len(eco_codes)):\n",
    "    new_band=band.copy()\n",
    "    ecoregion=eco_names[item]\n",
    "    ecoregion=ecoregion.replace(\" \",\"_\")\n",
    "    ecoregion=ecoregion.replace(\"/\",\"_\")\n",
    "    eco_subset=np.where(array==eco_codes[item])\n",
    "    rows=eco_subset[0]\n",
    "    cols=eco_subset[1]\n",
    "    for i in range(0,len(rows)):\n",
    "        new_band[rows[i],cols[i]]=1\n",
    "    \n",
    "    rasterio.plot.show(new_band)\n",
    "    \n",
    "    with rasterio.open(file_dir+'/data/GIS/tnc/ecoregion_rasters/%s_map.tif'%ecoregion,\"w\",**profile) as dst:\n",
    "        dst.write(new_band.astype(rasterio.float32),1)"
   ]
  },
  {
   "cell_type": "code",
   "execution_count": null,
   "metadata": {},
   "outputs": [],
   "source": [
    "#Ecoregion dataset\n",
    "#Read in location paths and raster names\n",
    "list_ecoregion_files=[]\n",
    "names_ecoregion=[]\n",
    "\n",
    "for root, dirs, files in os.walk(file_dir+'/data/GIS/tnc/ecoregion_rasters'):\n",
    "    for file in files:\n",
    "        if file.endswith('.tif') and \"time\" not in file and \"stacked\" not in file and \"UNC\" not in file:\n",
    "            list_ecoregion_files.append(file_dir+'/data/GIS/tnc/ecoregion_rasters/'+file)\n",
    "            name=file.replace(\".tif\",\"\")\n",
    "            names_ecoregion.append(name)"
   ]
  },
  {
   "cell_type": "markdown",
   "metadata": {},
   "source": [
    "####  Create species occurrence rasters\n",
    "To create species occurrence rasters, the dataframe with occurrences is loaded in and the cell locations of the occurrences determined for the empty land map created earlier. The values of the cells with occurrences located in them is then set to 1 and the map is saved."
   ]
  },
  {
   "cell_type": "code",
   "execution_count": null,
   "metadata": {},
   "outputs": [],
   "source": [
    "#access file with list of taxa names\n",
    "taxa=pd.read_csv(file_dir+\"/data/SQL_filtered_gbif/taxa_list.txt\",header=None)\n",
    "taxa.columns=[\"taxon\"]\n",
    "\n",
    "\n",
    "species_occ_dict={}\n",
    "\n",
    "for i in taxa[\"taxon\"]:\n",
    "    taxon_data = pd.read_csv(file_dir+\"/data/SQL_filtered_gbif/%s_filtered_data.csv\"%i)\n",
    "    #add species dataframe to dict\n",
    "    species_occ_dict[\"%s\"%i] = taxon_data  \n",
    "    #check whether all species have been included and inspect dictionary\n",
    "if len(species_occ_dict.keys())==len(taxa[\"taxon\"]):\n",
    "    print(\"All species dataframes now in dictionary\")\n",
    "else:\n",
    "    print(\"Error: not all species dataframe included\")"
   ]
  },
  {
   "cell_type": "code",
   "execution_count": null,
   "metadata": {},
   "outputs": [],
   "source": [
    "src=rasterio.open(file_dir+'/data/GIS/empty_land_map.tif')\n",
    "band=src.read(1)\n",
    "\n",
    "for key in species_occ_dict:\n",
    "    new_band = band.copy()\n",
    "    \n",
    "    #lon_lat presence points\n",
    "    presence_data = species_occ_dict[key]\n",
    "    presence_data[\"present/pseudo_absent\"]=1\n",
    "    spec = key\n",
    "    long=presence_data[\"decimal_longitude\"]\n",
    "    lati=presence_data[\"decimal_latitude\"]\n",
    "    long=pd.Series.tolist(long)\n",
    "    lati=pd.Series.tolist(lati)\n",
    "\n",
    "    #set raster cell mask values of presence locations to 100\n",
    "    for i in range(0,len(presence_data)):\n",
    "        row,col=src.index(long[i],lati[i])\n",
    "        new_band[row,col]=1\n",
    "        \n",
    "    rasterio.plot.show(new_band)\n",
    "\n",
    "    with rasterio.open(file_dir+'/data/GIS/spec_presence/%s_presence_map.tif'%spec, 'w', **profile) as dst:\n",
    "        dst.write(new_band.astype(rasterio.float32), 1)"
   ]
  },
  {
   "cell_type": "code",
   "execution_count": null,
   "metadata": {},
   "outputs": [],
   "source": [
    "#Species occurrence dataset\n",
    "#Read in location paths and raster names\n",
    "list_species_files=[]\n",
    "names_species=[]\n",
    "\n",
    "for root, dirs, files in os.walk(file_dir+\"/data/GIS/spec_presence\"):\n",
    "    for file in files:\n",
    "        if file.endswith('.tif') and \"stacked\" not in file:\n",
    "            list_species_files.append(file_dir+\"/data/GIS/spec_presence/\"+file)\n",
    "            name=file.replace(\".tif\",\"\")\n",
    "            names_species.append(name)"
   ]
  },
  {
   "cell_type": "markdown",
   "metadata": {},
   "source": [
    "#### Stack the various environmental rasters into a single raster"
   ]
  },
  {
   "cell_type": "code",
   "execution_count": null,
   "metadata": {},
   "outputs": [],
   "source": [
    "#Stack ENVIREM+BIOCLIM+HISTORIC+ECOREGION+SPECIES datasets\n",
    "list_variables=[]\n",
    "list_names=[]\n",
    "\n",
    "\n",
    "for item in list_bioclim_files:\n",
    "    list_variables.append(item)   \n",
    "for item in list_envirem_files:\n",
    "    list_variables.append(item)\n",
    "for item in list_eco_attrib_files:\n",
    "    list_variables.append(item)\n",
    "for item in list_ecoregion_files:\n",
    "    list_variables.append(item)\n",
    "for item in list_species_files:\n",
    "    list_variables.append(item)\n",
    "    \n",
    "     \n",
    "es.stack(list_variables, file_dir+\"/data/GIS/env_stacked/stacked_env_variables.tif\")\n",
    "\n",
    "\n",
    "for item in names_bioclim:\n",
    "    list_names.append(item)   \n",
    "for item in names_envirem:\n",
    "    list_names.append(item)\n",
    "for item in names_eco_attrib:\n",
    "    list_names.append(item)\n",
    "for item in names_ecoregion:\n",
    "    list_names.append(item)\n",
    "for item in names_species:\n",
    "    list_names.append(item)\n",
    "    \n",
    "#save the names of the variables in order to list\n",
    "myfile = open(file_dir+'/data/GIS/env_stacked/variable_list.txt', 'w+')\n",
    "for item in list_names:\n",
    "    myfile.write(item+\"\\n\")\n",
    "myfile.close()\n"
   ]
  }
 ],
 "metadata": {
  "kernelspec": {
   "display_name": "Python 3",
   "language": "python",
   "name": "python3"
  },
  "language_info": {
   "codemirror_mode": {
    "name": "ipython",
    "version": 3
   },
   "file_extension": ".py",
   "mimetype": "text/x-python",
   "name": "python",
   "nbconvert_exporter": "python",
   "pygments_lexer": "ipython3",
   "version": "3.6.1"
  }
 },
 "nbformat": 4,
 "nbformat_minor": 2
}
