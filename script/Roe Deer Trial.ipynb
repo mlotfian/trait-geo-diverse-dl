{
 "cells": [
  {
   "cell_type": "code",
   "execution_count": 1,
   "metadata": {},
   "outputs": [],
   "source": [
    "from IPython.core.interactiveshell import InteractiveShell\n",
    "InteractiveShell.ast_node_interactivity = \"all\""
   ]
  },
  {
   "cell_type": "code",
   "execution_count": 2,
   "metadata": {},
   "outputs": [
    {
     "name": "stderr",
     "output_type": "stream",
     "text": [
      "Can't load requested DLL: C:\\Program Files (x86)\\GDAL\\gdalplugins\\gdal_BAG.dll\n",
      "193: %1 is not a valid Win32 application.\n",
      "\n",
      "Can't load requested DLL: C:\\Program Files (x86)\\GDAL\\gdalplugins\\gdal_BAG.dll\n",
      "193: %1 is not a valid Win32 application.\n",
      "\n",
      "Can't load requested DLL: C:\\Program Files (x86)\\GDAL\\gdalplugins\\gdal_FITS.dll\n",
      "193: %1 is not a valid Win32 application.\n",
      "\n",
      "Can't load requested DLL: C:\\Program Files (x86)\\GDAL\\gdalplugins\\gdal_FITS.dll\n",
      "193: %1 is not a valid Win32 application.\n",
      "\n",
      "Can't load requested DLL: C:\\Program Files (x86)\\GDAL\\gdalplugins\\gdal_GMT.dll\n",
      "193: %1 is not a valid Win32 application.\n",
      "\n",
      "Can't load requested DLL: C:\\Program Files (x86)\\GDAL\\gdalplugins\\gdal_GMT.dll\n",
      "193: %1 is not a valid Win32 application.\n",
      "\n",
      "Can't load requested DLL: C:\\Program Files (x86)\\GDAL\\gdalplugins\\gdal_HDF4.dll\n",
      "193: %1 is not a valid Win32 application.\n",
      "\n",
      "Can't load requested DLL: C:\\Program Files (x86)\\GDAL\\gdalplugins\\gdal_HDF4.dll\n",
      "193: %1 is not a valid Win32 application.\n",
      "\n",
      "Can't load requested DLL: C:\\Program Files (x86)\\GDAL\\gdalplugins\\gdal_HDF4Image.dll\n",
      "193: %1 is not a valid Win32 application.\n",
      "\n",
      "Can't load requested DLL: C:\\Program Files (x86)\\GDAL\\gdalplugins\\gdal_HDF4Image.dll\n",
      "193: %1 is not a valid Win32 application.\n",
      "\n",
      "Can't load requested DLL: C:\\Program Files (x86)\\GDAL\\gdalplugins\\gdal_HDF5.dll\n",
      "193: %1 is not a valid Win32 application.\n",
      "\n",
      "Can't load requested DLL: C:\\Program Files (x86)\\GDAL\\gdalplugins\\gdal_HDF5.dll\n",
      "193: %1 is not a valid Win32 application.\n",
      "\n",
      "Can't load requested DLL: C:\\Program Files (x86)\\GDAL\\gdalplugins\\gdal_HDF5Image.dll\n",
      "193: %1 is not a valid Win32 application.\n",
      "\n",
      "Can't load requested DLL: C:\\Program Files (x86)\\GDAL\\gdalplugins\\gdal_HDF5Image.dll\n",
      "193: %1 is not a valid Win32 application.\n",
      "\n",
      "Can't load requested DLL: C:\\Program Files (x86)\\GDAL\\gdalplugins\\gdal_KEA.dll\n",
      "193: %1 is not a valid Win32 application.\n",
      "\n",
      "Can't load requested DLL: C:\\Program Files (x86)\\GDAL\\gdalplugins\\gdal_KEA.dll\n",
      "193: %1 is not a valid Win32 application.\n",
      "\n",
      "Can't load requested DLL: C:\\Program Files (x86)\\GDAL\\gdalplugins\\gdal_netCDF.dll\n",
      "193: %1 is not a valid Win32 application.\n",
      "\n",
      "Can't load requested DLL: C:\\Program Files (x86)\\GDAL\\gdalplugins\\gdal_netCDF.dll\n",
      "193: %1 is not a valid Win32 application.\n",
      "\n",
      "Can't load requested DLL: C:\\Program Files (x86)\\GDAL\\gdalplugins\\gdal_BAG.dll\n",
      "193: %1 is not a valid Win32 application.\n",
      "\n",
      "Can't load requested DLL: C:\\Program Files (x86)\\GDAL\\gdalplugins\\gdal_BAG.dll\n",
      "193: %1 is not a valid Win32 application.\n",
      "\n",
      "Can't load requested DLL: C:\\Program Files (x86)\\GDAL\\gdalplugins\\gdal_FITS.dll\n",
      "193: %1 is not a valid Win32 application.\n",
      "\n",
      "Can't load requested DLL: C:\\Program Files (x86)\\GDAL\\gdalplugins\\gdal_FITS.dll\n",
      "193: %1 is not a valid Win32 application.\n",
      "\n",
      "Can't load requested DLL: C:\\Program Files (x86)\\GDAL\\gdalplugins\\gdal_GMT.dll\n",
      "193: %1 is not a valid Win32 application.\n",
      "\n",
      "Can't load requested DLL: C:\\Program Files (x86)\\GDAL\\gdalplugins\\gdal_GMT.dll\n",
      "193: %1 is not a valid Win32 application.\n",
      "\n",
      "Can't load requested DLL: C:\\Program Files (x86)\\GDAL\\gdalplugins\\gdal_HDF4.dll\n",
      "193: %1 is not a valid Win32 application.\n",
      "\n",
      "Can't load requested DLL: C:\\Program Files (x86)\\GDAL\\gdalplugins\\gdal_HDF4.dll\n",
      "193: %1 is not a valid Win32 application.\n",
      "\n",
      "Can't load requested DLL: C:\\Program Files (x86)\\GDAL\\gdalplugins\\gdal_HDF4Image.dll\n",
      "193: %1 is not a valid Win32 application.\n",
      "\n",
      "Can't load requested DLL: C:\\Program Files (x86)\\GDAL\\gdalplugins\\gdal_HDF4Image.dll\n",
      "193: %1 is not a valid Win32 application.\n",
      "\n",
      "Can't load requested DLL: C:\\Program Files (x86)\\GDAL\\gdalplugins\\gdal_HDF5.dll\n",
      "193: %1 is not a valid Win32 application.\n",
      "\n",
      "Can't load requested DLL: C:\\Program Files (x86)\\GDAL\\gdalplugins\\gdal_HDF5.dll\n",
      "193: %1 is not a valid Win32 application.\n",
      "\n",
      "Can't load requested DLL: C:\\Program Files (x86)\\GDAL\\gdalplugins\\gdal_HDF5Image.dll\n",
      "193: %1 is not a valid Win32 application.\n",
      "\n",
      "Can't load requested DLL: C:\\Program Files (x86)\\GDAL\\gdalplugins\\gdal_HDF5Image.dll\n",
      "193: %1 is not a valid Win32 application.\n",
      "\n",
      "Can't load requested DLL: C:\\Program Files (x86)\\GDAL\\gdalplugins\\gdal_KEA.dll\n",
      "193: %1 is not a valid Win32 application.\n",
      "\n",
      "Can't load requested DLL: C:\\Program Files (x86)\\GDAL\\gdalplugins\\gdal_KEA.dll\n",
      "193: %1 is not a valid Win32 application.\n",
      "\n",
      "Can't load requested DLL: C:\\Program Files (x86)\\GDAL\\gdalplugins\\gdal_netCDF.dll\n",
      "193: %1 is not a valid Win32 application.\n",
      "\n",
      "Can't load requested DLL: C:\\Program Files (x86)\\GDAL\\gdalplugins\\gdal_netCDF.dll\n",
      "193: %1 is not a valid Win32 application.\n",
      "\n"
     ]
    }
   ],
   "source": [
    "from shapely.geometry import Point\n",
    "import matplotlib.pyplot as plt\n",
    "from rasterio.mask import mask\n",
    "from rasterio.plot import show\n",
    "from natsort import natsorted\n",
    "import earthpy.spatial as es\n",
    "from osgeo import gdal\n",
    "import pandas as pd\n",
    "import numpy as np\n",
    "import geopandas\n",
    "import rasterio\n",
    "import pycrs\n",
    "import os\n",
    "\n",
    "file_dir=r'C:/Users/M-RAM/PycharmProjects/InternshipNaturalis/github_trait_geo_diverse_dl/trait-geo-diverse-dl'"
   ]
  },
  {
   "cell_type": "markdown",
   "metadata": {},
   "source": [
    "build dictionary"
   ]
  },
  {
   "cell_type": "code",
   "execution_count": 3,
   "metadata": {},
   "outputs": [],
   "source": [
    "#access file with list of taxa names\n",
    "taxa=pd.read_csv(file_dir+\"/data/spec_filtered/taxa.txt\",header=None)\n",
    "taxa.columns=[\"taxon\"]"
   ]
  },
  {
   "cell_type": "code",
   "execution_count": 4,
   "metadata": {},
   "outputs": [
    {
     "name": "stdout",
     "output_type": "stream",
     "text": [
      "All species dataframes now in dictionary\n"
     ]
    }
   ],
   "source": [
    "species_occ_dict={}\n",
    "\n",
    "for i in taxa[\"taxon\"]:\n",
    "    taxon_data = pd.read_csv(file_dir+\"/data/spec_filtered/%s.csv\"%i)\n",
    "    #add species dataframe to dict\n",
    "    species_occ_dict[\"%s\"%i] = taxon_data  \n",
    "    #check whether all species have been included and inspect dictionary\n",
    "if len(species_occ_dict.keys())==len(taxa[\"taxon\"]):\n",
    "    print(\"All species dataframes now in dictionary\")\n",
    "else:\n",
    "    print(\"Error: not all species dataframe included\")"
   ]
  },
  {
   "cell_type": "markdown",
   "metadata": {},
   "source": [
    "#### Part 1\n",
    "- First read in occurrence data for Capreolus capreolus\n",
    "- Create a copy that we can use in the original state later\n",
    "- Create a buffer around each occurrence point, merge it into a single polygon\n",
    "- Clip the environmental raster based on this extend"
   ]
  },
  {
   "cell_type": "code",
   "execution_count": 5,
   "metadata": {},
   "outputs": [],
   "source": [
    "#load occurrence data \n",
    "data=species_occ_dict[\"Capreolus_capreolus\"]\n",
    "spec = \"Capreolus_capreolus\"\n",
    "\n",
    "\n",
    "data['coordinates'] = list(zip(data[\"decimal_longitude\"], data[\"decimal_latitude\"]))\n",
    "data['coordinates'] = data[\"coordinates\"].apply(Point)\n",
    "data[\"present/pseudo_absent\"]=1\n",
    "geo_data=geopandas.GeoDataFrame(data, geometry='coordinates',crs={'init' :'epsg:4326'})\n",
    "    \n",
    "#change projection to azimuthal equidistant to calculate 1000km buffer around point\n",
    "geo_data = geo_data.to_crs({'init': 'esri:54032'}) \n",
    "buffer=geo_data.buffer(1000*1000)\n",
    "buffer=buffer.to_crs(epsg=4326)\n",
    "\n",
    "#create single large polygon from individual buffers\n",
    "union_buffer=buffer.unary_union\n",
    "\n",
    "#first clip the raster based on this extend \n",
    "raster=rasterio.open(r'C:/Users/M-RAM/PycharmProjects/InternshipNaturalis/trait-geo-diverse-dl/data/GIS/env_stacked/ENVIREM_BIOCLIM_stacked.tif')\n",
    "#specify output tif:\n",
    "out_tif = r'C:/Users/M-RAM/PycharmProjects/InternshipNaturalis/trait-geo-diverse-dl/data/GIS/spec_stacked_raster_clip/%s_raster_clip.tif'%spec\n",
    "\n",
    "#clip the raster:\n",
    "out_img, out_transform = mask(dataset=raster, shapes=[union_buffer],crop=True)\n",
    "\n",
    "# Copy the metadata\n",
    "out_meta = raster.meta.copy()\n",
    "\n",
    "# Parse EPSG code\n",
    "epsg_code = int(raster.crs.data['init'][5:])\n",
    "out_meta.update({\"driver\": \"GTiff\",\n",
    "                 \"height\": out_img.shape[1],\n",
    "                 \"width\": out_img.shape[2],\n",
    "                 \"transform\": out_transform,\n",
    "                 \"crs\": pycrs.parse.from_epsg_code(epsg_code).to_proj4()})\n",
    "\n",
    "with rasterio.open(out_tif, \"w\", **out_meta) as dest:\n",
    "        dest.write(out_img)"
   ]
  },
  {
   "cell_type": "markdown",
   "metadata": {},
   "source": [
    "#### Part 2\n",
    "- now that we have the clipped raster we can use it to try and make a random selection of pseudo absence points\n",
    "- we first open the raster\n",
    "- then we separate those cells that actually contain pixel values (excluding the sea)\n",
    "- we calculate the longitude and latitude of the centre point of these cells <br>\n",
    "  (the environmental variable values do not vary within each cell so it doesn't matter if each points is in the centre)\n",
    "- we make a random selection of 10.0000 positions\n",
    "- we add the longitude and latitude values of these to to the dataset and export it  "
   ]
  },
  {
   "cell_type": "code",
   "execution_count": null,
   "metadata": {},
   "outputs": [],
   "source": [
    "###TRIAL"
   ]
  },
  {
   "cell_type": "code",
   "execution_count": 6,
   "metadata": {},
   "outputs": [
    {
     "data": {
      "text/plain": [
       "<matplotlib.image.AxesImage at 0xaf82fe8cf8>"
      ]
     },
     "execution_count": 6,
     "metadata": {},
     "output_type": "execute_result"
    },
    {
     "name": "stdout",
     "output_type": "stream",
     "text": [
      "10000 number of pseudo absences\n"
     ]
    },
    {
     "name": "stderr",
     "output_type": "stream",
     "text": [
      "C:\\Users\\M-RAM\\AppData\\Roaming\\Python\\Python36\\site-packages\\ipykernel_launcher.py:47: FutureWarning: Sorting because non-concatenation axis is not aligned. A future version\n",
      "of pandas will change to not sort by default.\n",
      "\n",
      "To accept the future behavior, pass 'sort=False'.\n",
      "\n",
      "To retain the current behavior and silence the warning, pass 'sort=True'.\n",
      "\n"
     ]
    },
    {
     "name": "stdout",
     "output_type": "stream",
     "text": [
      "10686 lenght data with pseudo absences\n",
      "107091 number of points to predict\n"
     ]
    },
    {
     "data": {
      "image/png": "[encoded data removed]",
      "text/plain": [
       "<Figure size 432x288 with 1 Axes>"
      ]
     },
     "metadata": {
      "needs_background": "light"
     },
     "output_type": "display_data"
    }
   ],
   "source": [
    "#lon_lat presence points\n",
    "presence_data = species_occ_dict[\"Capreolus_capreolus\"]\n",
    "spec = \"Capreolus_capreolus\"\n",
    "long=presence_data[\"decimal_longitude\"]\n",
    "lati=presence_data[\"decimal_latitude\"]\n",
    "long=pd.Series.tolist(long)\n",
    "lati=pd.Series.tolist(lati)\n",
    "\n",
    "#read raster\n",
    "src=rasterio.open(r'C:/Users/M-RAM/PycharmProjects/InternshipNaturalis/trait-geo-diverse-dl/data/GIS/spec_stacked_raster_clip/%s_raster_clip.tif'%spec)\n",
    "array=src.read_masks(1)\n",
    "\n",
    "#set raster cell mask values of presence locations to 1\n",
    "for i in range(0,len(presence_data)):\n",
    "    row,col=src.index(long[i],lati[i])\n",
    "    array[row,col]=1\n",
    "plt.imshow(array)\n",
    "(y_index, x_index) = np.nonzero(array > 1)\n",
    "\n",
    "#sample random locations from raster excluding sea and presence cells\n",
    "r = gdal.Open(r'C:/Users/M-RAM/PycharmProjects/InternshipNaturalis/trait-geo-diverse-dl/data/GIS/spec_stacked_raster_clip/%s_raster_clip.tif'%spec)\n",
    "(upper_left_x, x_size, x_rotation, upper_left_y, y_rotation, y_size) = r.GetGeoTransform()\n",
    "x_coords = x_index * x_size + upper_left_x + (x_size / 2) #add half the cell size\n",
    "y_coords = y_index * y_size + upper_left_y + (y_size / 2) #to centre the point\n",
    "\n",
    "\n",
    "lon_lat_array=np.stack((x_coords,y_coords)).T\n",
    "\n",
    "random_sample_size=int(len(presence_data))\n",
    "random_sample_lon_lats=lon_lat_array[np.random.choice(lon_lat_array.shape[0], random_sample_size, replace=False), :] #first did 10.000 now equal to n presences\n",
    "print(len(random_sample_lon_lats), \"number of pseudo absences\")\n",
    "\n",
    "#Add random points to dataset\n",
    "lon=[]\n",
    "lat=[]\n",
    "psa=[0]*10000\n",
    "taxon=[\"%s\"%spec]*10000\n",
    "gbif=[\"no_id\"]*10000\n",
    "\n",
    "for item in random_sample_lon_lats:\n",
    "    longitude=item[0]\n",
    "    latitude=item[1]\n",
    "    lon.append(longitude)\n",
    "    lat.append(latitude)\n",
    "    \n",
    "###Dataset including 10.000 pseudo-absence points for capriolus capriolus\n",
    "new_data=pd.DataFrame({\"gbif_id\": gbif,\"taxon_name\":taxon,\"decimal_longitude\": lon, \"decimal_latitude\":lat, \"present/pseudo_absent\": psa})\n",
    "data=pd.concat([data,new_data],ignore_index=True)\n",
    "data=data[['taxon_name','gbif_id','decimal_longitude','decimal_latitude','present/pseudo_absent']]\n",
    "print(len(data),\"lenght data with pseudo absences\")\n",
    "data.to_csv(file_dir + \"/data/capriolus_trial/Capriolus_capriolus_occ_dataframe.csv\")\n",
    "\n",
    "###Dataset including all locations with data-values (to later predict presence-pseudoabsence on)\n",
    "src=rasterio.open(r'C:/Users/M-RAM/PycharmProjects/InternshipNaturalis/trait-geo-diverse-dl/data/GIS/spec_stacked_raster_clip/%s_raster_clip.tif'%spec)\n",
    "array=src.read_masks(1)\n",
    "\n",
    "r = gdal.Open(r'C:/Users/M-RAM/PycharmProjects/InternshipNaturalis/trait-geo-diverse-dl/data/GIS/spec_stacked_raster_clip/%s_raster_clip.tif'%spec)\n",
    "(y_index, x_index) = np.nonzero(array > 0)\n",
    "(upper_left_x, x_size, x_rotation, upper_left_y, y_rotation, y_size) = r.GetGeoTransform()\n",
    "x_coords = x_index * x_size + upper_left_x + (x_size / 2) #add half the cell size\n",
    "y_coords = y_index * y_size + upper_left_y + (y_size / 2) #to centre the point\n",
    "\n",
    "lon_lat_array=np.stack((x_coords,y_coords)).T\n",
    "\n",
    "lon=[]\n",
    "lat=[]\n",
    "\n",
    "for item in lon_lat_array:\n",
    "    longitude=item[0]\n",
    "    latitude=item[1]\n",
    "    lon.append(longitude)\n",
    "    lat.append(latitude)\n",
    "\n",
    "taxon=[\"%s\"%spec]*len(lon)\n",
    "\n",
    "data_to_pred=pd.DataFrame({\"taxon_name\":taxon, \"decimal_longitude\":lon,\"decimal_latitude\":lat})\n",
    "print(len(data_to_pred), \"number of points to predict\")\n",
    "data_to_pred.to_csv(file_dir + \"/data/capriolus_trial/Capriolus_capriolus_location_to_predict.csv\")\n"
   ]
  },
  {
   "cell_type": "code",
   "execution_count": null,
   "metadata": {},
   "outputs": [],
   "source": [
    "###TRIAL"
   ]
  },
  {
   "cell_type": "code",
   "execution_count": null,
   "metadata": {},
   "outputs": [],
   "source": [
    "data=pd.read_csv(file_dir + \"/data/capriolus_trial/Capriolus_capriolus_occ_dataframe.csv\")\n",
    "print(len(data))\n",
    "\n",
    "data_to_pred=pd.read_csv(file_dir + \"/data/capriolus_trial/Capriolus_capriolus_location_to_predict.csv\")\n",
    "print(len(data_to_pred))\n"
   ]
  },
  {
   "cell_type": "code",
   "execution_count": null,
   "metadata": {},
   "outputs": [],
   "source": [
    "data_pred=pd.read_csv(file_dir + \"/data/capriolus_trial/Capriolus_capriolus_location_to_predict.csv\")\n",
    "data_pred"
   ]
  },
  {
   "cell_type": "code",
   "execution_count": null,
   "metadata": {},
   "outputs": [],
   "source": [
    "#check result\n",
    "data=pd.read_csv(file_dir + \"/data/capriolus_trial/Capriolus_capriolus_occ_dataframe.csv\")\n",
    "data"
   ]
  },
  {
   "cell_type": "markdown",
   "metadata": {},
   "source": [
    "#### Part 3\n",
    "- Now we have to extract the environmental variable values for all the points in the dataset"
   ]
  },
  {
   "cell_type": "code",
   "execution_count": null,
   "metadata": {},
   "outputs": [],
   "source": [
    "#read in data\n",
    "data = pd.read_csv(file_dir + \"/data/capriolus_trial/Capriolus_capriolus_occ_dataframe.csv\")\n",
    "spec = data[\"taxon_name\"][0]\n",
    "spec = spec.replace(\" \",\"_\")\n",
    "# extract longitude and latitude and store them in normal list (as opposed to pandas Series)\n",
    "lon = data[\"decimal_longitude\"]\n",
    "lat = data[\"decimal_latitude\"]\n",
    "lat = pd.Series.tolist(lat)\n",
    "lon = pd.Series.tolist(lon)\n",
    "#print(\"processing species %s\" % spec)"
   ]
  },
  {
   "cell_type": "code",
   "execution_count": null,
   "metadata": {},
   "outputs": [],
   "source": [
    "#read in raster\n",
    "src = rasterio.open(r'C:/Users/M-RAM/PycharmProjects/InternshipNaturalis/trait-geo-diverse-dl/data/GIS/spec_stacked_raster_clip/%s_raster_clip.tif'%spec)\n",
    "show(src.read(1))"
   ]
  },
  {
   "cell_type": "code",
   "execution_count": null,
   "metadata": {},
   "outputs": [],
   "source": [
    "# go through bands iteratively\n",
    "for i in range(1, 42):\n",
    "    array = src.read(i)\n",
    "    band_name = \"band %s\" % i\n",
    "    data[band_name] = None\n",
    "    print(\"processing band %s\" % i)\n",
    "    for j in range(0, len(data)):\n",
    "        print(\"processing observation %s\"%j)\n",
    "        # What is the corresponding row and column in our image?\n",
    "        row, col = src.index(lon[j], lat[j])  # spatial --> image coordinates\n",
    "        # print(f'row,col=\\t\\t({row},{col})')\n",
    "        # What is the value?\n",
    "        value = array[row, col]\n",
    "        data[band_name][j] = value\n",
    "data.to_csv(file_dir + \"/data/capriolus_trial/Capriolus_capriolus_env_dataframe.csv\" % spec)"
   ]
  },
  {
   "cell_type": "markdown",
   "metadata": {},
   "source": [
    "Change column names"
   ]
  },
  {
   "cell_type": "code",
   "execution_count": null,
   "metadata": {},
   "outputs": [],
   "source": [
    "#Make a list of column names (first name should be empty for looping later)\n",
    "list_env_bands=[\"Empty\",\"Aspect\",\"Bulk_Density\",\"Clay_Percentage\",\"Annual_PET\",\"Aridity_Index_Thornthwaite\",\"Moisture_Index\",\"Continentality\",\"Emberger_Q\",\"Growing_Deg_Days0\",\"Growing_Deg_Days5\",\"Max_Temp_Coldest\",\"Min_Temp_Warmest\",\"Month_Count_by_Temp\",\"PET_Coldest_Quarter\",\"PET_Driest_Quarter\",\"PET_Seasonality\",\"PET_Warmest_Quarter\",\"PET_Wettest_Quarter\",\"Thermicity_Index\",\"Organic_Carbon\",\"PhCaCL\",\"Slope\"]\n",
    "list_bioclim_bands=[\"Annual_Mean_Temperature\",\"Mean_Diurnal_Temp_Range\",\"Isothermality\",\"Temperature_Seasonality\",\"Max_Temp_Warmest_Month\",\"Min_Temp_Coldest_Month\",\"Temp_Annual_Range\",\"Mean_Temp_Wettest_Quarter\",\"Mean_Temp_Driest_Quarter\",\"Mean_Temp_Warmest_Quarter\",\"Mean_Temp_Coldest_Quarter\",\"Annual_Precipitation\",\"Precipitation_Wettest_Month\",\"Precipitation_Driest_Month\",\"Precipitation_Seasonality\",\"Precipitation_Wettest_Quarter\",\"Precipitation_Driest_Quarter\",\"Precipitation_Warmest_Quarter\",\"Precipitation_Coldest_Quarter\"]\n",
    "list_band_names=list_env_bands+list_bioclim_bands"
   ]
  },
  {
   "cell_type": "code",
   "execution_count": null,
   "metadata": {},
   "outputs": [],
   "source": [
    "#read in data\n",
    "data_cap=pd.read_csv(file_dir + \"/data/capriolus_trial/Capriolus_capriolus_env_dataframe.csv\")\n",
    "#rename the columns\n",
    "for i in range(1,42):\n",
    "    data_cap.rename(columns={'band %s'%i: list_band_names[i]}, inplace=True)\n",
    "#inspect\n",
    "data_cap.head()"
   ]
  },
  {
   "cell_type": "code",
   "execution_count": null,
   "metadata": {},
   "outputs": [],
   "source": [
    "#write to csv if correct\n",
    "data_cap.to_csv(file_dir + \"/data/capriolus_trial/Capriolus_capriolus_env_dataframe.csv\")"
   ]
  },
  {
   "cell_type": "markdown",
   "metadata": {},
   "source": [
    "Extract Cell information for all cells within Roe deer buffer that contain data (excluding the sea)"
   ]
  },
  {
   "cell_type": "code",
   "execution_count": null,
   "metadata": {},
   "outputs": [],
   "source": [
    "#read in data\n",
    "data = pd.read_csv(file_dir + \"/data/capriolus_trial/Capriolus_capriolus_location_to_predict_env.csv\")\n",
    "\n",
    "spec = data[\"taxon_name\"][0]\n",
    "spec = spec.replace(\" \",\"_\")\n",
    "# extract longitude and latitude and store them in normal list (as opposed to pandas Series)\n",
    "lon = data[\"decimal_longitude\"]\n",
    "lat = data[\"decimal_latitude\"]\n",
    "lat = pd.Series.tolist(lat)\n",
    "lon = pd.Series.tolist(lon)\n",
    "#print(\"processing species %s\" % spec)\n",
    "\n",
    "#read in raster\n",
    "src = rasterio.open(r'C:/Users/M-RAM/PycharmProjects/InternshipNaturalis/trait-geo-diverse-dl/data/GIS/spec_stacked_raster_clip/%s_raster_clip.tif'%spec)\n",
    "\n",
    "# go through bands iteratively\n",
    "for i in range(1, 42): ##\n",
    "    array = src.read(i)\n",
    "    band_name = \"band %s\" % i\n",
    "    data[band_name] = None\n",
    "    print(\"processing band %s\" % i)\n",
    "    for j in range(0, len(data)):\n",
    "        #print(\"processing observation %s\"%j)\n",
    "        # What is the corresponding row and column in our image?\n",
    "        row, col = src.index(lon[j], lat[j])  # spatial --> image coordinates\n",
    "        # print(f'row,col=\\t\\t({row},{col})')\n",
    "        # What is the value?\n",
    "        value = array[row, col]\n",
    "        data[band_name][j] = value\n",
    "    data.to_csv(file_dir + \"/data/capriolus_trial/Capriolus_capriolus_location_to_predict_env.csv\")\n",
    "data.to_csv(file_dir + \"/data/capriolus_trial/Capriolus_capriolus_location_to_predict_env.csv\")"
   ]
  },
  {
   "cell_type": "code",
   "execution_count": null,
   "metadata": {},
   "outputs": [],
   "source": []
  }
 ],
 "metadata": {
  "kernelspec": {
   "display_name": "Python 3",
   "language": "python",
   "name": "python3"
  },
  "language_info": {
   "codemirror_mode": {
    "name": "ipython",
    "version": 3
   },
   "file_extension": ".py",
   "mimetype": "text/x-python",
   "name": "python",
   "nbconvert_exporter": "python",
   "pygments_lexer": "ipython3",
   "version": "3.6.7"
  }
 },
 "nbformat": 4,
 "nbformat_minor": 2
}
